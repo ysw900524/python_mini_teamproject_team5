{
 "cells": [
  {
   "cell_type": "markdown",
   "metadata": {},
   "source": [
    "# 웹 크롤링 2/2"
   ]
  },
  {
   "cell_type": "markdown",
   "metadata": {},
   "source": [
    "## 웹 자료를 이용한 데이터 분석 2"
   ]
  },
  {
   "cell_type": "code",
   "execution_count": 1,
   "metadata": {},
   "outputs": [],
   "source": [
    "# from images import bigpycraft_bda as bpc\n",
    "# from IPython.display import Image \n",
    "\n",
    "# Image(bpc.BDA_PE_412_1)"
   ]
  },
  {
   "cell_type": "code",
   "execution_count": 2,
   "metadata": {},
   "outputs": [],
   "source": [
    "from bs4 import BeautifulSoup \n",
    "from urllib.request import urlopen\n",
    "\n",
    "import pandas as pd\n",
    "import re"
   ]
  },
  {
   "cell_type": "markdown",
   "metadata": {},
   "source": [
    "\\# 웹 크롤링한 데이터 읽어오기"
   ]
  },
  {
   "cell_type": "code",
   "execution_count": 5,
   "metadata": {},
   "outputs": [
    {
     "data": {
      "text/html": [
       "<div>\n",
       "<style scoped>\n",
       "    .dataframe tbody tr th:only-of-type {\n",
       "        vertical-align: middle;\n",
       "    }\n",
       "\n",
       "    .dataframe tbody tr th {\n",
       "        vertical-align: top;\n",
       "    }\n",
       "\n",
       "    .dataframe thead th {\n",
       "        text-align: right;\n",
       "    }\n",
       "</style>\n",
       "<table border=\"1\" class=\"dataframe\">\n",
       "  <thead>\n",
       "    <tr style=\"text-align: right;\">\n",
       "      <th></th>\n",
       "      <th>Unnamed: 0</th>\n",
       "      <th>Cafe</th>\n",
       "      <th>Menu</th>\n",
       "      <th>URL</th>\n",
       "    </tr>\n",
       "    <tr>\n",
       "      <th>Rank</th>\n",
       "      <th></th>\n",
       "      <th></th>\n",
       "      <th></th>\n",
       "      <th></th>\n",
       "    </tr>\n",
       "  </thead>\n",
       "  <tbody>\n",
       "    <tr>\n",
       "      <th>1</th>\n",
       "      <td>0</td>\n",
       "      <td>Old Oak Tap</td>\n",
       "      <td>BLT</td>\n",
       "      <td>http://www.chicagomag.com/Chicago-Magazine/Nov...</td>\n",
       "    </tr>\n",
       "    <tr>\n",
       "      <th>2</th>\n",
       "      <td>1</td>\n",
       "      <td>Au Cheval</td>\n",
       "      <td>Fried Bologna</td>\n",
       "      <td>http://www.chicagomag.com/Chicago-Magazine/Nov...</td>\n",
       "    </tr>\n",
       "    <tr>\n",
       "      <th>3</th>\n",
       "      <td>2</td>\n",
       "      <td>Xoco</td>\n",
       "      <td>Woodland Mushroom</td>\n",
       "      <td>http://www.chicagomag.com/Chicago-Magazine/Nov...</td>\n",
       "    </tr>\n",
       "    <tr>\n",
       "      <th>4</th>\n",
       "      <td>3</td>\n",
       "      <td>Al’s Deli</td>\n",
       "      <td>Roast Beef</td>\n",
       "      <td>http://www.chicagomag.com/Chicago-Magazine/Nov...</td>\n",
       "    </tr>\n",
       "    <tr>\n",
       "      <th>5</th>\n",
       "      <td>4</td>\n",
       "      <td>Publican Quality Meats</td>\n",
       "      <td>PB&amp;L</td>\n",
       "      <td>http://www.chicagomag.com/Chicago-Magazine/Nov...</td>\n",
       "    </tr>\n",
       "  </tbody>\n",
       "</table>\n",
       "</div>"
      ],
      "text/plain": [
       "      Unnamed: 0                    Cafe               Menu  \\\n",
       "Rank                                                          \n",
       "1              0             Old Oak Tap                BLT   \n",
       "2              1               Au Cheval      Fried Bologna   \n",
       "3              2                    Xoco  Woodland Mushroom   \n",
       "4              3               Al’s Deli         Roast Beef   \n",
       "5              4  Publican Quality Meats               PB&L   \n",
       "\n",
       "                                                    URL  \n",
       "Rank                                                     \n",
       "1     http://www.chicagomag.com/Chicago-Magazine/Nov...  \n",
       "2     http://www.chicagomag.com/Chicago-Magazine/Nov...  \n",
       "3     http://www.chicagomag.com/Chicago-Magazine/Nov...  \n",
       "4     http://www.chicagomag.com/Chicago-Magazine/Nov...  \n",
       "5     http://www.chicagomag.com/Chicago-Magazine/Nov...  "
      ]
     },
     "execution_count": 5,
     "metadata": {},
     "output_type": "execute_result"
    }
   ],
   "source": [
    "# df = pd.read_csv('data/exam-WebParsing.csv')       \n",
    "df = pd.read_csv('data/chicagomag_info.csv', index_col='Rank')\n",
    "df.head()"
   ]
  },
  {
   "cell_type": "code",
   "execution_count": 8,
   "metadata": {},
   "outputs": [
    {
     "ename": "KeyError",
     "evalue": "'Unnamed: 0'",
     "output_type": "error",
     "traceback": [
      "\u001b[1;31m---------------------------------------------------------------------------\u001b[0m",
      "\u001b[1;31mKeyError\u001b[0m                                  Traceback (most recent call last)",
      "\u001b[1;32mC:\\Python\\Anaconda3-52\\lib\\site-packages\\pandas\\core\\indexes\\base.py\u001b[0m in \u001b[0;36mget_loc\u001b[1;34m(self, key, method, tolerance)\u001b[0m\n\u001b[0;32m   3062\u001b[0m             \u001b[1;32mtry\u001b[0m\u001b[1;33m:\u001b[0m\u001b[1;33m\u001b[0m\u001b[0m\n\u001b[1;32m-> 3063\u001b[1;33m                 \u001b[1;32mreturn\u001b[0m \u001b[0mself\u001b[0m\u001b[1;33m.\u001b[0m\u001b[0m_engine\u001b[0m\u001b[1;33m.\u001b[0m\u001b[0mget_loc\u001b[0m\u001b[1;33m(\u001b[0m\u001b[0mkey\u001b[0m\u001b[1;33m)\u001b[0m\u001b[1;33m\u001b[0m\u001b[0m\n\u001b[0m\u001b[0;32m   3064\u001b[0m             \u001b[1;32mexcept\u001b[0m \u001b[0mKeyError\u001b[0m\u001b[1;33m:\u001b[0m\u001b[1;33m\u001b[0m\u001b[0m\n",
      "\u001b[1;32mpandas\\_libs\\index.pyx\u001b[0m in \u001b[0;36mpandas._libs.index.IndexEngine.get_loc\u001b[1;34m()\u001b[0m\n",
      "\u001b[1;32mpandas\\_libs\\index.pyx\u001b[0m in \u001b[0;36mpandas._libs.index.IndexEngine.get_loc\u001b[1;34m()\u001b[0m\n",
      "\u001b[1;32mpandas\\_libs\\hashtable_class_helper.pxi\u001b[0m in \u001b[0;36mpandas._libs.hashtable.PyObjectHashTable.get_item\u001b[1;34m()\u001b[0m\n",
      "\u001b[1;32mpandas\\_libs\\hashtable_class_helper.pxi\u001b[0m in \u001b[0;36mpandas._libs.hashtable.PyObjectHashTable.get_item\u001b[1;34m()\u001b[0m\n",
      "\u001b[1;31mKeyError\u001b[0m: 'Unnamed: 0'",
      "\nDuring handling of the above exception, another exception occurred:\n",
      "\u001b[1;31mKeyError\u001b[0m                                  Traceback (most recent call last)",
      "\u001b[1;32m<ipython-input-8-c5bd25e80779>\u001b[0m in \u001b[0;36m<module>\u001b[1;34m()\u001b[0m\n\u001b[0;32m      1\u001b[0m \u001b[1;31m# index_col='Unnamed: 0'') 삭제\u001b[0m\u001b[1;33m\u001b[0m\u001b[1;33m\u001b[0m\u001b[0m\n\u001b[1;32m----> 2\u001b[1;33m \u001b[1;32mdel\u001b[0m \u001b[0mdf\u001b[0m\u001b[1;33m[\u001b[0m\u001b[1;34m'Unnamed: 0'\u001b[0m\u001b[1;33m]\u001b[0m\u001b[1;33m\u001b[0m\u001b[0m\n\u001b[0m\u001b[0;32m      3\u001b[0m \u001b[0mdf\u001b[0m\u001b[1;33m.\u001b[0m\u001b[0mhead\u001b[0m\u001b[1;33m(\u001b[0m\u001b[1;33m)\u001b[0m\u001b[1;33m\u001b[0m\u001b[0m\n",
      "\u001b[1;32mC:\\Python\\Anaconda3-52\\lib\\site-packages\\pandas\\core\\generic.py\u001b[0m in \u001b[0;36m__delitem__\u001b[1;34m(self, key)\u001b[0m\n\u001b[0;32m   2738\u001b[0m             \u001b[1;31m# there was no match, this call should raise the appropriate\u001b[0m\u001b[1;33m\u001b[0m\u001b[1;33m\u001b[0m\u001b[0m\n\u001b[0;32m   2739\u001b[0m             \u001b[1;31m# exception:\u001b[0m\u001b[1;33m\u001b[0m\u001b[1;33m\u001b[0m\u001b[0m\n\u001b[1;32m-> 2740\u001b[1;33m             \u001b[0mself\u001b[0m\u001b[1;33m.\u001b[0m\u001b[0m_data\u001b[0m\u001b[1;33m.\u001b[0m\u001b[0mdelete\u001b[0m\u001b[1;33m(\u001b[0m\u001b[0mkey\u001b[0m\u001b[1;33m)\u001b[0m\u001b[1;33m\u001b[0m\u001b[0m\n\u001b[0m\u001b[0;32m   2741\u001b[0m \u001b[1;33m\u001b[0m\u001b[0m\n\u001b[0;32m   2742\u001b[0m         \u001b[1;31m# delete from the caches\u001b[0m\u001b[1;33m\u001b[0m\u001b[1;33m\u001b[0m\u001b[0m\n",
      "\u001b[1;32mC:\\Python\\Anaconda3-52\\lib\\site-packages\\pandas\\core\\internals.py\u001b[0m in \u001b[0;36mdelete\u001b[1;34m(self, item)\u001b[0m\n\u001b[0;32m   4172\u001b[0m         \u001b[0mDelete\u001b[0m \u001b[0mselected\u001b[0m \u001b[0mitem\u001b[0m \u001b[1;33m(\u001b[0m\u001b[0mitems\u001b[0m \u001b[1;32mif\u001b[0m \u001b[0mnon\u001b[0m\u001b[1;33m-\u001b[0m\u001b[0munique\u001b[0m\u001b[1;33m)\u001b[0m \u001b[1;32min\u001b[0m\u001b[1;33m-\u001b[0m\u001b[0mplace\u001b[0m\u001b[1;33m.\u001b[0m\u001b[1;33m\u001b[0m\u001b[0m\n\u001b[0;32m   4173\u001b[0m         \"\"\"\n\u001b[1;32m-> 4174\u001b[1;33m         \u001b[0mindexer\u001b[0m \u001b[1;33m=\u001b[0m \u001b[0mself\u001b[0m\u001b[1;33m.\u001b[0m\u001b[0mitems\u001b[0m\u001b[1;33m.\u001b[0m\u001b[0mget_loc\u001b[0m\u001b[1;33m(\u001b[0m\u001b[0mitem\u001b[0m\u001b[1;33m)\u001b[0m\u001b[1;33m\u001b[0m\u001b[0m\n\u001b[0m\u001b[0;32m   4175\u001b[0m \u001b[1;33m\u001b[0m\u001b[0m\n\u001b[0;32m   4176\u001b[0m         \u001b[0mis_deleted\u001b[0m \u001b[1;33m=\u001b[0m \u001b[0mnp\u001b[0m\u001b[1;33m.\u001b[0m\u001b[0mzeros\u001b[0m\u001b[1;33m(\u001b[0m\u001b[0mself\u001b[0m\u001b[1;33m.\u001b[0m\u001b[0mshape\u001b[0m\u001b[1;33m[\u001b[0m\u001b[1;36m0\u001b[0m\u001b[1;33m]\u001b[0m\u001b[1;33m,\u001b[0m \u001b[0mdtype\u001b[0m\u001b[1;33m=\u001b[0m\u001b[0mnp\u001b[0m\u001b[1;33m.\u001b[0m\u001b[0mbool_\u001b[0m\u001b[1;33m)\u001b[0m\u001b[1;33m\u001b[0m\u001b[0m\n",
      "\u001b[1;32mC:\\Python\\Anaconda3-52\\lib\\site-packages\\pandas\\core\\indexes\\base.py\u001b[0m in \u001b[0;36mget_loc\u001b[1;34m(self, key, method, tolerance)\u001b[0m\n\u001b[0;32m   3063\u001b[0m                 \u001b[1;32mreturn\u001b[0m \u001b[0mself\u001b[0m\u001b[1;33m.\u001b[0m\u001b[0m_engine\u001b[0m\u001b[1;33m.\u001b[0m\u001b[0mget_loc\u001b[0m\u001b[1;33m(\u001b[0m\u001b[0mkey\u001b[0m\u001b[1;33m)\u001b[0m\u001b[1;33m\u001b[0m\u001b[0m\n\u001b[0;32m   3064\u001b[0m             \u001b[1;32mexcept\u001b[0m \u001b[0mKeyError\u001b[0m\u001b[1;33m:\u001b[0m\u001b[1;33m\u001b[0m\u001b[0m\n\u001b[1;32m-> 3065\u001b[1;33m                 \u001b[1;32mreturn\u001b[0m \u001b[0mself\u001b[0m\u001b[1;33m.\u001b[0m\u001b[0m_engine\u001b[0m\u001b[1;33m.\u001b[0m\u001b[0mget_loc\u001b[0m\u001b[1;33m(\u001b[0m\u001b[0mself\u001b[0m\u001b[1;33m.\u001b[0m\u001b[0m_maybe_cast_indexer\u001b[0m\u001b[1;33m(\u001b[0m\u001b[0mkey\u001b[0m\u001b[1;33m)\u001b[0m\u001b[1;33m)\u001b[0m\u001b[1;33m\u001b[0m\u001b[0m\n\u001b[0m\u001b[0;32m   3066\u001b[0m \u001b[1;33m\u001b[0m\u001b[0m\n\u001b[0;32m   3067\u001b[0m         \u001b[0mindexer\u001b[0m \u001b[1;33m=\u001b[0m \u001b[0mself\u001b[0m\u001b[1;33m.\u001b[0m\u001b[0mget_indexer\u001b[0m\u001b[1;33m(\u001b[0m\u001b[1;33m[\u001b[0m\u001b[0mkey\u001b[0m\u001b[1;33m]\u001b[0m\u001b[1;33m,\u001b[0m \u001b[0mmethod\u001b[0m\u001b[1;33m=\u001b[0m\u001b[0mmethod\u001b[0m\u001b[1;33m,\u001b[0m \u001b[0mtolerance\u001b[0m\u001b[1;33m=\u001b[0m\u001b[0mtolerance\u001b[0m\u001b[1;33m)\u001b[0m\u001b[1;33m\u001b[0m\u001b[0m\n",
      "\u001b[1;32mpandas\\_libs\\index.pyx\u001b[0m in \u001b[0;36mpandas._libs.index.IndexEngine.get_loc\u001b[1;34m()\u001b[0m\n",
      "\u001b[1;32mpandas\\_libs\\index.pyx\u001b[0m in \u001b[0;36mpandas._libs.index.IndexEngine.get_loc\u001b[1;34m()\u001b[0m\n",
      "\u001b[1;32mpandas\\_libs\\hashtable_class_helper.pxi\u001b[0m in \u001b[0;36mpandas._libs.hashtable.PyObjectHashTable.get_item\u001b[1;34m()\u001b[0m\n",
      "\u001b[1;32mpandas\\_libs\\hashtable_class_helper.pxi\u001b[0m in \u001b[0;36mpandas._libs.hashtable.PyObjectHashTable.get_item\u001b[1;34m()\u001b[0m\n",
      "\u001b[1;31mKeyError\u001b[0m: 'Unnamed: 0'"
     ]
    }
   ],
   "source": [
    "# index_col='Unnamed: 0'') 삭제\n",
    "del df['Unnamed: 0']\n",
    "df.head()"
   ]
  },
  {
   "cell_type": "code",
   "execution_count": 9,
   "metadata": {},
   "outputs": [
    {
     "name": "stdout",
     "output_type": "stream",
     "text": [
      "<class 'pandas.core.frame.DataFrame'>\n",
      "Int64Index: 50 entries, 1 to 50\n",
      "Data columns (total 3 columns):\n",
      "Cafe    50 non-null object\n",
      "Menu    50 non-null object\n",
      "URL     50 non-null object\n",
      "dtypes: object(3)\n",
      "memory usage: 1.6+ KB\n"
     ]
    }
   ],
   "source": [
    "df.info()"
   ]
  },
  {
   "cell_type": "code",
   "execution_count": 10,
   "metadata": {},
   "outputs": [
    {
     "data": {
      "text/plain": [
       "'BLT'"
      ]
     },
     "execution_count": 10,
     "metadata": {},
     "output_type": "execute_result"
    }
   ],
   "source": [
    "df['Menu'][1]"
   ]
  },
  {
   "cell_type": "code",
   "execution_count": 11,
   "metadata": {},
   "outputs": [
    {
     "data": {
      "text/plain": [
       "'http://www.chicagomag.com/Chicago-Magazine/November-2012/Best-Sandwiches-in-Chicago-Old-Oak-Tap-BLT/'"
      ]
     },
     "execution_count": 11,
     "metadata": {},
     "output_type": "execute_result"
    }
   ],
   "source": [
    "df['URL'][1]"
   ]
  },
  {
   "cell_type": "markdown",
   "metadata": {},
   "source": [
    "### \\# 첫번째 URL 페이지 크롤링하기"
   ]
  },
  {
   "cell_type": "code",
   "execution_count": 14,
   "metadata": {},
   "outputs": [
    {
     "data": {
      "text/plain": [
       "<title>\n",
       "  1. Old Oak Tap BLT |\n",
       "  Chicago magazine\n",
       "      |  November 2012\n",
       "    </title>"
      ]
     },
     "execution_count": 14,
     "metadata": {},
     "output_type": "execute_result"
    }
   ],
   "source": [
    "html = urlopen(df['URL'][1])\n",
    "soup = BeautifulSoup(html, \"lxml\")\n",
    "soup.title\n",
    "# type(soup)"
   ]
  },
  {
   "cell_type": "code",
   "execution_count": 15,
   "metadata": {},
   "outputs": [
    {
     "data": {
      "text/plain": [
       "<p class=\"addy\">\n",
       "<em>$10. 2109 W. Chicago Ave., 773-772-0406, <a href=\"http://www.theoldoaktap.com/\">theoldoaktap.com</a></em></p>"
      ]
     },
     "execution_count": 15,
     "metadata": {},
     "output_type": "execute_result"
    }
   ],
   "source": [
    "soup.find('p', 'addy')"
   ]
  },
  {
   "cell_type": "code",
   "execution_count": 16,
   "metadata": {},
   "outputs": [
    {
     "data": {
      "text/plain": [
       "'\\n$10. 2109 W. Chicago Ave., 773-772-0406, theoldoaktap.com'"
      ]
     },
     "execution_count": 16,
     "metadata": {},
     "output_type": "execute_result"
    }
   ],
   "source": [
    "taginfo = soup.find('p', 'addy').get_text()\n",
    "taginfo"
   ]
  },
  {
   "cell_type": "code",
   "execution_count": 17,
   "metadata": {},
   "outputs": [
    {
     "data": {
      "text/plain": [
       "'$10. 2109 W. Chicago Ave., 773-772-0406, theoldoaktap.com'"
      ]
     },
     "execution_count": 17,
     "metadata": {},
     "output_type": "execute_result"
    }
   ],
   "source": [
    "taginfo = taginfo[taginfo.find('$'):]\n",
    "taginfo"
   ]
  },
  {
   "cell_type": "markdown",
   "metadata": {},
   "source": [
    "### Regular Expression 관련 사이트\n",
    "- http://regexr.com/ : text 정보를 re로 테스트\n",
    "- https://regexper.com/ : 작성된 re를 다이어그램으로 표현"
   ]
  },
  {
   "cell_type": "code",
   "execution_count": 18,
   "metadata": {},
   "outputs": [
    {
     "data": {
      "text/plain": [
       "'$10.'"
      ]
     },
     "execution_count": 18,
     "metadata": {},
     "output_type": "execute_result"
    }
   ],
   "source": [
    "price = re.search('\\$\\d+\\.(\\d+)?', taginfo).group()\n",
    "price"
   ]
  },
  {
   "cell_type": "code",
   "execution_count": 19,
   "metadata": {},
   "outputs": [],
   "source": [
    "address = '일단 보류'     # Street, City"
   ]
  },
  {
   "cell_type": "code",
   "execution_count": 20,
   "metadata": {},
   "outputs": [
    {
     "data": {
      "text/plain": [
       "'773-772-0406'"
      ]
     },
     "execution_count": 20,
     "metadata": {},
     "output_type": "execute_result"
    }
   ],
   "source": [
    "phone = re.search('\\d{3}[-]\\d{3}[-]\\d{4}', taginfo)\n",
    "if phone is not None:\n",
    "    phone = phone.group()\n",
    "phone"
   ]
  },
  {
   "cell_type": "code",
   "execution_count": 22,
   "metadata": {},
   "outputs": [
    {
     "data": {
      "text/plain": [
       "'theoldoaktap.com'"
      ]
     },
     "execution_count": 22,
     "metadata": {},
     "output_type": "execute_result"
    }
   ],
   "source": [
    "infolist = taginfo.split(', ')\n",
    "if infolist[-1].endswith('.com') or infolist[-1].endswith('.net'):\n",
    "    homepage = infolist[-1]\n",
    "else:\n",
    "    homepage = 'No Homepage'\n",
    "homepage"
   ]
  },
  {
   "cell_type": "code",
   "execution_count": 23,
   "metadata": {},
   "outputs": [
    {
     "data": {
      "text/plain": [
       "' 2109 W. Chicago Ave., '"
      ]
     },
     "execution_count": 23,
     "metadata": {},
     "output_type": "execute_result"
    }
   ],
   "source": [
    "start = len(price)\n",
    "if phone is None:\n",
    "    phone = 'No Contact'\n",
    "    end = taginfo.find(homepage)\n",
    "else:\n",
    "    end = taginfo.find(phone)\n",
    "    \n",
    "address = taginfo[start:end]\n",
    "address"
   ]
  },
  {
   "cell_type": "markdown",
   "metadata": {},
   "source": [
    "### \\# 상위 TOP3 페이지에서 가격과 주소정보만 읽어오기"
   ]
  },
  {
   "cell_type": "code",
   "execution_count": 24,
   "metadata": {},
   "outputs": [
    {
     "name": "stdout",
     "output_type": "stream",
     "text": [
      "1\n",
      "2\n",
      "3\n",
      "4\n",
      "5\n"
     ]
    }
   ],
   "source": [
    "Price = []\n",
    "Address = []\n",
    "Phone = []\n",
    "Homepage = []\n",
    "\n",
    "for n in [1,2,3,4,5]:\n",
    "    html = urlopen(df['URL'][n])\n",
    "    soup = BeautifulSoup(html, 'lxml')\n",
    "    \n",
    "    taginfo = soup.find('p', 'addy').get_text()\n",
    "    taginfo = taginfo[taginfo.find('$'):]\n",
    "    \n",
    "    price = re.search('\\$\\d+\\.(\\d+)?', taginfo).group()\n",
    "    \n",
    "    address = '일단보류'   #Street, City\n",
    "    \n",
    "    phone = re.search('\\d{3}[-]\\d{3}[-]\\d{4}', taginfo)\n",
    "    if phone is not None:\n",
    "        phone = phone.group()    \n",
    "        \n",
    "    infolist = taginfo.split(', ')\n",
    "    if infolist[-1].endswith('.com') or infolist[-1].endswith('.net'):\n",
    "        homepage = infolist[-1]\n",
    "    else:\n",
    "        homepage = 'No Homepage'\n",
    "        \n",
    "    start = len(price)\n",
    "    if phone is None:\n",
    "        phone = 'No Contact'\n",
    "        end = taginfo.find(homepage)\n",
    "    else:\n",
    "        end = taginfo.find(phone)\n",
    "\n",
    "    address = taginfo[start:end] \n",
    "    \n",
    "    Price.append(price)\n",
    "    Address.append(address)\n",
    "    Phone.append(phone)\n",
    "    Homepage.append(homepage)\n",
    "    \n",
    "    print(n)\n"
   ]
  },
  {
   "cell_type": "code",
   "execution_count": 25,
   "metadata": {},
   "outputs": [
    {
     "data": {
      "text/plain": [
       "['$10.', '$9.', '$9.50', '$9.40', '$10.']"
      ]
     },
     "execution_count": 25,
     "metadata": {},
     "output_type": "execute_result"
    }
   ],
   "source": [
    "Price"
   ]
  },
  {
   "cell_type": "code",
   "execution_count": 26,
   "metadata": {},
   "outputs": [
    {
     "data": {
      "text/plain": [
       "[' 2109 W. Chicago Ave., ',\n",
       " ' 800 W. Randolph St., ',\n",
       " '. 445 N. Clark St., ',\n",
       " '. 914 Noyes St., Evanston, ',\n",
       " ' 825 W. Fulton Mkt., ']"
      ]
     },
     "execution_count": 26,
     "metadata": {},
     "output_type": "execute_result"
    }
   ],
   "source": [
    "Address"
   ]
  },
  {
   "cell_type": "code",
   "execution_count": 27,
   "metadata": {},
   "outputs": [
    {
     "data": {
      "text/plain": [
       "['773-772-0406',\n",
       " '312-929-4580',\n",
       " '312-334-3688',\n",
       " '847-475-9400',\n",
       " '312-445-8977']"
      ]
     },
     "execution_count": 27,
     "metadata": {},
     "output_type": "execute_result"
    }
   ],
   "source": [
    "Phone"
   ]
  },
  {
   "cell_type": "code",
   "execution_count": 28,
   "metadata": {},
   "outputs": [
    {
     "data": {
      "text/plain": [
       "['theoldoaktap.com',\n",
       " 'aucheval.tumblr.com',\n",
       " 'rickbayless.com',\n",
       " 'alsdeli.net',\n",
       " 'publicanqualitymeats.com']"
      ]
     },
     "execution_count": 28,
     "metadata": {},
     "output_type": "execute_result"
    }
   ],
   "source": [
    "Homepage"
   ]
  },
  {
   "cell_type": "code",
   "execution_count": 30,
   "metadata": {},
   "outputs": [
    {
     "data": {
      "text/plain": [
       "'$10'"
      ]
     },
     "execution_count": 30,
     "metadata": {},
     "output_type": "execute_result"
    }
   ],
   "source": [
    "price = Price[0]\n",
    "if price.endswith('.'):\n",
    "    price = price[:-1]\n",
    "price"
   ]
  },
  {
   "cell_type": "code",
   "execution_count": 31,
   "metadata": {},
   "outputs": [
    {
     "data": {
      "text/plain": [
       "'445 N. Clark St.'"
      ]
     },
     "execution_count": 31,
     "metadata": {},
     "output_type": "execute_result"
    }
   ],
   "source": [
    "address = Address[2]\n",
    "address = address[:-2]\n",
    "if address.startswith('.'):\n",
    "    address = address[1:]\n",
    "address = address.strip()\n",
    "address"
   ]
  },
  {
   "cell_type": "markdown",
   "metadata": {},
   "source": [
    "### \\# 가격과 주소정보를 수정보완"
   ]
  },
  {
   "cell_type": "code",
   "execution_count": 32,
   "metadata": {},
   "outputs": [
    {
     "name": "stdout",
     "output_type": "stream",
     "text": [
      "1\n",
      "2\n",
      "3\n",
      "4\n",
      "5\n"
     ]
    }
   ],
   "source": [
    "Price = []\n",
    "Address = []\n",
    "Phone = []\n",
    "Homepage = []\n",
    "\n",
    "for n in [1,2,3,4,5]:   \n",
    "    html = urlopen(df['URL'][n])\n",
    "    soup = BeautifulSoup(html, 'lxml')\n",
    "    \n",
    "    taginfo = soup.find('p', 'addy').get_text()\n",
    "    taginfo = taginfo[taginfo.find('$'):]\n",
    "    \n",
    "    price = re.search('\\$\\d+\\.(\\d+)?', taginfo).group()\n",
    "    # price update\n",
    "    if price.endswith('.'):\n",
    "        price = price[:-1]\n",
    "        \n",
    "    address = '일단보류'    # Street, City\n",
    "    \n",
    "    phone = re.search('\\d{3}[-]\\d{3}[-]\\d{4}', taginfo)\n",
    "    if phone is not None:\n",
    "        phone = phone.group()    \n",
    "        \n",
    "    infolist = taginfo.split(', ')\n",
    "    if infolist[-1].endswith('.com') or infolist[-1].endswith('.net'):\n",
    "        homepage = infolist[-1]\n",
    "    else:\n",
    "        homepage = 'No Homepage'\n",
    "\n",
    "    start = len(price)\n",
    "    if phone is None:\n",
    "        phone = 'No Contact'\n",
    "        end = taginfo.find(homepage)\n",
    "    else:\n",
    "        end = taginfo.find(phone)\n",
    "\n",
    "    address = taginfo[start:end] \n",
    "    # address update\n",
    "    address = address[:-2]\n",
    "    if address.startswith('.'):\n",
    "        address = address[1:]\n",
    "    address = address.strip()\n",
    "    \n",
    "    Price.append(price)\n",
    "    Address.append(address)\n",
    "    Phone.append(phone)\n",
    "    Homepage.append(homepage)\n",
    "    \n",
    "    print(n)"
   ]
  },
  {
   "cell_type": "code",
   "execution_count": 33,
   "metadata": {},
   "outputs": [
    {
     "data": {
      "text/plain": [
       "['$10', '$9', '$9.50', '$9.40', '$10']"
      ]
     },
     "execution_count": 33,
     "metadata": {},
     "output_type": "execute_result"
    }
   ],
   "source": [
    "Price"
   ]
  },
  {
   "cell_type": "code",
   "execution_count": 34,
   "metadata": {},
   "outputs": [
    {
     "data": {
      "text/plain": [
       "['2109 W. Chicago Ave.',\n",
       " '800 W. Randolph St.',\n",
       " '445 N. Clark St.',\n",
       " '914 Noyes St., Evanston',\n",
       " '825 W. Fulton Mkt.']"
      ]
     },
     "execution_count": 34,
     "metadata": {},
     "output_type": "execute_result"
    }
   ],
   "source": [
    "Address"
   ]
  },
  {
   "cell_type": "markdown",
   "metadata": {},
   "source": [
    "### \\# 만약 문제가 없다면, 전체 정보를 한번에 다 가져오기"
   ]
  },
  {
   "cell_type": "code",
   "execution_count": 35,
   "metadata": {},
   "outputs": [
    {
     "name": "stdout",
     "output_type": "stream",
     "text": [
      "webpage crawling...1\n",
      "webpage crawling...2\n",
      "webpage crawling...3\n",
      "webpage crawling...4\n",
      "webpage crawling...5\n",
      "webpage crawling...6\n",
      "webpage crawling...7\n",
      "webpage crawling...8\n",
      "webpage crawling...9\n",
      "webpage crawling...10\n",
      "webpage crawling...11\n",
      "webpage crawling...12\n",
      "webpage crawling...13\n",
      "webpage crawling...14\n",
      "webpage crawling...15\n",
      "webpage crawling...16\n",
      "webpage crawling...17\n",
      "webpage crawling...18\n",
      "webpage crawling...19\n",
      "webpage crawling...20\n",
      "webpage crawling...21\n",
      "webpage crawling...22\n",
      "webpage crawling...23\n",
      "webpage crawling...24\n",
      "webpage crawling...25\n",
      "webpage crawling...26\n",
      "webpage crawling...27\n",
      "webpage crawling...28\n",
      "webpage crawling...29\n",
      "webpage crawling...30\n",
      "webpage crawling...31\n",
      "webpage crawling...32\n",
      "webpage crawling...33\n",
      "webpage crawling...34\n",
      "webpage crawling...35\n",
      "webpage crawling...36\n",
      "webpage crawling...37\n",
      "webpage crawling...38\n",
      "webpage crawling...39\n",
      "webpage crawling...40\n",
      "webpage crawling...41\n",
      "webpage crawling...42\n",
      "webpage crawling...43\n",
      "webpage crawling...44\n",
      "webpage crawling...45\n",
      "webpage crawling...46\n",
      "webpage crawling...47\n",
      "webpage crawling...48\n",
      "webpage crawling...49\n",
      "webpage crawling...50\n"
     ]
    }
   ],
   "source": [
    "Price    = []\n",
    "Address  = []\n",
    "Phone    = []\n",
    "Homepage = []\n",
    "\n",
    "for n in df.index:\n",
    "    html = urlopen(df['URL'][n])\n",
    "    soup = BeautifulSoup(html, 'lxml')\n",
    "    \n",
    "    taginfo = soup.find('p', 'addy').get_text()\n",
    "    taginfo = taginfo[taginfo.find('$'):]\n",
    "    \n",
    "    price = re.search('\\$\\d+\\.(\\d+)?', taginfo).group()\n",
    "    # price update\n",
    "    if price.endswith('.'):\n",
    "        price = price[:-1]\n",
    "        \n",
    "    address = '일단보류'    # Street, City\n",
    "    \n",
    "    phone = re.search('\\d{3}[-]\\d{3}[-]\\d{4}', taginfo)\n",
    "    if phone is not None:\n",
    "        phone = phone.group()    \n",
    "        \n",
    "    infolist = taginfo.split(', ')\n",
    "    if infolist[-1].endswith('.com') or infolist[-1].endswith('.net'):\n",
    "        homepage = infolist[-1]\n",
    "    else:\n",
    "        homepage = 'No Homepage'\n",
    "\n",
    "    start = len(price)\n",
    "    if phone is None:\n",
    "        phone = 'No Contact'\n",
    "        end = taginfo.find(homepage)\n",
    "    else:\n",
    "        end = taginfo.find(phone)\n",
    "\n",
    "    address = taginfo[start:end] \n",
    "    # address update\n",
    "    address = address[:-2]\n",
    "    if address.startswith('.'):\n",
    "        address = address[1:]\n",
    "    address = address.strip()\n",
    "    \n",
    "    Price.append(price)\n",
    "    Address.append(address)\n",
    "    Phone.append(phone)\n",
    "    Homepage.append(homepage)\n",
    "    \n",
    "    print('webpage crawling...{}'.format(n))"
   ]
  },
  {
   "cell_type": "code",
   "execution_count": 36,
   "metadata": {},
   "outputs": [
    {
     "data": {
      "text/plain": [
       "['$10',\n",
       " '$9',\n",
       " '$9.50',\n",
       " '$9.40',\n",
       " '$10',\n",
       " '$7.25',\n",
       " '$16',\n",
       " '$10',\n",
       " '$9',\n",
       " '$17',\n",
       " '$11',\n",
       " '$5.49',\n",
       " '$14',\n",
       " '$10',\n",
       " '$13',\n",
       " '$4.50',\n",
       " '$11.95',\n",
       " '$11.50',\n",
       " '$6.25',\n",
       " '$15',\n",
       " '$5',\n",
       " '$6',\n",
       " '$8',\n",
       " '$5.99',\n",
       " '$7.52',\n",
       " '$11.95',\n",
       " '$7.50',\n",
       " '$12.95',\n",
       " '$7',\n",
       " '$21',\n",
       " '$9.79',\n",
       " '$9.75',\n",
       " '$13',\n",
       " '$7.95',\n",
       " '$9',\n",
       " '$9',\n",
       " '$8',\n",
       " '$8',\n",
       " '$7',\n",
       " '$6',\n",
       " '$7.25',\n",
       " '$11',\n",
       " '$6',\n",
       " '$9',\n",
       " '$5.49',\n",
       " '$8',\n",
       " '$6.50',\n",
       " '$7.50',\n",
       " '$8.75',\n",
       " '$6.85']"
      ]
     },
     "execution_count": 36,
     "metadata": {},
     "output_type": "execute_result"
    }
   ],
   "source": [
    "Price"
   ]
  },
  {
   "cell_type": "code",
   "execution_count": 37,
   "metadata": {},
   "outputs": [
    {
     "data": {
      "text/plain": [
       "['2109 W. Chicago Ave.',\n",
       " '800 W. Randolph St.',\n",
       " '445 N. Clark St.',\n",
       " '914 Noyes St., Evanston',\n",
       " '825 W. Fulton Mkt.',\n",
       " '100 E. Walton St.',\n",
       " '1639 S. Wabash Ave.',\n",
       " '2211 W. North Ave.',\n",
       " '3619 W. North Ave.',\n",
       " '3267 S. Halsted St.',\n",
       " '2537 N. Kedzie Blvd.',\n",
       " 'Multiple locations',\n",
       " '3124 N. Broadway',\n",
       " '3455 N. Southport Ave.',\n",
       " '2657 N. Kedzie Ave.',\n",
       " '1120 W. Grand Ave.',\n",
       " '1141 S. Jefferson St.',\n",
       " '333 E. Benton Pl.',\n",
       " '1411 N. Wells St.',\n",
       " '1747 N. Damen Ave.',\n",
       " '3209 W. Irving Park Rd.',\n",
       " 'Multiple locations',\n",
       " '5347 N. Clark St.',\n",
       " '2954 W. Irving Park Rd.',\n",
       " 'Multiple locations',\n",
       " '191 Skokie Valley Rd., Highland Park',\n",
       " 'Multiple locations',\n",
       " '1818 W. Wilson Ave.',\n",
       " '2517 W. Division St.',\n",
       " '218 W. Kinzie St.',\n",
       " 'Multiple locations',\n",
       " '1547 N. Wells St.',\n",
       " '415 N. Milwaukee Ave.',\n",
       " '1840 N. Damen Ave.',\n",
       " '1220 W. Webster Ave.',\n",
       " '5357 N. Ashland Ave.',\n",
       " '1834 W. Montrose Ave.',\n",
       " '615 N. State St.',\n",
       " 'Multiple locations',\n",
       " '241 N. York Rd., Elmhurst',\n",
       " '1323 E. 57th St.',\n",
       " '655 Forest Ave., Lake Forest',\n",
       " 'Hotel Lincoln, 1816 N. Clark St.',\n",
       " '100 S. Marion St., Oak Park',\n",
       " '26 E. Congress Pkwy.',\n",
       " '2018 W. Chicago Ave.',\n",
       " '25 E. Delaware Pl.',\n",
       " '416 N. York St., Elmhurst',\n",
       " '65 E. Washington St.',\n",
       " '3351 N. Broadway']"
      ]
     },
     "execution_count": 37,
     "metadata": {},
     "output_type": "execute_result"
    }
   ],
   "source": [
    "Address"
   ]
  },
  {
   "cell_type": "code",
   "execution_count": 38,
   "metadata": {},
   "outputs": [
    {
     "data": {
      "text/plain": [
       "['773-772-0406',\n",
       " '312-929-4580',\n",
       " '312-334-3688',\n",
       " '847-475-9400',\n",
       " '312-445-8977',\n",
       " '312-649-6717',\n",
       " '312-360-9500',\n",
       " '773-276-2100',\n",
       " '773-772-8435',\n",
       " '312-929-2486',\n",
       " '773-489-9554',\n",
       " 'No Contact',\n",
       " '773-661-9166',\n",
       " '773-883-2525',\n",
       " '773-276-7110',\n",
       " '312-666-0730',\n",
       " '312-939-2855',\n",
       " '773-234-3449',\n",
       " '312-944-0459',\n",
       " '773-489-1747',\n",
       " '773-539-8038',\n",
       " 'No Contact',\n",
       " '773-275-5725',\n",
       " '773-539-5321',\n",
       " 'No Contact',\n",
       " '847-831-0600',\n",
       " 'No Contact',\n",
       " '773-293-2489',\n",
       " '773-862-8313',\n",
       " '312-624-8154',\n",
       " 'No Contact',\n",
       " '312-624-9430',\n",
       " '312-829-6300',\n",
       " '773-681-9914',\n",
       " '773-883-1313',\n",
       " '773-275-4297',\n",
       " '773-334-5664',\n",
       " '312-265-0434',\n",
       " 'No Contact',\n",
       " '630-516-3354',\n",
       " '773-538-7372',\n",
       " '847-234-8800',\n",
       " '312-254-4665',\n",
       " '708-725-7200',\n",
       " '312-922-2233',\n",
       " '773-384-9930',\n",
       " '312-896-2600',\n",
       " '630-359-5234',\n",
       " '312-726-2020',\n",
       " '773-868-4000']"
      ]
     },
     "execution_count": 38,
     "metadata": {},
     "output_type": "execute_result"
    }
   ],
   "source": [
    "Phone"
   ]
  },
  {
   "cell_type": "code",
   "execution_count": 39,
   "metadata": {},
   "outputs": [
    {
     "data": {
      "text/plain": [
       "['theoldoaktap.com',\n",
       " 'aucheval.tumblr.com',\n",
       " 'rickbayless.com',\n",
       " 'alsdeli.net',\n",
       " 'publicanqualitymeats.com',\n",
       " 'No Homepage',\n",
       " 'acadiachicago.com',\n",
       " 'birchwoodkitchen.com',\n",
       " 'cemitaspuebla.com',\n",
       " 'nanaorganic.com',\n",
       " 'lulacafe.com',\n",
       " 'ricobenespizza.com',\n",
       " 'frognsnail.com',\n",
       " 'crosbyskitchenchicago.com',\n",
       " 'longmanandeagle.com',\n",
       " 'bariitaliansubs.com',\n",
       " 'mannysdeli.com',\n",
       " 'eggysdiner.com',\n",
       " 'oldjerusalemchicago.com',\n",
       " 'hotchocolatechicago.com',\n",
       " 'No Homepage',\n",
       " 'dawalikitchen.com',\n",
       " 'bigjoneschicago.com',\n",
       " 'lapanechicago.com',\n",
       " 'pastoralartisan.com',\n",
       " 'maxs-deli.com',\n",
       " 'luckysandwich.com',\n",
       " 'cityprovisions.com',\n",
       " 'papascachesabroso.com',\n",
       " 'No Homepage',\n",
       " 'hannahsbretzel.com',\n",
       " 'lafournette.com',\n",
       " 'paramountroom.com',\n",
       " 'meltsandwichshoppechicago.com',\n",
       " 'floriole.com',\n",
       " 'No Homepage',\n",
       " 'troquetchicago.com',\n",
       " 'grahamwich.com',\n",
       " 'saigonsisters.com',\n",
       " 'rosaliasdeli.com',\n",
       " 'zhmarketcafe.com',\n",
       " 'themarkethouse.com',\n",
       " 'No Homepage',\n",
       " 'marionstreetcheesemarket.com',\n",
       " 'cafecitochicago.com',\n",
       " 'chickpeaonthego.com',\n",
       " 'goddessandgrocer.com',\n",
       " 'eatmyzenwich.com',\n",
       " 'tonipatisserie.com',\n",
       " 'phoebesbakery.com']"
      ]
     },
     "execution_count": 39,
     "metadata": {},
     "output_type": "execute_result"
    }
   ],
   "source": [
    "Homepage"
   ]
  },
  {
   "cell_type": "code",
   "execution_count": 40,
   "metadata": {},
   "outputs": [
    {
     "data": {
      "text/plain": [
       "(50, 50, 50, 50, 50)"
      ]
     },
     "execution_count": 40,
     "metadata": {},
     "output_type": "execute_result"
    }
   ],
   "source": [
    "len(df), len(Price), len(Address), len(Phone), len(Homepage)"
   ]
  },
  {
   "cell_type": "markdown",
   "metadata": {},
   "source": [
    "### \\# 기존 데이터에 칼럼(가격, 주소) 추가하기"
   ]
  },
  {
   "cell_type": "code",
   "execution_count": 41,
   "metadata": {},
   "outputs": [
    {
     "data": {
      "text/html": [
       "<div>\n",
       "<style scoped>\n",
       "    .dataframe tbody tr th:only-of-type {\n",
       "        vertical-align: middle;\n",
       "    }\n",
       "\n",
       "    .dataframe tbody tr th {\n",
       "        vertical-align: top;\n",
       "    }\n",
       "\n",
       "    .dataframe thead th {\n",
       "        text-align: right;\n",
       "    }\n",
       "</style>\n",
       "<table border=\"1\" class=\"dataframe\">\n",
       "  <thead>\n",
       "    <tr style=\"text-align: right;\">\n",
       "      <th></th>\n",
       "      <th>Cafe</th>\n",
       "      <th>Menu</th>\n",
       "      <th>URL</th>\n",
       "      <th>Price</th>\n",
       "    </tr>\n",
       "    <tr>\n",
       "      <th>Rank</th>\n",
       "      <th></th>\n",
       "      <th></th>\n",
       "      <th></th>\n",
       "      <th></th>\n",
       "    </tr>\n",
       "  </thead>\n",
       "  <tbody>\n",
       "    <tr>\n",
       "      <th>1</th>\n",
       "      <td>Old Oak Tap</td>\n",
       "      <td>BLT</td>\n",
       "      <td>http://www.chicagomag.com/Chicago-Magazine/Nov...</td>\n",
       "      <td>$10</td>\n",
       "    </tr>\n",
       "    <tr>\n",
       "      <th>2</th>\n",
       "      <td>Au Cheval</td>\n",
       "      <td>Fried Bologna</td>\n",
       "      <td>http://www.chicagomag.com/Chicago-Magazine/Nov...</td>\n",
       "      <td>$9</td>\n",
       "    </tr>\n",
       "    <tr>\n",
       "      <th>3</th>\n",
       "      <td>Xoco</td>\n",
       "      <td>Woodland Mushroom</td>\n",
       "      <td>http://www.chicagomag.com/Chicago-Magazine/Nov...</td>\n",
       "      <td>$9.50</td>\n",
       "    </tr>\n",
       "    <tr>\n",
       "      <th>4</th>\n",
       "      <td>Al’s Deli</td>\n",
       "      <td>Roast Beef</td>\n",
       "      <td>http://www.chicagomag.com/Chicago-Magazine/Nov...</td>\n",
       "      <td>$9.40</td>\n",
       "    </tr>\n",
       "    <tr>\n",
       "      <th>5</th>\n",
       "      <td>Publican Quality Meats</td>\n",
       "      <td>PB&amp;L</td>\n",
       "      <td>http://www.chicagomag.com/Chicago-Magazine/Nov...</td>\n",
       "      <td>$10</td>\n",
       "    </tr>\n",
       "  </tbody>\n",
       "</table>\n",
       "</div>"
      ],
      "text/plain": [
       "                        Cafe               Menu  \\\n",
       "Rank                                              \n",
       "1                Old Oak Tap                BLT   \n",
       "2                  Au Cheval      Fried Bologna   \n",
       "3                       Xoco  Woodland Mushroom   \n",
       "4                  Al’s Deli         Roast Beef   \n",
       "5     Publican Quality Meats               PB&L   \n",
       "\n",
       "                                                    URL  Price  \n",
       "Rank                                                            \n",
       "1     http://www.chicagomag.com/Chicago-Magazine/Nov...    $10  \n",
       "2     http://www.chicagomag.com/Chicago-Magazine/Nov...     $9  \n",
       "3     http://www.chicagomag.com/Chicago-Magazine/Nov...  $9.50  \n",
       "4     http://www.chicagomag.com/Chicago-Magazine/Nov...  $9.40  \n",
       "5     http://www.chicagomag.com/Chicago-Magazine/Nov...    $10  "
      ]
     },
     "execution_count": 41,
     "metadata": {},
     "output_type": "execute_result"
    }
   ],
   "source": [
    "df['Price'] = Price\n",
    "df.head()"
   ]
  },
  {
   "cell_type": "code",
   "execution_count": 42,
   "metadata": {},
   "outputs": [
    {
     "data": {
      "text/html": [
       "<div>\n",
       "<style scoped>\n",
       "    .dataframe tbody tr th:only-of-type {\n",
       "        vertical-align: middle;\n",
       "    }\n",
       "\n",
       "    .dataframe tbody tr th {\n",
       "        vertical-align: top;\n",
       "    }\n",
       "\n",
       "    .dataframe thead th {\n",
       "        text-align: right;\n",
       "    }\n",
       "</style>\n",
       "<table border=\"1\" class=\"dataframe\">\n",
       "  <thead>\n",
       "    <tr style=\"text-align: right;\">\n",
       "      <th></th>\n",
       "      <th>Cafe</th>\n",
       "      <th>Menu</th>\n",
       "      <th>URL</th>\n",
       "      <th>Price</th>\n",
       "      <th>Address</th>\n",
       "    </tr>\n",
       "    <tr>\n",
       "      <th>Rank</th>\n",
       "      <th></th>\n",
       "      <th></th>\n",
       "      <th></th>\n",
       "      <th></th>\n",
       "      <th></th>\n",
       "    </tr>\n",
       "  </thead>\n",
       "  <tbody>\n",
       "    <tr>\n",
       "      <th>1</th>\n",
       "      <td>Old Oak Tap</td>\n",
       "      <td>BLT</td>\n",
       "      <td>http://www.chicagomag.com/Chicago-Magazine/Nov...</td>\n",
       "      <td>$10</td>\n",
       "      <td>2109 W. Chicago Ave.</td>\n",
       "    </tr>\n",
       "    <tr>\n",
       "      <th>2</th>\n",
       "      <td>Au Cheval</td>\n",
       "      <td>Fried Bologna</td>\n",
       "      <td>http://www.chicagomag.com/Chicago-Magazine/Nov...</td>\n",
       "      <td>$9</td>\n",
       "      <td>800 W. Randolph St.</td>\n",
       "    </tr>\n",
       "    <tr>\n",
       "      <th>3</th>\n",
       "      <td>Xoco</td>\n",
       "      <td>Woodland Mushroom</td>\n",
       "      <td>http://www.chicagomag.com/Chicago-Magazine/Nov...</td>\n",
       "      <td>$9.50</td>\n",
       "      <td>445 N. Clark St.</td>\n",
       "    </tr>\n",
       "    <tr>\n",
       "      <th>4</th>\n",
       "      <td>Al’s Deli</td>\n",
       "      <td>Roast Beef</td>\n",
       "      <td>http://www.chicagomag.com/Chicago-Magazine/Nov...</td>\n",
       "      <td>$9.40</td>\n",
       "      <td>914 Noyes St., Evanston</td>\n",
       "    </tr>\n",
       "    <tr>\n",
       "      <th>5</th>\n",
       "      <td>Publican Quality Meats</td>\n",
       "      <td>PB&amp;L</td>\n",
       "      <td>http://www.chicagomag.com/Chicago-Magazine/Nov...</td>\n",
       "      <td>$10</td>\n",
       "      <td>825 W. Fulton Mkt.</td>\n",
       "    </tr>\n",
       "  </tbody>\n",
       "</table>\n",
       "</div>"
      ],
      "text/plain": [
       "                        Cafe               Menu  \\\n",
       "Rank                                              \n",
       "1                Old Oak Tap                BLT   \n",
       "2                  Au Cheval      Fried Bologna   \n",
       "3                       Xoco  Woodland Mushroom   \n",
       "4                  Al’s Deli         Roast Beef   \n",
       "5     Publican Quality Meats               PB&L   \n",
       "\n",
       "                                                    URL  Price  \\\n",
       "Rank                                                             \n",
       "1     http://www.chicagomag.com/Chicago-Magazine/Nov...    $10   \n",
       "2     http://www.chicagomag.com/Chicago-Magazine/Nov...     $9   \n",
       "3     http://www.chicagomag.com/Chicago-Magazine/Nov...  $9.50   \n",
       "4     http://www.chicagomag.com/Chicago-Magazine/Nov...  $9.40   \n",
       "5     http://www.chicagomag.com/Chicago-Magazine/Nov...    $10   \n",
       "\n",
       "                      Address  \n",
       "Rank                           \n",
       "1        2109 W. Chicago Ave.  \n",
       "2         800 W. Randolph St.  \n",
       "3            445 N. Clark St.  \n",
       "4     914 Noyes St., Evanston  \n",
       "5          825 W. Fulton Mkt.  "
      ]
     },
     "execution_count": 42,
     "metadata": {},
     "output_type": "execute_result"
    }
   ],
   "source": [
    "df['Address'] = Address\n",
    "df.head()"
   ]
  },
  {
   "cell_type": "code",
   "execution_count": 43,
   "metadata": {},
   "outputs": [
    {
     "data": {
      "text/html": [
       "<div>\n",
       "<style scoped>\n",
       "    .dataframe tbody tr th:only-of-type {\n",
       "        vertical-align: middle;\n",
       "    }\n",
       "\n",
       "    .dataframe tbody tr th {\n",
       "        vertical-align: top;\n",
       "    }\n",
       "\n",
       "    .dataframe thead th {\n",
       "        text-align: right;\n",
       "    }\n",
       "</style>\n",
       "<table border=\"1\" class=\"dataframe\">\n",
       "  <thead>\n",
       "    <tr style=\"text-align: right;\">\n",
       "      <th></th>\n",
       "      <th>Cafe</th>\n",
       "      <th>Menu</th>\n",
       "      <th>URL</th>\n",
       "      <th>Price</th>\n",
       "      <th>Address</th>\n",
       "      <th>Phone</th>\n",
       "    </tr>\n",
       "    <tr>\n",
       "      <th>Rank</th>\n",
       "      <th></th>\n",
       "      <th></th>\n",
       "      <th></th>\n",
       "      <th></th>\n",
       "      <th></th>\n",
       "      <th></th>\n",
       "    </tr>\n",
       "  </thead>\n",
       "  <tbody>\n",
       "    <tr>\n",
       "      <th>1</th>\n",
       "      <td>Old Oak Tap</td>\n",
       "      <td>BLT</td>\n",
       "      <td>http://www.chicagomag.com/Chicago-Magazine/Nov...</td>\n",
       "      <td>$10</td>\n",
       "      <td>2109 W. Chicago Ave.</td>\n",
       "      <td>773-772-0406</td>\n",
       "    </tr>\n",
       "    <tr>\n",
       "      <th>2</th>\n",
       "      <td>Au Cheval</td>\n",
       "      <td>Fried Bologna</td>\n",
       "      <td>http://www.chicagomag.com/Chicago-Magazine/Nov...</td>\n",
       "      <td>$9</td>\n",
       "      <td>800 W. Randolph St.</td>\n",
       "      <td>312-929-4580</td>\n",
       "    </tr>\n",
       "    <tr>\n",
       "      <th>3</th>\n",
       "      <td>Xoco</td>\n",
       "      <td>Woodland Mushroom</td>\n",
       "      <td>http://www.chicagomag.com/Chicago-Magazine/Nov...</td>\n",
       "      <td>$9.50</td>\n",
       "      <td>445 N. Clark St.</td>\n",
       "      <td>312-334-3688</td>\n",
       "    </tr>\n",
       "    <tr>\n",
       "      <th>4</th>\n",
       "      <td>Al’s Deli</td>\n",
       "      <td>Roast Beef</td>\n",
       "      <td>http://www.chicagomag.com/Chicago-Magazine/Nov...</td>\n",
       "      <td>$9.40</td>\n",
       "      <td>914 Noyes St., Evanston</td>\n",
       "      <td>847-475-9400</td>\n",
       "    </tr>\n",
       "    <tr>\n",
       "      <th>5</th>\n",
       "      <td>Publican Quality Meats</td>\n",
       "      <td>PB&amp;L</td>\n",
       "      <td>http://www.chicagomag.com/Chicago-Magazine/Nov...</td>\n",
       "      <td>$10</td>\n",
       "      <td>825 W. Fulton Mkt.</td>\n",
       "      <td>312-445-8977</td>\n",
       "    </tr>\n",
       "  </tbody>\n",
       "</table>\n",
       "</div>"
      ],
      "text/plain": [
       "                        Cafe               Menu  \\\n",
       "Rank                                              \n",
       "1                Old Oak Tap                BLT   \n",
       "2                  Au Cheval      Fried Bologna   \n",
       "3                       Xoco  Woodland Mushroom   \n",
       "4                  Al’s Deli         Roast Beef   \n",
       "5     Publican Quality Meats               PB&L   \n",
       "\n",
       "                                                    URL  Price  \\\n",
       "Rank                                                             \n",
       "1     http://www.chicagomag.com/Chicago-Magazine/Nov...    $10   \n",
       "2     http://www.chicagomag.com/Chicago-Magazine/Nov...     $9   \n",
       "3     http://www.chicagomag.com/Chicago-Magazine/Nov...  $9.50   \n",
       "4     http://www.chicagomag.com/Chicago-Magazine/Nov...  $9.40   \n",
       "5     http://www.chicagomag.com/Chicago-Magazine/Nov...    $10   \n",
       "\n",
       "                      Address         Phone  \n",
       "Rank                                         \n",
       "1        2109 W. Chicago Ave.  773-772-0406  \n",
       "2         800 W. Randolph St.  312-929-4580  \n",
       "3            445 N. Clark St.  312-334-3688  \n",
       "4     914 Noyes St., Evanston  847-475-9400  \n",
       "5          825 W. Fulton Mkt.  312-445-8977  "
      ]
     },
     "execution_count": 43,
     "metadata": {},
     "output_type": "execute_result"
    }
   ],
   "source": [
    "df['Phone'] = Phone\n",
    "df.head()"
   ]
  },
  {
   "cell_type": "code",
   "execution_count": 44,
   "metadata": {},
   "outputs": [
    {
     "data": {
      "text/html": [
       "<div>\n",
       "<style scoped>\n",
       "    .dataframe tbody tr th:only-of-type {\n",
       "        vertical-align: middle;\n",
       "    }\n",
       "\n",
       "    .dataframe tbody tr th {\n",
       "        vertical-align: top;\n",
       "    }\n",
       "\n",
       "    .dataframe thead th {\n",
       "        text-align: right;\n",
       "    }\n",
       "</style>\n",
       "<table border=\"1\" class=\"dataframe\">\n",
       "  <thead>\n",
       "    <tr style=\"text-align: right;\">\n",
       "      <th></th>\n",
       "      <th>Cafe</th>\n",
       "      <th>Menu</th>\n",
       "      <th>URL</th>\n",
       "      <th>Price</th>\n",
       "      <th>Address</th>\n",
       "      <th>Phone</th>\n",
       "      <th>Homepage</th>\n",
       "    </tr>\n",
       "    <tr>\n",
       "      <th>Rank</th>\n",
       "      <th></th>\n",
       "      <th></th>\n",
       "      <th></th>\n",
       "      <th></th>\n",
       "      <th></th>\n",
       "      <th></th>\n",
       "      <th></th>\n",
       "    </tr>\n",
       "  </thead>\n",
       "  <tbody>\n",
       "    <tr>\n",
       "      <th>1</th>\n",
       "      <td>Old Oak Tap</td>\n",
       "      <td>BLT</td>\n",
       "      <td>http://www.chicagomag.com/Chicago-Magazine/Nov...</td>\n",
       "      <td>$10</td>\n",
       "      <td>2109 W. Chicago Ave.</td>\n",
       "      <td>773-772-0406</td>\n",
       "      <td>theoldoaktap.com</td>\n",
       "    </tr>\n",
       "    <tr>\n",
       "      <th>2</th>\n",
       "      <td>Au Cheval</td>\n",
       "      <td>Fried Bologna</td>\n",
       "      <td>http://www.chicagomag.com/Chicago-Magazine/Nov...</td>\n",
       "      <td>$9</td>\n",
       "      <td>800 W. Randolph St.</td>\n",
       "      <td>312-929-4580</td>\n",
       "      <td>aucheval.tumblr.com</td>\n",
       "    </tr>\n",
       "    <tr>\n",
       "      <th>3</th>\n",
       "      <td>Xoco</td>\n",
       "      <td>Woodland Mushroom</td>\n",
       "      <td>http://www.chicagomag.com/Chicago-Magazine/Nov...</td>\n",
       "      <td>$9.50</td>\n",
       "      <td>445 N. Clark St.</td>\n",
       "      <td>312-334-3688</td>\n",
       "      <td>rickbayless.com</td>\n",
       "    </tr>\n",
       "    <tr>\n",
       "      <th>4</th>\n",
       "      <td>Al’s Deli</td>\n",
       "      <td>Roast Beef</td>\n",
       "      <td>http://www.chicagomag.com/Chicago-Magazine/Nov...</td>\n",
       "      <td>$9.40</td>\n",
       "      <td>914 Noyes St., Evanston</td>\n",
       "      <td>847-475-9400</td>\n",
       "      <td>alsdeli.net</td>\n",
       "    </tr>\n",
       "    <tr>\n",
       "      <th>5</th>\n",
       "      <td>Publican Quality Meats</td>\n",
       "      <td>PB&amp;L</td>\n",
       "      <td>http://www.chicagomag.com/Chicago-Magazine/Nov...</td>\n",
       "      <td>$10</td>\n",
       "      <td>825 W. Fulton Mkt.</td>\n",
       "      <td>312-445-8977</td>\n",
       "      <td>publicanqualitymeats.com</td>\n",
       "    </tr>\n",
       "  </tbody>\n",
       "</table>\n",
       "</div>"
      ],
      "text/plain": [
       "                        Cafe               Menu  \\\n",
       "Rank                                              \n",
       "1                Old Oak Tap                BLT   \n",
       "2                  Au Cheval      Fried Bologna   \n",
       "3                       Xoco  Woodland Mushroom   \n",
       "4                  Al’s Deli         Roast Beef   \n",
       "5     Publican Quality Meats               PB&L   \n",
       "\n",
       "                                                    URL  Price  \\\n",
       "Rank                                                             \n",
       "1     http://www.chicagomag.com/Chicago-Magazine/Nov...    $10   \n",
       "2     http://www.chicagomag.com/Chicago-Magazine/Nov...     $9   \n",
       "3     http://www.chicagomag.com/Chicago-Magazine/Nov...  $9.50   \n",
       "4     http://www.chicagomag.com/Chicago-Magazine/Nov...  $9.40   \n",
       "5     http://www.chicagomag.com/Chicago-Magazine/Nov...    $10   \n",
       "\n",
       "                      Address         Phone                  Homepage  \n",
       "Rank                                                                   \n",
       "1        2109 W. Chicago Ave.  773-772-0406          theoldoaktap.com  \n",
       "2         800 W. Randolph St.  312-929-4580       aucheval.tumblr.com  \n",
       "3            445 N. Clark St.  312-334-3688           rickbayless.com  \n",
       "4     914 Noyes St., Evanston  847-475-9400               alsdeli.net  \n",
       "5          825 W. Fulton Mkt.  312-445-8977  publicanqualitymeats.com  "
      ]
     },
     "execution_count": 44,
     "metadata": {},
     "output_type": "execute_result"
    }
   ],
   "source": [
    "df['Homepage'] = Homepage\n",
    "df.head()"
   ]
  },
  {
   "cell_type": "code",
   "execution_count": 45,
   "metadata": {},
   "outputs": [
    {
     "data": {
      "text/plain": [
       "['Cafe', 'Menu', 'URL', 'Price', 'Address', 'Phone', 'Homepage']"
      ]
     },
     "execution_count": 45,
     "metadata": {},
     "output_type": "execute_result"
    }
   ],
   "source": [
    "cols = list(df)\n",
    "cols"
   ]
  },
  {
   "cell_type": "code",
   "execution_count": 46,
   "metadata": {},
   "outputs": [
    {
     "data": {
      "text/plain": [
       "2"
      ]
     },
     "execution_count": 46,
     "metadata": {},
     "output_type": "execute_result"
    }
   ],
   "source": [
    "cols.index('URL')"
   ]
  },
  {
   "cell_type": "code",
   "execution_count": 47,
   "metadata": {},
   "outputs": [
    {
     "data": {
      "text/plain": [
       "'Homepage'"
      ]
     },
     "execution_count": 47,
     "metadata": {},
     "output_type": "execute_result"
    }
   ],
   "source": [
    "cols[6]"
   ]
  },
  {
   "cell_type": "code",
   "execution_count": 48,
   "metadata": {},
   "outputs": [
    {
     "data": {
      "text/plain": [
       "['Cafe', 'Menu', 'Price', 'Address', 'Phone', 'Homepage', 'URL']"
      ]
     },
     "execution_count": 48,
     "metadata": {},
     "output_type": "execute_result"
    }
   ],
   "source": [
    "# cols.insert(6, cols.pop(cols.index('URL')))\n",
    "cols.append(cols.pop(cols.index('URL')))\n",
    "cols"
   ]
  },
  {
   "cell_type": "code",
   "execution_count": 49,
   "metadata": {},
   "outputs": [
    {
     "data": {
      "text/html": [
       "<div>\n",
       "<style scoped>\n",
       "    .dataframe tbody tr th:only-of-type {\n",
       "        vertical-align: middle;\n",
       "    }\n",
       "\n",
       "    .dataframe tbody tr th {\n",
       "        vertical-align: top;\n",
       "    }\n",
       "\n",
       "    .dataframe thead th {\n",
       "        text-align: right;\n",
       "    }\n",
       "</style>\n",
       "<table border=\"1\" class=\"dataframe\">\n",
       "  <thead>\n",
       "    <tr style=\"text-align: right;\">\n",
       "      <th></th>\n",
       "      <th>Cafe</th>\n",
       "      <th>Menu</th>\n",
       "      <th>URL</th>\n",
       "      <th>Price</th>\n",
       "      <th>Address</th>\n",
       "      <th>Phone</th>\n",
       "      <th>Homepage</th>\n",
       "    </tr>\n",
       "    <tr>\n",
       "      <th>Rank</th>\n",
       "      <th></th>\n",
       "      <th></th>\n",
       "      <th></th>\n",
       "      <th></th>\n",
       "      <th></th>\n",
       "      <th></th>\n",
       "      <th></th>\n",
       "    </tr>\n",
       "  </thead>\n",
       "  <tbody>\n",
       "    <tr>\n",
       "      <th>1</th>\n",
       "      <td>Old Oak Tap</td>\n",
       "      <td>BLT</td>\n",
       "      <td>http://www.chicagomag.com/Chicago-Magazine/Nov...</td>\n",
       "      <td>$10</td>\n",
       "      <td>2109 W. Chicago Ave.</td>\n",
       "      <td>773-772-0406</td>\n",
       "      <td>theoldoaktap.com</td>\n",
       "    </tr>\n",
       "    <tr>\n",
       "      <th>2</th>\n",
       "      <td>Au Cheval</td>\n",
       "      <td>Fried Bologna</td>\n",
       "      <td>http://www.chicagomag.com/Chicago-Magazine/Nov...</td>\n",
       "      <td>$9</td>\n",
       "      <td>800 W. Randolph St.</td>\n",
       "      <td>312-929-4580</td>\n",
       "      <td>aucheval.tumblr.com</td>\n",
       "    </tr>\n",
       "    <tr>\n",
       "      <th>3</th>\n",
       "      <td>Xoco</td>\n",
       "      <td>Woodland Mushroom</td>\n",
       "      <td>http://www.chicagomag.com/Chicago-Magazine/Nov...</td>\n",
       "      <td>$9.50</td>\n",
       "      <td>445 N. Clark St.</td>\n",
       "      <td>312-334-3688</td>\n",
       "      <td>rickbayless.com</td>\n",
       "    </tr>\n",
       "    <tr>\n",
       "      <th>4</th>\n",
       "      <td>Al’s Deli</td>\n",
       "      <td>Roast Beef</td>\n",
       "      <td>http://www.chicagomag.com/Chicago-Magazine/Nov...</td>\n",
       "      <td>$9.40</td>\n",
       "      <td>914 Noyes St., Evanston</td>\n",
       "      <td>847-475-9400</td>\n",
       "      <td>alsdeli.net</td>\n",
       "    </tr>\n",
       "    <tr>\n",
       "      <th>5</th>\n",
       "      <td>Publican Quality Meats</td>\n",
       "      <td>PB&amp;L</td>\n",
       "      <td>http://www.chicagomag.com/Chicago-Magazine/Nov...</td>\n",
       "      <td>$10</td>\n",
       "      <td>825 W. Fulton Mkt.</td>\n",
       "      <td>312-445-8977</td>\n",
       "      <td>publicanqualitymeats.com</td>\n",
       "    </tr>\n",
       "  </tbody>\n",
       "</table>\n",
       "</div>"
      ],
      "text/plain": [
       "                        Cafe               Menu  \\\n",
       "Rank                                              \n",
       "1                Old Oak Tap                BLT   \n",
       "2                  Au Cheval      Fried Bologna   \n",
       "3                       Xoco  Woodland Mushroom   \n",
       "4                  Al’s Deli         Roast Beef   \n",
       "5     Publican Quality Meats               PB&L   \n",
       "\n",
       "                                                    URL  Price  \\\n",
       "Rank                                                             \n",
       "1     http://www.chicagomag.com/Chicago-Magazine/Nov...    $10   \n",
       "2     http://www.chicagomag.com/Chicago-Magazine/Nov...     $9   \n",
       "3     http://www.chicagomag.com/Chicago-Magazine/Nov...  $9.50   \n",
       "4     http://www.chicagomag.com/Chicago-Magazine/Nov...  $9.40   \n",
       "5     http://www.chicagomag.com/Chicago-Magazine/Nov...    $10   \n",
       "\n",
       "                      Address         Phone                  Homepage  \n",
       "Rank                                                                   \n",
       "1        2109 W. Chicago Ave.  773-772-0406          theoldoaktap.com  \n",
       "2         800 W. Randolph St.  312-929-4580       aucheval.tumblr.com  \n",
       "3            445 N. Clark St.  312-334-3688           rickbayless.com  \n",
       "4     914 Noyes St., Evanston  847-475-9400               alsdeli.net  \n",
       "5          825 W. Fulton Mkt.  312-445-8977  publicanqualitymeats.com  "
      ]
     },
     "execution_count": 49,
     "metadata": {},
     "output_type": "execute_result"
    }
   ],
   "source": [
    "df.head()"
   ]
  },
  {
   "cell_type": "markdown",
   "metadata": {},
   "source": [
    "### \\# ix를 사용하면 컬럼과 레코드전체가 옮겨진다."
   ]
  },
  {
   "cell_type": "code",
   "execution_count": 50,
   "metadata": {},
   "outputs": [
    {
     "name": "stderr",
     "output_type": "stream",
     "text": [
      "C:\\Python\\Anaconda3-52\\lib\\site-packages\\ipykernel_launcher.py:1: DeprecationWarning: \n",
      ".ix is deprecated. Please use\n",
      ".loc for label based indexing or\n",
      ".iloc for positional indexing\n",
      "\n",
      "See the documentation here:\n",
      "http://pandas.pydata.org/pandas-docs/stable/indexing.html#ix-indexer-is-deprecated\n",
      "  \"\"\"Entry point for launching an IPython kernel.\n"
     ]
    },
    {
     "data": {
      "text/html": [
       "<div>\n",
       "<style scoped>\n",
       "    .dataframe tbody tr th:only-of-type {\n",
       "        vertical-align: middle;\n",
       "    }\n",
       "\n",
       "    .dataframe tbody tr th {\n",
       "        vertical-align: top;\n",
       "    }\n",
       "\n",
       "    .dataframe thead th {\n",
       "        text-align: right;\n",
       "    }\n",
       "</style>\n",
       "<table border=\"1\" class=\"dataframe\">\n",
       "  <thead>\n",
       "    <tr style=\"text-align: right;\">\n",
       "      <th></th>\n",
       "      <th>Cafe</th>\n",
       "      <th>Menu</th>\n",
       "      <th>Price</th>\n",
       "      <th>Address</th>\n",
       "      <th>Phone</th>\n",
       "      <th>Homepage</th>\n",
       "      <th>URL</th>\n",
       "    </tr>\n",
       "    <tr>\n",
       "      <th>Rank</th>\n",
       "      <th></th>\n",
       "      <th></th>\n",
       "      <th></th>\n",
       "      <th></th>\n",
       "      <th></th>\n",
       "      <th></th>\n",
       "      <th></th>\n",
       "    </tr>\n",
       "  </thead>\n",
       "  <tbody>\n",
       "    <tr>\n",
       "      <th>1</th>\n",
       "      <td>Old Oak Tap</td>\n",
       "      <td>BLT</td>\n",
       "      <td>$10</td>\n",
       "      <td>2109 W. Chicago Ave.</td>\n",
       "      <td>773-772-0406</td>\n",
       "      <td>theoldoaktap.com</td>\n",
       "      <td>http://www.chicagomag.com/Chicago-Magazine/Nov...</td>\n",
       "    </tr>\n",
       "    <tr>\n",
       "      <th>2</th>\n",
       "      <td>Au Cheval</td>\n",
       "      <td>Fried Bologna</td>\n",
       "      <td>$9</td>\n",
       "      <td>800 W. Randolph St.</td>\n",
       "      <td>312-929-4580</td>\n",
       "      <td>aucheval.tumblr.com</td>\n",
       "      <td>http://www.chicagomag.com/Chicago-Magazine/Nov...</td>\n",
       "    </tr>\n",
       "    <tr>\n",
       "      <th>3</th>\n",
       "      <td>Xoco</td>\n",
       "      <td>Woodland Mushroom</td>\n",
       "      <td>$9.50</td>\n",
       "      <td>445 N. Clark St.</td>\n",
       "      <td>312-334-3688</td>\n",
       "      <td>rickbayless.com</td>\n",
       "      <td>http://www.chicagomag.com/Chicago-Magazine/Nov...</td>\n",
       "    </tr>\n",
       "    <tr>\n",
       "      <th>4</th>\n",
       "      <td>Al’s Deli</td>\n",
       "      <td>Roast Beef</td>\n",
       "      <td>$9.40</td>\n",
       "      <td>914 Noyes St., Evanston</td>\n",
       "      <td>847-475-9400</td>\n",
       "      <td>alsdeli.net</td>\n",
       "      <td>http://www.chicagomag.com/Chicago-Magazine/Nov...</td>\n",
       "    </tr>\n",
       "    <tr>\n",
       "      <th>5</th>\n",
       "      <td>Publican Quality Meats</td>\n",
       "      <td>PB&amp;L</td>\n",
       "      <td>$10</td>\n",
       "      <td>825 W. Fulton Mkt.</td>\n",
       "      <td>312-445-8977</td>\n",
       "      <td>publicanqualitymeats.com</td>\n",
       "      <td>http://www.chicagomag.com/Chicago-Magazine/Nov...</td>\n",
       "    </tr>\n",
       "  </tbody>\n",
       "</table>\n",
       "</div>"
      ],
      "text/plain": [
       "                        Cafe               Menu  Price  \\\n",
       "Rank                                                     \n",
       "1                Old Oak Tap                BLT    $10   \n",
       "2                  Au Cheval      Fried Bologna     $9   \n",
       "3                       Xoco  Woodland Mushroom  $9.50   \n",
       "4                  Al’s Deli         Roast Beef  $9.40   \n",
       "5     Publican Quality Meats               PB&L    $10   \n",
       "\n",
       "                      Address         Phone                  Homepage  \\\n",
       "Rank                                                                    \n",
       "1        2109 W. Chicago Ave.  773-772-0406          theoldoaktap.com   \n",
       "2         800 W. Randolph St.  312-929-4580       aucheval.tumblr.com   \n",
       "3            445 N. Clark St.  312-334-3688           rickbayless.com   \n",
       "4     914 Noyes St., Evanston  847-475-9400               alsdeli.net   \n",
       "5          825 W. Fulton Mkt.  312-445-8977  publicanqualitymeats.com   \n",
       "\n",
       "                                                    URL  \n",
       "Rank                                                     \n",
       "1     http://www.chicagomag.com/Chicago-Magazine/Nov...  \n",
       "2     http://www.chicagomag.com/Chicago-Magazine/Nov...  \n",
       "3     http://www.chicagomag.com/Chicago-Magazine/Nov...  \n",
       "4     http://www.chicagomag.com/Chicago-Magazine/Nov...  \n",
       "5     http://www.chicagomag.com/Chicago-Magazine/Nov...  "
      ]
     },
     "execution_count": 50,
     "metadata": {},
     "output_type": "execute_result"
    }
   ],
   "source": [
    "df = df.ix[:, cols]\n",
    "df.head()"
   ]
  },
  {
   "cell_type": "code",
   "execution_count": 51,
   "metadata": {},
   "outputs": [
    {
     "data": {
      "text/html": [
       "<div>\n",
       "<style scoped>\n",
       "    .dataframe tbody tr th:only-of-type {\n",
       "        vertical-align: middle;\n",
       "    }\n",
       "\n",
       "    .dataframe tbody tr th {\n",
       "        vertical-align: top;\n",
       "    }\n",
       "\n",
       "    .dataframe thead th {\n",
       "        text-align: right;\n",
       "    }\n",
       "</style>\n",
       "<table border=\"1\" class=\"dataframe\">\n",
       "  <thead>\n",
       "    <tr style=\"text-align: right;\">\n",
       "      <th></th>\n",
       "      <th>Cafe</th>\n",
       "      <th>Menu</th>\n",
       "      <th>Price</th>\n",
       "      <th>Address</th>\n",
       "      <th>Phone</th>\n",
       "      <th>Homepage</th>\n",
       "      <th>URL</th>\n",
       "    </tr>\n",
       "    <tr>\n",
       "      <th>Rank</th>\n",
       "      <th></th>\n",
       "      <th></th>\n",
       "      <th></th>\n",
       "      <th></th>\n",
       "      <th></th>\n",
       "      <th></th>\n",
       "      <th></th>\n",
       "    </tr>\n",
       "  </thead>\n",
       "  <tbody>\n",
       "    <tr>\n",
       "      <th>1</th>\n",
       "      <td>Old Oak Tap</td>\n",
       "      <td>BLT</td>\n",
       "      <td>$10</td>\n",
       "      <td>2109 W. Chicago Ave.</td>\n",
       "      <td>773-772-0406</td>\n",
       "      <td>theoldoaktap.com</td>\n",
       "      <td>http://www.chicagomag.com/Chicago-Magazine/Nov...</td>\n",
       "    </tr>\n",
       "    <tr>\n",
       "      <th>2</th>\n",
       "      <td>Au Cheval</td>\n",
       "      <td>Fried Bologna</td>\n",
       "      <td>$9</td>\n",
       "      <td>800 W. Randolph St.</td>\n",
       "      <td>312-929-4580</td>\n",
       "      <td>aucheval.tumblr.com</td>\n",
       "      <td>http://www.chicagomag.com/Chicago-Magazine/Nov...</td>\n",
       "    </tr>\n",
       "    <tr>\n",
       "      <th>3</th>\n",
       "      <td>Xoco</td>\n",
       "      <td>Woodland Mushroom</td>\n",
       "      <td>$9.50</td>\n",
       "      <td>445 N. Clark St.</td>\n",
       "      <td>312-334-3688</td>\n",
       "      <td>rickbayless.com</td>\n",
       "      <td>http://www.chicagomag.com/Chicago-Magazine/Nov...</td>\n",
       "    </tr>\n",
       "    <tr>\n",
       "      <th>4</th>\n",
       "      <td>Al’s Deli</td>\n",
       "      <td>Roast Beef</td>\n",
       "      <td>$9.40</td>\n",
       "      <td>914 Noyes St., Evanston</td>\n",
       "      <td>847-475-9400</td>\n",
       "      <td>alsdeli.net</td>\n",
       "      <td>http://www.chicagomag.com/Chicago-Magazine/Nov...</td>\n",
       "    </tr>\n",
       "    <tr>\n",
       "      <th>5</th>\n",
       "      <td>Publican Quality Meats</td>\n",
       "      <td>PB&amp;L</td>\n",
       "      <td>$10</td>\n",
       "      <td>825 W. Fulton Mkt.</td>\n",
       "      <td>312-445-8977</td>\n",
       "      <td>publicanqualitymeats.com</td>\n",
       "      <td>http://www.chicagomag.com/Chicago-Magazine/Nov...</td>\n",
       "    </tr>\n",
       "  </tbody>\n",
       "</table>\n",
       "</div>"
      ],
      "text/plain": [
       "                        Cafe               Menu  Price  \\\n",
       "Rank                                                     \n",
       "1                Old Oak Tap                BLT    $10   \n",
       "2                  Au Cheval      Fried Bologna     $9   \n",
       "3                       Xoco  Woodland Mushroom  $9.50   \n",
       "4                  Al’s Deli         Roast Beef  $9.40   \n",
       "5     Publican Quality Meats               PB&L    $10   \n",
       "\n",
       "                      Address         Phone                  Homepage  \\\n",
       "Rank                                                                    \n",
       "1        2109 W. Chicago Ave.  773-772-0406          theoldoaktap.com   \n",
       "2         800 W. Randolph St.  312-929-4580       aucheval.tumblr.com   \n",
       "3            445 N. Clark St.  312-334-3688           rickbayless.com   \n",
       "4     914 Noyes St., Evanston  847-475-9400               alsdeli.net   \n",
       "5          825 W. Fulton Mkt.  312-445-8977  publicanqualitymeats.com   \n",
       "\n",
       "                                                    URL  \n",
       "Rank                                                     \n",
       "1     http://www.chicagomag.com/Chicago-Magazine/Nov...  \n",
       "2     http://www.chicagomag.com/Chicago-Magazine/Nov...  \n",
       "3     http://www.chicagomag.com/Chicago-Magazine/Nov...  \n",
       "4     http://www.chicagomag.com/Chicago-Magazine/Nov...  \n",
       "5     http://www.chicagomag.com/Chicago-Magazine/Nov...  "
      ]
     },
     "execution_count": 51,
     "metadata": {},
     "output_type": "execute_result"
    }
   ],
   "source": [
    "df = df.loc[:, cols]\n",
    "df.head()"
   ]
  },
  {
   "cell_type": "code",
   "execution_count": 52,
   "metadata": {},
   "outputs": [
    {
     "name": "stdout",
     "output_type": "stream",
     "text": [
      "<class 'pandas.core.frame.DataFrame'>\n",
      "Int64Index: 50 entries, 1 to 50\n",
      "Data columns (total 7 columns):\n",
      "Cafe        50 non-null object\n",
      "Menu        50 non-null object\n",
      "Price       50 non-null object\n",
      "Address     50 non-null object\n",
      "Phone       50 non-null object\n",
      "Homepage    50 non-null object\n",
      "URL         50 non-null object\n",
      "dtypes: object(7)\n",
      "memory usage: 5.6+ KB\n"
     ]
    }
   ],
   "source": [
    "df.info()"
   ]
  },
  {
   "cell_type": "markdown",
   "metadata": {},
   "source": [
    "### \\# 추가로 변경작업한 데이터 파일로 저장하기"
   ]
  },
  {
   "cell_type": "code",
   "execution_count": 53,
   "metadata": {},
   "outputs": [],
   "source": [
    "df.to_csv('data/chicagomag_info_ver2.csv', sep=',', encoding='UTF-8')"
   ]
  },
  {
   "cell_type": "code",
   "execution_count": 54,
   "metadata": {},
   "outputs": [
    {
     "name": "stdout",
     "output_type": "stream",
     "text": [
      " C 드라이브의 볼륨에는 이름이 없습니다.\n",
      " 볼륨 일련 번호: 3EFF-82E2\n",
      "\n",
      " C:\\Users\\student\\Anaconda_src\\data 디렉터리\n",
      "\n",
      "2018-11-07  오후 03:45    <DIR>          .\n",
      "2018-11-07  오후 03:45    <DIR>          ..\n",
      "2018-10-29  오후 04:32    <DIR>          .ipynb_checkpoints\n",
      "2018-11-07  오후 02:16             7,675 chicagomag_info.csv\n",
      "2018-11-07  오후 03:45            10,404 chicagomag_info_ver2.csv\n",
      "2018-10-29  오후 04:54               310 company.csv\n",
      "2018-11-01  오후 04:26                62 girlgroup.json\n",
      "2018-10-29  오후 04:33                27 hello.txt\n",
      "2018-11-01  오후 04:29               162 member.json\n",
      "2018-11-06  오후 03:20             1,140 opengov_2018_seoul_cctv_status_by_year.csv\n",
      "2018-11-01  오후 04:31               193 person.json\n",
      "2018-11-05  오후 04:59               556 police_cctv.csv\n",
      "2018-11-06  오후 03:20            12,817 public_2016_crime_st.csv\n",
      "2018-11-06  오후 03:20               523 public_2017_seoul_cctv_st.csv\n",
      "2018-11-06  오후 03:20           178,284 public_old_buildings_20171016.csv\n",
      "2018-11-06  오후 03:20            15,360 Report_seoul_population_2018_1Q.xls\n",
      "2018-11-06  오후 03:20            15,360 Report_seoul_population_2018_3Q.xls\n",
      "2018-11-06  오후 04:25            15,360 seoul_electronic.xls\n",
      "2018-11-06  오후 03:17         2,248,644 seoul_free_wifi_zone_2017.csv\n",
      "2018-11-06  오후 03:17         6,894,569 seoul_free_wifi_zone_2017.json\n",
      "2018-11-06  오후 03:20             3,538 seoul_population_cctv.csv\n",
      "2018-11-06  오후 03:38             3,391 seoul_population_cctv2.csv\n",
      "2018-11-06  오후 03:20           247,333 seoul_wifi_zone.csv\n",
      "2018-11-06  오후 03:20            13,840 skorea_municipalities_geo_simple.json\n",
      "2018-10-29  오후 04:45               148 students.csv\n",
      "2018-10-29  오후 04:36                31 subject.txt\n",
      "2018-11-03  오후 02:46            28,629 test.csv\n",
      "2018-11-06  오후 03:20            61,194 titanic_train.csv\n",
      "2018-11-03  오후 02:46            61,194 train.csv\n",
      "              26개 파일           9,820,744 바이트\n",
      "               3개 디렉터리  426,972,127,232 바이트 남음\n"
     ]
    }
   ],
   "source": [
    "% ls data"
   ]
  },
  {
   "cell_type": "code",
   "execution_count": null,
   "metadata": {},
   "outputs": [],
   "source": []
  }
 ],
 "metadata": {
  "kernelspec": {
   "display_name": "Python 3",
   "language": "python",
   "name": "python3"
  },
  "language_info": {
   "codemirror_mode": {
    "name": "ipython",
    "version": 3
   },
   "file_extension": ".py",
   "mimetype": "text/x-python",
   "name": "python",
   "nbconvert_exporter": "python",
   "pygments_lexer": "ipython3",
   "version": "3.6.5"
  }
 },
 "nbformat": 4,
 "nbformat_minor": 2
}
