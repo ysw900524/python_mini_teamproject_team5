{
 "cells": [
  {
   "cell_type": "markdown",
   "metadata": {},
   "source": [
    "## 워드클라우드 : 동물보호법"
   ]
  },
  {
   "cell_type": "code",
   "execution_count": 26,
   "metadata": {},
   "outputs": [],
   "source": [
    "# from images import bigpycraft_bda as bpc\n",
    "from IPython.display import Image "
   ]
  },
  {
   "cell_type": "code",
   "execution_count": 2,
   "metadata": {
    "scrolled": true
   },
   "outputs": [
    {
     "name": "stdout",
     "output_type": "stream",
     "text": [
      "pygame 1.9.4\n",
      "Hello from the pygame community. https://www.pygame.org/contribute.html\n"
     ]
    }
   ],
   "source": [
    "from konlpy.tag import Hannanum\n",
    "from urllib.request import urlopen\n",
    "from lxml import html\n",
    "from collections import Counter\n",
    "\n",
    "import random\n",
    "import pytagcloud      # requires Korean font support\n",
    "import webbrowser\n",
    "\n",
    "\n",
    "# pytagcloud 패키지 미설치에 따른 오류 발생\n",
    "# ---------------------------------------------------------------------------\n",
    "# ModuleNotFoundError                       Traceback (most recent call last)\n",
    "# <ipython-input-1-4b9ef8695e12> in <module>()\n",
    "#       5 \n",
    "#       6 import random\n",
    "# ----> 7 import pytagcloud      # requires Korean font support\n",
    "#       8 import webbrowser\n",
    "\n",
    "# ModuleNotFoundError: No module named 'pytagcloud'\n"
   ]
  },
  {
   "cell_type": "code",
   "execution_count": 3,
   "metadata": {},
   "outputs": [
    {
     "name": "stdout",
     "output_type": "stream",
     "text": [
      "Requirement already satisfied: pytagcloud in c:\\python\\anaconda3-52\\lib\\site-packages (0.3.5)\n"
     ]
    }
   ],
   "source": [
    "! pip install pytagcloud"
   ]
  },
  {
   "cell_type": "code",
   "execution_count": 4,
   "metadata": {},
   "outputs": [],
   "source": [
    "from konlpy.tag import Hannanum\n",
    "from urllib.request import urlopen\n",
    "from lxml import html\n",
    "from collections import Counter\n",
    "\n",
    "import random\n",
    "import pytagcloud      # requires Korean font support\n",
    "import webbrowser\n",
    "\n",
    "\n",
    "\n",
    "# pygame 패키지 미설치에 따른 오류 발생\n",
    "# ---------------------------------------------------------------------------\n",
    "# ModuleNotFoundError                       Traceback (most recent call last)\n",
    "# <ipython-input-3-4b9ef8695e12> in <module>()\n",
    "#       5 \n",
    "#       6 import random\n",
    "# ----> 7 import pytagcloud      # requires Korean font support\n",
    "#       8 import webbrowser\n",
    "\n",
    "# C:\\Python\\Anaconda3-52\\lib\\site-packages\\pytagcloud\\__init__.py in <module>()\n",
    "#       2 from copy import copy\n",
    "#       3 from math import sin, cos, ceil\n",
    "# ----> 4 from pygame import transform, font, mask, Surface, Rect, SRCALPHA, draw\n",
    "#       5 from pygame.sprite import Group, Sprite, collide_mask\n",
    "#       6 from random import randint, choice\n",
    "\n",
    "# ModuleNotFoundError: No module named 'pygame'\n"
   ]
  },
  {
   "cell_type": "code",
   "execution_count": 5,
   "metadata": {},
   "outputs": [
    {
     "name": "stdout",
     "output_type": "stream",
     "text": [
      "Requirement already satisfied: pygame in c:\\python\\anaconda3-52\\lib\\site-packages (1.9.4)\n"
     ]
    }
   ],
   "source": [
    "! pip install pygame"
   ]
  },
  {
   "cell_type": "code",
   "execution_count": 6,
   "metadata": {},
   "outputs": [],
   "source": [
    "from konlpy.tag import Hannanum\n",
    "from urllib.request import urlopen\n",
    "from lxml import html\n",
    "from collections import Counter\n",
    "\n",
    "import random\n",
    "import pytagcloud      # requires Korean font support\n",
    "import webbrowser\n",
    "\n",
    "# simplejson 미설치에 따른 오류 발생\n",
    "# pygame 1.9.4\n",
    "# Hello from the pygame community. https://www.pygame.org/contribute.html\n",
    "# ---------------------------------------------------------------------------\n",
    "# ModuleNotFoundError                       Traceback (most recent call last)\n",
    "# <ipython-input-5-4b9ef8695e12> in <module>()\n",
    "#       5 \n",
    "#       6 import random\n",
    "# ----> 7 import pytagcloud      # requires Korean font support\n",
    "#       8 import webbrowser\n",
    "\n",
    "# C:\\Python\\Anaconda3-52\\lib\\site-packages\\pytagcloud\\__init__.py in <module>()\n",
    "#       9 import os\n",
    "#      10 import pygame\n",
    "# ---> 11 import simplejson\n",
    "#      12 \n",
    "#      13 \n",
    "\n",
    "# ModuleNotFoundError: No module named 'simplejson'\n"
   ]
  },
  {
   "cell_type": "code",
   "execution_count": 7,
   "metadata": {},
   "outputs": [
    {
     "name": "stdout",
     "output_type": "stream",
     "text": [
      "Requirement already satisfied: simplejson in c:\\python\\anaconda3-52\\lib\\site-packages (3.16.0)\n"
     ]
    }
   ],
   "source": [
    "! pip install simplejson"
   ]
  },
  {
   "cell_type": "code",
   "execution_count": 8,
   "metadata": {},
   "outputs": [],
   "source": [
    "from konlpy.tag import Hannanum\n",
    "from urllib.request import urlopen\n",
    "from lxml import html\n",
    "from collections import Counter\n",
    "\n",
    "import random\n",
    "import pytagcloud      # requires Korean font support\n",
    "import webbrowser\n"
   ]
  },
  {
   "cell_type": "markdown",
   "metadata": {},
   "source": [
    "### 설치 필요한 패키지들(6가지)\n",
    "\n",
    "> - ! pip install konlpy\n",
    "> - ! pip install JPype1\n",
    "> - ! pip install wordcloud\n",
    "> - ! pip install pytagcloud\n",
    "> - ! pip install pygame\n",
    "> - ! pip install simplejson"
   ]
  },
  {
   "cell_type": "code",
   "execution_count": 9,
   "metadata": {},
   "outputs": [],
   "source": [
    "rndno = lambda: random.randint(0, 255)\n",
    "# RGB : 255,0,0  /  0,255,0  /  0,0,255\n",
    "# 0부터 255의 숫자로 색깔 조합 만들 수 있다.\n",
    "\n",
    "color = lambda: (rndno(), rndno(), rndno())\n",
    "\n",
    "# 색깔을 랜덤으로 만들어낼 숫자 조합 뽑아내는 명령어 코드이다."
   ]
  },
  {
   "cell_type": "code",
   "execution_count": 10,
   "metadata": {},
   "outputs": [
    {
     "data": {
      "text/plain": [
       "(73, 165, 148)"
      ]
     },
     "execution_count": 10,
     "metadata": {},
     "output_type": "execute_result"
    }
   ],
   "source": [
    "color()"
   ]
  },
  {
   "cell_type": "code",
   "execution_count": 11,
   "metadata": {},
   "outputs": [],
   "source": [
    "# 대한민국 정치의 모든것 : 인물, 의안, 정당, 지역 \n",
    "def get_bill_text(billnum):\n",
    "    url = 'http://pokr.kr/bill/{num}/text'.format(num=billnum)\n",
    "    response = urlopen(url).read().decode('utf-8')\n",
    "    page = html.fromstring(response)\n",
    "    text = page.xpath(\".//div[@id='bill-sections']/pre/text()\")[0]\n",
    "    \n",
    "    return text"
   ]
  },
  {
   "cell_type": "code",
   "execution_count": 31,
   "metadata": {},
   "outputs": [
    {
     "data": {
      "text/plain": [
       "lxml.etree._ElementUnicodeResult"
      ]
     },
     "execution_count": 31,
     "metadata": {},
     "output_type": "execute_result"
    }
   ],
   "source": [
    "type(text)"
   ]
  },
  {
   "cell_type": "code",
   "execution_count": 12,
   "metadata": {},
   "outputs": [],
   "source": [
    "def get_tags(text, ntags=50, multiplier=10):\n",
    "    hannanum = Hannanum()\n",
    "    nouns = hannanum.nouns(text)\n",
    "    count = Counter(nouns)\n",
    "    return [\n",
    "        {'color' : color(),\n",
    "         'tag' : n,\n",
    "         'size' : c*multiplier,\n",
    "        }\n",
    "        for n, c in count.most_common(ntags)\n",
    "    ]\n",
    "\n",
    "\n",
    "# ntags 는 가장 빈도수가 높았던 단어들의 개수를 정해주는 변수이다.\n",
    "# size 는 글자크기가 너무 작을 수 있기 때문에 크기 조절을 위해 multiplier를 넣어줘서 조절해준다.\n"
   ]
  },
  {
   "cell_type": "code",
   "execution_count": 13,
   "metadata": {},
   "outputs": [],
   "source": [
    "def draw_cloud(tags, filename, fontname='Korean', size=(800, 600)):\n",
    "    pytagcloud.create_tag_image(tags, filename, fontname=fontname, size=size)\n",
    "    webbrowser.open(filename)\n",
    "    \n",
    "# 한글 폰트는 깨질 수 있기 때문에 json파일로 폰트를 받아와 사용해야 한다."
   ]
  },
  {
   "cell_type": "code",
   "execution_count": 14,
   "metadata": {},
   "outputs": [
    {
     "name": "stdout",
     "output_type": "stream",
     "text": [
      "\n",
      "동물보호법 일부개정법률안\n",
      "\n",
      "(이상일의원 대표발의)\n",
      "\n",
      "의 안\n",
      "번 호\n",
      "\n",
      "18479\n",
      "\n",
      "발의연월일 : 2016. 1. 20.\n",
      "\n",
      "발 의 자 : 이상일ㆍ신성범ㆍ조명철\n",
      "\n",
      "최봉홍ㆍ박창식ㆍ박윤옥\n",
      "\n",
      "박성호ㆍ유의동ㆍ이이재\n",
      "\n",
      "김태원ㆍ김성태ㆍ이종배\n",
      "\n",
      "의원(12인)\n",
      "\n",
      "제안이유 및 주요내용\n",
      "\n",
      "최근 반려동물의 치료 등에 사용되는 혈액 제공을 목적으로 사육되\n",
      "\n",
      "는 공혈견(供血犬)에 대한 학대와 사육상의 위생 및 관리감독 부실 등\n",
      "\n",
      "이 지적되고 있으나 현행법에서는 동물혈액의 판매 등에 관한 영업에\n",
      "\n",
      "대해 규정하고 있지 않아 동물보호 및 공중위생상의 사각지대가 존재\n",
      "\n",
      "함.\n",
      "\n",
      "이에 반려동물과 관련된 영업의 종류에 동물혈액판매업을 새롭게\n",
      "\n",
      "규정하여 영업자와 종사자는 영업에 필요한 준수사항을 지키고 동물\n",
      "\n",
      "보호 및 공중위생상의 교육을 받도록 하는 등 관리·감독을 강화하려는\n",
      "\n",
      "것임(안 제32조).\n",
      "\n",
      "- 1 -\n",
      "\n",
      "법률 제\n",
      "\n",
      "호\n",
      "\n",
      "동물보호법 일부개정법률안\n",
      "\n",
      "동물보호법 일부를 다음과 같이 개정한다.\n",
      "\n",
      "제32조제1항제4호를 제5호로 하고, 같은 항에 제4호를 다음과 같이 신\n",
      "\n",
      "설한다.\n",
      "\n",
      "4. 동물혈액판매 등 대통령령으로 정하는 영업\n",
      "\n",
      "제33조제1항 중 “제3호”를 “제4호”로 한다.\n",
      "\n",
      "제34조제1항 중 “제32조제1항제4호”를 “제32조제1항제5호”로 한다.\n",
      "\n",
      "제37조제1항 중 “제4호”를 “제5호”로 한다.\n",
      "\n",
      "부\n",
      "\n",
      "칙\n",
      "\n",
      "이 법은 공포 후 6개월이 경과한 날부터 시행한다.\n",
      "\n",
      "- 3 -\n",
      "\n",
      "신·구조문대비표\n",
      "\n",
      "현\n",
      "\n",
      "행\n",
      "\n",
      "개 정 안\n",
      "\n",
      "제32조(영업의 종류 및 시설기준\n",
      "\n",
      "제32조(영업의 종류 및 시설기준\n",
      "\n",
      "등) ① 농림축산식품부령으로\n",
      "\n",
      "등) ① ---------------------\n",
      "\n",
      "정하는 개·고양이·토끼 등 가정\n",
      "\n",
      "----------------------------\n",
      "\n",
      "에서 반려(伴侶)의 목적으로 기\n",
      "\n",
      "----------------------------\n",
      "\n",
      "르는 동물과 관련된 다음 각\n",
      "\n",
      "----------------------------\n",
      "\n",
      "호의 영업을 하려는 자는 농림\n",
      "\n",
      "----------------------------\n",
      "\n",
      "축산식품부령으로 정하는 기준\n",
      "\n",
      "----------------------------\n",
      "\n",
      "에 맞는 시설과 인력을 갖추어\n",
      "\n",
      "----------------------------\n",
      "\n",
      "야 한다.\n",
      "\n",
      "--------.\n",
      "\n",
      "1. ∼ 3. (생 략)\n",
      "\n",
      "1. ∼ 3. (현행과 같음)\n",
      "\n",
      "\n",
      "\n",
      "4. 동물혈액판매 등 대통령령으\n",
      "\n",
      "4. (생 략)\n",
      "\n",
      "② (생 략)\n",
      "\n",
      "로 정하는 영업\n",
      "\n",
      "5. (현행 제4호와 같음)\n",
      "\n",
      "② (현행과 같음)\n",
      "\n",
      "제33조(영업의 등록) ① 제32조제\n",
      "\n",
      "제33조(영업의 등록) ① --------\n",
      "\n",
      "1항제1호부터 제3호까지의 규\n",
      "\n",
      "-------------제4호----------\n",
      "\n",
      "정에 따른 영업을 하려는 자는\n",
      "\n",
      "----------------------------\n",
      "\n",
      "농림축산식품부령으로 정하는\n",
      "\n",
      "----------------------------\n",
      "\n",
      "바에 따라 시장·군수·구청장에\n",
      "\n",
      "----------------------------\n",
      "\n",
      "게 등록하여야 한다.\n",
      "\n",
      "------------------.\n",
      "\n",
      "②⋅③ (생 략)\n",
      "\n",
      "②⋅③ (현행과 같음)\n",
      "\n",
      "제34조(영업의 신고) ① 제32조제\n",
      "\n",
      "제34조(영업의 신고) ① 제32조제\n",
      "\n",
      "1항제4호에 규정된 영업을 하\n",
      "\n",
      "1항제5호--------------------\n",
      "\n",
      "- 5 -\n",
      "\n",
      "- 6 -\n",
      "\n",
      "려는 자는 농림축산식품부령으\n",
      "\n",
      "----------------------------\n",
      "\n",
      "로 정하는 바에 따라 시장·군\n",
      "\n",
      "----------------------------\n",
      "\n",
      "수·구청장에게 신고하여야 한\n",
      "\n",
      "---------------------------.\n",
      "\n",
      "다.\n",
      "\n",
      "②⋅③ (생 략)\n",
      "\n",
      "②⋅③ (현행과 같음)\n",
      "\n",
      "제37조(교육) ① 제32조제1항제2\n",
      "\n",
      "제37조(교육) ① ---------------\n",
      "\n",
      "호부터 제4호까지의 규정에 해\n",
      "\n",
      "------제5호-----------------\n",
      "\n",
      "당하는 영업을 하려는 자와 제\n",
      "\n",
      "----------------------------\n",
      "\n",
      "38조에 따른 영업정지 처분을\n",
      "\n",
      "----------------------------\n",
      "\n",
      "받은 영업자는 동물의 보호 및\n",
      "\n",
      "----------------------------\n",
      "\n",
      "공중위생상의 위해 방지 등에\n",
      "\n",
      "----------------------------\n",
      "\n",
      "관한 교육을 받아야 한다.\n",
      "\n",
      "-----------------------.\n",
      "\n",
      "② ∼ ④ (생 략)\n",
      "\n",
      "② ∼ ④ (현행과 같음)\n",
      "\n",
      "\n",
      "\n"
     ]
    }
   ],
   "source": [
    "# 동물보호법 일부개정법률안 번호\n",
    "bill_num = '1904882'     # 2013.05.08.\n",
    "bill_num = '1918479'     # 2016.01.20.\n",
    "text = get_bill_text(bill_num)\n",
    "print(text)"
   ]
  },
  {
   "cell_type": "code",
   "execution_count": 15,
   "metadata": {},
   "outputs": [
    {
     "data": {
      "text/plain": [
       "[{'color': (177, 218, 70), 'tag': '등', 'size': 90},\n",
       " {'color': (104, 51, 37), 'tag': '현행', 'size': 60},\n",
       " {'color': (215, 155, 107), 'tag': '1.', 'size': 30},\n",
       " {'color': (96, 64, 229), 'tag': '4.', 'size': 30},\n",
       " {'color': (51, 183, 209), 'tag': '의', 'size': 20},\n",
       " {'color': (209, 81, 78), 'tag': '관련', 'size': 20},\n",
       " {'color': (181, 251, 244), 'tag': '제', 'size': 20},\n",
       " {'color': (223, 160, 36), 'tag': '시설기준', 'size': 20},\n",
       " {'color': (197, 163, 51), 'tag': '제33조(영업', 'size': 20},\n",
       " {'color': (128, 12, 252), 'tag': '제37조(교육)', 'size': 20},\n",
       " {'color': (227, 237, 62), 'tag': '18479', 'size': 10},\n",
       " {'color': (79, 118, 134), 'tag': '이상일ㆍ신성범ㆍ조명철', 'size': 10},\n",
       " {'color': (146, 117, 83), 'tag': '12인', 'size': 10},\n",
       " {'color': (66, 12, 243), 'tag': '혈액', 'size': 10},\n",
       " {'color': (202, 199, 132), 'tag': '사육', 'size': 10},\n",
       " {'color': (86, 114, 35), 'tag': '동물혈액', 'size': 10},\n",
       " {'color': (165, 108, 142), 'tag': '함', 'size': 10},\n",
       " {'color': (213, 194, 72), 'tag': '준수사항', 'size': 10},\n",
       " {'color': (76, 48, 233), 'tag': '법률', 'size': 10},\n",
       " {'color': (158, 204, 251), 'tag': '항', 'size': 10},\n",
       " {'color': (13, 230, 44), 'tag': '제34조제1항', 'size': 10},\n",
       " {'color': (5, 160, 202), 'tag': '칙', 'size': 10},\n",
       " {'color': (188, 57, 81), 'tag': '경과한', 'size': 10},\n",
       " {'color': (239, 18, 224), 'tag': '행', 'size': 10},\n",
       " {'color': (251, 37, 29), 'tag': '기', 'size': 10},\n",
       " {'color': (225, 67, 234), 'tag': '시설', 'size': 10},\n",
       " {'color': (27, 114, 185), 'tag': '제3호까지', 'size': 10},\n",
       " {'color': (8, 12, 226), 'tag': '시장·군수', 'size': 10},\n",
       " {'color': (43, 96, 2), 'tag': '6', 'size': 10},\n",
       " {'color': (1, 123, 53), 'tag': '수·구청장에', 'size': 10},\n",
       " {'color': (222, 207, 13), 'tag': '38조', 'size': 10}]"
      ]
     },
     "execution_count": 15,
     "metadata": {},
     "output_type": "execute_result"
    }
   ],
   "source": [
    "tags = get_tags(text)\n",
    "tags = get_tags(text, ntags=200)\n",
    "tags[::5]"
   ]
  },
  {
   "cell_type": "code",
   "execution_count": 16,
   "metadata": {},
   "outputs": [
    {
     "data": {
      "text/plain": [
       "155"
      ]
     },
     "execution_count": 16,
     "metadata": {},
     "output_type": "execute_result"
    }
   ],
   "source": [
    "len(tags)"
   ]
  },
  {
   "cell_type": "code",
   "execution_count": 17,
   "metadata": {},
   "outputs": [
    {
     "data": {
      "text/plain": [
       "['0', '1', '2', '3', '4', '5', '6', '7', '8', '9']"
      ]
     },
     "execution_count": 17,
     "metadata": {},
     "output_type": "execute_result"
    }
   ],
   "source": [
    "# number_word = [str(i) for i in range(10)]\n",
    "number_word = list(str(i) for i in range(10))\n",
    "number_word\n",
    "\n",
    "# 의미 없는 단어들을 리스트에 포함시킨 뒤 내용에 속해 있는지 in을 활용해 걸러냈듯이\n",
    "# 숫자값은 의미가 없어 거르기 위해 모아주는 것이다."
   ]
  },
  {
   "cell_type": "code",
   "execution_count": 18,
   "metadata": {},
   "outputs": [
    {
     "data": {
      "text/plain": [
       "['①', '②', '③', '④', '⑤', '⑥', '⑦', '⑧', '⑨', '⑩', '⑪', '⑫', '⑬', '⑭', '⑮']"
      ]
     },
     "execution_count": 18,
     "metadata": {},
     "output_type": "execute_result"
    }
   ],
   "source": [
    "circle_word = list(\"①②③④⑤⑥⑦⑧⑨⑩⑪⑫⑬⑭⑮\")\n",
    "circle_word\n",
    "\n",
    "# 동그라미 안에 숫자가 있는 글자도 다 걸러버리기 위해 모아놓은 것이다."
   ]
  },
  {
   "cell_type": "code",
   "execution_count": 19,
   "metadata": {},
   "outputs": [],
   "source": [
    "filter_word = number_word + circle_word\n",
    "# filter_word\n",
    "\n",
    "# 걸러낼 문자들을 한번에 모아놓은 것이다."
   ]
  },
  {
   "cell_type": "code",
   "execution_count": 20,
   "metadata": {},
   "outputs": [
    {
     "data": {
      "text/plain": [
       "80"
      ]
     },
     "execution_count": 20,
     "metadata": {},
     "output_type": "execute_result"
    }
   ],
   "source": [
    "result_tags = [] \n",
    "\n",
    "# filtering word\n",
    "number_word = list(str(i) for i in range(10))\n",
    "circle_word = list('①②③④⑤⑥⑦⑧⑨⑩⑪⑫⑬⑭⑮')\n",
    "# 동그라미 숫자같은 ascii 글자들은 한글자음 + 한자키 눌러서 고르는 식으로 입력한다.\n",
    "escape_word = list('. , -  ) ( “ \\\\ \\' \\\" ')\n",
    "filter_word = number_word + circle_word + escape_word\n",
    "# 날려버릴, 즉 필요 없는 글자들을 모아놓은 것이다.\n",
    "\n",
    "for tag in tags:\n",
    "    t_val = tag['tag'] \n",
    "\n",
    "    if len(t_val)==1:\n",
    "        continue\n",
    "    elif t_val[0] in filter_word or t_val[1] in filter_word:\n",
    "        continue\n",
    "    else:\n",
    "        result_tags.append(tag)\n",
    "    \n",
    "len(result_tags)\n",
    "# 1글자짜리 글자를 날려버리고, \n"
   ]
  },
  {
   "cell_type": "code",
   "execution_count": 21,
   "metadata": {},
   "outputs": [
    {
     "data": {
      "text/plain": [
       "[{'color': (173, 4, 98), 'tag': '영업', 'size': 90},\n",
       " {'color': (104, 51, 37), 'tag': '현행', 'size': 60},\n",
       " {'color': (197, 182, 123), 'tag': '동물보호법', 'size': 30},\n",
       " {'color': (111, 86, 133), 'tag': '공중위생상', 'size': 30},\n",
       " {'color': (216, 112, 196), 'tag': '종류', 'size': 30},\n",
       " {'color': (112, 62, 179), 'tag': '동물', 'size': 30},\n",
       " {'color': (125, 217, 78), 'tag': '다음', 'size': 30},\n",
       " {'color': (44, 212, 101), 'tag': '등록', 'size': 30},\n",
       " {'color': (183, 55, 110), 'tag': '일부개정법률안', 'size': 20},\n",
       " {'color': (23, 101, 172), 'tag': '반려동물', 'size': 20},\n",
       " {'color': (60, 148, 47), 'tag': '목적', 'size': 20},\n",
       " {'color': (204, 166, 160), 'tag': '규정하', 'size': 20},\n",
       " {'color': (209, 81, 78), 'tag': '관련', 'size': 20},\n",
       " {'color': (106, 82, 88), 'tag': '영업자', 'size': 20},\n",
       " {'color': (191, 176, 223), 'tag': '보호', 'size': 20},\n",
       " {'color': (211, 136, 224), 'tag': '교육', 'size': 20},\n",
       " {'color': (27, 53, 81), 'tag': '동물혈액판매', 'size': 20},\n",
       " {'color': (223, 160, 36), 'tag': '시설기준', 'size': 20},\n",
       " {'color': (167, 187, 36), 'tag': '농림축산식품부령', 'size': 20},\n",
       " {'color': (0, 21, 141), 'tag': '신고', 'size': 20},\n",
       " {'color': (193, 234, 231), 'tag': '규정', 'size': 20},\n",
       " {'color': (233, 255, 196), 'tag': '이상일의원', 'size': 10},\n",
       " {'color': (253, 112, 28), 'tag': '대표발의', 'size': 10},\n",
       " {'color': (82, 177, 90), 'tag': '발의연월일', 'size': 10},\n",
       " {'color': (79, 118, 134), 'tag': '이상일ㆍ신성범ㆍ조명철', 'size': 10},\n",
       " {'color': (168, 183, 73), 'tag': '최봉홍ㆍ박창식ㆍ박윤옥', 'size': 10},\n",
       " {'color': (62, 200, 162), 'tag': '박성호ㆍ유의동ㆍ이이재', 'size': 10},\n",
       " {'color': (116, 29, 87), 'tag': '김태원ㆍ김성태ㆍ이종배', 'size': 10},\n",
       " {'color': (174, 21, 206), 'tag': '의원', 'size': 10},\n",
       " {'color': (13, 52, 232), 'tag': '제안이유', 'size': 10},\n",
       " {'color': (123, 115, 37), 'tag': '주요내용', 'size': 10},\n",
       " {'color': (112, 255, 231), 'tag': '치료', 'size': 10},\n",
       " {'color': (170, 69, 58), 'tag': '사용', 'size': 10},\n",
       " {'color': (66, 12, 243), 'tag': '혈액', 'size': 10},\n",
       " {'color': (160, 227, 158), 'tag': '제공', 'size': 10},\n",
       " {'color': (219, 61, 12), 'tag': '사육되', 'size': 10},\n",
       " {'color': (164, 129, 195), 'tag': '공혈견(供血犬)', 'size': 10},\n",
       " {'color': (36, 195, 232), 'tag': '학대', 'size': 10},\n",
       " {'color': (202, 199, 132), 'tag': '사육', 'size': 10},\n",
       " {'color': (178, 43, 104), 'tag': '위생', 'size': 10},\n",
       " {'color': (226, 40, 97), 'tag': '관리감독', 'size': 10},\n",
       " {'color': (35, 200, 155), 'tag': '지적', 'size': 10},\n",
       " {'color': (38, 81, 236), 'tag': '현행법', 'size': 10},\n",
       " {'color': (86, 114, 35), 'tag': '동물혈액', 'size': 10},\n",
       " {'color': (10, 160, 47), 'tag': '판매', 'size': 10},\n",
       " {'color': (34, 73, 220), 'tag': '동물보호', 'size': 10},\n",
       " {'color': (43, 231, 20), 'tag': '사각지대', 'size': 10},\n",
       " {'color': (186, 216, 189), 'tag': '존재', 'size': 10},\n",
       " {'color': (9, 222, 103), 'tag': '동물혈액판매업', 'size': 10},\n",
       " {'color': (147, 109, 24), 'tag': '종사자', 'size': 10},\n",
       " {'color': (56, 84, 221), 'tag': '필요', 'size': 10},\n",
       " {'color': (213, 194, 72), 'tag': '준수사항', 'size': 10},\n",
       " {'color': (27, 120, 28), 'tag': '관리·감독', 'size': 10},\n",
       " {'color': (251, 75, 193), 'tag': '강화', 'size': 10},\n",
       " {'color': (76, 48, 233), 'tag': '법률', 'size': 10},\n",
       " {'color': (117, 180, 125), 'tag': '일부', 'size': 10},\n",
       " {'color': (74, 252, 215), 'tag': '개정', 'size': 10},\n",
       " {'color': (46, 123, 37), 'tag': '대통령령', 'size': 10},\n",
       " {'color': (49, 168, 50), 'tag': '공포', 'size': 10},\n",
       " {'color': (188, 57, 81), 'tag': '경과한', 'size': 10},\n",
       " {'color': (230, 139, 237), 'tag': '시행', 'size': 10},\n",
       " {'color': (59, 170, 249), 'tag': '신·구조문대비표', 'size': 10},\n",
       " {'color': (78, 64, 121), 'tag': '개·고양이·토끼', 'size': 10},\n",
       " {'color': (70, 139, 237), 'tag': '가정', 'size': 10},\n",
       " {'color': (242, 106, 105), 'tag': '반려(伴侶)', 'size': 10},\n",
       " {'color': (27, 190, 88), 'tag': '농림', 'size': 10},\n",
       " {'color': (73, 41, 8), 'tag': '축산식품부령', 'size': 10},\n",
       " {'color': (179, 81, 7), 'tag': '기준', 'size': 10},\n",
       " {'color': (225, 67, 234), 'tag': '시설', 'size': 10},\n",
       " {'color': (101, 245, 253), 'tag': '인력', 'size': 10},\n",
       " {'color': (96, 12, 158), 'tag': '대통령령으', 'size': 10},\n",
       " {'color': (8, 12, 226), 'tag': '시장·군수', 'size': 10},\n",
       " {'color': (220, 230, 48), 'tag': '구청장', 'size': 10},\n",
       " {'color': (47, 204, 156), 'tag': '농림축산식품부령으', 'size': 10},\n",
       " {'color': (243, 138, 0), 'tag': '시장', 'size': 10},\n",
       " {'color': (1, 123, 53), 'tag': '수·구청장에', 'size': 10},\n",
       " {'color': (55, 208, 176), 'tag': '영업정지', 'size': 10},\n",
       " {'color': (149, 71, 93), 'tag': '처분', 'size': 10},\n",
       " {'color': (164, 55, 159), 'tag': '방지', 'size': 10},\n",
       " {'color': (61, 101, 109), 'tag': '등에', 'size': 10}]"
      ]
     },
     "execution_count": 21,
     "metadata": {},
     "output_type": "execute_result"
    }
   ],
   "source": [
    "result_tags[:]"
   ]
  },
  {
   "cell_type": "raw",
   "metadata": {},
   "source": [
    "def draw_cloud(tags, filename, fontname='Korean', size=(800, 600)):\n",
    "    pytagcloud.create_tag_image(tags, filename, fontname=fontname, size=size)\n",
    "    webbrowser.open(filename)"
   ]
  },
  {
   "cell_type": "code",
   "execution_count": 22,
   "metadata": {},
   "outputs": [
    {
     "name": "stdout",
     "output_type": "stream",
     "text": [
      " C 드라이브의 볼륨에는 이름이 없습니다.\n",
      " 볼륨 일련 번호: 3EFF-82E2\n",
      "\n",
      " C:\\Users\\student\\Anaconda_src\\wordcloud 디렉터리\n",
      "\n",
      "2018-11-10  오후 02:10    <DIR>          .\n",
      "2018-11-10  오후 02:10    <DIR>          ..\n",
      "2018-11-10  오후 02:15            53,601 wc_aniaml_law.png\n",
      "               1개 파일              53,601 바이트\n",
      "               2개 디렉터리  406,562,492,416 바이트 남음\n"
     ]
    }
   ],
   "source": [
    "! dir wordcloud"
   ]
  },
  {
   "cell_type": "code",
   "execution_count": 23,
   "metadata": {},
   "outputs": [
    {
     "name": "stderr",
     "output_type": "stream",
     "text": [
      "하위 디렉터리 또는 파일 wordcloud이(가) 이미 있습니다.\n"
     ]
    }
   ],
   "source": [
    "! mkdir wordcloud"
   ]
  },
  {
   "cell_type": "code",
   "execution_count": 24,
   "metadata": {},
   "outputs": [],
   "source": [
    "# draw_cloud(tags, 'wordcloud/동물보호법.png')\n",
    "# draw_cloud(result_tags, img_wordcloud)\n",
    "\n",
    "img_wordcloud = 'wordcloud/wc_aniaml_law.png'\n",
    "draw_cloud(result_tags, img_wordcloud, fontname='Korean', size=(500, 350))\n",
    "\n",
    "\n",
    "# 폰트를 지원하지 못한다는 오류가 발생한다.\n",
    "# C:\\Python\\Anaconda3-52\\Lib\\site-packages\\pytagcloud\\fonts 경로에 다운받은 json 폰트 파일을 복사하면 된다.\n"
   ]
  },
  {
   "cell_type": "code",
   "execution_count": 28,
   "metadata": {},
   "outputs": [
    {
     "data": {
      "image/png": "[encoded data removed]",
      "text/plain": [
       "<IPython.core.display.Image object>"
      ]
     },
     "execution_count": 28,
     "metadata": {},
     "output_type": "execute_result"
    }
   ],
   "source": [
    "Image(img_wordcloud)"
   ]
  },
  {
   "cell_type": "code",
   "execution_count": 29,
   "metadata": {},
   "outputs": [
    {
     "data": {
      "image/png": "[encoded data removed]",
      "text/plain": [
       "<IPython.core.display.Image object>"
      ]
     },
     "execution_count": 29,
     "metadata": {},
     "output_type": "execute_result"
    }
   ],
   "source": [
    "img_wordcloud = 'wordcloud/wc_aniaml_law.png'\n",
    "draw_cloud(result_tags, img_wordcloud, fontname='Korean', size=(600, 400))\n",
    "Image(img_wordcloud)"
   ]
  },
  {
   "cell_type": "code",
   "execution_count": null,
   "metadata": {},
   "outputs": [],
   "source": []
  },
  {
   "cell_type": "code",
   "execution_count": null,
   "metadata": {},
   "outputs": [],
   "source": []
  }
 ],
 "metadata": {
  "kernelspec": {
   "display_name": "Python 3",
   "language": "python",
   "name": "python3"
  },
  "language_info": {
   "codemirror_mode": {
    "name": "ipython",
    "version": 3
   },
   "file_extension": ".py",
   "mimetype": "text/x-python",
   "name": "python",
   "nbconvert_exporter": "python",
   "pygments_lexer": "ipython3",
   "version": "3.6.5"
  }
 },
 "nbformat": 4,
 "nbformat_minor": 2
}
