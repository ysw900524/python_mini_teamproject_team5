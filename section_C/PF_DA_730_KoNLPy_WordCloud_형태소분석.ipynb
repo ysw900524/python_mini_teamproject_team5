{
 "cells": [
  {
   "cell_type": "markdown",
   "metadata": {},
   "source": [
    "# KoNLPy : 파이썬 한국어 NLP \n",
    "> 코엔엘파이, 한국어 처리를 위한 파이썬 패키지\n",
    "\n",
    "> - Hannanum Class\n",
    "- Kkma Class\n",
    "- Komoran Class\n",
    "- Mecab Class\n",
    "- Twitter Class"
   ]
  },
  {
   "cell_type": "code",
   "execution_count": 1,
   "metadata": {},
   "outputs": [],
   "source": [
    "from konlpy.tag import Hannanum\n",
    "from konlpy.tag import Kkma\n",
    "from konlpy.tag import Komoran\n",
    "from konlpy.tag import Mecab\n",
    "from konlpy.tag import Twitter"
   ]
  },
  {
   "cell_type": "markdown",
   "metadata": {},
   "source": [
    "### Hannanum "
   ]
  },
  {
   "cell_type": "code",
   "execution_count": 2,
   "metadata": {},
   "outputs": [],
   "source": [
    "text = '자연어처리는 재미있습니다. 그러나 한국어 분석은 쉽지않습니다.'"
   ]
  },
  {
   "cell_type": "code",
   "execution_count": 3,
   "metadata": {},
   "outputs": [],
   "source": [
    "hannanum = Hannanum()"
   ]
  },
  {
   "cell_type": "code",
   "execution_count": 4,
   "metadata": {},
   "outputs": [
    {
     "data": {
      "text/plain": [
       "[[[('자연어처리', 'ncpa'), ('는', 'jxc')],\n",
       "  [('자연어', 'ncn'), ('처리', 'ncpa'), ('는', 'jxc')]],\n",
       " [[('재미있', 'pvg'), ('습니다', 'ef')],\n",
       "  [('재미', 'ncn'), ('있', 'xsmn'), ('습니다', 'ef')]],\n",
       " [[('.', 'sf')], [('.', 'sy')]],\n",
       " [],\n",
       " [[('그러나', 'maj')]],\n",
       " [[('한국어', 'ncn')]],\n",
       " [[('분석', 'ncpa'), ('은', 'jxc')], [('분석', 'ncpa'), ('은', 'ncn')]],\n",
       " [[('쉽', 'paa'), ('지', 'ecx'), ('않', 'px'), ('습니다', 'ef')]],\n",
       " [[('.', 'sf')], [('.', 'sy')]]]"
      ]
     },
     "execution_count": 4,
     "metadata": {},
     "output_type": "execute_result"
    }
   ],
   "source": [
    "hannanum.analyze(text)\n",
    "\n"
   ]
  },
  {
   "cell_type": "code",
   "execution_count": 5,
   "metadata": {},
   "outputs": [
    {
     "data": {
      "text/plain": [
       "['자연어처리',\n",
       " '는',\n",
       " '재미있',\n",
       " '습니다',\n",
       " '.',\n",
       " '그러나',\n",
       " '한국어',\n",
       " '분석',\n",
       " '은',\n",
       " '쉽',\n",
       " '지',\n",
       " '않',\n",
       " '습니다',\n",
       " '.']"
      ]
     },
     "execution_count": 5,
     "metadata": {},
     "output_type": "execute_result"
    }
   ],
   "source": [
    "hannanum.morphs(text)\n",
    "\n",
    "# 형태소만 가지고 오고 싶은 경우"
   ]
  },
  {
   "cell_type": "code",
   "execution_count": 6,
   "metadata": {},
   "outputs": [
    {
     "data": {
      "text/plain": [
       "['자연어처리', '한국어', '분석']"
      ]
     },
     "execution_count": 6,
     "metadata": {},
     "output_type": "execute_result"
    }
   ],
   "source": [
    "hannanum.nouns(text)"
   ]
  },
  {
   "cell_type": "code",
   "execution_count": 7,
   "metadata": {},
   "outputs": [
    {
     "data": {
      "text/plain": [
       "[('자연어처리', 'N'),\n",
       " ('는', 'J'),\n",
       " ('재미있', 'P'),\n",
       " ('습니다', 'E'),\n",
       " ('.', 'S'),\n",
       " ('그러나', 'M'),\n",
       " ('한국어', 'N'),\n",
       " ('분석', 'N'),\n",
       " ('은', 'J'),\n",
       " ('쉽', 'P'),\n",
       " ('지', 'E'),\n",
       " ('않', 'P'),\n",
       " ('습니다', 'E'),\n",
       " ('.', 'S')]"
      ]
     },
     "execution_count": 7,
     "metadata": {},
     "output_type": "execute_result"
    }
   ],
   "source": [
    "hannanum.pos(text)"
   ]
  },
  {
   "cell_type": "markdown",
   "metadata": {},
   "source": [
    "### Kkma"
   ]
  },
  {
   "cell_type": "code",
   "execution_count": 8,
   "metadata": {},
   "outputs": [],
   "source": [
    "text = '''\n",
    "꼬꼬마 한글 형태소 분석기는 Java 라이브러리로써 jar 파일 형태로 배포한다.\n",
    "사전을 메모리에 적재하기 위한 충분한 힙메모리를 지정해주어야 한다. \n",
    "따라서 512''B이상의 메모리를 지정할 것을 권장한다.\n",
    "'''"
   ]
  },
  {
   "cell_type": "code",
   "execution_count": 9,
   "metadata": {},
   "outputs": [],
   "source": [
    "kkma = Kkma()\n"
   ]
  },
  {
   "cell_type": "code",
   "execution_count": 10,
   "metadata": {},
   "outputs": [
    {
     "data": {
      "text/plain": [
       "['꼬꼬마',\n",
       " '한글',\n",
       " '형태소',\n",
       " '분석기',\n",
       " '는',\n",
       " 'Java',\n",
       " '라이브러리',\n",
       " '로써',\n",
       " 'jar',\n",
       " '파일',\n",
       " '형태',\n",
       " '로',\n",
       " '배포',\n",
       " '하',\n",
       " 'ㄴ다',\n",
       " '.',\n",
       " '사전',\n",
       " '을',\n",
       " '메모리',\n",
       " '에',\n",
       " '적재',\n",
       " '하',\n",
       " '기',\n",
       " '위하',\n",
       " 'ㄴ',\n",
       " '충분',\n",
       " '하',\n",
       " 'ㄴ',\n",
       " '힙',\n",
       " '메모리',\n",
       " '를',\n",
       " '지정',\n",
       " '하',\n",
       " '어',\n",
       " '주',\n",
       " '어야',\n",
       " '하',\n",
       " 'ㄴ다',\n",
       " '.',\n",
       " '따르',\n",
       " '아서',\n",
       " '512',\n",
       " \"''\",\n",
       " 'B',\n",
       " '이상',\n",
       " '의',\n",
       " '메모리',\n",
       " '를',\n",
       " '지정',\n",
       " '하',\n",
       " 'ㄹ',\n",
       " '것',\n",
       " '을',\n",
       " '권장',\n",
       " '하',\n",
       " 'ㄴ다',\n",
       " '.']"
      ]
     },
     "execution_count": 10,
     "metadata": {},
     "output_type": "execute_result"
    }
   ],
   "source": [
    "kkma.morphs(text)"
   ]
  },
  {
   "cell_type": "code",
   "execution_count": 11,
   "metadata": {},
   "outputs": [
    {
     "data": {
      "text/plain": [
       "['꼬꼬마',\n",
       " '한글',\n",
       " '형태소',\n",
       " '분석기',\n",
       " '라이브러리',\n",
       " '파일',\n",
       " '형태',\n",
       " '배포',\n",
       " '사전',\n",
       " '메모리',\n",
       " '적재',\n",
       " '힙',\n",
       " '힙메모리',\n",
       " '지정',\n",
       " '512',\n",
       " '이상',\n",
       " '권장']"
      ]
     },
     "execution_count": 11,
     "metadata": {},
     "output_type": "execute_result"
    }
   ],
   "source": [
    "kkma.nouns(text)"
   ]
  },
  {
   "cell_type": "code",
   "execution_count": 12,
   "metadata": {},
   "outputs": [
    {
     "data": {
      "text/plain": [
       "[('꼬꼬마', 'NNG'),\n",
       " ('한글', 'NNG'),\n",
       " ('형태소', 'NNG'),\n",
       " ('분석기', 'NNG'),\n",
       " ('는', 'JX'),\n",
       " ('Java', 'OL'),\n",
       " ('라이브러리', 'NNG'),\n",
       " ('로써', 'JKM'),\n",
       " ('jar', 'OL'),\n",
       " ('파일', 'NNG'),\n",
       " ('형태', 'NNG'),\n",
       " ('로', 'JKM'),\n",
       " ('배포', 'NNG'),\n",
       " ('하', 'XSV'),\n",
       " ('ㄴ다', 'EFN'),\n",
       " ('.', 'SF'),\n",
       " ('사전', 'NNG'),\n",
       " ('을', 'JKO'),\n",
       " ('메모리', 'NNG'),\n",
       " ('에', 'JKM'),\n",
       " ('적재', 'NNG'),\n",
       " ('하', 'XSV'),\n",
       " ('기', 'ETN'),\n",
       " ('위하', 'VV'),\n",
       " ('ㄴ', 'ETD'),\n",
       " ('충분', 'XR'),\n",
       " ('하', 'XSA'),\n",
       " ('ㄴ', 'ETD'),\n",
       " ('힙', 'NNG'),\n",
       " ('메모리', 'NNG'),\n",
       " ('를', 'JKO'),\n",
       " ('지정', 'NNG'),\n",
       " ('하', 'XSV'),\n",
       " ('어', 'ECS'),\n",
       " ('주', 'VXV'),\n",
       " ('어야', 'ECD'),\n",
       " ('하', 'VV'),\n",
       " ('ㄴ다', 'EFN'),\n",
       " ('.', 'SF'),\n",
       " ('따르', 'VV'),\n",
       " ('아서', 'ECD'),\n",
       " ('512', 'NR'),\n",
       " (\"''\", 'SW'),\n",
       " ('B', 'OL'),\n",
       " ('이상', 'NNG'),\n",
       " ('의', 'JKG'),\n",
       " ('메모리', 'NNG'),\n",
       " ('를', 'JKO'),\n",
       " ('지정', 'NNG'),\n",
       " ('하', 'XSV'),\n",
       " ('ㄹ', 'ETD'),\n",
       " ('것', 'NNB'),\n",
       " ('을', 'JKO'),\n",
       " ('권장', 'NNG'),\n",
       " ('하', 'XSV'),\n",
       " ('ㄴ다', 'EFN'),\n",
       " ('.', 'SF')]"
      ]
     },
     "execution_count": 12,
     "metadata": {},
     "output_type": "execute_result"
    }
   ],
   "source": [
    "kkma.pos(text)"
   ]
  },
  {
   "cell_type": "code",
   "execution_count": 13,
   "metadata": {},
   "outputs": [
    {
     "data": {
      "text/plain": [
       "['꼬꼬마 한글 형태소 분석기는 Java 라이브러리로써 jar 파일 형태로 배포한다.',\n",
       " '사전을 메모리에 적재하기 위한 충분한 힙 메모리를 지정해 주어야 한다.',\n",
       " \"따라서 512''B 이상의 메모리를 지정할 것을 권장한다.\"]"
      ]
     },
     "execution_count": 13,
     "metadata": {},
     "output_type": "execute_result"
    }
   ],
   "source": [
    "kkma.sentences(text)"
   ]
  },
  {
   "cell_type": "markdown",
   "metadata": {},
   "source": [
    "### Komoran "
   ]
  },
  {
   "cell_type": "code",
   "execution_count": 14,
   "metadata": {},
   "outputs": [],
   "source": [
    "text = '코모란도 오픈소스가 되었어요. 근데 메모리를 너무 먹네요ㅠㅠ'"
   ]
  },
  {
   "cell_type": "code",
   "execution_count": 15,
   "metadata": {},
   "outputs": [],
   "source": [
    "komoran = Komoran()"
   ]
  },
  {
   "cell_type": "code",
   "execution_count": null,
   "metadata": {},
   "outputs": [],
   "source": [
    "# komoran.morphs(text)"
   ]
  },
  {
   "cell_type": "code",
   "execution_count": null,
   "metadata": {},
   "outputs": [],
   "source": [
    "# komoran.nouns(temp_text)"
   ]
  },
  {
   "cell_type": "code",
   "execution_count": null,
   "metadata": {},
   "outputs": [],
   "source": [
    "# komoran.pos(temp_text)"
   ]
  },
  {
   "cell_type": "markdown",
   "metadata": {},
   "source": [
    "### Twitter "
   ]
  },
  {
   "cell_type": "code",
   "execution_count": 17,
   "metadata": {},
   "outputs": [],
   "source": [
    "last_message = '''\n",
    "안녕하세요!\n",
    "오늘이 마지막 수업이군요.\n",
    "짧은 과정이었지만 파이썬이라는 프로그램언어를 통해 데이터분석 입문의 디딤돌이 되고자 노력했습니다.\n",
    "노력은 절대 배신하지 않는다는 말을 믿습니다.\n",
    "언제 어디서 무슨일을 하던지 항상 응원하겠습니다.\n",
    "그동안 수고 많으셨습니다.\n",
    "'''"
   ]
  },
  {
   "cell_type": "code",
   "execution_count": 18,
   "metadata": {},
   "outputs": [
    {
     "name": "stderr",
     "output_type": "stream",
     "text": [
      "C:\\Python\\Anaconda3-52\\lib\\site-packages\\konlpy\\tag\\_okt.py:16: UserWarning: \"Twitter\" has changed to \"Okt\" since KoNLPy v0.4.5.\n",
      "  warn('\"Twitter\" has changed to \"Okt\" since KoNLPy v0.4.5.')\n"
     ]
    }
   ],
   "source": [
    "twitter = Twitter()"
   ]
  },
  {
   "cell_type": "code",
   "execution_count": 19,
   "metadata": {},
   "outputs": [
    {
     "data": {
      "text/plain": [
       "['\\n',\n",
       " '안녕하세요',\n",
       " '!',\n",
       " '\\n',\n",
       " '오늘이',\n",
       " '마지막',\n",
       " '수업',\n",
       " '이군',\n",
       " '요',\n",
       " '.',\n",
       " '\\n',\n",
       " '짧은',\n",
       " '과정',\n",
       " '이었지만',\n",
       " '파이썬',\n",
       " '이라는',\n",
       " '프로그램',\n",
       " '언어',\n",
       " '를',\n",
       " '통해',\n",
       " '데이터',\n",
       " '분석',\n",
       " '입문',\n",
       " '의',\n",
       " '디딤돌',\n",
       " '이',\n",
       " '되고자',\n",
       " '노력',\n",
       " '했습니다',\n",
       " '.',\n",
       " '\\n',\n",
       " '노력',\n",
       " '은',\n",
       " '절대',\n",
       " '배신',\n",
       " '하지',\n",
       " '않는다는',\n",
       " '말',\n",
       " '을',\n",
       " '믿습니다',\n",
       " '.',\n",
       " '\\n',\n",
       " '언제',\n",
       " '어디서',\n",
       " '무슨',\n",
       " '일',\n",
       " '을',\n",
       " '하던지',\n",
       " '항상',\n",
       " '응원',\n",
       " '하겠습니다',\n",
       " '.',\n",
       " '\\n',\n",
       " '그동안',\n",
       " '수고',\n",
       " '많으셨습니다',\n",
       " '.',\n",
       " '\\n']"
      ]
     },
     "execution_count": 19,
     "metadata": {},
     "output_type": "execute_result"
    }
   ],
   "source": [
    "twitter.morphs(last_message)"
   ]
  },
  {
   "cell_type": "code",
   "execution_count": 20,
   "metadata": {},
   "outputs": [
    {
     "data": {
      "text/plain": [
       "['오늘이',\n",
       " '오늘이 마지막',\n",
       " '오늘이 마지막 수업이군',\n",
       " '짧은 과정',\n",
       " '파이썬',\n",
       " '프로그램언어',\n",
       " '통해',\n",
       " '통해 데이터분석',\n",
       " '통해 데이터분석 입문',\n",
       " '통해 데이터분석 입문의 디딤돌',\n",
       " '노력',\n",
       " '절대',\n",
       " '절대 배신',\n",
       " '언제',\n",
       " '무슨일',\n",
       " '항상',\n",
       " '항상 응원',\n",
       " '그동안',\n",
       " '그동안 수고',\n",
       " '마지막',\n",
       " '수업',\n",
       " '이군',\n",
       " '과정',\n",
       " '프로그램',\n",
       " '언어',\n",
       " '데이터',\n",
       " '분석',\n",
       " '입문',\n",
       " '디딤돌',\n",
       " '배신',\n",
       " '응원',\n",
       " '수고']"
      ]
     },
     "execution_count": 20,
     "metadata": {},
     "output_type": "execute_result"
    }
   ],
   "source": [
    "twitter.phrases(last_message)"
   ]
  },
  {
   "cell_type": "code",
   "execution_count": 21,
   "metadata": {},
   "outputs": [
    {
     "data": {
      "text/plain": [
       "[('\\n', 'Foreign'),\n",
       " ('안녕하세요', 'Adjective'),\n",
       " ('!', 'Punctuation'),\n",
       " ('\\n', 'Foreign'),\n",
       " ('오늘이', 'Noun'),\n",
       " ('마지막', 'Noun'),\n",
       " ('수업', 'Noun'),\n",
       " ('이군', 'Noun'),\n",
       " ('요', 'Josa'),\n",
       " ('.', 'Punctuation'),\n",
       " ('\\n', 'Foreign'),\n",
       " ('짧은', 'Adjective'),\n",
       " ('과정', 'Noun'),\n",
       " ('이었지만', 'Verb'),\n",
       " ('파이썬', 'Noun'),\n",
       " ('이라는', 'Josa'),\n",
       " ('프로그램', 'Noun'),\n",
       " ('언어', 'Noun'),\n",
       " ('를', 'Josa'),\n",
       " ('통해', 'Noun'),\n",
       " ('데이터', 'Noun'),\n",
       " ('분석', 'Noun'),\n",
       " ('입문', 'Noun'),\n",
       " ('의', 'Josa'),\n",
       " ('디딤돌', 'Noun'),\n",
       " ('이', 'Josa'),\n",
       " ('되고자', 'Verb'),\n",
       " ('노력', 'Noun'),\n",
       " ('했습니다', 'Verb'),\n",
       " ('.', 'Punctuation'),\n",
       " ('\\n', 'Foreign'),\n",
       " ('노력', 'Noun'),\n",
       " ('은', 'Josa'),\n",
       " ('절대', 'Noun'),\n",
       " ('배신', 'Noun'),\n",
       " ('하지', 'Verb'),\n",
       " ('않는다는', 'Verb'),\n",
       " ('말', 'Noun'),\n",
       " ('을', 'Josa'),\n",
       " ('믿습니다', 'Verb'),\n",
       " ('.', 'Punctuation'),\n",
       " ('\\n', 'Foreign'),\n",
       " ('언제', 'Noun'),\n",
       " ('어디서', 'Adverb'),\n",
       " ('무슨', 'Modifier'),\n",
       " ('일', 'Noun'),\n",
       " ('을', 'Josa'),\n",
       " ('하던지', 'Verb'),\n",
       " ('항상', 'Noun'),\n",
       " ('응원', 'Noun'),\n",
       " ('하겠습니다', 'Verb'),\n",
       " ('.', 'Punctuation'),\n",
       " ('\\n', 'Foreign'),\n",
       " ('그동안', 'Noun'),\n",
       " ('수고', 'Noun'),\n",
       " ('많으셨습니다', 'Adjective'),\n",
       " ('.', 'Punctuation'),\n",
       " ('\\n', 'Foreign')]"
      ]
     },
     "execution_count": 21,
     "metadata": {},
     "output_type": "execute_result"
    }
   ],
   "source": [
    "twitter.pos(last_message)"
   ]
  },
  {
   "cell_type": "code",
   "execution_count": 22,
   "metadata": {},
   "outputs": [
    {
     "data": {
      "text/plain": [
       "[('\\n', 'Foreign'),\n",
       " ('안녕하세요', 'Adjective'),\n",
       " ('!', 'Punctuation'),\n",
       " ('\\n', 'Foreign'),\n",
       " ('오늘이', 'Noun'),\n",
       " ('마지막', 'Noun'),\n",
       " ('수업', 'Noun'),\n",
       " ('이군', 'Noun'),\n",
       " ('요', 'Josa'),\n",
       " ('.', 'Punctuation'),\n",
       " ('\\n', 'Foreign'),\n",
       " ('짧은', 'Adjective'),\n",
       " ('과정', 'Noun'),\n",
       " ('이었지만', 'Verb'),\n",
       " ('파이썬', 'Noun'),\n",
       " ('이라는', 'Josa'),\n",
       " ('프로그램', 'Noun'),\n",
       " ('언어', 'Noun'),\n",
       " ('를', 'Josa'),\n",
       " ('통해', 'Noun'),\n",
       " ('데이터', 'Noun'),\n",
       " ('분석', 'Noun'),\n",
       " ('입문', 'Noun'),\n",
       " ('의', 'Josa'),\n",
       " ('디딤돌', 'Noun'),\n",
       " ('이', 'Josa'),\n",
       " ('되고자', 'Verb'),\n",
       " ('노력', 'Noun'),\n",
       " ('했습니다', 'Verb'),\n",
       " ('.', 'Punctuation'),\n",
       " ('\\n', 'Foreign'),\n",
       " ('노력', 'Noun'),\n",
       " ('은', 'Josa'),\n",
       " ('절대', 'Noun'),\n",
       " ('배신', 'Noun'),\n",
       " ('하지', 'Verb'),\n",
       " ('않는다는', 'Verb'),\n",
       " ('말', 'Noun'),\n",
       " ('을', 'Josa'),\n",
       " ('믿습니다', 'Verb'),\n",
       " ('.', 'Punctuation'),\n",
       " ('\\n', 'Foreign'),\n",
       " ('언제', 'Noun'),\n",
       " ('어디서', 'Adverb'),\n",
       " ('무슨', 'Modifier'),\n",
       " ('일', 'Noun'),\n",
       " ('을', 'Josa'),\n",
       " ('하던지', 'Verb'),\n",
       " ('항상', 'Noun'),\n",
       " ('응원', 'Noun'),\n",
       " ('하겠습니다', 'Verb'),\n",
       " ('.', 'Punctuation'),\n",
       " ('\\n', 'Foreign'),\n",
       " ('그동안', 'Noun'),\n",
       " ('수고', 'Noun'),\n",
       " ('많으셨습니다', 'Adjective'),\n",
       " ('.', 'Punctuation'),\n",
       " ('\\n', 'Foreign')]"
      ]
     },
     "execution_count": 22,
     "metadata": {},
     "output_type": "execute_result"
    }
   ],
   "source": [
    "# norm – If True, normalize tokens.\n",
    "twitter.pos(last_message, norm=True)"
   ]
  },
  {
   "cell_type": "code",
   "execution_count": 23,
   "metadata": {},
   "outputs": [
    {
     "data": {
      "text/plain": [
       "[('\\n', 'Foreign'),\n",
       " ('안녕하다', 'Adjective'),\n",
       " ('!', 'Punctuation'),\n",
       " ('\\n', 'Foreign'),\n",
       " ('오늘이', 'Noun'),\n",
       " ('마지막', 'Noun'),\n",
       " ('수업', 'Noun'),\n",
       " ('이군', 'Noun'),\n",
       " ('요', 'Josa'),\n",
       " ('.', 'Punctuation'),\n",
       " ('\\n', 'Foreign'),\n",
       " ('짧다', 'Adjective'),\n",
       " ('과정', 'Noun'),\n",
       " ('이다', 'Verb'),\n",
       " ('파이썬', 'Noun'),\n",
       " ('이라는', 'Josa'),\n",
       " ('프로그램', 'Noun'),\n",
       " ('언어', 'Noun'),\n",
       " ('를', 'Josa'),\n",
       " ('통해', 'Noun'),\n",
       " ('데이터', 'Noun'),\n",
       " ('분석', 'Noun'),\n",
       " ('입문', 'Noun'),\n",
       " ('의', 'Josa'),\n",
       " ('디딤돌', 'Noun'),\n",
       " ('이', 'Josa'),\n",
       " ('되다', 'Verb'),\n",
       " ('노력', 'Noun'),\n",
       " ('하다', 'Verb'),\n",
       " ('.', 'Punctuation'),\n",
       " ('\\n', 'Foreign'),\n",
       " ('노력', 'Noun'),\n",
       " ('은', 'Josa'),\n",
       " ('절대', 'Noun'),\n",
       " ('배신', 'Noun'),\n",
       " ('하다', 'Verb'),\n",
       " ('않다', 'Verb'),\n",
       " ('말', 'Noun'),\n",
       " ('을', 'Josa'),\n",
       " ('믿다', 'Verb'),\n",
       " ('.', 'Punctuation'),\n",
       " ('\\n', 'Foreign'),\n",
       " ('언제', 'Noun'),\n",
       " ('어디서', 'Adverb'),\n",
       " ('무슨', 'Modifier'),\n",
       " ('일', 'Noun'),\n",
       " ('을', 'Josa'),\n",
       " ('하다', 'Verb'),\n",
       " ('항상', 'Noun'),\n",
       " ('응원', 'Noun'),\n",
       " ('하다', 'Verb'),\n",
       " ('.', 'Punctuation'),\n",
       " ('\\n', 'Foreign'),\n",
       " ('그동안', 'Noun'),\n",
       " ('수고', 'Noun'),\n",
       " ('많다', 'Adjective'),\n",
       " ('.', 'Punctuation'),\n",
       " ('\\n', 'Foreign')]"
      ]
     },
     "execution_count": 23,
     "metadata": {},
     "output_type": "execute_result"
    }
   ],
   "source": [
    "# stem – If True, stem tokens.\n",
    "twitter.pos(last_message, norm=True, stem=True)"
   ]
  },
  {
   "cell_type": "code",
   "execution_count": null,
   "metadata": {},
   "outputs": [],
   "source": []
  }
 ],
 "metadata": {
  "kernelspec": {
   "display_name": "Python 3",
   "language": "python",
   "name": "python3"
  },
  "language_info": {
   "codemirror_mode": {
    "name": "ipython",
    "version": 3
   },
   "file_extension": ".py",
   "mimetype": "text/x-python",
   "name": "python",
   "nbconvert_exporter": "python",
   "pygments_lexer": "ipython3",
   "version": "3.6.5"
  }
 },
 "nbformat": 4,
 "nbformat_minor": 2
}
