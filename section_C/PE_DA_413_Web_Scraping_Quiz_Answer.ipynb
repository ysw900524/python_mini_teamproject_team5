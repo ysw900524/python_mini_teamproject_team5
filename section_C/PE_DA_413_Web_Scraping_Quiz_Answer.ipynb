{
 "cells": [
  {
   "cell_type": "markdown",
   "metadata": {},
   "source": [
    "# 랭킹정보 가져오기 "
   ]
  },
  {
   "cell_type": "markdown",
   "metadata": {},
   "source": [
    "## 1. 주간 음악 순위\n",
    "> URL :: https://music.naver.com/listen/history/index.nhn?type=TOTAL&year=2018&month=11&week=1\n",
    "\n",
    "> - TOP 50 : 순위, 곡명, 아티스트"
   ]
  },
  {
   "cell_type": "code",
   "execution_count": 1,
   "metadata": {},
   "outputs": [],
   "source": [
    "from bs4 import BeautifulSoup \n",
    "from urllib.request import urlopen\n",
    "\n",
    "import pandas as pd\n",
    "import re"
   ]
  },
  {
   "cell_type": "code",
   "execution_count": 2,
   "metadata": {},
   "outputs": [],
   "source": [
    "year, month, week = (2018, 11, 1)\n",
    "url = 'https://music.naver.com/listen/history/index.nhn?type=TOTAL&year={}&month={}&week={}'\n",
    "url\n",
    "html = urlopen(url.format(year, month, week))\n",
    "soup = BeautifulSoup(html, \"lxml\")"
   ]
  },
  {
   "cell_type": "code",
   "execution_count": 3,
   "metadata": {},
   "outputs": [
    {
     "name": "stdout",
     "output_type": "stream",
     "text": [
      "<!DOCTYPE HTML PUBLIC \"-//W3C//DTD HTML 4.01 Transitional//EN\" \"http://www.w3.org/TR/html4/loose.dtd\">\n",
      "<html lang=\"ko\">\n",
      "<head>\n",
      "<meta content=\"text/html; charset=utf-8\" http-equiv=\"Content-Type\"/>\n",
      "<meta content=\"text/javascript\" http-equiv=\"Content-Script-Type\"/>\n",
      "<meta content=\"text/css\" http-equiv=\"Content-Style-Type\"/>\n",
      "<meta content=\"IE=edge\" http-equiv=\"X-UA-Compatible\"/>\n",
      "<link href=\"/favicon.ico\" rel=\"icon\" type=\"image/x-icon\"/>\n",
      "<link href=\"/favicon.ico\" rel=\"shortcut icon\" type=\"image/x-icon\"/>\n",
      "<title>TOP 100 차트 히스토리 : 네이버 뮤직</title>\n",
      "<link href=\"/css/music.css?bv=20181106115839\" rel=\"stylesheet\" type=\"text/css\"/>\n",
      "<link href=\"/css/music2.css?bv=20181106115839\" rel=\"stylesheet\" type=\"text/css\"/>\n",
      "<script charset=\"utf-8\" src=\"/js/pkg_jindo.all.js?bv=20181106115839\" type=\"text/javascript\"></script>\n",
      "<script charset=\"utf-8\" src=\"/js/pkg_external.all.js?bv=20181106115839\" type=\"text/javascript\"></script>\n",
      "<script charset=\"utf-8\" src=\"/js/pkg_music.all.js?bv=20181106115839\" type=\"text/javasc\n"
     ]
    }
   ],
   "source": [
    "print(str(soup)[:1000])"
   ]
  },
  {
   "cell_type": "raw",
   "metadata": {},
   "source": [
    "regex = re.compile('.*listing-col-.*')\n",
    "    for EachPart in soup.find_all(regex):\n",
    "\n",
    "\n",
    "regex = re.compile('.*listing-col-.*')\n",
    "for EachPart in soup.find_all(\"div\", {\"class\" : regex}):\n",
    "        print EachPart.get_text()"
   ]
  },
  {
   "cell_type": "code",
   "execution_count": 4,
   "metadata": {},
   "outputs": [],
   "source": [
    "# regex = re.compile('_tracklist_move data(\\d)+  ')\n",
    "# div_tags = soup.find_all('tr', {\"class\" : regex})\n",
    "# len(div_tags)"
   ]
  },
  {
   "cell_type": "code",
   "execution_count": 5,
   "metadata": {},
   "outputs": [
    {
     "data": {
      "text/plain": [
       "52"
      ]
     },
     "execution_count": 5,
     "metadata": {},
     "output_type": "execute_result"
    }
   ],
   "source": [
    "div_tags = soup.find_all('tr')\n",
    "len(div_tags)\n",
    "\n",
    "## 주의!!!!\n",
    "# 테이블 형식으로 되어있는 자료는 'table'이나 'tr' 혹은 'td'로 가져오는 것이 좋다!!!!!\n",
    "# 'td'는 하나의 셀을 의미한다.\n",
    "# 'tr'은 하나의 줄을 의미한다."
   ]
  },
  {
   "cell_type": "code",
   "execution_count": 6,
   "metadata": {},
   "outputs": [
    {
     "data": {
      "text/plain": [
       "('\\n\\n순위\\n순위변동\\n곡명\\n아티스트\\n좋아요\\n뮤직비디오, 가사, 내 리스트에 담기\\n라디오\\n구매\\n',\n",
       " '\\n \\n\\r\\n\\r\\n\\t\\t\\t\\t\\t\\t\\t\\t{PLAY_TOGGLE}\\r\\n\\t\\t\\t\\t\\t\\t\\t\\t{ADD_TOGGLE}\\r\\n\\r\\n\\r\\n\\t\\t\\t\\t\\t\\t\\t\\t\\n\\r\\n\\r\\n\\r\\n\\t\\t\\t\\t\\t\\t\\t\\t{TRACK_SONG_NAME}\\r\\n\\r\\n\\t\\t\\t\\t\\t\\t\\t\\n\\r\\n\\r\\n\\r\\n                                   {ARTIST}\\r\\n\\r\\n\\t\\t\\t\\t\\t\\t\\t\\n\\n\\n\\n\\n\\n뮤직비디오, 가사, 내 리스트에 담기\\n{RADIO}\\n\\r\\n\\r\\n\\t\\t\\t\\t\\t\\t\\t\\t{MP3_BUY_LAYER_BTN}\\r\\n\\r\\n\\t\\t\\t\\t\\t\\t\\t\\t\\n\\n{MP3_BUY_LIST}\\n{MUSIC_SPRING}\\n{BELL_SOUND}\\n{CONNECTION_SOUND}\\n\\n\\n\\n\\n')"
      ]
     },
     "execution_count": 6,
     "metadata": {},
     "output_type": "execute_result"
    }
   ],
   "source": [
    "div_tags[0].get_text(), div_tags[1].get_text()"
   ]
  },
  {
   "cell_type": "code",
   "execution_count": 7,
   "metadata": {},
   "outputs": [],
   "source": [
    "tr_tags = div_tags[2:]"
   ]
  },
  {
   "cell_type": "code",
   "execution_count": 8,
   "metadata": {},
   "outputs": [
    {
     "data": {
      "text/plain": [
       "50"
      ]
     },
     "execution_count": 8,
     "metadata": {},
     "output_type": "execute_result"
    }
   ],
   "source": [
    "len(tr_tags)\n"
   ]
  },
  {
   "cell_type": "code",
   "execution_count": 9,
   "metadata": {},
   "outputs": [
    {
     "data": {
      "text/plain": [
       "<tr class=\"_tracklist_move data1 \" trackdata=\"22307355|239121|true|true|false|true|false|false|0|true|true|false|false\">\n",
       "<td class=\"chk\"><input class=\"_chkbox_item _disc_1 input_chk NPI=a:check,r:1,i:22307355\" test=\"false\" title=\"선택\" type=\"checkbox\"/></td>\n",
       "<td class=\"ranking\"><span class=\"num1\"><span>1</span></span></td>\n",
       "<td class=\"change\">\n",
       "<span class=\"new\"><span>신규</span></span>\n",
       "</td>\n",
       "<td class=\"name\">\n",
       "<a class=\"thumb pht36 NPI=a:image,r:1,i:2574254\" href=\"/album/index.nhn?albumId=2574254\">\n",
       "<img alt=\"너를 만나\" height=\"32\" onerror=\"this.onerror=null;this.src='https://musicmeta-phinf.pstatic.net/album/000/000/0.jpg?type=r32Fll';\" src=\"https://musicmeta-phinf.pstatic.net/album/002/574/2574254.jpg?type=r32Fll\" title=\"너를 만나\" width=\"32\"/>\n",
       "<span class=\"mask\"></span>\n",
       "</a>\n",
       "<a class=\"_play_ico ico_listen NPI=a:play,r:1,i:22307355\" href=\"#\"><img alt=\"듣기\" height=\"18\" src=\"https://ssl.pstatic.net/static/nmusic/201008/blank.gif\" title=\"듣기\" width=\"18\"/></a>\n",
       "<a class=\"_add_ico ico_add NPI=a:plus,r:1,i:22307355\" href=\"#\"><img alt=\"재생목록에 추가\" height=\"18\" src=\"https://ssl.pstatic.net/static/nmusic/201008/blank.gif\" title=\"재생목록에 추가\" width=\"18\"/></a>\n",
       "<a class=\"_title title NPI=a:track,r:1,i:22307355\" href=\"#22307355\" title=\"너를 만나\"><span class=\"ellipsis\">너를 만나</span></a>\n",
       "</td>\n",
       "<td class=\"_artist artist\">\n",
       "<a class=\"_artist NPI=a:artist,r:1,i:383616\" href=\"/artist/home.nhn?artistId=383616\" title=\"폴킴\">\n",
       "<span class=\"ellipsis\">\n",
       "\t\t\t\n",
       "\t\t\t\n",
       "\t\t\t폴킴\n",
       "\t\t</span>\n",
       "</a>\n",
       "</td>\n",
       "<td class=\"like\">\n",
       "<div class=\"u_likeit_list_module\">\n",
       "<a class=\"u_likeit_list_btn u_type_img NPI=a:favo,r:1,i:22307355\" data-cid=\"TRACK_22307355\" data-did=\"MUSIC\" data-likeit=\"0\" data-sid=\"MUSIC\" href=\"javascript:void(0)\" title=\"좋아요\"><span class=\"u_ico\"></span><em class=\"u_txt\"></em><em class=\"u_cnt\"></em></a>\n",
       "</div>\n",
       "</td>\n",
       "<td class=\"ico\">\n",
       "<a class=\"_musicvideo video NPI=a:movie,r:1,i:239121\" href=\"#239121\" title=\"뮤직비디오\"><span>뮤직비디오</span></a>\n",
       "<a class=\"_lyric lyric NPI=a:lyric,r:1,i:22307355\" href=\"#\" title=\"가사\"><span>가사</span></a>\n",
       "<a class=\"_scrap get NPI=a:put,r:1,i:22307355\" href=\"#\" title=\"내 리스트에 담기\"><span>담기</span></a>\n",
       "</td>\n",
       "<td class=\"radio\"><a class=\"NPI=a:radio,r:1,i:22307355\" href=\"#\" onclick=\"window.open('https://player.music.naver.com/radio.nhn?radioType=track&amp;seed=22307355', 'pop_alert', 'toolbar=no,scrollbars=no,width=710,height=382')\"><span>라디오</span></a></td>\n",
       "<td class=\"buy\">\n",
       "<a class=\"_buy NPI=a:buy,r:1,i:22307355\" href=\"javascript:void(0)\"><span>구매</span></a>\n",
       "<div class=\"_buy_layer buy_layer\" style=\"display: none;\">\n",
       "<ul>\n",
       "<li><a class=\"_buy_mp3 NPI=a:mp3,r:1,i:22307355\" href=\"#\" onmouseover=\"nhn.music.drawAirDownloadButton(this, 'list', [22307355], false);\"><strong>MP3구매</strong></a></li>\n",
       "<li><a class=\"_gift NPI=a:gift,r:1,i:22307355\" href=\"#\" onclick=\"nhn.music.openMusicGiftPopup('track', 22307355, false);\">선물하기</a></li>\n",
       "<li><a class=\"_music_spring NPI=a:bgm,r:1,i:22307355\" href=\"javascript:void(0)\">뮤직샘</a></li>\n",
       "</ul>\n",
       "<span class=\"bg\"></span>\n",
       "</div>\n",
       "</td>\n",
       "</tr>"
      ]
     },
     "execution_count": 9,
     "metadata": {},
     "output_type": "execute_result"
    }
   ],
   "source": [
    "tmp = tr_tags[0]\n",
    "tmp"
   ]
  },
  {
   "cell_type": "code",
   "execution_count": 10,
   "metadata": {},
   "outputs": [
    {
     "data": {
      "text/plain": [
       "'1'"
      ]
     },
     "execution_count": 10,
     "metadata": {},
     "output_type": "execute_result"
    }
   ],
   "source": [
    "ranking = tmp.find('td', 'ranking')\n",
    "ranking = ranking.get_text()\n",
    "ranking"
   ]
  },
  {
   "cell_type": "code",
   "execution_count": 11,
   "metadata": {},
   "outputs": [
    {
     "data": {
      "text/plain": [
       "'너를 만나'"
      ]
     },
     "execution_count": 11,
     "metadata": {},
     "output_type": "execute_result"
    }
   ],
   "source": [
    "name = tmp.find('td', 'name')\n",
    "name = name.get_text()\n",
    "name = name.strip()\n",
    "name"
   ]
  },
  {
   "cell_type": "code",
   "execution_count": 12,
   "metadata": {},
   "outputs": [
    {
     "data": {
      "text/plain": [
       "'폴킴'"
      ]
     },
     "execution_count": 12,
     "metadata": {},
     "output_type": "execute_result"
    }
   ],
   "source": [
    "artist = tmp.find('td', '_artist artist').get_text()\n",
    "artist = artist.strip()\n",
    "artist"
   ]
  },
  {
   "cell_type": "code",
   "execution_count": 13,
   "metadata": {},
   "outputs": [],
   "source": [
    "tmp = tr_tags[6]"
   ]
  },
  {
   "cell_type": "code",
   "execution_count": 14,
   "metadata": {},
   "outputs": [
    {
     "data": {
      "text/plain": [
       "'pH-1'"
      ]
     },
     "execution_count": 14,
     "metadata": {},
     "output_type": "execute_result"
    }
   ],
   "source": [
    "artist =  tmp.find('td', '_artist artist')\n",
    "\n",
    "if artist is None:\n",
    "    # print('없음')\n",
    "    artist =  tmp.find('td', '_artist artist no_ell2')\n",
    "\n",
    "else:\n",
    "    # print('있음')\n",
    "    pass\n",
    "    \n",
    "artist = artist.get_text()\n",
    "artist = artist.strip()\n",
    "artist"
   ]
  },
  {
   "cell_type": "code",
   "execution_count": 15,
   "metadata": {},
   "outputs": [],
   "source": [
    "def crawl_music_rank(year, month, week):\n",
    "    \n",
    "    Ranking  = []\n",
    "    SongName = []\n",
    "    Artist   = []\n",
    "    \n",
    "    # year, month, week = (2018, 11, 1)\n",
    "    url = 'https://music.naver.com/listen/history/index.nhn?type=TOTAL&year={}&month={}&week={}'\n",
    "\n",
    "    html = urlopen(url.format(year, month, week))\n",
    "    soup = BeautifulSoup(html, \"lxml\")\n",
    "    \n",
    "    div_tags = soup.find_all('tr')\n",
    "    len(div_tags)\n",
    "        \n",
    "    for tr_tags in div_tags[2:]:\n",
    "        tmp = tr_tags\n",
    "    \n",
    "        ranking = tmp.find('td', 'ranking').get_text()\n",
    "        print('ranking : {}'.format(ranking))\n",
    "        name = tmp.find('td', 'name').get_text()\n",
    "        name = name.strip()\n",
    "\n",
    "        artist =  tmp.find('td', '_artist artist')\n",
    "\n",
    "        if artist is None:\n",
    "            # print('없음')\n",
    "            artist =  tmp.find('td', '_artist artist no_ell2')\n",
    "\n",
    "        else:\n",
    "            # print('있음')\n",
    "            pass\n",
    "\n",
    "        artist = artist.get_text()\n",
    "        artist = artist.strip()\n",
    "\n",
    "        Ranking.append(ranking)\n",
    "        SongName.append(name)\n",
    "        Artist.append(artist)\n",
    "\n",
    "    data   = {'순위':Ranking, '곡명':SongName, '아티스트':Artist }\n",
    "    ret_df = pd.DataFrame(data)\n",
    "    \n",
    "    return ret_df"
   ]
  },
  {
   "cell_type": "code",
   "execution_count": 16,
   "metadata": {},
   "outputs": [
    {
     "name": "stdout",
     "output_type": "stream",
     "text": [
      "ranking : 1\n",
      "ranking : 2\n",
      "ranking : 3\n",
      "ranking : 4\n",
      "ranking : 5\n",
      "ranking : 6\n",
      "ranking : 7\n",
      "ranking : 8\n",
      "ranking : 9\n",
      "ranking : 10\n",
      "ranking : 11\n",
      "ranking : 12\n",
      "ranking : 13\n",
      "ranking : 14\n",
      "ranking : 15\n",
      "ranking : 16\n",
      "ranking : 17\n",
      "ranking : 18\n",
      "ranking : 19\n",
      "ranking : 20\n",
      "ranking : 21\n",
      "ranking : 22\n",
      "ranking : 23\n",
      "ranking : 24\n",
      "ranking : 25\n",
      "ranking : 26\n",
      "ranking : 27\n",
      "ranking : 28\n",
      "ranking : 29\n",
      "ranking : 30\n",
      "ranking : 31\n",
      "ranking : 32\n",
      "ranking : 33\n",
      "ranking : 34\n",
      "ranking : 35\n",
      "ranking : 36\n",
      "ranking : 37\n",
      "ranking : 38\n",
      "ranking : 39\n",
      "ranking : 40\n",
      "ranking : 41\n",
      "ranking : 42\n",
      "ranking : 43\n",
      "ranking : 44\n",
      "ranking : 45\n",
      "ranking : 46\n",
      "ranking : 47\n",
      "ranking : 48\n",
      "ranking : 49\n",
      "ranking : 50\n"
     ]
    },
    {
     "data": {
      "text/html": [
       "<div>\n",
       "<style scoped>\n",
       "    .dataframe tbody tr th:only-of-type {\n",
       "        vertical-align: middle;\n",
       "    }\n",
       "\n",
       "    .dataframe tbody tr th {\n",
       "        vertical-align: top;\n",
       "    }\n",
       "\n",
       "    .dataframe thead th {\n",
       "        text-align: right;\n",
       "    }\n",
       "</style>\n",
       "<table border=\"1\" class=\"dataframe\">\n",
       "  <thead>\n",
       "    <tr style=\"text-align: right;\">\n",
       "      <th></th>\n",
       "      <th>순위</th>\n",
       "      <th>곡명</th>\n",
       "      <th>아티스트</th>\n",
       "    </tr>\n",
       "  </thead>\n",
       "  <tbody>\n",
       "    <tr>\n",
       "      <th>0</th>\n",
       "      <td>1</td>\n",
       "      <td>너를 만나</td>\n",
       "      <td>폴킴</td>\n",
       "    </tr>\n",
       "    <tr>\n",
       "      <th>1</th>\n",
       "      <td>2</td>\n",
       "      <td>삐삐</td>\n",
       "      <td>아이유(IU)</td>\n",
       "    </tr>\n",
       "    <tr>\n",
       "      <th>2</th>\n",
       "      <td>3</td>\n",
       "      <td>가을 타나 봐</td>\n",
       "      <td>바이브</td>\n",
       "    </tr>\n",
       "    <tr>\n",
       "      <th>3</th>\n",
       "      <td>4</td>\n",
       "      <td>하루도 그대를 사랑하지 않은 적이 없었다</td>\n",
       "      <td>임창정</td>\n",
       "    </tr>\n",
       "    <tr>\n",
       "      <th>4</th>\n",
       "      <td>5</td>\n",
       "      <td>모든 날, 모든 순간 (Every day, Every Moment)</td>\n",
       "      <td>폴킴</td>\n",
       "    </tr>\n",
       "  </tbody>\n",
       "</table>\n",
       "</div>"
      ],
      "text/plain": [
       "  순위                                     곡명     아티스트\n",
       "0  1                                  너를 만나       폴킴\n",
       "1  2                                     삐삐  아이유(IU)\n",
       "2  3                                가을 타나 봐      바이브\n",
       "3  4                 하루도 그대를 사랑하지 않은 적이 없었다      임창정\n",
       "4  5  모든 날, 모든 순간 (Every day, Every Moment)       폴킴"
      ]
     },
     "execution_count": 16,
     "metadata": {},
     "output_type": "execute_result"
    }
   ],
   "source": [
    "year, month, week = (2018, 11, 1)\n",
    "\n",
    "df = crawl_music_rank(year, month, week)\n",
    "df.head()"
   ]
  },
  {
   "cell_type": "code",
   "execution_count": 17,
   "metadata": {},
   "outputs": [
    {
     "data": {
      "text/html": [
       "<div>\n",
       "<style scoped>\n",
       "    .dataframe tbody tr th:only-of-type {\n",
       "        vertical-align: middle;\n",
       "    }\n",
       "\n",
       "    .dataframe tbody tr th {\n",
       "        vertical-align: top;\n",
       "    }\n",
       "\n",
       "    .dataframe thead th {\n",
       "        text-align: right;\n",
       "    }\n",
       "</style>\n",
       "<table border=\"1\" class=\"dataframe\">\n",
       "  <thead>\n",
       "    <tr style=\"text-align: right;\">\n",
       "      <th></th>\n",
       "      <th>곡명</th>\n",
       "      <th>아티스트</th>\n",
       "    </tr>\n",
       "    <tr>\n",
       "      <th>순위</th>\n",
       "      <th></th>\n",
       "      <th></th>\n",
       "    </tr>\n",
       "  </thead>\n",
       "  <tbody>\n",
       "    <tr>\n",
       "      <th>1</th>\n",
       "      <td>너를 만나</td>\n",
       "      <td>폴킴</td>\n",
       "    </tr>\n",
       "    <tr>\n",
       "      <th>2</th>\n",
       "      <td>삐삐</td>\n",
       "      <td>아이유(IU)</td>\n",
       "    </tr>\n",
       "    <tr>\n",
       "      <th>3</th>\n",
       "      <td>가을 타나 봐</td>\n",
       "      <td>바이브</td>\n",
       "    </tr>\n",
       "    <tr>\n",
       "      <th>4</th>\n",
       "      <td>하루도 그대를 사랑하지 않은 적이 없었다</td>\n",
       "      <td>임창정</td>\n",
       "    </tr>\n",
       "    <tr>\n",
       "      <th>5</th>\n",
       "      <td>모든 날, 모든 순간 (Every day, Every Moment)</td>\n",
       "      <td>폴킴</td>\n",
       "    </tr>\n",
       "    <tr>\n",
       "      <th>6</th>\n",
       "      <td>멋지게 인사하는 법 (Feat. 슬기 of Red Velvet)</td>\n",
       "      <td>Zion.T</td>\n",
       "    </tr>\n",
       "    <tr>\n",
       "      <th>7</th>\n",
       "      <td>Good Day (Feat. 팔로알토) (Prod. 코드 쿤스트)</td>\n",
       "      <td>pH-1</td>\n",
       "    </tr>\n",
       "    <tr>\n",
       "      <th>8</th>\n",
       "      <td>Save (Feat. 팔로알토) (Prod. 코드 쿤스트)</td>\n",
       "      <td>루피(Loopy)</td>\n",
       "    </tr>\n",
       "    <tr>\n",
       "      <th>9</th>\n",
       "      <td>Way Back Home</td>\n",
       "      <td>숀(SHAUN)</td>\n",
       "    </tr>\n",
       "    <tr>\n",
       "      <th>10</th>\n",
       "      <td>열애중</td>\n",
       "      <td>벤</td>\n",
       "    </tr>\n",
       "    <tr>\n",
       "      <th>11</th>\n",
       "      <td>라비앙로즈 (La Vie en Rose)</td>\n",
       "      <td>IZ*ONE(아이즈원)</td>\n",
       "    </tr>\n",
       "    <tr>\n",
       "      <th>12</th>\n",
       "      <td>우리 그만하자</td>\n",
       "      <td>로이킴</td>\n",
       "    </tr>\n",
       "    <tr>\n",
       "      <th>13</th>\n",
       "      <td>고백</td>\n",
       "      <td>양다일</td>\n",
       "    </tr>\n",
       "    <tr>\n",
       "      <th>14</th>\n",
       "      <td>Regular (Korean Ver.)</td>\n",
       "      <td>NCT 127</td>\n",
       "    </tr>\n",
       "    <tr>\n",
       "      <th>15</th>\n",
       "      <td>밤편지</td>\n",
       "      <td>아이유(IU)</td>\n",
       "    </tr>\n",
       "    <tr>\n",
       "      <th>16</th>\n",
       "      <td>시간이 들겠지 (Feat. Colde)</td>\n",
       "      <td>로꼬</td>\n",
       "    </tr>\n",
       "    <tr>\n",
       "      <th>17</th>\n",
       "      <td>IDOL</td>\n",
       "      <td>방탄소년단</td>\n",
       "    </tr>\n",
       "    <tr>\n",
       "      <th>18</th>\n",
       "      <td>사이렌 (Siren)</td>\n",
       "      <td>선미</td>\n",
       "    </tr>\n",
       "    <tr>\n",
       "      <th>19</th>\n",
       "      <td>내 생에 아름다운</td>\n",
       "      <td>케이윌</td>\n",
       "    </tr>\n",
       "    <tr>\n",
       "      <th>20</th>\n",
       "      <td>나의 모든 순간 (No Longer)</td>\n",
       "      <td>NCT 127</td>\n",
       "    </tr>\n",
       "    <tr>\n",
       "      <th>21</th>\n",
       "      <td>Shoot Out</td>\n",
       "      <td>몬스타엑스</td>\n",
       "    </tr>\n",
       "    <tr>\n",
       "      <th>22</th>\n",
       "      <td>Tempo</td>\n",
       "      <td>EXO</td>\n",
       "    </tr>\n",
       "    <tr>\n",
       "      <th>23</th>\n",
       "      <td>Dance The Night Away</td>\n",
       "      <td>TWICE(트와이스)</td>\n",
       "    </tr>\n",
       "    <tr>\n",
       "      <th>24</th>\n",
       "      <td>뚜두뚜두 (DDU-DU DDU-DU)</td>\n",
       "      <td>BLACKPINK</td>\n",
       "    </tr>\n",
       "    <tr>\n",
       "      <th>25</th>\n",
       "      <td>그때 헤어지면 돼</td>\n",
       "      <td>로이킴</td>\n",
       "    </tr>\n",
       "    <tr>\n",
       "      <th>26</th>\n",
       "      <td>Dejavu</td>\n",
       "      <td>뉴이스트 W</td>\n",
       "    </tr>\n",
       "    <tr>\n",
       "      <th>27</th>\n",
       "      <td>Knock On</td>\n",
       "      <td>NCT 127</td>\n",
       "    </tr>\n",
       "    <tr>\n",
       "      <th>28</th>\n",
       "      <td>지나오다</td>\n",
       "      <td>닐로(Nilo)</td>\n",
       "    </tr>\n",
       "    <tr>\n",
       "      <th>29</th>\n",
       "      <td>신기루 (Fly Away With Me)</td>\n",
       "      <td>NCT 127</td>\n",
       "    </tr>\n",
       "    <tr>\n",
       "      <th>30</th>\n",
       "      <td>AND I</td>\n",
       "      <td>뉴이스트 W</td>\n",
       "    </tr>\n",
       "    <tr>\n",
       "      <th>31</th>\n",
       "      <td>여행</td>\n",
       "      <td>볼빨간사춘기</td>\n",
       "    </tr>\n",
       "    <tr>\n",
       "      <th>32</th>\n",
       "      <td>지금 우리 (City 127)</td>\n",
       "      <td>NCT 127</td>\n",
       "    </tr>\n",
       "    <tr>\n",
       "      <th>33</th>\n",
       "      <td>사랑을 했다 (LOVE SCENARIO)</td>\n",
       "      <td>iKON</td>\n",
       "    </tr>\n",
       "    <tr>\n",
       "      <th>34</th>\n",
       "      <td>Replay (PM 01:27)</td>\n",
       "      <td>NCT 127</td>\n",
       "    </tr>\n",
       "    <tr>\n",
       "      <th>35</th>\n",
       "      <td>어찌 잊으오</td>\n",
       "      <td>황치열</td>\n",
       "    </tr>\n",
       "    <tr>\n",
       "      <th>36</th>\n",
       "      <td>잘 지내줘</td>\n",
       "      <td>하이라이트(Highlight)</td>\n",
       "    </tr>\n",
       "    <tr>\n",
       "      <th>37</th>\n",
       "      <td>악몽 (Come Back)</td>\n",
       "      <td>NCT 127</td>\n",
       "    </tr>\n",
       "    <tr>\n",
       "      <th>38</th>\n",
       "      <td>Change (Feat. GRAY) (Prod. 코드 쿤스트)</td>\n",
       "      <td>Kid Milli</td>\n",
       "    </tr>\n",
       "    <tr>\n",
       "      <th>39</th>\n",
       "      <td>이별길 (GOODBYE ROAD)</td>\n",
       "      <td>iKON</td>\n",
       "    </tr>\n",
       "    <tr>\n",
       "      <th>40</th>\n",
       "      <td>내 Van (My Van)</td>\n",
       "      <td>NCT 127</td>\n",
       "    </tr>\n",
       "    <tr>\n",
       "      <th>41</th>\n",
       "      <td>별, 그대 (The Only Star)</td>\n",
       "      <td>황치열</td>\n",
       "    </tr>\n",
       "    <tr>\n",
       "      <th>42</th>\n",
       "      <td>Power Up</td>\n",
       "      <td>Red Velvet (레드벨벳)</td>\n",
       "    </tr>\n",
       "    <tr>\n",
       "      <th>43</th>\n",
       "      <td>북극성 (Polaris)</td>\n",
       "      <td>뉴이스트 W</td>\n",
       "    </tr>\n",
       "    <tr>\n",
       "      <th>44</th>\n",
       "      <td>(Bonus Track) Run Back 2 U</td>\n",
       "      <td>NCT 127</td>\n",
       "    </tr>\n",
       "    <tr>\n",
       "      <th>45</th>\n",
       "      <td>Regular (English Ver.)</td>\n",
       "      <td>NCT 127</td>\n",
       "    </tr>\n",
       "    <tr>\n",
       "      <th>46</th>\n",
       "      <td>FAKE LOVE</td>\n",
       "      <td>방탄소년단</td>\n",
       "    </tr>\n",
       "    <tr>\n",
       "      <th>47</th>\n",
       "      <td>널하다</td>\n",
       "      <td>몬스타엑스</td>\n",
       "    </tr>\n",
       "    <tr>\n",
       "      <th>48</th>\n",
       "      <td>비</td>\n",
       "      <td>폴킴</td>\n",
       "    </tr>\n",
       "    <tr>\n",
       "      <th>49</th>\n",
       "      <td>가을 아침</td>\n",
       "      <td>아이유(IU)</td>\n",
       "    </tr>\n",
       "    <tr>\n",
       "      <th>50</th>\n",
       "      <td>매일 듣는 노래 (A Daily Song)</td>\n",
       "      <td>황치열</td>\n",
       "    </tr>\n",
       "  </tbody>\n",
       "</table>\n",
       "</div>"
      ],
      "text/plain": [
       "                                       곡명               아티스트\n",
       "순위                                                          \n",
       "1                                   너를 만나                 폴킴\n",
       "2                                      삐삐            아이유(IU)\n",
       "3                                 가을 타나 봐                바이브\n",
       "4                  하루도 그대를 사랑하지 않은 적이 없었다                임창정\n",
       "5   모든 날, 모든 순간 (Every day, Every Moment)                 폴킴\n",
       "6     멋지게 인사하는 법 (Feat. 슬기 of Red Velvet)             Zion.T\n",
       "7    Good Day (Feat. 팔로알토) (Prod. 코드 쿤스트)               pH-1\n",
       "8        Save (Feat. 팔로알토) (Prod. 코드 쿤스트)          루피(Loopy)\n",
       "9                           Way Back Home           숀(SHAUN)\n",
       "10                                    열애중                  벤\n",
       "11                 라비앙로즈 (La Vie en Rose)       IZ*ONE(아이즈원)\n",
       "12                                우리 그만하자                로이킴\n",
       "13                                     고백                양다일\n",
       "14                  Regular (Korean Ver.)            NCT 127\n",
       "15                                    밤편지            아이유(IU)\n",
       "16                  시간이 들겠지 (Feat. Colde)                 로꼬\n",
       "17                                   IDOL              방탄소년단\n",
       "18                            사이렌 (Siren)                 선미\n",
       "19                              내 생에 아름다운                케이윌\n",
       "20                   나의 모든 순간 (No Longer)            NCT 127\n",
       "21                              Shoot Out              몬스타엑스\n",
       "22                                  Tempo                EXO\n",
       "23                   Dance The Night Away        TWICE(트와이스)\n",
       "24                   뚜두뚜두 (DDU-DU DDU-DU)          BLACKPINK\n",
       "25                              그때 헤어지면 돼                로이킴\n",
       "26                                 Dejavu             뉴이스트 W\n",
       "27                               Knock On            NCT 127\n",
       "28                                   지나오다           닐로(Nilo)\n",
       "29                 신기루 (Fly Away With Me)            NCT 127\n",
       "30                                  AND I             뉴이스트 W\n",
       "31                                     여행             볼빨간사춘기\n",
       "32                       지금 우리 (City 127)            NCT 127\n",
       "33                 사랑을 했다 (LOVE SCENARIO)               iKON\n",
       "34                      Replay (PM 01:27)            NCT 127\n",
       "35                                 어찌 잊으오                황치열\n",
       "36                                  잘 지내줘   하이라이트(Highlight)\n",
       "37                         악몽 (Come Back)            NCT 127\n",
       "38     Change (Feat. GRAY) (Prod. 코드 쿤스트)          Kid Milli\n",
       "39                     이별길 (GOODBYE ROAD)               iKON\n",
       "40                         내 Van (My Van)            NCT 127\n",
       "41                  별, 그대 (The Only Star)                황치열\n",
       "42                               Power Up  Red Velvet (레드벨벳)\n",
       "43                          북극성 (Polaris)             뉴이스트 W\n",
       "44             (Bonus Track) Run Back 2 U            NCT 127\n",
       "45                 Regular (English Ver.)            NCT 127\n",
       "46                              FAKE LOVE              방탄소년단\n",
       "47                                    널하다              몬스타엑스\n",
       "48                                      비                 폴킴\n",
       "49                                  가을 아침            아이유(IU)\n",
       "50                매일 듣는 노래 (A Daily Song)                황치열"
      ]
     },
     "execution_count": 17,
     "metadata": {},
     "output_type": "execute_result"
    }
   ],
   "source": [
    "df.set_index('순위', inplace=True)\n",
    "df"
   ]
  },
  {
   "cell_type": "code",
   "execution_count": 18,
   "metadata": {},
   "outputs": [],
   "source": [
    "df.to_csv('data/music_rank50.csv', sep=',', encoding='UTF-8')"
   ]
  },
  {
   "cell_type": "code",
   "execution_count": 19,
   "metadata": {},
   "outputs": [
    {
     "name": "stdout",
     "output_type": "stream",
     "text": [
      " C 드라이브의 볼륨에는 이름이 없습니다.\n",
      " 볼륨 일련 번호: 3EFF-82E2\n",
      "\n",
      " C:\\Users\\student\\Anaconda_src\\data 디렉터리\n",
      "\n",
      "chicagomag_info.csv\n",
      "chicagomag_info_ver2.csv\n",
      "company.csv\n",
      "movie_rank.csv\n",
      "musicrank_top100.csv\n",
      "music_rank50.csv\n",
      "opengov_2018_seoul_cctv_status_by_year.csv\n",
      "police_cctv.csv\n",
      "public_2016_crime_st.csv\n",
      "public_2017_seoul_cctv_st.csv\n",
      "public_old_buildings_20171016.csv\n",
      "seoul_free_wifi_zone_2017.csv\n",
      "seoul_population_cctv.csv\n",
      "seoul_population_cctv2.csv\n",
      "seoul_population_mac-idx.csv\n",
      "seoul_population_starbucks.csv\n",
      "seoul_wifi_zone.csv\n",
      "students.csv\n",
      "test.csv\n",
      "titanic_train.csv\n",
      "train.csv\n",
      "              21개 파일           2,880,152 바이트\n",
      "               0개 디렉터리  429,569,970,176 바이트 남음\n"
     ]
    }
   ],
   "source": [
    "! dir/w data\\*.csv"
   ]
  },
  {
   "cell_type": "code",
   "execution_count": null,
   "metadata": {},
   "outputs": [],
   "source": []
  },
  {
   "cell_type": "code",
   "execution_count": null,
   "metadata": {},
   "outputs": [],
   "source": []
  },
  {
   "cell_type": "markdown",
   "metadata": {},
   "source": [
    "# 랭킹정보 가져오기"
   ]
  },
  {
   "cell_type": "markdown",
   "metadata": {},
   "source": [
    "## 2. 영화 랭킹\n",
    "> URL :: https://movie.naver.com/movie/sdb/rank/rmovie.nhn\n",
    "\n",
    "> - 영화랭킹 TOP 10 :\n",
    "- 데이터수집 : 순위, 영화명, 변동폭, 평점(관람객/평론가/네티즌), 장르, 감독, 출연, 등급"
   ]
  },
  {
   "cell_type": "code",
   "execution_count": 20,
   "metadata": {},
   "outputs": [],
   "source": [
    "# from bs4 import BeautifulSoup \n",
    "# from urllib.request import urlopen\n",
    "\n",
    "# import pandas as pd\n",
    "# import re"
   ]
  },
  {
   "cell_type": "markdown",
   "metadata": {},
   "source": [
    "### 1단계 : 리스트 크롤링"
   ]
  },
  {
   "cell_type": "code",
   "execution_count": 21,
   "metadata": {},
   "outputs": [
    {
     "data": {
      "text/plain": [
       "<title>랭킹 : 네이버 영화</title>"
      ]
     },
     "execution_count": 21,
     "metadata": {},
     "output_type": "execute_result"
    }
   ],
   "source": [
    "url = 'https://movie.naver.com/movie/sdb/rank/rmovie.nhn'\n",
    "html = urlopen(url)\n",
    "soup = BeautifulSoup(html, \"lxml\")\n",
    "soup.title"
   ]
  },
  {
   "cell_type": "markdown",
   "metadata": {},
   "source": [
    "### \\# 주의!!!!\n",
    "> - 테이블 형식으로 되어있는 자료는 'table'이나 'tr' 혹은 'td'로 가져오는 것이 좋다!!!!!\n",
    "- 'td'는 하나의 셀을 의미한다.\n",
    "- 'tr'은 하나의 줄을 의미한다."
   ]
  },
  {
   "cell_type": "code",
   "execution_count": 22,
   "metadata": {},
   "outputs": [
    {
     "data": {
      "text/plain": [
       "'랭킹 테이블'"
      ]
     },
     "execution_count": 22,
     "metadata": {},
     "output_type": "execute_result"
    }
   ],
   "source": [
    "table_tag = soup.find('table', 'list_ranking')\n",
    "table_tag[\"summary\"]\n",
    "# table_tag\n",
    "# len(table_tag)"
   ]
  },
  {
   "cell_type": "code",
   "execution_count": 23,
   "metadata": {},
   "outputs": [
    {
     "data": {
      "text/plain": [
       "bs4.element.Tag"
      ]
     },
     "execution_count": 23,
     "metadata": {},
     "output_type": "execute_result"
    }
   ],
   "source": [
    "tbody_tag = table_tag.find('tbody')\n",
    "type(tbody_tag)\n",
    "# tbody_tag\n",
    "# len(tbody_tag)"
   ]
  },
  {
   "cell_type": "code",
   "execution_count": 24,
   "metadata": {},
   "outputs": [
    {
     "data": {
      "text/plain": [
       "56"
      ]
     },
     "execution_count": 24,
     "metadata": {},
     "output_type": "execute_result"
    }
   ],
   "source": [
    "tr_tags = tbody_tag.find_all('tr')\n",
    "len(tr_tags)\n",
    "# tr_tags"
   ]
  },
  {
   "cell_type": "code",
   "execution_count": 25,
   "metadata": {},
   "outputs": [
    {
     "data": {
      "text/plain": [
       "[<tr><td class=\"blank01\" colspan=\"8\"></td></tr>, <tr>\n",
       " <td class=\"ac\"><img alt=\"01\" height=\"13\" src=\"https://ssl.pstatic.net/imgmovie/2007/img/common/bullet_r_r01.gif\" width=\"14\"/></td>\n",
       " <td class=\"title\">\n",
       " <div class=\"tit3\">\n",
       " <a href=\"/movie/bi/mi/basic.nhn?code=167638\" title=\"완벽한 타인\">완벽한 타인</a>\n",
       " </div>\n",
       " </td>\n",
       " <!-- 평점순일 때 평점 추가하기  -->\n",
       " <!----------------------------------------->\n",
       " <td class=\"ac\"><img alt=\"na\" class=\"arrow\" height=\"10\" src=\"https://ssl.pstatic.net/imgmovie/2007/img/common/icon_na_1.gif\" width=\"7\"/></td>\n",
       " <td class=\"range ac\">0</td>\n",
       " </tr>, <tr>\n",
       " <td class=\"ac\"><img alt=\"02\" height=\"13\" src=\"https://ssl.pstatic.net/imgmovie/2007/img/common/bullet_r_r02.gif\" width=\"14\"/></td>\n",
       " <td class=\"title\">\n",
       " <div class=\"tit3\">\n",
       " <a href=\"/movie/bi/mi/basic.nhn?code=156464\" title=\"보헤미안 랩소디\">보헤미안 랩소디</a>\n",
       " </div>\n",
       " </td>\n",
       " <!-- 평점순일 때 평점 추가하기  -->\n",
       " <!----------------------------------------->\n",
       " <td class=\"ac\"><img alt=\"na\" class=\"arrow\" height=\"10\" src=\"https://ssl.pstatic.net/imgmovie/2007/img/common/icon_na_1.gif\" width=\"7\"/></td>\n",
       " <td class=\"range ac\">0</td>\n",
       " </tr>]"
      ]
     },
     "execution_count": 25,
     "metadata": {},
     "output_type": "execute_result"
    }
   ],
   "source": [
    "tr_tags[:3]"
   ]
  },
  {
   "cell_type": "code",
   "execution_count": 26,
   "metadata": {},
   "outputs": [
    {
     "data": {
      "text/plain": [
       "[<td class=\"ac\"><img alt=\"01\" height=\"13\" src=\"https://ssl.pstatic.net/imgmovie/2007/img/common/bullet_r_r01.gif\" width=\"14\"/></td>,\n",
       " <td class=\"title\">\n",
       " <div class=\"tit3\">\n",
       " <a href=\"/movie/bi/mi/basic.nhn?code=167638\" title=\"완벽한 타인\">완벽한 타인</a>\n",
       " </div>\n",
       " </td>,\n",
       " <td class=\"ac\"><img alt=\"na\" class=\"arrow\" height=\"10\" src=\"https://ssl.pstatic.net/imgmovie/2007/img/common/icon_na_1.gif\" width=\"7\"/></td>,\n",
       " <td class=\"range ac\">0</td>]"
      ]
     },
     "execution_count": 26,
     "metadata": {},
     "output_type": "execute_result"
    }
   ],
   "source": [
    "tr_tag = tr_tags[1]\n",
    "td_tags = tr_tag.find_all('td')\n",
    "td_tags"
   ]
  },
  {
   "cell_type": "code",
   "execution_count": null,
   "metadata": {},
   "outputs": [],
   "source": []
  },
  {
   "cell_type": "markdown",
   "metadata": {},
   "source": [
    "**순위 : 이미지의 풍선도움말 (alt)**"
   ]
  },
  {
   "cell_type": "code",
   "execution_count": 27,
   "metadata": {},
   "outputs": [
    {
     "data": {
      "text/plain": [
       "'01'"
      ]
     },
     "execution_count": 27,
     "metadata": {},
     "output_type": "execute_result"
    }
   ],
   "source": [
    "tmp = tr_tag.find('img')\n",
    "ranking = tmp['alt']\n",
    "ranking"
   ]
  },
  {
   "cell_type": "code",
   "execution_count": 28,
   "metadata": {},
   "outputs": [
    {
     "data": {
      "text/plain": [
       "1"
      ]
     },
     "execution_count": 28,
     "metadata": {},
     "output_type": "execute_result"
    }
   ],
   "source": [
    "ranking = int(ranking)\n",
    "ranking"
   ]
  },
  {
   "cell_type": "code",
   "execution_count": null,
   "metadata": {},
   "outputs": [],
   "source": []
  },
  {
   "cell_type": "markdown",
   "metadata": {},
   "source": [
    "**영화명**"
   ]
  },
  {
   "cell_type": "code",
   "execution_count": 29,
   "metadata": {},
   "outputs": [
    {
     "data": {
      "text/plain": [
       "'완벽한 타인'"
      ]
     },
     "execution_count": 29,
     "metadata": {},
     "output_type": "execute_result"
    }
   ],
   "source": [
    "td_tag = tr_tag.find('td', 'title')\n",
    "tmp = td_tag.find('a')\n",
    "title = tmp.get_text().strip()\n",
    "title\n",
    "\n",
    "# 주의!!!\n",
    "# strip 옵션을 주면 \\n \\t \\r 등의 특수입력문들이 사라진다."
   ]
  },
  {
   "cell_type": "code",
   "execution_count": 30,
   "metadata": {
    "scrolled": true
   },
   "outputs": [
    {
     "data": {
      "text/plain": [
       "'https://movie.naver.com/movie/bi/mi/basic.nhn?code=167638'"
      ]
     },
     "execution_count": 30,
     "metadata": {},
     "output_type": "execute_result"
    }
   ],
   "source": [
    "link = 'https://movie.naver.com' + tmp['href']\n",
    "link\n",
    "\n",
    "# 완벽한 링크를 만들어주기 위해 앞에 문장을 삽입한다."
   ]
  },
  {
   "cell_type": "code",
   "execution_count": null,
   "metadata": {},
   "outputs": [],
   "source": []
  },
  {
   "cell_type": "markdown",
   "metadata": {},
   "source": [
    "**변동폭 : 부호 + 변동값**\n",
    "> - 화살표 DOWN : 마이너스\n",
    "- 화살표 UP : 플러스"
   ]
  },
  {
   "cell_type": "code",
   "execution_count": 31,
   "metadata": {},
   "outputs": [
    {
     "data": {
      "text/plain": [
       "'0'"
      ]
     },
     "execution_count": 31,
     "metadata": {},
     "output_type": "execute_result"
    }
   ],
   "source": [
    "tmp = tr_tag.find('td', 'range ac')\n",
    "range_ac = tmp.get_text().strip()\n",
    "range_ac"
   ]
  },
  {
   "cell_type": "code",
   "execution_count": 32,
   "metadata": {},
   "outputs": [
    {
     "data": {
      "text/plain": [
       "''"
      ]
     },
     "execution_count": 32,
     "metadata": {},
     "output_type": "execute_result"
    }
   ],
   "source": [
    "tmp = tr_tag.find('img', 'arrow')\n",
    "range_sign = '-' if tmp['alt']=='down' else ''\n",
    "range_sign"
   ]
  },
  {
   "cell_type": "code",
   "execution_count": 33,
   "metadata": {},
   "outputs": [
    {
     "data": {
      "text/plain": [
       "'0'"
      ]
     },
     "execution_count": 33,
     "metadata": {},
     "output_type": "execute_result"
    }
   ],
   "source": [
    "range_ac = range_sign + range_ac\n",
    "range_ac"
   ]
  },
  {
   "cell_type": "code",
   "execution_count": 35,
   "metadata": {},
   "outputs": [],
   "source": [
    "def crawl_movie_rank():\n",
    "    \n",
    "    Ranking   = []\n",
    "    Title     = []\n",
    "    Link      = []\n",
    "    Range_ac  = []\n",
    "\n",
    "    url = 'https://movie.naver.com/movie/sdb/rank/rmovie.nhn'\n",
    "    html = urlopen(url)\n",
    "    soup = BeautifulSoup(html, \"lxml\")\n",
    "\n",
    "    table_tag = soup.find('table', 'list_ranking')\n",
    "    tbody_tag = table_tag.find('tbody')\n",
    "    tr_tags = tbody_tag.find_all('tr')\n",
    "\n",
    "    for tr_tag in tr_tags[1:11]:\n",
    "        td_tags = tr_tag.find_all('td')\n",
    "\n",
    "        tmp = tr_tag.find('img')\n",
    "        ranking = int(tmp['alt'])        \n",
    "\n",
    "        td_tag = tr_tag.find('td', 'title')\n",
    "        tmp = td_tag.find('a')\n",
    "        title = tmp.get_text().strip()\n",
    "        title\n",
    "\n",
    "        link = 'https://movie.naver.com' + tmp['href']\n",
    "        link\n",
    "\n",
    "        tmp = tr_tag.find('td', 'range ac')\n",
    "        range_ac = tmp.get_text().strip()\n",
    "        range_ac\n",
    "\n",
    "        tmp = tr_tag.find('img', 'arrow')\n",
    "        range_sign = '-' if tmp['alt']=='down' else ''\n",
    "        range_sign\n",
    "        range_ac = range_sign + range_ac\n",
    "        range_ac\n",
    "        \n",
    "        Ranking.append(ranking)\n",
    "        Title.append(title)\n",
    "        Link.append(link)\n",
    "        Range_ac.append(range_ac)\n",
    "\n",
    "    data   = {'순위':Ranking, '영화명':Title, '변동폭':Range_ac, '링크':Link }\n",
    "    ret_df = pd.DataFrame(data)\n",
    "    \n",
    "    return ret_df    "
   ]
  },
  {
   "cell_type": "code",
   "execution_count": 36,
   "metadata": {},
   "outputs": [
    {
     "data": {
      "text/html": [
       "<div>\n",
       "<style scoped>\n",
       "    .dataframe tbody tr th:only-of-type {\n",
       "        vertical-align: middle;\n",
       "    }\n",
       "\n",
       "    .dataframe tbody tr th {\n",
       "        vertical-align: top;\n",
       "    }\n",
       "\n",
       "    .dataframe thead th {\n",
       "        text-align: right;\n",
       "    }\n",
       "</style>\n",
       "<table border=\"1\" class=\"dataframe\">\n",
       "  <thead>\n",
       "    <tr style=\"text-align: right;\">\n",
       "      <th></th>\n",
       "      <th>순위</th>\n",
       "      <th>영화명</th>\n",
       "      <th>변동폭</th>\n",
       "      <th>링크</th>\n",
       "    </tr>\n",
       "  </thead>\n",
       "  <tbody>\n",
       "    <tr>\n",
       "      <th>0</th>\n",
       "      <td>1</td>\n",
       "      <td>완벽한 타인</td>\n",
       "      <td>0</td>\n",
       "      <td>https://movie.naver.com/movie/bi/mi/basic.nhn?...</td>\n",
       "    </tr>\n",
       "    <tr>\n",
       "      <th>1</th>\n",
       "      <td>2</td>\n",
       "      <td>보헤미안 랩소디</td>\n",
       "      <td>0</td>\n",
       "      <td>https://movie.naver.com/movie/bi/mi/basic.nhn?...</td>\n",
       "    </tr>\n",
       "    <tr>\n",
       "      <th>2</th>\n",
       "      <td>3</td>\n",
       "      <td>창궐</td>\n",
       "      <td>0</td>\n",
       "      <td>https://movie.naver.com/movie/bi/mi/basic.nhn?...</td>\n",
       "    </tr>\n",
       "    <tr>\n",
       "      <th>3</th>\n",
       "      <td>4</td>\n",
       "      <td>동네사람들</td>\n",
       "      <td>2</td>\n",
       "      <td>https://movie.naver.com/movie/bi/mi/basic.nhn?...</td>\n",
       "    </tr>\n",
       "    <tr>\n",
       "      <th>4</th>\n",
       "      <td>5</td>\n",
       "      <td>할로윈</td>\n",
       "      <td>-1</td>\n",
       "      <td>https://movie.naver.com/movie/bi/mi/basic.nhn?...</td>\n",
       "    </tr>\n",
       "    <tr>\n",
       "      <th>5</th>\n",
       "      <td>6</td>\n",
       "      <td>벽 속에 숨은 마법시계</td>\n",
       "      <td>-1</td>\n",
       "      <td>https://movie.naver.com/movie/bi/mi/basic.nhn?...</td>\n",
       "    </tr>\n",
       "    <tr>\n",
       "      <th>6</th>\n",
       "      <td>7</td>\n",
       "      <td>암수살인</td>\n",
       "      <td>0</td>\n",
       "      <td>https://movie.naver.com/movie/bi/mi/basic.nhn?...</td>\n",
       "    </tr>\n",
       "    <tr>\n",
       "      <th>7</th>\n",
       "      <td>8</td>\n",
       "      <td>여곡성</td>\n",
       "      <td>3</td>\n",
       "      <td>https://movie.naver.com/movie/bi/mi/basic.nhn?...</td>\n",
       "    </tr>\n",
       "    <tr>\n",
       "      <th>8</th>\n",
       "      <td>9</td>\n",
       "      <td>바울</td>\n",
       "      <td>-1</td>\n",
       "      <td>https://movie.naver.com/movie/bi/mi/basic.nhn?...</td>\n",
       "    </tr>\n",
       "    <tr>\n",
       "      <th>9</th>\n",
       "      <td>10</td>\n",
       "      <td>신비한 동물들과 그린델왈드의 범죄</td>\n",
       "      <td>2</td>\n",
       "      <td>https://movie.naver.com/movie/bi/mi/basic.nhn?...</td>\n",
       "    </tr>\n",
       "  </tbody>\n",
       "</table>\n",
       "</div>"
      ],
      "text/plain": [
       "   순위                 영화명 변동폭  \\\n",
       "0   1              완벽한 타인   0   \n",
       "1   2            보헤미안 랩소디   0   \n",
       "2   3                  창궐   0   \n",
       "3   4               동네사람들   2   \n",
       "4   5                 할로윈  -1   \n",
       "5   6        벽 속에 숨은 마법시계  -1   \n",
       "6   7                암수살인   0   \n",
       "7   8                 여곡성   3   \n",
       "8   9                  바울  -1   \n",
       "9  10  신비한 동물들과 그린델왈드의 범죄   2   \n",
       "\n",
       "                                                  링크  \n",
       "0  https://movie.naver.com/movie/bi/mi/basic.nhn?...  \n",
       "1  https://movie.naver.com/movie/bi/mi/basic.nhn?...  \n",
       "2  https://movie.naver.com/movie/bi/mi/basic.nhn?...  \n",
       "3  https://movie.naver.com/movie/bi/mi/basic.nhn?...  \n",
       "4  https://movie.naver.com/movie/bi/mi/basic.nhn?...  \n",
       "5  https://movie.naver.com/movie/bi/mi/basic.nhn?...  \n",
       "6  https://movie.naver.com/movie/bi/mi/basic.nhn?...  \n",
       "7  https://movie.naver.com/movie/bi/mi/basic.nhn?...  \n",
       "8  https://movie.naver.com/movie/bi/mi/basic.nhn?...  \n",
       "9  https://movie.naver.com/movie/bi/mi/basic.nhn?...  "
      ]
     },
     "execution_count": 36,
     "metadata": {},
     "output_type": "execute_result"
    }
   ],
   "source": [
    "df = crawl_movie_rank()\n",
    "df"
   ]
  },
  {
   "cell_type": "code",
   "execution_count": 37,
   "metadata": {},
   "outputs": [
    {
     "data": {
      "text/html": [
       "<div>\n",
       "<style scoped>\n",
       "    .dataframe tbody tr th:only-of-type {\n",
       "        vertical-align: middle;\n",
       "    }\n",
       "\n",
       "    .dataframe tbody tr th {\n",
       "        vertical-align: top;\n",
       "    }\n",
       "\n",
       "    .dataframe thead th {\n",
       "        text-align: right;\n",
       "    }\n",
       "</style>\n",
       "<table border=\"1\" class=\"dataframe\">\n",
       "  <thead>\n",
       "    <tr style=\"text-align: right;\">\n",
       "      <th></th>\n",
       "      <th>영화명</th>\n",
       "      <th>변동폭</th>\n",
       "      <th>링크</th>\n",
       "    </tr>\n",
       "    <tr>\n",
       "      <th>순위</th>\n",
       "      <th></th>\n",
       "      <th></th>\n",
       "      <th></th>\n",
       "    </tr>\n",
       "  </thead>\n",
       "  <tbody>\n",
       "    <tr>\n",
       "      <th>1</th>\n",
       "      <td>완벽한 타인</td>\n",
       "      <td>0</td>\n",
       "      <td>https://movie.naver.com/movie/bi/mi/basic.nhn?...</td>\n",
       "    </tr>\n",
       "    <tr>\n",
       "      <th>2</th>\n",
       "      <td>보헤미안 랩소디</td>\n",
       "      <td>0</td>\n",
       "      <td>https://movie.naver.com/movie/bi/mi/basic.nhn?...</td>\n",
       "    </tr>\n",
       "    <tr>\n",
       "      <th>3</th>\n",
       "      <td>창궐</td>\n",
       "      <td>0</td>\n",
       "      <td>https://movie.naver.com/movie/bi/mi/basic.nhn?...</td>\n",
       "    </tr>\n",
       "    <tr>\n",
       "      <th>4</th>\n",
       "      <td>동네사람들</td>\n",
       "      <td>2</td>\n",
       "      <td>https://movie.naver.com/movie/bi/mi/basic.nhn?...</td>\n",
       "    </tr>\n",
       "    <tr>\n",
       "      <th>5</th>\n",
       "      <td>할로윈</td>\n",
       "      <td>-1</td>\n",
       "      <td>https://movie.naver.com/movie/bi/mi/basic.nhn?...</td>\n",
       "    </tr>\n",
       "    <tr>\n",
       "      <th>6</th>\n",
       "      <td>벽 속에 숨은 마법시계</td>\n",
       "      <td>-1</td>\n",
       "      <td>https://movie.naver.com/movie/bi/mi/basic.nhn?...</td>\n",
       "    </tr>\n",
       "    <tr>\n",
       "      <th>7</th>\n",
       "      <td>암수살인</td>\n",
       "      <td>0</td>\n",
       "      <td>https://movie.naver.com/movie/bi/mi/basic.nhn?...</td>\n",
       "    </tr>\n",
       "    <tr>\n",
       "      <th>8</th>\n",
       "      <td>여곡성</td>\n",
       "      <td>3</td>\n",
       "      <td>https://movie.naver.com/movie/bi/mi/basic.nhn?...</td>\n",
       "    </tr>\n",
       "    <tr>\n",
       "      <th>9</th>\n",
       "      <td>바울</td>\n",
       "      <td>-1</td>\n",
       "      <td>https://movie.naver.com/movie/bi/mi/basic.nhn?...</td>\n",
       "    </tr>\n",
       "    <tr>\n",
       "      <th>10</th>\n",
       "      <td>신비한 동물들과 그린델왈드의 범죄</td>\n",
       "      <td>2</td>\n",
       "      <td>https://movie.naver.com/movie/bi/mi/basic.nhn?...</td>\n",
       "    </tr>\n",
       "  </tbody>\n",
       "</table>\n",
       "</div>"
      ],
      "text/plain": [
       "                   영화명 변동폭                                                 링크\n",
       "순위                                                                           \n",
       "1               완벽한 타인   0  https://movie.naver.com/movie/bi/mi/basic.nhn?...\n",
       "2             보헤미안 랩소디   0  https://movie.naver.com/movie/bi/mi/basic.nhn?...\n",
       "3                   창궐   0  https://movie.naver.com/movie/bi/mi/basic.nhn?...\n",
       "4                동네사람들   2  https://movie.naver.com/movie/bi/mi/basic.nhn?...\n",
       "5                  할로윈  -1  https://movie.naver.com/movie/bi/mi/basic.nhn?...\n",
       "6         벽 속에 숨은 마법시계  -1  https://movie.naver.com/movie/bi/mi/basic.nhn?...\n",
       "7                 암수살인   0  https://movie.naver.com/movie/bi/mi/basic.nhn?...\n",
       "8                  여곡성   3  https://movie.naver.com/movie/bi/mi/basic.nhn?...\n",
       "9                   바울  -1  https://movie.naver.com/movie/bi/mi/basic.nhn?...\n",
       "10  신비한 동물들과 그린델왈드의 범죄   2  https://movie.naver.com/movie/bi/mi/basic.nhn?..."
      ]
     },
     "execution_count": 37,
     "metadata": {},
     "output_type": "execute_result"
    }
   ],
   "source": [
    "df.set_index('순위', inplace=True)\n",
    "df"
   ]
  },
  {
   "cell_type": "code",
   "execution_count": 38,
   "metadata": {},
   "outputs": [],
   "source": [
    "df.to_csv('data/movie_top10.csv', sep=',', encoding='UTF-8')"
   ]
  },
  {
   "cell_type": "markdown",
   "metadata": {},
   "source": [
    "## 2단계 : 상세페이지 크롤링 \n",
    "> 항목 : 순위, 영화명, 변동폭, 평점(관람객/평론가/네티즌), 장르, 감독, 출연, 등급"
   ]
  },
  {
   "cell_type": "code",
   "execution_count": 39,
   "metadata": {},
   "outputs": [],
   "source": [
    "from bs4 import BeautifulSoup \n",
    "from urllib.request import urlopen\n",
    "\n",
    "import pandas as pd\n",
    "import re"
   ]
  },
  {
   "cell_type": "code",
   "execution_count": 40,
   "metadata": {},
   "outputs": [
    {
     "data": {
      "text/html": [
       "<div>\n",
       "<style scoped>\n",
       "    .dataframe tbody tr th:only-of-type {\n",
       "        vertical-align: middle;\n",
       "    }\n",
       "\n",
       "    .dataframe tbody tr th {\n",
       "        vertical-align: top;\n",
       "    }\n",
       "\n",
       "    .dataframe thead th {\n",
       "        text-align: right;\n",
       "    }\n",
       "</style>\n",
       "<table border=\"1\" class=\"dataframe\">\n",
       "  <thead>\n",
       "    <tr style=\"text-align: right;\">\n",
       "      <th></th>\n",
       "      <th>영화명</th>\n",
       "      <th>변동폭</th>\n",
       "      <th>링크</th>\n",
       "    </tr>\n",
       "    <tr>\n",
       "      <th>순위</th>\n",
       "      <th></th>\n",
       "      <th></th>\n",
       "      <th></th>\n",
       "    </tr>\n",
       "  </thead>\n",
       "  <tbody>\n",
       "    <tr>\n",
       "      <th>1</th>\n",
       "      <td>완벽한 타인</td>\n",
       "      <td>0</td>\n",
       "      <td>https://movie.naver.com/movie/bi/mi/basic.nhn?...</td>\n",
       "    </tr>\n",
       "    <tr>\n",
       "      <th>2</th>\n",
       "      <td>보헤미안 랩소디</td>\n",
       "      <td>0</td>\n",
       "      <td>https://movie.naver.com/movie/bi/mi/basic.nhn?...</td>\n",
       "    </tr>\n",
       "    <tr>\n",
       "      <th>3</th>\n",
       "      <td>창궐</td>\n",
       "      <td>0</td>\n",
       "      <td>https://movie.naver.com/movie/bi/mi/basic.nhn?...</td>\n",
       "    </tr>\n",
       "    <tr>\n",
       "      <th>4</th>\n",
       "      <td>동네사람들</td>\n",
       "      <td>2</td>\n",
       "      <td>https://movie.naver.com/movie/bi/mi/basic.nhn?...</td>\n",
       "    </tr>\n",
       "    <tr>\n",
       "      <th>5</th>\n",
       "      <td>할로윈</td>\n",
       "      <td>-1</td>\n",
       "      <td>https://movie.naver.com/movie/bi/mi/basic.nhn?...</td>\n",
       "    </tr>\n",
       "    <tr>\n",
       "      <th>6</th>\n",
       "      <td>벽 속에 숨은 마법시계</td>\n",
       "      <td>-1</td>\n",
       "      <td>https://movie.naver.com/movie/bi/mi/basic.nhn?...</td>\n",
       "    </tr>\n",
       "    <tr>\n",
       "      <th>7</th>\n",
       "      <td>암수살인</td>\n",
       "      <td>0</td>\n",
       "      <td>https://movie.naver.com/movie/bi/mi/basic.nhn?...</td>\n",
       "    </tr>\n",
       "    <tr>\n",
       "      <th>8</th>\n",
       "      <td>여곡성</td>\n",
       "      <td>3</td>\n",
       "      <td>https://movie.naver.com/movie/bi/mi/basic.nhn?...</td>\n",
       "    </tr>\n",
       "    <tr>\n",
       "      <th>9</th>\n",
       "      <td>바울</td>\n",
       "      <td>-1</td>\n",
       "      <td>https://movie.naver.com/movie/bi/mi/basic.nhn?...</td>\n",
       "    </tr>\n",
       "    <tr>\n",
       "      <th>10</th>\n",
       "      <td>신비한 동물들과 그린델왈드의 범죄</td>\n",
       "      <td>2</td>\n",
       "      <td>https://movie.naver.com/movie/bi/mi/basic.nhn?...</td>\n",
       "    </tr>\n",
       "  </tbody>\n",
       "</table>\n",
       "</div>"
      ],
      "text/plain": [
       "                   영화명  변동폭                                                 링크\n",
       "순위                                                                            \n",
       "1               완벽한 타인    0  https://movie.naver.com/movie/bi/mi/basic.nhn?...\n",
       "2             보헤미안 랩소디    0  https://movie.naver.com/movie/bi/mi/basic.nhn?...\n",
       "3                   창궐    0  https://movie.naver.com/movie/bi/mi/basic.nhn?...\n",
       "4                동네사람들    2  https://movie.naver.com/movie/bi/mi/basic.nhn?...\n",
       "5                  할로윈   -1  https://movie.naver.com/movie/bi/mi/basic.nhn?...\n",
       "6         벽 속에 숨은 마법시계   -1  https://movie.naver.com/movie/bi/mi/basic.nhn?...\n",
       "7                 암수살인    0  https://movie.naver.com/movie/bi/mi/basic.nhn?...\n",
       "8                  여곡성    3  https://movie.naver.com/movie/bi/mi/basic.nhn?...\n",
       "9                   바울   -1  https://movie.naver.com/movie/bi/mi/basic.nhn?...\n",
       "10  신비한 동물들과 그린델왈드의 범죄    2  https://movie.naver.com/movie/bi/mi/basic.nhn?..."
      ]
     },
     "execution_count": 40,
     "metadata": {},
     "output_type": "execute_result"
    }
   ],
   "source": [
    "df = pd.read_csv('data/movie_top10.csv', encoding='UTF-8', index_col='순위')\n",
    "df"
   ]
  },
  {
   "cell_type": "code",
   "execution_count": 41,
   "metadata": {},
   "outputs": [
    {
     "data": {
      "text/plain": [
       "'https://movie.naver.com/movie/bi/mi/basic.nhn?code=167638'"
      ]
     },
     "execution_count": 41,
     "metadata": {},
     "output_type": "execute_result"
    }
   ],
   "source": [
    "url_page = df['링크'][1]\n",
    "url_page"
   ]
  },
  {
   "cell_type": "code",
   "execution_count": 42,
   "metadata": {},
   "outputs": [
    {
     "data": {
      "text/plain": [
       "<title>완벽한 타인 : 네이버 영화</title>"
      ]
     },
     "execution_count": 42,
     "metadata": {},
     "output_type": "execute_result"
    }
   ],
   "source": [
    "html = urlopen(url_page)\n",
    "soup = BeautifulSoup(html, \"lxml\")\n",
    "soup.title"
   ]
  },
  {
   "cell_type": "code",
   "execution_count": 43,
   "metadata": {},
   "outputs": [
    {
     "data": {
      "text/plain": [
       "2"
      ]
     },
     "execution_count": 43,
     "metadata": {},
     "output_type": "execute_result"
    }
   ],
   "source": [
    "tag_infos = soup.find_all('div', 'mv_info')\n",
    "len(tag_infos)"
   ]
  },
  {
   "cell_type": "code",
   "execution_count": 44,
   "metadata": {},
   "outputs": [],
   "source": [
    "# tag_infos[0] 인경우, 네티즌 평가정보를 못가져 옴\n",
    "mv_info = tag_infos[1]\n",
    "# mv_info"
   ]
  },
  {
   "cell_type": "markdown",
   "metadata": {},
   "source": [
    "## Regular Expression 관련 사이트\n",
    "- http://regexr.com/ : text 정보를 re로 테스트\n",
    "- https://regexper.com/ : 작성된 re를 다이어그램으로 표현"
   ]
  },
  {
   "cell_type": "markdown",
   "metadata": {},
   "source": [
    "**평점 : 관람객 / 평론가 / 네티즌**"
   ]
  },
  {
   "cell_type": "code",
   "execution_count": 45,
   "metadata": {},
   "outputs": [
    {
     "data": {
      "text/plain": [
       "5"
      ]
     },
     "execution_count": 45,
     "metadata": {},
     "output_type": "execute_result"
    }
   ],
   "source": [
    "star_scores = mv_info.find_all('div', 'star_score')\n",
    "len(star_scores)"
   ]
  },
  {
   "cell_type": "code",
   "execution_count": 46,
   "metadata": {},
   "outputs": [
    {
     "data": {
      "text/plain": [
       "['9.20', '6.13', '8.87']"
      ]
     },
     "execution_count": 46,
     "metadata": {},
     "output_type": "execute_result"
    }
   ],
   "source": [
    "Scores = list()\n",
    "\n",
    "for star_score in star_scores:\n",
    "    each_score = star_score.get_text()\n",
    "    re_score = re.search('\\d{1,2}\\.\\d{1,2}', each_score)\n",
    "    \n",
    "    if re_score is not None:\n",
    "        score = re_score.group()\n",
    "        # print('[{}]'.format(score))\n",
    "        Scores.append(score)\n",
    "    else :\n",
    "        pass\n",
    "        # print('없음')\n",
    "        \n",
    "\n",
    "Scores"
   ]
  },
  {
   "cell_type": "code",
   "execution_count": 47,
   "metadata": {},
   "outputs": [
    {
     "data": {
      "text/plain": [
       "'관람객:9.20 / 평론가:6.13 / 네티즌8.87'"
      ]
     },
     "execution_count": 47,
     "metadata": {},
     "output_type": "execute_result"
    }
   ],
   "source": [
    "if len(Scores) > 2:\n",
    "    score1 = Scores[0]\n",
    "    score2 = Scores[1]\n",
    "    score3 = Scores[2]\n",
    "\n",
    "\"관람객:{} / 평론가:{} / 네티즌{}\".format(score1, score2, score3)"
   ]
  },
  {
   "cell_type": "code",
   "execution_count": 48,
   "metadata": {},
   "outputs": [
    {
     "name": "stdout",
     "output_type": "stream",
     "text": [
      "<dl class=\"info_spec\">\n",
      " <dt class=\"step1\">\n",
      "  <em>\n",
      "   개요()\n",
      "  </em>\n",
      " </dt>\n",
      " <dd>\n",
      "  <p>\n",
      "   <span>\n",
      "    <a href=\"/movie/sdb/browsing/bmovie.nhn?genre=1\">\n",
      "     드라마\n",
      "    </a>\n",
      "    <!-- N=a:ifo.genre -->\n",
      "    ,\n",
      "    <a href=\"/movie/sdb/browsing/bmovie.nhn?genre=11\">\n",
      "     코미디\n",
      "    </a>\n",
      "    <!-- N=a:ifo.genre -->\n",
      "   </span>\n",
      "   <span>\n",
      "    <a href=\"/movie/sdb/browsing/bmovie.nhn?nation=KR\">\n",
      "     한국\n",
      "    </a>\n",
      "    <!-- N=a:ifo.nation -->\n",
      "   </span>\n",
      "   <span>\n",
      "    115분\n",
      "   </span>\n",
      "   <span>\n",
      "    <a href=\"/movie/sdb/browsing/bmovie.nhn?open=2018\">\n",
      "     2018\n",
      "    </a>\n",
      "    <!-- N=a:ifo.year -->\n",
      "    <a href=\"/movie/sdb/browsing/bmovie.nhn?open=20181031\">\n",
      "     .10.31\n",
      "    </a>\n",
      "    <!-- N=a:ifo.day -->\n",
      "    개봉\n",
      "   </span>\n",
      "  </p>\n",
      " </dd>\n",
      " <dt class=\"step2\">\n",
      "  <em>\n",
      "   감독\n",
      "  </em>\n",
      " </dt>\n",
      " <dd>\n",
      "  <p>\n",
      "   <a href=\"/movie/bi/pi/basic.nhn?code=15598\">\n",
      "    이재규\n",
      "   </a>\n",
      "   <!-- N=a:ifo.director -->\n",
      "  </p>\n",
      " </dd>\n",
      " <dt class=\"step3\">\n",
      "  <em>\n",
      "   출연\n",
      "  </em>\n",
      " </dt>\n",
      " <dd>\n",
      "  <p>\n",
      "   <a href=\"/movie/bi/pi/basic.nhn?code=4431\">\n",
      "    유해진\n",
      "   </a>\n",
      "   <!-- N=a:ifo.actor -->\n",
      "   (태수),\n",
      "   <a href=\"/movie/bi/pi/basic.nhn?code=42297\">\n",
      "    조진웅\n",
      "   </a>\n",
      "   <!-- N=a:ifo.actor -->\n",
      "   (석호),\n",
      "   <a href=\"/movie/bi/pi/basic.nhn?code=2188\">\n",
      "    이서진\n",
      "   </a>\n",
      "   <!-- N=a:ifo.actor -->\n",
      "   (준모)\n",
      "  </p>\n",
      "  <a class=\"more\" href=\"detail.nhn?code=167638\" title=\"더보기\">\n",
      "   더보기\n",
      "  </a>\n",
      "  <!-- N=a:ifo.actmore -->\n",
      " </dd>\n",
      " <dt class=\"step4\">\n",
      "  <em>\n",
      "   등급\n",
      "  </em>\n",
      " </dt>\n",
      " <dd>\n",
      "  <p>\n",
      "   [국내]\n",
      "   <a href=\"/movie/sdb/browsing/bmovie.nhn?grade=1001003\">\n",
      "    15세 관람가\n",
      "   </a>\n",
      "   <!-- N=a:ifo.filmrate -->\n",
      "  </p>\n",
      " </dd>\n",
      " <dt class=\"step9\">\n",
      "  <em>\n",
      "   흥행\n",
      "  </em>\n",
      " </dt>\n",
      " <dd>\n",
      "  <div class=\"step9_cont\">\n",
      "   <p class=\"rate\">\n",
      "    <a href=\"/movie/running/current.nhn?view=list&amp;tab=normal&amp;order=reserve\">\n",
      "     예매율 1위\n",
      "    </a>\n",
      "   </p>\n",
      "   <div class=\"uio_ntz_btn\">\n",
      "    <span class=\"ntz\">\n",
      "     누적관객\n",
      "     <a class=\"help\" href=\"#\" id=\"boxofficeHelpButtonBasic\" title=\"누적관객 도움말 보기\">\n",
      "      누적관객 도움말\n",
      "     </a>\n",
      "    </span>\n",
      "    <div class=\"ly_ntz\" id=\"boxofficeHelpLayerBasic\" style=\"display:none;\">\n",
      "     <span>\n",
      "     </span>\n",
      "     <strong class=\"blind\">\n",
      "      네티즌 평점 도움말\n",
      "     </strong>\n",
      "     영화진흥위원회 영화관 입장권 통합전산망 제공\n",
      "     <button class=\"btn_close\" id=\"boxofficeHelpCloseButtonBasic\" type=\"button\">\n",
      "      <em>\n",
      "       닫기\n",
      "      </em>\n",
      "     </button>\n",
      "    </div>\n",
      "   </div>\n",
      "   <p class=\"count\">\n",
      "    2,376,139명\n",
      "    <span>\n",
      "     (11.08 기준)\n",
      "    </span>\n",
      "   </p>\n",
      "  </div>\n",
      " </dd>\n",
      "</dl>\n",
      "\n"
     ]
    }
   ],
   "source": [
    "info_spec = mv_info.find('dl', 'info_spec')\n",
    "# info_spec = info_spec.get_text()\n",
    "# info_spec\n",
    "print(info_spec.prettify())"
   ]
  },
  {
   "cell_type": "code",
   "execution_count": 49,
   "metadata": {},
   "outputs": [
    {
     "data": {
      "text/plain": [
       "5"
      ]
     },
     "execution_count": 49,
     "metadata": {},
     "output_type": "execute_result"
    }
   ],
   "source": [
    "genre = mv_info.find_all('dd')\n",
    "len(genre)"
   ]
  },
  {
   "cell_type": "code",
   "execution_count": 50,
   "metadata": {},
   "outputs": [
    {
     "data": {
      "text/plain": [
       "'드라마, 코미디한국115분  2018.10.31 개봉'"
      ]
     },
     "execution_count": 50,
     "metadata": {},
     "output_type": "execute_result"
    }
   ],
   "source": [
    "genre = mv_info.find_all('dd')[0].get_text()\n",
    "genre = genre.replace('\\n', '')\n",
    "genre = genre.replace('\\r', '')\n",
    "genre = genre.replace('\\t', '')\n",
    "genre"
   ]
  },
  {
   "cell_type": "code",
   "execution_count": 51,
   "metadata": {},
   "outputs": [
    {
     "data": {
      "text/plain": [
       "'이재규'"
      ]
     },
     "execution_count": 51,
     "metadata": {},
     "output_type": "execute_result"
    }
   ],
   "source": [
    "director = mv_info.find_all('dd')[1].get_text()\n",
    "director = director.strip()\n",
    "director"
   ]
  },
  {
   "cell_type": "code",
   "execution_count": 52,
   "metadata": {},
   "outputs": [
    {
     "data": {
      "text/plain": [
       "'유해진(태수), 조진웅(석호), 이서진(준모)'"
      ]
     },
     "execution_count": 52,
     "metadata": {},
     "output_type": "execute_result"
    }
   ],
   "source": [
    "casting = mv_info.find_all('dd')[2].get_text()\n",
    "casting = casting.replace('더보기', '')\n",
    "casting = casting.strip()\n",
    "casting"
   ]
  },
  {
   "cell_type": "code",
   "execution_count": 53,
   "metadata": {},
   "outputs": [
    {
     "data": {
      "text/plain": [
       "'[국내] 15세 관람가'"
      ]
     },
     "execution_count": 53,
     "metadata": {},
     "output_type": "execute_result"
    }
   ],
   "source": [
    "rating = mv_info.find_all('dd')[3].get_text()\n",
    "rating = rating.replace('\\n', '')\n",
    "rating = rating.replace('\\r', '')\n",
    "rating = rating.replace('\\t', '')\n",
    "rating = rating.strip()\n",
    "rating"
   ]
  },
  {
   "cell_type": "markdown",
   "metadata": {},
   "source": [
    "**OK! 이제부터 모듈로 묶자!**"
   ]
  },
  {
   "cell_type": "code",
   "execution_count": 54,
   "metadata": {},
   "outputs": [],
   "source": [
    "from tqdm import tqdm_notebook"
   ]
  },
  {
   "cell_type": "code",
   "execution_count": 55,
   "metadata": {},
   "outputs": [],
   "source": [
    "def crawl_detail(df) :\n",
    "    \n",
    "    Score = []\n",
    "    Genre = []\n",
    "    Director = []\n",
    "    Casting  = []\n",
    "    Rating   = []  \n",
    "\n",
    "    for url_page in tqdm_notebook(df['링크']):\n",
    "\n",
    "        html = urlopen(url_page)\n",
    "        soup = BeautifulSoup(html, \"lxml\")\n",
    "\n",
    "        tag_infos = soup.find_all('div', 'mv_info')\n",
    "        # tag_infos[0] 인경우, 네티즌 평가정보를 못가져 옴\n",
    "        mv_info = tag_infos[1]\n",
    "\n",
    "        # 평점\n",
    "        star_scores = mv_info.find_all('div', 'star_score')\n",
    "        tmp_scores = list()\n",
    "\n",
    "        for star_score in star_scores:\n",
    "            each_score = star_score.get_text()\n",
    "            re_score = re.search('\\d{1,2}\\.\\d{1,2}', each_score)\n",
    "\n",
    "            if re_score is None:\n",
    "                pass\n",
    "            else :\n",
    "                score = re_score.group()\n",
    "                tmp_scores.append(score)\n",
    "        else :\n",
    "            if len(Scores) > 2:\n",
    "                score1 = tmp_scores[0]\n",
    "                score2 = tmp_scores[1]\n",
    "                score3 = tmp_scores[2]\n",
    "            else :\n",
    "                pass\n",
    "\n",
    "        # score = \"관람객:{} / 평론가:{} / 네티즌{}\".format(score1, score2, score3)\n",
    "        score = \"{} / {} / {}\".format(score1, score2, score3)\n",
    "\n",
    "        info_spec = mv_info.find('dl', 'info_spec')\n",
    "\n",
    "        # 장르\n",
    "        genre = mv_info.find_all('dd')[0].get_text()\n",
    "        genre = genre.replace('\\n', '')\n",
    "        genre = genre.replace('\\r', '')\n",
    "        genre = genre.replace('\\t', '')\n",
    "\n",
    "        # 감독\n",
    "        director = mv_info.find_all('dd')[1].get_text()\n",
    "        director = director.strip()\n",
    "\n",
    "        # 출연\n",
    "        casting = mv_info.find_all('dd')[2].get_text()\n",
    "        casting = casting.replace('더보기', '')\n",
    "        casting = casting.strip()\n",
    "\n",
    "        # 등급\n",
    "        rating = mv_info.find_all('dd')[3].get_text()\n",
    "        rating = rating.replace('\\n', '')\n",
    "        rating = rating.replace('\\r', '')\n",
    "        rating = rating.replace('\\t', '')\n",
    "        rating = rating.strip()\n",
    "\n",
    "        Score.append(score)\n",
    "        Genre.append(genre)\n",
    "        Director.append(director)\n",
    "        Casting.append(casting)\n",
    "        Rating.append(rating)\n",
    "\n",
    "    df['평점'] = Score\n",
    "    df['장르'] = Genre\n",
    "    df['감독'] = Director\n",
    "    df['출연'] = Casting\n",
    "    df['등급'] = Casting\n",
    "\n",
    "    print('Crawling is Finished !!!')\n",
    "        \n",
    "    return df"
   ]
  },
  {
   "cell_type": "code",
   "execution_count": null,
   "metadata": {},
   "outputs": [],
   "source": []
  },
  {
   "cell_type": "markdown",
   "metadata": {},
   "source": [
    "**크롤링 테스트**"
   ]
  },
  {
   "cell_type": "code",
   "execution_count": 56,
   "metadata": {},
   "outputs": [
    {
     "data": {
      "application/vnd.jupyter.widget-view+json": {
       "model_id": "0d611a13cbab48afb773723a23a0d1f5",
       "version_major": 2,
       "version_minor": 0
      },
      "text/plain": [
       "HBox(children=(IntProgress(value=0, max=10), HTML(value='')))"
      ]
     },
     "metadata": {},
     "output_type": "display_data"
    },
    {
     "name": "stdout",
     "output_type": "stream",
     "text": [
      "\n"
     ]
    },
    {
     "ename": "IndexError",
     "evalue": "list index out of range",
     "output_type": "error",
     "traceback": [
      "\u001b[1;31m---------------------------------------------------------------------------\u001b[0m",
      "\u001b[1;31mIndexError\u001b[0m                                Traceback (most recent call last)",
      "\u001b[1;32m<ipython-input-56-9d23034ada35>\u001b[0m in \u001b[0;36m<module>\u001b[1;34m()\u001b[0m\n\u001b[1;32m----> 1\u001b[1;33m \u001b[0mresult_df\u001b[0m \u001b[1;33m=\u001b[0m \u001b[0mcrawl_detail\u001b[0m\u001b[1;33m(\u001b[0m\u001b[0mdf\u001b[0m\u001b[1;33m)\u001b[0m\u001b[1;33m\u001b[0m\u001b[0m\n\u001b[0m",
      "\u001b[1;32m<ipython-input-55-c6359c9d8aa7>\u001b[0m in \u001b[0;36mcrawl_detail\u001b[1;34m(df)\u001b[0m\n\u001b[0;32m     33\u001b[0m                 \u001b[0mscore1\u001b[0m \u001b[1;33m=\u001b[0m \u001b[0mtmp_scores\u001b[0m\u001b[1;33m[\u001b[0m\u001b[1;36m0\u001b[0m\u001b[1;33m]\u001b[0m\u001b[1;33m\u001b[0m\u001b[0m\n\u001b[0;32m     34\u001b[0m                 \u001b[0mscore2\u001b[0m \u001b[1;33m=\u001b[0m \u001b[0mtmp_scores\u001b[0m\u001b[1;33m[\u001b[0m\u001b[1;36m1\u001b[0m\u001b[1;33m]\u001b[0m\u001b[1;33m\u001b[0m\u001b[0m\n\u001b[1;32m---> 35\u001b[1;33m                 \u001b[0mscore3\u001b[0m \u001b[1;33m=\u001b[0m \u001b[0mtmp_scores\u001b[0m\u001b[1;33m[\u001b[0m\u001b[1;36m2\u001b[0m\u001b[1;33m]\u001b[0m\u001b[1;33m\u001b[0m\u001b[0m\n\u001b[0m\u001b[0;32m     36\u001b[0m             \u001b[1;32melse\u001b[0m \u001b[1;33m:\u001b[0m\u001b[1;33m\u001b[0m\u001b[0m\n\u001b[0;32m     37\u001b[0m                 \u001b[1;32mpass\u001b[0m\u001b[1;33m\u001b[0m\u001b[0m\n",
      "\u001b[1;31mIndexError\u001b[0m: list index out of range"
     ]
    }
   ],
   "source": [
    "result_df = crawl_detail(df)"
   ]
  },
  {
   "cell_type": "code",
   "execution_count": 57,
   "metadata": {},
   "outputs": [
    {
     "ename": "NameError",
     "evalue": "name 'result_df' is not defined",
     "output_type": "error",
     "traceback": [
      "\u001b[1;31m---------------------------------------------------------------------------\u001b[0m",
      "\u001b[1;31mNameError\u001b[0m                                 Traceback (most recent call last)",
      "\u001b[1;32m<ipython-input-57-23a893e86559>\u001b[0m in \u001b[0;36m<module>\u001b[1;34m()\u001b[0m\n\u001b[1;32m----> 1\u001b[1;33m \u001b[0mresult_df\u001b[0m\u001b[1;33m.\u001b[0m\u001b[0mhead\u001b[0m\u001b[1;33m(\u001b[0m\u001b[1;33m)\u001b[0m\u001b[1;33m\u001b[0m\u001b[0m\n\u001b[0m",
      "\u001b[1;31mNameError\u001b[0m: name 'result_df' is not defined"
     ]
    }
   ],
   "source": [
    "result_df.head()"
   ]
  },
  {
   "cell_type": "code",
   "execution_count": 58,
   "metadata": {},
   "outputs": [
    {
     "ename": "NameError",
     "evalue": "name 'result_df' is not defined",
     "output_type": "error",
     "traceback": [
      "\u001b[1;31m---------------------------------------------------------------------------\u001b[0m",
      "\u001b[1;31mNameError\u001b[0m                                 Traceback (most recent call last)",
      "\u001b[1;32m<ipython-input-58-e368def66e28>\u001b[0m in \u001b[0;36m<module>\u001b[1;34m()\u001b[0m\n\u001b[1;32m----> 1\u001b[1;33m \u001b[0mresult_df\u001b[0m\u001b[1;33m.\u001b[0m\u001b[0mloc\u001b[0m\u001b[1;33m[\u001b[0m\u001b[1;36m1\u001b[0m\u001b[1;33m]\u001b[0m\u001b[1;33m\u001b[0m\u001b[0m\n\u001b[0m",
      "\u001b[1;31mNameError\u001b[0m: name 'result_df' is not defined"
     ]
    }
   ],
   "source": [
    "result_df.loc[1]"
   ]
  },
  {
   "cell_type": "code",
   "execution_count": 59,
   "metadata": {},
   "outputs": [],
   "source": [
    "file_name='data/movie_top10_v2.csv'\n",
    "df.to_csv(file_name, sep=',', encoding='UTF-8')"
   ]
  },
  {
   "cell_type": "code",
   "execution_count": null,
   "metadata": {},
   "outputs": [],
   "source": []
  }
 ],
 "metadata": {
  "kernelspec": {
   "display_name": "Python 3",
   "language": "python",
   "name": "python3"
  },
  "language_info": {
   "codemirror_mode": {
    "name": "ipython",
    "version": 3
   },
   "file_extension": ".py",
   "mimetype": "text/x-python",
   "name": "python",
   "nbconvert_exporter": "python",
   "pygments_lexer": "ipython3",
   "version": "3.6.5"
  }
 },
 "nbformat": 4,
 "nbformat_minor": 2
}
