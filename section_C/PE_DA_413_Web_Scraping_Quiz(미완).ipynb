{
 "cells": [
  {
   "cell_type": "markdown",
   "metadata": {},
   "source": [
    "# 1. 주간 음악 순위\n",
    ">URL :: https://music.naver.com/listen/history/index.nhn?type=TOTAL&year=2018&month=11&week=1\n",
    "\n",
    "> - TOP 100 : 순위, 곡명, 아티스트"
   ]
  },
  {
   "cell_type": "code",
   "execution_count": 1,
   "metadata": {},
   "outputs": [],
   "source": [
    "from bs4 import BeautifulSoup \n",
    "from urllib.request import urlopen"
   ]
  },
  {
   "cell_type": "code",
   "execution_count": 2,
   "metadata": {},
   "outputs": [],
   "source": [
    "url = 'https://music.naver.com/listen/history/index.nhn?type=TOTAL&year=2018&month=11&week=1'\n",
    "    \n",
    "html = urlopen(url)\n",
    "soup = BeautifulSoup(html, 'lxml')"
   ]
  },
  {
   "cell_type": "code",
   "execution_count": 3,
   "metadata": {},
   "outputs": [],
   "source": [
    "# print(str(soup)[:1000])"
   ]
  },
  {
   "cell_type": "code",
   "execution_count": 4,
   "metadata": {},
   "outputs": [],
   "source": [
    "# html_title = soup.title\n",
    "# html_title"
   ]
  },
  {
   "cell_type": "code",
   "execution_count": 5,
   "metadata": {},
   "outputs": [],
   "source": [
    "# tag_text = soup.title.get_text()\n",
    "# tag_text"
   ]
  },
  {
   "cell_type": "code",
   "execution_count": 6,
   "metadata": {},
   "outputs": [],
   "source": [
    "# print(tag_text)"
   ]
  },
  {
   "cell_type": "code",
   "execution_count": 7,
   "metadata": {},
   "outputs": [],
   "source": [
    "# div_tags = soup.find_all('div')"
   ]
  },
  {
   "cell_type": "code",
   "execution_count": 8,
   "metadata": {},
   "outputs": [],
   "source": [
    "# len(div_tags)"
   ]
  },
  {
   "cell_type": "code",
   "execution_count": 9,
   "metadata": {},
   "outputs": [],
   "source": [
    "# div_tags[0]"
   ]
  },
  {
   "cell_type": "code",
   "execution_count": 10,
   "metadata": {},
   "outputs": [],
   "source": [
    "# type(div_tags)"
   ]
  },
  {
   "cell_type": "code",
   "execution_count": 11,
   "metadata": {},
   "outputs": [],
   "source": [
    "# print(soup.find_all('tbody'))"
   ]
  },
  {
   "cell_type": "code",
   "execution_count": 12,
   "metadata": {},
   "outputs": [],
   "source": [
    "# print(soup.find_all('td', 'ranking'))"
   ]
  },
  {
   "cell_type": "code",
   "execution_count": 13,
   "metadata": {},
   "outputs": [],
   "source": [
    "# print(soup.find_all('div', '_tracklist_mytrack tracklist_table tracklist_type1'))"
   ]
  },
  {
   "cell_type": "code",
   "execution_count": 14,
   "metadata": {},
   "outputs": [],
   "source": [
    "# len(soup.find_all('div', '_tracklist_mytrack tracklist_table tracklist_type1'))"
   ]
  },
  {
   "cell_type": "markdown",
   "metadata": {},
   "source": [
    "### 음악 순위 구하기"
   ]
  },
  {
   "cell_type": "code",
   "execution_count": 15,
   "metadata": {},
   "outputs": [
    {
     "data": {
      "text/plain": [
       "50"
      ]
     },
     "execution_count": 15,
     "metadata": {},
     "output_type": "execute_result"
    }
   ],
   "source": [
    "tmp_ranking = soup.find_all('td', 'ranking')\n",
    "# tmp_ranking = tmp_ranking.get_text()\n",
    "tmp_ranking\n",
    "\n",
    "len(tmp_ranking)"
   ]
  },
  {
   "cell_type": "code",
   "execution_count": 16,
   "metadata": {},
   "outputs": [],
   "source": [
    "# print(soup.find_all('td', 'name'))"
   ]
  },
  {
   "cell_type": "code",
   "execution_count": 17,
   "metadata": {},
   "outputs": [],
   "source": [
    "# print(soup.find_all('a', 'title'))"
   ]
  },
  {
   "cell_type": "markdown",
   "metadata": {},
   "source": [
    "### 음악 제목 구하기"
   ]
  },
  {
   "cell_type": "code",
   "execution_count": 18,
   "metadata": {},
   "outputs": [
    {
     "data": {
      "text/plain": [
       "50"
      ]
     },
     "execution_count": 18,
     "metadata": {},
     "output_type": "execute_result"
    }
   ],
   "source": [
    "tmp_title = soup.find_all('td', 'name')\n",
    "tmp_title = tmp_title[1:]\n",
    "tmp_title\n",
    "# tmp_title[].find('span', 'ellipsis')\n",
    "len(tmp_title)"
   ]
  },
  {
   "cell_type": "markdown",
   "metadata": {},
   "source": [
    "### 음악 가수이름 구하기"
   ]
  },
  {
   "cell_type": "code",
   "execution_count": 19,
   "metadata": {},
   "outputs": [],
   "source": [
    "import re\n",
    "\n",
    "pattern = re.compile('_artist artist+')\n",
    "\n",
    "tmp_artist = soup.find_all('td', pattern)\n",
    "\n",
    "tmp_artist = tmp_artist[1:]\n",
    "# tmp_artist[1].find('a')['title']\n",
    "# tmp_artist.get_text()\n",
    "# tmp_artist[7].get_text()\n",
    "# tmp_artist"
   ]
  },
  {
   "cell_type": "markdown",
   "metadata": {},
   "source": [
    "### 리스트 만들기(순위, 제목, 가수이름)"
   ]
  },
  {
   "cell_type": "code",
   "execution_count": 20,
   "metadata": {},
   "outputs": [
    {
     "data": {
      "text/plain": [
       "['1', '2', '3', '4', '5', '6', '7', '8', '9', '10']"
      ]
     },
     "execution_count": 20,
     "metadata": {},
     "output_type": "execute_result"
    }
   ],
   "source": [
    "rank = []\n",
    "\n",
    "for item in range(len(tmp_ranking)):\n",
    "    rank.append(tmp_ranking[item].get_text())\n",
    "#     rank.append(tmp_ranking[item].get_text()+'위')\n",
    "#     print('{}위'.format(rank[item]))\n",
    "rank[:10]\n",
    "# len(rank)"
   ]
  },
  {
   "cell_type": "code",
   "execution_count": 21,
   "metadata": {},
   "outputs": [],
   "source": [
    "# title = []\n",
    "\n",
    "# for item in range(len(tmp_title)):\n",
    "#     title.append(tmp_title[item].find('span', 'ellipsis'))\n",
    "\n",
    "# title[:10]\n",
    "\n",
    "# title2 = []\n",
    "\n",
    "# for item in range(len(title)):\n",
    "#     title2.append(title[item].get_text())\n",
    "    \n",
    "# title2[:10]"
   ]
  },
  {
   "cell_type": "code",
   "execution_count": 22,
   "metadata": {},
   "outputs": [
    {
     "data": {
      "text/plain": [
       "['너를 만나',\n",
       " '삐삐',\n",
       " '가을 타나 봐',\n",
       " '하루도 그대를 사랑하지 않은 적이 없었다',\n",
       " '모든 날, 모든 순간 (Every day, Every Moment)',\n",
       " '멋지게 인사하는 법 (Feat. 슬기 of Red Velvet)',\n",
       " 'Good Day (Feat. 팔로알토) (Prod. 코드 쿤스트)',\n",
       " 'Save (Feat. 팔로알토) (Prod. 코드 쿤스트)',\n",
       " 'Way Back Home',\n",
       " '열애중']"
      ]
     },
     "execution_count": 22,
     "metadata": {},
     "output_type": "execute_result"
    }
   ],
   "source": [
    "title = []\n",
    "title2 = []\n",
    "\n",
    "for item in range(len(tmp_title)):\n",
    "    title.append(tmp_title[item].find('span', 'ellipsis'))\n",
    "    title2.append(title[item].get_text())\n",
    "    \n",
    "title2[:10]\n",
    "# len(title2)"
   ]
  },
  {
   "cell_type": "code",
   "execution_count": 23,
   "metadata": {},
   "outputs": [],
   "source": [
    "# artist = []\n",
    "# # artist2 = []\n",
    "\n",
    "# for item in range(len(tmp_artist)):\n",
    "#     artist.append(tmp_artist[item].get_text())\n",
    "#     artist[item] = artist[item].replace('[\\n]|[\\r]|[\\t]', '')\n",
    "# #     artist[item] = artist[item].replace('\\r', '')\n",
    "# #     artist[item] = artist[item].replace('\\t', '')\n",
    "\n",
    "# artist"
   ]
  },
  {
   "cell_type": "code",
   "execution_count": 24,
   "metadata": {},
   "outputs": [],
   "source": [
    "artist = []\n",
    "# artist2 = []\n",
    "\n",
    "for item in range(len(tmp_artist)):\n",
    "    artist.append(tmp_artist[item].get_text())\n",
    "    artist[item] = artist[item].replace('\\n', \"\")\n",
    "    artist[item] = artist[item].replace('\\t', \"\")\n",
    "    artist[item] = artist[item].replace('\\r', \"\")\n",
    "#     artist[item] = artist[item].replace('\\n', '').replace('\\r', '').replace('\\t', '')\n",
    "#     artist[item] = re.sub('[\\n\\t\\r]','',artist[item])\n",
    "\n",
    "## 주의!!!!!!!!!!!!!!!!!!!!!!!!!!!!!!!!!!!!!!!!\n",
    "#위의 주석처리한 2행은 정규표현식 사용 시 간단하게 처리할 수 있는 구문이다!!!\n",
    "## 확인 필수!!!!!!!!!!!!!!!!!!!!!!!!!!!!!!!!!!!\n",
    "\n",
    "\n",
    "# artist"
   ]
  },
  {
   "cell_type": "code",
   "execution_count": null,
   "metadata": {},
   "outputs": [],
   "source": []
  },
  {
   "cell_type": "code",
   "execution_count": 25,
   "metadata": {},
   "outputs": [],
   "source": [
    "# for item in range(len(artist)):\n",
    "#     artist[item] = artist[item].replace('\\n', '')\n",
    "#     artist[item] = artist[item].replace('\\r', '')\n",
    "#     artist[item] = artist[item].replace('\\t', '')\n",
    "    \n",
    "# artist"
   ]
  },
  {
   "cell_type": "code",
   "execution_count": 26,
   "metadata": {},
   "outputs": [],
   "source": [
    "# # import re\n",
    "\n",
    "# # pattern = re.compile('_artist artist+'')\n",
    "\n",
    "# artist = []\n",
    "# # artist2 = []\n",
    "\n",
    "# for item in range(len(tmp_artist)):\n",
    "#     if title in artist.append(tmp_artist[item].find('a')):\n",
    "#         artist.append(tmp_artist[item].find('a')['title'])\n",
    "#         print(artist)\n",
    "#     else:\n",
    "#         artist.append(temp_artist[item].find('a').get_text())\n",
    "        \n",
    "# # artist[:10]\n",
    "# #     artist.append(tmp_artist[item].find('a')['title'])\n",
    "    \n",
    "# #     tmp2 = item.find(\"a\")[\"href\"]\n",
    "# #     if tmp2[:4] != 'http':\n",
    "# #         urlAdd.append('http://www.chicagomag.com'+item.find(\"a\")[\"href\"])\n",
    "# #     else :\n",
    "# #         urlAdd.append(item.find(\"a\")[\"href\"])"
   ]
  },
  {
   "cell_type": "markdown",
   "metadata": {},
   "source": [
    "### 데이터프레임으로 만들기"
   ]
  },
  {
   "cell_type": "code",
   "execution_count": 27,
   "metadata": {},
   "outputs": [],
   "source": [
    "import pandas as pd\n",
    "\n",
    "data = {'Rank':rank, 'Title':title2, 'Artist':artist}\n",
    "df = pd.DataFrame(data)"
   ]
  },
  {
   "cell_type": "code",
   "execution_count": 28,
   "metadata": {},
   "outputs": [
    {
     "data": {
      "text/html": [
       "<div>\n",
       "<style scoped>\n",
       "    .dataframe tbody tr th:only-of-type {\n",
       "        vertical-align: middle;\n",
       "    }\n",
       "\n",
       "    .dataframe tbody tr th {\n",
       "        vertical-align: top;\n",
       "    }\n",
       "\n",
       "    .dataframe thead th {\n",
       "        text-align: right;\n",
       "    }\n",
       "</style>\n",
       "<table border=\"1\" class=\"dataframe\">\n",
       "  <thead>\n",
       "    <tr style=\"text-align: right;\">\n",
       "      <th></th>\n",
       "      <th>Rank</th>\n",
       "      <th>Title</th>\n",
       "      <th>Artist</th>\n",
       "    </tr>\n",
       "  </thead>\n",
       "  <tbody>\n",
       "    <tr>\n",
       "      <th>0</th>\n",
       "      <td>1</td>\n",
       "      <td>너를 만나</td>\n",
       "      <td>폴킴</td>\n",
       "    </tr>\n",
       "    <tr>\n",
       "      <th>1</th>\n",
       "      <td>2</td>\n",
       "      <td>삐삐</td>\n",
       "      <td>아이유(IU)</td>\n",
       "    </tr>\n",
       "    <tr>\n",
       "      <th>2</th>\n",
       "      <td>3</td>\n",
       "      <td>가을 타나 봐</td>\n",
       "      <td>바이브</td>\n",
       "    </tr>\n",
       "    <tr>\n",
       "      <th>3</th>\n",
       "      <td>4</td>\n",
       "      <td>하루도 그대를 사랑하지 않은 적이 없었다</td>\n",
       "      <td>임창정</td>\n",
       "    </tr>\n",
       "    <tr>\n",
       "      <th>4</th>\n",
       "      <td>5</td>\n",
       "      <td>모든 날, 모든 순간 (Every day, Every Moment)</td>\n",
       "      <td>폴킴</td>\n",
       "    </tr>\n",
       "    <tr>\n",
       "      <th>5</th>\n",
       "      <td>6</td>\n",
       "      <td>멋지게 인사하는 법 (Feat. 슬기 of Red Velvet)</td>\n",
       "      <td>Zion.T</td>\n",
       "    </tr>\n",
       "    <tr>\n",
       "      <th>6</th>\n",
       "      <td>7</td>\n",
       "      <td>Good Day (Feat. 팔로알토) (Prod. 코드 쿤스트)</td>\n",
       "      <td>pH-1</td>\n",
       "    </tr>\n",
       "    <tr>\n",
       "      <th>7</th>\n",
       "      <td>8</td>\n",
       "      <td>Save (Feat. 팔로알토) (Prod. 코드 쿤스트)</td>\n",
       "      <td>루피(Loopy)</td>\n",
       "    </tr>\n",
       "    <tr>\n",
       "      <th>8</th>\n",
       "      <td>9</td>\n",
       "      <td>Way Back Home</td>\n",
       "      <td>숀(SHAUN)</td>\n",
       "    </tr>\n",
       "    <tr>\n",
       "      <th>9</th>\n",
       "      <td>10</td>\n",
       "      <td>열애중</td>\n",
       "      <td>벤</td>\n",
       "    </tr>\n",
       "    <tr>\n",
       "      <th>10</th>\n",
       "      <td>11</td>\n",
       "      <td>라비앙로즈 (La Vie en Rose)</td>\n",
       "      <td>IZ*ONE(아이즈원)</td>\n",
       "    </tr>\n",
       "    <tr>\n",
       "      <th>11</th>\n",
       "      <td>12</td>\n",
       "      <td>우리 그만하자</td>\n",
       "      <td>로이킴</td>\n",
       "    </tr>\n",
       "    <tr>\n",
       "      <th>12</th>\n",
       "      <td>13</td>\n",
       "      <td>고백</td>\n",
       "      <td>양다일</td>\n",
       "    </tr>\n",
       "    <tr>\n",
       "      <th>13</th>\n",
       "      <td>14</td>\n",
       "      <td>Regular (Korean Ver.)</td>\n",
       "      <td>NCT 127</td>\n",
       "    </tr>\n",
       "    <tr>\n",
       "      <th>14</th>\n",
       "      <td>15</td>\n",
       "      <td>밤편지</td>\n",
       "      <td>아이유(IU)</td>\n",
       "    </tr>\n",
       "    <tr>\n",
       "      <th>15</th>\n",
       "      <td>16</td>\n",
       "      <td>시간이 들겠지 (Feat. Colde)</td>\n",
       "      <td>로꼬</td>\n",
       "    </tr>\n",
       "    <tr>\n",
       "      <th>16</th>\n",
       "      <td>17</td>\n",
       "      <td>IDOL</td>\n",
       "      <td>방탄소년단</td>\n",
       "    </tr>\n",
       "    <tr>\n",
       "      <th>17</th>\n",
       "      <td>18</td>\n",
       "      <td>사이렌 (Siren)</td>\n",
       "      <td>선미</td>\n",
       "    </tr>\n",
       "    <tr>\n",
       "      <th>18</th>\n",
       "      <td>19</td>\n",
       "      <td>내 생에 아름다운</td>\n",
       "      <td>케이윌</td>\n",
       "    </tr>\n",
       "    <tr>\n",
       "      <th>19</th>\n",
       "      <td>20</td>\n",
       "      <td>나의 모든 순간 (No Longer)</td>\n",
       "      <td>NCT 127</td>\n",
       "    </tr>\n",
       "    <tr>\n",
       "      <th>20</th>\n",
       "      <td>21</td>\n",
       "      <td>Shoot Out</td>\n",
       "      <td>몬스타엑스</td>\n",
       "    </tr>\n",
       "    <tr>\n",
       "      <th>21</th>\n",
       "      <td>22</td>\n",
       "      <td>Tempo</td>\n",
       "      <td>EXO</td>\n",
       "    </tr>\n",
       "    <tr>\n",
       "      <th>22</th>\n",
       "      <td>23</td>\n",
       "      <td>Dance The Night Away</td>\n",
       "      <td>TWICE(트와이스)</td>\n",
       "    </tr>\n",
       "    <tr>\n",
       "      <th>23</th>\n",
       "      <td>24</td>\n",
       "      <td>뚜두뚜두 (DDU-DU DDU-DU)</td>\n",
       "      <td>BLACKPINK</td>\n",
       "    </tr>\n",
       "    <tr>\n",
       "      <th>24</th>\n",
       "      <td>25</td>\n",
       "      <td>그때 헤어지면 돼</td>\n",
       "      <td>로이킴</td>\n",
       "    </tr>\n",
       "    <tr>\n",
       "      <th>25</th>\n",
       "      <td>26</td>\n",
       "      <td>Dejavu</td>\n",
       "      <td>뉴이스트 W</td>\n",
       "    </tr>\n",
       "    <tr>\n",
       "      <th>26</th>\n",
       "      <td>27</td>\n",
       "      <td>Knock On</td>\n",
       "      <td>NCT 127</td>\n",
       "    </tr>\n",
       "    <tr>\n",
       "      <th>27</th>\n",
       "      <td>28</td>\n",
       "      <td>지나오다</td>\n",
       "      <td>닐로(Nilo)</td>\n",
       "    </tr>\n",
       "    <tr>\n",
       "      <th>28</th>\n",
       "      <td>29</td>\n",
       "      <td>신기루 (Fly Away With Me)</td>\n",
       "      <td>NCT 127</td>\n",
       "    </tr>\n",
       "    <tr>\n",
       "      <th>29</th>\n",
       "      <td>30</td>\n",
       "      <td>AND I</td>\n",
       "      <td>뉴이스트 W</td>\n",
       "    </tr>\n",
       "    <tr>\n",
       "      <th>30</th>\n",
       "      <td>31</td>\n",
       "      <td>여행</td>\n",
       "      <td>볼빨간사춘기</td>\n",
       "    </tr>\n",
       "    <tr>\n",
       "      <th>31</th>\n",
       "      <td>32</td>\n",
       "      <td>지금 우리 (City 127)</td>\n",
       "      <td>NCT 127</td>\n",
       "    </tr>\n",
       "    <tr>\n",
       "      <th>32</th>\n",
       "      <td>33</td>\n",
       "      <td>사랑을 했다 (LOVE SCENARIO)</td>\n",
       "      <td>iKON</td>\n",
       "    </tr>\n",
       "    <tr>\n",
       "      <th>33</th>\n",
       "      <td>34</td>\n",
       "      <td>Replay (PM 01:27)</td>\n",
       "      <td>NCT 127</td>\n",
       "    </tr>\n",
       "    <tr>\n",
       "      <th>34</th>\n",
       "      <td>35</td>\n",
       "      <td>어찌 잊으오</td>\n",
       "      <td>황치열</td>\n",
       "    </tr>\n",
       "    <tr>\n",
       "      <th>35</th>\n",
       "      <td>36</td>\n",
       "      <td>잘 지내줘</td>\n",
       "      <td>하이라이트(Highlight)</td>\n",
       "    </tr>\n",
       "    <tr>\n",
       "      <th>36</th>\n",
       "      <td>37</td>\n",
       "      <td>악몽 (Come Back)</td>\n",
       "      <td>NCT 127</td>\n",
       "    </tr>\n",
       "    <tr>\n",
       "      <th>37</th>\n",
       "      <td>38</td>\n",
       "      <td>Change (Feat. GRAY) (Prod. 코드 쿤스트)</td>\n",
       "      <td>Kid Milli</td>\n",
       "    </tr>\n",
       "    <tr>\n",
       "      <th>38</th>\n",
       "      <td>39</td>\n",
       "      <td>이별길 (GOODBYE ROAD)</td>\n",
       "      <td>iKON</td>\n",
       "    </tr>\n",
       "    <tr>\n",
       "      <th>39</th>\n",
       "      <td>40</td>\n",
       "      <td>내 Van (My Van)</td>\n",
       "      <td>NCT 127</td>\n",
       "    </tr>\n",
       "    <tr>\n",
       "      <th>40</th>\n",
       "      <td>41</td>\n",
       "      <td>별, 그대 (The Only Star)</td>\n",
       "      <td>황치열</td>\n",
       "    </tr>\n",
       "    <tr>\n",
       "      <th>41</th>\n",
       "      <td>42</td>\n",
       "      <td>Power Up</td>\n",
       "      <td>Red Velvet (레드벨벳)</td>\n",
       "    </tr>\n",
       "    <tr>\n",
       "      <th>42</th>\n",
       "      <td>43</td>\n",
       "      <td>북극성 (Polaris)</td>\n",
       "      <td>뉴이스트 W</td>\n",
       "    </tr>\n",
       "    <tr>\n",
       "      <th>43</th>\n",
       "      <td>44</td>\n",
       "      <td>(Bonus Track) Run Back 2 U</td>\n",
       "      <td>NCT 127</td>\n",
       "    </tr>\n",
       "    <tr>\n",
       "      <th>44</th>\n",
       "      <td>45</td>\n",
       "      <td>Regular (English Ver.)</td>\n",
       "      <td>NCT 127</td>\n",
       "    </tr>\n",
       "    <tr>\n",
       "      <th>45</th>\n",
       "      <td>46</td>\n",
       "      <td>FAKE LOVE</td>\n",
       "      <td>방탄소년단</td>\n",
       "    </tr>\n",
       "    <tr>\n",
       "      <th>46</th>\n",
       "      <td>47</td>\n",
       "      <td>널하다</td>\n",
       "      <td>몬스타엑스</td>\n",
       "    </tr>\n",
       "    <tr>\n",
       "      <th>47</th>\n",
       "      <td>48</td>\n",
       "      <td>비</td>\n",
       "      <td>폴킴</td>\n",
       "    </tr>\n",
       "    <tr>\n",
       "      <th>48</th>\n",
       "      <td>49</td>\n",
       "      <td>가을 아침</td>\n",
       "      <td>아이유(IU)</td>\n",
       "    </tr>\n",
       "    <tr>\n",
       "      <th>49</th>\n",
       "      <td>50</td>\n",
       "      <td>매일 듣는 노래 (A Daily Song)</td>\n",
       "      <td>황치열</td>\n",
       "    </tr>\n",
       "  </tbody>\n",
       "</table>\n",
       "</div>"
      ],
      "text/plain": [
       "   Rank                                  Title             Artist\n",
       "0     1                                  너를 만나                 폴킴\n",
       "1     2                                     삐삐            아이유(IU)\n",
       "2     3                                가을 타나 봐                바이브\n",
       "3     4                 하루도 그대를 사랑하지 않은 적이 없었다                임창정\n",
       "4     5  모든 날, 모든 순간 (Every day, Every Moment)                 폴킴\n",
       "5     6    멋지게 인사하는 법 (Feat. 슬기 of Red Velvet)             Zion.T\n",
       "6     7   Good Day (Feat. 팔로알토) (Prod. 코드 쿤스트)               pH-1\n",
       "7     8       Save (Feat. 팔로알토) (Prod. 코드 쿤스트)          루피(Loopy)\n",
       "8     9                          Way Back Home           숀(SHAUN)\n",
       "9    10                                    열애중                  벤\n",
       "10   11                 라비앙로즈 (La Vie en Rose)       IZ*ONE(아이즈원)\n",
       "11   12                                우리 그만하자                로이킴\n",
       "12   13                                     고백                양다일\n",
       "13   14                  Regular (Korean Ver.)            NCT 127\n",
       "14   15                                    밤편지            아이유(IU)\n",
       "15   16                  시간이 들겠지 (Feat. Colde)                 로꼬\n",
       "16   17                                   IDOL              방탄소년단\n",
       "17   18                            사이렌 (Siren)                 선미\n",
       "18   19                              내 생에 아름다운                케이윌\n",
       "19   20                   나의 모든 순간 (No Longer)            NCT 127\n",
       "20   21                              Shoot Out              몬스타엑스\n",
       "21   22                                  Tempo                EXO\n",
       "22   23                   Dance The Night Away        TWICE(트와이스)\n",
       "23   24                   뚜두뚜두 (DDU-DU DDU-DU)          BLACKPINK\n",
       "24   25                              그때 헤어지면 돼                로이킴\n",
       "25   26                                 Dejavu             뉴이스트 W\n",
       "26   27                               Knock On            NCT 127\n",
       "27   28                                   지나오다           닐로(Nilo)\n",
       "28   29                 신기루 (Fly Away With Me)            NCT 127\n",
       "29   30                                  AND I             뉴이스트 W\n",
       "30   31                                     여행             볼빨간사춘기\n",
       "31   32                       지금 우리 (City 127)            NCT 127\n",
       "32   33                 사랑을 했다 (LOVE SCENARIO)               iKON\n",
       "33   34                      Replay (PM 01:27)            NCT 127\n",
       "34   35                                 어찌 잊으오                황치열\n",
       "35   36                                  잘 지내줘   하이라이트(Highlight)\n",
       "36   37                         악몽 (Come Back)            NCT 127\n",
       "37   38     Change (Feat. GRAY) (Prod. 코드 쿤스트)          Kid Milli\n",
       "38   39                     이별길 (GOODBYE ROAD)               iKON\n",
       "39   40                         내 Van (My Van)            NCT 127\n",
       "40   41                  별, 그대 (The Only Star)                황치열\n",
       "41   42                               Power Up  Red Velvet (레드벨벳)\n",
       "42   43                          북극성 (Polaris)             뉴이스트 W\n",
       "43   44             (Bonus Track) Run Back 2 U            NCT 127\n",
       "44   45                 Regular (English Ver.)            NCT 127\n",
       "45   46                              FAKE LOVE              방탄소년단\n",
       "46   47                                    널하다              몬스타엑스\n",
       "47   48                                      비                 폴킴\n",
       "48   49                                  가을 아침            아이유(IU)\n",
       "49   50                매일 듣는 노래 (A Daily Song)                황치열"
      ]
     },
     "execution_count": 28,
     "metadata": {},
     "output_type": "execute_result"
    }
   ],
   "source": [
    "df"
   ]
  },
  {
   "cell_type": "markdown",
   "metadata": {},
   "source": [
    "### 저장하기"
   ]
  },
  {
   "cell_type": "code",
   "execution_count": 29,
   "metadata": {},
   "outputs": [],
   "source": [
    "df.to_csv('data/musicrank_top100.csv', sep=',', encoding='UTF-8')"
   ]
  },
  {
   "cell_type": "code",
   "execution_count": 30,
   "metadata": {},
   "outputs": [],
   "source": [
    "# % ls data       # 저장 내역 확인하기"
   ]
  },
  {
   "cell_type": "code",
   "execution_count": null,
   "metadata": {},
   "outputs": [],
   "source": []
  },
  {
   "cell_type": "code",
   "execution_count": null,
   "metadata": {},
   "outputs": [],
   "source": []
  },
  {
   "cell_type": "markdown",
   "metadata": {},
   "source": [
    "# 2. 영화 랭킹\n",
    "> URL :: https://movie.naver.com/movie/sdb/rank/rmovie.nhn\n",
    "\n",
    "> - 영화랭킹 TOP 10 :\n",
    "- 데이터수집 : 순위, 영화명, 변동폭, 평점(관람객/평론가/네티즌), 장르, 감독, 출연, 등급"
   ]
  },
  {
   "cell_type": "code",
   "execution_count": 31,
   "metadata": {},
   "outputs": [],
   "source": [
    "from bs4 import BeautifulSoup \n",
    "from urllib.request import urlopen\n",
    "import re"
   ]
  },
  {
   "cell_type": "code",
   "execution_count": 32,
   "metadata": {},
   "outputs": [],
   "source": [
    "url = 'https://movie.naver.com/movie/sdb/rank/rmovie.nhn'\n",
    "    \n",
    "html = urlopen(url)\n",
    "soup = BeautifulSoup(html, 'lxml')"
   ]
  },
  {
   "cell_type": "markdown",
   "metadata": {},
   "source": [
    "### 영화 순위 구하기"
   ]
  },
  {
   "cell_type": "code",
   "execution_count": 33,
   "metadata": {},
   "outputs": [
    {
     "data": {
      "text/plain": [
       "[<td class=\"ac\"><img alt=\"01\" height=\"13\" src=\"https://ssl.pstatic.net/imgmovie/2007/img/common/bullet_r_r01.gif\" width=\"14\"/></td>,\n",
       " <td class=\"ac\"><img alt=\"na\" class=\"arrow\" height=\"10\" src=\"https://ssl.pstatic.net/imgmovie/2007/img/common/icon_na_1.gif\" width=\"7\"/></td>,\n",
       " <td class=\"range ac\">0</td>,\n",
       " <td class=\"ac\"><img alt=\"02\" height=\"13\" src=\"https://ssl.pstatic.net/imgmovie/2007/img/common/bullet_r_r02.gif\" width=\"14\"/></td>,\n",
       " <td class=\"ac\"><img alt=\"na\" class=\"arrow\" height=\"10\" src=\"https://ssl.pstatic.net/imgmovie/2007/img/common/icon_na_1.gif\" width=\"7\"/></td>,\n",
       " <td class=\"range ac\">0</td>,\n",
       " <td class=\"ac\"><img alt=\"03\" height=\"13\" src=\"https://ssl.pstatic.net/imgmovie/2007/img/common/bullet_r_r03.gif\" width=\"14\"/></td>,\n",
       " <td class=\"ac\"><img alt=\"na\" class=\"arrow\" height=\"10\" src=\"https://ssl.pstatic.net/imgmovie/2007/img/common/icon_na_1.gif\" width=\"7\"/></td>,\n",
       " <td class=\"range ac\">0</td>,\n",
       " <td class=\"ac\"><img alt=\"04\" height=\"13\" src=\"https://ssl.pstatic.net/imgmovie/2007/img/common/bullet_r_r04.gif\" width=\"14\"/></td>,\n",
       " <td class=\"ac\"><img alt=\"up\" class=\"arrow\" height=\"10\" src=\"https://ssl.pstatic.net/imgmovie/2007/img/common/icon_up_1.gif\" width=\"7\"/></td>,\n",
       " <td class=\"range ac\">2</td>,\n",
       " <td class=\"ac\"><img alt=\"05\" height=\"13\" src=\"https://ssl.pstatic.net/imgmovie/2007/img/common/bullet_r_r05.gif\" width=\"14\"/></td>,\n",
       " <td class=\"ac\"><img alt=\"down\" class=\"arrow\" height=\"10\" src=\"https://ssl.pstatic.net/imgmovie/2007/img/common/icon_down_1.gif\" width=\"7\"/></td>,\n",
       " <td class=\"range ac\">1</td>,\n",
       " <td class=\"ac\"><img alt=\"06\" height=\"13\" src=\"https://ssl.pstatic.net/imgmovie/2007/img/common/bullet_r_r06.gif\" width=\"14\"/></td>,\n",
       " <td class=\"ac\"><img alt=\"down\" class=\"arrow\" height=\"10\" src=\"https://ssl.pstatic.net/imgmovie/2007/img/common/icon_down_1.gif\" width=\"7\"/></td>,\n",
       " <td class=\"range ac\">1</td>,\n",
       " <td class=\"ac\"><img alt=\"07\" height=\"13\" src=\"https://ssl.pstatic.net/imgmovie/2007/img/common/bullet_r_r07.gif\" width=\"14\"/></td>,\n",
       " <td class=\"ac\"><img alt=\"na\" class=\"arrow\" height=\"10\" src=\"https://ssl.pstatic.net/imgmovie/2007/img/common/icon_na_1.gif\" width=\"7\"/></td>,\n",
       " <td class=\"range ac\">0</td>,\n",
       " <td class=\"ac\"><img alt=\"08\" height=\"13\" src=\"https://ssl.pstatic.net/imgmovie/2007/img/common/bullet_r_r08.gif\" width=\"14\"/></td>,\n",
       " <td class=\"ac\"><img alt=\"up\" class=\"arrow\" height=\"10\" src=\"https://ssl.pstatic.net/imgmovie/2007/img/common/icon_up_1.gif\" width=\"7\"/></td>,\n",
       " <td class=\"range ac\">3</td>,\n",
       " <td class=\"ac\"><img alt=\"09\" height=\"13\" src=\"https://ssl.pstatic.net/imgmovie/2007/img/common/bullet_r_r09.gif\" width=\"14\"/></td>,\n",
       " <td class=\"ac\"><img alt=\"down\" class=\"arrow\" height=\"10\" src=\"https://ssl.pstatic.net/imgmovie/2007/img/common/icon_down_1.gif\" width=\"7\"/></td>,\n",
       " <td class=\"range ac\">1</td>,\n",
       " <td class=\"ac\"><img alt=\"010\" height=\"13\" src=\"https://ssl.pstatic.net/imgmovie/2007/img/common/bullet_r_r10.gif\" width=\"14\"/></td>,\n",
       " <td class=\"ac\"><img alt=\"up\" class=\"arrow\" height=\"10\" src=\"https://ssl.pstatic.net/imgmovie/2007/img/common/icon_up_1.gif\" width=\"7\"/></td>,\n",
       " <td class=\"range ac\">2</td>,\n",
       " <td class=\"ac\"><img alt=\"11\" height=\"13\" src=\"https://ssl.pstatic.net/imgmovie/2007/img/common/bullet_r_g11.gif\" width=\"14\"/></td>,\n",
       " <td class=\"ac\"><img alt=\"down\" class=\"arrow\" height=\"10\" src=\"https://ssl.pstatic.net/imgmovie/2007/img/common/icon_down_1.gif\" width=\"7\"/></td>,\n",
       " <td class=\"range ac\">1</td>,\n",
       " <td class=\"ac\"><img alt=\"12\" height=\"13\" src=\"https://ssl.pstatic.net/imgmovie/2007/img/common/bullet_r_g12.gif\" width=\"14\"/></td>,\n",
       " <td class=\"ac\"><img alt=\"down\" class=\"arrow\" height=\"10\" src=\"https://ssl.pstatic.net/imgmovie/2007/img/common/icon_down_1.gif\" width=\"7\"/></td>,\n",
       " <td class=\"range ac\">3</td>,\n",
       " <td class=\"ac\"><img alt=\"13\" height=\"13\" src=\"https://ssl.pstatic.net/imgmovie/2007/img/common/bullet_r_g13.gif\" width=\"14\"/></td>,\n",
       " <td class=\"ac\"><img alt=\"na\" class=\"arrow\" height=\"10\" src=\"https://ssl.pstatic.net/imgmovie/2007/img/common/icon_na_1.gif\" width=\"7\"/></td>,\n",
       " <td class=\"range ac\">0</td>,\n",
       " <td class=\"ac\"><img alt=\"14\" height=\"13\" src=\"https://ssl.pstatic.net/imgmovie/2007/img/common/bullet_r_g14.gif\" width=\"14\"/></td>,\n",
       " <td class=\"ac\"><img alt=\"up\" class=\"arrow\" height=\"10\" src=\"https://ssl.pstatic.net/imgmovie/2007/img/common/icon_up_1.gif\" width=\"7\"/></td>,\n",
       " <td class=\"range ac\">4</td>,\n",
       " <td class=\"ac\"><img alt=\"15\" height=\"13\" src=\"https://ssl.pstatic.net/imgmovie/2007/img/common/bullet_r_g15.gif\" width=\"14\"/></td>,\n",
       " <td class=\"ac\"><img alt=\"down\" class=\"arrow\" height=\"10\" src=\"https://ssl.pstatic.net/imgmovie/2007/img/common/icon_down_1.gif\" width=\"7\"/></td>,\n",
       " <td class=\"range ac\">1</td>,\n",
       " <td class=\"ac\"><img alt=\"16\" height=\"13\" src=\"https://ssl.pstatic.net/imgmovie/2007/img/common/bullet_r_g16.gif\" width=\"14\"/></td>,\n",
       " <td class=\"ac\"><img alt=\"up\" class=\"arrow\" height=\"10\" src=\"https://ssl.pstatic.net/imgmovie/2007/img/common/icon_up_1.gif\" width=\"7\"/></td>,\n",
       " <td class=\"range ac\">4</td>,\n",
       " <td class=\"ac\"><img alt=\"17\" height=\"13\" src=\"https://ssl.pstatic.net/imgmovie/2007/img/common/bullet_r_g17.gif\" width=\"14\"/></td>,\n",
       " <td class=\"ac\"><img alt=\"down\" class=\"arrow\" height=\"10\" src=\"https://ssl.pstatic.net/imgmovie/2007/img/common/icon_down_1.gif\" width=\"7\"/></td>,\n",
       " <td class=\"range ac\">2</td>,\n",
       " <td class=\"ac\"><img alt=\"18\" height=\"13\" src=\"https://ssl.pstatic.net/imgmovie/2007/img/common/bullet_r_g18.gif\" width=\"14\"/></td>,\n",
       " <td class=\"ac\"><img alt=\"down\" class=\"arrow\" height=\"10\" src=\"https://ssl.pstatic.net/imgmovie/2007/img/common/icon_down_1.gif\" width=\"7\"/></td>,\n",
       " <td class=\"range ac\">2</td>,\n",
       " <td class=\"ac\"><img alt=\"19\" height=\"13\" src=\"https://ssl.pstatic.net/imgmovie/2007/img/common/bullet_r_g19.gif\" width=\"14\"/></td>,\n",
       " <td class=\"ac\"><img alt=\"down\" class=\"arrow\" height=\"10\" src=\"https://ssl.pstatic.net/imgmovie/2007/img/common/icon_down_1.gif\" width=\"7\"/></td>,\n",
       " <td class=\"range ac\">2</td>,\n",
       " <td class=\"ac\"><img alt=\"20\" height=\"13\" src=\"https://ssl.pstatic.net/imgmovie/2007/img/common/bullet_r_g20.gif\" width=\"14\"/></td>,\n",
       " <td class=\"ac\"><img alt=\"up\" class=\"arrow\" height=\"10\" src=\"https://ssl.pstatic.net/imgmovie/2007/img/common/icon_up_1.gif\" width=\"7\"/></td>,\n",
       " <td class=\"range ac\">1</td>,\n",
       " <td class=\"ac\"><img alt=\"21\" height=\"13\" src=\"https://ssl.pstatic.net/imgmovie/2007/img/common/bullet_r_g21.gif\" width=\"14\"/></td>,\n",
       " <td class=\"ac\"><img alt=\"up\" class=\"arrow\" height=\"10\" src=\"https://ssl.pstatic.net/imgmovie/2007/img/common/icon_up_1.gif\" width=\"7\"/></td>,\n",
       " <td class=\"range ac\">1</td>,\n",
       " <td class=\"ac\"><img alt=\"22\" height=\"13\" src=\"https://ssl.pstatic.net/imgmovie/2007/img/common/bullet_r_g22.gif\" width=\"14\"/></td>,\n",
       " <td class=\"ac\"><img alt=\"up\" class=\"arrow\" height=\"10\" src=\"https://ssl.pstatic.net/imgmovie/2007/img/common/icon_up_1.gif\" width=\"7\"/></td>,\n",
       " <td class=\"range ac\">1</td>,\n",
       " <td class=\"ac\"><img alt=\"23\" height=\"13\" src=\"https://ssl.pstatic.net/imgmovie/2007/img/common/bullet_r_g23.gif\" width=\"14\"/></td>,\n",
       " <td class=\"ac\"><img alt=\"down\" class=\"arrow\" height=\"10\" src=\"https://ssl.pstatic.net/imgmovie/2007/img/common/icon_down_1.gif\" width=\"7\"/></td>,\n",
       " <td class=\"range ac\">4</td>,\n",
       " <td class=\"ac\"><img alt=\"24\" height=\"13\" src=\"https://ssl.pstatic.net/imgmovie/2007/img/common/bullet_r_g24.gif\" width=\"14\"/></td>,\n",
       " <td class=\"ac\"><img alt=\"25\" height=\"13\" src=\"https://ssl.pstatic.net/imgmovie/2007/img/common/bullet_r_g25.gif\" width=\"14\"/></td>,\n",
       " <td class=\"ac\"><img alt=\"down\" class=\"arrow\" height=\"10\" src=\"https://ssl.pstatic.net/imgmovie/2007/img/common/icon_down_1.gif\" width=\"7\"/></td>,\n",
       " <td class=\"range ac\">1</td>,\n",
       " <td class=\"ac\"><img alt=\"26\" height=\"13\" src=\"https://ssl.pstatic.net/imgmovie/2007/img/common/bullet_r_g26.gif\" width=\"14\"/></td>,\n",
       " <td class=\"ac\"><img alt=\"na\" class=\"arrow\" height=\"10\" src=\"https://ssl.pstatic.net/imgmovie/2007/img/common/icon_na_1.gif\" width=\"7\"/></td>,\n",
       " <td class=\"range ac\">0</td>,\n",
       " <td class=\"ac\"><img alt=\"27\" height=\"13\" src=\"https://ssl.pstatic.net/imgmovie/2007/img/common/bullet_r_g27.gif\" width=\"14\"/></td>,\n",
       " <td class=\"ac\"><img alt=\"up\" class=\"arrow\" height=\"10\" src=\"https://ssl.pstatic.net/imgmovie/2007/img/common/icon_up_1.gif\" width=\"7\"/></td>,\n",
       " <td class=\"range ac\">7</td>,\n",
       " <td class=\"ac\"><img alt=\"28\" height=\"13\" src=\"https://ssl.pstatic.net/imgmovie/2007/img/common/bullet_r_g28.gif\" width=\"14\"/></td>,\n",
       " <td class=\"ac\"><img alt=\"down\" class=\"arrow\" height=\"10\" src=\"https://ssl.pstatic.net/imgmovie/2007/img/common/icon_down_1.gif\" width=\"7\"/></td>,\n",
       " <td class=\"range ac\">3</td>,\n",
       " <td class=\"ac\"><img alt=\"29\" height=\"13\" src=\"https://ssl.pstatic.net/imgmovie/2007/img/common/bullet_r_g29.gif\" width=\"14\"/></td>,\n",
       " <td class=\"ac\"><img alt=\"up\" class=\"arrow\" height=\"10\" src=\"https://ssl.pstatic.net/imgmovie/2007/img/common/icon_up_1.gif\" width=\"7\"/></td>,\n",
       " <td class=\"range ac\">2</td>,\n",
       " <td class=\"ac\"><img alt=\"30\" height=\"13\" src=\"https://ssl.pstatic.net/imgmovie/2007/img/common/bullet_r_g30.gif\" width=\"14\"/></td>,\n",
       " <td class=\"ac\"><img alt=\"up\" class=\"arrow\" height=\"10\" src=\"https://ssl.pstatic.net/imgmovie/2007/img/common/icon_up_1.gif\" width=\"7\"/></td>,\n",
       " <td class=\"range ac\">7</td>,\n",
       " <td class=\"ac\"><img alt=\"31\" height=\"13\" src=\"https://ssl.pstatic.net/imgmovie/2007/img/common/bullet_r_g31.gif\" width=\"14\"/></td>,\n",
       " <td class=\"ac\"><img alt=\"down\" class=\"arrow\" height=\"10\" src=\"https://ssl.pstatic.net/imgmovie/2007/img/common/icon_down_1.gif\" width=\"7\"/></td>,\n",
       " <td class=\"range ac\">3</td>,\n",
       " <td class=\"ac\"><img alt=\"32\" height=\"13\" src=\"https://ssl.pstatic.net/imgmovie/2007/img/common/bullet_r_g32.gif\" width=\"14\"/></td>,\n",
       " <td class=\"ac\"><img alt=\"down\" class=\"arrow\" height=\"10\" src=\"https://ssl.pstatic.net/imgmovie/2007/img/common/icon_down_1.gif\" width=\"7\"/></td>,\n",
       " <td class=\"range ac\">5</td>,\n",
       " <td class=\"ac\"><img alt=\"33\" height=\"13\" src=\"https://ssl.pstatic.net/imgmovie/2007/img/common/bullet_r_g33.gif\" width=\"14\"/></td>,\n",
       " <td class=\"ac\"><img alt=\"down\" class=\"arrow\" height=\"10\" src=\"https://ssl.pstatic.net/imgmovie/2007/img/common/icon_down_1.gif\" width=\"7\"/></td>,\n",
       " <td class=\"range ac\">4</td>,\n",
       " <td class=\"ac\"><img alt=\"34\" height=\"13\" src=\"https://ssl.pstatic.net/imgmovie/2007/img/common/bullet_r_g34.gif\" width=\"14\"/></td>,\n",
       " <td class=\"ac\"><img alt=\"down\" class=\"arrow\" height=\"10\" src=\"https://ssl.pstatic.net/imgmovie/2007/img/common/icon_down_1.gif\" width=\"7\"/></td>,\n",
       " <td class=\"range ac\">2</td>,\n",
       " <td class=\"ac\"><img alt=\"35\" height=\"13\" src=\"https://ssl.pstatic.net/imgmovie/2007/img/common/bullet_r_g35.gif\" width=\"14\"/></td>,\n",
       " <td class=\"ac\"><img alt=\"na\" class=\"arrow\" height=\"10\" src=\"https://ssl.pstatic.net/imgmovie/2007/img/common/icon_na_1.gif\" width=\"7\"/></td>,\n",
       " <td class=\"range ac\">0</td>,\n",
       " <td class=\"ac\"><img alt=\"36\" height=\"13\" src=\"https://ssl.pstatic.net/imgmovie/2007/img/common/bullet_r_g36.gif\" width=\"14\"/></td>,\n",
       " <td class=\"ac\"><img alt=\"na\" class=\"arrow\" height=\"10\" src=\"https://ssl.pstatic.net/imgmovie/2007/img/common/icon_na_1.gif\" width=\"7\"/></td>,\n",
       " <td class=\"range ac\">0</td>,\n",
       " <td class=\"ac\"><img alt=\"37\" height=\"13\" src=\"https://ssl.pstatic.net/imgmovie/2007/img/common/bullet_r_g37.gif\" width=\"14\"/></td>,\n",
       " <td class=\"ac\"><img alt=\"down\" class=\"arrow\" height=\"10\" src=\"https://ssl.pstatic.net/imgmovie/2007/img/common/icon_down_1.gif\" width=\"7\"/></td>,\n",
       " <td class=\"range ac\">7</td>,\n",
       " <td class=\"ac\"><img alt=\"38\" height=\"13\" src=\"https://ssl.pstatic.net/imgmovie/2007/img/common/bullet_r_g38.gif\" width=\"14\"/></td>,\n",
       " <td class=\"ac\"><img alt=\"down\" class=\"arrow\" height=\"10\" src=\"https://ssl.pstatic.net/imgmovie/2007/img/common/icon_down_1.gif\" width=\"7\"/></td>,\n",
       " <td class=\"range ac\">5</td>,\n",
       " <td class=\"ac\"><img alt=\"39\" height=\"13\" src=\"https://ssl.pstatic.net/imgmovie/2007/img/common/bullet_r_g39.gif\" width=\"14\"/></td>,\n",
       " <td class=\"ac\"><img alt=\"up\" class=\"arrow\" height=\"10\" src=\"https://ssl.pstatic.net/imgmovie/2007/img/common/icon_up_1.gif\" width=\"7\"/></td>,\n",
       " <td class=\"range ac\">9</td>,\n",
       " <td class=\"ac\"><img alt=\"40\" height=\"13\" src=\"https://ssl.pstatic.net/imgmovie/2007/img/common/bullet_r_g40.gif\" width=\"14\"/></td>,\n",
       " <td class=\"ac\"><img alt=\"down\" class=\"arrow\" height=\"10\" src=\"https://ssl.pstatic.net/imgmovie/2007/img/common/icon_down_1.gif\" width=\"7\"/></td>,\n",
       " <td class=\"range ac\">3</td>,\n",
       " <td class=\"ac\"><img alt=\"41\" height=\"13\" src=\"https://ssl.pstatic.net/imgmovie/2007/img/common/bullet_r_g41.gif\" width=\"14\"/></td>,\n",
       " <td class=\"ac\"><img alt=\"up\" class=\"arrow\" height=\"10\" src=\"https://ssl.pstatic.net/imgmovie/2007/img/common/icon_up_1.gif\" width=\"7\"/></td>,\n",
       " <td class=\"range ac\">10</td>,\n",
       " <td class=\"ac\"><img alt=\"42\" height=\"13\" src=\"https://ssl.pstatic.net/imgmovie/2007/img/common/bullet_r_g42.gif\" width=\"14\"/></td>,\n",
       " <td class=\"ac\"><img alt=\"down\" class=\"arrow\" height=\"10\" src=\"https://ssl.pstatic.net/imgmovie/2007/img/common/icon_down_1.gif\" width=\"7\"/></td>,\n",
       " <td class=\"range ac\">2</td>,\n",
       " <td class=\"ac\"><img alt=\"43\" height=\"13\" src=\"https://ssl.pstatic.net/imgmovie/2007/img/common/bullet_r_g43.gif\" width=\"14\"/></td>,\n",
       " <td class=\"ac\"><img alt=\"down\" class=\"arrow\" height=\"10\" src=\"https://ssl.pstatic.net/imgmovie/2007/img/common/icon_down_1.gif\" width=\"7\"/></td>,\n",
       " <td class=\"range ac\">4</td>,\n",
       " <td class=\"ac\"><img alt=\"44\" height=\"13\" src=\"https://ssl.pstatic.net/imgmovie/2007/img/common/bullet_r_g44.gif\" width=\"14\"/></td>,\n",
       " <td class=\"ac\"><img alt=\"na\" class=\"arrow\" height=\"10\" src=\"https://ssl.pstatic.net/imgmovie/2007/img/common/icon_na_1.gif\" width=\"7\"/></td>,\n",
       " <td class=\"range ac\">0</td>,\n",
       " <td class=\"ac\"><img alt=\"45\" height=\"13\" src=\"https://ssl.pstatic.net/imgmovie/2007/img/common/bullet_r_g45.gif\" width=\"14\"/></td>,\n",
       " <td class=\"ac\"><img alt=\"down\" class=\"arrow\" height=\"10\" src=\"https://ssl.pstatic.net/imgmovie/2007/img/common/icon_down_1.gif\" width=\"7\"/></td>,\n",
       " <td class=\"range ac\">4</td>,\n",
       " <td class=\"ac\"><img alt=\"46\" height=\"13\" src=\"https://ssl.pstatic.net/imgmovie/2007/img/common/bullet_r_g46.gif\" width=\"14\"/></td>,\n",
       " <td class=\"ac\"><img alt=\"down\" class=\"arrow\" height=\"10\" src=\"https://ssl.pstatic.net/imgmovie/2007/img/common/icon_down_1.gif\" width=\"7\"/></td>,\n",
       " <td class=\"range ac\">4</td>,\n",
       " <td class=\"ac\"><img alt=\"47\" height=\"13\" src=\"https://ssl.pstatic.net/imgmovie/2007/img/common/bullet_r_g47.gif\" width=\"14\"/></td>,\n",
       " <td class=\"ac\"><img alt=\"up\" class=\"arrow\" height=\"10\" src=\"https://ssl.pstatic.net/imgmovie/2007/img/common/icon_up_1.gif\" width=\"7\"/></td>,\n",
       " <td class=\"range ac\">16</td>,\n",
       " <td class=\"ac\"><img alt=\"48\" height=\"13\" src=\"https://ssl.pstatic.net/imgmovie/2007/img/common/bullet_r_g48.gif\" width=\"14\"/></td>,\n",
       " <td class=\"ac\"><img alt=\"down\" class=\"arrow\" height=\"10\" src=\"https://ssl.pstatic.net/imgmovie/2007/img/common/icon_down_1.gif\" width=\"7\"/></td>,\n",
       " <td class=\"range ac\">3</td>,\n",
       " <td class=\"ac\"><img alt=\"49\" height=\"13\" src=\"https://ssl.pstatic.net/imgmovie/2007/img/common/bullet_r_g49.gif\" width=\"14\"/></td>,\n",
       " <td class=\"ac\"><img alt=\"up\" class=\"arrow\" height=\"10\" src=\"https://ssl.pstatic.net/imgmovie/2007/img/common/icon_up_1.gif\" width=\"7\"/></td>,\n",
       " <td class=\"range ac\">5</td>,\n",
       " <td class=\"ac\"><img alt=\"50\" height=\"13\" src=\"https://ssl.pstatic.net/imgmovie/2007/img/common/bullet_r_g50.gif\" width=\"14\"/></td>,\n",
       " <td class=\"ac\"><img alt=\"up\" class=\"arrow\" height=\"10\" src=\"https://ssl.pstatic.net/imgmovie/2007/img/common/icon_up_1.gif\" width=\"7\"/></td>,\n",
       " <td class=\"range ac\">20</td>]"
      ]
     },
     "execution_count": 33,
     "metadata": {},
     "output_type": "execute_result"
    }
   ],
   "source": [
    "movie_ranking = soup.find_all('td', 'ac')\n",
    "movie_ranking\n",
    "# movie_ranking[0].find('img alt')\n",
    "# movie_ranking[0]\n",
    "# len(movie_ranking)"
   ]
  },
  {
   "cell_type": "code",
   "execution_count": 34,
   "metadata": {},
   "outputs": [],
   "source": [
    "# m_rank = []\n",
    "# for item in range(len(movie_ranking)):\n",
    "#     if movie_ranking[item] == [\\d]:\n",
    "#         .append()"
   ]
  },
  {
   "cell_type": "markdown",
   "metadata": {},
   "source": [
    "### 영화 제목 구하기"
   ]
  },
  {
   "cell_type": "code",
   "execution_count": 35,
   "metadata": {},
   "outputs": [
    {
     "data": {
      "text/plain": [
       "[<div class=\"tit3\">\n",
       " <a href=\"/movie/bi/mi/basic.nhn?code=167638\" title=\"완벽한 타인\">완벽한 타인</a>\n",
       " </div>, <div class=\"tit3\">\n",
       " <a href=\"/movie/bi/mi/basic.nhn?code=156464\" title=\"보헤미안 랩소디\">보헤미안 랩소디</a>\n",
       " </div>, <div class=\"tit3\">\n",
       " <a href=\"/movie/bi/mi/basic.nhn?code=160487\" title=\"창궐\">창궐</a>\n",
       " </div>, <div class=\"tit3\">\n",
       " <a href=\"/movie/bi/mi/basic.nhn?code=166610\" title=\"동네사람들\">동네사람들</a>\n",
       " </div>, <div class=\"tit3\">\n",
       " <a href=\"/movie/bi/mi/basic.nhn?code=170879\" title=\"할로윈\">할로윈</a>\n",
       " </div>, <div class=\"tit3\">\n",
       " <a href=\"/movie/bi/mi/basic.nhn?code=164155\" title=\"벽 속에 숨은 마법시계\">벽 속에 숨은 마법시계</a>\n",
       " </div>, <div class=\"tit3\">\n",
       " <a href=\"/movie/bi/mi/basic.nhn?code=167105\" title=\"암수살인\">암수살인</a>\n",
       " </div>, <div class=\"tit3\">\n",
       " <a href=\"/movie/bi/mi/basic.nhn?code=171750\" title=\"여곡성\">여곡성</a>\n",
       " </div>, <div class=\"tit3\">\n",
       " <a href=\"/movie/bi/mi/basic.nhn?code=173692\" title=\"바울\">바울</a>\n",
       " </div>, <div class=\"tit3\">\n",
       " <a href=\"/movie/bi/mi/basic.nhn?code=154255\" title=\"신비한 동물들과 그린델왈드의 범죄\">신비한 동물들과 그린델왈드의 범죄</a>\n",
       " </div>, <div class=\"tit3\">\n",
       " <a href=\"/movie/bi/mi/basic.nhn?code=168050\" title=\"스타 이즈 본\">스타 이즈 본</a>\n",
       " </div>, <div class=\"tit3\">\n",
       " <a href=\"/movie/bi/mi/basic.nhn?code=155356\" title=\"미쓰백\">미쓰백</a>\n",
       " </div>, <div class=\"tit3\">\n",
       " <a href=\"/movie/bi/mi/basic.nhn?code=156495\" title=\"더 이퀄라이저 2\">더 이퀄라이저 2</a>\n",
       " </div>, <div class=\"tit3\">\n",
       " <a href=\"/movie/bi/mi/basic.nhn?code=174835\" title=\"성난황소\">성난황소</a>\n",
       " </div>, <div class=\"tit3\">\n",
       " <a href=\"/movie/bi/mi/basic.nhn?code=164150\" title=\"12피트\">12피트</a>\n",
       " </div>, <div class=\"tit3\">\n",
       " <a href=\"/movie/bi/mi/basic.nhn?code=164153\" title=\"군산: 거위를 노래하다\">군산: 거위를 노래하다</a>\n",
       " </div>, <div class=\"tit3\">\n",
       " <a href=\"/movie/bi/mi/basic.nhn?code=178434\" title=\"폴란드로 간 아이들\">폴란드로 간 아이들</a>\n",
       " </div>, <div class=\"tit3\">\n",
       " <a href=\"/movie/bi/mi/basic.nhn?code=168058\" title=\"퍼스트맨\">퍼스트맨</a>\n",
       " </div>, <div class=\"tit3\">\n",
       " <a href=\"/movie/bi/mi/basic.nhn?code=119428\" title=\"베놈\">베놈</a>\n",
       " </div>, <div class=\"tit3\">\n",
       " <a href=\"/movie/bi/mi/basic.nhn?code=172819\" title=\"구스범스: 몬스터의 역습\">구스범스: 몬스터의 역습</a>\n",
       " </div>, <div class=\"tit3\">\n",
       " <a href=\"/movie/bi/mi/basic.nhn?code=106574\" title=\"야관문: 욕망의 꽃\">야관문: 욕망의 꽃</a>\n",
       " </div>, <div class=\"tit3\">\n",
       " <a href=\"/movie/bi/mi/basic.nhn?code=149283\" title=\"사다코 대 카야코\">사다코 대 카야코</a>\n",
       " </div>, <div class=\"tit3\">\n",
       " <a href=\"/movie/bi/mi/basic.nhn?code=168049\" title=\"더 넌\">더 넌</a>\n",
       " </div>, <div class=\"tit3\">\n",
       " <a href=\"/movie/bi/mi/basic.nhn?code=129093\" title=\"콜로니아\">콜로니아</a>\n",
       " </div>, <div class=\"tit3\">\n",
       " <a href=\"/movie/bi/mi/basic.nhn?code=160721\" title=\"박화영\">박화영</a>\n",
       " </div>, <div class=\"tit3\">\n",
       " <a href=\"/movie/bi/mi/basic.nhn?code=163533\" title=\"안시성\">안시성</a>\n",
       " </div>, <div class=\"tit3\">\n",
       " <a href=\"/movie/bi/mi/basic.nhn?code=164192\" title=\"국가부도의 날\">국가부도의 날</a>\n",
       " </div>, <div class=\"tit3\">\n",
       " <a href=\"/movie/bi/mi/basic.nhn?code=172798\" title=\"캡틴 스터비\">캡틴 스터비</a>\n",
       " </div>, <div class=\"tit3\">\n",
       " <a href=\"/movie/bi/mi/basic.nhn?code=144958\" title=\"철의 심장을 가진 남자\">철의 심장을 가진 남자</a>\n",
       " </div>, <div class=\"tit3\">\n",
       " <a href=\"/movie/bi/mi/basic.nhn?code=159670\" title=\"알리바이 닷 컴\">알리바이 닷 컴</a>\n",
       " </div>, <div class=\"tit3\">\n",
       " <a href=\"/movie/bi/mi/basic.nhn?code=166092\" title=\"PMC: 더 벙커\">PMC: 더 벙커</a>\n",
       " </div>, <div class=\"tit3\">\n",
       " <a href=\"/movie/bi/mi/basic.nhn?code=168047\" title=\"크레이지 리치 아시안\">크레이지 리치 아시안</a>\n",
       " </div>, <div class=\"tit3\">\n",
       " <a href=\"/movie/bi/mi/basic.nhn?code=109642\" title=\"더 이퀄라이저\">더 이퀄라이저</a>\n",
       " </div>, <div class=\"tit3\">\n",
       " <a href=\"/movie/bi/mi/basic.nhn?code=71760\" title=\"청설\">청설</a>\n",
       " </div>, <div class=\"tit3\">\n",
       " <a href=\"/movie/bi/mi/basic.nhn?code=172967\" title=\"나미야 잡화점의 기적: 또 하나의 이야기\">나미야 잡화점의 기적: 또 하나의 이야기</a>\n",
       " </div>, <div class=\"tit3\">\n",
       " <a href=\"/movie/bi/mi/basic.nhn?code=171755\" title=\"도어락\">도어락</a>\n",
       " </div>, <div class=\"tit3\">\n",
       " <a href=\"/movie/bi/mi/basic.nhn?code=174807\" title=\"배반의 장미\">배반의 장미</a>\n",
       " </div>, <div class=\"tit3\">\n",
       " <a href=\"/movie/bi/mi/basic.nhn?code=168023\" title=\"곰돌이 푸 다시 만나 행복해\">곰돌이 푸 다시 만나 행복해</a>\n",
       " </div>, <div class=\"tit3\">\n",
       " <a href=\"/movie/bi/mi/basic.nhn?code=179139\" title=\"출국\">출국</a>\n",
       " </div>, <div class=\"tit3\">\n",
       " <a href=\"/movie/bi/mi/basic.nhn?code=164106\" title=\"협상\">협상</a>\n",
       " </div>, <div class=\"tit3\">\n",
       " <a href=\"/movie/bi/mi/basic.nhn?code=176354\" title=\"번 더 스테이지: 더 무비\">번 더 스테이지: 더 무비</a>\n",
       " </div>, <div class=\"tit3\">\n",
       " <a href=\"/movie/bi/mi/basic.nhn?code=162981\" title=\"명당\">명당</a>\n",
       " </div>, <div class=\"tit3\">\n",
       " <a href=\"/movie/bi/mi/basic.nhn?code=30688\" title=\"해리 포터와 마법사의 돌\">해리 포터와 마법사의 돌</a>\n",
       " </div>, <div class=\"tit3\">\n",
       " <a href=\"/movie/bi/mi/basic.nhn?code=175318\" title=\"너의 췌장을 먹고 싶어\">너의 췌장을 먹고 싶어</a>\n",
       " </div>, <div class=\"tit3\">\n",
       " <a href=\"/movie/bi/mi/basic.nhn?code=142683\" title=\"호밀밭의 반항아\">호밀밭의 반항아</a>\n",
       " </div>, <div class=\"tit3\">\n",
       " <a href=\"/movie/bi/mi/basic.nhn?code=172425\" title=\"서치\">서치</a>\n",
       " </div>, <div class=\"tit3\">\n",
       " <a href=\"/movie/bi/mi/basic.nhn?code=164102\" title=\"영주\">영주</a>\n",
       " </div>, <div class=\"tit3\">\n",
       " <a href=\"/movie/bi/mi/basic.nhn?code=152156\" title=\"원더풀 고스트\">원더풀 고스트</a>\n",
       " </div>, <div class=\"tit3\">\n",
       " <a href=\"/movie/bi/mi/basic.nhn?code=45290\" title=\"인터스텔라\">인터스텔라</a>\n",
       " </div>, <div class=\"tit3\">\n",
       " <a href=\"/movie/bi/mi/basic.nhn?code=153687\" title=\"공작\">공작</a>\n",
       " </div>]"
      ]
     },
     "execution_count": 35,
     "metadata": {},
     "output_type": "execute_result"
    }
   ],
   "source": [
    "movie_title = soup.find_all('div', 'tit3')\n",
    "movie_title"
   ]
  },
  {
   "cell_type": "code",
   "execution_count": 42,
   "metadata": {},
   "outputs": [
    {
     "data": {
      "text/plain": [
       "50"
      ]
     },
     "execution_count": 42,
     "metadata": {},
     "output_type": "execute_result"
    }
   ],
   "source": [
    "m_title = []\n",
    "\n",
    "for i in range(len(movie_title)):\n",
    "    m_title.append(movie_title[i].get_text())\n",
    "    m_title[i] = re.sub('[\\n\\t\\r]','',m_title[i])\n",
    "    \n",
    "len(m_title)"
   ]
  },
  {
   "cell_type": "markdown",
   "metadata": {},
   "source": [
    "### 영화 변동폭 구하기"
   ]
  },
  {
   "cell_type": "code",
   "execution_count": 46,
   "metadata": {},
   "outputs": [
    {
     "data": {
      "text/plain": [
       "[<td class=\"range ac\">0</td>,\n",
       " <td class=\"range ac\">0</td>,\n",
       " <td class=\"range ac\">0</td>,\n",
       " <td class=\"range ac\">2</td>,\n",
       " <td class=\"range ac\">1</td>,\n",
       " <td class=\"range ac\">1</td>,\n",
       " <td class=\"range ac\">0</td>,\n",
       " <td class=\"range ac\">3</td>,\n",
       " <td class=\"range ac\">1</td>,\n",
       " <td class=\"range ac\">2</td>,\n",
       " <td class=\"range ac\">1</td>,\n",
       " <td class=\"range ac\">3</td>,\n",
       " <td class=\"range ac\">0</td>,\n",
       " <td class=\"range ac\">4</td>,\n",
       " <td class=\"range ac\">1</td>,\n",
       " <td class=\"range ac\">4</td>,\n",
       " <td class=\"range ac\">2</td>,\n",
       " <td class=\"range ac\">2</td>,\n",
       " <td class=\"range ac\">2</td>,\n",
       " <td class=\"range ac\">1</td>,\n",
       " <td class=\"range ac\">1</td>,\n",
       " <td class=\"range ac\">1</td>,\n",
       " <td class=\"range ac\">4</td>,\n",
       " <td class=\"range ac\">1</td>,\n",
       " <td class=\"range ac\">0</td>,\n",
       " <td class=\"range ac\">7</td>,\n",
       " <td class=\"range ac\">3</td>,\n",
       " <td class=\"range ac\">2</td>,\n",
       " <td class=\"range ac\">7</td>,\n",
       " <td class=\"range ac\">3</td>,\n",
       " <td class=\"range ac\">5</td>,\n",
       " <td class=\"range ac\">4</td>,\n",
       " <td class=\"range ac\">2</td>,\n",
       " <td class=\"range ac\">0</td>,\n",
       " <td class=\"range ac\">0</td>,\n",
       " <td class=\"range ac\">7</td>,\n",
       " <td class=\"range ac\">5</td>,\n",
       " <td class=\"range ac\">9</td>,\n",
       " <td class=\"range ac\">3</td>,\n",
       " <td class=\"range ac\">10</td>,\n",
       " <td class=\"range ac\">2</td>,\n",
       " <td class=\"range ac\">4</td>,\n",
       " <td class=\"range ac\">0</td>,\n",
       " <td class=\"range ac\">4</td>,\n",
       " <td class=\"range ac\">4</td>,\n",
       " <td class=\"range ac\">16</td>,\n",
       " <td class=\"range ac\">3</td>,\n",
       " <td class=\"range ac\">5</td>,\n",
       " <td class=\"range ac\">20</td>]"
      ]
     },
     "execution_count": 46,
     "metadata": {},
     "output_type": "execute_result"
    }
   ],
   "source": [
    "movie_change = soup.find_all('td', 'range ac')\n",
    "(movie_change)"
   ]
  },
  {
   "cell_type": "code",
   "execution_count": 43,
   "metadata": {},
   "outputs": [
    {
     "data": {
      "text/plain": [
       "49"
      ]
     },
     "execution_count": 43,
     "metadata": {},
     "output_type": "execute_result"
    }
   ],
   "source": [
    "m_change = []\n",
    "\n",
    "for i in range(len(movie_change)):\n",
    "    m_change.append(movie_change[i].get_text())\n",
    "    \n",
    "len(m_change)"
   ]
  },
  {
   "cell_type": "markdown",
   "metadata": {},
   "source": [
    "### 영화 링크 구하기"
   ]
  },
  {
   "cell_type": "code",
   "execution_count": 39,
   "metadata": {},
   "outputs": [
    {
     "data": {
      "text/plain": [
       "'/movie/bi/mi/basic.nhn?code=160487'"
      ]
     },
     "execution_count": 39,
     "metadata": {},
     "output_type": "execute_result"
    }
   ],
   "source": [
    "movie_rink = soup.find_all('div', 'tit3')\n",
    "movie_rink\n",
    "movie_rink[2].find('a')['href']\n",
    "# movie_rink[2][href].get_text()"
   ]
  },
  {
   "cell_type": "code",
   "execution_count": 40,
   "metadata": {},
   "outputs": [
    {
     "data": {
      "text/plain": [
       "['https://movie.naver.com/movie/bi/mi/basic.nhn?code=167638',\n",
       " 'https://movie.naver.com/movie/bi/mi/basic.nhn?code=156464',\n",
       " 'https://movie.naver.com/movie/bi/mi/basic.nhn?code=160487',\n",
       " 'https://movie.naver.com/movie/bi/mi/basic.nhn?code=166610',\n",
       " 'https://movie.naver.com/movie/bi/mi/basic.nhn?code=170879',\n",
       " 'https://movie.naver.com/movie/bi/mi/basic.nhn?code=164155',\n",
       " 'https://movie.naver.com/movie/bi/mi/basic.nhn?code=167105',\n",
       " 'https://movie.naver.com/movie/bi/mi/basic.nhn?code=171750',\n",
       " 'https://movie.naver.com/movie/bi/mi/basic.nhn?code=173692',\n",
       " 'https://movie.naver.com/movie/bi/mi/basic.nhn?code=154255',\n",
       " 'https://movie.naver.com/movie/bi/mi/basic.nhn?code=168050',\n",
       " 'https://movie.naver.com/movie/bi/mi/basic.nhn?code=155356',\n",
       " 'https://movie.naver.com/movie/bi/mi/basic.nhn?code=156495',\n",
       " 'https://movie.naver.com/movie/bi/mi/basic.nhn?code=174835',\n",
       " 'https://movie.naver.com/movie/bi/mi/basic.nhn?code=164150',\n",
       " 'https://movie.naver.com/movie/bi/mi/basic.nhn?code=164153',\n",
       " 'https://movie.naver.com/movie/bi/mi/basic.nhn?code=178434',\n",
       " 'https://movie.naver.com/movie/bi/mi/basic.nhn?code=168058',\n",
       " 'https://movie.naver.com/movie/bi/mi/basic.nhn?code=119428',\n",
       " 'https://movie.naver.com/movie/bi/mi/basic.nhn?code=172819',\n",
       " 'https://movie.naver.com/movie/bi/mi/basic.nhn?code=106574',\n",
       " 'https://movie.naver.com/movie/bi/mi/basic.nhn?code=149283',\n",
       " 'https://movie.naver.com/movie/bi/mi/basic.nhn?code=168049',\n",
       " 'https://movie.naver.com/movie/bi/mi/basic.nhn?code=129093',\n",
       " 'https://movie.naver.com/movie/bi/mi/basic.nhn?code=160721',\n",
       " 'https://movie.naver.com/movie/bi/mi/basic.nhn?code=163533',\n",
       " 'https://movie.naver.com/movie/bi/mi/basic.nhn?code=164192',\n",
       " 'https://movie.naver.com/movie/bi/mi/basic.nhn?code=172798',\n",
       " 'https://movie.naver.com/movie/bi/mi/basic.nhn?code=144958',\n",
       " 'https://movie.naver.com/movie/bi/mi/basic.nhn?code=159670',\n",
       " 'https://movie.naver.com/movie/bi/mi/basic.nhn?code=166092',\n",
       " 'https://movie.naver.com/movie/bi/mi/basic.nhn?code=168047',\n",
       " 'https://movie.naver.com/movie/bi/mi/basic.nhn?code=109642',\n",
       " 'https://movie.naver.com/movie/bi/mi/basic.nhn?code=71760',\n",
       " 'https://movie.naver.com/movie/bi/mi/basic.nhn?code=172967',\n",
       " 'https://movie.naver.com/movie/bi/mi/basic.nhn?code=171755',\n",
       " 'https://movie.naver.com/movie/bi/mi/basic.nhn?code=174807',\n",
       " 'https://movie.naver.com/movie/bi/mi/basic.nhn?code=168023',\n",
       " 'https://movie.naver.com/movie/bi/mi/basic.nhn?code=179139',\n",
       " 'https://movie.naver.com/movie/bi/mi/basic.nhn?code=164106',\n",
       " 'https://movie.naver.com/movie/bi/mi/basic.nhn?code=176354',\n",
       " 'https://movie.naver.com/movie/bi/mi/basic.nhn?code=162981',\n",
       " 'https://movie.naver.com/movie/bi/mi/basic.nhn?code=30688',\n",
       " 'https://movie.naver.com/movie/bi/mi/basic.nhn?code=175318',\n",
       " 'https://movie.naver.com/movie/bi/mi/basic.nhn?code=142683',\n",
       " 'https://movie.naver.com/movie/bi/mi/basic.nhn?code=172425',\n",
       " 'https://movie.naver.com/movie/bi/mi/basic.nhn?code=164102',\n",
       " 'https://movie.naver.com/movie/bi/mi/basic.nhn?code=152156',\n",
       " 'https://movie.naver.com/movie/bi/mi/basic.nhn?code=45290',\n",
       " 'https://movie.naver.com/movie/bi/mi/basic.nhn?code=153687']"
      ]
     },
     "execution_count": 40,
     "metadata": {},
     "output_type": "execute_result"
    }
   ],
   "source": [
    "rink = []\n",
    "rink2 = []\n",
    "m_rink = []\n",
    "\n",
    "for i in range(len(movie_rink)):\n",
    "    rink.append(movie_rink[i].find('a'))\n",
    "    rink2.append(rink[i]['href'])\n",
    "    \n",
    "    if rink2[i][:4] != 'http':\n",
    "        m_rink.append('https://movie.naver.com'+rink2[i])\n",
    "    else:\n",
    "        m_rink.append(rink2[i])\n",
    "\n",
    "m_rink"
   ]
  },
  {
   "cell_type": "markdown",
   "metadata": {},
   "source": [
    "### 데이터 프레임화 하기"
   ]
  },
  {
   "cell_type": "code",
   "execution_count": 41,
   "metadata": {},
   "outputs": [
    {
     "ename": "ValueError",
     "evalue": "arrays must all be same length",
     "output_type": "error",
     "traceback": [
      "\u001b[1;31m---------------------------------------------------------------------------\u001b[0m",
      "\u001b[1;31mValueError\u001b[0m                                Traceback (most recent call last)",
      "\u001b[1;32m<ipython-input-41-3b7130e707f2>\u001b[0m in \u001b[0;36m<module>\u001b[1;34m()\u001b[0m\n\u001b[0;32m      3\u001b[0m \u001b[1;31m# data = {'Rank':m_rank, 'Title':m_title, 'Change':m_change, 'Rink':m_rink }\u001b[0m\u001b[1;33m\u001b[0m\u001b[1;33m\u001b[0m\u001b[0m\n\u001b[0;32m      4\u001b[0m \u001b[0mdata\u001b[0m \u001b[1;33m=\u001b[0m \u001b[1;33m{\u001b[0m\u001b[1;34m'Title'\u001b[0m\u001b[1;33m:\u001b[0m\u001b[0mm_title\u001b[0m\u001b[1;33m,\u001b[0m \u001b[1;34m'Change'\u001b[0m\u001b[1;33m:\u001b[0m\u001b[0mm_change\u001b[0m\u001b[1;33m,\u001b[0m \u001b[1;34m'Rink'\u001b[0m\u001b[1;33m:\u001b[0m\u001b[0mm_rink\u001b[0m \u001b[1;33m}\u001b[0m\u001b[1;33m\u001b[0m\u001b[0m\n\u001b[1;32m----> 5\u001b[1;33m \u001b[0mdf\u001b[0m \u001b[1;33m=\u001b[0m \u001b[0mpd\u001b[0m\u001b[1;33m.\u001b[0m\u001b[0mDataFrame\u001b[0m\u001b[1;33m(\u001b[0m\u001b[0mdata\u001b[0m\u001b[1;33m)\u001b[0m\u001b[1;33m\u001b[0m\u001b[0m\n\u001b[0m",
      "\u001b[1;32mC:\\Python\\Anaconda3-52\\lib\\site-packages\\pandas\\core\\frame.py\u001b[0m in \u001b[0;36m__init__\u001b[1;34m(self, data, index, columns, dtype, copy)\u001b[0m\n\u001b[0;32m    346\u001b[0m                                  dtype=dtype, copy=copy)\n\u001b[0;32m    347\u001b[0m         \u001b[1;32melif\u001b[0m \u001b[0misinstance\u001b[0m\u001b[1;33m(\u001b[0m\u001b[0mdata\u001b[0m\u001b[1;33m,\u001b[0m \u001b[0mdict\u001b[0m\u001b[1;33m)\u001b[0m\u001b[1;33m:\u001b[0m\u001b[1;33m\u001b[0m\u001b[0m\n\u001b[1;32m--> 348\u001b[1;33m             \u001b[0mmgr\u001b[0m \u001b[1;33m=\u001b[0m \u001b[0mself\u001b[0m\u001b[1;33m.\u001b[0m\u001b[0m_init_dict\u001b[0m\u001b[1;33m(\u001b[0m\u001b[0mdata\u001b[0m\u001b[1;33m,\u001b[0m \u001b[0mindex\u001b[0m\u001b[1;33m,\u001b[0m \u001b[0mcolumns\u001b[0m\u001b[1;33m,\u001b[0m \u001b[0mdtype\u001b[0m\u001b[1;33m=\u001b[0m\u001b[0mdtype\u001b[0m\u001b[1;33m)\u001b[0m\u001b[1;33m\u001b[0m\u001b[0m\n\u001b[0m\u001b[0;32m    349\u001b[0m         \u001b[1;32melif\u001b[0m \u001b[0misinstance\u001b[0m\u001b[1;33m(\u001b[0m\u001b[0mdata\u001b[0m\u001b[1;33m,\u001b[0m \u001b[0mma\u001b[0m\u001b[1;33m.\u001b[0m\u001b[0mMaskedArray\u001b[0m\u001b[1;33m)\u001b[0m\u001b[1;33m:\u001b[0m\u001b[1;33m\u001b[0m\u001b[0m\n\u001b[0;32m    350\u001b[0m             \u001b[1;32mimport\u001b[0m \u001b[0mnumpy\u001b[0m\u001b[1;33m.\u001b[0m\u001b[0mma\u001b[0m\u001b[1;33m.\u001b[0m\u001b[0mmrecords\u001b[0m \u001b[1;32mas\u001b[0m \u001b[0mmrecords\u001b[0m\u001b[1;33m\u001b[0m\u001b[0m\n",
      "\u001b[1;32mC:\\Python\\Anaconda3-52\\lib\\site-packages\\pandas\\core\\frame.py\u001b[0m in \u001b[0;36m_init_dict\u001b[1;34m(self, data, index, columns, dtype)\u001b[0m\n\u001b[0;32m    457\u001b[0m             \u001b[0marrays\u001b[0m \u001b[1;33m=\u001b[0m \u001b[1;33m[\u001b[0m\u001b[0mdata\u001b[0m\u001b[1;33m[\u001b[0m\u001b[0mk\u001b[0m\u001b[1;33m]\u001b[0m \u001b[1;32mfor\u001b[0m \u001b[0mk\u001b[0m \u001b[1;32min\u001b[0m \u001b[0mkeys\u001b[0m\u001b[1;33m]\u001b[0m\u001b[1;33m\u001b[0m\u001b[0m\n\u001b[0;32m    458\u001b[0m \u001b[1;33m\u001b[0m\u001b[0m\n\u001b[1;32m--> 459\u001b[1;33m         \u001b[1;32mreturn\u001b[0m \u001b[0m_arrays_to_mgr\u001b[0m\u001b[1;33m(\u001b[0m\u001b[0marrays\u001b[0m\u001b[1;33m,\u001b[0m \u001b[0mdata_names\u001b[0m\u001b[1;33m,\u001b[0m \u001b[0mindex\u001b[0m\u001b[1;33m,\u001b[0m \u001b[0mcolumns\u001b[0m\u001b[1;33m,\u001b[0m \u001b[0mdtype\u001b[0m\u001b[1;33m=\u001b[0m\u001b[0mdtype\u001b[0m\u001b[1;33m)\u001b[0m\u001b[1;33m\u001b[0m\u001b[0m\n\u001b[0m\u001b[0;32m    460\u001b[0m \u001b[1;33m\u001b[0m\u001b[0m\n\u001b[0;32m    461\u001b[0m     \u001b[1;32mdef\u001b[0m \u001b[0m_init_ndarray\u001b[0m\u001b[1;33m(\u001b[0m\u001b[0mself\u001b[0m\u001b[1;33m,\u001b[0m \u001b[0mvalues\u001b[0m\u001b[1;33m,\u001b[0m \u001b[0mindex\u001b[0m\u001b[1;33m,\u001b[0m \u001b[0mcolumns\u001b[0m\u001b[1;33m,\u001b[0m \u001b[0mdtype\u001b[0m\u001b[1;33m=\u001b[0m\u001b[1;32mNone\u001b[0m\u001b[1;33m,\u001b[0m \u001b[0mcopy\u001b[0m\u001b[1;33m=\u001b[0m\u001b[1;32mFalse\u001b[0m\u001b[1;33m)\u001b[0m\u001b[1;33m:\u001b[0m\u001b[1;33m\u001b[0m\u001b[0m\n",
      "\u001b[1;32mC:\\Python\\Anaconda3-52\\lib\\site-packages\\pandas\\core\\frame.py\u001b[0m in \u001b[0;36m_arrays_to_mgr\u001b[1;34m(arrays, arr_names, index, columns, dtype)\u001b[0m\n\u001b[0;32m   7313\u001b[0m     \u001b[1;31m# figure out the index, if necessary\u001b[0m\u001b[1;33m\u001b[0m\u001b[1;33m\u001b[0m\u001b[0m\n\u001b[0;32m   7314\u001b[0m     \u001b[1;32mif\u001b[0m \u001b[0mindex\u001b[0m \u001b[1;32mis\u001b[0m \u001b[1;32mNone\u001b[0m\u001b[1;33m:\u001b[0m\u001b[1;33m\u001b[0m\u001b[0m\n\u001b[1;32m-> 7315\u001b[1;33m         \u001b[0mindex\u001b[0m \u001b[1;33m=\u001b[0m \u001b[0mextract_index\u001b[0m\u001b[1;33m(\u001b[0m\u001b[0marrays\u001b[0m\u001b[1;33m)\u001b[0m\u001b[1;33m\u001b[0m\u001b[0m\n\u001b[0m\u001b[0;32m   7316\u001b[0m \u001b[1;33m\u001b[0m\u001b[0m\n\u001b[0;32m   7317\u001b[0m     \u001b[1;31m# don't force copy because getting jammed in an ndarray anyway\u001b[0m\u001b[1;33m\u001b[0m\u001b[1;33m\u001b[0m\u001b[0m\n",
      "\u001b[1;32mC:\\Python\\Anaconda3-52\\lib\\site-packages\\pandas\\core\\frame.py\u001b[0m in \u001b[0;36mextract_index\u001b[1;34m(data)\u001b[0m\n\u001b[0;32m   7359\u001b[0m             \u001b[0mlengths\u001b[0m \u001b[1;33m=\u001b[0m \u001b[0mlist\u001b[0m\u001b[1;33m(\u001b[0m\u001b[0mset\u001b[0m\u001b[1;33m(\u001b[0m\u001b[0mraw_lengths\u001b[0m\u001b[1;33m)\u001b[0m\u001b[1;33m)\u001b[0m\u001b[1;33m\u001b[0m\u001b[0m\n\u001b[0;32m   7360\u001b[0m             \u001b[1;32mif\u001b[0m \u001b[0mlen\u001b[0m\u001b[1;33m(\u001b[0m\u001b[0mlengths\u001b[0m\u001b[1;33m)\u001b[0m \u001b[1;33m>\u001b[0m \u001b[1;36m1\u001b[0m\u001b[1;33m:\u001b[0m\u001b[1;33m\u001b[0m\u001b[0m\n\u001b[1;32m-> 7361\u001b[1;33m                 \u001b[1;32mraise\u001b[0m \u001b[0mValueError\u001b[0m\u001b[1;33m(\u001b[0m\u001b[1;34m'arrays must all be same length'\u001b[0m\u001b[1;33m)\u001b[0m\u001b[1;33m\u001b[0m\u001b[0m\n\u001b[0m\u001b[0;32m   7362\u001b[0m \u001b[1;33m\u001b[0m\u001b[0m\n\u001b[0;32m   7363\u001b[0m             \u001b[1;32mif\u001b[0m \u001b[0mhave_dicts\u001b[0m\u001b[1;33m:\u001b[0m\u001b[1;33m\u001b[0m\u001b[0m\n",
      "\u001b[1;31mValueError\u001b[0m: arrays must all be same length"
     ]
    }
   ],
   "source": [
    "import pandas as pd\n",
    "\n",
    "# data = {'Rank':m_rank, 'Title':m_title, 'Change':m_change, 'Rink':m_rink }\n",
    "data = {'Title':m_title, 'Change':m_change, 'Rink':m_rink }\n",
    "df = pd.DataFrame(data)"
   ]
  },
  {
   "cell_type": "code",
   "execution_count": null,
   "metadata": {},
   "outputs": [],
   "source": [
    "df"
   ]
  },
  {
   "cell_type": "markdown",
   "metadata": {},
   "source": [
    "### 데이터 저장하기"
   ]
  },
  {
   "cell_type": "code",
   "execution_count": null,
   "metadata": {},
   "outputs": [],
   "source": [
    "df.to_csv('data/movie_rank.csv', sep=',', encoding='UTF-8')"
   ]
  },
  {
   "cell_type": "code",
   "execution_count": null,
   "metadata": {},
   "outputs": [],
   "source": [
    "% ls data"
   ]
  },
  {
   "cell_type": "markdown",
   "metadata": {},
   "source": [
    "### Rink 활용하기"
   ]
  },
  {
   "cell_type": "code",
   "execution_count": null,
   "metadata": {},
   "outputs": [],
   "source": [
    "html2 = urlopen(df['Rink'][1])\n",
    "soup = BeautifulSoup(html2, 'lxml')\n",
    "\n",
    "soup.title\n",
    "\n",
    "# for i in range(len(df['Rink']))\n",
    "#     html2 = urlopen(df['Rink'][i])\n",
    "#     soup = BeautifulSoup(html2, 'lxml')"
   ]
  },
  {
   "cell_type": "markdown",
   "metadata": {},
   "source": [
    "### 예시문 하나로 해보기"
   ]
  },
  {
   "cell_type": "markdown",
   "metadata": {},
   "source": [
    "평점들 구하기"
   ]
  },
  {
   "cell_type": "code",
   "execution_count": null,
   "metadata": {},
   "outputs": [],
   "source": [
    "tmp_viewer_sc = soup.find_all('div', 'star_score')\n",
    "tmp_viewer_sc\n",
    "tmp_viewer_sc[0].get_text()      # 관람객 평점\n",
    "tmp_viewer_sc[1].get_text()      # 기자 평점\n",
    "tmp_viewer_sc[2].get_text()      # 네티즌 평점\n",
    "\n",
    "# tmp_viewer_sc[5].get_text()"
   ]
  },
  {
   "cell_type": "markdown",
   "metadata": {},
   "source": [
    "장르 구하기"
   ]
  },
  {
   "cell_type": "code",
   "execution_count": null,
   "metadata": {},
   "outputs": [],
   "source": [
    "tmp_genre = soup.find('dl', 'info_spec')\n",
    "tmp_genre\n",
    "tmp_genre2 = tmp_genre.find_all('a')\n",
    "tmp_genre2\n",
    "# len(tmp_genre2)\n",
    "# tmp_genre2[0].get_text()\n",
    "\n",
    "# type(tmp_genre)\n",
    "# tmp_genre[0].find('p')\n",
    "# tmp_genre\n",
    "# tmp_genre2 = tmp_genre.find_all('dt', 'step1')\n",
    "# type(tmp_genre2)"
   ]
  },
  {
   "cell_type": "code",
   "execution_count": null,
   "metadata": {},
   "outputs": [],
   "source": [
    "tmp_gen = []\n",
    "tmp_dir = []\n",
    "tmp_act = []\n",
    "tmp_age = []\n",
    "\n",
    "for i in range(len(tmp_genre)):\n",
    "    if tmp_genre[i]['href'] == '/movie/sdb/browsing/bmovie.nhn?genre=\\d+':\n",
    "        tmp_gen.append(tmp_genre[i].get_text())\n",
    "    elif "
   ]
  }
 ],
 "metadata": {
  "kernelspec": {
   "display_name": "Python 3",
   "language": "python",
   "name": "python3"
  },
  "language_info": {
   "codemirror_mode": {
    "name": "ipython",
    "version": 3
   },
   "file_extension": ".py",
   "mimetype": "text/x-python",
   "name": "python",
   "nbconvert_exporter": "python",
   "pygments_lexer": "ipython3",
   "version": "3.6.5"
  }
 },
 "nbformat": 4,
 "nbformat_minor": 2
}
