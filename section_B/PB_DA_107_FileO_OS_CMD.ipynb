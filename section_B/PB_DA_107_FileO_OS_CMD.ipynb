{
 "cells": [
  {
   "cell_type": "markdown",
   "metadata": {},
   "source": [
    "# 파일핸들링 & OS 기본명령어"
   ]
  },
  {
   "cell_type": "markdown",
   "metadata": {},
   "source": [
    "### Text 파일 생성"
   ]
  },
  {
   "cell_type": "code",
   "execution_count": 2,
   "metadata": {},
   "outputs": [],
   "source": [
    "def write_txt(filepath):\n",
    "    # 텍스트 파일에 한줄씩 쓰기(writelines)\n",
    "    count = 1\n",
    "    data = []\n",
    "    print('파일에 내용을 저장하려면 내용을 입력하지 말고 [Enter]를 누르세요')\n",
    "    \n",
    "    while True:\n",
    "        text = input('[%d] 파일에 저장할 내용을 입력하세요.' %count)\n",
    "        if text == '':\n",
    "            break\n",
    "        data.append(text+'\\n')\n",
    "        count += 1\n",
    "    \n",
    "    f = open(filepath, 'w')\n",
    "    f.writelines(data)\n",
    "    f.close()\n",
    "    \n",
    "    ret = 'TEXT 파일을 생성하였습니다.'\n",
    "    \n",
    "    return ret"
   ]
  },
  {
   "cell_type": "code",
   "execution_count": 7,
   "metadata": {},
   "outputs": [
    {
     "name": "stdout",
     "output_type": "stream",
     "text": [
      "파일에 내용을 저장하려면 내용을 입력하지 말고 [Enter]를 누르세요\n",
      "[1] 파일에 저장할 내용을 입력하세요.여러분 반갑습니다!\n",
      "[2] 파일에 저장할 내용을 입력하세요.재밌고 유익한 시간이 되길 바랍니다\n",
      "[3] 파일에 저장할 내용을 입력하세요.끝까지 화이팅!\n",
      "[4] 파일에 저장할 내용을 입력하세요.\n"
     ]
    },
    {
     "data": {
      "text/plain": [
       "'TEXT 파일을 생성하였습니다.'"
      ]
     },
     "execution_count": 7,
     "metadata": {},
     "output_type": "execute_result"
    }
   ],
   "source": [
    "filepath = './data/mydata.txt'\n",
    "write_txt(filepath)"
   ]
  },
  {
   "cell_type": "code",
   "execution_count": 9,
   "metadata": {},
   "outputs": [
    {
     "name": "stdout",
     "output_type": "stream",
     "text": [
      "여러분 반갑습니다!\n",
      "재밌고 유익한 시간이 되길 바랍니다\n",
      "끝까지 화이팅!\n",
      "\n"
     ]
    }
   ],
   "source": [
    "f = open(filepath, 'r')\n",
    "data = f.read()\n",
    "f.close()\n",
    "\n",
    "print(data)"
   ]
  },
  {
   "cell_type": "markdown",
   "metadata": {},
   "source": [
    "### Text 파일 복사"
   ]
  },
  {
   "cell_type": "code",
   "execution_count": 10,
   "metadata": {},
   "outputs": [],
   "source": [
    "# 텍스트 파일 복사하기(read, write)\n",
    "f = open('./data/mydata.txt', 'r')\n",
    "h = open('./data/mydata_copy.txt', 'w')\n",
    "\n",
    "data = f.read()\n",
    "h.write(data)\n",
    "\n",
    "h.close()\n",
    "f.close()"
   ]
  },
  {
   "cell_type": "code",
   "execution_count": 11,
   "metadata": {
    "scrolled": true
   },
   "outputs": [
    {
     "name": "stdout",
     "output_type": "stream",
     "text": [
      "여러분 반갑습니다!\n",
      "재밌고 유익한 시간이 되길 바랍니다\n",
      "끝까지 화이팅!\n",
      "\n"
     ]
    }
   ],
   "source": [
    "with open('./data/mydata_copy.txt', 'r') as fp:\n",
    "    data = fp.read()\n",
    "    print(data)"
   ]
  },
  {
   "cell_type": "markdown",
   "metadata": {},
   "source": [
    "### Image 파일 복사"
   ]
  },
  {
   "cell_type": "code",
   "execution_count": 18,
   "metadata": {},
   "outputs": [],
   "source": [
    "from IPython.display import Image\n",
    "\n",
    "origin_img = './images/bpc_logo.png'\n",
    "copied_img = './images/bpc_logo_copy.png'"
   ]
  },
  {
   "cell_type": "code",
   "execution_count": 22,
   "metadata": {},
   "outputs": [
    {
     "data": {
      "image/png": "[encoded data removed]",
      "text/plain": [
       "<IPython.core.display.Image object>"
      ]
     },
     "execution_count": 22,
     "metadata": {},
     "output_type": "execute_result"
    }
   ],
   "source": [
    "Image(origin_img)"
   ]
  },
  {
   "cell_type": "code",
   "execution_count": 28,
   "metadata": {},
   "outputs": [],
   "source": [
    "? open(origin_img, 'rb')"
   ]
  },
  {
   "cell_type": "code",
   "execution_count": 27,
   "metadata": {},
   "outputs": [
    {
     "name": "stdout",
     "output_type": "stream",
     "text": [
      "\n",
      " checkpoint.... 1\n",
      "b'\\x8f\\xd4\\x0eGQ#GXC\\r)\\xb1\\xf7\\xcd%xg\\xe3\\\\\\x121\\x8e\\x12\\x87\\xa8\\x8a;\\xf7\\xe1c\\n!\\x909\\xe0\\x8d\\x16\\x96\\xe0\\xe4\\xbf\\x80\\xad\\xde\\xea}t\\xea\\xe1\\xbf\\x95\\x93\\xc6\\xc6Z\\x87\\xbf\\x8a\\xdct\\xcc\\xaf\\xf8p@\\xd1\\x88_\\xfe^\\xcf\\x8c>\\xd7\\xe4\\xed\\x9c\\x84VJTctQ\\x7f\\xff\\xe1Kw\\xbf\\xfdQ\\xb9(D\\x8d3W\\xee\\xec:\\xfa\\x05\\x88\\x86\\xde\\x13\\xbb\\x8e\\\\\\x82O\\x9f\\x85\\xcc\\x06o\\xae\\xb0&\\xb4\\x95:\\xf7\\x1f\\xfdz\\xf1\\xfa\\xa3\\xa1\\xcf\\xee\\x9e\\xff\\xfa\\xc1\\xfdG\\xbf\\xdc\\x7f\\xf8\\x8br\\x06\\xe4\\t\\x9f]\\xb9\\x9b\\xd7z\\\\\\x90\\xdeg\\'l\\'\\xc4v\\xd9\\xc5v\\xda\\xc5t\\xdaF\\xb7\\xd9D\\xb4X\\x856\\xe2\\x82\\xaa\\xb1~\\xe5\\x0e1\\xb55\\x9d\\x07\\xef|\\xf3P\\xb9\\x0e\\x04\\xf2\\x12\\xbc\\xa1\\xc2\\x8a\\xb9\\xf0+\\xb0\\xd5\\x7f\\xecxt\\xf8\\xfb\\x89m\\x05\\x99\\x9a\\xa6\\x81s\\x82\\x8c\\x9d\\xf6\\t=d\\xe9nJ\\xd2^J\\xe2\\x10%q\\x1fE\\xb6\\x17\\xbc%K\\x06\\x88\\t\\xbd\\xf6\\xb1\\xdd\\xb6\\xd1\\x9d\\xf8\\x88V\\xab\\x90\\xcd\\x16~\\x15h\\xf7\\\\ZHqU\\xeb\\x9e\\xdb\\xf7\\xbeS\\x16\\x01\\x81<?o\\xa2\\xb0$\\x17\\x7fQ\\xd8\\xaa\\xff\\xde\\x1f\\xcaI\\x90i\\x03T\\xe5\\x96\\xb5\\x9b(\\xdeII\\xdcKK\\x19\\xa1\\xa7\\x1dd\\xa4\\x1d\\x02AO=HO\\x1e\\xa1%\\xed\\xa3%\\xca\\xb5%\\xea\\xb7\\x8f\\xeb!\\xc4l\\xb7\\x8dl\\xb5\\x0em\\xc2\\x05\\xd4`\\xbcKL\\\\2\\xc8\\xbeY\\xe5M\\xbd\\xca\\xb2 \\x90\\xe7\\xe45\\x12\\xd6\\xcd{\\x0f\\x0e\\x9e\\xfer\\xea\\xb8\\xf0\\xe5\\x1d\\xe5\\xd2\\x93\\x00\\x16\\xd0XE#\\x02{>\\xffG\\xe3uu[\\xfd\\xf0\\xd3/\\x1a\\xcbL\\x18`1\\xc5\\xf2S0\\x9d&\\xccH\\x80\\r)7)g\\x06\\x9b05.);\\x88\\xf1=\\xd4\\xc4!Z\\xea\\x01z\\xda!f\\xc6aV\\xe6(+\\xeb\\x18;\\xf3\\x18+\\xe3(3\\xfd\\x08\\x03h+\\x05hk\\x88\"\\x1d$\\x8bw\\x12\\xe3{\\tB\\x90gm\\xb5\\x0ei\\xc0\\x05V#wjuN\\xd7c\\xc6z\\x08\\x0bn\\xdd\\xfdVY\\xe8$\\xbc\\xb2FA\\xe6\\x11\\xaf\\x91\\xb0\\xc0\\xc1\\xf7\\tA4uT\\xb6?\\xe3N\\xc4`\\x01\\x8dU\\xb4\\xe3\\xfd\\x92\\xcfj\\xbf\\xfeM\\xb9\\x82\\xdc2\\x1a\\x0bL\\x18\\x1a\\x8e\\x98\\x90\\xe94aF\\x02lH\\xb9I93\\xd8\\x84\\xc9h\\xdcy\\xca%m\\'1\\xa1\\x9f\\x9a\\xb4_\\xae\\xaaQ\\xf93\\xfd\\x8fsrN:\\xe4\\x9eF\"\\xe7\\x14;\\xfb\\x04;\\xe3(+\\xfd0#\\xe5\\x00=\\t\\x8c\\x10\\xf7\\x90\\xc5\\x03\\xf6q\\xddv\\xd1\\xed6\\xe1[,\\x83k-|\\xcb\\xcc\\xdc\\xf3\\x8c\\xf9\\xa9z\\xf4\\x985\\xb6>\\x9d}\\xfb\\x94\\xa5O\\xc4+h\\x14d\\xde\\xf1&\\nK<pI\\xb9\\xb4\\x9c\\x19\\xec\\x18\\x7fUam\\xee?m\\x17\\xddA\\x12\\x0f\\x00[\\x81\\x1c\\x8a\\x951\\n\\xdc\\xe4\\x90s\\x92\\x9b{\\x9a\\x97\\xff\\x19\\xbf\\xe0<\\x12\\xf9\\xe7\\xc0kD[Y\\xc7\\xd9\\x8aT+y?U\\xb6\\x87\\x94\\xd0\\'\\x1f\\x18n\\x03I\\x16\\xd6\\xaf\\x12\\xe3Yh\\xea\\x92i\\xe4 \\xdb@\\x89\\xd4\\xb1\\x14\\x14V5+\\xb7\\xa1\\xc5l7\\n2\\x1fy\\x13\\x855{\\xbd\\xfd/)\\xac\\xdd\\xa3_\\xd8Fn%\\x89v\\xd2\\x12\\xf71R\\x0e\\xb2\\xd2\\x8fp\\xb2\\x8e\\xabT\\xe5Xt\\xc1\\xa9\\xf8\\x92k\\xd9\\x15A\\xf9\\x15\\xd7\\xd2\\xcb\\xce\\xc5\\x17\\x1c\\x0b\\x80\\xb6N\\xb03\\x8f2\\xd3\\x0e\\xd1\\x93\\xf6S$\\xbb\\xc0\\xc0\\x10I\\xb2\\xc2\\x9a,\\x03\\xaa\\xcd\\xbdJL\\x059\\xc6\\xfc\\x14=f\\xdcZB\\xd0r\\x0c/\\xbf\\xbcQ\\xb9\\xa5\\xf1\\xccj\\xa3 \\xf3\\x14(,(\\xac\\xa9\\xd8u\\xf8s\\xe7\\xe4\\x1d\\xc4\\xb8\\x1d\\x14\\xe9 =i\\x98\\x99v\\x98\\x93y\\x8c\\x9bs\\x8a\\x9f\\x7f\\xd6\\xa9\\xe8\\x82K\\xc9%\\xb7\\xf2\\xab^\\x9b\\xae\\xfb\\xd5\\xdf\\x0e\\xd8|\\xc7\\xb7\\xee\\x86\\xd7\\xa6\\xab\\x1e\\xe5\\x97\\x9d\\x8b\\xce:\\xe6\\x9f\\xe2\\xe5\\x1cg\\xa6\\x1e@\\xce\\xc1\\x8b\\xfa\\xedc\\xba\\xf0\\xe1-\\x96A\\xb5\\x16>efny&Ni\\x06l\\xd1\\x06r\\xb8\\x8e\\xb5\\xd7RczkW\\xbfr{j\\xcc^\\xa3 \\xf3\\x17(,(\\xacI9}\\xe9\\x86Sb\\'A\\xd8\\t\\xd2+\\xaal/#\\xf9\\x00+}\\xd4!\\xeb\\x04/\\xef\\x8cc\\xe1yA\\xd9\\x17\\xde5\\xd7\\x03\\x1an\\x874\\x7f\\x13\\xd1\\xfa \\xba\\xe3\\x87\\xc8\\xd6\\xef\\x83\\x1ao\\xfb\\xd7}\\xedQ~\\xc9\\xad\\xf4\\xbcs\\xc1iN\\xc6af\\xca~\\xaad\\x17r\\x95\\x03rG\\xfc\\x06\\x9co%\\xc6\\xa3\\x10\\xe5\\x92a\\xe8 \\xd9H\\x8bZc\\xe7\\xbf\\x0c\\xc3\\xffx\\x1d\\xee\\xc6M\\xcd[\\xb6\\xceR\\xa3 \\xf3\\x1a(,(\\xacI\\xe1\\xc5m\\xc6\\x87o\\xb5\\x8f\\xeb!\\x8bwQ\\xe5\\xe3Av\\xc6Qn\\xcei\\xc7\\x82sne_\\xf8\\xd4\\\\\\x0f\\xd9r?\\xaa\\xeda\\xec\\xf6\\x9fD\\xbd\\xbf%\\x0e\\xfc[\\xda\\xff{T\\xfb\\xf7\\xe1-\\xf7\\xfcj\\xbf\\xf2\\xde\\xf4\\x85[\\xc99n\\xf6Qv\\xda\\x01\\x9at7)n\\x07!\\xaa\\xd5&\\xa4\\xd1\\xd2\\x7f\\x93\\xb9W\\xb1\\xa9 \\xdb\\x88\\x97\\xa8\\xcb\\x88Yk\\x1f\\xb4\\x12\\xeb\\xbaH\\x8fHw\\xf4Sn\\xf5\\t\\xb3\\xd4(\\xc8\\xbcf\\x9e\\t\\xcbC\\xda\\x08\\x944E\\x80\\x054V\\xd1\\x0e(\\xac\\xe9\\x00\\xd2+\\xab\\xc0M\\xf8\\xa8V\\x85\\xb0h\\x89\\xfb\\x98\\xa9@X\\xc7x\\xb9\\xa7\\x05\\xa5\\x97|k\\xaf\\x87n\\xb9/\\xec\\xf8A\\xdc\\xf7[\\xd2\\xee\\xc7iC\\x7ff\\x8f\\x8ce\\r\\xff)\\xe9\\xff5\\xae\\xebQX\\xf3\\x9d\\xc0\\xfa\\xaf=\\xcb/:\\xe6\\x9d\\xe0f\\x1c\\xa2\\xcb\\x06\\xc9\\xf1\\xbd\\xf6\\xd1\\xed\\xf8\\xd0&\\xcb\\xc0\\x1a0*D\\xbb\\xe7\\x1a9&\\xeb\\xb1\\xe2\\xd7\\x13CVY\\n\\x96\\x181>Xe\\x96\\x99S\\xa4\\xdc\\xb6\\x9c\\xd9h\\x14d\\xbe3\\xcf\\x845#\\x01\\x855\\x1d\\xb81uV\\xc1\\r\\xb6Qm\\xf6\\xb1;\\xc8\\xe2\\x01Z\\xe2\\x103\\xf5\\x10\\'\\xf3\\x98s\\xe1Y\\xaf\\xaa/\\xc1\\xd0O\\xd8\\xf1H\\xd2\\xf7{\\xda^\\xe4\\x99\\xfe\\x05\\xa3c\\xa5\\'\\xc7\\xcaN\\x8ee\\x0e\\xff\\x99\\xb8\\xf3\\xb7\\x98\\x8e\\xef\\xc3\\x9b\\xef\\xf8T]v)<\\xcd\\xcb:\\xc2H\\xdcKI\\xe8\\xb3\\x17v\\xe0\\xc3\\xb7X\\x05\\xd5b\\xfd*0\\x9e\\x05(\\xe74\\x03\\x8ex\\x039L\\xc7\\xca})\\x8a\\xb5`\\x9d\\xd5\\xdb\\x0bW+\\xb7-g6\\x1a\\x05\\x99\\xef@aAaM@M\\xe7\\x08\\xd6\\xa7\\xd4*t3>\\xb2\\x95\\x10\\xdb-\\xff\\x8ap/3\\xf5\\x007\\xe7\\xb8{\\xd9E\\xff\\xba\\xaf#\\xb6\\xde\\x8f\\xef\\xfe)e\\xf0q\\xde!DUUg\\xc7\\xea>\\x1fk\\xb84Vzb,c\\xdf\\x9f\\xd2\\xbe\\x7f\\t\\xdb\\xbf\\xf5\\xaf\\xb9\\xeaVt\\x16\\x11V\\xd2\\x10U\\xd4\\x8f\\x08+\\xa2\\xd9:\\xb8\\x0e\\x07\\x84\\xe5Ud\\xea\\x9ai\\xe8 \\xddH\\t_m\\xed\\xf9\\xa9)\\xe7\\xe3\\x8dv\\xef.\\xd1M\\xcb\\xccU\\xd6\\x00\\n\\x0b2\\x11PXPX\\x13\\xc0\\x89\\xac\\xc0\\xfaVX\\x85l\\xc6G \\x0f=#%\\xf4Q\\xa5{\\x98)#| \\xac\\xd2\\x0bA\\r\\xd7\\x85\\xed\\xdfK\\xfb~M\\x1f\\xfa\\xb3\\xe8\\xd8X\\xcd\\x85\\xb1\\xa6/\\xc7Z\\xbe\\x1ak\\xbe:Vuf\\x0c\\x8c\\r\\x13\\x07~\\x8b\\xed\\xf8>\\xa8\\xfe+\\xf7\\x92s\\xfc\\xacQV\\xf2>\\x8a\\xb8\\xdf>\\xb6\\xd36\\xb2\\xc5:\\xb8\\x1e\\xe7_i\\xeeU\\x84\\x16\\xe4\\x18\\xf3\\x92tiQk\\xf0>\\xcb\\xcdx\\x9f\\xe8\\x13\\xff\\xb9\\xdc\\x98H\\xe7)k\\x00\\x85\\x05\\x99\\x08(\\xac7HX\\xd9\\xf5\\x83\\x1a\\xa7\\xfc\\x06\\x8f|\\xae,B\\x8d;\\xf7\\x1f\\x9a\\t2\\xb1\\xbe\\xe5\\x96A\\xf56\\xe1-v\\xd1\\x1d\\xc4\\xf8^\\xaat7;u\\xc4)\\xf7\\x84G\\xe9\\x85\\x80\\xdakQ\\xdb\\xbe\\x91\\xf5\\xff\\x9a5<Vr\\x02\\xc9\\xad\\x1a\\xaf\\x8c5~\\x81\\xbc(96\\x96\\xb6\\xf7\\xb1\\xb8\\xe7\\xe7\\xa8\\xad\\xf7\\xfc\\xaa\\xbft+>\\xcb\\xcf\\x1ee*\\x85\\xd5e\\x1b\\xb9\\xd5:\\x04\\x08\\xab\\xca\\xdc\\xab\\xd8\\xcc-\\xd7\\xc41E\\x8f\\x1e\\xb3\\xd6\\xce\\x7f\\x85\\xb9\\xd3bC\\xca\\x87\\xab1\\x7f\\xff`\\xd9\\xc8\\x88\\xf2{\\x15(,\\x886PX\\xb3\\xd51\\x80\\x0e4J\\xd0\\x0e\\xe5\\xa2r4fi\\x07(P\\xb9\\xa8\\x16\\xd3l\\x82vLXfrY\\x17F\\x90i\\xe1Sj\\x19Pm\\x13\\xdah\\x17\\xd9J\\x8c\\xed\\xa6\\x8awq\\xd2\\x80\\xb0\\x8e{\\x95_\\x08\\xaa\\xbb\\x16\\xd9rO\\xd4\\xfdS\\xfa^$\\xc3*;5Vqz\\xac\\xf2\\xccX\\xf9\\xa910B\\x04\\xe9U\\\\\\xd7\\xa3\\xd0\\xc6[^\\x15\\x97\\x9c\\x0bNq3\\x0e#\\xc2\\x92\\xec\\x94\\x0b\\xab\\x05\\xf9Q!\\x10\\x96w\\t\\x10'\n",
      "\n",
      " checkpoint.... 2\n",
      "b'\\x16\\xca)M\\x9f\\x15\\xbf\\xde>h\\x15\\xd6u\\xa91\\xfd\\xe3u\\x96o/\\\\cG\\xa4(\\xaa\\x01\\x85\\x05\\xd1\\x06\\n\\x0b\\nK\\x13fp\\x9e\\x99k\\x06\\x18\\xb5\\xe1\\xfc*\\xc1\\x08\\xce6b\\xab}L\\x17U\\xbc\\x13\\x8c\\xecx\\x99G\\x04Eg|\\xaa.\\x875\\xdd\\x8a\\xeb|\\x98\\xb4\\xf3\\x0f\\xe0,0\\x06\\xcc=\\x88\\xa8*\\xef\\xe0X\\xc6\\xd0c\\xd1\\x8e\\x9f\\xa2Z\\xbf\\r\\xa8\\xfb\\xca\\xad\\xf4\\x1c?\\xf78\\'\\xfd\\x00#y\\x8f*\\xc3\\xb2\\ti\\xb0T\\x13\\x96!G\\xbc\\x81\\x14\\xaac\\xe5\\xfe)\\x8a\\xf9\\xf1\\x06\\xebw\\x17\\xeb\\xda\\x91\\x99\\x8aj@aA\\xb4\\x81\\xc2\\x82\\xc2\\xd2\\xc4\\x94\\'F\\xbb\\xa4\\x9b{\\x14\\xe0|\\xcb\\xad\\x83j\\xf1\\xe1\\xcd\\x04a\\x07E\\xd4\\xc7J\\xde\\xcb\\xcb<\\xe4\\x92\\x7f\\xd2\\xa3\\xec\\x82_\\xcd\\xb5\\xb0-w\\x85\\xed\\x0f\\x12\\xba\\x7f\\x92\\xf6\\xfd\\x92\\xbc\\xeb\\x8f\\xd4\\xc1?S\\x07\\x1fK\\xfb\\x7f\\x15\\xb6\\x7f\\x17\\xdat\\xc7\\xbb\\xea\\x8aK\\xd1\\x19n\\xd6\\x11V\\xea~z\\xe2n\\x8a\\xb8\\x0f\\x08\\xcb\\x0e\\x11\\xd6f\\xcb\\x80Mra\\xe5\\xa1\\x9c\\xd2\\r\\x1d\\xa4\\x1b\\xc8a\\xab\\xac\\xdc\\x97\\x9a0\\x17\\xac\\xb7zo\\x89\\xfe\\xdf\\xde^\\xa0\\xa8\\x06\\x14\\x16D\\x1b(,(\\xacq\\xdc\\xbe\\xff\\xc0\\x94/A;\\xa7a\\xdcs\\xb1>%\\x96\\x81\\xd5\\xc8\\x83\\xfb\\xa3\\xdbH\\xf1;\\x80w\\xd8i\\xfb\\xf9\\xd9\\xa3\\xaeEg<\\xcb?\\xf7\\xab\\xfd*p\\xf3\\xcd\\xd0\\xe6\\xbbQ\\xdb\\xbe\\x8d\\xedx\\x18\\xbf\\xfd\\x87\\xf8\\xaeG\\xd1m\\xdf\\x05o\\xbe\\xe1\\xbb\\xe9KA\\xf19\\xc7\\xbc\\x13\\x9c\\x8c\\x83\\x8c\\xe4!\\xaal\\x80,\\xea\\x95\\x0bk\\x1b\",\\x7f\\xe4\\x17\\x85hA\\x8e\\x89c\\x8a\\x01[\\xb4\\x9e\\x14\\xb2\\xca\\xd2m\\x89\\tc\\xc1:\\xabw\\x81\\xb0\\xfe\\xf1\\xf1\\xc8\\x01\\xa4VPX\\x10m\\xa0\\xb0\\xa0\\xb0\\xc6q\\xfc\\xdcU\\xb4\\xa3\\xc4\\xd4)\\xd9L\\x90i\\xe1U\\x88\\xf3\\xaf\\xb4\\x0em\\xb0\\x8dj%\\xc6n\\x07\\xc3:z\\xd2\\x1ev\\xda\\x08/{\\xd4\\xb9\\xf0\\x8c[\\xd9\\x05\\xcf\\xca\\xcb>5_\\xfa\\xd7\\x7f\\x1d\\xd4x+\\xa4\\xf1V\\xf0\\xe6[A\\x9boxU}\\x01l\\x05\\x06\\x83\\x0e\\x99\\x87Yi\\xc3\\xf4\\xa4\\xbdT\\xe9\\x009\\xa1\\x17\\x8c+\\xed\"\\xb6\"\\xbf\\xce\\xf1\\xab4\\xf7\\x90\\xdf\\xb3\\x81\\x97\\xa8\\xcf\\x8c[G\\x0cZ\\x89sYlD\\xfdh-\\xf6\\x9d%\\xba\\x7f{gaS\\xcb6P\\x13(,\\x886PXPX\\xe3\\xe8\\x19:\\x01\\x84\\x85\\xe2K\\xd1.i\\xe6\\x1eyX\\xbfr\\xab\\x90\\x06|\\xe46\\xa0\\x1b\\xb2\\xa8\\x8f&\\x1bd\\xa5\\x0e\\x03\\x13\\x01\\x1f9\\x15\\x9eq->\\x8bh\\xab\\xe2\\x92W\\xe5e\\x8f\\x8a\\xcf\\xdd\\xcb.\\x82p-:\\xcb\\xcb9\\xce\\xc98\\xccJ?\\xc0H\\xd9O\\x95\\xee&\\'\\x80\\xf1`7!\\xaa\\x1d\\x1f\\xdal\\x19Pk\\xe1\\xad\\xfc\\xfd\\xb3!G\\xa2G\\x17\\xae%\\xf8/\\xb7p\\xfa\\xc4\\x90\\xfc\\xe1j\\xf3\\xb7?\\xd9\\xf0_\\xef-\\xd9\\xd2\\xd2\\x06j\\x02\\x85\\x05\\xd1f\\x9e\\tK\\xe3\\xa79\\xcc\\xb2}\\x0bd\\x83\\x1f\\'\\r\\x86\\xd7\\x0f+\\xa6\\xcc\\xedOs\\xd4\\x01\\x95\\xd1(A;\\x94\\x8b\\xca\\xd1\\x98\\xa5\\x1d\\xa0@\\xe5\\xa2Z\\xcc\\xa0\\xb0\\xaaZ\\x07My\"\\x13\\xae\\xc8\\xd49\\x05\\x19\\x15\\xfa\\x96[\\x05\\xd5\\xe3\\xc3\\xb7\\x12\\x84\\x1d\\xa4\\xb8\\x1dT\\xf1Nz\\xe2\\x1e\\xb9\\xb3\\x8e\\xf0r\\x8e9\\xe6\\x9dt.8\\xedZ\\xf4\\x19\\x08\\xa7\\x82\\xd3\\xf2;4\\x9c\\xe0e\\x1f\\xe5d\\x1cb\\xa5\\x8e\\x80\\xc1 E\\xf2\\xc4V\\xc2\\x0e\\xf95\\r\\x9bq~U\\xe6\\x9eE\\xa6\\xae\\xd9F\\xbcd}V\\xc2FJ\\xe4\\x1a[\\xdfe\\x18\\xde\"}\\xfb\\x0ft\\xd0o\\x7f\\xb2\\xfe\\xef\\x1f,\\xcf\\xc8.\\x045\\x81\\xc2\\x82h3\\xcf\\x84\\xa5\\xde\\xc1&\\xbc5\\xfbt4\\x01\\x85\\xa5\\n\\xed2{\\x86\\x8e\\xa3y\\t\\xc6\\x0e\\xf1(\\xa7$3\\xb7l\\xe4\\xe2\\x86\\xc0\\x1a\\xeb\\xd0&[$\\xc9\\xea$\\'\\xf4P%;\\xe9\\xb2AF\\xf2>\\xa0$v\\xda\\x01v\\xfaA\\xa0\\'N\\xc6\\x11N&\\x88\\xc3\\xec\\x8cC`\\x8a\\xdcV\\xfb\\xa8\\xb2A\\xb2d\\'1\\xa1\\x07y\\xa0NT\\xabMx3p\\x1f\\xd6\\xb7\\xc2\\xcc\\xbd\\x00\\xe5\\x9ca\\xc4\\x95\\xe91b\\xd7\\x93\\xc3tl<?Es\\x16\\xea\\xda\\xbe\\xbf\\xd2\\x14\\x08\\xeb\\xad\\x8fV\\x1e84\\nj\\x02\\x85\\x05\\xd1f\\xbe\\n\\xab\\xf6\\xeb\\xdf\\x80\\xad@4\\xdf\\xfc]1E\\x01\\x14\\xd6s\\x85v\\x99\\'\\xce]1\\xe3\\xc5\\xa38q\\xa6\\x8e2\\xe4j,\\xafB\\x9c_\\xa5Up\\x1d>\\xac\\xc9.\\x12\\xe4Ym\\xc4\\xd8.RB\\x0fE\\xb2\\x13\\x0c\\x0fiI{\\xe9\\xc9\\xfb\\x18)\\xc3\\xcc\\xd4\\x03\\xcc\\xd4\\x11$R\\x86\\x81\\xaa@\\xd0e{(\\x92\\x010\\x8a\\xb4\\x8f\\xdbN\\x10\\xb6\\xe3#\\xb7\\xda\\x845\\x02\\xf7\\x99{\\x97\\xa2\\x91KFS\\r9b=Z\\xf4:b\\xc8*+\\xb7\\xa5(\\xe6\\xc2\\x8d\\xb6\\x1f\\xacB\\xbf\\xb3x\\xc3\\xdb\\x1f\\xeb\\x1c8\\x0c\\x85\\x05\\x99\\x98y),\\x95\\xad\\xd4o\\xcd\\xae\\x00\\n\\xeb\\xb9B\\xbb\\xcc\\xe3\\xe7\\xae`xq(v\\x8c)Wl\\x06F\\x85 \\xc9\\xf2.\\xc2\\x05TY\\x05\\xd7Z\\x87n\\xc6G4\\xdbF\\xb7\\x12b;\\x89\\t;\\xc8\\xe2\\x9d\\x14\\xe9.\\x90F\\xd1\\x12\\xf7\\xd2\\x92\\x86\\xe8\\xca\\xd8\\x0bDF\\x95\\x0e\\xd2\\xa4\\xbb\\x80\\xadHq\\xdd\\x84\\x98\\x0eBT+>|\\x0br\\xc9\\xa8r<\\x98e\\xc4K2`%\\xe8R#\\xd7\\x11\\x02W\\xe2\\x04KQ\\xac\\x85\\xbav\\x1f\\xe8\\x98\\xbd\\xb7T\\xf7\\xddEk\\xaf\\xdf@\\xee\\x8d\\x05\\x85\\x05\\xd1f\\xfe\\t\\xab\\xf3\\xf6\\xef\\n[\\x95]\\xd3\\xb4\\x15\\x00\\n\\xeb\\xb9B\\xbd\\xcck??\\x06\\xbb\\xd4\\xbc\\xf7:\\xd6Ql\\xceO@\\xf3%h\\xa7d\\xb4k:\\xc6=\\xd7\\xdc\\xa7\\x04\\xeb_a\\x19Tm\\x1d\\xda\\x80\\x8f\\xd8b\\x1b\\xd5J\\x88\\xe9$\\xc6\\xf7\\x90D\\xfdd\\xf1\\x00\\xc8\\xa4\\xa8\\xd2]\\x14\\xe9n\\x8at\\x90*\\xdbE\\x95\\xec\\xa2\\x88w\\x92\\xc5\\xfddQ/I\\x9e^\\x11\"\\xb7\\x82\\x04\\xcd:\\xb0\\x06\\xebS\\x8aA\\xae\\x17M5r@N\\xb7\\xaf\\'\\x85\\xac\\xb1\\xf5Y\\x89u\\xfe\\x14\\xc5X\\xa4k\\xf7\\xe1j\\xcc{\\x9f\\xea\\xffs\\xc9z(,\\xc8d\\xcc3a\\x85\\xd7\\x0f\\xff\\xc7\\x8eG\\xc0V\\x92\\x8b\\x13?\\xdc\\t\\n\\xeb\\xb9\\x02\\x94\\t<\\x95w\\xe5\\xd7\\x8dC?*\\xfe\\r\\x800\\xf6\\xca\\xb2t\\x91a]\\x92\\xb0\\x82t\\xac{\\xb6\\x85G\\x1e\\xc6\\xab\\xf0\\x89\\xb3j@\\xa2d\\x13.w\\x96\\xb0\\x93\\x18\\xd7M\\x02\\xdaJ\\xe8\\x05n\"#\\xf2\\xdaI\\x95\\xc8C\\xdcO\\x13\\xf7SE=\\xe4\\xf8\\xed\\xa4\\x18 \\xacf|h\\x83U@\\xa5\\xb9W\\xa1\\xa9\\xab\\xfcj\\x06V\\xdcFJ\\xf8Z\\x82?\\x18\\x0f.3sXlH\\xfax\\xbd\\xd5\\x87\\xab\\xd0\\xff\\\\fh`Az\\xaeFAa\\xbdQ\\xcc3a-\\xf2\\xab[ \\x1bd\\x96\\xed\\x03=m\\xc2\\x98\\xdbo\\t/|y\\xe7\\xb9j\\xa2Z\\x18\\x84\\xc6,\\xedP\\xff\\x86T\\xe3\\xf9\\x8c/ \\xac\\x8f\\xf8y\\xff\\x9d\\xd0\\xf7A\\xd7}\\x95\\xa7\\xc0\\x7f\\x02\\xda\\xe8\\xcf`\\x94-+m\\xc3\\xbb\\xa7X\\xbb\\xa5X\\xba\\xa5\\xe1\\xdc3-\\xdc\\xb31\\x1e\\xb9f\\x9e\\x05Jg\\x05\\xd6X\\x01g\\x855\\xd9Fl\\xb5\\x8bn\\xb3\\x8f\\xe9\\xb0\\x8f\\xed\"\\xc6m\\'\\xc5\\xef\\x00\\xda\\xa2\\x89\\xfb\\xe8\\x92>\\x86\\xb4\\x9f!\\x05\\x7f{\\xe8\\xa2\\xed\\xd4\\xb8vR\\xf4V\\xdb\\xd0Z\\x9co\\t\\xc6=\\xc7\\xd49\\xc5\\xc8A\\xa4K\\x8fZG\\x0cZ\\x8d\\xf7Za\\xe1\\xb4\\x14\\xc5\\xfc\\xc4\\x80\\x88\\x08K\\xc7\\xec\\x83\\x15Fa1\\x89\\xcf\\xd5\\xa8\\xd9\\x13\\xd6\\x83\\x9f~\\xbb\\xff\\xf0\\x97\\xe7\\n\\xb0\\x8are-^\\xa6\\xb4\\x9f\\x7f\\xf9Cc\\x16\\x98\\xa2\\x98\\xa51\\x1d\\x84b\\xba:\\xafOC^\\x9ey&\\xac\\x19\\x89\\xd9\\x13\\xd6k\\xde\\x84\\x13\\x17\\xaf\\x0f\\\\}\\xe09\\xfap\\xd9.\\xa5\\xa4\\x14\\x9e\\xe2\\x1e\\xffW\\xf3\\xcd\\xdf\\x7fy\\xac,\\xed\\xe4\\xf9+\\x04\\xaf4\\x82W:\\xde#\\xdd\\xd2=\\xddB\\x90\\x8eq\\xcb2s\\xcbA\\x9c\\xe5]b\\xe1[\\x8e\\x0b\\xd8d\\x15T\\x0bR-0\\xd0\\xb3\\x8dh\\xb1\\x8b\\x06\\xd9V\\x071\\xb6\\x8b\\x92\\xb0\\x83&\\xda\\xc1\\x90\\xf4\\xb0\\xa4}lY\\x1fG\\xd6\\xcb\\x96ng&\\xb4\\x91\\xa2\\x1am\\x83\\xab,}\\n\\xcd\\\\3\\x8cy\\x12}\\xa6p\\x03%d\\x8d\\x9d\\x8f\\x8e\\x95\\xdbr\\x0b\\xc7\\xa5\\xa6\\xac\\xc5\\x06\\xa4\\x85\\x1b\\xac?Z\\x8d\\xf9h\\x15\\xea\\xc6\\xcd\\xdb\\x8aj\\xcc\\xb9\\xb0\\xba\\x0e}M\\x95\\xedy\\xae\\x00\\xab(W\\xd6\\xe2eJ;s\\xf5{\\x8dY`\\x8ab\\x96\\xc6t'\n",
      "\n",
      " checkpoint.... 3\n",
      "b'\\x10@\\x10\\x8aY*^\\x9f\\x86\\xbc<PXo\\x84\\xb0>\\x10\\x94\\xfd=i\\xef\\xc2\\xfe\\xa7\\x9ez\\xab\\xf7\\x91\\xe0\\xe4\\xbf:o\\x8f\\xfb\\x8eUET\\xe6f\\xb2\\x7f6\\xd17\\xcb\\xd6;\\xcb\\xda+\\x0b\\xe7\\x91\\x8dq\\xcf6u\\xcb6s\\xcf\\xc3x\\x16Y\\xf8\\x94b\\xfd*,\\x03\\xaa\\xac\\x90\\x11b=>\\xac\\xd1.\\xb2\\x85(l\\xa5\\xc4w\\x81\\x94\\x8a%\\xe9\\xe6\\xc8z\\xb8I}\\xbc\\xc4n\\x8e\\xb8\\x9d\\x1e\\xbb\\x85\\x18Vc\\xe3_\\x82\\xf5\\xc8A;\\'\\x1bq\\x12t\\xa9\\xe1\\xeb\\xec\\xfdu\\xac\\xddW`\\x9d\\xc0xp)\\x8a\\x0e\\x86\\x84\\x0b7\\xda,Xk\\x81\\xc2\\xb3\\x955\\x80\\xc2\\x82\\xc2\\x9a\\x08(\\xac\\xbf\\xb2\\xb0\\xde\\xf7\\xa8\\xfc\\xaf\\xb4\\xe1\\xff\\xd5|[\\xe5\\xa9\\x0fv\\xfe\\xe0{\\xe6\\x17\\xf5+\\xd7&\\xa4\\x7f\\xf8\\x1450\\x87\\x1a\\x94G\\n\\xc8#\\xf8\\xe5\\xe1}\\xf3\\xac|\\xf2\\xd0\\xae\\x99(\\x97\\x0c\\xb4 \\x07\\xe3\\x9eg\\xeeYh\\xe1]\\x8c\\xf5-\\xc3\\xf9WX\\x05n\\xb2\\t\\xa9\\xb3\\x0b\\xdfL\\x16\\xb6\\xd0b\\xb7\\x81\\x94\\nx\\x8a+\\xe9`\\'lc\\x08\\x1b)\\x115\\xf6AeV\\xde\\xb9\\xe6\\xae\\xa9(\\x9e\\xd8\\x80\\x11\\xbd\\x91\\x14\\x0c\\x06\\x83\\xabp.\\xcb1\\xdcOM\\x99K\\x8c(\\x9f\\xe8\\x11\\x80\\xb0>^o\\xb9U\\xedy_PX\\xaa\\xd2\\xa0\\xb0T@a\\xfd\\x05\\x85\\xf5\\x9e_\\xfd\\xdf2\\x0e\\xfe?\\xdb\\xee\\xa9<\\xf5\\xbf7_\\x07\\x19V\\xeb\\x17\\xcf\\xd1\\xb7\\x89\\xbe\\x99\\x8c\\xd0B\\x10\\xd4\\x90\"RP\\x91\\x9d\\x7f!\\xd6=\\x0b\\xe5\\x98\\x82rJ5uIG\\x0b\\x90A\"\\xc63\\xdf\\xdc\\xab\\x10\\xf9\\x8d\\xb4_\\x99u`%!\\xac\\x96\\x18^G\\x89l\\xa0E70\\x84\\x9biQu\\xe4\\xd0JB`\\x89\\x8dO\\x1e\\xce-\\xcd\\xccQb\\xc4\\x8a\\xd6\\xa3\\x84\\xac\\xb3\\xf5\\xd1\\xb1\\x14\\xac\\xc4:\\xab\\t\\xcb~\\x91.~\\xf1F\\x9b\\x1b\\xb7\\xee*7\\x0f\\x85\\x05\\x855\\x11PX\\x7f\\x11a-\"\\xcb\\xde\\rj\\xfa\\xcf\\x9cQuO\\xfd\\x9f\\xbak\\xc0S\\x1f:\\x15*\\xd6z\\xae\\xbe\\xbd\\xfb\\xd0YVx)\\'\\xb2\\x8c\\x1dY\\xc6\\x08/#\\x07\\x95\\xd8x\\xe5`\\xdd3M\\xf8\\x89\\xc6<\\x99\\x89c2\\xcaYn.\\xd7L\\x8c{\\x8e\\x85g\\x1e\\xce\\xbb\\x10\\x8c\\xfb\\xf0\\x01\\xa5\\x84\\xa0r\\xfb\\xe0rrh\\x05)\\xa8\\xd4\\xce/\\xdf\\xc63\\x0b\\'H\\xc58JPl\\xa1\\x015d\\x03\\xc1g\\x8d\\xb5\\x00\\xa4W+\\xcd\\xf9\\xcb\\xcd\\x80\\xb0XK\\x8c\\xa8\\x8b\\xf5\\x89\\x8b\\xf5\\x08G\\x8e\\x9fQn[\\xce\\x0c~./\\xc6\\xcc\\xf6\\xcc\\xabw~\\x00\\x96\\x99\"\\xb47\\xa7*\\r\\xcc\\xd5\\x98\\x05\\xa6(fiL\\x07\\xf1\\xea\\x85\\x05\\xa6\\xa8Z1a\\x80\\xb6+W~i\\xa0\\xb0\\xe6\\xb7\\xb0\\x1e\\xfc\\xfeg\\xed\\xd7\\xbfQ\\x0f<\\xfc\\x9f\\xed\\xdf\\xa9{\\xea\\xbf\\x13\\xfa>\\xe2\\xe7i\\xac\\xf5\\xbc};\\xae\\xb0\\x83\\'\\xdc\\xc4\\x8f\\xad\\xe2\\n\\xab\\x18a\\xa5\\x94\\xa0\"{\\x90g\\xb9e\\x18;H\\x0c9\"#\\xae\\xc4\\x98\\'\\x05\\xfe2uJ1sI\\xc5\\x082p\\x1eY\\x96\\x9e\\xd9\\xd6\\xde\\xb96>\\xb9\\xb6\\xbe\\xb9x\\xefl+\\xf7T\\xac\\xb3\\xcc\\x8c\\x97`\\xc2\\x8a6\\xa0\\x84l$\\xf8\\xac\\xb3q[m\\xe9\\xb2\\n\\xcb_\\x89\\xe1-7\\xe5,C1\\x96\\x18\\xd1\\x96\\x18\\x92\\x9d\\xfc\\x12\\x94[}\\xc2\\x9c\\x0b\\xebe\\x14\\xf3\\x02\\x80\\x02\\'+M{VY\\xcf\\xe7`\\xaev\\x05@h\\x0bK\\xd1\\x10\\xb0\\x8a\\xc6\\x92\\x8aVhL\\x04\\x8b\\x81\\x89S(F{\\xa3`y\\xe5\\xbc\\xd9\\x07\\nk^\\nk\\xe0\\xe4U\\xe0)\\xda\\xe8\\xcf*I\\x81\\xf8\\x7f\\xab\\xbf\\xf8Gt\\xe7\\x02N\\x96\\xc6\\xc2\\xaax\\xde\\xbe}\\xe6\\xf3\\x1b\\xec\\xe8\\x1a\\x17Q\\x9dKB\\xadc\\\\\\xb5\\x83p\\x133\\xa2\\xd2\\xde?\\x1f\\xeb\\x9ab\\xc2\\x15\\xeb3b\\x0cX\\xb1F\\xecxcN\\x02x\\x8b\\xe2K\\xcd\\x9c\\x121\\xceI\\x16.\\xc9X\\xd7d\\x9c \\t\\xe7\"\\xb3p\\x14\\xa19B\\x13F\\xb8\\x019\\x08\\xd8j=\\xdec\\xad\\xb5\\xdbZK\\x17\\x1d\\xac\\xd3* ,4\\x10\\x16\\xf3Sc\\xfa\\n4\\xfb\\xe6\\xed\\xfb\\xca\\xad>a\\xce\\x85\\xf5L\\xb4{\\xfb\\x14\\xc2\\x9aP.S\\x87\\xaa4\\xed\\rM\\x11\\xda\\xc2R\\xa0]\\x01\\xc5t\\x8d\\x89S4A\\x81v9*{N\\x16G/}\\xa3\\\\\\xf9\\xa5\\x81\\xc2\\x9aO\\xc2\\xfa\\x98\\x99\\xfevD\\xdb\\x7f\\x94\\x9eU\\xf7\\x14\\xf6\\xc0Oi\\x9f=\\x9c\\xc2S\\xaax\\x81\\xbe=x\\xf4\\xb2\\xab\\xa4\\xd93\\xb1\\xd93i\\x8b\\x9b\\xb4\\xd1Y\\xd4\\xc0\\x0c/\\'\\x06\\xe4\\xdbxec\\x9cd\\x86\\x8ch}j\\x84\\x01=\\xd2\\x90\\x11e\\xc4\\x12\\x9apbP\\x9cXS\\x87847\\xce\\x8c\\x1b\\x0bTe\\xca\\x8a0\\xa2\\x06\\xeb\\x93\\xfcu\\xed\\x80\\xad<\\xd7\\xd9\\xb8+\\x84\\xb5\\x1a\\xe7\\xbc\\xca\\x9c\\xbf\\xc2\\xcca\\x05\\x9a\\xb3\\x1a\\xe7t\\xec\\xccE\\xe5\\xf6\\xd4\\x80\\xc2R\\x95\\xf6\\x9a\\x0b\\xeb\\x99\\xf1\\xcc2\\xa7\\x0f\\x14\\xd6<\\x10\\x16\\x90\\x11H\\x9d\\xfe\\xbf\\xca\\x8b\\xea\\x9e\\x02\\xe9U\\xd9\\xb5\\xdf\\xee\\xfc\\xfa\\'\\xd8\\xee\\xac\\xf6\\xed}\\'\\xbetO\\xe9\\xf4K\\xef\\xf2\\xcfh\\xf7Iiu\\x15m\\xe6\\xc6T3#*\\x88\\xfe\\xf9\\x96\\x82\\x144Wd\\xc4\\x88\\xd2\\xa3\\x86\\xeaQB\\xf4\\xa9!\\x06\\xb4P#e\\x84\\x18\\xd1\\x82\\x8c(\\xfe\\x06$?}R\\x80>)P\\x97\\xe0\\xbb\\x1e\\xef\\xb5\\x168\\xcb\\xd2\\x15\\x08K\\xc7\\xc2q5\\xd6\\x19X\\xec\\xd8\\x99K\\xca-\\x8dgV\\x1b5\\x1df\\xb6g\\xbeLiPX*\\xa0\\xb0^_a}\\xc4\\xcf{+n\\x07\\x18\\xe8\\xa9$\\xf5?\\xdb\\xbf\\xfb\\xbf\\xf9\\xc7\\xdf\\tm\\x01CB\\xe5&\\xe5\\xccv\\xdf\\x1e:q\\xcd\\'\\xab/$\\xb7?4\\xaf\\' \\xb3\\xc3+\\xa5U m\\xe1\\xc6\\xd4\\xd2\\x82K\\xec}s\\xad\\xdd\\xd3,\\x9c\\xa5\\xa6\\x0e\\xb1\\xa6\\x1c!\\x8a\\x15e\\xcc\\x880\\xa2G\\x80\\xbf(V$\\x9a\\x1daL\\x0f5\\xa6\\x87\\x81\\xd0\\'\\x07\\x01gm\\xb0\\xf5Zg\\x83\\x0c\\x0c7\\xd8y\\x01\\x8bu\\xef9\\xaa\\xdc\\x86\\x16\\xb3\\xdd\\xa8g2\\xb3=\\xf3eJ\\x83\\xc2R1+\\xc2\\xba\\xf7\\xdd\\x8fg\\xae\\xdc\\xd9u\\xf4\\x0b\\x10\\r\\xbd\\'\\x1az\\x8f\\xef:|\\xe9\\xf4\\xa5\\x9bw\\xbf\\xfd\\xe1\\xee\\xb7\\x8f\\x94\\x0biq\\xe1\\xcb;\\x96\\x85C\\x0bd\\x83\\x0b\\x93\\x07\\xa5M#\\xaa\\x9f\\xa1\\xccx\\xbc\\xd8\\xefZ\\xa6\\xd31\\xd4\\x7f\\x9a\\xf3\\xc2!j?N\\xee\\xb8\\xac\\xfe\\xa3\\x99\\xff\\xd3\\xf5\\xc0\\xb0\\xeb\\xbaW\\xc7\\xd9\\x92\\x8eC\\x8aef\\xaf\\t\\x93\\xb1\\xef\\xd4\\xd7~\\xf9{\"\\x8a\\x87\"\\x8b\\x07\\xc3\\x0b\\x07\\x82r\\xfb\\xbcS;\\\\\\xc4[\\x80\\xb6@\\xb6E\\t* \\xf8d\\xe1=\\xd3l\\xdcS\\xac\\x04\\x89\\x16N\\x12\\x108g)\\xceId\\xe6 D;\\xc4\\x98\\xb2\\xa3\\x8d\\xe9\\xe1\\x88\\xb3\\xec\\xfdt\\x89\\xfe \\x05Cs\\xe3{\\xf7\\x9dT\\x96>\\x11\\xaf\\xa0QS3\\xb3=\\xf3eJ\\x83\\xc2R1\\x93\\xc2j\\x1a8+,\\xdb\\xeb\\x9a\\xd6k+l\\xb3\\x15v\\x80\\xc0G\\xb7\\xe3\\xa3\\xdal\"\\xb6Z\\x856Y\\x06\\xd7\\xe3\\x02\\xab\\xb1\\xfe\\xe5\\xe6>\\x855\\xdb\\x8fTw\\x0c\\xdf\\xf9\\xe6\\xa1rM9\\x82\\x93\\xff\\x02\\x9d\\xf3\\xad\\xdeG\\xa7\\x1e\\xfe[9\\xe9\\x950\\xe7\\x1dC\\x01hu\\xe8\\xd9_\\x16\\xef\\xfaA\\xe5\\xa9\\xa9/FW\\xe7\\xd54\\xe1\\xdc\\xb5\\xefb6\\x1d\\x89(?\\x1cSq(\\xa6r$\\xa2doPn\\xbfO\\xc6v\\xb7\\xa4mN\\xa2\\xcd\\x0e15\\xcc\\x88rzh\\t5\\xb8\\x90\\xe8\\x97c\\xeb\\x9de\\xe7\\x93e\\xeb\\x99\\x86s\\x91Z8\\x8a1\\xbcx\\xe0,\\x13f\\x14\\xc8\\xc2,\\x9ce\\xa1\\x99\\xcdS\\xfc\\xebR0\\xe7\\x9f\\xcb\\xcc\\xf6L\\xed\\xd2\\x80\\x86\\x94\\xf3\\x9e\\xc5K\\n\\x0b~K8\\x8e\\xc1\\xe3\\xd7\\x80\\xa4\\xecb;\\xec\\x13\\xfa\\x88\\xe2]$\\xc9n\\x92d\\x90$\\xdd\\x83\\xbc\\x10\\xef\"\\x8av\\xda\\'\\xf4\\x12\\xe2\\xba\\xedb:m\\xa3Zm\"Z\\xacB6c\\x03\\xaa1\\xde\\xa5\\xa6n\\xd9\\xf4\\xd0\\xe2\\xaa\\xb6\\xa1\\xdb\\xf7\\xbfW\\xdd>t\\xe8\\x9bg\\\\\\x84=\\xe3\\xccm\\xc7\\x00\\xed\\xf5=3\\xceS\\xd3\\xbc\\x18]\\x9dW\\xd9\\x84\\x8e\\x03_I\\x9bN\\xc7\\xd6\\x9c\\x8c\\xaf9\\x11\\xbb\\xe9HT\\xc5ph\\xd1`@N\\xafwz\\x97[R\\xab\\xb3x\\x8bc|\\x83\\x83\\xb0\\x86\\x11^F\\x0b+%\\x05\\xe6\\xdbzgX\\xb9\\xa5X\\xbb%[\\xbb\\xa7\\xe3}r\\xf1\\x01E\\xf5=\\x93\\x0e\\x03\\xd5\\x99\\xdb\\xcf\\x050\\xdb\\xc2\\x02S\\x14\\xca\\x98,T\\xd6\\x00\\xaf5\\xd6\\x1d>{\\x17\\x88\\t\\x84\\xc6t\\x10'\n",
      "\n",
      " checkpoint.... 4\n",
      "b'\\xda\\xc2z}\\x1a\\xf2\\xf2\\xbc\\x94\\xb0\\x9av_\\x10d\\xee\\xb6\\x8f\\xef%\\x8a\\x07\\xc8\\xa0\\xea\\xc9\\xfbi\\xa9\\x07h)#H$\\x8f\\xd0\\x92\\x86\\xa9\\x89\\xfb@{(\\xd2\\xddd\\xf1N\\x92\\xa8\\x8f\\x18\\xb7\\xc3>v\\xbb\\x1dH\\xbb\\xc2Z,\\x83\\x1b,\\xfc\\xaa\\xcc<KP\\xae\\xd9\\x86\\x0e\\x92\\x8fd\\xdd\\xff\\xb5\\xe5\\xeb\\xe7\\xea\\xa53\\xc5\\x9ct\\x0c\\x907\\x01+\\x017\\xa9<\\x05\\x9c\\x052\\xac\\x17\\xf3\\xf5\\xaboB\\xef\\xb1\\xdb\\xb2-\\xe7\\x845gbkO\\xc7V\\x1f\\x8f\\xae:\\x1c^>\\x1cR\\xb4\\' w\\xa7O\\xc6\\x0e\\xf7\\x94\\x0egI\\x0b/\\xbe\\x81\\x15UC\\x0b\\xab\\xa2\\x85V\\xd1\"j\\xe2K\\xfbw\\x8d^\\xbe\\xf7\\xdd\\x8f\\xca\"\\x9e\\xc5\\x9c|.\\xea\\x1c\\xbd\\xf4\\r\\xe8\\x8aS\\x84v\\xce\\x02&*W\\xd6\\x02\\xcc\\xd2X\\xf8\\x99\\xa1*\\r\\xf4y\\x8dY`\\x8ab\\x96\\xc6t\\x10\\xaf^X\\xcf\\x8c)J{^^PX\\x8d\\x03\\x9f\\xb9f \\xa9\\x13Y\\xb6\\x9b\\x9a\\xb4\\x9f\\x96r\\x80\\x9ev\\x88\\x91~\\x98\\x991\\x8aD\\xfa\\x11f\\xfaaF\\xeaaF\\xcaAz\\xf2\\x08\\x1d, \\xdb\\xab\\xd0\\x96\\xe2\\x91\\x04\\x88\\xb3\\xc2[\\xacC\\x1aq\\x01\\xb5\\xe6 \\xd5\\x02\\xce\\xe2&\\xea\\xd2\\xa3\\xca\\xb7\\xf4\\xdf\\xbe\\xfb\\xadr\\x1b\\xaf\\x8aW\\xd61~y\\x8cx\\n\\x8c\\xf2\\xc0XO\\xe5\\xa9U{~\\x04\\x9ez\\xc9Q\\xf0\\\\\\xf5\\xed\\xfb\\x8f~\\xed=~W\\xba\\xe5Bh\\xf5\\x99\\x88\\xea\\xd3\\x11\\xd5\\'\\xc3*\\x8f\\x05\\x95\\x1d\\xf2/\\x1e\\xf6\\xce\\xdb\\xeb\\x9e9\\xe0\\x94\\xd2\\x9bX\\x7f\\xa0\\xb8\\xed\\xf8\\xfd\\x07?)\\xd7\\x996s\\xd5\\xa8\\xe9\\xa3\\xed\\x91Y\\xea\\xe7PX*\\x9e[Xg\\xae\\xdcuI\\xeb\\x01C<\\x92d\\x80\\x9a4DO=\\x08<\\xc5\\x00\\x92\\xca<\\xc6\\xca:\\xce\\xce>\\xa1\\x0c\\xf0\\x1aLI\\x1fe\\xa5\\x01s)\\xb4\\xb5O\\xa1-\\x92\\xa8_\\xe1,\\x9bpdx\\x88\\xf3\\xaf\\xc6x\\x01g\\xe5\\x18q\\x93\\xf4\\x18\\xb1vn\\xe2[\\xaf\\xd6Y\\xb3\\xdd1\\x80\\xa7\\x9ao\\xfe\\xce=\\xfe/\\xc5\\xad\\x07U\\x9e\\x02\\xa3\\xe0\\x8b?>\\xb9\\xa5\\xcb\\xcb\\xf1:\\xf4m \\xaf\\x8b7~\\x18>w\\xff\\xe0\\xf9\\xfb\\xc3\\xe7\\xee\\r}v\\xf7\\xc2\\xd7\\x0f\\xb4;\\xcf\\xf4y\\x1d\\x1a55PX\\xd3\\x8c)J{^\\x9eOX\\x8d;\\xcf\\xd8\\t\\xdb\\x89\\xa2>\\x8al\\x0f\\x18\\xf41R\\x0f\\x81|J\\xee\\xa9\\x93\\xec\\x9cS\\x9c\\xdc3\\x0eyg\\xb8 \\xc0\\x8b\\x9c\\xd3\\x1c01\\xf38;\\xe3(\\x0b$\\\\\\xc0k\\xaaTK\\xb2\\x8b\\x94\\xd0G\\x88\\xed\\xb6E\\x9c\\xd5l\\x89<I\\xa5\\x12\\xe3Yd\\xea\\x828K\\x97&\\\\k\\xebS\\\\\\xd7\\xae\\xdc\\xe4\\xec3K\\x1dC\\xf1\\xa3\\x19\\xda\\xe8\\xcf\\xea\\x9e\\xda8\\xf4c\\xde\\x95_\\xaf\\xfd<3\\x9eR\\xf1\\xfa\\xf7\\xed\\x17\\xe0\\xf5o\\x14\\x14\\xd64c\\x8a\\xd2\\x9e\\x97\\xe7\\x10V\\xce\\x96\\x83\\xc8#\\xcbE\\xfd\\xb4\\xc4}\\xf4\\xe4\\x03\\x8c\\xb4#\\xac\\x8cc\\xec\\xac\\x93\\x9c\\x1c\\xe0\\xa9\\xcf\\xb8yg\\xb9\\xf9gy\\x05\\xe7\\xf8H\\x9c\\xe5\\xe5\\x7f\\x86h+\\xfb$\\'\\xeb\\x04\\xe2,\\xb5<\\x8b\"\\x1d\\x04cC\\xfb\\xf8\\x1eBL\\x17>\\xaa\\xd5:\\xac\\t\\x17Xc\\xeeS\\xa6x\\xfa\\x93![\\xba\\x81\\x12\\xb1\\xda\\xc6+.\\xad\\\\\\xb9\\xe1Yff;\\xc6\\x9d_\\xff,\\xbb\\xa6\\xf9\\xa3\\x19\\xec\\x81\\x9f\\xc0\\xc4\\x19\\xf7\\x94\\x8a\\xd7\\xbfo\\xbf\\x00\\xaf\\x7f\\xa3\\xb4o\\x04:K7\\xea|Ia\\xcd\\xec=Bg\\xb6\\xb4\\xe7e\\xba\\xc2r\\x92nCl\\x15\\xdfO\\x95\\r\\xd1S\\x0e2\\xd3F\\x11[\\x01\\x1f\\xe5\\x82\\x94\\n\\xe8\\xe9<\\xbf\\xe0<\\xbf\\xf0\\x82c\\xd1\\x05\\xa7\\xa2\\x8bNE\\x17\\x1c\\x0b\\xcf\\xf3\\xf2\\xcf\\xf1\\xc0\\\\\\x90y\\xa9\\x9c\\x85\\x9c\\xd2\\x1a\\x06\\xfb\\x94,\\x1e@\\xbe:\\x8c\\xddn\\x1b\\xdd\\x86<\\xae.\\xa4\\x01\\xe7_e\\xeeU\\x8c<_\\x93\\x9f\\xac\\xc7\\x8c_O\\x0c\\xd1\\xb1rw\\x0c\\x10+7?\\x9b\\xccH\\xc7P<\\xc1\\x01\\x88I\\xddS\\xea\\x17\\xa3\\xcf*\\xaf\\x7f\\xdf~\\x01\\xfe\\x92\\x8dz1^RX\\x7f%\\xa6%,\\'i\\xab]T\\x1b1\\xae\\x97\"\\xddCK\\x1af\\xa4\\x1df\\x81\\xb1\\x9e\\xcaV\\x05\\xe7\\x1d\\x0b/:\\x16}\\xeeT|\\xc9\\xb9\\xe4\\x92k\\xe9e\\xb7\\xf2+ \\x04e_ \\xe6\\x02\\xd9V\\xeei\\x87l\\xa5\\xb3\\xe8)\\x07@\\x82F\\x96\\xec&\\x8a\\xfa\\tq;\\x903Y\\x11-\\xd6\\xa1\\x9b\\x91\\'\\xd6\\xf9\\x94\\xa1\\xdd\\x91\\'\\x98\\x1b8\\x88u\\xe9\\xd1k\\xec\\xfcW`\\x9c\\xb8\\xde1\\xcaJ\\xcc\\x1a/\\xd31\\xb4\\x9f\\xe0\\xa0\\xba3:\\x18\\x12*\\x17\\x9a}\\xfe\\x92}{\\xae\\x1a\\xa5\\x9d7\\xbd@\\xa8\\xee\\xb9>#\\xbc\\x98\\xb0f\\xb6!\\xaf\\xc9ny\\xb6\\xb0\\xc2\\xf2\\xbbm#Z\\x88\\xb1;(\\xe2\\xddT0\\x18\\x04\\xe9U\\xc6(;\\xfb\\x04b+d\\x0c\\x88\\xd8\\n\\xa8\\xca\\xa5\\xf4\\x8a[\\xc5U\\xcf\\xaa\\xaf\\xbck\\xae\\xfb\\xd5\\xdf\\xf2\\xaf\\xbf\\xe5[{\\xc3\\xa3\\xf2K\\xb7\\xb2K.E\\xe7\\xf9y\\xa7y9\\'\\x1c\\xb2\\x8e1S\\x0f\\xd2\\x92\\xf6\\x83Q!I\\xb4\\x13\\x11\\x96\\xb0\\x03\\x1f\\xb9\\xd5:\\x14y\\xc4&\\xd6\\xb7\\x02\\xe3Y\\x84r\\xcd4\\xe4%\\xea1c\\xd7\\x93\\x90$k\\xa9\\t3R\\x94\\xa9\\xac\\xca\\xec\\xf0\\x02\\x1d\\xe3\\xe2\\x8f\\x8f%\\x17\\x7fY\\xb5g\\x9c\\xa74\\xee\\x8c\\xfe*\\x99\\xab\\xbe=\\xab\\xccU\\xa3\\xb4\\xed\\xf0\\x02\\xa1\\x12\\xca\\x8c\\xf0b\\xc2\\x9a\\xd9\\x86\\xccli/\\xcc3\\x84\\x95Q\\xb7\\xdb:\\xa4\\x81 \\xec\\x04~\\xa1J\\xf7\\xd2\\x93G\\x98Hzu\\x8c\\x93s\\xd2!\\xef\\x0cr\\xc6\\xaa\\xf0\\x02\\xb0\\x95\\xa0\\xfcK\\xef\\xea\\xeb\\xfe\\xf5\\xb7\\x03\\x1b\\xef\\x864\\xdf\\x0f\\xdf\\xfa}\\xc4\\xb6\\xefC\\x9b\\xef\\xfb7\\xdc\\xf4\\xdet\\xd5\\xa3\\xfc\\xb2k\\xf1y\\xa7\\xfc\\xd3\\xfc\\xdc\\x13\\xec\\xf4\\xc3\\xf4\\xe4\\xfd4\\xc5\\xa80\\xbe\\xc7.\\xa6\\x13\\x1f\\xb9\\xcd:\\xac\\xc92\\xb0V!,SA\\x8e\\x91c\\x8a\\x1e;a=%|5\\xdeg9\\x86\\xff\\x89\\x1e!,.YY\\xa1Y`\\xfa\\x1d\\xe3\\xd4\\xc3\\x7f\\xc7\\\\\\xf8U\\xddS\\xd3\\xbf\\x18}V\\x99\\xab\\xbe=\\xab\\xccU\\xa3^\\x93\\x9e\\xa9\\x8ev\\x95T\\xe5kL\\x07\\xf1\\xe6\\n\\xeb\\xf4\\xa5\\x1b|\\xe96\\xdb\\x88\\xad\\xf6q;\\xc8\\xe2]`(\\xc7H=\\xc8J\\x1feg\\x9dp\\xc89\\xc5\\xcd\\xfb\\x8c_x\\x1e\\x8c\\x01\\xdd+\\xaf\\xfa\\xd4\\xde\\x0cj\\xbc\\x07<\\x15\\xd9\\xf6P\\xd8\\xf9c\\xdc\\xf6\\x7f%\\xec\\xf8%\\xa6\\xf3\\x87\\x88m\\xdf\\x06m\\xbe\\xe5Ws\\xcd\\xb3\\xe2\\xb2\\xa0\\xf8\\xbcs\\xc1i\\x87\\xccQf\\xca\\x08=q/E2@J\\xe8!\\xc4v!\\x97\\xbf\\x03a\\x05\\xd5b\\xfd*1^\\xc5\\xa6n\\xb9\\xc6`T\\xc8\\x11o\\xa4F\\xae\\xb5\\xf3_\\x89s]b\\xccX\\xb0\\xd6\\xe2\\xe0\\xe8qe\\xb5f\\x9agv\\x0c\\xed\\'8\\xbc\\xc0\\xc5\\xe8\\xb3\\n\\x14\\xd6\\x0c\\xf2\\x9a\\xf4Lu\\xb4\\xab\\xa4*_c:\\x887WX\\xbc\\x84F0X\\xb3\\x8b\\xee \\xc6\\xf7R$\\xbb\\xc1P\\x0e\\x0c\\xe8X\\x19\\xa3\\x1c\\xb9\\xb0x\\xf9\\x9f9\\x17_\\xf4\\xa8\\xbc\\xeaWw3d\\xcb}\\xa0\\xaa\\xb8\\xed?\\x8bz\\x7f\\x95\\xf4\\xff\\x91\\xb8\\xebq\\xf2\\xe0c\\xd9\\xc0\\x1fq\\xdd?F\\xb6~\\x1b\\xbc\\xf9\\x96\\x7f\\xcd5\\xaf\\xca\\xcb\\xaeE\\x9f\\xf1s\\x8e\\xb1\\xd3\\x0e0\\x92\\xf6\\xca\\x1fe\\xdek\\x8f\\x08\\xab\\xcd&l\\x8beP\\x9dBXh\\xb7<\\x13\\xe7\\x0cC\\x07\\xa9.-z\\x9d}\\x90\\x8e\\x95\\xc724w\\xe1F<\\xcd\\xd1WY\\xad\\x99f\\xb2\\x8e\\xa1\\xfd\\x04\\x87\\x97\\xb9\\x18}V\\x81\\xc2\\x9aA^\\x93\\x9e\\xa9\\x8ev\\x95T\\xe5kL\\x07\\xf1\\x86\\n+8}\\x8be\\xc0&|D\\x0b!f;)\\xa1\\x9f\"\\x1d\\xa4\\'\\xedG2\\xac\\'\\xc2r*<\\xef^q\\xc5\\xb7\\xf6zp\\xd3\\xbd\\xc8\\xd6\\x07\\xc0V\\xd2\\x9d\\x7f\\xa4\\xec\\xf93}h,sx,\\xfb\\xc0X\\xd6\\xf0X\\xd2\\xae?\\xe2\\xbb\\x7f\\x8c\\xda\\xf6mH\\xe3\\xad\\x80\\xdak\\x1ee \\xc9:\\xc9\\xcd<\\xc4L\\xd9G\\x93\\xed&\\x8b\\xfa\\xec\\xe3\\xb6\\xdb)\\xbe(\\x0c\\xaa\\xc7\\xf9U\\x99{\\x97\\x9a\\xb9\\xe7\\xa3\\\\2\\r\\xb92=z\\xcc:b\\x88\\x8e\\xb5\\xd7r\\x8c\\xe3\\'\\xfa\\xa4\\xf7W\\xa22s\\x8a\\x94\\x95\\x9bQ4:\\x86\\xf6\\x13\\x1c\\x14wF\\x1f\\xb8\\xfa\\xfa\\xf6v(\\xac\\x19\\xe45\\xe9\\x99\\xeahWIU\\xbe\\xc6t\\x10o\\xa8\\xb0\\x1cb\\xeb\\xc00\\r\\x1f\\xb9\\x8d\\x10\\xbb\\x9d$\\xda)\\xff~\\xf0\\xa9\\xb0\\xf8\\xf9g\\x04\\xa5\\x9f\\xfbT_\\x0bl\\xbc\\x13\\xbe\\xed\\xbb\\xd8\\xed?\\x81\\xc4*u\\xef\\x9f\\xc0S'\n",
      "\n",
      " checkpoint.... 5\n",
      "b'\\xf9\\x87\\xc7\\n\\x8f\\x8e\\x15\\x1fG\"{\\xe4\\xcf\\xc4\\x81\\xdf\\xe3\\xb7\\xff\\x10\\xb5\\xed\\x9b\\xd0\\xa6[\\xde\\x95\\x97\\x04Eg\\x1cs\\x8fr\\xd2\\x91$\\x8b\"\\xee\\'\\xc6=\\xb9\\xe4=\\xb8\\x01\\xe7_m\\xe1S\\x86\\xf1(4u\\xcd2\\xe2%\\xe91\\xe2\\xd6\\x93\\xc2\\xd6\\xd8\\xfa\\xae\\xb4p^bD\\xfbp\\x8d\\xc5\\xdb\\x0bW]\\xbf~CY\\xbf\\x99\\x03\\x1c\\xf1\\x93=\\xc1A\\xfd\\xce\\xe8\\xafso\\x9f\\xab\\xbe=\\xab\\xccU\\xa3^\\x93\\x9e\\xa9\\x8ev\\x95T\\xe5kL\\x07\\xf1&\\n+(\\xb5\\xd1\\xc2\\xa7\\x14H\\x04\\x11\\x16\\xc8\\xb0D\\xfd\\x14\\xd9\\xa0\\\\X\\x07X\\xe9\\x87\\x1d\\xb2\\x8f;\\x15|\\xe6V\\x86\\x08+\\xb8\\xf1vd\\xeb\\xf7\\t=\\xbf\\x80\\xdc\\n\\xd8\\xaa\\xe8\\xe8X\\xf9\\xa9\\xb1\\xca\\xcf\\xc6\\xaa\\xcf\\x8d\\xd5\\\\\\x18+9>\\x96\\xb1_\\xe1\\xacGQ\\xdb\\xee\\xfb\\xd5~\\xe9Qv\\xce\\xa5\\xe0$?\\xeb\\x08+e\\x1fE\\xb2\\x93\\x18\\xbf\\x83 \\xec\\xc0Gl\\xb5\\x0ei\\x1cw\\xde\\x9d\\x9fl\\xc0J\\xd8H\\x89XG\\xf0_\\x85\\x13,E1\\x17\\xac\\xb7yg\\x89\\xae=\\xf5\\xe9\\x836_\\x9e\\x07\\xbf\\xff\\xd9|\\xf3w\\x8d\\'8Lvgt(\\xacW\\xcc_\\xb2Q/\\x86\\xb6,T=_c:\\x08\\x95\\xb0\\xfe\\x92L \\xac;\\xf7\\x1fp\\xa27a}\\xcb\\xadB\\x14\\xc2\\xea\"%\\xf4\\x91%\\xbbh\\x89C\\x8c\\x94\\x11V\\xc6a^\\xee\\t\\x97\\xa2\\xb3\\x1e\\x15\\x97}k\\xbe\\x02\\xc2\\x12\\xb6?\\x90\\xf6\\xff\\x96\\xb1\\xef\\xcf\\x82\\xd1\\xb1\\x8a\\xd3c\\xb5\\x17\\xc6\\x1a.\\x8f5]\\x19k\\xbe:Vs~\\x0cLL\\x1fz,\\xeb\\xff%\\xb6\\xf3\\xfb\\xe0\\xcd\\xd7\\xbd+?w+>\\xc3\\xcf\\x19\\x05\\xa3B\\x8aT~\\xde]\\xfeE\\xa1M\\xe8\\x16\\xe5\\xa8\\xd0\\xab\\x049\\x8d\\xe5\\x98j\\xc8\\x11\\xeb\\xd2\\xa2\\x90\\xd3X\\xd6\\x1e\\x9f\\xa29\\x0bu\\xed\\xde[n\\xf4\\xf7\\x7f.V\\xd6\\xf2%P\\xfdhF%)\\x10\\xffQz\\xf6\\xed\\x88\\xb6\\x19|\\x82\\xc3\\xab\\x04\\n\\xeb\\xaf\\rp\\x100\\x94z\\xa8\\xa7Q\\x1a1\\xb3\\x97\\x80\\xbdnL \\xac\\xc0\\xe4zs\\x8f|\\xac_\\xa5U\\xc8f\\x90\\xfb\\x00\\xa1\\x10\\xe3{\\xc8\\xe2\\x9d@\\xde\\xf4\\xe4\\xfd\\xac\\xf4C\\xbc\\x9c\\xe3.E\\x9fy\\x94\\x7f\\xee[}5\\xa4\\xe9vl\\xe7\\xa3\\xc4\\x81?\\xb2G\\xc6JN\\x8cU\\x9fGT\\xb5\\xf5\\xeb\\xb1m_#\\xc2\\xaa>;\\x96\\x7f\\x04\\x08\\xebO\\x85\\xb0B\\x9an\\xfaT_\\x16\\x14\\x9f\\xe1f\\x1fa\\xa6\\xec\\xa7\\xcav#?*\\x8c\\xe9\\xb2\\x8bBNcY#\\xa3\\xc2M\\xf2\\xd3Xy(\\xe7tC\\x07\\xa9\\x1eC\\xb8\\x9e\\x14\\xb2\\x1a\\xef\\xb5\\x1c\\xc3\\xfd\\xc4\\x80\\xf8\\xfe*\\xf4\\x7f\\x7f\\xb4\"5=KY\\xd1\\xe7D\\xf1\\xa3\\x19\\xed\\x8b\\xd1\\xd3>{\\xf813]\\xa3\\x1bh\\x07\\x14\\xd6+\\x06\\n\\x0b\\xa2\\xcd\\x04\\xc2b\\x87\\x15#\\xc2\\xf2\\xaf\\xb2\\n\\xa9GN\\xba\\x0b;\\xec\\xe3\\xbaI\\xa2>\\nH\\xb2\\x92\\x86\\x98i\\x07\\x1c\\xb2\\x8e:\\xe5\\x9fv+9\\xef\\xb3\\xe9\\xcb\\xd0-wb\\xbb\\x1e%\\xed\\xfaw\\xceAd0X\\x7f\\t\\x11\\x16\\x88\\xcd\\x97\\xc7\\xea.\\x8eU\\x9c\\x1a\\xcb\\x19\\x19K\\xde\\xfd\\x87\\xb8\\xe7\\xa7\\xa8\\xd6\\xfb\\x81\\r_yU~\\xeeRx\\x9a\\x9b=\\xcaL\\x1d\\xa6\\xc9\\x06U\\xc2\\x02\\x1b\\xb2\\x96\\xdf\\xb9\\xc1\\xdc\\xbbLq\\xde\\xddH~\\xf9\\xe8FJ\\xd8\\x1a;\\x9f\\x15\\x16\\x8e\\x8b\\r)\\x1f\\xae\\xc1\\xfec\\xe1\\x1a;2CY\\xd1\\xe9\\xa1\\xb8\\x18\\xddd\\xf8\\xa9\\xa74.F\\xff\\x0bt\\x8c\\xbfd\\xdf\\xfeK6\\n\\xf2\\x92h\\n\\xeb\\xf6\\xfd\\x07h\\xe7Ts\\xcf|\\xaco\\x85UP\\x1d>\\xbc\\xd9.\\xba\\x8d\\x10\\xdb\\xa5H\\xb2h\\xb2=\\xcc\\x94\\x11N\\xe6\\x11\\xc7\\xdc\\x13\\x82\\xa2\\xb3\\xbe\\x9b\\xae\\x845\\xdf\\x89\\xeb\\xfaA!\\xac\\xb2ScU\\xf2\\xb3W 6\\x9dE\\x86\\x87\\xc5\\xc7\\xc62\\x90\\xf1\\xe0\\xafq]\\x8f\\xc0\\x92~5_\\xba\\x97\\x9dw\\xca;\\xe1\\x90y\\x04\\x08\\x8b\\n\\x84%B~QH\\x88n\\x97\\x9f\\xc6\\xda\\x8c\\x0b\\xa8\\xb1\\xf0)3\\xf3(0u\\xc9\\x92\\x9f\\xc6\\x8a\\xdfH\\t_k\\xe7\\xb7\\x12\\xe7\\xb2\\xc4\\x98\\xb6`\\xbd\\xd5;Kt\\xff\\xf3\\xed\\x05###\\xca\\xeaN\\xce\\xc5\\x1f\\x1f\\xa7]\\xd6\\xfc\\xd1\\xcc\\x84\\x17\\xa3\\xff\\x05:\\xc6_\\xb2o\\xff%\\x1b\\x05yI4\\x85\\xd5\\xbb\\xef\\x94\\x99s*\\xc6=\\x0f\\x88\\xc32\\xb0\\xc6&\\xb4\\x11\\x1f\\xb9\\xd5N\\xd8n\\x1f\\xdb\\r\\xb2!\\xaat\\x90\\x91\\xbc\\x9f\\x8d\\x8c\\n\\x8f\\xb9\\x14\\x9e\\xf1,\\xff<\\xa8\\xe1FL\\xfb\\xf7\\x89;\\x7f\\xcb\\x1a\\x19\\xcb;<Vpd\\xac\\xf8(r\\xae\\xbd\\xe4\\xd8X\\xd1\\xe8X\\xfe\\xa1\\xb1\\xe4]\\xbf\\x8bv\\xfc\\x14\\xdd\\xf6]\\xf0\\xe6\\x1b\\xdeU\\xcaK\\xb18\\x19\\x87\\x18)\\xfb)`H\\x88\\\\\\x8a%\\xbf\\x07)\\x92a5Z\"\\xc2*7\\xf3(\\x04\\xc22\\xe6\\xa7\\x18\\xb0\\x136R#\\xd6\\x11\\x02VY\\xba}\\x8ab.\\xdc\\x88\\xff\\xe72\\xe3\\xbf\\xbd\\xb7$9-CY]-\\xb4\\x7f4\\xf3\\x9a\\\\\\x8c\\x0e\\x81@^\\x1eMa\\x05&\\xd5\\xa0\\x9dS\\xcc\\xdcr\\xcc\\xbdKp`T\\x18\\xdc`\\x13\\xb6\\xc56r\\x1bA\\x08\\x92\\xac^0*\\xa4\\'\\r\\xb1\\xd2\\x0ep\\xb3\\x8f:\\x17\\x9cr/=\\xefW\\xfdeD\\xcb=\\xd1\\x8e\\x9f\\x13w\\xfe\\x9e:\\xf8g\\xc6\\xbe\\xb1\\xac\\xfdc\\xd9#\\xc8H0{\\x18\\xa4Wc\\xd2\\xbe_b;\\x1f\\x82e\\x02\\xea\\xbe\\xf2(\\xbf\\xe8\\x94\\x7f\\n\\xac\\x0bJ\\xa0\\'\\x0fQ\\xa4\\xbb\\x14\\x19\\x96\\xe2\\xca\\x86\\'\\x19V\\x85\\\\X\\xd9ra\\x89u\\xa9Q\\xeb\\xec\\x03u\\xac=\\x96\\xa19\\x8b\\xf4\\x08\\xef\\xafD\\xfd\\xfd\\x83\\xe5v\\xf6Teu\\x9f\\xa0\\xfd\\x04\\x87\\xd7\\xedbt\\x08\\x04\\xf2\\xf2h\\n\\x8b\\x19\\x98c\\xea\\x98\\x84v\\xcd\\xc2x\\x14\\x82Q\\xa1e`-H|\\xf0\\xe1[\\xed\\xa2;\\x89q`T8@K\\xdc\\xcbL\\x1d\\x01c:\\xc7\\xfc\\x93\\x82\\x92s^\\x95\\x97\\x836\\xdf\\x88n\\xfd6\\xb6\\xf3\\x91\\xa8\\xfb\\'I\\xef/\\x89\\x03\\xbf\\xa7\\xec~\\x9c:\\xf88e\\xf7\\xbfe\\xfd\\xbf\\x81\\xc1`\\xc4\\xd6\\xfbA\\x9bozo\\xba\\x02\\x96\\x07cIN\\xc6a\\x90^!?\\'\\x94\\x0c\\x10\\x157\\x99AN\\xba\\xcb\\x85\\x15\\xa8\\x10V\\x11\\x10\\x96\\x11?\\xd5\\x80-\\xd1\\xa5\\t\\xe5_\\x14z.3sX\\xa4g\\xf7\\xfe*\\xd4[\\x1f\\xadZ\\xb5\\xce@Q\\xdb\\xa1o\\xfe\\xf8\\xaf\\xb4\\xe1\\xff\\xbd\\xf9\\xba\\xcaS\\xe0\\xf5\\xdf\\x93\\xf6\\xbe\\xefQ\\xa91px\\xf9\\x80C\\x0f\\x08d\\xce\\x19\\'\\xac\\xdb\\xf7\\x1f\\x98rE\\xa6\\x8e\\xc9\\xa6.\\x19fn\\xf9\\x16\\xde\\xa58\\xffj\\xab \\x90d\\xb5\\xd8F\\xc9G\\x85\\xa2~\\xc5\\xa8\\x10\\x8c\\xe9\\x1c\\xf3\\x8e\\xbb\\x16\\x7f\\xe6Y\\xf1\\xb9_\\xedU00\\x0c\\xddr\\'r\\xeb7\\xc2\\xf6\\x07q]?\\x00s\\x81\\x9c\\x0b\\xfc\\x8d\\xedx\\x10\\xder\\x17\\xcc\\xf5\\xd9\\xf4\\xa5[\\xe9\\x05\\xe7\\x823\\xdc\\xeccl\\xe4\\xaa\\xd1!\\xaa\\x0c\\xb9\\x8d\\x1f\\xc8\\xda\\x081\\na5[\\x874\\x80\\x0c\\x0b\\xb9\\x14K),$\\xc3\\xdaH\\x8d^K\\x08D~\\xa0c\\xc6Y(\\x17\\xd6?>\\xd6\\xf9\\xcf\\x7f|\\x00\\xb2\\'\\xf5\\'8(.F\\xff\\xd0\\xa9P\\xc323\\x18PX\\x10\\xc8\\x9c\\xa3%,\\x1e\",\\x94S\\x9a\\x99 \\xc7\\xdc\\xb3\\x18\\xeb[\\x89\\x0b\\xac\\xb3\\nm\\xc2G\\xb6=\\x19\\x15\\x0e\\xd0\\x93\\xf6\\xb2\\xd3\\x0e\\xf0\\xb2G\\x9d\\xf3O\\x81\\xa4\\xc9\\xb3\\xf2\\x92\\xcf\\xa6+~\\xb5\\xd7\\x02\\xea\\xaf\\x077\\xde\\no\\xbe\\x07\\xcc%\\x8f\\xfb\\xe1\\xcdw\\xfdk\\xaf\\x81\\xb9\\x82\\x92\\x0bN\\xf9\\xa7y\\xc8\\xd9+\\x90^\\r\\xd3\\xe57J&\\x8b\\x94\\xf7\\x1dU\\x13V5\\xd6\\xa7\\x1c\\xe3^`\\x8a|K\\x98\\x84\\\\;\\x8a\\xfc\\x04Z~\\x0e\\x0b\\xad\\x12\\xd6\\xaa\\xff\\xfb\\x8f\\x0f\\xffW\\xc6.\\xe0\\xa9U{~T\\xbf\\x18}V\\x03\\n\\x0b\\x02\\x99s\\xc6\\t\\xeb\\xf8\\xb9\\xabh\\xbe\\xd8\\x94/C\\xf1\\x93\\xd1.Yf\\x1e\\x05\\xe6>e\\xd8\\x80j+0*\\x8c\\xd8f\\'\\x04\\xa3\\xc2\\x1d\\x8a\\x0b\\xb2\\xc0\\x98\\x8e\\x9d~\\x08\\xa4KN\\x05\\xa7]\\x8a\\xcf\\tJ/xT|\\xeeU\\xf5\\x85O\\xf5\\x97\\xfe\\xb5_\\xa9\\x05\\xf2\\x9bgA\\xc9y\\xc7\\xbcS`a`+V\\xea\\x01\\x90\\xa0\\x81\\xf1 rgwQ\\x9f\\xf2F\\xc9\\x91\\x8a\\x1b6\\xd4).\\x1c5s\\xcbC9\\xa5\\x1bqe\\xfa\\xcc\\xb8\\r\\xe4\\xf05\\xb6~+\\xb1\\xaeKM\\xd9\\x1fo\\xc4\\xffs\\x85\\xf1[\\x0bV\\xfe\\xed\\x9d\\x05\\x82\\xc2f\\xc5\\x1d\\x875\\xb42{\\x01\\x85\\x05\\x81\\xcc9\\xe3\\x84\\xd53t\\x02\\x08\\x0b\\xc5'\n",
      "\n",
      " checkpoint.... 6\n",
      "b'\\x95\\x98\\xf0d\\xa6\\xce\\xe9h\\xb7<\\x8cW\\x89\\xfc\\x82\\xac\\x06\\x9b\\xf0\\x16\\xbbh\\xc5\\xa8\\xb0\\x8f\"\\xddMO\\xde\\xc7J;\\xe8\\x905\\xca\\xcb=\\xee\\x98\\x7f\\xca\\xb9\\xf0\\x8cK\\xf1Y\\xb7\\xd2\\xf3\\xee\\xe5\\x17=+.\\x81\\xbfne\\x17\\xdcJ.\\x00U\\x81\\xe0\\xe7\\x9e\\xe4f\\x8d\\x02\\xc1!\\xb6\\x02\\xe9U\\xd2\\x10\\xf2\\xc8/Q\\xbf}\\\\\\x0f\\xc8\\xda\\x94\\'\\xb0\\x82\\xe5\\xe9\\x95o\\xb9\\xb9g\\xa1\\x99 \\xdb\\xc41\\xc5\\x90#\\xd6\\xa3\\xc7\\xac\\'\\x86\\xea\\xd8\\xf8,7w^b\\xc2\\\\\\xb0\\xc1\\xfa\\xbd\\xe5F\\xff\\xfd\\xd1\\xca\\xbf\\xbd\\xbb\\xb8yk\\x9b\\xa2\\xce\\x1aZ\\x99\\xbd\\x80\\xc2\\x82@\\xe6\\x1c\\ra\\x9dD\\xf3\\x12L8\\t\\xc6\\x0e\\x12\\x13\\xa7TSA6\\xc6\\xab\\x08\\xb9\\xe4=\\xb8\\x1e\\x0c\\xd9l\\xa3ZA6DL\\xe8%K\\x06hI{\\x19\\xa9\\xfbY\\xe9\\xc0YG\\xc0@\\x8f\\x9fw\\xc2\\xa9\\x00\\xd1\\x96k\\xd1YA\\xf19\\x97\\xc23 \\xf3\\x02\"\\xe3\\xe7\\x9e\\xe0\\xe5\\x1c\\xe7d\\x1e\\x01\\xb6b\\xa6\\x8e\\x00\\xcd\\xc9s\\xab\\x01rB\\x1f)\\xae\\x1b\\x94F\\x88B\\xae\\xc0\\xb2\\tm\\xb2\\n\\xaa\\xc5\\xf9WZ\\xf8\\x94`<\\xf2L]2\\x9e\\x8c\\x07\\xa3\\xd6\\x11\\x82u\\xac<\\x97c\\xf8\\x8b\\x8dh\\x1f\\xad\\xb3|\\xf7S\\x83\\xb7\\x16\\xe8\\xfc\\xfd\\xfdePX\\x10\\xc8\\x1b\\x88f\\x86e\\xc6\\x8b7\\xe1\\xc4\\x19s\\x12L\\x1c\\x93P\\xae\\x99`Th\\xe1[n\\x19Xc\\xad\\xbc Kq\\xd5{?E\\xba\\x0b8\\x8b\\x99\\xb2\\x9f\\x95:\\xc2N?\\xc8I?\\x04\\x86{\\x9c\\xcc\\xc3\\xc0_ \\xedr\\xc8<\\xea\\x90u\\x94\\x939\\xca\\xce\\x00\\xaa:\\x0c\\x16@\\xee\\x81\\x95\\xb2\\x9f\\x96\\xb8\\x87\"\\xdb\\x85\\x9ck\\x97\\x7f9H\\x10v\\xd8Fm\\xb3\\t\\xdfb\\x1d\\xd2`\\x19X\\x8d\\xf5+7\\xf7*2s\\xcfE9\\xa7\\x199\\xc8\\xf4\\x18q\\x1b\\xc9\\x11\\xc8\\t,\\x9c\\xdb24\\xf7\\x13\\x03\\xf2\\x87k,\\xde]\\xaa\\xff\\xd6\\xc7\\xab\\xdf\\xfapE\\xcb\\xb6\\x0eE\\x9d5\\xb42{\\x01\\x85\\x05\\x81\\xcc9\\x1a\\xe7\\xb0\\xbe\\xc4\\xf0\\xe2Q\\xec\\x18cN\\x9c\\t_j\\xe2\\x9c\\x86v\\xcb\\x95_\\x90\\xb5\\xc9*\\x04$Y[\\x80_\\xec\\x90\\x9f\\x16\\xee \\x89z)\\xe2\\x9dT\\xa0-\\xd9\\x1e0\\xc4\\x03\\xa9\\x13#y?\\x18\\xee1S\\x0f\\x80\\xa1\"\\x0b\\x8c\\xfe\\xc0\\xdf\\xd4\\x83\\xac\\xb4\\x03\\xc0hL0=e?=i/M6\\x88\\xa4W\\xc8\\xa9+\\x90^u\\xd8E\\xb7!\\xe9UX\\x93Up\\x1d.\\xa0\\xca\\xc2\\xa7\\x14\\xe3Y\\x80V\\x8e\\x07%\\xc8x\\x90\\x14\\xba\\x1a\\xef\\xbb\\x02\\xeb\\xb2\\x14\\xc5^\\xa4g\\xff\\x81\\x8e\\xd9\\xbbK\\xf4\\xff\\xb1p\\xed?>Zu\\xe0\\xd0\\xa8\\xa2\\xce\\x1aZ\\x99\\xbd\\x80\\xc2\\x82@\\xe6\\x1c\\ra]\\xc1\\xf0\\x81\\xb0\\xa2\\x8d\\xd9Bc\\xae\\xc8\\xd81\\xd9\\xd45\\x13\\xe3Q\\x80U$Y\\xc8\\x99,\\xc4Y\\x84\\x98N\\xfb\\xd8\\xed\\xc4\\xf8\\x1e\\x92\\xa8\\x8f$\\xdaI\\x96\\xec\\xa2H\\x07\\xa9\\xb2=\\xb4\\xc4!Z\\xd2>z\\xf20\\x08\\x06\\x12@a\\xfb\\x81\\xcb\\x10\\xa3)l%\\x1d \\x8b\\xfbH\\t=\\xc48\\x90^\\xb5\\xdb)\\xd2\\xab\\xd0\\x06\\xcb\\xa0\\x1a\\xac_\\x85\\xb9w1\\xc6\\x1d\\x8c\\x073M\\xe4\\xe3A\\xf9%\\xa3\\xc1:\\xd6^+\\xcc\\x9d\\x96\\x1a3\\x16n\\xb4\\xfd`\\xa5\\xd9\\xbbK\\r\\xde^\\xb4\\xee\\x9d\\x8fW_\\xbfqSQg\\r\\xad\\xcc^@aA s\\x8e\\xa6\\xb0,\\x1c\\xe31\\xbcXcV\\x94\\x11\\'\\xce\\x88\\'U\\x9e\\xc9\\xf2,\\x02B\\x01\\xa36\\xf9\\xd9wy\\x9e%\\xec \\xc4v\\xd9\\xc7\\xed \\x02g\\x89\\x15\\xce\\xdaMQ\\xde\\x91\\x07\\xb8i\\x08\\x91W\\xe2^0\\x06\\x04)\\x18U\\xba\\x1b\\x04M>\\x18$%\\xf4\\x12\\xe3\\xb7\\x13c\\xbb\\x08\\xc26\\xbb\\xc8\\x16\\x9b\\xf0&\\xeb\\x10$\\xbd\\xc2\\xfa*\\xd3+\\x94S\\xaa\\x11r\\x9f\\x86\\xd8\\x8d\\xe4\\xf0uv\\x01:\\x96\\xee\\xcb\\xcdxK\\x0c\\xa9\\x0b\\xd7\\xe3?\\\\\\x85y\\xefS\\xc3w>\\xd9\\xf0\\xee\\xa2\\xb5\\xd7o\\xdcR\\xd4YC+\\xb3\\x17PX\\x10\\xc8\\x9c3NX\\x00s~\\x1c\\xd6I\\x84\\xe6\\xc6\\x1asb\\r\\x1d\\xc4\\xc6\\xfc$\\x94K\\x06\\xda=\\x0f\\x0c\\x0c\\xb1~\\x95\\xf2\\x93Y\\r\\xf8\\x08\\xe4\\x04\\xbc\\x9d\\xb0]\\xcdY\\xfdrm\\r \\xe6\\x92\\xec\\xa6H@2\\xb5\\x9b*C\\x82&\\xddE\\x95\\x0eP$;\\xc1\\x10\\x12\\xa4W\\xe4\\x84\\x1eR\\xdcv\\xfb\\x98vB\\xf46Bd3>\\xbc\\xd1:\\xb8\\x06\\xe7\\xff\\xe4\\xec\\xd5\\x93\\xd3\\xed\\xc8\\x9d\\xb0\\x88\\xc1k\\xf0\\xde+-\\x9c\\x97\\xa1X\\x8b\\xf5\\x88\\x1f\\xaf\\xb3\\xfap\\x95\\xd9{\\xcb\\x8c\\xde]\\xac\\xfb\\xde\\'\\xeb\\x95\\xd5\\x85\\xc2\\x82@\\xde$4\\x85\\x95V\\xdef\\xe9*\\xb5p\\x12\\xa3\\xf9\"c\\xae\\xd8\\x90\\x0b\\x92\\xac\\x14SW\\xc55Y\\xa5X\\xff*\\xcb\\xa0Z\\xeb\\xd0\\xcd\\xf8\\x88\\x16$\\xcf\\x8a\\x06\\xce\\xea$\\xc4v\\xdb\\xc7\\xef \\x82\\x81^B/r\\xab?0H\\x04!\\xee\\'\\xcb%E\\x95\\xff\\xa5\\x88\\xfb\\xa9\\xe2>\\x8a\\xa8\\x97\"\\xdaA\\x8e\\xeb\"\\xc5\\xb4\\xdbGo%Dn\\xb1\\rk\\xb0\\x0e\\xdc\\x84\\xf3-5\\xf7\\xcc7\\x15d\\x81\\x84\\xce\\xd0A\\xa2\\xc7\\x88\\xd9H\\x0e[g\\xe7\\xafc\\x85\\xa4WK\\x8dh\\x8b6\\xda~\\xb4\\x1a\\xfb\\xc1\\n\\x14\\x10\\xd6{K\\xf5i<Oeu\\xc7\\xc6*\\xdb\\x0f\\xbcdd\\xd7\\x0fj\\xb8i\\xc2\\x80\\xc2\\x82@\\xe6\\x1cMa\\xd5\\xb4\\xee\\xb6qO\\xb4t\\x95\\x99;\\x89Myb#\\x07\\xb1\\x11/\\x11\\x85\\x9c}\\xcf\\x01\\x03C\\x0b\\xdf2\\\\\\xc0&\\xab\\xe0:\\x9b\\xb0F|x\\xb3m\\xe4V\\xdb\\xa86D[1@[\\xdb\\xed\\xe3\\xba\\x89 \\xe1\\x8a\\xeb!\\x814J\\xd4C\\x16\\xf5Q\\xc5\\xfd4I?]*\\xff+\\xe9\\xa3\\x8b{i\\xa2njB\\x179\\xb6\\x9d\\x14\\xbd\\xd5>r\\x8b]h\\x9dM@%\\xce\\xa7\\xd8\\xdc#\\xc7\\xd4%\\xdd\\x98\\x9fh\\xc0\\x8a\\xd7\\xa5F\\xae#\\x06\\xad\\xc5{\\xaf\\xc2\\xba,C\\xb1\\x17\\xeb\\x93\\x16\\xae\\xb3\\xfeH\\x07\\x03\\x84\\xf5\\xcf\\xe5&\\xff\\\\f8\\xb3\\x8f\\xfc\\x02&\\xd2p\\xd3\\x84\\x01\\x85\\x05\\x81\\xcc9\\x9a\\xc2:~\\xee\\x8a\\x8d\\x9b\\x0c\\xef\\x91l)H4\\xe3\\x8bL\\x1c\\x12\\x8c\\xb8b\\x13\\xe4\\xd7\\x85\\x99f``\\xe8U\\x8c\\xf5-\\xc7\\x05TY\\x81<+d\\xb3M\\xd8\\x16\\x9b\\xf0\\x16|\\x04\\xd0\\x96<\\xdb\\x12v\\x12b\\xba\\xecc\\xbb\\x88 \\x87\\x8a\\xdfN\\x11\\xf5P\\xc5\\xbd\\xc0S\\x0ci?C\\xda\\xc7\\x94\\xf5\\xb1\\xa4\\xbd\\x0cq7]\\xd4I\\x8bo#\\xc7l\\xb5\\x8fh\\xb4\\x0b\\xa9\\xb6\\xf1/\\xc3y\\x17\\x98\\xbbe\\x99:\\xa7\\x00?\\xea\\xd1\\x85\\xebI\\xa1\\xebl\\xfdt\\xac<V`\\x1c\\x97\\x1a\\xd3\\x17m\\xb4\\xfbx-\\xeeC\\x1d\\x0c\\x18\\x12\\xbe\\xbf\\xca\\xf4\\x83\\x15\\xc67n\\xdeVVw&\\x80\\xc2\\x82@\\xe6\\x0b\\x9a\\xc2\\x02\\x84\\xa7\\xd6\\x12\\xbc\\xd3l=S\\xb1.2Sn<rM\\x16O\\x86rNE\\x0b\\xb2\\xcd\\xdc\\xf3\\x91<\\xcb\\xa7\\x14\\'?\\x9fe\\x15\\xd4\\x00\\xb4e\\x1d\\xd6d\\x1d\\xbe\\x05\\x19$F\\x02m\\xb5\\x11\\x90\\x9bg\\xb5\\x93\\xe2:)\\t\\xdd4q\\x0fS\\xd2\\x03<\\xc5\\x96\\xf5q\\x12\\xfb82\\xf0\\xa2\\x9b%\\xeed$\\xb4R\\x84[H\\x11\\xf5v\\xc1U6~%8\\xaf<sA\\x86\\xa9c\\xa2\\x11;N\\x17y\\xf0D\\xc0jk\\xafU8W\\xc5\\xe9\\xf6E\\xeb\\xf1@X\\x1f\\xad\\xc1~\\xb8\\x1a\\xf3\\xa1\\x8e\\x99\\x89\\xf5\\xf3\\xddq\\xf4\\x99@aA \\xf3\\x85\\t\\x84U\\xd3:H\\xf4I\\xb7\\xf7\\xcd\\xc0{\\xa6Z8KQ\\x0eq&\\\\\\x11\\xca1\\t\\xed\\x92\\x81v\\xcdF\\xbb\\xe5b<\\n\\xcc\\xbdJ\\xb0\\xbe\\x158\\xffM\\xb8\\xc0Z\\xcb\\xa0:\\xcb\\x90\\x06\\xeb\\xd0F\\x9b\\xb0&\\xdb\\x88fB\\xd4V{a+9\\xb6\\x83\\x9a\\xb0\\x9d.\\xeafIv\\xb0\\xa5=\\x9c\\xc4^nR\\x1f7\\xa9\\x87\\x9b\\xd8\\xcd\\x91t0\\xe3\\xb7\\xd2\\x84\\x8d\\xa4\\xf0\\x1aBP\\xb9\\x8do\\x11\\xce3\\xc7\\xdc5\\x15\\xc5\\x15\\x1b2\\x84\\x1bI!k\\xf1>:\\x96n+\\xcd\\x9d\\x96\\x99r\\x96\\x18\\x90\\x17n\\xc0\\x7f\\xbc\\xcej\\x01p\\xd6Z\\xec\\x82\\xb5\\xe6\\xe1\\xf1)\\xca\\x8a\\xce\\x10PX\\x10\\xc8|a\\x02a\\x81Q\\xa1\\x9dg\\n\\xd9/\\x8b\\xe8\\x97\\x85\\xf7H\\xc5:\\xcbL8\\xf1(\\xbe\\xcc\\xd4)\\x15\\xe5\\x9c\\x8erF\\xb4e\\xe6\\x86\\xa4Z\\xe6\\xde\\xa5\\x16~\\x15X\\xff*\\\\@\\xb5eP-\\xf2\\x0b\\x9e\\xd0\\x06\\xdb\\xf0&\\xfb\\xa8f\\xb2p\\x1b5\\xbe\\x83!\\xda\\xce\\x92ts\\xa4;\\xb8\\x89=\\xfc\\xe4^^R7O\\xd6\\xc5\\x11\\xb7\\xb2\\xe2\\xb6\\xd0'\n",
      "\n",
      " checkpoint.... 7\n",
      "b'\\xa3\\xeb)a\\x9b\\xec\\x03K\\xf1\\xbe\\xf98\\xf7\\x0c3\\'\\xb0\\x958}j\\xf8\\x06\\x82\\xffj+\\xf7U\\x16\\xce\\xcb\\xcd\\xb8KM\\x98\\x8b\\xf5\\x88\\x0b7\\xe2\\x17\\xae\\xb7\\xf9x\\xbd\\xf5\\x82\\xf5\\xb8\\x85\\xebp7n\\xddQVt\\x86\\x80\\xc2\\x82@\\xe6\\x0b\\x13\\x08\\x0b\\x90\\xb9i;5 \\x87\\x12\\x98K\\xf6\\xcf\\xb1\\xf5L\\xc78J@\\xfac\\xea\\x98\\x84\\xe2\\'\\xa3\\xf8)&\\x8ei\\xa6.\\x99hA\\x0e2B\\xf4*\\xc2\\xf8\\x94X\\xf8\\x96#\\x17=\\x04l\\xb2\\x0e\\xaa\\xc1\\x87\\xd4\\x11\\xc2\\x1a\\x88\\x91M\\x94\\x98\\xad\\xf4\\xb86\\xa6\\xa8\\x9d#\\xee\\xe4J\\xb7\\xf3\\x12\\xb7\\xf3d\\x1d<I\\x9b\\x83h++\\xb6\\x91\\x1eYK\\t\\xad\\xb4\\x0f,\\xc6{\\xe7`]\\x93Q\\xdc\\x04\\x03z\\xc4F\\xfb\\x805\\xd6\\x9e:X\\x97\\x15\\x18\\xde2S\\xf6R#\\xdab}\\xfbE\\xba\\x04\\xc4Y\\x1bl\\x16n\\xb4\\x8e\\x94\\xbc\\xe0#s\\xa6\\x00\\n\\x0b\\x02\\x99/L,\\xac\\x93\\xe7\\xaf\\x11\\xfd\\xb2\\xe9\\xc1\\xf9\\xcc\\x90BJ@\\x9e\\x8d{*\\x9a\\'B\\xf1\\xa4(\\x9e\\x0c\\xc5K2\\xe1%\\x19\\x03s9!\\xda2\\x15d\\xa3\\xdd\\xf30\\x9e\\x85\\xc8\\x85Z>\\xe5V\\xfe\\x156\\x81U\\xb6!\\xd5\\xf6a\\xf5\\xe4\\xa8F\\xaa\\xb0\\x99\\x11\\xbb\\x95\\x1d\\xbf\\x8d#j\\xe3J\\xday\\x92V\\xae\\xa8\\x85\\x13\\xdf\\xc4\\x16\\xd63\"6QBJ\\t\\xbey\\xd6ni\\xe6\\x8e\\x12\\x13V\\xb4\\x1e9h\\x1d\\xdeK\\x07\\xe7\\xba\\xd2\\x9c\\xbf\\x1c\\xd8\\xca\\x84\\xbe\\xc4\\x90\\xb2\\xd8\\x80\\xf4\\x89\\x1e\\x018k\\x91\\xae\\xdd\\x12}\\xc2\\x8d[\\xf7\\x94U\\x9c9^\\x17a]<G)\\xbf\\xa6\\xbc~\\xff\\xc5\\xf8\\xe6Z\\x88l\\x0fEv\\xa4\\xed\\x1b\\xe5\\x04\\xc8\\x0c\\xec\\xd5W\\xcb\\x91\\xf6=!\\xc3?)\\xdf<7?\\xb5\\x95O\\xba\\xfa\\xcb\\x95\\xfc\\xba0\\xb1\\xb0\\x00\\x03\\x87\\xce2\\xc3\\n9\\xe1%\\x9c\\xf0R\\x92_\\x0e\\xce5\\t\\xcd\\x15\\x99\\xf2$h~\"\\xd0\\x96\\x91\\x83\\xd4\\x98+3\\xe6\\'\\x99\\x80q\\xa2K\\x06Z\\x90\\x8dq\\xcb\\xb3\\xf0,\\xc0\\xf9\\x14[\\xfb\\x95\\xe2\\x03+\\x08\\xc1\\x9bHa\\xb5\\x94\\xc8zzt#3\\xb6\\x89\\x1d\\xd7\\x02\\x12+\\x9e\\xa8\\x85\\x1b\\xdf\\xc4\\x89\\xadgG\\xd7\\xd0C\\xcb\\x89~\\xf96\\xee\\xe9\\xc0V(\\x96\\xd0\\x80\\x12\\xb2\\xde\\xd6{\\xb5\\xa5`\\x15\\xd6i\\x05\\x86+O\\xaf\\xe8\\x8b\\x11a\\x91?\\x01\\xce\\xd2\\xb7_\\xacO\\x10&\\x15(+7\\xa3\\xbc\\x8c\\xb0\\xc0A \\xbf\\xb8_\\x19\\x8a\\xbe\\x01&R\\xda\\x9f_\\xac\\x93t\\xad\\x9b\\xc3G\\xa6W\\xda\\xbd\\\\\\xd9\\x9e\\xdc\\x8b\\xca7s\\xc5\\x0b\\xb6}\\xf6x!a\\xcda+^N+\\xaf\\x91\\xb0fi\\x1fN*,\\x80\\x87\\xa8\\xc6!\\xb2\\x8c\\x1f]\\xc9\\x0e/\\x01\\xce\\xb2rK6\\xe3\\x89\\xcd\\x1ceh\\xbe\\xd4\\xc4Al\\xc8\\x16\\x19rD\\x88\\xb9x\\x89&\\x8e)h\\x97t\\x8c \\x0b\\xeb\\x91c\\xe9\\x95g\\xe3[d\\x17Pf\\x1f\\\\I\\x0e\\xdbD\\x8d\\xa8eD\\xd5\\xb1b6sb\\x1b\\xb9\\xf1\\x8d\\x0e\\xc2ZfD\\x055\\xb8\\x98\\xe8\\x97k\\xe3\\x91\\x86u\\x92\\xa0\\xd8\\xd1\\xfa\\x94\\xe0\\xf5v\\xde\\xab\\xad\\x05:8\\x17$\\xbd2\\xe3.E\\xb1\\x96 \\xc2\\xa2!\\xce2$/1$/3\\xa1\\xde\\xbc=+\\xc7\\xd0K\\nK\\xfb x\\xc1\\x8f\\xea%\\x85\\x85\\xa4W\\xe7\\x8e(\\xdf\\xbcB\\xc6W{&\\x0f\\xd3\\x19I\\x8e\\xa0\\xb0\\x9e\\xf0r%?7\\xd3\\xda\\x87\\xcf\\xff\\xe9L%\\xac3\\x97np\"\\xcb\\x9cb\\xab\\x9d\\xe3j\\x81\\xb9\\xa8\\x01\\xb9\\xd6n\\xc9 !\\xc2\\xf0%\\xa6<\\xb1\\t\\'\\xc1\\x90\\x19g\\x00\\x82\\x9d`\\xec \\x06\\x03F\\xb4c\\x92\\x99K\\x8a\\xb9K*\\xd6-\\xd3\\xda+\\x17\\xef\\x93O\\xf0+$\\x05\\x96\\x80\\xa1\\x1f-\\xb4\\x82\\x11\\x0e\\xa2\\x8c\\x1a\\\\D\\xf4C\\xce\\x8bY\\x0b\\x12-\\xf8\\t(V\\xa4\\x01%p\\x83\\x9d\\xd7Z\\x1b7\\x1dK\\x17\\x90^-G\\xce^q\\x96\\x9a\\xb0\\x96\\x183\\x96\\x1a\\xd3\\x97\\x1a\\xd3\\x96\\x1aSW\\x982f\\xc9V\\x80\\x19\\x17\\xd6\\x0b\\xf2\\x97\\x10\\xd6L2w\\xc2\\x9aC\\xfe2\\xc2\\x9a\\x163+,\\xc0\\x9e\\xd1\\x8b\\x8eq\\xb5\\x02q\\xa3\\x9b\\xa8\\x9e/\\xac\\xa0\\x05\\xe6\\xd9\\xb8%[8\\x891<0<L0\\xe1\\xc4\\x190b\\xf4h\\xd1\\x06\\x0c\\xa1!+\\xd6\\x98\\x13\\x8f\\\\\\x00\\xc1\\x13\\x83\\x14\\xcc\\xc29\\x05\\xe7\\x9ab)H\\xb5\\xf1\\xc8\\xb0\\xf5\\xca\\xb4\\xf5\\xce&\\xf8\\x80\\xc8\\xb4\\xf5L\\xb3r\\x95Y8&\\x98q\\xa2\\x8d\\xe9a\\xbaD\\xbf\\xf5v\\x9ekm\\xdcW[\\tV\\xe1\\x9cW\\x98\\xf3\\x97\\x99q?E\\xb1\\xe5\\xc1\\xfa\\x14\\xc5Xf\\xca\\\\\\x85aw\\xf5\\xefSVh\\x16\\x98qa\\xa9+F\\xb1\\x00\\x98\\xa2>fT1n\\xfa4\\x845Yi\\xaa)\\x93N|\\xaa<\\xe4\\x98\\xce\\xbd\\x88\\xfc\\x95\\x9f\\xedz\\xfa\\x16YLq\\xfeK~.L\\xfeV\\xdd\\x80\\xcae\\xd4\\xa7\\x83\\xfa(\\xa6 \\x13\\xe5\\x9bP\\xaf-`\\x92:<c\\xb7\\x00\\xb4K\\x06LV\\x9a\\x06\\xe3\\x8a\\x1d\\xbfW\\x9f\\xce\\x1aw\\xa6\\x0f\\x19M+\\xa6+\\xc6\\xd4`\\xb1\\t[\\xa1Q\\xe03[\\x01\\x00\\xcbh\\x14\\xf5d\\xb1\\t\\xf6\\'@Q\\xa6\\xfc\\xa5\\xe2\\xa3\\x91\\xbf\\x943\\xbeV\\x13\\xae\\x8eL\\x9c\\xacJj%#<]f\\xe2\\x93\\x9e\\x9a\\xfb\\x04\\xa0Z\\x05YKc\\xff_<\\xa7\\x9c\\xfe\\xa42\\xe3k;\\xc1\\xe64>b\\x8d\\x1d5\\x99\\xcb\\x9e!,@A\\xcb~\\x81\\xb4\\xc53q\\xab\\xa7\\xac\\xd1)\\xa6\\x92\\x19R@\\xf4I\\xb7t\\x11c\\xf8\\thn\\x9c1;\\xc6\\x90\\x11\\xadG\\x8b\\xd4\\xa5F\\xe8\\xd3#\\r\\x18Q\\x86\\xcchcV\\x8c)\\'\\x1e\\xcd\\x8d7\\xe3\\xc6c\\xf8\"\\xac\\x93\\x18\\x04\\xceY\\x82s\\x12Y\\xf0\\xe3\\xd0\\xec(cz\\xa8\\x01)@\\x97\\xe0\\xbb\\x1e\\x0fr+\\xf7\\xd5\\xd6n\\xc8`\\x10\\xeb\\xbc\\x1c\\xc3_\\x86\\xe6.C;,Cs\\x96\\xa1\\xd9+\\xcc8:\\xe6\\\\\\xf7\\xc8LeUf\\x87\\xd9\\x16\\x16\\xf8<\\xd4\\x0fA\\xd5\\xf2\\xc8b\\xaaCMq\\xbe|\\xa2Oh\\x9a\\xa5idX\\xe3\\n\\x97/\\xf9\\xa4\\x10\\xf9Z\\xe5\\xe7\\x9e\\x1c\\xa3\\xf2YO\\x8e!d\\xad\\xf2#\\xaar\\xd4\\x8f\\xa1\\x9b\\xc3\\xaaU\\xc6M\\xd78\\xb0\\xd4k;y\\x1d\\xa6l\\x88\\n\\xed\\x92\\')M\\x9dq\\x8b\\x8d\\xdf\\xab\\xf2\\xd6=)\\x10\\x14\\xae\\\\l\\xdc\\xb9\\xbf#\\xc3\\xc8\\x02\\x93\\xb6b|\\x81\\xcf\\xdf\\nd\\x99\\'N\\x9cx\\x7f\\x82\\xd7\\xea\\x05N&\\xacIVGVQ\\xab\\x92|\\x96ZmU\\xd3\\'\\xd9\\x15*&\\xd9\\'\\x93\\xec\\xff\\xf1\\xb3\\xee\\xb5\\xc9\\xb72\\xbe\\xb6\\x93lN}\\xe7\\x8c\\xdbQ\\xe3j\\xab\\xce\\xb3\\x85\\x05\\x90V\\rz\\xa5v\\xf8\\xa6\\xb4\\xfa\\xa64\\xbbK\\xea\\x1dc\\xaa\\xa8\\x019V\\x02\\x899\\xb0\\x0f7\\x06\\xc5\\x8e6bF\\x1a\\xd0\\xc3\\xf5\\xa8a\\x1b\\xc9!\\xba\\x94P}J\\xa8!5\\xcc\\x88\\x16fD\\x0f3f\\x84\\x990\\xc3\\x95A\\x0f5\\xa6\\x06\\x1b\\x90\\x03\\xf4\\xec\\xfdt\\t\\xde\\xebm\\xbd\\xd6\\xd9x\\xacEl%X\\x85\\x05\\xe9\\x15\\x18\\x0f\\xf2\\x97\\x9b\\xf1V`@pu,\\xf8k-\\x9d=\\x85\\xd9\\xb7\\xee}\\xab\\xac\\xc7\\xec\\xf0\\x92\\xc2\\x02\\xc7\\x87*\\x14\\xbbX\\xfd\\xa3R;\\x98\\x10\\xd4>9pL\\x8c\\xfb\\xcf6\\xeeCUcz\\xa5i\\x08K\\xb3p\\xf9\\\\\\xc5\\x14\\x8d~\\xa5\\xf1v\\xdc\\x91:\\xd1\\xa1,g\\xf2\\xe3L\\xad\\xb6S\\xd4a\\xca\\x86\\xa8\\x18W\\xf2T\\xa5\\xa91\\xc5^\\xd5\\x98\\xa5\\xd2\\x81V\\xc9S\\xb6B\\xbd\\xaa\\xd3j\\x85z\\t\\xe3>#5\\xd4Z\\n\\xca|\\xf2q\\xa8j\\xa8D\\xadV\\xe3y\\xba\\xfa8\\x8f\\xc8y\\xbau\\xb5\\x92\\'\\xdb\\x15*\\xb4\\xf7\\x89\\xd6\\x94\\xa7\\xfb_{a\\x84\\xc9\\xf7\\xa1\\xda\\xe6&\\xfd\\x88\\'.\\x130-a\\x01R\\xeaG|3{\\x022w\\x04eu\\xf9\\xa5\\xb5\\xba\\x8a\\x1b\\x98\\xa1\\x05\\xb6\\x1eIX\\xa78\\x0c/\\x06\\xcd\\x89F\\xb1\\xa2\\x8c\\x18\\x11@[\\xfa\\xd4P=r\\xb0.1H\\x97\\x18\\xa8G\\n\\xd4#\\x07\\xe8\\xcb\\x03xJ\\x9f\\xec\\xafO\\xf2\\xd7\\xb3\\xf7\\xdd\\xa8\\xb4\\x95\\xe7Zkw\\xf97\\x83.+-\\x10a\\xad\\xb4@b\\x15\\xd6q\\xad\\xb5@\\x97\\xe0#)h\\xbc}\\xef;e\\rf\\x8d\\xd9\\xce\\xb0\\xc6-\\xa0\\xfa\\x84\\xb4\\x8f\\xddq\\x1f\\xdeS\\xa6U\\x1a@\\xbd\\xc0\\t:\\x86\\xea(\\xd18:5\\xde\\x8e?P\\xc6\\x97\\x03j\\xa2R\\xf3\\xd3\\xed\\x8e\\xaf\\xf6\\xd3\\xdaNU\\x87)\\x1b\\xa2b\\xb2\\xd6)\\xd1\\xa8\\xb9\\x1c\\xed\\xc5T\\x85 \\xb3\\x9e\\xfekQ\\x84\\xa2\\x0e\\x8av\\xa9\\xf7\\xf3\\xa9Z\\xa1V'\n",
      "\n",
      " checkpoint.... 8\n",
      "b'\\xabi\\xb5Bm1\\xf5\\x8f\\x120\\xe1\\xfeT+S\\xb3\\x81\\xd3X\\x1dYe\\\\\\x95&\\xdc\\xe7\\x93\\xef\\n\\x15\\x8a\\xc2\\x9fnn\\x8a\\xfd?\\xc1,\\x84\\xa7\\xb5\\x9dbs\\xe3\\xf7\\xd8\\xd3\\x1a\\x82\\xe9j-Ug\\xba\\xc2\\x02t\\x0c_\\xf2\\xcb\\x1d\\x08\\xce\\xdb\\x15^0\\x10\\x96\\xd7\\xe3\\x99\\xb8\\x85\\x1fSI\\x0f\\xca\\xb5uO\\xc4\\xf1\\xe3\\xcc\\x1d\\x84h6\\xd0V\\xa4\\x113\\xdc\\x90\\x1efH\\r\\xd5\\'\\x07\\xeb\\x93\\x83\\xf4\\xc9@[\\xfezD?e\\xd8\\xfb!\\xb6\\xb2\\xf3^\\xab\\xb2\\x15\\xceU\\x07\\x84\\xa5\\x00\\xbc^c%X\\x87w\\xd7%\\xfa\\x19\\xd3\\xc3\\xaa\\xb6\\xed\\xbe}\\xff\\xa1r\\xdb\\xb3\\t\\x14\\x96\\xda\\xdb\\xc9\\x84\\x05\\xa6\\xab\\x1d\\xbe\\xea\\xdb\\x1d_\\xed\\xf1\\x87\\xe9du\\x98\\xb2!*&k\\x9d\\x12\\x8d\\x9a\\xcb\\xd1^LU\\xc8\\x04%\\x8c\\x03T\\tt$E\\xe5\\xa7j\\x85Z\\xad\\xa6\\xd5\\n\\xc0\\x93\\xe9`\\xf9\\'\\x15\\x9et\\x7f\\xaa\\x95\\xa9\\xd9@\\xb5#a\\xb2\\xd5\\x91U\\xc6UI\\xbe\\xa4\\xe6>\\x7f\\xd6\\xaeP\\xf1t\\x9fL\\xb1\\xff\\xc1\\xd6\\'*m\\xca#\\xe1\\t\\x1a{l\\x82\\x1d\\xa5\\xc9s\\x08\\x0b\\xd0:t\\xc9;wOx\\xc9pt\\xd9\\xfe\\xa8\\xd2\\xdd\\xc19\\xdd^\\x89[\\x1c\\x85\\x95\\x8c\\xc0\\\\\\x82G\\xb2\\xb5\\xb3\\xc8\\x9c\\'D\\xb2-v$\\x18\\x00\\x82\\xf1 \\xd0\\x96!\\x18\\x03R\\x82\\x80\\xaat\\xed}\\x95\\xb9\\x15\\xb0\\x15\\xdes\\x1d\\xdek\\x03\\xc1w#\\xd1\\x7f\\x83\\xbd\\xffFy\\xe8\\x91\\x03\\x8dh!(f\\x94\\x19/aS\\xfb,\\x9ee\\xd7`\\xee\\x845.\\xe9\\x05K\\x8e\\xfb\\xf0\\x9e0\\xad\\xd2\\x00\\xe3\\x0e\\x8b\\xf1\\xde\\x01<\\xdd\\x9cF7\\xd0x;~EU\\x99\\xe3\\x0fJ\\xa4J\\xaa\\xed\\x8e?\\xe6\\xc6w\\xaa\\xc9\\xea0eCT\\x8c\\x9b8UiO\\xd1\\x9a\\xa8\\xb6W\\xb5J\\xd0\\xe6\\xc9\\xea\\xe3;\\xdbd\\x05N\\xaf\\x15\\x08\\x8aM\\x83\\xbfO\\xf6\\xe1\\xe4\\xfbS\\xadLM\\xfb \\x9bV\\xd4j\\xd2\\xd5\\xb5\\x84\\x85\\xd4_\\xb9\\xa4Z\\xc9\\xd3\\xd8\\x15*\\x94{`\\xf2\\xfd\\xaf\\xb5\\x8b\\x14Lu$\\xa8\\xd0\\xdcc\\x8a]\\xa4\\xb6\\xa3\\xb4x>a\\x01\\xce]\\xfb.\\xb6z4\\xb2\\xf2\\x88\\xb0\\xf2pl\\xe5Aa\\xf9Ph~\\x9fO\\xca6\\xd7\\x84z\\x87\\xc8rZP\\x1e\\xc1+\\xd5\\xd2Ul\\xc1W\\x0c\\x15\\xa3P\\xcc\\x08c:\\xd0V\\x90>)@\\x9f\\xe4\\'\\x1f\\x1e\\x06\\x1aPC\\x8c\\x99\\x11&l\\xa1\\t+\\xda\\x98\\x19\\x05\\x02\\xed\\x10c\\xce\\x17\\xe3\\\\\\x93y\\xd1\\x15w\\xbey\\xa4\\xd8\\xd6\\xaban\\x84\\xa58\\xfeT\\x9f\\xd6\\xc5s!\\xe5\\x13\\x9e\\x01\\x99ni\\xea\\x87&\\x00Y\\xeb\\xe9[\\xe48~R\\xc8\\x0b\\tK\\xfd\\xa0D^\\x8f\\xab\\xb9f\\xe7yR\\xdb\\xc9\\xeb0eCTh\\x97<Ii\\xeaL\\xb1W\\x91Yj\\x05\\x1eiW\\xbcV\\x9e$Fx\\xd2^\\x8d}\\xae^ \\x92q\\xa8\\x15\\xf8\\xecV\\xc8A\\x96\\x045QUx\\xf2\\xfd\\xa9^\\xe6\\xb8&+6\\xad(a\\xd2\\xd5\\x91\\xdd\\x02\\x16{\\xf2\\x81N\\xba\\xcf\\x91FM\\xb0+TL\\xb2O\\x9e\\xae\\xa2Y\\xb2\\xda\\xac\\tN\\xbaO\\xba\\xb9\\xf1\\x1f1\\x00,\\x99\\xdb>\\xe9x\\x10\\xf0\\xdc\\xc2R\\xd0}\\xf8kI\\xe3\\xe9\\xe8\\xea\\x13\\xb1\\xd5\\xc7\\xe2\\xab\\x8f\\xc6V\\x1d\\x88(\\xde\\x1b\\x94\\xd3\\xeb\\x95\\xd2\\xe6\"\\xde\\xec\\x00r\\xae\\xf0\\x12JP\\xbe\\xbd_\\x8e\\xadW\\x86\\xb5{\\x8a\\xa5K\"\\xd6I\\x8au\\x92\\xe0\\\\d\\x16N\\x12\\x0bg\\t\\xce5\\t\\xeb\\x9a\\x84sM\\xb4\\x14$Y\\xbb\\xa7\\xd9\\xfa\\xe4\\xd8\\x06\\x14\\xd5\\xf7\\x1c\\xbd\\xfb\\xed+\\xb5\\x15`\\xae\\x84\\xa5:\\xbc\\x94\\x07\\xe2$\\x87\\xfbtK{r`\\xa9\\x00+*\\n\\x07\\xa1\\xb6\\x16\\xb2\\xd1\\xe7\\x16\\x96Zi\\xc8\\x16\\'j\\x85\\xa2\\x92\\xea\\xb5\\x05LR\\x87\\xa9w\\x8b\\x8aq%\\x03&+m<S\\xedU\\xb0]U\\t\\xaaV?m\\xda\\x93\\xb6\\x8fo\\xc5\\xa4\\x05N\\xaf\\x15r\\xc0,\\xf5\\x1d\\xab\\xbeQ\\xb0\\xca\\xe4e\\xaa*\\x0c6\\xad^\\xabIVG\\xaa\\x1a2|o\\\\\\x85\\x9f0Y\\xc9 \\xd4\\x0e\\x00%\\xda\\xfbD}\"\\x08\\x8d\\xfd\\xaf\\xb6\\xfc\\xd3\\x03Fc\\xeb\\xaau5\\x0e?d-\\xd5\\x92r/k\\xd7G\\xc5\\x0b\\nKA\\xf7\\xe8\\r\\xd9\\x96\\xb31ug\\xe2\\xebN\\'\\xd4\\x9e\\x8c\\xab9\\x16]u(\\xa2d((\\x7f\\xa7oV\\xb7Gj\\xbb\\x8b\\xac\\x99\\x9f\\xd0\\xe8\\x10S\\xc7\\x8a\\xaa\\xa6\\x87U\\xd0B\\xca\\xa8!%\\xa4\\xc0Bb@\\x1e1\\xa0\\x80\\x18XH\\x0e*%\\x87V\\x90\\xc2\\xaa\\x1b\\xfbN\\xdc\\xfb\\xf6Ge\\xb9\\xaf\\x96\\x97\\x11\\x16\\xe4MC\\xa3\\x1fBf\\x18\\xad\\xff\\xbb\\x1a\\xbc\\x94\\xb0\\x14t\\x1f\\xbd%j:\\x17Z}&\\xa6\\xeell\\xdd\\x99\\x98\\x9a\\x93\\xd1\\x9b\\x8eGV\\x8c\\x86\\x95\\x1d\\x0c.\\xde\\xe7\\x9f\\xbf\\xdb\\'\\xa7\\xdf+\\xa3\\xc7-\\xb9\\xcbY\\xd6\\xc6\\x17\\xcb\\x7fN\\x18\\xb7\\x99\\x1d\\xd7\\xc4\\x88mN\\xa8\\xd8\\xb3\\xeb\\xe8\\x95{\\xdfM\\xf6\\xdf\\xf2U\\x00\\x85\\x05\\x99>\\x1ay\\ndfy\\xe6\\xff\\x83\\x19\\x10\\x96\\x8a\\xce#7\\xeb\\x87\\xbe\\x965_\\x0c\\xad:\\x1d\\xb6\\xe9L8\\xf8[y2\\xb4\\xfcXP\\xc9h@\\xf1!\\xbf\\x82\\x11\\xef\\x9c!A\\xc6.\\xc7\\xe4>Y\\xfd\\xc1\\xe6=\\x17\\xef=\\xf8Y\\xb9\\xe6\\x9c\\x02\\x85\\x05\\x99\\x02\\xf5\\xf3;Hw\\x9a\\xf2\\xff?\\xe4\\xe5\\x98\\xfc\\xf4\\xfc\\x13fRX\\xea\\\\\\xb8\\xfe\\xe8\\xe2\\x8d\\x1f\\xf6\\x9f\\xbd\\xdfu\\xf8\\xd6\\xc8\\xb9\\xfb\\xfb\\xcf\\xde\\xdb\\xf7\\xd9\\xdd\\x8b_?\\xbc\\xff\\xe8\\x17\\xe5\\x12\\xaf\\rPX\\x90)\\x01\\xbdHy\\xf2\\x05\\xdaj\\xf6P\\x9c\\xe4zf\\xf6:[\\xc2\\x9aG@aA \\xf3\\x05(,\\x04 \\xa3g\\x86rQ\\x08\\x042w@aA \\x90y\\x03\\x14\\x16\\x04\\x02\\x997@aA \\x90y\\x03\\x14\\x16\\x04\\x02\\x997@aA \\x90y\\x03\\x14\\x16\\x04\\x02\\x997@aA \\x90y\\x03\\x14\\x16\\x04\\x02\\x997@aA \\x90y\\x03\\x14\\x16\\x04\\x02\\x99\\'\\x8c\\x8d\\xfd\\xff\\x1f\\xeb\\xaaOd\\x18\\x90\\x07\\x00\\x00\\x00\\x00IEND\\xaeB`\\x82'\n",
      "\n",
      " checkpoint.... 9\n",
      "b''\n"
     ]
    }
   ],
   "source": [
    "# 바이너리 파일 복사하기(read, write)\n",
    "bufsize = 1024*2\n",
    "f = open(origin_img, 'rb')\n",
    "h = open(copied_img, 'wb')\n",
    "\n",
    "data = f.read(bufsize)\n",
    "count = 0\n",
    "while data:\n",
    "    h.write(data)\n",
    "    data = f.read(bufsize)\n",
    "    \n",
    "    count += 1\n",
    "    print('\\n checkpoint....', count)\n",
    "    print(data)\n",
    "    \n",
    "h.close()\n",
    "f.close()"
   ]
  },
  {
   "cell_type": "markdown",
   "metadata": {},
   "source": [
    "bufsize를 지정해주는 이유는 image파일의 전송 시 byte 단위를 설정해주는 것이다.\n",
    "image 파일의 경우, 혹은 넓혀서 동영상을 보내는 경우에는 대용량 파일을 보내는 것이기 때문에 나누어서 보내는 것이 효과적인데, 그 단위 설정이 중요하다. 왜냐하면 한번 전송할 때의 단위를 크게 하면 시간이 단축되지만 오류 발생 시에 손실되는 데이터가 클 수 있다. 반면에 단위를 작게 하면 시간은 오래 걸리는 대신에 손실되는 데이터가 줄어들 수 있는 것이다."
   ]
  },
  {
   "cell_type": "markdown",
   "metadata": {},
   "source": [
    "'r', 'w', 'rb', 'wb' 등은 open 함수에 포함되는 모드를 의미한다.\n",
    "궁금한 것을 찾고 싶을 경우에는\n",
    "? 를 앞에 붙이고 실행하면 된다.\n",
    "ex) ? open(origin_img, 'rb')"
   ]
  },
  {
   "cell_type": "code",
   "execution_count": 24,
   "metadata": {},
   "outputs": [
    {
     "data": {
      "image/png": "[encoded data removed]",
      "text/plain": [
       "<IPython.core.display.Image object>"
      ]
     },
     "execution_count": 24,
     "metadata": {},
     "output_type": "execute_result"
    }
   ],
   "source": [
    "Image(copied_img)"
   ]
  },
  {
   "cell_type": "markdown",
   "metadata": {},
   "source": [
    "## OS 기본명령어"
   ]
  },
  {
   "cell_type": "markdown",
   "metadata": {},
   "source": [
    "### 파일 크기 구하기(ospathgetsize)"
   ]
  },
  {
   "cell_type": "code",
   "execution_count": 32,
   "metadata": {},
   "outputs": [
    {
     "name": "stdout",
     "output_type": "stream",
     "text": [
      "File name: ./data/mydata_copy.txt \t File Size: 72 Byte\n",
      "File name: ./images/jupyter_logo.png \t File Size: 5922 Byte\n"
     ]
    }
   ],
   "source": [
    "# 파일 크기 구하기(ospathgetsize)\n",
    "from os.path import getsize\n",
    "\n",
    "file1 = './data/mydata_copy.txt'\n",
    "file2 = './images/jupyter_logo.png'\n",
    "\n",
    "# OK !!\n",
    "# file2 = '/Users/user/Dropbox/sect_tech/src_anaconda/images/jupyter_logo.png'\n",
    "\n",
    "# SyntaxError\n",
    "# file2 = 'C:\\Users\\user\\Dropbox\\sect_tech\\src_anaconda\\images\\upyter_logo.png'\n",
    "\n",
    "file_size1 = getsize(file1)\n",
    "file_size2 = getsize(file2)\n",
    "\n",
    "print('File name: %s \\t File Size: %d Byte' %(file1, file_size1))\n",
    "print('File name: %s \\t File Size: %d Byte' %(file2, file_size2))\n"
   ]
  },
  {
   "cell_type": "markdown",
   "metadata": {},
   "source": [
    "### 파일 삭제하기(osremove)"
   ]
  },
  {
   "cell_type": "code",
   "execution_count": 33,
   "metadata": {},
   "outputs": [
    {
     "name": "stdout",
     "output_type": "stream",
     "text": [
      "[./data/mydata_copy.txt] 파일을 삭제하겠습니까? ([y]/n)y\n",
      "[./data/mydata_copy.txt] 파일을 삭제했습니다.\n"
     ]
    }
   ],
   "source": [
    "# 파일 삭제하기(osremove)\n",
    "from os import remove\n",
    "\n",
    "target_file = './data/mydata_copy.txt'\n",
    "k = input('[%s] 파일을 삭제하겠습니까? ([y]/n)' %target_file)\n",
    "\n",
    "if k == 'y' or k == '':\n",
    "    remove(target_file)\n",
    "    print('[%s] 파일을 삭제했습니다.' %target_file)\n",
    "    "
   ]
  },
  {
   "cell_type": "markdown",
   "metadata": {},
   "source": [
    "### 파일이름 바꾸기(osrename)"
   ]
  },
  {
   "cell_type": "code",
   "execution_count": 34,
   "metadata": {},
   "outputs": [
    {
     "name": "stdout",
     "output_type": "stream",
     "text": [
      "[./data/mydata.txt]에 대한 새로운 파일 이름을 입력하세요: yourdata.txt\n",
      "[./data/mydata.txt] -> [yourdata.txt] 로 파일이름이 변경되었습니다.\n"
     ]
    }
   ],
   "source": [
    "# 파일이름 바꾸기(osrename)\n",
    "from os import rename\n",
    "\n",
    "folder_path = './data/'\n",
    "target_file = folder_path + 'mydata.txt'\n",
    "newname = input('[%s]에 대한 새로운 파일 이름을 입력하세요: ' %target_file)\n",
    "\n",
    "# new_file = folder_path + newname\n",
    "new_file = newname\n",
    "rename(target_file, new_file)\n",
    "print('[%s] -> [%s] 로 파일이름이 변경되었습니다.' %(target_file, new_file))"
   ]
  },
  {
   "cell_type": "markdown",
   "metadata": {},
   "source": [
    "### 파일을 다른 디렉터리로 이동하기(osrename)"
   ]
  },
  {
   "cell_type": "code",
   "execution_count": 35,
   "metadata": {},
   "outputs": [
    {
     "name": "stdout",
     "output_type": "stream",
     "text": [
      "[yourdata.txt]를 이동할 디렉터리의 절대경로를 입력하세요: /Temp\n",
      "[yourdata.txt] -> [/Temp/yourdata.txt]로 이동되었습니다.\n"
     ]
    }
   ],
   "source": [
    "# 파일을 다른 디렉터리로 이동하기(osrename)\n",
    "from os import rename\n",
    "\n",
    "# target_file = 'yourdata.txt'\n",
    "target_file = new_file\n",
    "newpath = input('[%s]를 이동할 디렉터리의 절대경로를 입력하세요: '%target_file)\n",
    "\n",
    "if newpath[-1] == '/':\n",
    "    newname = newpath + target_file\n",
    "else:\n",
    "    newname = newpath + '/' + target_file\n",
    "    \n",
    "try:\n",
    "    rename(target_file, newname)\n",
    "    print('[%s] -> [%s]로 이동되었습니다.' %(target_file, newname))\n",
    "except FileNotFoundError as e:\n",
    "    print(e)\n"
   ]
  },
  {
   "cell_type": "markdown",
   "metadata": {},
   "source": [
    "### 디렉터리에 있는 파일목록 얻기(os.listdir, glob.glob)"
   ]
  },
  {
   "cell_type": "code",
   "execution_count": 36,
   "metadata": {},
   "outputs": [
    {
     "name": "stdout",
     "output_type": "stream",
     "text": [
      "['.ipynb_checkpoints', 'company.csv', 'hello.txt', 'students.csv', 'subject.txt']\n",
      "['data\\\\hello.txt', 'data\\\\subject.txt']\n"
     ]
    }
   ],
   "source": [
    "# 디렉터리에 있는 파일목록 얻기(os.listdir, glob.glob)\n",
    "import os, glob\n",
    "\n",
    "# folder = 'E:/devlab'\n",
    "folder = 'data'\n",
    "file_list1 = os.listdir(folder)\n",
    "print(file_list1)\n",
    "\n",
    "# files = '*.txt'\n",
    "files = 'data/*.txt'\n",
    "file_list2 = glob.glob(files)\n",
    "print(file_list2)"
   ]
  },
  {
   "cell_type": "markdown",
   "metadata": {},
   "source": [
    "### 현재 디렉터리 확인하고 바꾸기(os.getcwd, os.chdir)"
   ]
  },
  {
   "cell_type": "code",
   "execution_count": 37,
   "metadata": {},
   "outputs": [
    {
     "name": "stdout",
     "output_type": "stream",
     "text": [
      "C:\\Users\\student\\Anaconda_src\n",
      "C:\\Users\\student\\Anaconda_src\\data\n",
      "C:\\Users\\student\\Anaconda_src\n",
      "C:\\Users\\student\\Anaconda_src\n"
     ]
    }
   ],
   "source": [
    "# 현재 디렉터리 확인하고 바꾸기(os.getcwd, os.chdir)\n",
    "import os\n",
    "\n",
    "pdir = os.getcwd(); print(pdir)\n",
    "os.chdir('data'); print(os.getcwd())\n",
    "os.chdir('..'); print(os.getcwd())\n",
    "os.chdir(pdir); print(os.getcwd())"
   ]
  },
  {
   "cell_type": "markdown",
   "metadata": {},
   "source": [
    "### 디텍터리 생성하기(osmkdir)"
   ]
  },
  {
   "cell_type": "code",
   "execution_count": 1,
   "metadata": {},
   "outputs": [
    {
     "name": "stdout",
     "output_type": "stream",
     "text": [
      "새로 생성할 디렉터리 이름을 입력하세요: atemp\n",
      "[atemp] 디렉터리를 새로 생성했습니다.\n"
     ]
    }
   ],
   "source": [
    "# 디렉터리 생성하기(osmkdir)\n",
    "import os\n",
    "\n",
    "newfolder = input('새로 생성할 디렉터리 이름을 입력하세요: ')\n",
    "\n",
    "try:\n",
    "    os.mkdir(newfolder)\n",
    "    print('[%s] 디렉터리를 새로 생성했습니다.' %newfolder)\n",
    "except Exception as e:\n",
    "    print(e)"
   ]
  },
  {
   "cell_type": "markdown",
   "metadata": {},
   "source": [
    "### 디렉터리 제거하기(osrmdir) "
   ]
  },
  {
   "cell_type": "code",
   "execution_count": 2,
   "metadata": {},
   "outputs": [
    {
     "name": "stdout",
     "output_type": "stream",
     "text": [
      "[atemp] 디렉터리를 삭제하겠습니까? (y/n)y\n",
      "[atemp] 디렉터리를 삭제했습니다.\n"
     ]
    }
   ],
   "source": [
    "# 디렉터리 제거하기(osrmdir)\n",
    "import os\n",
    "\n",
    "target_folder = newfolder\n",
    "k = input('[%s] 디렉터리를 삭제하겠습니까? (y/n)' %target_folder)\n",
    "if k == 'y':\n",
    "    try:\n",
    "        os.rmdir(target_folder)\n",
    "        print('[%s] 디렉터리를 삭제했습니다.' %target_folder)\n",
    "    except Exception as e:\n",
    "        print(e)"
   ]
  },
  {
   "cell_type": "markdown",
   "metadata": {},
   "source": [
    "### 하위 디렉터리 및 파일 전체 삭제하기(shutil.rmtree) "
   ]
  },
  {
   "cell_type": "code",
   "execution_count": 3,
   "metadata": {},
   "outputs": [
    {
     "name": "stdout",
     "output_type": "stream",
     "text": [
      "[E:/devlab/tmp] 하위 모든 디렉터리 및 파일들을 삭제합니다.\n"
     ]
    },
    {
     "ename": "FileNotFoundError",
     "evalue": "[WinError 3] 지정된 경로를 찾을 수 없습니다: 'E:/devlab/tmp'",
     "output_type": "error",
     "traceback": [
      "\u001b[1;31m---------------------------------------------------------------------------\u001b[0m",
      "\u001b[1;31mFileNotFoundError\u001b[0m                         Traceback (most recent call last)",
      "\u001b[1;32m<ipython-input-3-531c2ae1d189>\u001b[0m in \u001b[0;36m<module>\u001b[1;34m()\u001b[0m\n\u001b[0;32m      6\u001b[0m \u001b[0mprint\u001b[0m\u001b[1;33m(\u001b[0m\u001b[1;34m'[%s] 하위 모든 디렉터리 및 파일들을 삭제합니다.'\u001b[0m \u001b[1;33m%\u001b[0m\u001b[0mtarget_folder\u001b[0m\u001b[1;33m)\u001b[0m\u001b[1;33m\u001b[0m\u001b[0m\n\u001b[0;32m      7\u001b[0m \u001b[1;33m\u001b[0m\u001b[0m\n\u001b[1;32m----> 8\u001b[1;33m \u001b[1;32mfor\u001b[0m \u001b[0mfile\u001b[0m \u001b[1;32min\u001b[0m \u001b[0mos\u001b[0m\u001b[1;33m.\u001b[0m\u001b[0mlistdir\u001b[0m\u001b[1;33m(\u001b[0m\u001b[0mtarget_folder\u001b[0m\u001b[1;33m)\u001b[0m\u001b[1;33m:\u001b[0m\u001b[1;33m\u001b[0m\u001b[0m\n\u001b[0m\u001b[0;32m      9\u001b[0m     \u001b[0mprint\u001b[0m\u001b[1;33m(\u001b[0m\u001b[0mfile\u001b[0m\u001b[1;33m)\u001b[0m\u001b[1;33m\u001b[0m\u001b[0m\n\u001b[0;32m     10\u001b[0m \u001b[0mk\u001b[0m \u001b[1;33m=\u001b[0m \u001b[0minput\u001b[0m\u001b[1;33m(\u001b[0m\u001b[1;34m'[%s]를 삭제하겠습니까? (y/n) '\u001b[0m \u001b[1;33m%\u001b[0m\u001b[0mtarget_folder\u001b[0m\u001b[1;33m)\u001b[0m\u001b[1;33m\u001b[0m\u001b[0m\n",
      "\u001b[1;31mFileNotFoundError\u001b[0m: [WinError 3] 지정된 경로를 찾을 수 없습니다: 'E:/devlab/tmp'"
     ]
    }
   ],
   "source": [
    "# 하위 디렉터리 및 파일 전체 삭제하기(shutil.rmtree)\n",
    "import shutil\n",
    "import os\n",
    "\n",
    "target_folder = 'E:/devlab/tmp'\n",
    "print('[%s] 하위 모든 디렉터리 및 파일들을 삭제합니다.' %target_folder)\n",
    "\n",
    "for file in os.listdir(target_folder):\n",
    "    print(file)\n",
    "k = input('[%s]를 삭제하겠습니까? (y/n) ' %target_folder)\n",
    "\n",
    "if k == 'y':\n",
    "    try:\n",
    "        shutil.rmtree(target_folder)\n",
    "        print('[%s]의 모든 하위 디렉터리와 파일들을 삭제했습니다.' %target_folder)\n",
    "    except Exception as e:\n",
    "        print(e)"
   ]
  },
  {
   "cell_type": "markdown",
   "metadata": {},
   "source": [
    "### 파일이 존재하는지 체크하기(os.pathexists) "
   ]
  },
  {
   "cell_type": "code",
   "execution_count": 4,
   "metadata": {},
   "outputs": [
    {
     "name": "stdout",
     "output_type": "stream",
     "text": [
      "새로 생성할 디렉터리 이름을 입력하세요: E:/devlab/tmp\n"
     ]
    },
    {
     "ename": "FileNotFoundError",
     "evalue": "[WinError 3] 지정된 경로를 찾을 수 없습니다: 'E:/devlab/tmp'",
     "output_type": "error",
     "traceback": [
      "\u001b[1;31m---------------------------------------------------------------------------\u001b[0m",
      "\u001b[1;31mFileNotFoundError\u001b[0m                         Traceback (most recent call last)",
      "\u001b[1;32m<ipython-input-4-499e842cc8f5>\u001b[0m in \u001b[0;36m<module>\u001b[1;34m()\u001b[0m\n\u001b[0;32m      6\u001b[0m \u001b[1;33m\u001b[0m\u001b[0m\n\u001b[0;32m      7\u001b[0m \u001b[1;32mif\u001b[0m \u001b[1;32mnot\u001b[0m \u001b[0mexists\u001b[0m\u001b[1;33m(\u001b[0m\u001b[0mdir_name\u001b[0m\u001b[1;33m)\u001b[0m\u001b[1;33m:\u001b[0m\u001b[1;33m\u001b[0m\u001b[0m\n\u001b[1;32m----> 8\u001b[1;33m     \u001b[0mos\u001b[0m\u001b[1;33m.\u001b[0m\u001b[0mmkdir\u001b[0m\u001b[1;33m(\u001b[0m\u001b[0mdir_name\u001b[0m\u001b[1;33m)\u001b[0m\u001b[1;33m\u001b[0m\u001b[0m\n\u001b[0m\u001b[0;32m      9\u001b[0m     \u001b[0mprint\u001b[0m\u001b[1;33m(\u001b[0m\u001b[1;34m'[%s] 디렉터리를 생성했습니다.'\u001b[0m \u001b[1;33m%\u001b[0m\u001b[0mdir_name\u001b[0m\u001b[1;33m)\u001b[0m\u001b[1;33m\u001b[0m\u001b[0m\n\u001b[0;32m     10\u001b[0m \u001b[1;32melse\u001b[0m\u001b[1;33m:\u001b[0m\u001b[1;33m\u001b[0m\u001b[0m\n",
      "\u001b[1;31mFileNotFoundError\u001b[0m: [WinError 3] 지정된 경로를 찾을 수 없습니다: 'E:/devlab/tmp'"
     ]
    }
   ],
   "source": [
    "# 파일이 존재하는지 체크하기(os.pathexists)\n",
    "import os\n",
    "from os.path import exists\n",
    "\n",
    "dir_name = input('새로 생성할 디렉터리 이름을 입력하세요: ')\n",
    "\n",
    "if not exists(dir_name):\n",
    "    os.mkdir(dir_name)\n",
    "    print('[%s] 디렉터리를 생성했습니다.' %dir_name)\n",
    "else:\n",
    "    print('[%s]은(는) 이미 존재합니다.' %dir_name)"
   ]
  },
  {
   "cell_type": "markdown",
   "metadata": {},
   "source": [
    "### 파일인지 디렉터리인지 확인하기(os.pathisfile, os.pathisdir) \n"
   ]
  },
  {
   "cell_type": "markdown",
   "metadata": {},
   "source": [
    "os.listdir\n",
    "\n",
    "Signature: os.listdir(path=None)\n",
    "Docstring:\n",
    "Return a list containing the names of the files in the directory.\n",
    "\n",
    "path can be specified as either str or bytes.  If path is bytes,\n",
    "  the filenames returned will also be bytes; in all other circumstances\n",
    "  the filenames returned will be str.\n",
    "If path is None, uses the path='.'.\n",
    "On some platforms, path may also be specified as an open file descriptor;\\\n",
    "  the file descriptor must refer to a directory.\n",
    "  If this functionality is unavailable, using it raises NotImplementedError.\n",
    "\n",
    "The list is in arbitrary order.  It does not include the special\n",
    "entries '.' and '..' even if they are present in the directory.\n",
    "Type:      builtin_function_or_method"
   ]
  },
  {
   "cell_type": "code",
   "execution_count": 5,
   "metadata": {},
   "outputs": [
    {
     "name": "stdout",
     "output_type": "stream",
     "text": [
      "DIR: .ipynb_checkpoints\n",
      "DIR: data\n",
      "DIR: images\n",
      "DIR: modules\n",
      "DIR: __pycache__\n",
      "FILE: Jupyter_Test.ipynb\n",
      "FILE: my_first_module.py\n",
      "FILE: PB_DA_101_Review_DataType.ipynb\n",
      "FILE: PB_DA_102_Review_DataStructure.ipynb\n",
      "FILE: PB_DA_103_Review_Function1_Basic.ipynb\n",
      "FILE: PB_DA_103_Review_Function2_Extension.ipynb\n",
      "FILE: PB_DA_104_Lambda_Internal_Function.ipynb\n",
      "FILE: PB_DA_105_Review_Class2_OOP.ipynb\n",
      "FILE: PB_DA_107_FileIO_Basic.ipynb\n",
      "FILE: PB_DA_107_FileO_OS_CMD.ipynb\n",
      "FILE: PB_DA_108_Exceptions.ipynb\n",
      "FILE: PB_DA_109_Module_ver1.ipynb\n",
      "FILE: Study_for_10_31.ipynb\n"
     ]
    }
   ],
   "source": [
    "# 파일인지 디렉터리인지 확인하기(os.pathisfile, os.pathisdir)\n",
    "import os\n",
    "from os.path import exists, isdir, isfile\n",
    "\n",
    "# files = os.listdir('..')\n",
    "files = os.listdir()\n",
    "\n",
    "for file in files:\n",
    "    if isdir(file):\n",
    "        print('DIR: %s' %file)\n",
    "\n",
    "for file in files:\n",
    "    if isfile(file):\n",
    "        print('FILE: %s' %file)"
   ]
  },
  {
   "cell_type": "code",
   "execution_count": null,
   "metadata": {},
   "outputs": [],
   "source": []
  }
 ],
 "metadata": {
  "kernelspec": {
   "display_name": "Python 3",
   "language": "python",
   "name": "python3"
  },
  "language_info": {
   "codemirror_mode": {
    "name": "ipython",
    "version": 3
   },
   "file_extension": ".py",
   "mimetype": "text/x-python",
   "name": "python",
   "nbconvert_exporter": "python",
   "pygments_lexer": "ipython3",
   "version": "3.6.5"
  }
 },
 "nbformat": 4,
 "nbformat_minor": 2
}
