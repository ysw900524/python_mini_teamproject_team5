{
 "cells": [
  {
   "cell_type": "markdown",
   "metadata": {},
   "source": [
    "# Python Review : 데이터구조형"
   ]
  },
  {
   "cell_type": "markdown",
   "metadata": {},
   "source": [
    "### 데이터 타입에 대한 이해가 중요!!\n",
    "> - 숫자형 : int, float\n",
    "- 문자형 : str\n",
    "- 논리형 : boolean\n",
    "- 구조형 : list, tuple, set, dict ==> 공통점:elements\n",
    "- None\n",
    "- function 도 하나의 데이터 타입이다."
   ]
  },
  {
   "cell_type": "markdown",
   "metadata": {},
   "source": [
    "### Wrap-up\n",
    "> - list : elements, order, duplicate\n",
    "- tuple : elements, order, duplicate, 변경X\n",
    "- set : elements, order X, duplicate X\n",
    "-dict : elements, order X, key, value, key duplicate X"
   ]
  },
  {
   "cell_type": "markdown",
   "metadata": {},
   "source": [
    "### 1. list - elements O, order O, duplicate O"
   ]
  },
  {
   "cell_type": "code",
   "execution_count": 1,
   "metadata": {},
   "outputs": [],
   "source": [
    "animals = [\"dog\", \"cat\", \"sheep\", \"duck\", \"cow\"]"
   ]
  },
  {
   "cell_type": "code",
   "execution_count": 2,
   "metadata": {},
   "outputs": [
    {
     "data": {
      "text/plain": [
       "'dog'"
      ]
     },
     "execution_count": 2,
     "metadata": {},
     "output_type": "execute_result"
    }
   ],
   "source": [
    "animals[0]"
   ]
  },
  {
   "cell_type": "code",
   "execution_count": 3,
   "metadata": {},
   "outputs": [
    {
     "data": {
      "text/plain": [
       "['cat', 'sheep', 'duck']"
      ]
     },
     "execution_count": 3,
     "metadata": {},
     "output_type": "execute_result"
    }
   ],
   "source": [
    "animals[1:4]"
   ]
  },
  {
   "cell_type": "code",
   "execution_count": 4,
   "metadata": {},
   "outputs": [
    {
     "data": {
      "text/plain": [
       "['dog', 'cat', 'sheep', 'duck', 'cow']"
      ]
     },
     "execution_count": 4,
     "metadata": {},
     "output_type": "execute_result"
    }
   ],
   "source": [
    "animals[:]"
   ]
  },
  {
   "cell_type": "code",
   "execution_count": 5,
   "metadata": {},
   "outputs": [
    {
     "data": {
      "text/plain": [
       "['dog', 'sheep', 'cow']"
      ]
     },
     "execution_count": 5,
     "metadata": {},
     "output_type": "execute_result"
    }
   ],
   "source": [
    "animals[::2]"
   ]
  },
  {
   "cell_type": "markdown",
   "metadata": {},
   "source": [
    "::2 는 간격을 의미. 즉, 0-2-4-6순을 의미."
   ]
  },
  {
   "cell_type": "code",
   "execution_count": 6,
   "metadata": {},
   "outputs": [
    {
     "data": {
      "text/plain": [
       "['dog', 'cat', 'sheep', 'duck', 'cow']"
      ]
     },
     "execution_count": 6,
     "metadata": {},
     "output_type": "execute_result"
    }
   ],
   "source": [
    "animals[::1]"
   ]
  },
  {
   "cell_type": "code",
   "execution_count": null,
   "metadata": {},
   "outputs": [],
   "source": []
  },
  {
   "cell_type": "code",
   "execution_count": 7,
   "metadata": {},
   "outputs": [
    {
     "name": "stdout",
     "output_type": "stream",
     "text": [
      "dog\n",
      "cat\n",
      "sheep\n",
      "duck\n",
      "cow\n"
     ]
    }
   ],
   "source": [
    "for animal in animals:\n",
    "    print(animal)"
   ]
  },
  {
   "cell_type": "code",
   "execution_count": 8,
   "metadata": {},
   "outputs": [
    {
     "name": "stdout",
     "output_type": "stream",
     "text": [
      "dog\n",
      "cat\n",
      "sheep\n",
      "duck\n",
      "cow\n"
     ]
    }
   ],
   "source": [
    "size = len(animals)\n",
    "for i in range(size):\n",
    "    animal = animals[i]\n",
    "    print(animal)"
   ]
  },
  {
   "cell_type": "markdown",
   "metadata": {},
   "source": [
    "### 2. set(집합) - elements O, order x, duplicate X"
   ]
  },
  {
   "cell_type": "code",
   "execution_count": 9,
   "metadata": {},
   "outputs": [],
   "source": [
    "beast = set(['lion', 'tiger', 'wolf', 'tiger', 'lion'])"
   ]
  },
  {
   "cell_type": "code",
   "execution_count": 10,
   "metadata": {},
   "outputs": [
    {
     "data": {
      "text/plain": [
       "{'lion', 'tiger', 'wolf'}"
      ]
     },
     "execution_count": 10,
     "metadata": {},
     "output_type": "execute_result"
    }
   ],
   "source": [
    "beast"
   ]
  },
  {
   "cell_type": "code",
   "execution_count": 12,
   "metadata": {},
   "outputs": [
    {
     "data": {
      "text/plain": [
       "{'a', 'b', 'c', 'd', 'r'}"
      ]
     },
     "execution_count": 12,
     "metadata": {},
     "output_type": "execute_result"
    }
   ],
   "source": [
    "data = set('abracadabra')\n",
    "data"
   ]
  },
  {
   "cell_type": "code",
   "execution_count": 13,
   "metadata": {},
   "outputs": [
    {
     "data": {
      "text/plain": [
       "['a', 'b', 'c', 'd', 'r']"
      ]
     },
     "execution_count": 13,
     "metadata": {},
     "output_type": "execute_result"
    }
   ],
   "source": [
    "data = sorted(data)\n",
    "data"
   ]
  },
  {
   "cell_type": "markdown",
   "metadata": {},
   "source": [
    "### 3. dict - elements O, (key, value) O"
   ]
  },
  {
   "cell_type": "code",
   "execution_count": 14,
   "metadata": {},
   "outputs": [],
   "source": [
    "customer = {\n",
    "    \"name\"    : \"김진수\",\n",
    "    'gender'  : '남자',\n",
    "    \"email\"   : \"bigpycraft@gmail.com\",\n",
    "    \"company\" : \"빅파이크래프트\",\n",
    "    \"address\" : \"서울시 노원구 월계로\"\n",
    "}"
   ]
  },
  {
   "cell_type": "code",
   "execution_count": 15,
   "metadata": {},
   "outputs": [
    {
     "data": {
      "text/plain": [
       "dict_keys(['name', 'gender', 'email', 'company', 'address'])"
      ]
     },
     "execution_count": 15,
     "metadata": {},
     "output_type": "execute_result"
    }
   ],
   "source": [
    "customer.keys()"
   ]
  },
  {
   "cell_type": "code",
   "execution_count": 17,
   "metadata": {},
   "outputs": [
    {
     "name": "stdout",
     "output_type": "stream",
     "text": [
      "name\n",
      "gender\n",
      "email\n",
      "company\n",
      "address\n"
     ]
    }
   ],
   "source": [
    "for something in customer :\n",
    "    print(something)    # key값"
   ]
  },
  {
   "cell_type": "code",
   "execution_count": 20,
   "metadata": {},
   "outputs": [
    {
     "name": "stdout",
     "output_type": "stream",
     "text": [
      "name ==> 김진수\n",
      "gender ==> 남자\n",
      "email ==> bigpycraft@gmail.com\n",
      "company ==> 빅파이크래프트\n",
      "address ==> 서울시 노원구 월계로\n"
     ]
    }
   ],
   "source": [
    "for key in customer:\n",
    "    value = customer[key]\n",
    "    print(\"%s ==> %s\" %(key, value))"
   ]
  },
  {
   "cell_type": "code",
   "execution_count": 21,
   "metadata": {},
   "outputs": [
    {
     "data": {
      "text/plain": [
       "'hello, 김진수'"
      ]
     },
     "execution_count": 21,
     "metadata": {},
     "output_type": "execute_result"
    }
   ],
   "source": [
    "# String Formatting\n",
    "\"%s, %s\" %(\"hello\", \"김진수\")\n",
    "\n",
    "# pros : 쉽다.\n",
    "# cons : 일단은 내부적으로 치환되는 부분(%)이 있을 때 복잡"
   ]
  },
  {
   "cell_type": "code",
   "execution_count": 22,
   "metadata": {},
   "outputs": [
    {
     "data": {
      "text/plain": [
       "'김진수: 안녕하세요, 김진수'"
      ]
     },
     "execution_count": 22,
     "metadata": {},
     "output_type": "execute_result"
    }
   ],
   "source": [
    "\"{name}: {greeting}, {name}\".format(greeting = \"안녕하세요\", # kwargs\n",
    "                                   name = \"김진수\")"
   ]
  },
  {
   "cell_type": "markdown",
   "metadata": {},
   "source": [
    ".foramt은 구조 자체를 지정해줄 수 잇다. 보기에는 길어질 수 잇지만, 데이타 타입을 직관적으로 지정할 수 있기 때문에 좋다.\n",
    ".format과 print함수를 같이 활용하면 데이터 자체를 깔끔하게 출력하는 데 도움이 많이 된다."
   ]
  },
  {
   "cell_type": "code",
   "execution_count": 23,
   "metadata": {},
   "outputs": [
    {
     "name": "stdout",
     "output_type": "stream",
     "text": [
      "name 김진수\n",
      "gender 남자\n",
      "email bigpycraft@gmail.com\n",
      "company 빅파이크래프트\n",
      "address 서울시 노원구 월계로\n"
     ]
    }
   ],
   "source": [
    "for key, value in customer.items():\n",
    "    print(key, value)"
   ]
  },
  {
   "cell_type": "markdown",
   "metadata": {},
   "source": [
    "그냥 customer에서 가져오는 경우에는 key값만을 가져왔다.  하지만 .items() 옵션을 넣어주면 key value 모든 값들을 가져온다."
   ]
  },
  {
   "cell_type": "code",
   "execution_count": 24,
   "metadata": {},
   "outputs": [
    {
     "name": "stdout",
     "output_type": "stream",
     "text": [
      "('name', '김진수')\n",
      "('gender', '남자')\n",
      "('email', 'bigpycraft@gmail.com')\n",
      "('company', '빅파이크래프트')\n",
      "('address', '서울시 노원구 월계로')\n"
     ]
    }
   ],
   "source": [
    "for something in customer.items():\n",
    "    print(something)"
   ]
  },
  {
   "cell_type": "code",
   "execution_count": 27,
   "metadata": {},
   "outputs": [
    {
     "name": "stdout",
     "output_type": "stream",
     "text": [
      "name ==> 김진수\n",
      "gender ==> 남자\n",
      "email ==> bigpycraft@gmail.com\n",
      "company ==> 빅파이크래프트\n",
      "address ==> 서울시 노원구 월계로\n"
     ]
    }
   ],
   "source": [
    "for key, value in customer.items():\n",
    "    print(\"{key} ==> {value}\".format(key = key, value = value))"
   ]
  },
  {
   "cell_type": "code",
   "execution_count": 31,
   "metadata": {},
   "outputs": [
    {
     "name": "stdout",
     "output_type": "stream",
     "text": [
      "name    ==> 김진수\n",
      "gender  ==> 남자\n",
      "email   ==> bigpycraft@gmail.com\n",
      "company ==> 빅파이크래프트\n",
      "address ==> 서울시 노원구 월계로\n"
     ]
    }
   ],
   "source": [
    "for key, value in customer.items():\n",
    "    print(\"{key}{space} ==> {value}\".format(key = key,\n",
    "                                           space = ' '*(7-len(key)),\n",
    "                                           value = value))"
   ]
  },
  {
   "cell_type": "code",
   "execution_count": 32,
   "metadata": {},
   "outputs": [
    {
     "data": {
      "text/plain": [
       "dict_items([('name', '김진수'), ('gender', '남자'), ('email', 'bigpycraft@gmail.com'), ('company', '빅파이크래프트'), ('address', '서울시 노원구 월계로')])"
      ]
     },
     "execution_count": 32,
     "metadata": {},
     "output_type": "execute_result"
    }
   ],
   "source": [
    "customer.items()"
   ]
  },
  {
   "cell_type": "markdown",
   "metadata": {},
   "source": [
    "### 4. tuple - elements O, order O, duplicate O, 변경될 수 있는가? X\n",
    "> - 변경되지 않는 자료형\n",
    "- 파이썬 내부적으로, 라이브러리 => dict!"
   ]
  },
  {
   "cell_type": "code",
   "execution_count": 33,
   "metadata": {},
   "outputs": [],
   "source": [
    "# 직사각형\n",
    "width = 100\n",
    "height = 200\n",
    "\n",
    "data = (100, 200)"
   ]
  },
  {
   "cell_type": "code",
   "execution_count": 34,
   "metadata": {},
   "outputs": [],
   "source": [
    "width, height = data  # data라고 하는 값 x"
   ]
  },
  {
   "cell_type": "code",
   "execution_count": 35,
   "metadata": {},
   "outputs": [],
   "source": [
    "def getArea(w, h):\n",
    "    area = w * h\n",
    "    return area"
   ]
  },
  {
   "cell_type": "code",
   "execution_count": 36,
   "metadata": {},
   "outputs": [
    {
     "data": {
      "text/plain": [
       "20000"
      ]
     },
     "execution_count": 36,
     "metadata": {},
     "output_type": "execute_result"
    }
   ],
   "source": [
    "area = getArea(*data)\n",
    "area"
   ]
  },
  {
   "cell_type": "markdown",
   "metadata": {},
   "source": [
    "unpacking은 *을 붙이면 가능하다"
   ]
  }
 ],
 "metadata": {
  "kernelspec": {
   "display_name": "Python 3",
   "language": "python",
   "name": "python3"
  },
  "language_info": {
   "codemirror_mode": {
    "name": "ipython",
    "version": 3
   },
   "file_extension": ".py",
   "mimetype": "text/x-python",
   "name": "python",
   "nbconvert_exporter": "python",
   "pygments_lexer": "ipython3",
   "version": "3.6.5"
  }
 },
 "nbformat": 4,
 "nbformat_minor": 2
}
