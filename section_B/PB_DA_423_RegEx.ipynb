{
 "cells": [
  {
   "cell_type": "markdown",
   "metadata": {},
   "source": [
    "# 정규표현식, RegEx ( Regular Expression )¶"
   ]
  },
  {
   "cell_type": "markdown",
   "metadata": {},
   "source": [
    "### Regular Expression 관련 사이트\n",
    "- Text 정보를 re로 테스트 : https://regexr.com/\n",
    "- 작성된 re를 다이어그램으로 표현 : https://regexper.com/"
   ]
  },
  {
   "cell_type": "code",
   "execution_count": 5,
   "metadata": {},
   "outputs": [],
   "source": [
    "import re"
   ]
  },
  {
   "cell_type": "markdown",
   "metadata": {},
   "source": [
    "### 정규표현식, 문자열에서 패턴찾기"
   ]
  },
  {
   "cell_type": "code",
   "execution_count": 2,
   "metadata": {},
   "outputs": [
    {
     "data": {
      "text/plain": [
       "'My id Number is [G203_5A]'"
      ]
     },
     "execution_count": 2,
     "metadata": {},
     "output_type": "execute_result"
    }
   ],
   "source": [
    "# 테스트용 문자열 저장\n",
    "text = 'My id Number is [G203_5A]'\n",
    "text"
   ]
  },
  {
   "cell_type": "code",
   "execution_count": 3,
   "metadata": {},
   "outputs": [
    {
     "data": {
      "text/plain": [
       "[]"
      ]
     },
     "execution_count": 3,
     "metadata": {},
     "output_type": "execute_result"
    }
   ],
   "source": [
    "# 소문자 a 찾기\n",
    "result = re.findall('a', text)\n",
    "result"
   ]
  },
  {
   "cell_type": "code",
   "execution_count": 5,
   "metadata": {},
   "outputs": [
    {
     "data": {
      "text/plain": [
       "['A']"
      ]
     },
     "execution_count": 5,
     "metadata": {},
     "output_type": "execute_result"
    }
   ],
   "source": [
    "# 대문자 A 찾기\n",
    "result = re.findall('A', text)\n",
    "result"
   ]
  },
  {
   "cell_type": "code",
   "execution_count": 6,
   "metadata": {},
   "outputs": [
    {
     "data": {
      "text/plain": [
       "['i', 'i']"
      ]
     },
     "execution_count": 6,
     "metadata": {},
     "output_type": "execute_result"
    }
   ],
   "source": [
    "# 소문자 i  찾기\n",
    "result = re.findall('i', text)\n",
    "result"
   ]
  },
  {
   "cell_type": "code",
   "execution_count": 7,
   "metadata": {},
   "outputs": [
    {
     "data": {
      "text/plain": [
       "['y', 'i', 'd', 'u', 'm', 'b', 'e', 'r', 'i', 's']"
      ]
     },
     "execution_count": 7,
     "metadata": {},
     "output_type": "execute_result"
    }
   ],
   "source": [
    "# 소문자 찾기\n",
    "result = re.findall('[a-z]', text)\n",
    "result"
   ]
  },
  {
   "cell_type": "code",
   "execution_count": 9,
   "metadata": {},
   "outputs": [
    {
     "data": {
      "text/plain": [
       "['M', 'N', 'G', 'A']"
      ]
     },
     "execution_count": 9,
     "metadata": {},
     "output_type": "execute_result"
    }
   ],
   "source": [
    "#대문자 찾기\n",
    "result = re.findall('[A-Z]', text)\n",
    "result"
   ]
  },
  {
   "cell_type": "code",
   "execution_count": 10,
   "metadata": {},
   "outputs": [
    {
     "data": {
      "text/plain": [
       "['2', '0', '3', '5']"
      ]
     },
     "execution_count": 10,
     "metadata": {},
     "output_type": "execute_result"
    }
   ],
   "source": [
    "# 숫자 찾기\n",
    "result = re.findall('[0-9]', text)\n",
    "result"
   ]
  },
  {
   "cell_type": "code",
   "execution_count": 11,
   "metadata": {},
   "outputs": [
    {
     "data": {
      "text/plain": [
       "['203', '5']"
      ]
     },
     "execution_count": 11,
     "metadata": {},
     "output_type": "execute_result"
    }
   ],
   "source": [
    "# 숫자 연속해서 찾기\n",
    "result = re.findall('[0-9]+', text)\n",
    "result"
   ]
  },
  {
   "cell_type": "code",
   "execution_count": 12,
   "metadata": {},
   "outputs": [
    {
     "data": {
      "text/plain": [
       "['M',\n",
       " 'y',\n",
       " 'i',\n",
       " 'd',\n",
       " 'N',\n",
       " 'u',\n",
       " 'm',\n",
       " 'b',\n",
       " 'e',\n",
       " 'r',\n",
       " 'i',\n",
       " 's',\n",
       " 'G',\n",
       " '2',\n",
       " '0',\n",
       " '3',\n",
       " '5',\n",
       " 'A']"
      ]
     },
     "execution_count": 12,
     "metadata": {},
     "output_type": "execute_result"
    }
   ],
   "source": [
    "# 영문자 및 숫자 찾기\n",
    "result = re.findall('[a-zA-Z0-9]', text)\n",
    "result"
   ]
  },
  {
   "cell_type": "code",
   "execution_count": 13,
   "metadata": {},
   "outputs": [
    {
     "data": {
      "text/plain": [
       "['My', 'id', 'Number', 'is', 'G203', '5A']"
      ]
     },
     "execution_count": 13,
     "metadata": {},
     "output_type": "execute_result"
    }
   ],
   "source": [
    "# 영문자 및 숫자 연속해서 찾기\n",
    "result = re.findall('[a-zA-Z0-9]+', text)\n",
    "result"
   ]
  },
  {
   "cell_type": "code",
   "execution_count": 14,
   "metadata": {},
   "outputs": [
    {
     "data": {
      "text/plain": [
       "[' ', ' ', ' ', ' ', '[', '_', ']']"
      ]
     },
     "execution_count": 14,
     "metadata": {},
     "output_type": "execute_result"
    }
   ],
   "source": [
    "# 영문자/숫자 아닌 문자 찾기\n",
    "result = re.findall('[^a-zA-Z0-9]', text)\n",
    "result"
   ]
  },
  {
   "cell_type": "code",
   "execution_count": 15,
   "metadata": {},
   "outputs": [
    {
     "data": {
      "text/plain": [
       "['M',\n",
       " 'y',\n",
       " 'i',\n",
       " 'd',\n",
       " 'N',\n",
       " 'u',\n",
       " 'm',\n",
       " 'b',\n",
       " 'e',\n",
       " 'r',\n",
       " 'i',\n",
       " 's',\n",
       " 'G',\n",
       " '2',\n",
       " '0',\n",
       " '3',\n",
       " '_',\n",
       " '5',\n",
       " 'A']"
      ]
     },
     "execution_count": 15,
     "metadata": {},
     "output_type": "execute_result"
    }
   ],
   "source": [
    "# 영문자 및 '_'특수기호 찾기\n",
    "result = re.findall('[\\w]', text)\n",
    "result"
   ]
  },
  {
   "cell_type": "code",
   "execution_count": 16,
   "metadata": {},
   "outputs": [
    {
     "data": {
      "text/plain": [
       "[' ', ' ', ' ', ' ', '[', ']']"
      ]
     },
     "execution_count": 16,
     "metadata": {},
     "output_type": "execute_result"
    }
   ],
   "source": [
    "# 영문자 및 '_'특수기호 아닌 문자 찾기\n",
    "result = re.findall('[\\W]', text)\n",
    "result"
   ]
  },
  {
   "cell_type": "markdown",
   "metadata": {},
   "source": [
    "### 문자열에서 특정이름 찾아내기"
   ]
  },
  {
   "cell_type": "code",
   "execution_count": 17,
   "metadata": {},
   "outputs": [],
   "source": [
    "# \\w ( 1 char )\n",
    "# \\d ( 1 decimal )\n",
    "# \\s ( 1 space )\n",
    "\n",
    "# + ( 1, ..., N )   => 찾아낸 값들이 1개 이상인 경우\n",
    "# ? ( 0, 1 )   => 1개이거나 없거나\n",
    "# * ( 0, 1, .. N )   => 없을 수도 있고, 있을 수도 있음. 위의 것 다 포함하는 경우\n",
    "\n",
    "# \\d{N} ( 숫자가 N개 나온다. )  => 만약 N=3이면 3자리수 모두 찾는 것.\n",
    "# \\d{N,M} ( 숫자가 N~M개 나온다 )"
   ]
  },
  {
   "cell_type": "code",
   "execution_count": 18,
   "metadata": {},
   "outputs": [],
   "source": [
    "text = \"\"\"\n",
    "옛날 옛적에 김진수라는 사람이 살았습니다.\n",
    "그에게는 5형제가 있었는데, 김진수, 김진구, 김진용, 김진태, 김진욱 이렇게 5명 있었습니다.\n",
    "그리고 그는 결혼을 해서 김찬영, 김준영, 김채영 3남매를 낳고 행복하게 잘 살았습니다.\n",
    "\"\"\"\n",
    "# 형제 : 김진O\n",
    "# 자녀 : 김O영"
   ]
  },
  {
   "cell_type": "code",
   "execution_count": 22,
   "metadata": {},
   "outputs": [],
   "source": [
    "pattern = re.compile(\"김진\\w\")"
   ]
  },
  {
   "cell_type": "code",
   "execution_count": 23,
   "metadata": {},
   "outputs": [
    {
     "data": {
      "text/plain": [
       "['김진수', '김진수', '김진구', '김진용', '김진태', '김진욱']"
      ]
     },
     "execution_count": 23,
     "metadata": {},
     "output_type": "execute_result"
    }
   ],
   "source": [
    "brother = pattern.findall(text)\n",
    "brother"
   ]
  },
  {
   "cell_type": "code",
   "execution_count": 24,
   "metadata": {},
   "outputs": [],
   "source": [
    "pattern = re.compile(\"김.영\")\n",
    "pattern = re.compile(\"김\\w영\")"
   ]
  },
  {
   "cell_type": "code",
   "execution_count": 25,
   "metadata": {},
   "outputs": [
    {
     "data": {
      "text/plain": [
       "['김찬영', '김준영', '김채영']"
      ]
     },
     "execution_count": 25,
     "metadata": {},
     "output_type": "execute_result"
    }
   ],
   "source": [
    "children = pattern.findall(text)\n",
    "children"
   ]
  },
  {
   "cell_type": "code",
   "execution_count": 27,
   "metadata": {},
   "outputs": [
    {
     "data": {
      "text/plain": [
       "{'김진구', '김진수', '김진용', '김진욱', '김진태'}"
      ]
     },
     "execution_count": 27,
     "metadata": {},
     "output_type": "execute_result"
    }
   ],
   "source": [
    "brother = set(brother)\n",
    "brother"
   ]
  },
  {
   "cell_type": "markdown",
   "metadata": {},
   "source": [
    "### 핸드폰 번호에 대한 파싱 \n",
    "> - 010-5670-3847\n",
    "- 010-오륙칠공-3847\n",
    "- 공일빵 5670 3팔4칠\n",
    "- cf. 0.5% 정도는 저런사람 있쥐요~"
   ]
  },
  {
   "cell_type": "code",
   "execution_count": 34,
   "metadata": {},
   "outputs": [],
   "source": [
    "# ...fly => dragonfly, butterfly"
   ]
  },
  {
   "cell_type": "code",
   "execution_count": 42,
   "metadata": {},
   "outputs": [],
   "source": [
    "text = \"A sky, a dragonfly and butterfly!!!!!\""
   ]
  },
  {
   "cell_type": "code",
   "execution_count": 43,
   "metadata": {},
   "outputs": [
    {
     "data": {
      "text/plain": [
       "['dragonfly', 'butterfly']"
      ]
     },
     "execution_count": 43,
     "metadata": {},
     "output_type": "execute_result"
    }
   ],
   "source": [
    "pattern = re.compile(\"\\w+fly\")\n",
    "pattern.findall(text)"
   ]
  },
  {
   "cell_type": "code",
   "execution_count": 44,
   "metadata": {},
   "outputs": [],
   "source": [
    "text = \"\"\"\n",
    "    010-5670-3847   # space, -, . => []\n",
    "    010 5670 3847\n",
    "    010.5670 3847\n",
    "\"\"\""
   ]
  },
  {
   "cell_type": "code",
   "execution_count": 45,
   "metadata": {},
   "outputs": [],
   "source": [
    "pattern = re.compile(\"\\d{3}[ -.]?\\d{4}[ -.]?\\d{4}\")"
   ]
  },
  {
   "cell_type": "markdown",
   "metadata": {},
   "source": [
    "- 이러한 패턴을 만들어 놓고 그것을 모아놓으면 나중에 그 패턴을 복붙만 하면 되므로, 전화번호, 이메일 등 자주 쓰일만한 패턴은 따로 모아놓자!!!!!!!!!!!"
   ]
  },
  {
   "cell_type": "code",
   "execution_count": 46,
   "metadata": {},
   "outputs": [
    {
     "data": {
      "text/plain": [
       "['010-5670-3847', '010 5670 3847', '010.5670 3847']"
      ]
     },
     "execution_count": 46,
     "metadata": {},
     "output_type": "execute_result"
    }
   ],
   "source": [
    "pattern.findall(text)"
   ]
  },
  {
   "cell_type": "code",
   "execution_count": 57,
   "metadata": {},
   "outputs": [],
   "source": [
    "text = \"\"\"\n",
    "    010-5670-3847   # space, -, . => []\n",
    "    옛날에는 011-1052-3847 이랬는데..\n",
    "    010 5670 3847\n",
    "    010.-5670 3847\n",
    "    사는동네가 자이아파트 516동512호\n",
    "    그리구, 사무실번호는 02-360-4047이고\n",
    "    우편번호는 100-791, 청파로 463번지\n",
    "    \n",
    "\"\"\""
   ]
  },
  {
   "cell_type": "code",
   "execution_count": 58,
   "metadata": {},
   "outputs": [],
   "source": [
    "pattern = re.compile(\"\\d{3}[ -\\.]{1,2}\\d{3,4}[ -\\.]?\\d{4}\")"
   ]
  },
  {
   "cell_type": "code",
   "execution_count": 59,
   "metadata": {},
   "outputs": [
    {
     "data": {
      "text/plain": [
       "['010-5670-3847', '011-1052-3847', '010 5670 3847', '010.-5670 3847']"
      ]
     },
     "execution_count": 59,
     "metadata": {},
     "output_type": "execute_result"
    }
   ],
   "source": [
    "pattern.findall(text)"
   ]
  },
  {
   "cell_type": "code",
   "execution_count": 60,
   "metadata": {},
   "outputs": [],
   "source": [
    "pattern = re.compile(\"\\d{2,3}[ -\\.]?\\d{3,4}[ -\\.]?\\d{4}\")"
   ]
  },
  {
   "cell_type": "code",
   "execution_count": 61,
   "metadata": {},
   "outputs": [
    {
     "data": {
      "text/plain": [
       "['010-5670-3847', '011-1052-3847', '010 5670 3847', '02-360-4047']"
      ]
     },
     "execution_count": 61,
     "metadata": {},
     "output_type": "execute_result"
    }
   ],
   "source": [
    "pattern.findall(text)"
   ]
  },
  {
   "cell_type": "code",
   "execution_count": 62,
   "metadata": {},
   "outputs": [],
   "source": [
    "# \\w ( 1 char )\n",
    "# \\d ( 1 decimal )\n",
    "# \\s ( 1 space )\n",
    "\n",
    "# + ( 1, ..., N )\n",
    "# ? ( 0, 1 )\n",
    "# * ( 0, 1, .. N )\n",
    "\n",
    "# \\d{N} ( 숫자가 N개 나온다. )\n",
    "# \\d{N,M} ( 숫자가 N~M개 나온다 )"
   ]
  },
  {
   "cell_type": "markdown",
   "metadata": {},
   "source": [
    "# 미션"
   ]
  },
  {
   "cell_type": "markdown",
   "metadata": {},
   "source": [
    "## 이메일 정규표현식 만들기"
   ]
  },
  {
   "cell_type": "code",
   "execution_count": 63,
   "metadata": {},
   "outputs": [
    {
     "ename": "SyntaxError",
     "evalue": "invalid syntax (<ipython-input-63-cfd2cf185dae>, line 1)",
     "output_type": "error",
     "traceback": [
      "\u001b[1;36m  File \u001b[1;32m\"<ipython-input-63-cfd2cf185dae>\"\u001b[1;36m, line \u001b[1;32m1\u001b[0m\n\u001b[1;33m    [a-zA-Z0-9]+{1, 20}[@][a-zA-Z0-9]+{1, 10}[\\.][a-zA-Z0-9]+{1, 5}\u001b[0m\n\u001b[1;37m                        ^\u001b[0m\n\u001b[1;31mSyntaxError\u001b[0m\u001b[1;31m:\u001b[0m invalid syntax\n"
     ]
    }
   ],
   "source": [
    "[a-zA-Z0-9]+{1, 20}[@][a-zA-Z0-9]+{1, 10}[\\.][a-zA-Z0-9]+{1, 5}"
   ]
  },
  {
   "cell_type": "code",
   "execution_count": 64,
   "metadata": {},
   "outputs": [],
   "source": [
    "pattern = re.compile(\"[a-zA-Z0-9]+{1, 20}[@][a-zA-Z0-9]+{1, 10}[\\.][a-zA-Z0-9]+{1, 5}\")"
   ]
  },
  {
   "cell_type": "code",
   "execution_count": 67,
   "metadata": {},
   "outputs": [],
   "source": [
    "pattern = re.compile(\"\\w+[@]\\w+\\.\\w+[.]?\\w+\")"
   ]
  },
  {
   "cell_type": "code",
   "execution_count": 68,
   "metadata": {},
   "outputs": [],
   "source": [
    "text = \"\"\"\n",
    "ysw900524@gmail.com\n",
    "diaregod1004@hanmail.net\n",
    "alsdicnl2@lwicnw3.ticc\n",
    "asifn$%2@naie#@!,ciw\n",
    "\"\"\""
   ]
  },
  {
   "cell_type": "code",
   "execution_count": 69,
   "metadata": {},
   "outputs": [
    {
     "data": {
      "text/plain": [
       "['ysw900524@gmail.com', 'diaregod1004@hanmail.net', 'alsdicnl2@lwicnw3.ticc']"
      ]
     },
     "execution_count": 69,
     "metadata": {},
     "output_type": "execute_result"
    }
   ],
   "source": [
    "pattern.findall(text)"
   ]
  },
  {
   "cell_type": "markdown",
   "metadata": {},
   "source": [
    "## 주민등록번호에 대한 파싱 \n",
    "> - 주민등록번호 : 숫자 6자리 - 숫자 7자리\n",
    "- 데이터에서 주민등록번호만 찾아서, 뒷자리를 암호화(***)"
   ]
  },
  {
   "cell_type": "code",
   "execution_count": 1,
   "metadata": {},
   "outputs": [],
   "source": [
    "text = \"\"\"\n",
    "    김찬영 020822-3069110\n",
    "    김준영 040825-3069115\n",
    "    김채영 110715-4063111\n",
    "\"\"\""
   ]
  },
  {
   "cell_type": "code",
   "execution_count": 6,
   "metadata": {},
   "outputs": [],
   "source": [
    "pattern = re.compile(\"\\d{6}-?\\d{7}\")"
   ]
  },
  {
   "cell_type": "code",
   "execution_count": 7,
   "metadata": {},
   "outputs": [
    {
     "data": {
      "text/plain": [
       "['020822-3069110', '040825-3069115', '110715-4063111']"
      ]
     },
     "execution_count": 7,
     "metadata": {},
     "output_type": "execute_result"
    }
   ],
   "source": [
    "pattern.findall(text)"
   ]
  },
  {
   "cell_type": "code",
   "execution_count": 8,
   "metadata": {},
   "outputs": [],
   "source": [
    "pattern = re.compile(\"\\d{6}-\\d{7}\")\n",
    "# 정규표현식 GROUP\n",
    "# 1. 생년월일 그룹 <birth>\n",
    "# 2. 주민등록번호 뒷자리 그룹 <secret>"
   ]
  },
  {
   "cell_type": "code",
   "execution_count": 9,
   "metadata": {},
   "outputs": [],
   "source": [
    "pattern = re.compile(\"(?P<birth>\\d{6})-(?P<secret>\\d{7})\")\n",
    "\n",
    "# 김채영 110715-******* => 김채영(110715-*******)"
   ]
  },
  {
   "cell_type": "code",
   "execution_count": 10,
   "metadata": {},
   "outputs": [
    {
     "data": {
      "text/plain": [
       "[('020822', '3069110'), ('040825', '3069115'), ('110715', '4063111')]"
      ]
     },
     "execution_count": 10,
     "metadata": {},
     "output_type": "execute_result"
    }
   ],
   "source": [
    "pattern.findall(text)"
   ]
  },
  {
   "cell_type": "code",
   "execution_count": 11,
   "metadata": {},
   "outputs": [
    {
     "name": "stdout",
     "output_type": "stream",
     "text": [
      "\n",
      "    김찬영 020822-*******\n",
      "    김준영 040825-*******\n",
      "    김채영 110715-*******\n",
      "\n"
     ]
    }
   ],
   "source": [
    "result = pattern.sub(\"\\g<birth>-*******\", text)\n",
    "print(result)"
   ]
  },
  {
   "cell_type": "code",
   "execution_count": 12,
   "metadata": {},
   "outputs": [
    {
     "name": "stdout",
     "output_type": "stream",
     "text": [
      "\n",
      "    김찬영 020822-*******\n",
      "    김준영 040825-*******\n",
      "    김채영 110715-*******\n",
      "\n"
     ]
    }
   ],
   "source": [
    "result = pattern.sub(\"\\g<birth>-*******\", text)\n",
    "print(result)"
   ]
  },
  {
   "cell_type": "code",
   "execution_count": 13,
   "metadata": {},
   "outputs": [],
   "source": [
    "pattern = re.compile(\"(?P<name>\\w{3}) (?P<birth>\\d{6})-(?P<secret>\\d{7})\")"
   ]
  },
  {
   "cell_type": "code",
   "execution_count": 14,
   "metadata": {},
   "outputs": [
    {
     "data": {
      "text/plain": [
       "[('김찬영', '020822', '3069110'),\n",
       " ('김준영', '040825', '3069115'),\n",
       " ('김채영', '110715', '4063111')]"
      ]
     },
     "execution_count": 14,
     "metadata": {},
     "output_type": "execute_result"
    }
   ],
   "source": [
    "pattern.findall(text)"
   ]
  },
  {
   "cell_type": "code",
   "execution_count": 15,
   "metadata": {},
   "outputs": [
    {
     "name": "stdout",
     "output_type": "stream",
     "text": [
      "\n",
      "    김찬영 020822-3069110\n",
      "    김준영 040825-3069115\n",
      "    김채영 110715-4063111\n",
      "\n"
     ]
    }
   ],
   "source": [
    "print(text)"
   ]
  },
  {
   "cell_type": "code",
   "execution_count": 16,
   "metadata": {},
   "outputs": [],
   "source": [
    "pattern = re.compile(\"(?P<name>\\w{3}) (?P<birth>\\d{6})-(?P<secret>\\d{7})\")"
   ]
  },
  {
   "cell_type": "code",
   "execution_count": 17,
   "metadata": {},
   "outputs": [
    {
     "data": {
      "text/plain": [
       "[('김찬영', '020822', '3069110'),\n",
       " ('김준영', '040825', '3069115'),\n",
       " ('김채영', '110715', '4063111')]"
      ]
     },
     "execution_count": 17,
     "metadata": {},
     "output_type": "execute_result"
    }
   ],
   "source": [
    "pattern.findall(text)"
   ]
  },
  {
   "cell_type": "code",
   "execution_count": 18,
   "metadata": {},
   "outputs": [
    {
     "name": "stdout",
     "output_type": "stream",
     "text": [
      "\n",
      "    김찬영(020822-*******)\n",
      "    김준영(040825-*******)\n",
      "    김채영(110715-*******)\n",
      "\n"
     ]
    }
   ],
   "source": [
    "result = pattern.sub(\"\\g<name>(\\g<birth>-*******)\", text)\n",
    "print(result)"
   ]
  },
  {
   "cell_type": "code",
   "execution_count": 19,
   "metadata": {},
   "outputs": [
    {
     "name": "stdout",
     "output_type": "stream",
     "text": [
      "\n",
      "    김찬영(020822-*******)\n",
      "    김준영(040825-*******)\n",
      "    김채영(110715-*******)\n",
      "\n"
     ]
    }
   ],
   "source": [
    "result = pattern.sub(\"\\g<name>(\\g<birth>-*******)\", text)\n",
    "print(result)"
   ]
  },
  {
   "cell_type": "code",
   "execution_count": 20,
   "metadata": {},
   "outputs": [
    {
     "data": {
      "text/plain": [
       "['',\n",
       " '    김찬영(020822-*******)',\n",
       " '    김준영(040825-*******)',\n",
       " '    김채영(110715-*******)',\n",
       " '']"
      ]
     },
     "execution_count": 20,
     "metadata": {},
     "output_type": "execute_result"
    }
   ],
   "source": [
    "result = result.split('\\n')\n",
    "result"
   ]
  },
  {
   "cell_type": "code",
   "execution_count": 21,
   "metadata": {},
   "outputs": [
    {
     "data": {
      "text/plain": [
       "['    김찬영(020822-*******)',\n",
       " '    김준영(040825-*******)',\n",
       " '    김채영(110715-*******)',\n",
       " '']"
      ]
     },
     "execution_count": 21,
     "metadata": {},
     "output_type": "execute_result"
    }
   ],
   "source": [
    "result.pop(0)\n",
    "result"
   ]
  },
  {
   "cell_type": "code",
   "execution_count": 22,
   "metadata": {},
   "outputs": [
    {
     "data": {
      "text/plain": [
       "['    김찬영(020822-*******)',\n",
       " '    김준영(040825-*******)',\n",
       " '    김채영(110715-*******)']"
      ]
     },
     "execution_count": 22,
     "metadata": {},
     "output_type": "execute_result"
    }
   ],
   "source": [
    "result.pop(-1)\n",
    "result"
   ]
  },
  {
   "cell_type": "code",
   "execution_count": 23,
   "metadata": {},
   "outputs": [
    {
     "name": "stdout",
     "output_type": "stream",
     "text": [
      "0 김찬영(020822-*******)\n",
      "1 김준영(040825-*******)\n",
      "2 김채영(110715-*******)\n"
     ]
    }
   ],
   "source": [
    "for idx, val in enumerate(result):\n",
    "    val = val.replace(\" \", \"\")\n",
    "    # val[2] = \"O\"\n",
    "    # val.pop(2)\n",
    "    # val.insert(2, \"O\")\n",
    "    print(idx, val)"
   ]
  },
  {
   "cell_type": "code",
   "execution_count": null,
   "metadata": {},
   "outputs": [],
   "source": []
  }
 ],
 "metadata": {
  "kernelspec": {
   "display_name": "Python 3",
   "language": "python",
   "name": "python3"
  },
  "language_info": {
   "codemirror_mode": {
    "name": "ipython",
    "version": 3
   },
   "file_extension": ".py",
   "mimetype": "text/x-python",
   "name": "python",
   "nbconvert_exporter": "python",
   "pygments_lexer": "ipython3",
   "version": "3.6.5"
  }
 },
 "nbformat": 4,
 "nbformat_minor": 2
}
