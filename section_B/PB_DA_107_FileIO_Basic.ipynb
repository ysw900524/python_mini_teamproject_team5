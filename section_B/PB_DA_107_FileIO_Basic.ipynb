{
 "cells": [
  {
   "cell_type": "markdown",
   "metadata": {},
   "source": [
    "# 파일 입출력, File I/O"
   ]
  },
  {
   "cell_type": "code",
   "execution_count": 1,
   "metadata": {},
   "outputs": [],
   "source": [
    "fp = open('./data/hello.txt', 'r')"
   ]
  },
  {
   "cell_type": "code",
   "execution_count": 2,
   "metadata": {},
   "outputs": [
    {
     "data": {
      "text/plain": [
       "'Hello, Jupyter World !!!!!!'"
      ]
     },
     "execution_count": 2,
     "metadata": {},
     "output_type": "execute_result"
    }
   ],
   "source": [
    "fp.read()"
   ]
  },
  {
   "cell_type": "code",
   "execution_count": 3,
   "metadata": {},
   "outputs": [],
   "source": [
    "fp.close()"
   ]
  },
  {
   "cell_type": "code",
   "execution_count": 4,
   "metadata": {},
   "outputs": [
    {
     "ename": "ValueError",
     "evalue": "I/O operation on closed file.",
     "output_type": "error",
     "traceback": [
      "\u001b[1;31m---------------------------------------------------------------------------\u001b[0m",
      "\u001b[1;31mValueError\u001b[0m                                Traceback (most recent call last)",
      "\u001b[1;32m<ipython-input-4-5b707e20d623>\u001b[0m in \u001b[0;36m<module>\u001b[1;34m()\u001b[0m\n\u001b[1;32m----> 1\u001b[1;33m \u001b[0mfp\u001b[0m\u001b[1;33m.\u001b[0m\u001b[0mread\u001b[0m\u001b[1;33m(\u001b[0m\u001b[1;33m)\u001b[0m\u001b[1;33m\u001b[0m\u001b[0m\n\u001b[0m",
      "\u001b[1;31mValueError\u001b[0m: I/O operation on closed file."
     ]
    }
   ],
   "source": [
    "fp.read()"
   ]
  },
  {
   "cell_type": "markdown",
   "metadata": {},
   "source": [
    "- close 명령 이후에 접속이 종료되었으므로, 다시 read 명령을 내려도 읽어오지 못함."
   ]
  },
  {
   "cell_type": "code",
   "execution_count": 5,
   "metadata": {},
   "outputs": [
    {
     "name": "stdout",
     "output_type": "stream",
     "text": [
      "Hello, Jupyter World !!!!!!\n"
     ]
    }
   ],
   "source": [
    "with open('./data/hello.txt', 'r') as fp:\n",
    "    data = fp.read()\n",
    "    print(data)"
   ]
  },
  {
   "cell_type": "markdown",
   "metadata": {},
   "source": [
    "- 될 수 있으면 with를 활용한 문구로 데이터를 읽어오는 것이 좋다."
   ]
  },
  {
   "cell_type": "code",
   "execution_count": 6,
   "metadata": {},
   "outputs": [
    {
     "data": {
      "text/plain": [
       "'Hello, Jupyter World !!!!!!'"
      ]
     },
     "execution_count": 6,
     "metadata": {},
     "output_type": "execute_result"
    }
   ],
   "source": [
    "data"
   ]
  },
  {
   "cell_type": "code",
   "execution_count": 7,
   "metadata": {},
   "outputs": [],
   "source": [
    "with open('./data/subject.txt', 'w') as fp:\n",
    "    data = '파이썬을 이용한 빅데이터 분석!!'\n",
    "    fp.write(data)"
   ]
  },
  {
   "cell_type": "markdown",
   "metadata": {},
   "source": [
    "- 파일을 하나 새로 생성할 수도 있다."
   ]
  },
  {
   "cell_type": "code",
   "execution_count": 8,
   "metadata": {
    "scrolled": true
   },
   "outputs": [
    {
     "name": "stdout",
     "output_type": "stream",
     "text": [
      "파이썬을 이용한 빅데이터 분석!!\n"
     ]
    }
   ],
   "source": [
    "with open('./data/subject.txt', 'r') as fp:\n",
    "    data = fp.read()\n",
    "    print(data)"
   ]
  },
  {
   "cell_type": "markdown",
   "metadata": {},
   "source": [
    "- 생성한 파일에 내용을 추가해 넣을 수도 있다."
   ]
  },
  {
   "cell_type": "markdown",
   "metadata": {},
   "source": [
    "FileName : students.csv\n",
    "\n",
    "> - 김태희,서울대,thkim@gmail.com\n",
    "- 신민아,성균관대,sma@gmial.com\n",
    "- 전지현,중앙대,jhjeon@gmail.com\n",
    "- 이영애,숭실대,janggumi@gamil.com"
   ]
  },
  {
   "cell_type": "code",
   "execution_count": 12,
   "metadata": {},
   "outputs": [],
   "source": [
    "def read_csv(filepath):\n",
    "    \n",
    "    fp = open(filepath, 'r', encoding = 'utf-8')\n",
    "    data = fp.read()\n",
    "    fp.close\n",
    "    \n",
    "    # return dataL\n",
    "    elements = []\n",
    "    \n",
    "    rows = data.split('\\n')\n",
    "    # print(rows)\n",
    "    for row in rows:\n",
    "        \n",
    "        fields = row.split(\",\")\n",
    "        # print(fields)\n",
    "        \n",
    "        element = {\n",
    "            \"name\"   : fields[0],\n",
    "            \"school\" : fields[1],\n",
    "            \"email\"  : fields[2],\n",
    "        }\n",
    "        elements.append(element)\n",
    "    return elements"
   ]
  },
  {
   "cell_type": "code",
   "execution_count": 13,
   "metadata": {},
   "outputs": [
    {
     "data": {
      "text/plain": [
       "[{'name': '김태희', 'school': '서울대', 'email': 'thkim@gmail.com'},\n",
       " {'name': '신민아', 'school': '성균관대', 'email': 'sma@gmial.com'},\n",
       " {'name': '전지현', 'school': '중앙대', 'email': 'jhjeon@gmail.com'},\n",
       " {'name': '이영애', 'school': '숭실대', 'email': 'janggumi@gamil.com'}]"
      ]
     },
     "execution_count": 13,
     "metadata": {},
     "output_type": "execute_result"
    }
   ],
   "source": [
    "filepath = 'data/students.csv'\n",
    "read_csv(filepath)"
   ]
  },
  {
   "cell_type": "markdown",
   "metadata": {},
   "source": [
    "FileName : company.csv \n",
    "\n",
    "- 랭킹, 회사이름, 영문명, 창업자 \n",
    "- 1, 애플, Apple, 스티브잡스 \n",
    "- 2, 구글, Google, 세르게이브린 & 레리페이지\n",
    "- 3, 마이크로소프트, Microsoft, 빌게이츠 & 폴앨런 \n",
    "- 4, 페이스북, Facebook, 마크쥬크버그 \n",
    "- 5, 에어비엔비, Airbnb, 브라이언체크키 & 조게비어"
   ]
  },
  {
   "cell_type": "code",
   "execution_count": 23,
   "metadata": {},
   "outputs": [],
   "source": [
    "def read_csv2(filepath):\n",
    "    fp = open(filepath, 'r', encoding = 'utf-8')\n",
    "    data = fp.read()\n",
    "    fp.close\n",
    "    \n",
    "    elements = []\n",
    "    \n",
    "    rows = data.split('\\n')\n",
    "    \n",
    "    for row in rows :\n",
    "        fields = row.split(\",\")\n",
    "        element = {\n",
    "            \"1\"  : fields[0],\n",
    "            \"2\"  : fields[1],\n",
    "            \"3\"  : fields[2],\n",
    "            \"4\"  : fields[3]\n",
    "        }\n",
    "        elements.append(element)\n",
    "    return elements\n",
    "\n",
    "#     keys = []\n",
    "#     rows = data.split('\\n')\n",
    "#     dicionary = \n",
    "#     for row in rows:\n",
    "#         fields = row.split(',')\n",
    "#         # print(fields)\n",
    "        \n",
    "#         element = {\n",
    "#             \"keys[0]\"  : fields[0],\n",
    "#             \"keys[1]\"  : fields[1],\n",
    "#             \"keys[2]\"  : fields[2],\n",
    "#         }\n",
    "#         elements.append(element)\n",
    "#     return elements"
   ]
  },
  {
   "cell_type": "code",
   "execution_count": 24,
   "metadata": {},
   "outputs": [
    {
     "data": {
      "text/plain": [
       "[{'1': '랭킹', '2': ' 회사이름', '3': ' 영문명', '4': ' 창업자 '},\n",
       " {'1': '1', '2': ' 애플', '3': ' Apple', '4': ' 스티브잡스 '},\n",
       " {'1': '2', '2': ' 구글', '3': ' Google', '4': ' 세르게이브린 & 레리페이지 '},\n",
       " {'1': '3', '2': ' 마이크로소프트', '3': ' Microsoft', '4': ' 빌게이츠 & 폴앨런 '},\n",
       " {'1': '4', '2': ' 페이스북', '3': ' Facebook', '4': ' 마크쥬크버그 '},\n",
       " {'1': '5', '2': ' 에어비엔비', '3': ' Airbnb', '4': ' 브라이언체크키 & 조게비어'}]"
      ]
     },
     "execution_count": 24,
     "metadata": {},
     "output_type": "execute_result"
    }
   ],
   "source": [
    "filepath = 'data/company.csv'\n",
    "read_csv2(filepath)"
   ]
  },
  {
   "cell_type": "code",
   "execution_count": 84,
   "metadata": {},
   "outputs": [],
   "source": [
    "def read_csv2(filepath):\n",
    "    fp = open(filepath, 'r', encoding = 'utf-8')\n",
    "    data = fp.read()\n",
    "    fp.close\n",
    "    \n",
    "    elements = []\n",
    "    \n",
    "    rows = data.split('\\n')\n",
    "    # print(len(rows), rows[0])\n",
    "    \n",
    "    keys_list = rows[0]\n",
    "    # print(keys)\n",
    "    \n",
    "    keys = keys_list.split(\",\")\n",
    "    #print(keys_list[0])\n",
    "   \n",
    "    for row in rows[1:] :\n",
    "        fields = row.split(\", \")\n",
    "        element = {}\n",
    "        for i in range(len(keys)):\n",
    "            element[keys[i]] =  fields[i]\n",
    "#         element = {\n",
    "#             keys[0]  : fields[0],\n",
    "#             keys[1]  : fields[1],\n",
    "#             keys[2]  : fields[2],\n",
    "#             keys[3]  : fields[3]\n",
    "#         }\n",
    "        elements.append(element)\n",
    "    return elements"
   ]
  },
  {
   "cell_type": "code",
   "execution_count": 85,
   "metadata": {},
   "outputs": [
    {
     "data": {
      "text/plain": [
       "[{'랭킹': '1', ' 회사이름': '애플', ' 영문명': 'Apple', ' 창업자 ': '스티브잡스 '},\n",
       " {'랭킹': '2', ' 회사이름': '구글', ' 영문명': 'Google', ' 창업자 ': '세르게이브린 & 레리페이지 '},\n",
       " {'랭킹': '3', ' 회사이름': '마이크로소프트', ' 영문명': 'Microsoft', ' 창업자 ': '빌게이츠 & 폴앨런 '},\n",
       " {'랭킹': '4', ' 회사이름': '페이스북', ' 영문명': 'Facebook', ' 창업자 ': '마크쥬크버그 '},\n",
       " {'랭킹': '5', ' 회사이름': '에어비엔비', ' 영문명': 'Airbnb', ' 창업자 ': '브라이언체크키 & 조게비어'}]"
      ]
     },
     "execution_count": 85,
     "metadata": {},
     "output_type": "execute_result"
    }
   ],
   "source": [
    "filepath = 'data/company.csv'\n",
    "read_csv2(filepath)"
   ]
  },
  {
   "cell_type": "markdown",
   "metadata": {},
   "source": [
    "### 정답 (강사님 코드)"
   ]
  },
  {
   "cell_type": "code",
   "execution_count": 1,
   "metadata": {},
   "outputs": [],
   "source": [
    "def read_csv(filepath):         # 어떤 헤더가 있는 CSV 파일이든지 읽을 수 있는 함수\n",
    "                                # \",\" 말고 다른 어떤 seperator 가 들어가더라도, \n",
    "                                # CSV 읽을 수 있는 함수\n",
    "                                # \"\\t\", \"::\", \"|\" 이 모든 sep 에 대한 함수!\n",
    "    fp = open(filepath, 'r', encoding='utf-8')\n",
    "    data = fp.read()\n",
    "    fp.close()\n",
    "    \n",
    "    elements = []\n",
    "    \n",
    "    rows = data.split(\"\\n\")\n",
    "    columns = rows[0].split(\",\")    # [\"랭킹\", \"회사이름\", \"영문명\", \"창업자\"]\n",
    "    columns = [key.replace(' ','') for key in columns]\n",
    "    print('columns => key :', columns)\n",
    "    \n",
    "    for row in rows[1:]:\n",
    "        fields = row.split(\",\")\n",
    "        \n",
    "        element = {}\n",
    "        \n",
    "        for idx in range(len(columns)):   # index 의 값으로 비교해야 한다.\n",
    "            column = columns[idx]\n",
    "            field = fields[idx]\n",
    "            element[column] = field\n",
    "        \n",
    "        elements.append(element)\n",
    "        \n",
    "    return elements"
   ]
  },
  {
   "cell_type": "code",
   "execution_count": 2,
   "metadata": {},
   "outputs": [
    {
     "name": "stdout",
     "output_type": "stream",
     "text": [
      "columns => key : ['랭킹', '회사이름', '영문명', '창업자']\n"
     ]
    },
    {
     "data": {
      "text/plain": [
       "[{'랭킹': '1', '회사이름': ' 애플', '영문명': ' Apple', '창업자': ' 스티브잡스 '},\n",
       " {'랭킹': '2', '회사이름': ' 구글', '영문명': ' Google', '창업자': ' 세르게이브린 & 레리페이지 '},\n",
       " {'랭킹': '3', '회사이름': ' 마이크로소프트', '영문명': ' Microsoft', '창업자': ' 빌게이츠 & 폴앨런 '},\n",
       " {'랭킹': '4', '회사이름': ' 페이스북', '영문명': ' Facebook', '창업자': ' 마크쥬크버그 '},\n",
       " {'랭킹': '5', '회사이름': ' 에어비엔비', '영문명': ' Airbnb', '창업자': ' 브라이언체크키 & 조게비어'}]"
      ]
     },
     "execution_count": 2,
     "metadata": {},
     "output_type": "execute_result"
    }
   ],
   "source": [
    "filepath = 'data/company.csv'\n",
    "read_csv(filepath)"
   ]
  },
  {
   "cell_type": "code",
   "execution_count": null,
   "metadata": {},
   "outputs": [],
   "source": []
  }
 ],
 "metadata": {
  "kernelspec": {
   "display_name": "Python 3",
   "language": "python",
   "name": "python3"
  },
  "language_info": {
   "codemirror_mode": {
    "name": "ipython",
    "version": 3
   },
   "file_extension": ".py",
   "mimetype": "text/x-python",
   "name": "python",
   "nbconvert_exporter": "python",
   "pygments_lexer": "ipython3",
   "version": "3.6.5"
  }
 },
 "nbformat": 4,
 "nbformat_minor": 2
}
