{
 "cells": [
  {
   "cell_type": "markdown",
   "metadata": {},
   "source": [
    "# 클래스, Class\n",
    "> - 클래스 이해하기\n",
    "- 클래스 정의 및 불러오기\n",
    "- 클래스 초기화 함수 init() 재정의\n",
    "- 클래스 변수와 인스턴스 변수\n",
    "- 데이터 은닉과 이름 장식, Data Hiding & Name Mangling\n",
    "- 객체 지향의 꽃 상속, Inheritance\n",
    "- 다형성, Polymorphism"
   ]
  },
  {
   "cell_type": "markdown",
   "metadata": {},
   "source": [
    "## 객체란?\n",
    "> - 객체는 속성(상태, 특징)과 행위(행동, 동작, 기능)로 구성된 대상을 의미한다.\n",
    "- 프로그래밍 언어에서 객체를 만들 때는 주로 현실 세계를 반영해서 만든다.\n",
    "- 객체의 특징인 속성은 변수로, 객체가 할 수 있는 일인 행동은 함수로 구현한다.\n",
    "- 객체는 변수와 함수의 묶음이다."
   ]
  },
  {
   "cell_type": "markdown",
   "metadata": {},
   "source": [
    "cf. 객체를 만들고 이용할 수 있는 기능을 제공하는 프로그래밍 언어를 객체지향언어(Object Oriented Programming, OOP)라고 한다."
   ]
  },
  {
   "cell_type": "markdown",
   "metadata": {},
   "source": [
    "### 클래스 정의"
   ]
  },
  {
   "cell_type": "code",
   "execution_count": 1,
   "metadata": {},
   "outputs": [],
   "source": [
    "class BookReader :  # 클래스 BookReader 선언\n",
    "    name = str()\n",
    "    \n",
    "    def read_book():\n",
    "        print(name + ' is reading Book')"
   ]
  },
  {
   "cell_type": "code",
   "execution_count": 2,
   "metadata": {},
   "outputs": [
    {
     "ename": "TypeError",
     "evalue": "read_book() takes 0 positional arguments but 1 was given",
     "output_type": "error",
     "traceback": [
      "\u001b[1;31m---------------------------------------------------------------------------\u001b[0m",
      "\u001b[1;31mTypeError\u001b[0m                                 Traceback (most recent call last)",
      "\u001b[1;32m<ipython-input-2-a3185b1c570b>\u001b[0m in \u001b[0;36m<module>\u001b[1;34m()\u001b[0m\n\u001b[0;32m      1\u001b[0m \u001b[0mreader\u001b[0m \u001b[1;33m=\u001b[0m \u001b[0mBookReader\u001b[0m\u001b[1;33m(\u001b[0m\u001b[1;33m)\u001b[0m  \u001b[1;31m# 인스턴스 생성\u001b[0m\u001b[1;33m\u001b[0m\u001b[0m\n\u001b[0;32m      2\u001b[0m \u001b[0mreader\u001b[0m\u001b[1;33m.\u001b[0m\u001b[0mname\u001b[0m \u001b[1;33m=\u001b[0m \u001b[1;34m'Jinsoo'\u001b[0m \u001b[1;31m# 속성값 셋팅\u001b[0m\u001b[1;33m\u001b[0m\u001b[0m\n\u001b[1;32m----> 3\u001b[1;33m \u001b[0mreader\u001b[0m\u001b[1;33m.\u001b[0m\u001b[0mread_book\u001b[0m\u001b[1;33m(\u001b[0m\u001b[1;33m)\u001b[0m     \u001b[1;31m# 메소드 호출\u001b[0m\u001b[1;33m\u001b[0m\u001b[0m\n\u001b[0m",
      "\u001b[1;31mTypeError\u001b[0m: read_book() takes 0 positional arguments but 1 was given"
     ]
    }
   ],
   "source": [
    "reader = BookReader()  # 인스턴스 생성\n",
    "reader.name = 'Jinsoo' # 속성값 셋팅\n",
    "reader.read_book()     # 메소드 호출"
   ]
  },
  {
   "cell_type": "code",
   "execution_count": 3,
   "metadata": {},
   "outputs": [],
   "source": [
    "class BookReader:       # 클래스 BookReader 선언\n",
    "    name = str()        # 문자열형 변수 name 선언\n",
    "    \n",
    "    def read_book(self):\n",
    "        print(self.name + ' is reading Book!!')\n",
    "    "
   ]
  },
  {
   "cell_type": "code",
   "execution_count": 4,
   "metadata": {},
   "outputs": [
    {
     "name": "stdout",
     "output_type": "stream",
     "text": [
      "Jinsoo is reading Book!!\n"
     ]
    }
   ],
   "source": [
    "reader = BookReader()  # 인스턴스 생성\n",
    "reader.name = 'Jinsoo' # 속성값 셋팅\n",
    "reader.read_book()     # 메소드 호출"
   ]
  },
  {
   "cell_type": "markdown",
   "metadata": {},
   "source": [
    "### 클래스 생성과 호출"
   ]
  },
  {
   "cell_type": "code",
   "execution_count": 5,
   "metadata": {},
   "outputs": [],
   "source": [
    "class 빵틀:\n",
    "    모양 = str()    # 붕어, 잉어\n",
    "    반죽 = str()     # 밀가루, 찹쌀가루\n",
    "    앙꼬 = str()     # 팥, 슈크림\n",
    "    단가 = int()\n",
    "\n",
    "    def 굽기(self, 주문갯수):\n",
    "        # 한번에 최대 10개씩 굽는다.\n",
    "        # 한판 굽는데 걸리는 시간은 5분\n",
    "        굽는횟수 = 주문갯수/10 + 1\n",
    "        완성시간 = int(굽는횟수) * 5\n",
    "        return 완성시간\n",
    "\n",
    "    def 가격(self, 주문갯수):\n",
    "        금액 = 주문갯수 * self.단가\n",
    "        return 금액\n",
    "    \n",
    "    def 주문(self, 주문갯수, 지불금액):\n",
    "        대기시간 = self.굽기(주문갯수)\n",
    "        주문금액 = self.가격(주문갯수)        \n",
    "        거스름돈 = 지불금액 - 주문금액\n",
    "        return 대기시간, 거스름돈"
   ]
  },
  {
   "cell_type": "code",
   "execution_count": 6,
   "metadata": {},
   "outputs": [],
   "source": [
    "붕어빵 = 빵틀()\n",
    "잉어빵 = 빵틀()"
   ]
  },
  {
   "cell_type": "code",
   "execution_count": 7,
   "metadata": {},
   "outputs": [],
   "source": [
    "붕어빵.모양 = '붕어'\n",
    "붕어빵.반죽 = '밀가루'\n",
    "붕어빵.앙꼬 = '팥'\n",
    "붕어빵.단가 = 300"
   ]
  },
  {
   "cell_type": "code",
   "execution_count": 8,
   "metadata": {},
   "outputs": [],
   "source": [
    "잉어빵.모양 = '황금잉어'\n",
    "잉어빵.반죽 = '찹쌀가루'\n",
    "잉어빵.앙꼬 = '슈크림'\n",
    "잉어빵.단가 = 600"
   ]
  },
  {
   "cell_type": "code",
   "execution_count": 9,
   "metadata": {},
   "outputs": [
    {
     "name": "stdout",
     "output_type": "stream",
     "text": [
      "붕어빵 20개를 주문하였고, 10000원을 지불하였습니다.\n",
      "--------------------------------------------------\n",
      "잔돈은 4000원 입니다. 15분만 기다려주세요.\n"
     ]
    }
   ],
   "source": [
    "order = 20\n",
    "payment = 10000\n",
    "\n",
    "wait_time, change = 붕어빵.주문(order, payment)\n",
    "shape = 붕어빵.모양\n",
    "print('{}빵 {}개를 주문하였고, {}원을 지불하였습니다.'.format(shape, order, payment))\n",
    "\n",
    "if change == 0:\n",
    "    message = '손님, {wt}분만 기다려주세요.'.format(wt=wait_time)\n",
    "elif change > 0:\n",
    "    message = '잔돈은 {ch}원 입니다. {wt}분만 기다려주세요.'.format(ch=change, wt=wait_time)\n",
    "elif change < 0:\n",
    "    message = '손님, 금액이 {ch}원 부족합니다.'.format(ch=-change)\n",
    "else:\n",
    "    message = 'Error'\n",
    "    \n",
    "print('-'*50)\n",
    "print(message)"
   ]
  },
  {
   "cell_type": "code",
   "execution_count": 10,
   "metadata": {},
   "outputs": [
    {
     "name": "stdout",
     "output_type": "stream",
     "text": [
      "황금잉어빵 20개를 주문하였고, 10000원을 지불하였습니다.\n",
      "--------------------------------------------------\n",
      "손님, 금액이 2000원 부족합니다.\n"
     ]
    }
   ],
   "source": [
    "order = 20\n",
    "payment = 10000\n",
    "\n",
    "wait_time, change = 잉어빵.주문(order, payment)\n",
    "shape = 잉어빵.모양\n",
    "print('{}빵 {}개를 주문하였고, {}원을 지불하였습니다.'.format(shape, order, payment))\n",
    "\n",
    "if change == 0:\n",
    "    message = '손님, {wt}분만 기다려주세요.'.format(wt=wait_time)\n",
    "elif change > 0:\n",
    "    message = '잔돈은 {ch}원 입니다. {wt}분만 기다려주세요.'.format(ch=change, wt=wait_time)\n",
    "elif change < 0:\n",
    "    message = '손님, 금액이 {ch}원 부족합니다.'.format(ch=-change)\n",
    "else:\n",
    "    message = 'Error'\n",
    "    \n",
    "print('-'*50)\n",
    "print(message)"
   ]
  },
  {
   "cell_type": "markdown",
   "metadata": {},
   "source": [
    "### 클래스 초기화 함수, __init()__"
   ]
  },
  {
   "cell_type": "code",
   "execution_count": 11,
   "metadata": {},
   "outputs": [],
   "source": [
    "class 빵틀:\n",
    "    모양 = str()     # 붕어, 잉어\n",
    "    반죽 = str()     # 밀가루, 찹쌀가루\n",
    "    앙꼬 = str()     # 팥, 슈크림\n",
    "    단가 = int()\n",
    "    \n",
    "    def __init__(self, 모양, 반죽, 앙꼬, 단가):\n",
    "        self.모양 = 모양\n",
    "        self.반죽 = 반죽\n",
    "        self.앙꼬 = 앙꼬\n",
    "        self.단가 = 단가\n",
    "\n",
    "    def 굽기(self, 주문갯수):\n",
    "        # 한번에 최대 10개씩 굽는다.\n",
    "        # 한판 굽는데 걸리는 시간은 5분\n",
    "        굽는횟수 = 주문갯수/10 + 1\n",
    "        완성시간 = int(굽는횟수) * 5\n",
    "        return 완성시간\n",
    "\n",
    "    def 가격(self, 주문갯수):\n",
    "        금액 = 주문갯수 * self.단가\n",
    "        return 금액\n",
    "    \n",
    "    def 주문(self, 주문갯수, 지불금액):\n",
    "        대기시간 = self.굽기(주문갯수)\n",
    "        주문금액 = self.가격(주문갯수)        \n",
    "        거스름돈 = 지불금액 - 주문금액\n",
    "        return 대기시간, 거스름돈"
   ]
  },
  {
   "cell_type": "code",
   "execution_count": 12,
   "metadata": {},
   "outputs": [],
   "source": [
    "다꼬야끼 = 빵틀('다꼬야끼', '밀가루', '낙지', 500)"
   ]
  },
  {
   "cell_type": "code",
   "execution_count": 13,
   "metadata": {},
   "outputs": [
    {
     "name": "stdout",
     "output_type": "stream",
     "text": [
      "다꼬야끼빵 20개를 주문하였고, 10000원을 지불하였습니다.\n",
      "--------------------------------------------------\n",
      "손님, 15분만 기다려주세요.\n"
     ]
    }
   ],
   "source": [
    "order = 20\n",
    "payment = 10000\n",
    "\n",
    "wait_time, change = 다꼬야끼.주문(order, payment)\n",
    "shape = 다꼬야끼.모양\n",
    "print('{}빵 {}개를 주문하였고, {}원을 지불하였습니다.'.format(shape, order, payment))\n",
    "\n",
    "if change == 0:\n",
    "    message = '손님, {wt}분만 기다려주세요.'.format(wt=wait_time)\n",
    "elif change > 0:\n",
    "    message = '잔돈은 {ch}원 입니다. {wt}분만 기다려주세요.'.format(ch=change, wt=wait_time)\n",
    "elif change < 0:\n",
    "    message = '손님, 금액이 {ch}원 부족합니다.'.format(ch=-change)\n",
    "else:\n",
    "    message = 'Error'\n",
    "    \n",
    "print('-'*50)\n",
    "print(message)"
   ]
  },
  {
   "cell_type": "markdown",
   "metadata": {},
   "source": [
    "### 클래스 변수와 인스턴스 변수"
   ]
  },
  {
   "cell_type": "code",
   "execution_count": 16,
   "metadata": {},
   "outputs": [
    {
     "name": "stdout",
     "output_type": "stream",
     "text": [
      "마음이 : ['구르기', '두발로 서기', '죽은척 하기']\n",
      "진돌이 : ['구르기', '두발로 서기', '죽은척 하기']\n"
     ]
    }
   ],
   "source": [
    "# 클래스 변수(인스턴스간 공유 됨)\n",
    "class Dog:\n",
    "    tricks = []   # 클래스 변수 선언\n",
    "    \n",
    "    def __init__(self, name):\n",
    "        self.name = name\n",
    "        \n",
    "    def add_trick(self, trick):\n",
    "        self.tricks.append(trick)  # 클래스 변수에 값 추가\n",
    "        \n",
    "dog1 = Dog('마음이')\n",
    "dog2 = Dog('진돌이')\n",
    "\n",
    "dog1.add_trick('구르기')\n",
    "dog2.add_trick('두발로 서기')\n",
    "dog2.add_trick('죽은척 하기')\n",
    "\n",
    "print(dog1.name, ':', dog1.tricks)\n",
    "print(dog2.name, ':', dog2.tricks)\n",
    "\n",
    "        "
   ]
  },
  {
   "cell_type": "code",
   "execution_count": 17,
   "metadata": {},
   "outputs": [
    {
     "name": "stdout",
     "output_type": "stream",
     "text": [
      "하늘이 : ['구르기']\n",
      "야옹이 : ['두발로 서기', '죽은척 하기']\n"
     ]
    }
   ],
   "source": [
    "# 인스턴스 변수(인스턴스간 공유 안됨)\n",
    "class Cat:\n",
    "    def __init__(self, name):\n",
    "        self.name = name\n",
    "        self.tricks = []  # 인스턴스 변수 선언\n",
    "        \n",
    "    def add_trick(self, trick):\n",
    "        self.tricks.append(trick)  # 인스턴스 변수에 값 추가\n",
    "        \n",
    "cat1 = Cat('하늘이')\n",
    "cat2 = Cat('야옹이')\n",
    "\n",
    "cat1.add_trick('구르기')\n",
    "cat2.add_trick('두발로 서기')\n",
    "cat2.add_trick('죽은척 하기')\n",
    "\n",
    "print(cat1.name, ':', cat1.tricks)\n",
    "print(cat2.name, ':', cat2.tricks)"
   ]
  },
  {
   "cell_type": "markdown",
   "metadata": {},
   "source": [
    "# OOP, 객체지향 프로그래밍\n",
    ">객체지향 프로그래밍 5가지 특징\n",
    "- 캡슐화 : 데이터와 함수 등 객체와 관련된 것을 하나로 묶는 것\n",
    "- 은닉화 : 클래스 속성값을 바로 접근할 수 없도록 접근을 제한하는 것\n",
    "- 상속 : 클래스의 기능확장을 위한 방법중 하나, 부모클래스 기능을 자식클랙스가 그대로 가져오는 것\n",
    "- 다형성 : 상속을 통해 오버로딩, 오버라이딩을 복합적으로 사용함으로써 여러가지를 처리하는 것\n",
    "- 추상화 : 인터페이스와 구현을 분리"
   ]
  },
  {
   "cell_type": "markdown",
   "metadata": {},
   "source": [
    "### 데이터 은닉과 이름 장식, Data Hiding & Name Mangling"
   ]
  },
  {
   "cell_type": "code",
   "execution_count": 18,
   "metadata": {},
   "outputs": [
    {
     "name": "stdout",
     "output_type": "stream",
     "text": [
      "['_KpopGroup__country', '__class__', '__delattr__', '__dict__', '__dir__', '__doc__', '__eq__', '__format__', '__ge__', '__getattribute__', '__gt__', '__hash__', '__init__', '__init_subclass__', '__le__', '__lt__', '__module__', '__ne__', '__new__', '__reduce__', '__reduce_ex__', '__repr__', '__setattr__', '__sizeof__', '__str__', '__subclasshook__', '__weakref__']\n"
     ]
    }
   ],
   "source": [
    "# 이름장식 Name Mangling : __가 있는 것에 한하여 이름을 변경해 버리는 이름 장식 기법\n",
    "# 변형된 규칙 : _[클래스명]__[변수명]\n",
    "class KpopGroup:\n",
    "    __country = 'Korea'\n",
    "    \n",
    "result = dir(KpopGroup)\n",
    "print(result)\n",
    "\n",
    "#  클래스 내부 변형변수는 정의시 사용했던 변수명으로는 접근이 불가능\n",
    "# KpopGroup.__country"
   ]
  },
  {
   "cell_type": "code",
   "execution_count": 19,
   "metadata": {},
   "outputs": [
    {
     "name": "stdout",
     "output_type": "stream",
     "text": [
      "1 _KpopGroup__country\n",
      "2 __class__\n",
      "3 __delattr__\n",
      "4 __dict__\n",
      "5 __dir__\n",
      "6 __doc__\n",
      "7 __eq__\n",
      "8 __format__\n",
      "9 __ge__\n",
      "10 __getattribute__\n",
      "11 __gt__\n",
      "12 __hash__\n",
      "13 __init__\n",
      "14 __init_subclass__\n",
      "15 __le__\n",
      "16 __lt__\n",
      "17 __module__\n",
      "18 __ne__\n",
      "19 __new__\n",
      "20 __reduce__\n",
      "21 __reduce_ex__\n",
      "22 __repr__\n",
      "23 __setattr__\n",
      "24 __sizeof__\n",
      "25 __str__\n",
      "26 __subclasshook__\n",
      "27 __weakref__\n"
     ]
    }
   ],
   "source": [
    "num = 0\n",
    "for internal_element in result:\n",
    "    num += 1\n",
    "    print(num, internal_element)"
   ]
  },
  {
   "cell_type": "markdown",
   "metadata": {},
   "source": [
    "### 객체 지향의 꽃 상속, Inheritance"
   ]
  },
  {
   "cell_type": "code",
   "execution_count": 20,
   "metadata": {},
   "outputs": [],
   "source": [
    "class Animal:\n",
    "    tribe = '동물'\n",
    "    def __init__(self, name):\n",
    "        self.name = name\n",
    "        \n",
    "    def getInfo(self):\n",
    "        print('나는 %s이고, %s입니다.' %(self.name, self.tribe))\n",
    "        \n",
    "class Carnivore(Animal):\n",
    "    def __init__(self, name):\n",
    "        self.name = name\n",
    "        self.tribe = '육식동물'\n",
    "        \n",
    "    def favoriteFood(self):\n",
    "        print('나는 육식을 좋아합니다.')\n",
    "        \n",
    "class Herbivore(Animal):\n",
    "    def __init__(self, name):\n",
    "        self.name = name\n",
    "        self.tribe = '초식동물'\n",
    "        \n",
    "    def favoriteFood(self):\n",
    "        print('나는 풀을 좋아합니다.')"
   ]
  },
  {
   "cell_type": "code",
   "execution_count": 21,
   "metadata": {},
   "outputs": [
    {
     "name": "stdout",
     "output_type": "stream",
     "text": [
      "나는 호랑이이고, 육식동물입니다.\n",
      "나는 육식을 좋아합니다.\n"
     ]
    }
   ],
   "source": [
    "tiger = Carnivore('호랑이')\n",
    "tiger.getInfo()\n",
    "tiger.favoriteFood()"
   ]
  },
  {
   "cell_type": "code",
   "execution_count": 22,
   "metadata": {},
   "outputs": [
    {
     "name": "stdout",
     "output_type": "stream",
     "text": [
      "나는 토끼이고, 초식동물입니다.\n",
      "나는 풀을 좋아합니다.\n"
     ]
    }
   ],
   "source": [
    "rabit = Herbivore('토끼')\n",
    "rabit.getInfo()\n",
    "rabit.favoriteFood()"
   ]
  },
  {
   "cell_type": "markdown",
   "metadata": {},
   "source": [
    "### 다형성, Polymorphism"
   ]
  },
  {
   "cell_type": "code",
   "execution_count": 23,
   "metadata": {},
   "outputs": [],
   "source": [
    "# Developer 부모 클래스 선언\n",
    "class Developer:\n",
    "    def __init__(self, name):\n",
    "        self.name = name\n",
    "        \n",
    "    def codeing(self):\n",
    "        print(self.name + ' is developer!!')\n",
    "        \n",
    "# PythonDeveloper 자식 클래스 선언\n",
    "class PythonDeveloper(Developer):\n",
    "    def coding(self):\n",
    "        print(self.name + ' is Python developler!!')\n",
    "\n",
    "\n",
    "# JavaDeveloper 자식 클래스 선언\n",
    "class JavaDeveloper(Developer):\n",
    "    def coding(self):\n",
    "        print(self.name + ' is Java developler!!')\n",
    "\n",
    "\n",
    "# CPPDeveloper 자식 클래스 선언\n",
    "class CPPDeveloper(Developer):\n",
    "    def coding(self):\n",
    "        print(self.name + ' is C++ developler!!') "
   ]
  },
  {
   "cell_type": "code",
   "execution_count": 24,
   "metadata": {},
   "outputs": [
    {
     "name": "stdout",
     "output_type": "stream",
     "text": [
      "찬영이 is Python developler!!\n",
      "준영이 is Java developler!!\n",
      "채영이 is C++ developler!!\n"
     ]
    }
   ],
   "source": [
    "pd = PythonDeveloper('찬영이')\n",
    "jd = JavaDeveloper('준영이')\n",
    "cd = CPPDeveloper('채영이')\n",
    "\n",
    "pd.coding()\n",
    "jd.coding()\n",
    "cd.coding()"
   ]
  },
  {
   "cell_type": "markdown",
   "metadata": {},
   "source": [
    "### 응용, StarCraft"
   ]
  },
  {
   "cell_type": "code",
   "execution_count": 25,
   "metadata": {},
   "outputs": [],
   "source": [
    "# Unit 부모클래스 선언\n",
    "class Unit:\n",
    "    def __init__(self, name, energy,  is_fly):\n",
    "        self.name = name\n",
    "        self.energy = energy\n",
    "        self.is_fly = is_fly\n",
    "        self.is_alive = True\n",
    "\n",
    "    def get_tribe(self):\n",
    "        print(self.name + ' is a basic tribe !!')\n",
    "\n",
    "    def get_energy(self):\n",
    "        if self.energy > 0:\n",
    "            print(self.name + '의 현재 에너지는 ', self.energy, '입니다!')\n",
    "        else:\n",
    "            self.is_alive = False\n",
    "            print(self.name + ' 유닛은 전사했습니다. ㅠㅠ')\n",
    "        #return self.energy\n",
    "\n",
    "\n",
    "# 테란 종족 클래스\n",
    "class Terran(Unit):\n",
    "    def get_tribe(self):\n",
    "        print(self.name + ' is a Terran !!')\n",
    "\n",
    "    def be_attactted(self):\n",
    "        self.energy -= 3\n",
    "\n",
    "# 프로토스 종족 클래스\n",
    "class Protoss(Unit):\n",
    "    def get_tribe(self):\n",
    "        print(self.name + ' is a Protoss !!')\n",
    "\n",
    "    def be_attactted(self):\n",
    "        self.energy -= 2\n",
    "\n",
    "# 저그 종족 클래스\n",
    "class Zerg(Unit):\n",
    "    def get_tribe(self):\n",
    "        print(self.name + ' is a Zerg !!')\n",
    "\n",
    "    def be_attactted(self):\n",
    "        self.energy -= 4"
   ]
  },
  {
   "cell_type": "code",
   "execution_count": 26,
   "metadata": {},
   "outputs": [
    {
     "data": {
      "application/vnd.jupyter.widget-view+json": {
       "model_id": "33b0610198cc472ebb5763cc76139105",
       "version_major": 2,
       "version_minor": 0
      },
      "text/plain": [
       "HBox(children=(IntProgress(value=0, max=5), HTML(value='')))"
      ]
     },
     "metadata": {},
     "output_type": "display_data"
    },
    {
     "name": "stdout",
     "output_type": "stream",
     "text": [
      "게임 시작, 유닛의 에너지는 다음과 같습니다!! \n",
      "--------------------------------------------------\n",
      "마린의 현재 에너지는  15 입니다!\n",
      "커세어의 현재 에너지는  20 입니다!\n",
      "히드라의 현재 에너지는  10 입니다!\n",
      "\n",
      "유닛간에 1차 공방전이 이루어졌습니다! \n",
      "--------------------------------------------------\n",
      "마린의 현재 에너지는  12 입니다!\n",
      "커세어의 현재 에너지는  18 입니다!\n",
      "히드라의 현재 에너지는  6 입니다!\n",
      "\n",
      "유닛간에 2차 공방전이 이루어졌습니다! \n",
      "--------------------------------------------------\n",
      "마린의 현재 에너지는  9 입니다!\n",
      "커세어의 현재 에너지는  16 입니다!\n",
      "히드라의 현재 에너지는  2 입니다!\n",
      "\n",
      "유닛간에 3차 공방전이 이루어졌습니다! \n",
      "--------------------------------------------------\n",
      "마린의 현재 에너지는  6 입니다!\n",
      "커세어의 현재 에너지는  14 입니다!\n",
      "히드라 유닛은 전사했습니다. ㅠㅠ\n",
      "================================================== \n",
      "GG, 게임이 종료되었습니다 !!!\n"
     ]
    }
   ],
   "source": [
    "import time\n",
    "from tqdm import tqdm_notebook\n",
    "\n",
    "# 종족별 유닛 생성\n",
    "marine = Terran('마린', 15, False)\n",
    "corsair = Protoss('커세어', 20, True)\n",
    "hydra = Zerg('히드라', 10, False)\n",
    "\n",
    "for x in tqdm_notebook(range(5)):\n",
    "\n",
    "    if x == 0:\n",
    "        print('게임 시작, 유닛의 에너지는 다음과 같습니다!! \\n' + '-' * 50)\n",
    "        marine.get_energy()\n",
    "        corsair.get_energy()\n",
    "        hydra.get_energy()\n",
    "        time.sleep(2)\n",
    "        continue\n",
    "\n",
    "    marine.be_attactted()\n",
    "    corsair.be_attactted()\n",
    "    hydra.be_attactted()\n",
    "\n",
    "    print('\\n유닛간에 %d차 공방전이 이루어졌습니다! \\n' % (x) + '-' * 50)\n",
    "    time.sleep(1)\n",
    "    marine.get_energy();\n",
    "    time.sleep(1)\n",
    "    corsair.get_energy();\n",
    "    time.sleep(1)\n",
    "    hydra.get_energy();\n",
    "    time.sleep(1)\n",
    "\n",
    "    if (marine.is_alive & corsair.is_alive & hydra.is_alive):\n",
    "        time.sleep(1)\n",
    "    else:\n",
    "        break\n",
    "\n",
    "print('=' * 50, '\\nGG, 게임이 종료되었습니다 !!!')"
   ]
  },
  {
   "cell_type": "code",
   "execution_count": null,
   "metadata": {},
   "outputs": [],
   "source": []
  }
 ],
 "metadata": {
  "kernelspec": {
   "display_name": "Python 3",
   "language": "python",
   "name": "python3"
  },
  "language_info": {
   "codemirror_mode": {
    "name": "ipython",
    "version": 3
   },
   "file_extension": ".py",
   "mimetype": "text/x-python",
   "name": "python",
   "nbconvert_exporter": "python",
   "pygments_lexer": "ipython3",
   "version": "3.6.5"
  }
 },
 "nbformat": 4,
 "nbformat_minor": 2
}
