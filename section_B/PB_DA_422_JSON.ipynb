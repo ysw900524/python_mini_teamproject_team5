{
 "cells": [
  {
   "cell_type": "markdown",
   "metadata": {},
   "source": [
    "# JSON (JavaScript Object Notation)\n",
    "> 자바스크립트 객체 표기법\n",
    "\n",
    "> - JSON (JavaScript Object Notation)은 경량의 DATA-교환 형식이다. \n",
    "\n",
    "> - XML은 태그속에 데이타가 들어 있으므로 데이타를 사용하는게 조금 번거롭다. \n",
    "    JSON은 객체이므로 바로 꺼집어내어 사용이 가능하며, 또한 무겁지도 않다.\n",
    "\n",
    "> - JSON은 두개의 구조를 기본으로 두고 있다.\n",
    "\n",
    "> 1) name/value 형태의 쌍으로 collection 타입. \n",
    "  - 다양한 언어들에서, 이는 object, record, struct(구조체), dictionary, hash table, 키가 있는 list, 또는 연상배열로서 실현 되었다. \n",
    "  \n",
    "> 2) 값들의 순서화된 리스트. \n",
    "  - 대부분의 언어들에서, 이는 array, vector, list, 또는 sequence로서 실현 되었다.\n",
    "\n",
    "> - 참조사이트 : http://www.json.org/"
   ]
  },
  {
   "cell_type": "markdown",
   "metadata": {},
   "source": [
    "- json은 자바스크림트로 표현하는 객체 표기법이다.\n",
    "이것을 쓰는 경우에는 데이터를 파싱할 필요가 없어진다. \n",
    "json으로 저장하면 읽어오는 경우에 파싱 필요 없이 바로 객체 인식 가능해진다.\n",
    "- json은 크게 리스트형식과 딕셔너리형식의 2가지로 구성\n"
   ]
  },
  {
   "cell_type": "markdown",
   "metadata": {},
   "source": [
    "### JSON 파일 읽어오기¶\n"
   ]
  },
  {
   "cell_type": "code",
   "execution_count": 1,
   "metadata": {},
   "outputs": [],
   "source": [
    "import json   # json 파일을 불러오기 위한 패키지\n",
    "from pprint import pprint   # 약간 이쁘게 가져오는 pprint 기능임."
   ]
  },
  {
   "cell_type": "code",
   "execution_count": 2,
   "metadata": {},
   "outputs": [],
   "source": [
    "json_data = {\n",
    "    'firstname' : '길동',\n",
    "    'lastname'  : '홍',\n",
    "    'age'       : 20, \n",
    "    'country'   : '율도국'\n",
    "}"
   ]
  },
  {
   "cell_type": "code",
   "execution_count": 3,
   "metadata": {},
   "outputs": [
    {
     "name": "stdout",
     "output_type": "stream",
     "text": [
      "{\"firstname\": \"\\uae38\\ub3d9\", \"lastname\": \"\\ud64d\", \"age\": 20, \"country\": \"\\uc728\\ub3c4\\uad6d\"}\n"
     ]
    }
   ],
   "source": [
    "json_code = json.JSONEncoder().encode(json_data)\n",
    "print(json_code)"
   ]
  },
  {
   "cell_type": "markdown",
   "metadata": {},
   "source": [
    "- 결과값이 이상한 문자열로 바뀐 것을 확인할 수 있는데, 그 이유는 ASCII 코드로 바뀌어 출력되었기 때문이다."
   ]
  },
  {
   "cell_type": "code",
   "execution_count": 4,
   "metadata": {},
   "outputs": [
    {
     "name": "stdout",
     "output_type": "stream",
     "text": [
      "\"\\ud55c\\uae00\"\n"
     ]
    }
   ],
   "source": [
    "check = json.dumps('한글')\n",
    "print(check)"
   ]
  },
  {
   "cell_type": "code",
   "execution_count": 6,
   "metadata": {},
   "outputs": [
    {
     "name": "stdout",
     "output_type": "stream",
     "text": [
      "\"한글\"\n"
     ]
    }
   ],
   "source": [
    "check = json.dumps('한글', ensure_ascii=False)\n",
    "print(check)"
   ]
  },
  {
   "cell_type": "markdown",
   "metadata": {},
   "source": [
    "- ascii 코드 적용을 false로 해주면 한글이 그대로 나타난다."
   ]
  },
  {
   "cell_type": "code",
   "execution_count": 7,
   "metadata": {},
   "outputs": [
    {
     "name": "stdout",
     "output_type": "stream",
     "text": [
      "{\"firstname\": \"길동\", \"lastname\": \"홍\", \"age\": 20, \"country\": \"율도국\"}\n"
     ]
    }
   ],
   "source": [
    "check = json.dumps(json_data, ensure_ascii=False)\n",
    "print(check)"
   ]
  },
  {
   "cell_type": "code",
   "execution_count": 8,
   "metadata": {},
   "outputs": [
    {
     "data": {
      "text/plain": [
       "{'firstname': '길동', 'lastname': '홍', 'age': 20, 'country': '율도국'}"
      ]
     },
     "execution_count": 8,
     "metadata": {},
     "output_type": "execute_result"
    }
   ],
   "source": [
    "json_code = json.JSONDecoder().decode(check)\n",
    "json_code"
   ]
  },
  {
   "cell_type": "code",
   "execution_count": 9,
   "metadata": {},
   "outputs": [
    {
     "data": {
      "text/plain": [
       "'율도국'"
      ]
     },
     "execution_count": 9,
     "metadata": {},
     "output_type": "execute_result"
    }
   ],
   "source": [
    "json_code['country']"
   ]
  },
  {
   "cell_type": "code",
   "execution_count": 10,
   "metadata": {},
   "outputs": [
    {
     "data": {
      "text/plain": [
       "'홍길동은 20살 이고, 율도국에 살고 있습니다.'"
      ]
     },
     "execution_count": 10,
     "metadata": {},
     "output_type": "execute_result"
    }
   ],
   "source": [
    "\"{}{}은 {}살 이고, {}에 살고 있습니다.\".format(\n",
    "    json_code['lastname'],\n",
    "    json_code['firstname'],\n",
    "    json_code['age'],\n",
    "    json_code['country'],\n",
    ")"
   ]
  },
  {
   "cell_type": "markdown",
   "metadata": {},
   "source": [
    "### Person 객체"
   ]
  },
  {
   "cell_type": "code",
   "execution_count": 11,
   "metadata": {},
   "outputs": [],
   "source": [
    "class Person:\n",
    "    name = str()\n",
    "    age  = int()\n",
    "    hometown = str()\n",
    "    \n",
    "    def __init__(self, name, age, hometown):\n",
    "        self.name = name\n",
    "        self.age  = age\n",
    "        self.hometown = hometown\n",
    "    \n",
    "    def to_string(self):\n",
    "        # str = '나의 살던 고향은 ' + self.hometown + '입니다.'\n",
    "        str = '%s의 나이는 %d살이고, 고향은 %s입니다.' % (self.name, self.age, self.hometown)\n",
    "        return str"
   ]
  },
  {
   "cell_type": "code",
   "execution_count": 12,
   "metadata": {},
   "outputs": [],
   "source": [
    "theif1 = Person(\"홍길동\", 20, \"율도국\");\n",
    "theif2 = Person(\"임꺽정\", 35, \"구월산\");"
   ]
  },
  {
   "cell_type": "code",
   "execution_count": 13,
   "metadata": {},
   "outputs": [
    {
     "data": {
      "text/plain": [
       "'홍길동의 나이는 20살이고, 고향은 율도국입니다.'"
      ]
     },
     "execution_count": 13,
     "metadata": {},
     "output_type": "execute_result"
    }
   ],
   "source": [
    "theif1.to_string()"
   ]
  },
  {
   "cell_type": "code",
   "execution_count": 14,
   "metadata": {},
   "outputs": [
    {
     "data": {
      "text/plain": [
       "'임꺽정의 나이는 35살이고, 고향은 구월산입니다.'"
      ]
     },
     "execution_count": 14,
     "metadata": {},
     "output_type": "execute_result"
    }
   ],
   "source": [
    "theif2.to_string()"
   ]
  },
  {
   "cell_type": "markdown",
   "metadata": {},
   "source": [
    "### JSON 코드 작성하기"
   ]
  },
  {
   "cell_type": "markdown",
   "metadata": {},
   "source": [
    "JSON 코드1\n",
    "> - girlgroup.json \n",
    "──────────────────────────────────────────────────\n",
    "[ \"소녀시대\", \"앱터스쿨\", \"에이핑크\", \"걸스데이\", \"우주소녀\" ]"
   ]
  },
  {
   "cell_type": "markdown",
   "metadata": {},
   "source": [
    ">> 출력 : 내가 좋아하는 걸그룹은 에이핑크와 우주소녀입니다."
   ]
  },
  {
   "cell_type": "code",
   "execution_count": 15,
   "metadata": {},
   "outputs": [],
   "source": [
    "with open('data/girlgroup.json', 'w') as fp:\n",
    "    data = '[ \"소녀시대\", \"앱터스쿨\", \"에이핑크\", \"걸스데이\", \"우주소녀\" ]'\n",
    "    fp.write(data)"
   ]
  },
  {
   "cell_type": "code",
   "execution_count": 16,
   "metadata": {},
   "outputs": [],
   "source": [
    "with open('data/girlgroup.json') as data_file:    \n",
    "    girlgroup = json.load(data_file)"
   ]
  },
  {
   "cell_type": "code",
   "execution_count": 17,
   "metadata": {},
   "outputs": [
    {
     "data": {
      "text/plain": [
       "['소녀시대', '앱터스쿨', '에이핑크', '걸스데이', '우주소녀']"
      ]
     },
     "execution_count": 17,
     "metadata": {},
     "output_type": "execute_result"
    }
   ],
   "source": [
    "girlgroup"
   ]
  },
  {
   "cell_type": "code",
   "execution_count": 18,
   "metadata": {},
   "outputs": [
    {
     "data": {
      "text/plain": [
       "'내가 좋아하는 걸그룹은 에이핑크와 우주소녀입니다.'"
      ]
     },
     "execution_count": 18,
     "metadata": {},
     "output_type": "execute_result"
    }
   ],
   "source": [
    "\"내가 좋아하는 걸그룹은 {}와 {}입니다.\".format(\n",
    "    girlgroup[2], girlgroup[4]\n",
    ") "
   ]
  },
  {
   "cell_type": "markdown",
   "metadata": {},
   "source": [
    "JSON 코드2\n",
    "> - member.json \n",
    "──────────────────────────────────────────────────\n",
    "{ \n",
    "    \"name\" : \"홍길동\", \n",
    "    \"age\" : 20, \n",
    "    \"addr\" : { \n",
    "        \"city\" : \"서울시\", \n",
    "        \"dong\" : \"염창동\" \n",
    "    } \n",
    "}"
   ]
  },
  {
   "cell_type": "markdown",
   "metadata": {},
   "source": [
    ">> 출력 : 홍길동은 20살 이고, 서울시 염창동에 살고 있습니다."
   ]
  },
  {
   "cell_type": "code",
   "execution_count": 19,
   "metadata": {},
   "outputs": [],
   "source": [
    "data = '''\n",
    "    {\n",
    "        \"name\" : \"홍길동\",\n",
    "        \"age\"  : 20,\n",
    "        \"addr\" : {\n",
    "            \"city\"  : \"서울시\",\n",
    "            \"dong\"  : \"염창동\"\n",
    "        }\n",
    "    }\n",
    "'''\n",
    "with open('data/member.json', 'w') as fp:\n",
    "    fp.write(data)"
   ]
  },
  {
   "cell_type": "code",
   "execution_count": 20,
   "metadata": {},
   "outputs": [
    {
     "name": "stdout",
     "output_type": "stream",
     "text": [
      "{'name': '홍길동', 'age': 20, 'addr': {'city': '서울시', 'dong': '염창동'}}\n"
     ]
    }
   ],
   "source": [
    "with open('data/member.json') as data_file:    \n",
    "    member = json.load(data_file)\n",
    "\n",
    "print(member)"
   ]
  },
  {
   "cell_type": "code",
   "execution_count": 21,
   "metadata": {},
   "outputs": [
    {
     "data": {
      "text/plain": [
       "'홍길동은 20살 이고, 서울시 염창동에 살고 있습니다.'"
      ]
     },
     "execution_count": 21,
     "metadata": {},
     "output_type": "execute_result"
    }
   ],
   "source": [
    "\"{}은 {}살 이고, {} {}에 살고 있습니다.\".format(\n",
    "    member[\"name\"],\n",
    "    member[\"age\"],\n",
    "    member[\"addr\"][\"city\"], \n",
    "    member[\"addr\"][\"dong\"], \n",
    ")"
   ]
  },
  {
   "cell_type": "markdown",
   "metadata": {},
   "source": [
    "JSON 코드3\n",
    "> - person.json \n",
    "──────────────────────────────────────────────────\n",
    "{ \n",
    "    \"name\" : \"홍길동\", \n",
    "    \"dog\" : { \n",
    "        \"name\" : \"순둥이\", \n",
    "        \"toys\" : [ \n",
    "            { \"name\" : \"뽀로로\" }, \n",
    "            { \"name\" : \"토마스\" } \n",
    "        ] \n",
    "    } \n",
    "}"
   ]
  },
  {
   "cell_type": "markdown",
   "metadata": {},
   "source": [
    ">> 출력 : 홍길동의 개 순둥이의 장난감은 뽀로로, 토마스입니다."
   ]
  },
  {
   "cell_type": "code",
   "execution_count": 22,
   "metadata": {},
   "outputs": [],
   "source": [
    "data = '''\n",
    "{\n",
    "    \"name\" : \"홍길동\",\n",
    "    \"dog\"  : {\n",
    "        \"name\" : \"순둥이\",\n",
    "        \"toys\" : [\n",
    "                { \"name\" : \"뽀로로\" },\n",
    "                { \"name\" : \"토마스\" }\n",
    "        ]\n",
    "    }\n",
    "}\n",
    "'''"
   ]
  },
  {
   "cell_type": "code",
   "execution_count": 23,
   "metadata": {},
   "outputs": [],
   "source": [
    "with open('data/person.json', 'w') as fp:\n",
    "    fp.write(data)"
   ]
  },
  {
   "cell_type": "code",
   "execution_count": 24,
   "metadata": {},
   "outputs": [
    {
     "name": "stdout",
     "output_type": "stream",
     "text": [
      "{'name': '홍길동', 'dog': {'name': '순둥이', 'toys': [{'name': '뽀로로'}, {'name': '토마스'}]}}\n"
     ]
    }
   ],
   "source": [
    "with open('data/person.json') as data_file:    \n",
    "    person = json.load(data_file)\n",
    "    \n",
    "print(person)"
   ]
  },
  {
   "cell_type": "markdown",
   "metadata": {},
   "source": [
    "아래와 같이 출력하는 JSON 코드로 작성하세요.\n",
    ">> 출력 : 홍길동의 개 순둥이의 장난감은 뽀로로, 토마스입니다."
   ]
  },
  {
   "cell_type": "markdown",
   "metadata": {},
   "source": [
    "JSON코드로 완성하기\n",
    "> \"{}의 개 {}의 장난감은 {}, {}입니다.\".format( )"
   ]
  },
  {
   "cell_type": "code",
   "execution_count": 30,
   "metadata": {},
   "outputs": [
    {
     "data": {
      "text/plain": [
       "'홍길동의 개 순둥이의 장난감은 뽀로로, 토마스입니다.'"
      ]
     },
     "execution_count": 30,
     "metadata": {},
     "output_type": "execute_result"
    }
   ],
   "source": [
    "\"{}의 개 {}의 장난감은 {}, {}입니다.\".format(\n",
    "    person[\"name\"], \n",
    "    person[\"dog\"][\"name\"], \n",
    "    person[\"dog\"][\"toys\"][0][\"name\"], \n",
    "    person[\"dog\"][\"toys\"][1][\"name\"])"
   ]
  },
  {
   "cell_type": "markdown",
   "metadata": {},
   "source": [
    "> - dict는 키값, 리스트는 인덱스 번호"
   ]
  },
  {
   "cell_type": "code",
   "execution_count": null,
   "metadata": {},
   "outputs": [],
   "source": []
  }
 ],
 "metadata": {
  "kernelspec": {
   "display_name": "Python 3",
   "language": "python",
   "name": "python3"
  },
  "language_info": {
   "codemirror_mode": {
    "name": "ipython",
    "version": 3
   },
   "file_extension": ".py",
   "mimetype": "text/x-python",
   "name": "python",
   "nbconvert_exporter": "python",
   "pygments_lexer": "ipython3",
   "version": "3.6.5"
  }
 },
 "nbformat": 4,
 "nbformat_minor": 2
}
