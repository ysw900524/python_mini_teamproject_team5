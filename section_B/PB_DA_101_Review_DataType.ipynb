{
 "cells": [
  {
   "cell_type": "markdown",
   "metadata": {},
   "source": [
    "# Python Review : 변수, 데이터타입, 제어문"
   ]
  },
  {
   "cell_type": "markdown",
   "metadata": {},
   "source": [
    "## Jupyter Notebook 소개"
   ]
  },
  {
   "cell_type": "markdown",
   "metadata": {},
   "source": [
    "> Introduction & Tips\n",
    ">> - Jupyter Notebook : Interaction Python Programming Tool\n",
    "- 한줄실행 : Shift + Enter\n",
    "- 커맨드문 : Markdown, Raw NBConvert\n"
   ]
  },
  {
   "cell_type": "markdown",
   "metadata": {},
   "source": [
    "### 1. 변수"
   ]
  },
  {
   "cell_type": "code",
   "execution_count": 1,
   "metadata": {},
   "outputs": [
    {
     "name": "stdout",
     "output_type": "stream",
     "text": [
      "Hello, Python World!\n"
     ]
    }
   ],
   "source": [
    "print('Hello, Python World!')"
   ]
  },
  {
   "cell_type": "code",
   "execution_count": 2,
   "metadata": {},
   "outputs": [
    {
     "name": "stdout",
     "output_type": "stream",
     "text": [
      "안녕하세요! \n",
      "반갑습니다.\n"
     ]
    }
   ],
   "source": [
    "print(\"안녕하세요! \\n반갑습니다.\")"
   ]
  },
  {
   "cell_type": "code",
   "execution_count": 3,
   "metadata": {},
   "outputs": [
    {
     "name": "stdout",
     "output_type": "stream",
     "text": [
      "\n",
      "빅데이터 과정에서\n",
      "만나서 반갑습니다.\n",
      "끝까지 화이팅하세요!!!\n",
      "\n"
     ]
    }
   ],
   "source": [
    "print('''\n",
    "빅데이터 과정에서\n",
    "만나서 반갑습니다.\n",
    "끝까지 화이팅하세요!!!\n",
    "''')"
   ]
  },
  {
   "cell_type": "code",
   "execution_count": 4,
   "metadata": {},
   "outputs": [
    {
     "name": "stdout",
     "output_type": "stream",
     "text": [
      "500\n"
     ]
    }
   ],
   "source": [
    "print(200+300)"
   ]
  },
  {
   "cell_type": "code",
   "execution_count": 6,
   "metadata": {},
   "outputs": [
    {
     "name": "stdout",
     "output_type": "stream",
     "text": [
      "A와 B를 더한 값은 30 입니다.\n"
     ]
    }
   ],
   "source": [
    "a = 10\n",
    "b = 20\n",
    "ret = a + b\n",
    "\n",
    "print('A와 B를 더한 값은 ', end='')\n",
    "print(ret, end='')\n",
    "print(' 입니다.')"
   ]
  },
  {
   "cell_type": "markdown",
   "metadata": {},
   "source": [
    "### end 옵션\n",
    "코드 마지막에 end=''을 넣어주면, end  자체가 디폴트 값으로 다음줄을 가지고 있기 때문에\n",
    "print(x, end='')\n",
    "print(y, end='')\n",
    "를 치면 xy가 출력된다.\n"
   ]
  },
  {
   "cell_type": "code",
   "execution_count": 7,
   "metadata": {},
   "outputs": [
    {
     "name": "stdout",
     "output_type": "stream",
     "text": [
      "사과 7개의 가격은 3500원입니다.\n"
     ]
    }
   ],
   "source": [
    "apple_price = 500\n",
    "apple_count = 7\n",
    "\n",
    "print('사과 7개의 가격은 ' + str(apple_price*apple_count) + '원입니다.')"
   ]
  },
  {
   "cell_type": "code",
   "execution_count": 8,
   "metadata": {},
   "outputs": [
    {
     "name": "stdout",
     "output_type": "stream",
     "text": [
      "이름을 입력하세요. 빅파이\n",
      "빅파이님, 어서오세요.\n"
     ]
    }
   ],
   "source": [
    "name = input('이름을 입력하세요. ')\n",
    "welcome = name + '님, 어서오세요.'\n",
    "\n",
    "print(welcome)"
   ]
  },
  {
   "cell_type": "markdown",
   "metadata": {},
   "source": [
    "### 2. 데이터 타입"
   ]
  },
  {
   "cell_type": "markdown",
   "metadata": {},
   "source": [
    "- 숫자형, Numeric Type"
   ]
  },
  {
   "cell_type": "code",
   "execution_count": 9,
   "metadata": {},
   "outputs": [
    {
     "name": "stdout",
     "output_type": "stream",
     "text": [
      "x =  20\n",
      "y =  10\n",
      "x + y =  30\n",
      "x - y =  10\n",
      "x * y =  200\n",
      "x / y =  2.0\n",
      "x //y =  2\n",
      "x % y =  0\n",
      "-x =  -20\n",
      "+x =  20\n",
      "x ** y =  10240000000000\n",
      "pow(x,y) =  10240000000000\n"
     ]
    }
   ],
   "source": [
    "# 숫자 연산\n",
    "x = 20\n",
    "y = 10\n",
    "\n",
    "print(\"x = \", x)\n",
    "print(\"y = \", y)\n",
    "print(\"x + y = \", x+y)\n",
    "print(\"x - y = \" , x-y)\n",
    "print(\"x * y = \" , x*y)\n",
    "print(\"x / y = \" , x/y)\n",
    "print(\"x //y = \", x//y)\n",
    "print(\"x % y = \" , x%y)\n",
    "print(\"-x = \"    , -x)\n",
    "print(\"+x = \"    , +x)\n",
    "print(\"x ** y = \", x**y)\n",
    "print(\"pow(x,y) = \", pow(x,y))"
   ]
  },
  {
   "cell_type": "code",
   "execution_count": 10,
   "metadata": {},
   "outputs": [
    {
     "name": "stdout",
     "output_type": "stream",
     "text": [
      "1.0\n",
      "3.14\n",
      "1560.0\n",
      "-7e-05\n"
     ]
    }
   ],
   "source": [
    "# 실수형 데이터\n",
    "f1 = 1.0\n",
    "f2 = 3.14\n",
    "f3 = 1.56e3\n",
    "f4 = -0.7e-4\n",
    "print(f1)\n",
    "print(f2)\n",
    "print(f3)\n",
    "print(f4)"
   ]
  },
  {
   "cell_type": "code",
   "execution_count": 14,
   "metadata": {},
   "outputs": [
    {
     "name": "stdout",
     "output_type": "stream",
     "text": [
      "1.0\n",
      "7.0\n",
      "(2+3j)\n"
     ]
    }
   ],
   "source": [
    "# 복소수형 데이터\n",
    "c1 = 1+7j\n",
    "print(c1.real); print(c1.imag)\n",
    "\n",
    "c2 = complex(2, 3)\n",
    "print(c2)"
   ]
  },
  {
   "cell_type": "markdown",
   "metadata": {},
   "source": [
    "- 논리형, Boolen Type"
   ]
  },
  {
   "cell_type": "code",
   "execution_count": 15,
   "metadata": {},
   "outputs": [
    {
     "name": "stdout",
     "output_type": "stream",
     "text": [
      "x == y =  False\n",
      "x != y =  True\n",
      "x < y =  True\n",
      "x > y =  False\n",
      "int(True) =  1\n",
      "int(False) =  0\n"
     ]
    }
   ],
   "source": [
    "# 비교연산자와 논리연산자\n",
    "x = 30\n",
    "y = 40\n",
    "\n",
    "print(\"x == y = \", x==y)\n",
    "print(\"x != y = \", x!=y)\n",
    "\n",
    "print(\"x < y = \", x<y)\n",
    "print(\"x > y = \", x>y)\n",
    "\n",
    "print(\"int(True) = \", int(True))\n",
    "print(\"int(False) = \", int(False))"
   ]
  },
  {
   "cell_type": "code",
   "execution_count": 16,
   "metadata": {},
   "outputs": [
    {
     "name": "stdout",
     "output_type": "stream",
     "text": [
      "False\n",
      "True\n",
      "False\n",
      "True\n",
      "False\n"
     ]
    }
   ],
   "source": [
    "# 관계 연산자 (==, !=, <, <=, >, >=)\n",
    "x = 1; y =2\n",
    "str1 = 'bigdata'; str2 = 'Python'\n",
    "print(x == y)\n",
    "print(x != y)\n",
    "print(str == str2)\n",
    "print(str2 == 'Python')\n",
    "print(str1 < str2)"
   ]
  },
  {
   "cell_type": "code",
   "execution_count": 17,
   "metadata": {},
   "outputs": [
    {
     "name": "stdout",
     "output_type": "stream",
     "text": [
      "False\n",
      "True\n",
      "True\n",
      "False\n",
      "False\n",
      "True\n"
     ]
    }
   ],
   "source": [
    "# 논리 연산자 (and, or, not)\n",
    "bool1 = True; bool2 = False;\n",
    "bool3 = True; bool4 = False\n",
    "\n",
    "print(bool1 and bool2)\n",
    "print(bool1 and bool3)\n",
    "print(bool2 or bool3)\n",
    "print(bool2 or bool4)\n",
    "print(not bool1)\n",
    "print(not bool2)"
   ]
  },
  {
   "cell_type": "code",
   "execution_count": 20,
   "metadata": {},
   "outputs": [
    {
     "name": "stdout",
     "output_type": "stream",
     "text": [
      "0b1100001\n",
      "0b1100010\n",
      "0x60\n",
      "0x63\n",
      "0x3\n",
      "0x0\n",
      "0x184000000000000000000000000\n"
     ]
    }
   ],
   "source": [
    "# 비트 연산자 (&, |, ~, ^, >>, <<)\n",
    "bit1 = 0x61\n",
    "bit2 = 0x62\n",
    "\n",
    "print(bin(bit1))\n",
    "print(bin(bit2))\n",
    "print(hex(bit1& bit2))\n",
    "print(hex(bit1 | bit2))\n",
    "print(hex(bit1 ^ bit2))\n",
    "print(hex(bit1 >> bit2))\n",
    "print(hex(bit1 << bit2))"
   ]
  },
  {
   "cell_type": "markdown",
   "metadata": {},
   "source": [
    "-  문자형, String Type"
   ]
  },
  {
   "cell_type": "code",
   "execution_count": 24,
   "metadata": {},
   "outputs": [
    {
     "name": "stdout",
     "output_type": "stream",
     "text": [
      "True\n",
      "True\n",
      "False\n",
      "Python 프로그래밍 재미있다!\n"
     ]
    }
   ],
   "source": [
    "test = '파이썬 프로그래밍 재미있다!'\n",
    "# 문자열을 변수에 저장\n",
    "\n",
    "result = test.startswith('파이썬')\n",
    "# 문자열이 '파이썬'으로 시작하는지 확인\n",
    "print(result)\n",
    "result = test.endswith('!')\n",
    "# 문자열이 '!'로 끝나는지 확인\n",
    "print(result)\n",
    "result = test.endswith('어려워요!')\n",
    "# 문자열이 '어려워요!'로 끝나는지 확인\n",
    "print(result)\n",
    "result = test.replace('파이썬', 'Python')\n",
    "# 문자열중 '파이썬'을 'Python'으로 변경\n",
    "print(result)"
   ]
  },
  {
   "cell_type": "code",
   "execution_count": 26,
   "metadata": {},
   "outputs": [
    {
     "name": "stdout",
     "output_type": "stream",
     "text": [
      "PYTHON PROGRAMMING IS INTERESTING!\n",
      "python programming is interesting!\n",
      "P/y/t/h/o/n/ /P/r/o/g/r/a/m/m/i/n/g/ /i/s/ /I/n/t/e/r/e/s/t/i/n/g/!\n"
     ]
    }
   ],
   "source": [
    "test = 'Python Programming is Interesting!'\n",
    "\n",
    "result = test.upper()\n",
    "# 문자열을 모두 대문자로 변경\n",
    "print(result)\n",
    "result = test.lower()\n",
    "# 문자열을 모두 소문자로 변경\n",
    "print(result)\n",
    "result = '/'.join(test)\n",
    "# 문자열의 각 문자 사이에 '/' 문자 집어 넣기\n",
    "print(result)"
   ]
  },
  {
   "cell_type": "markdown",
   "metadata": {},
   "source": [
    "### 3. 조건문"
   ]
  },
  {
   "cell_type": "code",
   "execution_count": 27,
   "metadata": {},
   "outputs": [
    {
     "name": "stdout",
     "output_type": "stream",
     "text": [
      "숫자 A와 숫자 B는 같지 않습니다.\n"
     ]
    }
   ],
   "source": [
    "num_a = 100\n",
    "num_b = 200\n",
    "\n",
    "if num_a == num_b:\n",
    "    print('숫자 A와 숫자B는 같습니다.')\n",
    "else:\n",
    "    print('숫자 A와 숫자 B는 같지 않습니다.')"
   ]
  },
  {
   "cell_type": "code",
   "execution_count": 28,
   "metadata": {},
   "outputs": [
    {
     "name": "stdout",
     "output_type": "stream",
     "text": [
      "숫자 B가 더 큰 수입니다.\n"
     ]
    }
   ],
   "source": [
    "if num_a > num_b:\n",
    "    print('숫자 A가 더 큰 수입니다.')\n",
    "else :\n",
    "    print('숫자 B가 더 큰 수입니다.')"
   ]
  },
  {
   "cell_type": "code",
   "execution_count": 29,
   "metadata": {},
   "outputs": [
    {
     "name": "stdout",
     "output_type": "stream",
     "text": [
      "숫자 B가 더 큰수입니다.\n",
      "숫자A와 숫자B 중 최대값은  200 입니다.\n"
     ]
    }
   ],
   "source": [
    "if num_a > num_b:\n",
    "    print('숫자 A가 더 큰수입니다.')\n",
    "    max = num_a\n",
    "elif num_a < num_b:\n",
    "    print('숫자 B가 더 큰수입니다.')\n",
    "    max = num_b\n",
    "else :\n",
    "    print('숫자A와 숫자B는 같습니다.')\n",
    "    \n",
    "print('숫자A와 숫자B 중 최대값은 ', max, '입니다.')"
   ]
  },
  {
   "cell_type": "markdown",
   "metadata": {},
   "source": [
    "### 4. 순환문, for"
   ]
  },
  {
   "cell_type": "code",
   "execution_count": 30,
   "metadata": {},
   "outputs": [
    {
     "name": "stdout",
     "output_type": "stream",
     "text": [
      "1\n",
      "2\n",
      "3\n",
      "4\n",
      "5\n"
     ]
    }
   ],
   "source": [
    "scope = [1, 2, 3, 4, 5]\n",
    "\n",
    "for x in scope:\n",
    "    print(x)"
   ]
  },
  {
   "cell_type": "code",
   "execution_count": 31,
   "metadata": {},
   "outputs": [
    {
     "name": "stdout",
     "output_type": "stream",
     "text": [
      "1\n",
      "2\n",
      "3\n"
     ]
    }
   ],
   "source": [
    "# for~continue~break\n",
    "scope = [1, 2, 3, 4, 5]\n",
    "\n",
    "for x in scope:\n",
    "    print(x)\n",
    "    if x<3:\n",
    "        continue\n",
    "    else:\n",
    "        break"
   ]
  },
  {
   "cell_type": "code",
   "execution_count": 32,
   "metadata": {},
   "outputs": [
    {
     "name": "stdout",
     "output_type": "stream",
     "text": [
      "1\n"
     ]
    }
   ],
   "source": [
    "# for~else\n",
    "scope = [1,2,3]\n",
    "\n",
    "for x in scope:\n",
    "    print(x)\n",
    "    break\n",
    "else:\n",
    "    print('Perfect')"
   ]
  },
  {
   "cell_type": "markdown",
   "metadata": {},
   "source": [
    "- range() 함수: 인자값 1개, 2개, 3개 일 때 차이점 이해"
   ]
  },
  {
   "cell_type": "code",
   "execution_count": 33,
   "metadata": {},
   "outputs": [
    {
     "data": {
      "text/plain": [
       "[0, 1, 2, 3, 4, 5, 6, 7, 8, 9]"
      ]
     },
     "execution_count": 33,
     "metadata": {},
     "output_type": "execute_result"
    }
   ],
   "source": [
    "list(range(10))"
   ]
  },
  {
   "cell_type": "code",
   "execution_count": 34,
   "metadata": {},
   "outputs": [
    {
     "data": {
      "text/plain": [
       "[5, 6, 7, 8, 9]"
      ]
     },
     "execution_count": 34,
     "metadata": {},
     "output_type": "execute_result"
    }
   ],
   "source": [
    "list(range(5,10))"
   ]
  },
  {
   "cell_type": "code",
   "execution_count": 35,
   "metadata": {},
   "outputs": [
    {
     "data": {
      "text/plain": [
       "[1, 3, 5, 7, 9]"
      ]
     },
     "execution_count": 35,
     "metadata": {},
     "output_type": "execute_result"
    }
   ],
   "source": [
    "list(range(1,10,2))"
   ]
  },
  {
   "cell_type": "markdown",
   "metadata": {},
   "source": [
    "- for문에 range() 적용"
   ]
  },
  {
   "cell_type": "code",
   "execution_count": 37,
   "metadata": {},
   "outputs": [
    {
     "name": "stdout",
     "output_type": "stream",
     "text": [
      "0\n",
      "1\n",
      "2\n",
      "3\n",
      "4\n"
     ]
    }
   ],
   "source": [
    "for i in range(5):\n",
    "    print(i)"
   ]
  },
  {
   "cell_type": "code",
   "execution_count": 38,
   "metadata": {},
   "outputs": [
    {
     "name": "stdout",
     "output_type": "stream",
     "text": [
      "*\n",
      "***\n",
      "*****\n",
      "*******\n",
      "*********\n"
     ]
    }
   ],
   "source": [
    "for i in range(1, 10, 2):\n",
    "    mark = \"*\" * i\n",
    "    print(mark)"
   ]
  },
  {
   "cell_type": "code",
   "execution_count": 39,
   "metadata": {},
   "outputs": [
    {
     "name": "stdout",
     "output_type": "stream",
     "text": [
      "    *\n",
      "   ***\n",
      "  *****\n",
      " *******\n",
      "*********\n"
     ]
    }
   ],
   "source": [
    "for i in range(1, 10, 2):\n",
    "    mark = \" \" * int((10-i)/2) + \"*\" * i\n",
    "    print(mark)"
   ]
  },
  {
   "cell_type": "markdown",
   "metadata": {},
   "source": [
    "### 5. 순환문, while"
   ]
  },
  {
   "cell_type": "code",
   "execution_count": 40,
   "metadata": {},
   "outputs": [
    {
     "name": "stdout",
     "output_type": "stream",
     "text": [
      "447\n",
      "100128\n"
     ]
    }
   ],
   "source": [
    "# while~continue~break\n",
    "x =1\n",
    "total = 0\n",
    "\n",
    "while True:\n",
    "    total = total + x\n",
    "    if total > 100000:\n",
    "        print(x)\n",
    "        print(total)\n",
    "        break\n",
    "    x = x + 1\n",
    "    "
   ]
  },
  {
   "cell_type": "code",
   "execution_count": 42,
   "metadata": {},
   "outputs": [
    {
     "name": "stdout",
     "output_type": "stream",
     "text": [
      "numbers :  [0, 1, 2, 3, 4, 5, 6, 7, 8, 9]\n",
      "numbers의 합계는 45 입니다.\n"
     ]
    }
   ],
   "source": [
    "numbers = list(range(10))\n",
    "print(\"numbers : \", numbers)\n",
    "idx, sum = 0, 0\n",
    "\n",
    "while idx < len(numbers):\n",
    "    num = numbers[idx]\n",
    "    sum += idx\n",
    "    idx += 1\n",
    "    \n",
    "print('numbers의 합계는', sum, '입니다.')"
   ]
  },
  {
   "cell_type": "markdown",
   "metadata": {},
   "source": [
    "### spyder는 Rstudio와 유사한 점이 많음"
   ]
  },
  {
   "cell_type": "code",
   "execution_count": null,
   "metadata": {},
   "outputs": [],
   "source": []
  }
 ],
 "metadata": {
  "kernelspec": {
   "display_name": "Python 3",
   "language": "python",
   "name": "python3"
  },
  "language_info": {
   "codemirror_mode": {
    "name": "ipython",
    "version": 3
   },
   "file_extension": ".py",
   "mimetype": "text/x-python",
   "name": "python",
   "nbconvert_exporter": "python",
   "pygments_lexer": "ipython3",
   "version": "3.6.5"
  }
 },
 "nbformat": 4,
 "nbformat_minor": 2
}
