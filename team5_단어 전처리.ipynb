{
 "cells": [
  {
   "cell_type": "code",
   "execution_count": 1,
   "metadata": {},
   "outputs": [],
   "source": [
    "import pandas as pd\n",
    "import re"
   ]
  },
  {
   "cell_type": "code",
   "execution_count": 10,
   "metadata": {},
   "outputs": [],
   "source": [
    "tmp_eco = pd.read_csv('./teample_1/common_word_economy_utf.csv', sep=',', encoding='utf-8')\n",
    "tmp_soc = pd.read_csv('./teample_1/common_word_society_utf.csv', sep=',', encoding='utf-8')\n",
    "tmp_pol = pd.read_csv('./teample_1/common_word_policy_utf.csv', sep=',', encoding='utf-8')"
   ]
  },
  {
   "cell_type": "code",
   "execution_count": 24,
   "metadata": {},
   "outputs": [
    {
     "data": {
      "text/plain": [
       "pandas.core.series.Series"
      ]
     },
     "execution_count": 24,
     "metadata": {},
     "output_type": "execute_result"
    }
   ],
   "source": [
    "tmp_eco2 = tmp_eco['경제단어']\n",
    "type(tmp_eco2)\n",
    "# tmp_eco3 = list(tmp_eco2)\n",
    "# tmp_0 = tmp_eco3[0].split(',')\n",
    "# tmp_0.replace('\\'', '')"
   ]
  },
  {
   "cell_type": "code",
   "execution_count": 30,
   "metadata": {},
   "outputs": [
    {
     "data": {
      "text/plain": [
       "\"0        '삼성', 304)\\n1        '한국', 232)\\n2        '정부', 205)\\n3        '기업', 166)\\n4        '회장', 159)\\n5         '명', 150)\\n6        '금융', 146)\\n7        '전자', 146)\\n8        '투자', 139)\\n9         '등', 129)\\n10       '주택', 129)\\n11       '단독', 123)\\n12       '대출', 122)\\n13        '중', 113)\\n14        '더', 113)\\n15       '경제', 111)\\n16       '지원', 106)\\n17       '최대', 102)\\n18       '증가', 100)\\n19        '사회', 99)\\n20         '위', 99)\\n21         '제', 99)\\n22       '현대차', 98)\\n23         '첫', 97)\\n24         '차', 96)\\n25        '은행', 92)\\n26        '금리', 89)\\n27        '성장', 89)\\n28         '곳', 88)\\n29        '산업', 86)\\n            ...     \\n7505      '마사회', 1)\\n7506       '죄수', 1)\\n7507       '말똥', 1)\\n7508       '파병', 1)\\n7509      '신년사', 1)\\n7510       '권유', 1)\\n7511     '지분매각', 1)\\n7512       '호칭', 1)\\n7513      '트렌드', 1)\\n7514     '다이어트', 1)\\n7515      '바이크', 1)\\n7516     '방위산업', 1)\\n7517      '현충원', 1)\\n7518       '시무', 1)\\n7519       '김값', 1)\\n7520       '백화', 1)\\n7521       '픽업', 1)\\n7522        '렉', 1)\\n7523       '스턴', 1)\\n7524      '다케무', 1)\\n7525       '노부', 1)\\n7526       '유키', 1)\\n7527        '찜', 1)\\n7528      '김기남', 1)\\n7529       '초심', 1)\\n7530      '도서관', 1)\\n7531     '트라우마', 1)\\n7532      '세종시', 1)\\n7533      '풀무원', 1)\\n7534    '최고경영자', 1)\\nName: 경제단어, Length: 7535, dtype: object\""
      ]
     },
     "execution_count": 30,
     "metadata": {},
     "output_type": "execute_result"
    }
   ],
   "source": []
  },
  {
   "cell_type": "code",
   "execution_count": null,
   "metadata": {},
   "outputs": [],
   "source": []
  }
 ],
 "metadata": {
  "kernelspec": {
   "display_name": "Python 3",
   "language": "python",
   "name": "python3"
  },
  "language_info": {
   "codemirror_mode": {
    "name": "ipython",
    "version": 3
   },
   "file_extension": ".py",
   "mimetype": "text/x-python",
   "name": "python",
   "nbconvert_exporter": "python",
   "pygments_lexer": "ipython3",
   "version": "3.6.5"
  }
 },
 "nbformat": 4,
 "nbformat_minor": 2
}
