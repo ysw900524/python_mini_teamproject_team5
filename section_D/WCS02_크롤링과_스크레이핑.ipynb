{
 "cells": [
  {
   "cell_type": "markdown",
   "metadata": {},
   "source": [
    "# TextBook. 파이썬을 이용한 웹크롤링과 스크레이핑"
   ]
  },
  {
   "cell_type": "markdown",
   "metadata": {},
   "source": [
    "## 파이썬으로 시작하는 크롤링/스크레이핑 \n",
    "\n",
    "\n",
    "> - 파이썬 기초 지식\n",
    "- 웹 페이지 추출\n",
    "- 웹 페이지에서 데이터 추출\n",
    "- 데이터 저장\n",
    "- 파이썬으로 스크레이핑하는 흐름"
   ]
  },
  {
   "cell_type": "markdown",
   "metadata": {},
   "source": [
    "### 가상환경 사용법\n",
    "> - 가상환경 생성 \n",
    "- \\> python -m venv 디렉토리명(myvenv) \n",
    "- \\> .\\scraping\\Scripts\\activate \n",
    "- (myvenv) > python --version \n",
    "\n",
    "> - 가상환경 종료 \n",
    "- (myvenv) > .\\scraping\\Scripts\\deactivate \n",
    "- \\> dir/w"
   ]
  },
  {
   "cell_type": "code",
   "execution_count": 1,
   "metadata": {},
   "outputs": [],
   "source": [
    "import os\n",
    "from os.path import exists\n",
    "\n",
    "def make_dir(dir_name):\n",
    "    ''' 디렉토리 생성 '''\n",
    "    \n",
    "    if not exists(dir_name):\n",
    "        os.mkdir(dir_name)\n",
    "        msg = \"{} 디렉토리를 생성하였습니다!\".format(dir_name)\n",
    "    else:\n",
    "        msg = \"{} 디렉토리가 이미 존재합니다!\".format(dir_name)\n",
    "        \n",
    "    return msg"
   ]
  },
  {
   "cell_type": "markdown",
   "metadata": {},
   "source": [
    "### 웹 페이지 추출\n",
    "### c2-09_urlopen_encoding\n",
    "> HTTP 헤더에서 인코딩 방식 추출\n",
    "\n",
    "> - text/html\n",
    "- text/html; charset=UTF-8\n",
    "- text/html; charset=EUC-KR\n",
    "\n",
    "cf. 연관함수 : HTTPMessage.info().get_content_charset()\n",
    "\n"
   ]
  },
  {
   "cell_type": "code",
   "execution_count": 2,
   "metadata": {},
   "outputs": [],
   "source": [
    "import sys\n",
    "from urllib.request import urlopen"
   ]
  },
  {
   "cell_type": "code",
   "execution_count": 3,
   "metadata": {},
   "outputs": [
    {
     "name": "stderr",
     "output_type": "stream",
     "text": [
      "encoding: utf-8\n"
     ]
    }
   ],
   "source": [
    "f = urlopen('http://www.hanbit.co.kr/store/books/full_book_list.html')\n",
    "\n",
    "# HTTP 헤더를 기반으로 인코딩 방식을 추출합니다\n",
    "# (명시돼 있지 않을 경우 utf-8을 사용하게 합니다).\n",
    "encoding = f.info().get_content_charset(failobj=\"utf-8\")\n",
    "\n",
    "# 인코딩 방식을 표준 오류에 출력합니다.\n",
    "print('encoding:', encoding, file=sys.stderr)"
   ]
  },
  {
   "cell_type": "code",
   "execution_count": 4,
   "metadata": {},
   "outputs": [
    {
     "data": {
      "text/plain": [
       "'<!DOCTYPE html>\\r\\n<html lang=\"ko\">\\r\\n<head>\\r\\n<!--[if lte IE 8]>\\r\\n<script>\\r\\n  location.replace(\\'/support/explorer_upgrade.html\\');\\r\\n</script>\\r\\n<![endif]-->\\r\\n<!-- Google Tag Manager -->\\r\\n<script>(function(w,d,s,l,i){w[l]=w[l]||[];w[l].push({\\'gtm.start\\':\\r\\nnew Date().getTime(),event:\\'gtm.js\\'});var f=d.getElementsByTagName(s)[0],\\r\\nj=d.createElement(s),dl=l!=\\'dataLayer\\'?\\'&l=\\'+l:\\'\\';j.async=true;j.src=\\r\\n\\'https://www.googletagmanager.com/gtm.js?id=\\'+i+dl;f.parentNode.insertBefore(j,f);\\r\\n})(window,document,\\'script\\',\\'dataLayer\\',\\'GTM-W9D5PM3\\');</script>\\r\\n<!-- End Google Tag Manager -->\\r\\n<meta charset=\"utf-8\"/>\\r\\n<title>한빛출판네트워크</title>\\r\\n<link rel=\"shortcut icon\" href=\"http://www.hanbit.co.kr/images/common/hanbit.ico\"> \\r\\n<meta http-equiv=\"X-UA-Compatible\" content=\"IE=Edge\" />\\r\\n<meta property=\"og:type\" content=\"website\"/>\\r\\n<meta property=\"og:title\" content=\"한빛출판네트워크\"/>\\r\\n<meta property=\"og:description\" content=\"출판사, IT전문서, 대학교재, 경제경영, 어린이/유아, MAKE, 실용/여행, 전자책, 인터넷 강의\"/>\\r\\n<meta property=\"og:image\" content=\"http://www.hanbit.co.kr/images/hanbitpubnet_logo.jpg\" />\\r\\n<meta property=\"og:url\" content=\"http://www.hanbit.co.kr/store/books/full_book_list.html\"/>\\r\\n<link rel=\"canonical\" href=\"http://www.hanbit.co.kr/store/books/full_book_list.html\" />\\r\\n<meta name=\"keywords\" content=\"책,전자책,ebook,출판사,동영상,콘텐츠,강의,자격증,대학교재\" />\\r\\n<meta name=\"description\" content=\"출판사, IT전문서, 대학교재, 경제경영, 어린이/유아, MAKE, 실용/여행, 전자책, 인터넷 강의\" />\\r\\n<meta name=\"viewport\" content=\"width=device-width,initial-scale=1.0,minimum-scale=1.0,maximum-scale=1.0\">\\r\\n<meta name=\"viewport\" content=\"width=1260\">\\r\\n<meta name=\"apple-mobile-web-app-capable\" content=\"yes\" />\\r\\n<meta name=\"naver-site-verification\" content=\"823ff8b8e7e3eb396c310703c2bbd731f48c1d9b\"/>\\r\\n<link rel=\"stylesheet\" href=\"/css/common.css\" />\\r\\n<link href=\"/css/hover.css\" rel=\"stylesheet\" media=\"all\">\\r\\n<link rel=\"stylesheet\" href=\"/js/jquery.raty.css\" />\\r\\n<script type=\"text/javascript\" src=\"/js/jquery-latest.js\"></script>\\r\\n<script type=\"text/javascript\" src=\"/js/jquery-ui.js\"></script>\\r\\n<script type=\"text/javascript\" src=\"/js/jquery.event.drag-1.5.min.js\"></script>\\r\\n<script type=\"text/javascript\" src=\"/js/jquery.touchSlider.js\"></script>\\r\\n<script type=\"text/javascript\" src=\"/js/jquery.raty.js\"></script>\\r\\n<script type=\"text/javascript\" src=\"/js/main.js\"></script>\\r\\n<script type=\"text/javascript\" src=\"/lib/cheditor/cheditor.js\"></script>\\r\\n<script type=\"text/javascript\" src=\"/js/jquery.ui.datepicker-ko.js\"></script>\\r\\n<script type=\"text/javascript\" src=\"/js/engine.js\"></script>\\r\\n\\r\\n<!-- Google Analytics -->\\r\\n<script>\\r\\n(function(i,s,o,g,r,a,m){i[\\'GoogleAnalyticsObject\\']=r;i[r]=i[r]||function(){\\r\\n(i[r].q=i[r].q||[]).push(arguments)},i[r].l=1*new Date();a=s.createElement(o),\\r\\nm=s.getElementsByTagName(o)[0];a.async=1;a.src=g;m.parentNode.insertBefore(a,m)\\r\\n})(window,document,\\'script\\',\\'//www.google-analytics.com/analytics.js\\',\\'ga\\');\\r\\nga(\\'create\\', \\'UA-47080738-1\\', \\'hanbit.co.kr\\');\\r\\nga(\\'require\\', \\'linkid\\', \\'linkid.js\\');\\r\\nga(\\'send\\', \\'pageview\\');\\r\\n</script>\\r\\n<!-- Google Analytics -->\\r\\n\\r\\n<!-- Facebook Pixel Code -->\\r\\n<script>\\r\\n!function(f,b,e,v,n,t,s)\\r\\n{if(f.fbq)return;n=f.fbq=function(){n.callMethod?\\r\\nn.callMethod.apply(n,arguments):n.queue.push(arguments)};\\r\\nif(!f._fbq)f._fbq=n;n.push=n;n.loaded=!0;n.version=\\'2.0\\';\\r\\nn.queue=[];t=b.createElement(e);t.async=!0;\\r\\nt.src=v;s=b.getElementsByTagName(e)[0];\\r\\ns.parentNode.insertBefore(t,s)}(window,document,\\'script\\',\\r\\n\\'https://connect.facebook.net/en_US/fbevents.js\\');\\r\\n fbq(\\'init\\', \\'1816595558587562\\'); \\r\\nfbq(\\'track\\', \\'PageView\\');\\r\\n</script>\\r\\n<noscript>\\r\\n <img height=\"1\" width=\"1\" \\r\\nsrc=\"https://www.facebook.com/tr?id=1816595558587562&ev=PageView\\r\\n&noscript=1\"/>\\r\\n</noscript>\\r\\n<!-- End Facebook Pixel Code -->\\r\\n</head>\\r\\n<body>\\r\\n<!-- Google Tag Manager (noscript) -->\\r\\n<noscript><iframe src=\"https://www.googletagmanager.com/ns.html?id=GTM-W9D5PM3\"\\r\\nheight=\"0\" width=\"0\" style=\"display:none;visibility:hidden\"></iframe></noscript>\\r\\n<!-- End Google Tag Manager (noscript) --><link rel=\"stylesheet\" href=\"/css/layout-hanbit.css\" />\\r\\n<link rel=\"stylesheet\" href=\"/css/layout-member.css\" />\\r\\n<link rel=\"stylesheet\" href=\"/css/layout-network.css\" />\\r\\n<link rel=\"stylesheet\" href=\"/css/layout-store.css\" />\\r\\n<link rel=\"stylesheet\" href=\"/css/layout-myhanbit.css\" />\\r\\n<link rel=\"stylesheet\" href=\"/css/layout-event.css\" />\\r\\n<!-- 메뉴 바로가기 -->\\r\\n<div id=\"quick_skip_menu\">\\r\\n  <a href=\"#gnb\" onclick=\"document.getElementById(\\'gnb\\').tabIndex = -1;document.getElementById(\\'gnb\\').focus();return false;\"><span>메뉴 바로가기</span></a>\\r\\n  <a href=\"#top_search\" onclick=\"view_hover(\\'main_search_area\\',\\'\\',\\'show\\'), document.getElementById(\\'top_search\\').tabIndex = -1;document.getElementById(\\'top_search\\').focus();return false;\"><span>검색 및 카테고리 바로가기</span></a>\\r\\n    <a href=\"#container\" onclick=\"document.getElementById(\\'container\\').tabIndex = -1;document.getElementById(\\'container\\').focus();return false;\"><span>본문 바로가기</span></a>\\r\\n  </div>\\r\\n<!-- //메뉴 바로가기 -->\\r\\n\\r\\n<!-- header -->\\r\\n<header>\\r\\n  <!-- top menu -->\\r\\n  \\t<nav>\\r\\n\\t\\t<div id=\"wrap_nav\">\\r\\n\\t\\t\\t<ul class=\"top_brand\">\\r\\n\\t\\t\\t\\t<li><a href=\"http://www.hanbit.co.kr/index.html\" name=\"hanbit_network\"><span>HOME</span></a></li>\\r\\n\\t\\t\\t\\t<li><a href=\"http://www.hanbit.co.kr/media/\">한빛미디어</a></li>\\r\\n\\t\\t\\t\\t<li><a href=\"http://www.hanbit.co.kr/academy/\">한빛아카데미</a></li>\\r\\n\\t\\t\\t\\t<li><a href=\"http://www.hanbit.co.kr/biz/\">한빛비즈</a></li>\\r\\n\\t\\t\\t\\t<li><a href=\"http://www.hanbit.co.kr/life/\">한빛라이프</a></li>\\r\\n\\t\\t\\t\\t<li><a href=\"http://www.hanbit.co.kr/edu/\">한빛에듀</a></li>\\r\\n\\t\\t\\t\\t<li><a href=\"http://www.hanbit.co.kr/realtime/\">리얼타임</a></li>\\r\\n\\t\\t\\t\\t<li><a href=\"http://www.hanbit.co.kr/textbook/\" target=\"_blank\">한빛정보교과서</a></li>\\r\\n        <li><a href=\"http://www.hanbit.co.kr/rent/\" target=\"_blank\">한빛대관서비스</a></li>\\r\\n\\t\\t\\t</ul>\\r\\n\\t\\t\\t\\r\\n\\t\\t\\t<ul class=\"top_menu\">\\r\\n                        \\t<li><a href=\"http://www.hanbit.co.kr/member/login.html\" class=\"login\">로그인</a></li>\\r\\n\\t\\t\\t\\t<li><a href=\"http://www.hanbit.co.kr/member/member_agree.html\" class=\"join\">회원가입</a></li>\\r\\n\\t\\t\\t\\t<li><a href=\"http://www.hanbit.co.kr/myhanbit/myhanbit.html\" class=\"myhanbit\">마이한빛</a></li>\\r\\n\\t\\t\\t\\t<li><a href=\"http://www.hanbit.co.kr/myhanbit/cart.html\" class=\"cart\">장바구니</a></li>\\r\\n            \\t\\t\\t\\t<!-- <li class=\"top_menu_store\"><a href=\"http://www.hanbit.co.kr/store/store_submain.html\">STORE</a></li> -->\\r\\n\\t\\t\\t</ul>\\r\\n\\t\\t</div>\\r\\n\\t</nav>  <!-- //top menu -->\\r\\n\\r\\n  <div id=\"wrap_gnb\">\\r\\n    <!-- logo -->\\r\\n    <h1><a href=\"http://www.hanbit.co.kr/index.html\">한빛출판네트워크</a></h1>\\r\\n    <!-- //logo -->\\r\\n\\r\\n    <!-- Menu -->\\r\\n    <div id=\"gnb\" name=\"gnb\">\\r\\n      <ul>\\r\\n        <li><a href=\"http://www.hanbit.co.kr/brand/brand_submain.html\" class=\"\">BRAND</a></li>\\r\\n        <li><a href=\"http://www.hanbit.co.kr/channel/channel_submain.html\" class=\"\">Channel.H</a></li>\\r\\n        <li><a href=\"http://www.hanbit.co.kr/store/store_submain.html\" class=\"curr\">STORE</a></li>\\r\\n        <li><a href=\"http://www.hanbit.co.kr/support/help_info.html\" class=\"\">SUPPORT</a></li>\\r\\n        <li><a href=\"http://www.hanbit.co.kr/event/current/current_event_list.html\" class=\"\">EVENT</a></li>\\r\\n        \\r\\n        <li id=\"top_search\" class=\"search\"><a href=\"javascript:;\" onClick=\"view_hover(\\'main_search_area\\',\\'\\',\\'show\\'); $(\\'#keyword_str\\').focus();\"><span>SERACH</span></a></li>\\r\\n      </ul>\\r\\n    </div>\\r\\n    <!-- //Menu -->\\r\\n    \\r\\n    <!-- lnb -->\\r\\n    <div class=\"lnb\" style=\"top:92px;\">\\r\\n      <div class=\"lnb_area\">\\r\\n      <!-- BRAND -->\\r\\n            <ul class=\"lnb_depth1_category\">\\r\\n        <li onmouseover=\"view_hover(\\'category_store\\',\\'\\',\\'show\\')\" onMouseOut=\"view_hover(\\'category_store\\',\\'\\',\\'hide\\')\"><a href=\"#\" onFocus=\"view_hover(\\'category_store\\',\\'\\',\\'show\\')\" class=\"gnb_category\">카테고리</a>\\r\\n          <ul id=\"category_store\">\\r\\n\\r\\n                          <li onmouseover=\"view_hover(\\'category_store1\\',\\'\\',\\'show\\')\" onMouseOut=\"view_hover(\\'category_store1\\',\\'\\',\\'hide\\')\"><a href=\"/store/books/category_list.html?cate_cd=001\" onFocus=\"view_hover(\\'category_store1\\',\\'\\',\\'show\\')\">IT/모바일</a>\\r\\n                <ul id=\"category_store1\">\\r\\n                              <li><a href=\"/store/books/category_list.html?cate_cd=001001\">프로그래밍</a></li>      \\r\\n                              <li><a href=\"/store/books/category_list.html?cate_cd=001002\">웹</a></li>      \\r\\n                              <li><a href=\"/store/books/category_list.html?cate_cd=001003\">모바일/스마트기기</a></li>      \\r\\n                              <li><a href=\"/store/books/category_list.html?cate_cd=001013\">데이터베이스</a></li>      \\r\\n                              <li><a href=\"/store/books/category_list.html?cate_cd=001005\">운영체제</a></li>      \\r\\n                              <li><a href=\"/store/books/category_list.html?cate_cd=001014\">하드웨어</a></li>      \\r\\n                              <li><a href=\"/store/books/category_list.html?cate_cd=001015\">시스템/네트워크</a></li>      \\r\\n                              <li><a href=\"/store/books/category_list.html?cate_cd=001016\">보안</a></li>      \\r\\n                              <li><a href=\"/store/books/category_list.html?cate_cd=001009\">비즈니스/문화</a></li>      \\r\\n                              <li><a href=\"/store/books/category_list.html?cate_cd=001010\">게임</a></li>      \\r\\n                              <li><a href=\"/store/books/category_list.html?cate_cd=001017\">IT에세이</a></li>      \\r\\n                              <li><a href=\"/store/books/category_list.html?cate_cd=001012\">자격증</a></li>      \\r\\n              </ul></li>              <li onmouseover=\"view_hover(\\'category_store2\\',\\'\\',\\'show\\')\" onMouseOut=\"view_hover(\\'category_store2\\',\\'\\',\\'hide\\')\"><a href=\"/store/books/category_list.html?cate_cd=002\" onFocus=\"view_hover(\\'category_store2\\',\\'\\',\\'show\\')\">MAKE</a>\\r\\n                <ul id=\"category_store2\">\\r\\n                              <li><a href=\"/store/books/category_list.html?cate_cd=002001\">Make 매거진</a></li>      \\r\\n                              <li><a href=\"/store/books/category_list.html?cate_cd=002002\">Make 프로젝트 북</a></li>      \\r\\n              </ul></li>              <li onmouseover=\"view_hover(\\'category_store3\\',\\'\\',\\'show\\')\" onMouseOut=\"view_hover(\\'category_store3\\',\\'\\',\\'hide\\')\"><a href=\"/store/books/category_list.html?cate_cd=003\" onFocus=\"view_hover(\\'category_store3\\',\\'\\',\\'show\\')\">IT활용</a>\\r\\n                <ul id=\"category_store3\">\\r\\n                              <li><a href=\"/store/books/category_list.html?cate_cd=003001\">오피스/OA</a></li>      \\r\\n                              <li><a href=\"/store/books/category_list.html?cate_cd=003002\">그래픽/멀티미디어</a></li>      \\r\\n                              <li><a href=\"/store/books/category_list.html?cate_cd=003003\">사진/예술</a></li>      \\r\\n                              <li><a href=\"/store/books/category_list.html?cate_cd=003004\">컴퓨터입문/IT교양</a></li>      \\r\\n              </ul></li>              <li onmouseover=\"view_hover(\\'category_store4\\',\\'\\',\\'show\\')\" onMouseOut=\"view_hover(\\'category_store4\\',\\'\\',\\'hide\\')\"><a href=\"/store/books/category_list.html?cate_cd=004\" onFocus=\"view_hover(\\'category_store4\\',\\'\\',\\'show\\')\">대학교재</a>\\r\\n                <ul id=\"category_store4\">\\r\\n                              <li><a href=\"/store/books/category_list.html?cate_cd=004007\">컴퓨터공학</a></li>      \\r\\n                              <li><a href=\"/store/books/category_list.html?cate_cd=004008\">정보통신/전기/전자</a></li>      \\r\\n                              <li><a href=\"/store/books/category_list.html?cate_cd=004003\">수학/과학/공학</a></li>      \\r\\n                              <li><a href=\"/store/books/category_list.html?cate_cd=004004\">프로그래밍/웹</a></li>      \\r\\n                              <li><a href=\"/store/books/category_list.html?cate_cd=004005\">그래픽/디자인</a></li>      \\r\\n                              <li><a href=\"/store/books/category_list.html?cate_cd=004006\">OA/활용</a></li>      \\r\\n              </ul></li>              <li onmouseover=\"view_hover(\\'category_store5\\',\\'\\',\\'show\\')\" onMouseOut=\"view_hover(\\'category_store5\\',\\'\\',\\'hide\\')\"><a href=\"/store/books/category_list.html?cate_cd=005\" onFocus=\"view_hover(\\'category_store5\\',\\'\\',\\'show\\')\">수험서</a>\\r\\n                <ul id=\"category_store5\">\\r\\n                              <li><a href=\"/store/books/category_list.html?cate_cd=005005\">전기기본서</a></li>      \\r\\n                              <li><a href=\"/store/books/category_list.html?cate_cd=005001\">전기기사</a></li>      \\r\\n                              <li><a href=\"/store/books/category_list.html?cate_cd=005002\">전기산업기사</a></li>      \\r\\n                              <li><a href=\"/store/books/category_list.html?cate_cd=005003\">전기공사기사</a></li>      \\r\\n                              <li><a href=\"/store/books/category_list.html?cate_cd=005004\">전기공사산업기사</a></li>      \\r\\n              </ul></li>              <li onmouseover=\"view_hover(\\'category_store6\\',\\'\\',\\'show\\')\" onMouseOut=\"view_hover(\\'category_store6\\',\\'\\',\\'hide\\')\"><a href=\"/store/books/category_list.html?cate_cd=006\" onFocus=\"view_hover(\\'category_store6\\',\\'\\',\\'show\\')\">실용서</a>\\r\\n                <ul id=\"category_store6\">\\r\\n                              <li><a href=\"/store/books/category_list.html?cate_cd=006001\">취미/실용</a></li>      \\r\\n                              <li><a href=\"/store/books/category_list.html?cate_cd=006002\">여행</a></li>      \\r\\n                              <li><a href=\"/store/books/category_list.html?cate_cd=006003\">건강</a></li>      \\r\\n                              <li><a href=\"/store/books/category_list.html?cate_cd=006004\">유아/육아</a></li>      \\r\\n              </ul></li>              <li onmouseover=\"view_hover(\\'category_store7\\',\\'\\',\\'show\\')\" onMouseOut=\"view_hover(\\'category_store7\\',\\'\\',\\'hide\\')\"><a href=\"/store/books/category_list.html?cate_cd=007\" onFocus=\"view_hover(\\'category_store7\\',\\'\\',\\'show\\')\">경제/경영/인문</a>\\r\\n                <ul id=\"category_store7\">\\r\\n                              <li><a href=\"/store/books/category_list.html?cate_cd=007001\">경제/경영</a></li>      \\r\\n                              <li><a href=\"/store/books/category_list.html?cate_cd=007002\">자기계발</a></li>      \\r\\n                              <li><a href=\"/store/books/category_list.html?cate_cd=007003\">인문/교양</a></li>      \\r\\n                              <li><a href=\"/store/books/category_list.html?cate_cd=007004\">마케팅</a></li>      \\r\\n                              <li><a href=\"/store/books/category_list.html?cate_cd=007005\">에세이</a></li>      \\r\\n              </ul></li>              <li onmouseover=\"view_hover(\\'category_store8\\',\\'\\',\\'show\\')\" onMouseOut=\"view_hover(\\'category_store8\\',\\'\\',\\'hide\\')\"><a href=\"/store/books/category_list.html?cate_cd=008\" onFocus=\"view_hover(\\'category_store8\\',\\'\\',\\'show\\')\">유아/어린이/초등</a>\\r\\n                <ul id=\"category_store8\">\\r\\n                              <li><a href=\"/store/books/category_list.html?cate_cd=008001\">4~6세</a></li>      \\r\\n                              <li><a href=\"/store/books/category_list.html?cate_cd=008002\">5~7세</a></li>      \\r\\n                              <li><a href=\"/store/books/category_list.html?cate_cd=008003\">예비초등</a></li>      \\r\\n                              <li><a href=\"/store/books/category_list.html?cate_cd=008004\">초등교과연계 1~12영역</a></li>      \\r\\n                              <li><a href=\"/store/books/category_list.html?cate_cd=008005\">초등 전학년</a></li>      \\r\\n              </ul></li>            \\r\\n          <!-- 항상 노출 메뉴 -->          \\r\\n          <li class=\"gnb_category_series\"><a href=\"http://www.hanbit.co.kr/store/books/series_list.html\">시리즈</a></li>\\r\\n          <li class=\"gnb_category_reservations\"><a href=\"http://www.hanbit.co.kr/store/books/reservations_list.html\">예약도서</a></li>\\r\\n          <!--\\r\\n          <li class=\"gnb_category_full\"><a href=\"http://www.hanbit.co.kr/store/books/full_book_list.html\">전체도서목록</a></li>\\r\\n          -->\\r\\n          <!--/li-->\\r\\n        </ul>\\r\\n      </ul>\\r\\n      <!--/li-->        \\r\\n      <!--/ul-->\\r\\n\\r\\n      <ul class=\"lnb_depth1\">\\r\\n        <li><a href=\"http://www.hanbit.co.kr/store/books/new_book_list.html\">새로나온 책</a></li><span>l</span>\\r\\n        <li><a href=\"http://www.hanbit.co.kr/store/books/bestseller_list.html\">베스트셀러</a></li><span>l</span>\\r\\n        <li><a href=\"http://www.hanbit.co.kr/store/books/full_book_list.html\">전체도서목록</a></li><span>l</span>\\r\\n        <li><a href=\"http://www.hanbit.co.kr/store/education/edu_list.html\">교육</a></li><span>l</span>\\r\\n        <li><a href=\"http://www.hanbit.co.kr/store/item/item_list.html\">Item &amp; Maker Shed</a></li>\\r\\n      </ul>\\r\\n      \\r\\n      <!-- SUPPORT -->\\r\\n          </div>\\r\\n    </div>\\r\\n    <!--// lnb -->\\r\\n  </div>\\r\\n</header>\\r\\n<!-- //header -->\\r\\n\\r\\n<!-- 메인 검색 및 카테고리 영역 -->\\r\\n<div id=\"main_search_area\" class=\"fixed\" style=\"display:none;\">\\r\\n\\t<div class=\"msa_wrap\">\\r\\n\\t\\t<div class=\"msa_wrap_btn\"><a href=\"javascript:;\" onClick=\"view_hover(\\'main_search_area\\',\\'\\',\\'hide\\')\">닫기</a></div>\\r\\n\\t\\t\\r\\n\\t\\t<!-- [S]카테고리 -->\\r\\n\\t\\t<div class=\"msa_wrap_l\">\\t\\t\\t\\t\\t\\t\\t\\t\\r\\n\\t\\t\\t<!-- 카테고리 노출 -->\\r\\n\\t\\t\\t<p class=\"tit\">카테고리</p>\\t\\t\\t\\t\\t\\t\\t\\t\\r\\n\\t\\t\\t<ul class=\"cate_1depth\" id=\"cate1_depth\"></ul>\\t\\t\\t\\t\\t\\t\\t\\r\\n\\t\\t\\t<ul class=\"cate_3depth\" id=\"cate2_depth\"></ul>\\t\\t\\t\\t\\t\\t\\t\\t\\t\\t\\t\\t\\r\\n\\t\\t</div>\\r\\n\\t\\t<!-- [E]//카테고리 -->\\r\\n\\r\\n\\r\\n\\t\\t<!-- [S]검색 -->\\r\\n\\t\\t<div class=\"msa_wrap_r\">\\r\\n\\t\\t\\t<p class=\"txt\">제목, 저자, ISBN으로 검색이 가능합니다.</p>\\r\\n\\t\\t\\t<!-- 검색창 -->\\r\\n\\t\\t\\t<form name=\"gnbsearchfrm\" id=\"gnbsearchfrm\" method=\"get\" onload=\"form.keyword_str.focus;\">\\r\\n\\t\\t\\t\\r\\n\\t\\t\\t\\t\\t\\t\\t<!-- 선택 카테고리 결과값 -->\\t\\t\\t\\t\\t\\t\\r\\n\\t\\t\\t\\t<div class=\"msa_wrap_r_srch\">\\r\\n\\t\\t\\t\\t\\t<fieldset>\\r\\n\\t\\t\\t\\t\\t\\t<legend>검색영역</legend>\\r\\n\\t\\t\\t\\t\\t\\t<input title=\"검색어\" class=\"srch_keyword\" accesskey=\"s\" type=\"text\" name=\"keyword_str\" id=\"keyword_str\">\\t\\t\\t\\t\\t\\r\\n\\t\\t\\t\\t\\t\\t<input type=\"submit\" alt=\"\" class=\"srch_btn\" onclick=\"sch_smit();\" style=\"cursor:pointer;\">\\r\\n\\t\\t\\t\\t\\t</fieldset>\\r\\n\\t\\t\\t\\t</div>\\t\\t\\t\\t\\r\\n\\t\\t\\t</form>\\t\\t\\t\\r\\n\\t\\t\\t<!-- //검색창 -->\\r\\n\\t\\t\\t\\r\\n\\t\\t</div>\\r\\n\\t\\t<!-- [E]//검색 -->\\r\\n\\t\\t\\r\\n\\t</div>\\r\\n</div>\\r\\n\\r\\n<style>\\r\\n\\t.normal_css{ font-weight:normal;}\\r\\n\\t.bold_css{  font-weight:bold;}\\r\\n</style>\\r\\n\\r\\n\\r\\n<script type=\"text/javascript\">\\t\\r\\n\\t//[뎁스1] 브랜드 리스트\\r\\n\\t$(document).ready(function() { \\t\\t\\t\\t\\r\\n\\t\\tdepth_list(\"cate1\");\\t\\t\\t\\t\\r\\n\\t});\\t\\r\\n\\t\\r\\n\\t// 카테고리 리스트\\t\\r\\n\\tfunction depth_list(str , cate_cd){\\t\\t\\t\\t\\t\\r\\n\\t\\tvar cate_str;\\t\\t\\t\\r\\n\\t\\t\\t\\t\\t\\t\\r\\n\\t\\tif(str==\"cate1\")cate_str = \"cate2\";\\r\\n\\t\\telse cate_str = \"choice\";\\t\\r\\n\\r\\n\\t\\t\\t\\t\\r\\n\\t\\t//카테고리1 선택\\t\\t\\t\\r\\n\\t\\tif(str == \"cate2\"){\\t\\t\\t\\t\\t\\t\\t\\t\\t\\t\\r\\n\\t\\t\\t$(\"li[name=\\'cate1\\']\").removeClass(\"bold_css\");\\t\\t\\t\\t\\t\\t\\t\\r\\n\\t\\t\\t$( \"#\"+cate_cd ).addClass(\"bold_css\");\\t\\t\\t\\t\\t\\t\\t\\t\\t\\t\\t\\t\\r\\n\\t\\t\\t$(\"#sch_cate1\").val(cate_cd); \\r\\n\\t\\t\\t$(\"#sch_cate2\").val(\"\");\\t\\t\\t\\t\\r\\n\\t\\t}\\t\\t\\t\\t\\r\\n\\t\\t\\r\\n\\t\\t//카테고리2 선택\\t\\t\\t\\r\\n\\t\\tif(str == \"choice\"){ \\t\\t\\t\\t\\t\\r\\n\\t\\t\\t$(\"li[name=\\'cate2\\']\").removeClass(\"bold_css\");\\t\\t\\t\\t\\t\\t\\t\\r\\n\\t\\t\\t$( \"#\"+cate_cd ).addClass(\"bold_css\");\\t\\t\\t\\t\\t\\t\\r\\n\\t\\t\\t$(\"#sch_cate2\").val(cate_cd); \\t\\t\\t\\t\\t\\t\\r\\n\\t\\t}\\t\\r\\n\\t\\r\\n\\t\\t\\t\\t\\t\\t\\r\\n\\t\\t//카테고리선택 >> 하위카테고리 데이터 정보\\t\\t\\t\\r\\n\\t\\tvar depth_html = \"\"; \\t\\t\\t\\t\\t\\t\\t\\t\\t\\t\\t\\t\\t\\t\\t\\t\\t\\t\\t\\t\\t\\t\\t\\t\\r\\n\\t\\t$.ajax({\\r\\n\\t\\t\\ttype:\"post\",\\r\\n\\t\\t\\turl: \"/inc/common_top_search_ajax.php\",\\r\\n\\t\\t\\tdata: { depth_attr : str,cate_cd : cate_cd},\\r\\n\\t\\t\\tdataType : \"json\",\\t\\t\\t\\t\\t\\t\\t\\t\\r\\n\\t\\t\\tsuccess: function(response){\\t\\t\\t\\t\\t\\t\\t\\t\\t\\r\\n\\t\\t\\t\\r\\n\\t\\t\\t\\tresponse = JSON.stringify(response);\\t\\t\\t\\t\\t\\t\\t\\t\\t\\t\\t\\t\\t\\t \\r\\n\\t\\t\\t\\t$.each($.parseJSON(response), function(idx, obj) {\\t\\t\\t\\t\\t\\r\\n\\t\\t\\t\\t\\tdepth_html\\t+= \\'<li id=\"\\'+obj.cate_cd+\\'\" name=\"\\'+str+\\'\" onMouseOver=\"javascript:depth_list(\\\\\\'\\'+cate_str+\\'\\\\\\', \\\\\\'\\'+obj.cate_cd+\\'\\\\\\',\\\\\\'\\\\\\');\"><a href=\"/store/books/category_list.html?cate_cd=\\'+obj.cate_cd+\\'\">\\'+obj.cate_nm+\\'</a></li>\\';\\t\\t\\t\\t\\t\\t\\t\\t\\t\\t\\t\\t\\t\\t\\t\\t\\t\\t\\t\\t\\t\\r\\n\\t\\t\\t\\t});\\t\\t\\t\\t\\t\\t\\t\\t\\t\\t\\t\\t\\t\\t\\t\\t\\t\\t\\t\\t\\r\\n\\t\\t\\t\\t$(\"#\"+str+\"_depth\").html(\"\");\\t\\t\\t\\t\\t\\t\\r\\n\\t\\t\\t\\t$(\"#\"+str+\"_depth\").html(depth_html);\\t\\t\\t\\t\\r\\n\\t\\t\\t}\\t \\t\\t\\t\\r\\n\\t\\t});\\t\\t\\t\\t\\t\\t\\t\\t\\t\\t\\t\\t\\t\\t\\t\\r\\n\\t}\\r\\n\\t\\r\\n\\t// 검색 리스트\\t\\r\\n\\tfunction sch_smit(){\\t\\t\\t\\t\\t\\t\\r\\n\\t\\r\\n\\t\\tif(!$.trim($(\"#keyword_str\").val()).length) {\\r\\n\\t\\t\\talert(\"검색어를 입력해주세요\");\\r\\n\\t\\t\\t$(\"#keyword_str\").focus();\\r\\n\\t\\t\\treturn false;\\r\\n\\t\\t}else{\\r\\n\\t\\t\\t$(\"#gnbsearchfrm\").attr(\"action\",\"/search/search_list.html\");\\r\\n\\t\\t\\t$(\"#gnbsearchfrm\").submit(); \\r\\n\\t\\t}\\t\\t\\t\\t\\t\\t\\t\\t\\t\\t\\t\\t\\t\\t\\t\\t\\t\\t\\t\\t\\t\\t\\t\\r\\n\\t}\\t\\t\\t\\t\\t\\t\\t\\t\\r\\n\\r\\n</script>\\r\\n<!-- //메인 검색 및 카테고리 영역 -->\\r\\n<!-- Contents -->\\r\\n<div id=\"container\">\\r\\n\\t<div class=\"docu_title\">\\r\\n\\t\\t<h2>전체도서목록</h2>\\r\\n\\t</div>\\r\\n\\t\\r\\n\\t<!-- 전체도서목록 wrap -->\\r\\n\\t<div class=\"full_book_list_wrap\">\\r\\n\\t\\t<!-- 브랜드 정렬 버튼 -->\\r\\n\\t\\t\\r\\n        <div class=\"btn_brand_area\">       \\r\\n\\t\\t\\t<ul>\\r\\n\\t\\t\\t\\t<li class=\"curr\">\\r\\n                \\t<a href=\"/store/books/full_book_list.html\">\\r\\n                    \\t                    <span class=\"name_full\">전체</span>\\r\\n                                        </a>\\r\\n                    \\r\\n                </li>\\r\\n\\t\\t\\t\\t<li >\\r\\n\\t\\t\\t\\t\\t<a href=\"/store/books/full_book_list.html?brand=HM\">\\r\\n                                        \\t<span class=\"name_abbr\">M</span>\\r\\n                    \\t\\t\\t\\t\\t</a>\\r\\n\\t\\t\\t\\t</li>\\r\\n\\r\\n\\t\\t\\t\\t<li >\\r\\n                \\t<a href=\"/store/books/full_book_list.html?brand=HA\">\\r\\n                                        \\t<span class=\"name_abbr\">A</span>\\r\\n                    \\t\\t\\t\\t\\t</a>\\r\\n                </li>\\r\\n\\t\\t\\t\\t<li >\\r\\n                \\t<a href=\"/store/books/full_book_list.html?brand=HB\">\\r\\n                                        \\t<span class=\"name_abbr\">B</span>\\r\\n                    \\t\\t\\t\\t\\t</a>\\r\\n                </li>\\r\\n\\t\\t\\t\\t<li >\\r\\n                \\t<a href=\"/store/books/full_book_list.html?brand=HL\">\\r\\n                                        \\t<span class=\"name_abbr\">L</span>\\r\\n                    \\t\\t\\t\\t\\t</a>\\r\\n                </li>\\r\\n\\t\\t\\t\\t<li >\\r\\n                \\t<a href=\"/store/books/full_book_list.html?brand=HE\">\\r\\n                                        \\t<span class=\"name_abbr\">E</span>\\r\\n                    \\t\\t\\t\\t\\t</a>\\r\\n                </li>\\r\\n\\t\\t\\t\\t<li >\\r\\n                \\t<a href=\"/store/books/full_book_list.html?brand=HR\">\\r\\n                                        \\t<span class=\"name_abbr\">R</span>\\r\\n                    \\t\\t\\t\\t\\t</a>\\r\\n                </li>\\r\\n\\t\\t\\t\\t<li >\\r\\n                \\t<a href=\"/store/books/full_book_list.html?brand=MK\">\\r\\n                                        \\t<span class=\"name_abbr\">MK</span>\\r\\n                    \\t\\t\\t\\t\\t</a>\\r\\n                </li>\\r\\n\\t\\t\\t\\t\\r\\n\\t\\t\\t</ul>\\r\\n\\t\\t</div>\\r\\n\\r\\n\\r\\n\\r\\n\\t\\t<!-- //브랜드 정렬 버튼 -->\\r\\n\\t\\t\\r\\n\\t\\t<!-- 출간일/도서명 순-->\\r\\n\\t\\t<div class=\"series_lineup\">\\r\\n\\t\\t\\t<ul>\\r\\n\\t\\t\\t\\t<li><a href=\"/store/books/full_book_list.html?srt=p_pub_date&brand=\"  class=\"curr\" >출간일 순</a></li>\\r\\n\\t\\t\\t\\t<li><a href=\"/store/books/full_book_list.html?srt=p_title&brand=\" >도서명 순</a></li>\\r\\n\\t\\t\\t</ul>\\r\\n\\t\\t</div>\\r\\n\\t\\t<!-- //출간일/도서명 순-->\\r\\n\\t\\t\\r\\n\\t\\t<!-- 전체 목록 다운로드 버튼-->\\r\\n\\t\\t<div class=\"btn_full_list\"><a href=\"javascript:document.frm.submit();\">전체 목록 다운로드</a></div>\\r\\n\\t\\t\\r\\n\\t\\t<!-- 책 리스트 -->\\r\\n\\t\\t<div class=\"table_area\">\\r\\n\\t\\t\\t<table class=\"tbl_type_list\" border=\"0\" cellspacing=\"0\" summary=\"전체목록 리스트 테이블\">\\r\\n\\t\\t\\t\\t<caption>전체목록 리스트</caption>\\r\\n\\t\\t\\t\\t<colgroup>\\r\\n\\t\\t\\t\\t<col width=\"180px\">\\r\\n\\t\\t\\t\\t<col width=\"\">\\r\\n\\t\\t\\t\\t<col width=\"160px\">\\r\\n\\t\\t\\t\\t<col width=\"134px\">\\r\\n\\t\\t\\t\\t<col width=\"130px\">\\r\\n\\t\\t\\t\\t</colgroup>\\r\\n\\t\\t\\t\\t<thead>\\r\\n\\t\\t\\t\\t\\t<tr>\\r\\n\\t\\t\\t\\t\\t\\t<th scope=\"col\">브랜드</th>\\r\\n\\t\\t\\t\\t\\t\\t<th scope=\"col\">도서명</th>\\r\\n\\t\\t\\t\\t\\t\\t<th scope=\"col\">저자</th>\\r\\n\\t\\t\\t\\t\\t\\t<th scope=\"col\">발행일</th>\\r\\n\\t\\t\\t\\t\\t\\t<th scope=\"col\">정가</th>\\r\\n\\t\\t\\t\\t\\t</tr>\\r\\n\\t\\t\\t\\t</thead>\\r\\n\\t\\t\\t\\t<tbody>\\r\\n\\t\\t\\t\\t\\t\\t\\t\\t\\t<tr>\\r\\n\\t\\t\\t\\t\\t\\t<td class=\"brd_e\">한빛에듀</td>\\r\\n\\t\\t\\t\\t\\t\\t<td class=\"left\"><a href=\"/store/books/look.php?p_code=B6994299591\">재미있고 빠른 한글 2권 : 기본 자음과 쌍자음</a></td>\\r\\n\\t\\t\\t\\t\\t\\t\\t\\t\\t\\t\\t\\t\\t<td class=\"left\">이도한글교육연구회 김두섭(대표 저자)   </td>\\r\\n\\t\\t\\t\\t\\t\\t\\t\\t\\t\\t\\t\\t<td>2018-12-01</td>\\r\\n\\t\\t\\t\\t\\t\\t<td class=\"right\">7,000원</td>\\r\\n\\t\\t\\t\\t\\t</tr>\\r\\n\\r\\n\\t\\t\\t\\t\\t\\t\\t\\t\\t\\t<tr>\\r\\n\\t\\t\\t\\t\\t\\t<td class=\"brd_e\">한빛에듀</td>\\r\\n\\t\\t\\t\\t\\t\\t<td class=\"left\"><a href=\"/store/books/look.php?p_code=B8463831992\">재미있고 빠른 한글 4권 : 복잡한 모음</a></td>\\r\\n\\t\\t\\t\\t\\t\\t\\t\\t\\t\\t\\t\\t\\t<td class=\"left\">이도한글교육연구회 김두섭(대표 저자)   </td>\\r\\n\\t\\t\\t\\t\\t\\t\\t\\t\\t\\t\\t\\t<td>2018-12-01</td>\\r\\n\\t\\t\\t\\t\\t\\t<td class=\"right\">7,000원</td>\\r\\n\\t\\t\\t\\t\\t</tr>\\r\\n\\r\\n\\t\\t\\t\\t\\t\\t\\t\\t\\t\\t<tr>\\r\\n\\t\\t\\t\\t\\t\\t<td class=\"brd_a\">한빛아카데미</td>\\r\\n\\t\\t\\t\\t\\t\\t<td class=\"left\"><a href=\"/store/books/look.php?p_code=B3283906872\">IT CookBook, 시스템 해킹과 보안&#40;3판&#41;</a></td>\\r\\n\\t\\t\\t\\t\\t\\t\\t\\t\\t\\t\\t\\t\\t<td class=\"left\">양대일   </td>\\r\\n\\t\\t\\t\\t\\t\\t\\t\\t\\t\\t\\t\\t<td>2018-11-12</td>\\r\\n\\t\\t\\t\\t\\t\\t<td class=\"right\">27,000원</td>\\r\\n\\t\\t\\t\\t\\t</tr>\\r\\n\\r\\n\\t\\t\\t\\t\\t\\t\\t\\t\\t\\t<tr>\\r\\n\\t\\t\\t\\t\\t\\t<td class=\"brd_m\">한빛미디어</td>\\r\\n\\t\\t\\t\\t\\t\\t<td class=\"left\"><a href=\"/store/books/look.php?p_code=B8608817158\">IT 트렌드 스페셜 리포트 2019</a></td>\\r\\n\\t\\t\\t\\t\\t\\t\\t\\t\\t\\t\\t\\t\\t<td class=\"left\">김석기외 4명  </td>\\r\\n\\t\\t\\t\\t\\t\\t\\t\\t\\t\\t\\t\\t<td>2018-11-05</td>\\r\\n\\t\\t\\t\\t\\t\\t<td class=\"right\">17,800원</td>\\r\\n\\t\\t\\t\\t\\t</tr>\\r\\n\\r\\n\\t\\t\\t\\t\\t\\t\\t\\t\\t\\t<tr>\\r\\n\\t\\t\\t\\t\\t\\t<td class=\"brd_m\">한빛미디어</td>\\r\\n\\t\\t\\t\\t\\t\\t<td class=\"left\"><a href=\"/store/books/look.php?p_code=B4851649517\">Accelerated C++</a></td>\\r\\n\\t\\t\\t\\t\\t\\t\\t\\t\\t\\t\\t\\t\\t<td class=\"left\">앤드루 쾨니히(Andrew Koenig) 외 1명  </td>\\r\\n\\t\\t\\t\\t\\t\\t\\t\\t\\t\\t\\t\\t<td>2018-11-05</td>\\r\\n\\t\\t\\t\\t\\t\\t<td class=\"right\">30,000원</td>\\r\\n\\t\\t\\t\\t\\t</tr>\\r\\n\\r\\n\\t\\t\\t\\t\\t\\t\\t\\t\\t\\t<tr>\\r\\n\\t\\t\\t\\t\\t\\t<td class=\"brd_m\">한빛미디어</td>\\r\\n\\t\\t\\t\\t\\t\\t<td class=\"left\"><a href=\"/store/books/look.php?p_code=B1266184916\">한 권으로 끝내는 딥러닝 텐서플로</a></td>\\r\\n\\t\\t\\t\\t\\t\\t\\t\\t\\t\\t\\t\\t\\t<td class=\"left\">바라스 람순다르 Bharath Ramsundar 외 1명  </td>\\r\\n\\t\\t\\t\\t\\t\\t\\t\\t\\t\\t\\t\\t<td>2018-11-05</td>\\r\\n\\t\\t\\t\\t\\t\\t<td class=\"right\">24,000원</td>\\r\\n\\t\\t\\t\\t\\t</tr>\\r\\n\\r\\n\\t\\t\\t\\t\\t\\t\\t\\t\\t\\t<tr>\\r\\n\\t\\t\\t\\t\\t\\t<td class=\"brd_m\">한빛미디어</td>\\r\\n\\t\\t\\t\\t\\t\\t<td class=\"left\"><a href=\"/store/books/look.php?p_code=B8718279503\">파이썬으로 배우는 머신러닝의 교과서</a></td>\\r\\n\\t\\t\\t\\t\\t\\t\\t\\t\\t\\t\\t\\t\\t<td class=\"left\">이토 마코토   </td>\\r\\n\\t\\t\\t\\t\\t\\t\\t\\t\\t\\t\\t\\t<td>2018-11-01</td>\\r\\n\\t\\t\\t\\t\\t\\t<td class=\"right\">29,000원</td>\\r\\n\\t\\t\\t\\t\\t</tr>\\r\\n\\r\\n\\t\\t\\t\\t\\t\\t\\t\\t\\t\\t<tr>\\r\\n\\t\\t\\t\\t\\t\\t<td class=\"brd_m\">한빛미디어</td>\\r\\n\\t\\t\\t\\t\\t\\t<td class=\"left\"><a href=\"/store/books/look.php?p_code=B5331040931\">좋은 사진을 만드는 ZAKO의 여행 사진 잘 찍는 법</a></td>\\r\\n\\t\\t\\t\\t\\t\\t\\t\\t\\t\\t\\t\\t\\t<td class=\"left\">ZAKO   </td>\\r\\n\\t\\t\\t\\t\\t\\t\\t\\t\\t\\t\\t\\t<td>2018-10-31</td>\\r\\n\\t\\t\\t\\t\\t\\t<td class=\"right\">22,000원</td>\\r\\n\\t\\t\\t\\t\\t</tr>\\r\\n\\r\\n\\t\\t\\t\\t\\t\\t\\t\\t\\t\\t<tr>\\r\\n\\t\\t\\t\\t\\t\\t<td class=\"brd_a\">한빛아카데미</td>\\r\\n\\t\\t\\t\\t\\t\\t<td class=\"left\"><a href=\"/store/books/look.php?p_code=B3696148245\">2019 전기기사 필기 7개년 기출문제</a></td>\\r\\n\\t\\t\\t\\t\\t\\t\\t\\t\\t\\t\\t\\t\\t<td class=\"left\">김상훈   </td>\\r\\n\\t\\t\\t\\t\\t\\t\\t\\t\\t\\t\\t\\t<td>2018-10-31</td>\\r\\n\\t\\t\\t\\t\\t\\t<td class=\"right\">22,000원</td>\\r\\n\\t\\t\\t\\t\\t</tr>\\r\\n\\r\\n\\t\\t\\t\\t\\t\\t\\t\\t\\t\\t<tr>\\r\\n\\t\\t\\t\\t\\t\\t<td class=\"brd_a\">한빛아카데미</td>\\r\\n\\t\\t\\t\\t\\t\\t<td class=\"left\"><a href=\"/store/books/look.php?p_code=B6727651495\">2019 전기산업기사 필기 7개년 기출문제</a></td>\\r\\n\\t\\t\\t\\t\\t\\t\\t\\t\\t\\t\\t\\t\\t<td class=\"left\">김상훈   </td>\\r\\n\\t\\t\\t\\t\\t\\t\\t\\t\\t\\t\\t\\t<td>2018-10-31</td>\\r\\n\\t\\t\\t\\t\\t\\t<td class=\"right\">22,000원</td>\\r\\n\\t\\t\\t\\t\\t</tr>\\r\\n\\r\\n\\t\\t\\t\\t\\t\\t\\t\\t\\t\\t<tr>\\r\\n\\t\\t\\t\\t\\t\\t<td class=\"brd_a\">한빛아카데미</td>\\r\\n\\t\\t\\t\\t\\t\\t<td class=\"left\"><a href=\"/store/books/look.php?p_code=B9796997266\">&#40;무료동영상&#41; 2019 전기산업기사 필기</a></td>\\r\\n\\t\\t\\t\\t\\t\\t\\t\\t\\t\\t\\t\\t\\t<td class=\"left\">김상훈   </td>\\r\\n\\t\\t\\t\\t\\t\\t\\t\\t\\t\\t\\t\\t<td>2018-10-26</td>\\r\\n\\t\\t\\t\\t\\t\\t<td class=\"right\">36,000원</td>\\r\\n\\t\\t\\t\\t\\t</tr>\\r\\n\\r\\n\\t\\t\\t\\t\\t\\t\\t\\t\\t\\t<tr>\\r\\n\\t\\t\\t\\t\\t\\t<td class=\"brd_a\">한빛아카데미</td>\\r\\n\\t\\t\\t\\t\\t\\t<td class=\"left\"><a href=\"/store/books/look.php?p_code=B1401258166\">&#40;무료동영상&#41; 2019 전기기사 필기</a></td>\\r\\n\\t\\t\\t\\t\\t\\t\\t\\t\\t\\t\\t\\t\\t<td class=\"left\">김상훈   </td>\\r\\n\\t\\t\\t\\t\\t\\t\\t\\t\\t\\t\\t\\t<td>2018-10-26</td>\\r\\n\\t\\t\\t\\t\\t\\t<td class=\"right\">36,000원</td>\\r\\n\\t\\t\\t\\t\\t</tr>\\r\\n\\r\\n\\t\\t\\t\\t\\t\\t\\t\\t\\t\\t<tr>\\r\\n\\t\\t\\t\\t\\t\\t<td class=\"brd_l\">한빛라이프</td>\\r\\n\\t\\t\\t\\t\\t\\t<td class=\"left\"><a href=\"/store/books/look.php?p_code=B4559886540\">리얼 블라디보스톡  PLUS 우수리스크 [2019~2020년 최신판]</a></td>\\r\\n\\t\\t\\t\\t\\t\\t\\t\\t\\t\\t\\t\\t\\t<td class=\"left\">강한나   </td>\\r\\n\\t\\t\\t\\t\\t\\t\\t\\t\\t\\t\\t\\t<td>2018-10-22</td>\\r\\n\\t\\t\\t\\t\\t\\t<td class=\"right\">13,500원</td>\\r\\n\\t\\t\\t\\t\\t</tr>\\r\\n\\r\\n\\t\\t\\t\\t\\t\\t\\t\\t\\t\\t<tr>\\r\\n\\t\\t\\t\\t\\t\\t<td class=\"brd_b\">한빛비즈</td>\\r\\n\\t\\t\\t\\t\\t\\t<td class=\"left\"><a href=\"/store/books/look.php?p_code=B1052483362\">프라이드</a></td>\\r\\n\\t\\t\\t\\t\\t\\t\\t\\t\\t\\t\\t\\t\\t<td class=\"left\">박준기   </td>\\r\\n\\t\\t\\t\\t\\t\\t\\t\\t\\t\\t\\t\\t<td>2018-10-15</td>\\r\\n\\t\\t\\t\\t\\t\\t<td class=\"right\">17,000원</td>\\r\\n\\t\\t\\t\\t\\t</tr>\\r\\n\\r\\n\\t\\t\\t\\t\\t\\t\\t\\t\\t\\t<tr>\\r\\n\\t\\t\\t\\t\\t\\t<td class=\"brd_b\">한빛비즈</td>\\r\\n\\t\\t\\t\\t\\t\\t<td class=\"left\"><a href=\"/store/books/look.php?p_code=B3202466252\">퇴근길 인문학 수업 : 전진</a></td>\\r\\n\\t\\t\\t\\t\\t\\t\\t\\t\\t\\t\\t\\t\\t<td class=\"left\">백상경제연구원   </td>\\r\\n\\t\\t\\t\\t\\t\\t\\t\\t\\t\\t\\t\\t<td>2018-10-15</td>\\r\\n\\t\\t\\t\\t\\t\\t<td class=\"right\">17,000원</td>\\r\\n\\t\\t\\t\\t\\t</tr>\\r\\n\\r\\n\\t\\t\\t\\t\\t\\t\\t\\t\\t\\t<tr>\\r\\n\\t\\t\\t\\t\\t\\t<td class=\"brd_b\">한빛비즈</td>\\r\\n\\t\\t\\t\\t\\t\\t<td class=\"left\"><a href=\"/store/books/look.php?p_code=B7076585695\">만화로 배우는 곤충의 진화</a></td>\\r\\n\\t\\t\\t\\t\\t\\t\\t\\t\\t\\t\\t\\t\\t<td class=\"left\">김도윤(갈로아)   </td>\\r\\n\\t\\t\\t\\t\\t\\t\\t\\t\\t\\t\\t\\t<td>2018-10-15</td>\\r\\n\\t\\t\\t\\t\\t\\t<td class=\"right\">17,800원</td>\\r\\n\\t\\t\\t\\t\\t</tr>\\r\\n\\r\\n\\t\\t\\t\\t\\t\\t\\t\\t\\t\\t<tr>\\r\\n\\t\\t\\t\\t\\t\\t<td class=\"brd_m\">한빛미디어</td>\\r\\n\\t\\t\\t\\t\\t\\t<td class=\"left\"><a href=\"/store/books/look.php?p_code=B7473583156\">맥 쓰는 사람들의 macOS 모하비</a></td>\\r\\n\\t\\t\\t\\t\\t\\t\\t\\t\\t\\t\\t\\t\\t<td class=\"left\">고래돌이   </td>\\r\\n\\t\\t\\t\\t\\t\\t\\t\\t\\t\\t\\t\\t<td>2018-10-10</td>\\r\\n\\t\\t\\t\\t\\t\\t<td class=\"right\">22,000원</td>\\r\\n\\t\\t\\t\\t\\t</tr>\\r\\n\\r\\n\\t\\t\\t\\t\\t\\t\\t\\t\\t\\t<tr>\\r\\n\\t\\t\\t\\t\\t\\t<td class=\"brd_a\">한빛아카데미</td>\\r\\n\\t\\t\\t\\t\\t\\t<td class=\"left\"><a href=\"/store/books/look.php?p_code=B7883656935\">IT CookBook, 쉽게 배우는 JSP 웹 프로그래밍</a></td>\\r\\n\\t\\t\\t\\t\\t\\t\\t\\t\\t\\t\\t\\t\\t<td class=\"left\">송미영   </td>\\r\\n\\t\\t\\t\\t\\t\\t\\t\\t\\t\\t\\t\\t<td>2018-10-08</td>\\r\\n\\t\\t\\t\\t\\t\\t<td class=\"right\">27,000원</td>\\r\\n\\t\\t\\t\\t\\t</tr>\\r\\n\\r\\n\\t\\t\\t\\t\\t\\t\\t\\t\\t\\t<tr>\\r\\n\\t\\t\\t\\t\\t\\t<td class=\"brd_m\">한빛미디어</td>\\r\\n\\t\\t\\t\\t\\t\\t<td class=\"left\"><a href=\"/store/books/look.php?p_code=B6952054209\">처음 시작하는 R 데이터 분석</a></td>\\r\\n\\t\\t\\t\\t\\t\\t\\t\\t\\t\\t\\t\\t\\t<td class=\"left\">강전희 외 1명  </td>\\r\\n\\t\\t\\t\\t\\t\\t\\t\\t\\t\\t\\t\\t<td>2018-10-05</td>\\r\\n\\t\\t\\t\\t\\t\\t<td class=\"right\">19,800원</td>\\r\\n\\t\\t\\t\\t\\t</tr>\\r\\n\\r\\n\\t\\t\\t\\t\\t\\t\\t\\t\\t\\t<tr>\\r\\n\\t\\t\\t\\t\\t\\t<td class=\"brd_a\">한빛아카데미</td>\\r\\n\\t\\t\\t\\t\\t\\t<td class=\"left\"><a href=\"/store/books/look.php?p_code=B4743554662\">NCS를 기반으로 한 직무 기초수학</a></td>\\r\\n\\t\\t\\t\\t\\t\\t\\t\\t\\t\\t\\t\\t\\t<td class=\"left\">이광연 외 2명  </td>\\r\\n\\t\\t\\t\\t\\t\\t\\t\\t\\t\\t\\t\\t<td>2018-10-05</td>\\r\\n\\t\\t\\t\\t\\t\\t<td class=\"right\">22,000원</td>\\r\\n\\t\\t\\t\\t\\t</tr>\\r\\n\\r\\n\\t\\t\\t\\t\\t\\t\\t\\t\\t\\t<tr>\\r\\n\\t\\t\\t\\t\\t\\t<td class=\"brd_m\">한빛미디어</td>\\r\\n\\t\\t\\t\\t\\t\\t<td class=\"left\"><a href=\"/store/books/look.php?p_code=B2845507407\">데이터 과학을 위한 통계</a></td>\\r\\n\\t\\t\\t\\t\\t\\t\\t\\t\\t\\t\\t\\t\\t<td class=\"left\">피터 브루스 외 1명  </td>\\r\\n\\t\\t\\t\\t\\t\\t\\t\\t\\t\\t\\t\\t<td>2018-10-02</td>\\r\\n\\t\\t\\t\\t\\t\\t<td class=\"right\">32,000원</td>\\r\\n\\t\\t\\t\\t\\t</tr>\\r\\n\\r\\n\\t\\t\\t\\t\\t\\t\\t\\t\\t\\t<tr>\\r\\n\\t\\t\\t\\t\\t\\t<td class=\"brd_m\">한빛미디어</td>\\r\\n\\t\\t\\t\\t\\t\\t<td class=\"left\"><a href=\"/store/books/look.php?p_code=B6910482773\">오준석의 안드로이드 생존코딩&#40;코틀린 편&#41;</a></td>\\r\\n\\t\\t\\t\\t\\t\\t\\t\\t\\t\\t\\t\\t\\t<td class=\"left\">오준석   </td>\\r\\n\\t\\t\\t\\t\\t\\t\\t\\t\\t\\t\\t\\t<td>2018-10-01</td>\\r\\n\\t\\t\\t\\t\\t\\t<td class=\"right\">32,000원</td>\\r\\n\\t\\t\\t\\t\\t</tr>\\r\\n\\r\\n\\t\\t\\t\\t\\t\\t\\t\\t\\t\\t<tr>\\r\\n\\t\\t\\t\\t\\t\\t<td class=\"brd_m\">한빛미디어</td>\\r\\n\\t\\t\\t\\t\\t\\t<td class=\"left\"><a href=\"/store/books/look.php?p_code=B4458049183\">처음 배우는 스프링 부트 2</a></td>\\r\\n\\t\\t\\t\\t\\t\\t\\t\\t\\t\\t\\t\\t\\t<td class=\"left\">김영재   </td>\\r\\n\\t\\t\\t\\t\\t\\t\\t\\t\\t\\t\\t\\t<td>2018-10-01</td>\\r\\n\\t\\t\\t\\t\\t\\t<td class=\"right\">22,000원</td>\\r\\n\\t\\t\\t\\t\\t</tr>\\r\\n\\r\\n\\t\\t\\t\\t\\t\\t\\t\\t\\t\\t<tr>\\r\\n\\t\\t\\t\\t\\t\\t<td class=\"brd_b\">한빛비즈</td>\\r\\n\\t\\t\\t\\t\\t\\t<td class=\"left\"><a href=\"/store/books/look.php?p_code=B3730970900\">퇴근길 인문학 수업 : 전환</a></td>\\r\\n\\t\\t\\t\\t\\t\\t\\t\\t\\t\\t\\t\\t\\t<td class=\"left\">백상경제연구원   </td>\\r\\n\\t\\t\\t\\t\\t\\t\\t\\t\\t\\t\\t\\t<td>2018-09-28</td>\\r\\n\\t\\t\\t\\t\\t\\t<td class=\"right\">17,000원</td>\\r\\n\\t\\t\\t\\t\\t</tr>\\r\\n\\r\\n\\t\\t\\t\\t\\t\\t\\t\\t\\t\\t<tr>\\r\\n\\t\\t\\t\\t\\t\\t<td class=\"brd_a\">한빛아카데미</td>\\r\\n\\t\\t\\t\\t\\t\\t<td class=\"left\"><a href=\"/store/books/look.php?p_code=B2985687596\">수치해석학 바이블</a></td>\\r\\n\\t\\t\\t\\t\\t\\t\\t\\t\\t\\t\\t\\t\\t<td class=\"left\">Ward Cheney 외 1명  </td>\\r\\n\\t\\t\\t\\t\\t\\t\\t\\t\\t\\t\\t\\t<td>2018-09-28</td>\\r\\n\\t\\t\\t\\t\\t\\t<td class=\"right\">32,000원</td>\\r\\n\\t\\t\\t\\t\\t</tr>\\r\\n\\r\\n\\t\\t\\t\\t\\t\\t\\t\\t\\t\\t<tr>\\r\\n\\t\\t\\t\\t\\t\\t<td class=\"brd_b\">한빛비즈</td>\\r\\n\\t\\t\\t\\t\\t\\t<td class=\"left\"><a href=\"/store/books/look.php?p_code=B3043718990\">돈의 마법</a></td>\\r\\n\\t\\t\\t\\t\\t\\t\\t\\t\\t\\t\\t\\t\\t<td class=\"left\">고경호   </td>\\r\\n\\t\\t\\t\\t\\t\\t\\t\\t\\t\\t\\t\\t<td>2018-09-21</td>\\r\\n\\t\\t\\t\\t\\t\\t<td class=\"right\">13,800원</td>\\r\\n\\t\\t\\t\\t\\t</tr>\\r\\n\\r\\n\\t\\t\\t\\t\\t\\t\\t\\t\\t\\t<tr>\\r\\n\\t\\t\\t\\t\\t\\t<td class=\"brd_e\">한빛에듀</td>\\r\\n\\t\\t\\t\\t\\t\\t<td class=\"left\"><a href=\"/store/books/look.php?p_code=B5099518814\">퀴즈 그림 찾기</a></td>\\r\\n\\t\\t\\t\\t\\t\\t\\t\\t\\t\\t\\t\\t\\t<td class=\"left\">모이라 버터필드   </td>\\r\\n\\t\\t\\t\\t\\t\\t\\t\\t\\t\\t\\t\\t<td>2018-09-19</td>\\r\\n\\t\\t\\t\\t\\t\\t<td class=\"right\">6,000원</td>\\r\\n\\t\\t\\t\\t\\t</tr>\\r\\n\\r\\n\\t\\t\\t\\t\\t\\t\\t\\t\\t\\t<tr>\\r\\n\\t\\t\\t\\t\\t\\t<td class=\"brd_e\">한빛에듀</td>\\r\\n\\t\\t\\t\\t\\t\\t<td class=\"left\"><a href=\"/store/books/look.php?p_code=B3155316207\">하나 다른 그림 찾기</a></td>\\r\\n\\t\\t\\t\\t\\t\\t\\t\\t\\t\\t\\t\\t\\t<td class=\"left\">조이 포터   </td>\\r\\n\\t\\t\\t\\t\\t\\t\\t\\t\\t\\t\\t\\t<td>2018-09-19</td>\\r\\n\\t\\t\\t\\t\\t\\t<td class=\"right\">6,000원</td>\\r\\n\\t\\t\\t\\t\\t</tr>\\r\\n\\r\\n\\t\\t\\t\\t\\t\\t\\t\\t\\t\\t<tr>\\r\\n\\t\\t\\t\\t\\t\\t<td class=\"brd_e\">한빛에듀</td>\\r\\n\\t\\t\\t\\t\\t\\t<td class=\"left\"><a href=\"/store/books/look.php?p_code=B8338535067\">다른 그림 찾기</a></td>\\r\\n\\t\\t\\t\\t\\t\\t\\t\\t\\t\\t\\t\\t\\t<td class=\"left\">엘리자베스 골딩   </td>\\r\\n\\t\\t\\t\\t\\t\\t\\t\\t\\t\\t\\t\\t<td>2018-09-19</td>\\r\\n\\t\\t\\t\\t\\t\\t<td class=\"right\">6,000원</td>\\r\\n\\t\\t\\t\\t\\t</tr>\\r\\n\\r\\n\\t\\t\\t\\t\\t\\t\\t\\r\\n\\t\\t\\t\\t\\t<tr class=\"sold_out\">\\r\\n\\t\\t\\t\\t\\t\\t<td class=\"brd_m sold_out\">한빛미디어</td>\\r\\n\\t\\t\\t\\t\\t\\t<td class=\"left sold_out\"><img src=\"/images/store/icon_soldout.png\" alt=\"품절\" class=\"ic_soldout\" /><a href=\"/store/books/look.php?p_code=B8635373198\">회사에서 바로 통하는 실무 엑셀+파워포인트+워드&한글</a></td>\\r\\n\\t\\t\\t\\t\\t\\t\\t\\t\\t\\t\\t\\t\\t<td class=\"sold_out left\">전미진 외 2명  </td>\\r\\n\\t\\t\\t\\t\\t\\t\\t\\t\\t\\t\\t\\t<td class=\"sold_out\">2018-09-17</td>\\r\\n\\t\\t\\t\\t\\t\\t<td class=\"sold_out right\">22,000원</td>\\r\\n\\t\\t\\t\\t\\t</tr>\\t\\t\\t\\t\\t\\t\\t\\t\\t\\t\\r\\n\\t\\t\\t\\t\\t\\t\\t\\t\\t\\t<tr>\\r\\n\\t\\t\\t\\t\\t\\t<td class=\"brd_b\">한빛비즈</td>\\r\\n\\t\\t\\t\\t\\t\\t<td class=\"left\"><a href=\"/store/books/look.php?p_code=B8533961758\">퇴근길 인문학 수업 : 멈춤</a></td>\\r\\n\\t\\t\\t\\t\\t\\t\\t\\t\\t\\t\\t\\t\\t<td class=\"left\">백상경제연구원   </td>\\r\\n\\t\\t\\t\\t\\t\\t\\t\\t\\t\\t\\t\\t<td>2018-09-11</td>\\r\\n\\t\\t\\t\\t\\t\\t<td class=\"right\">17,000원</td>\\r\\n\\t\\t\\t\\t\\t</tr>\\r\\n\\r\\n\\t\\t\\t\\t\\t\\t\\t\\t\\t\\t<tr>\\r\\n\\t\\t\\t\\t\\t\\t<td class=\"brd_m\">한빛미디어</td>\\r\\n\\t\\t\\t\\t\\t\\t<td class=\"left\"><a href=\"/store/books/look.php?p_code=B2578596304\">RxJS 프로그래밍: 75가지 핵심 문법과 예제로 익히는 RxJS 기초</a></td>\\r\\n\\t\\t\\t\\t\\t\\t\\t\\t\\t\\t\\t\\t\\t<td class=\"left\">이종욱 외 1명  </td>\\r\\n\\t\\t\\t\\t\\t\\t\\t\\t\\t\\t\\t\\t<td>2018-09-10</td>\\r\\n\\t\\t\\t\\t\\t\\t<td class=\"right\">32,000원</td>\\r\\n\\t\\t\\t\\t\\t</tr>\\r\\n\\r\\n\\t\\t\\t\\t\\t\\t\\t\\t\\t\\t<tr>\\r\\n\\t\\t\\t\\t\\t\\t<td class=\"brd_l\">한빛라이프</td>\\r\\n\\t\\t\\t\\t\\t\\t<td class=\"left\"><a href=\"/store/books/look.php?p_code=B1984493876\">리얼 후쿠오카 PLUS 벳푸 · 유후인 [2018~2019년 최신판]</a></td>\\r\\n\\t\\t\\t\\t\\t\\t\\t\\t\\t\\t\\t\\t\\t<td class=\"left\">나보영   </td>\\r\\n\\t\\t\\t\\t\\t\\t\\t\\t\\t\\t\\t\\t<td>2018-09-05</td>\\r\\n\\t\\t\\t\\t\\t\\t<td class=\"right\">15,000원</td>\\r\\n\\t\\t\\t\\t\\t</tr>\\r\\n\\r\\n\\t\\t\\t\\t\\t\\t\\t\\t\\t\\t<tr>\\r\\n\\t\\t\\t\\t\\t\\t<td class=\"brd_m\">한빛미디어</td>\\r\\n\\t\\t\\t\\t\\t\\t<td class=\"left\"><a href=\"/store/books/look.php?p_code=B3859466837\">스프링 5 레시피&#40;4판&#41;</a></td>\\r\\n\\t\\t\\t\\t\\t\\t\\t\\t\\t\\t\\t\\t\\t<td class=\"left\">마틴 데니엄(Marten Deinum) 외 2명  </td>\\r\\n\\t\\t\\t\\t\\t\\t\\t\\t\\t\\t\\t\\t<td>2018-09-01</td>\\r\\n\\t\\t\\t\\t\\t\\t<td class=\"right\">60,000원</td>\\r\\n\\t\\t\\t\\t\\t</tr>\\r\\n\\r\\n\\t\\t\\t\\t\\t\\t\\t\\t\\t\\t<tr>\\r\\n\\t\\t\\t\\t\\t\\t<td class=\"brd_m\">한빛미디어</td>\\r\\n\\t\\t\\t\\t\\t\\t<td class=\"left\"><a href=\"/store/books/look.php?p_code=B4774300045\">자바를 활용한 딥러닝</a></td>\\r\\n\\t\\t\\t\\t\\t\\t\\t\\t\\t\\t\\t\\t\\t<td class=\"left\">조시 패터슨(Josh Patterson) 외 1명  </td>\\r\\n\\t\\t\\t\\t\\t\\t\\t\\t\\t\\t\\t\\t<td>2018-09-01</td>\\r\\n\\t\\t\\t\\t\\t\\t<td class=\"right\">38,000원</td>\\r\\n\\t\\t\\t\\t\\t</tr>\\r\\n\\r\\n\\t\\t\\t\\t\\t\\t\\t\\t\\t\\t<tr>\\r\\n\\t\\t\\t\\t\\t\\t<td class=\"brd_m\">한빛미디어</td>\\r\\n\\t\\t\\t\\t\\t\\t<td class=\"left\"><a href=\"/store/books/look.php?p_code=B6320134176\">회사에서 바로 통하는 엑셀 실무 강의</a></td>\\r\\n\\t\\t\\t\\t\\t\\t\\t\\t\\t\\t\\t\\t\\t<td class=\"left\">전미진   </td>\\r\\n\\t\\t\\t\\t\\t\\t\\t\\t\\t\\t\\t\\t<td>2018-08-30</td>\\r\\n\\t\\t\\t\\t\\t\\t<td class=\"right\">21,000원</td>\\r\\n\\t\\t\\t\\t\\t</tr>\\r\\n\\r\\n\\t\\t\\t\\t\\t\\t\\t\\t\\t\\t<tr>\\r\\n\\t\\t\\t\\t\\t\\t<td class=\"brd_b\">한빛비즈</td>\\r\\n\\t\\t\\t\\t\\t\\t<td class=\"left\"><a href=\"/store/books/look.php?p_code=B4534892648\">아마추어</a></td>\\r\\n\\t\\t\\t\\t\\t\\t\\t\\t\\t\\t\\t\\t\\t<td class=\"left\">앤디 메리필드   </td>\\r\\n\\t\\t\\t\\t\\t\\t\\t\\t\\t\\t\\t\\t<td>2018-08-30</td>\\r\\n\\t\\t\\t\\t\\t\\t<td class=\"right\">17,000원</td>\\r\\n\\t\\t\\t\\t\\t</tr>\\r\\n\\r\\n\\t\\t\\t\\t\\t\\t\\t\\t\\t\\t<tr>\\r\\n\\t\\t\\t\\t\\t\\t<td class=\"brd_b\">한빛비즈</td>\\r\\n\\t\\t\\t\\t\\t\\t<td class=\"left\"><a href=\"/store/books/look.php?p_code=B7534117022\">우주에도 우리처럼</a></td>\\r\\n\\t\\t\\t\\t\\t\\t\\t\\t\\t\\t\\t\\t\\t<td class=\"left\">아베 유타카 외 1명  </td>\\r\\n\\t\\t\\t\\t\\t\\t\\t\\t\\t\\t\\t\\t<td>2018-08-30</td>\\r\\n\\t\\t\\t\\t\\t\\t<td class=\"right\">16,000원</td>\\r\\n\\t\\t\\t\\t\\t</tr>\\r\\n\\r\\n\\t\\t\\t\\t\\t\\t\\t\\t\\t\\t<tr>\\r\\n\\t\\t\\t\\t\\t\\t<td class=\"brd_l\">한빛라이프</td>\\r\\n\\t\\t\\t\\t\\t\\t<td class=\"left\"><a href=\"/store/books/look.php?p_code=B6370742670\">“사랑해”를 쓰는 40가지 방법</a></td>\\r\\n\\t\\t\\t\\t\\t\\t\\t\\t\\t\\t\\t\\t\\t<td class=\"left\">라나 휴즈(Lana Hughes)   </td>\\r\\n\\t\\t\\t\\t\\t\\t\\t\\t\\t\\t\\t\\t<td>2018-08-27</td>\\r\\n\\t\\t\\t\\t\\t\\t<td class=\"right\">13,500원</td>\\r\\n\\t\\t\\t\\t\\t</tr>\\r\\n\\r\\n\\t\\t\\t\\t\\t\\t\\t\\t\\t\\t<tr>\\r\\n\\t\\t\\t\\t\\t\\t<td class=\"brd_m\">한빛미디어</td>\\r\\n\\t\\t\\t\\t\\t\\t<td class=\"left\"><a href=\"/store/books/look.php?p_code=B1211451725\">모던 스타트업</a></td>\\r\\n\\t\\t\\t\\t\\t\\t\\t\\t\\t\\t\\t\\t\\t<td class=\"left\">이기곤   </td>\\r\\n\\t\\t\\t\\t\\t\\t\\t\\t\\t\\t\\t\\t<td>2018-08-20</td>\\r\\n\\t\\t\\t\\t\\t\\t<td class=\"right\">20,000원</td>\\r\\n\\t\\t\\t\\t\\t</tr>\\r\\n\\r\\n\\t\\t\\t\\t\\t\\t\\t\\t\\t\\t<tr>\\r\\n\\t\\t\\t\\t\\t\\t<td class=\"brd_m\">한빛미디어</td>\\r\\n\\t\\t\\t\\t\\t\\t<td class=\"left\"><a href=\"/store/books/look.php?p_code=B4329597070\">파이썬 웹 프로그래밍&#40;개정판&#41;</a></td>\\r\\n\\t\\t\\t\\t\\t\\t\\t\\t\\t\\t\\t\\t\\t<td class=\"left\">김석훈   </td>\\r\\n\\t\\t\\t\\t\\t\\t\\t\\t\\t\\t\\t\\t<td>2018-08-17</td>\\r\\n\\t\\t\\t\\t\\t\\t<td class=\"right\">22,000원</td>\\r\\n\\t\\t\\t\\t\\t</tr>\\r\\n\\r\\n\\t\\t\\t\\t\\t\\t\\t\\t\\t\\t<tr>\\r\\n\\t\\t\\t\\t\\t\\t<td class=\"brd_b\">한빛비즈</td>\\r\\n\\t\\t\\t\\t\\t\\t<td class=\"left\"><a href=\"/store/books/look.php?p_code=B2680149100\">이젠 내 시간표대로 살겠습니다</a></td>\\r\\n\\t\\t\\t\\t\\t\\t\\t\\t\\t\\t\\t\\t\\t<td class=\"left\">미카엘라 청   </td>\\r\\n\\t\\t\\t\\t\\t\\t\\t\\t\\t\\t\\t\\t<td>2018-08-16</td>\\r\\n\\t\\t\\t\\t\\t\\t<td class=\"right\">15,000원</td>\\r\\n\\t\\t\\t\\t\\t</tr>\\r\\n\\r\\n\\t\\t\\t\\t\\t\\t\\t\\t\\t\\t<tr>\\r\\n\\t\\t\\t\\t\\t\\t<td class=\"brd_m\">한빛미디어</td>\\r\\n\\t\\t\\t\\t\\t\\t<td class=\"left\"><a href=\"/store/books/look.php?p_code=B3409534326\">피, 땀, 픽셀 : 트리플 A 게임은 어떻게 만들어지는가</a></td>\\r\\n\\t\\t\\t\\t\\t\\t\\t\\t\\t\\t\\t\\t\\t<td class=\"left\">제이슨 슈라이어   </td>\\r\\n\\t\\t\\t\\t\\t\\t\\t\\t\\t\\t\\t\\t<td>2018-08-03</td>\\r\\n\\t\\t\\t\\t\\t\\t<td class=\"right\">18,000원</td>\\r\\n\\t\\t\\t\\t\\t</tr>\\r\\n\\r\\n\\t\\t\\t\\t\\t\\t\\t\\t\\t\\t<tr>\\r\\n\\t\\t\\t\\t\\t\\t<td class=\"brd_m\">한빛미디어</td>\\r\\n\\t\\t\\t\\t\\t\\t<td class=\"left\"><a href=\"/store/books/look.php?p_code=B6142075412\">엔트리, 피지컬 컴퓨팅을 만나다</a></td>\\r\\n\\t\\t\\t\\t\\t\\t\\t\\t\\t\\t\\t\\t\\t<td class=\"left\">최현종 외 2명  </td>\\r\\n\\t\\t\\t\\t\\t\\t\\t\\t\\t\\t\\t\\t<td>2018-08-03</td>\\r\\n\\t\\t\\t\\t\\t\\t<td class=\"right\">18,000원</td>\\r\\n\\t\\t\\t\\t\\t</tr>\\r\\n\\r\\n\\t\\t\\t\\t\\t\\t\\t\\t\\t\\t<tr>\\r\\n\\t\\t\\t\\t\\t\\t<td class=\"brd_m\">한빛미디어</td>\\r\\n\\t\\t\\t\\t\\t\\t<td class=\"left\"><a href=\"/store/books/look.php?p_code=B8627769894\">회사에서 바로 통하는 오토캐드 2019</a></td>\\r\\n\\t\\t\\t\\t\\t\\t\\t\\t\\t\\t\\t\\t\\t<td class=\"left\">심미현   </td>\\r\\n\\t\\t\\t\\t\\t\\t\\t\\t\\t\\t\\t\\t<td>2018-08-03</td>\\r\\n\\t\\t\\t\\t\\t\\t<td class=\"right\">28,000원</td>\\r\\n\\t\\t\\t\\t\\t</tr>\\r\\n\\r\\n\\t\\t\\t\\t\\t\\t\\t\\t\\t\\t<tr>\\r\\n\\t\\t\\t\\t\\t\\t<td class=\"brd_m\">한빛미디어</td>\\r\\n\\t\\t\\t\\t\\t\\t<td class=\"left\"><a href=\"/store/books/look.php?p_code=B1184560899\">맛있는 디자인 프리미어 프로&애프터 이펙트 CC 2018</a></td>\\r\\n\\t\\t\\t\\t\\t\\t\\t\\t\\t\\t\\t\\t\\t<td class=\"left\">김덕영 외 2명  </td>\\r\\n\\t\\t\\t\\t\\t\\t\\t\\t\\t\\t\\t\\t<td>2018-08-03</td>\\r\\n\\t\\t\\t\\t\\t\\t<td class=\"right\">24,000원</td>\\r\\n\\t\\t\\t\\t\\t</tr>\\r\\n\\r\\n\\t\\t\\t\\t\\t\\t\\t\\t\\t\\t<tr>\\r\\n\\t\\t\\t\\t\\t\\t<td class=\"brd_m\">한빛미디어</td>\\r\\n\\t\\t\\t\\t\\t\\t<td class=\"left\"><a href=\"/store/books/look.php?p_code=B1131615065\">맛있는 디자인 포토샵&인디자인 CC 2018</a></td>\\r\\n\\t\\t\\t\\t\\t\\t\\t\\t\\t\\t\\t\\t\\t<td class=\"left\">박효근 외 2명  </td>\\r\\n\\t\\t\\t\\t\\t\\t\\t\\t\\t\\t\\t\\t<td>2018-08-03</td>\\r\\n\\t\\t\\t\\t\\t\\t<td class=\"right\">24,000원</td>\\r\\n\\t\\t\\t\\t\\t</tr>\\r\\n\\r\\n\\t\\t\\t\\t\\t\\t\\t\\t\\t\\t<tr>\\r\\n\\t\\t\\t\\t\\t\\t<td class=\"brd_m\">한빛미디어</td>\\r\\n\\t\\t\\t\\t\\t\\t<td class=\"left\"><a href=\"/store/books/look.php?p_code=B5821607640\">만들면서 배우는 워드프레스&#40;개정판&#41;</a></td>\\r\\n\\t\\t\\t\\t\\t\\t\\t\\t\\t\\t\\t\\t\\t<td class=\"left\">박현우   </td>\\r\\n\\t\\t\\t\\t\\t\\t\\t\\t\\t\\t\\t\\t<td>2018-07-25</td>\\r\\n\\t\\t\\t\\t\\t\\t<td class=\"right\">26,000원</td>\\r\\n\\t\\t\\t\\t\\t</tr>\\r\\n\\r\\n\\t\\t\\t\\t\\t\\t\\t\\t\\t\\t<tr>\\r\\n\\t\\t\\t\\t\\t\\t<td class=\"brd_m\">한빛미디어</td>\\r\\n\\t\\t\\t\\t\\t\\t<td class=\"left\"><a href=\"/store/books/look.php?p_code=B3633028491\">처음 배우는 암호화</a></td>\\r\\n\\t\\t\\t\\t\\t\\t\\t\\t\\t\\t\\t\\t\\t<td class=\"left\">장필리프 오마송   </td>\\r\\n\\t\\t\\t\\t\\t\\t\\t\\t\\t\\t\\t\\t<td>2018-07-20</td>\\r\\n\\t\\t\\t\\t\\t\\t<td class=\"right\">29,000원</td>\\r\\n\\t\\t\\t\\t\\t</tr>\\r\\n\\r\\n\\t\\t\\t\\t\\t\\t\\t\\t\\t\\t<tr>\\r\\n\\t\\t\\t\\t\\t\\t<td class=\"brd_a\">한빛아카데미</td>\\r\\n\\t\\t\\t\\t\\t\\t<td class=\"left\"><a href=\"/store/books/look.php?p_code=B9631702376\">MATLAB으로 배우는 공학 수치해석&#40;개정판&#41;</a></td>\\r\\n\\t\\t\\t\\t\\t\\t\\t\\t\\t\\t\\t\\t\\t<td class=\"left\">방성완   </td>\\r\\n\\t\\t\\t\\t\\t\\t\\t\\t\\t\\t\\t\\t<td>2018-07-20</td>\\r\\n\\t\\t\\t\\t\\t\\t<td class=\"right\">24,000원</td>\\r\\n\\t\\t\\t\\t\\t</tr>\\r\\n\\r\\n\\t\\t\\t\\t\\t\\t\\t\\t\\t\\r\\n\\t\\t\\t\\t</tbody>\\r\\n\\t\\t\\t</table>\\r\\n\\t\\t</div>\\r\\n\\t\\t<!-- //책 리스트 -->\\r\\n\\t\\t\\r\\n\\t\\t<!-- 페이징 -->\\r\\n\\t\\t<div class=\"paginate bdr_no\">\\r\\n\\t\\t\\t<strong>1</strong>\\n<a href=\"/store/books/full_book_list.html?page=2&srt=p_pub_date&brand=\">2</a>\\n<a href=\"/store/books/full_book_list.html?page=3&srt=p_pub_date&brand=\">3</a>\\n<a href=\"/store/books/full_book_list.html?page=4&srt=p_pub_date&brand=\">4</a>\\n<a href=\"/store/books/full_book_list.html?page=5&srt=p_pub_date&brand=\">5</a>\\n<a href=\"/store/books/full_book_list.html?page=6&srt=p_pub_date&brand=\">6</a>\\n<a href=\"/store/books/full_book_list.html?page=7&srt=p_pub_date&brand=\">7</a>\\n<a href=\"/store/books/full_book_list.html?page=8&srt=p_pub_date&brand=\">8</a>\\n<a href=\"/store/books/full_book_list.html?page=9&srt=p_pub_date&brand=\">9</a>\\n<a href=\"/store/books/full_book_list.html?page=10&srt=p_pub_date&brand=\">10</a>\\n<a href=\"/store/books/full_book_list.html?page=11&srt=p_pub_date&brand=\" class=\"next\"><span>&gt;</span></a>\\n\\t\\t</div>\\r\\n\\t\\t<!-- //페이징 -->\\r\\n\\t\\t\\r\\n\\t\\t<!-- 전체 목록 다운로드 버튼-->\\r\\n\\t\\t<div class=\"btn_full_list mt40\"><a href=\"javascript:document.frm.submit();\">전체 목록 다운로드</a></div>\\r\\n\\t\\r\\n\\t</div>\\r\\n\\t<!-- //전체도서목록 wrap -->\\t\\r\\n\\t\\r\\n</div>\\r\\n<!-- //Contents -->\\r\\n<form name=\"frm\" id=\"frm\" method=\"post\" action=\"./full_book_list_down.php\">\\r\\n<input type=\"hidden\" name=\"brand\" id=\"brand\" value=\"\">\\r\\n<input type=\"hidden\" name=\"srt\" id=\"srt\" value=\"p_pub_date\">\\r\\n</form>\\r\\n<!-- 푸터 -->\\r\\n<footer>\\r\\n  <!-- 공지사항 -->\\r\\n  <div class=\"foot_notice\">\\r\\n      </div>\\r\\n  <!-- //공지사항 -->\\r\\n  \\r\\n  <div class=\"foot_contents\">\\r\\n    <!-- 하단 메뉴 -->\\r\\n    <div class=\"foot_menu\">\\r\\n      <!-- added by coffin -->\\r\\n            <ul>\\r\\n        <li><a href=\"http://www.hanbit.co.kr/publisher/index.html\" target=\"_blank\">회사소개</a>(<a href=\"http://www.hanbit.co.kr/publisher/index.html\" target=\"_blank\">KOR</a> | <a href=\"http://www.hanbit.co.kr/publisher/index.html?lang=e\" target=\"_blank\">ENG</a>) &#149; <a href=\"http://www.hanbit.co.kr/publisher/contact.html?lang=k\" target=\"_blank\">약도</a></li>\\r\\n        <li><a href=\"http://www.hanbit.co.kr/publisher/write.html\" target=\"_blank\">기획 및 원고 모집</a></li>\\r\\n        <li><a href=\"http://www.hanbit.co.kr/member/use_agreement.html\">이용약관</a></li>\\r\\n        <li><a href=\"http://www.hanbit.co.kr/member/privacy_policy.html\"><strong>개인정보취급방침</strong></a></li>\\r\\n        <li><a href=\"http://www.hanbit.co.kr/sitemap/sitemap.html\">사이트맵</a></li>\\r\\n      </ul>\\r\\n          </div>\\r\\n    <!-- //하단 메뉴 -->\\r\\n\\r\\n    <!-- SNS -->\\r\\n    <div class=\"foot_sns\">\\r\\n    \\r\\n      \\r\\n            \\r\\n      <ul>\\r\\n        <li class=\"foot_facebook\"><a href=\"https://www.facebook.com/hanbitmedia\" target=\"_blank\"><span>페이스북</span></a></li>\\r\\n        <li class=\"foot_googleplus\"><a href=\"https://plus.google.com/u/0/+HanbitCoKr/posts\" target=\"_blank\"><span>구글플러스</span></a></li>\\r\\n        <li class=\"foot_twitter\"><a href=\"https://twitter.com/hanbit\" target=\"_blank\"><span>트위터</span></a></li>\\r\\n        <li class=\"foot_youtube\"><a href=\"https://www.youtube.com/user/HanbitMedia93\" target=\"_blank\"><span>유튜브</span></a></li>\\r\\n        <li class=\"foot_bolg\"><a href=\"http://blog.hanbit.co.kr/\" target=\"_blank\"><span>블로그</span></a></li>\\r\\n      </ul>\\r\\n      \\r\\n            \\r\\n\\r\\n        <fieldset class=\"foot_srch\">\\r\\n          <legend>하단 검색영역</legend>\\r\\n          <input title=\"검색어\" class=\"foot_srch_keyword\" accesskey=\"s\" type=\"text\" value=\"\"  id=\"foot_keyword_str\" style=\"font-size:16px;\">\\r\\n          <input type=\"button\" alt=\"\" class=\"foot_srch_btn\" onclick=\"foot_sch_smit();\" style=\"cursor: pointer;\">\\r\\n          <!--input type=\"image\" alt=\"\" class=\"foot_srch_btn\" -->\\r\\n        </fieldset>\\r\\n\\r\\n      \\r\\n      <script>\\r\\n        // 검색 리스트  \\r\\n        $(document).ready(function() {       \\r\\n          $(\\'#foot_keyword_str\\').keyup(function(e) {\\r\\n            if (e.keyCode == 13) \\r\\n              foot_sch_smit();\\r\\n          });        \\r\\n        });\\r\\n\\r\\n        function foot_sch_smit(){            \\r\\n          var foot_keyword_str = $(\"#foot_keyword_str\").val();      \\r\\n          var searchUrl = \"/search/search_list.html?foot_keyword_str=\"+foot_keyword_str;\\r\\n\\r\\n          if(!foot_keyword_str){\\r\\n            alert(\"검색어를 입력해주세요\");\\r\\n            $(\"#foot_keyword_str\").focus();\\r\\n          }else{\\r\\n            location.href = searchUrl;\\r\\n          }                                              \\r\\n        }          \\r\\n      </script>  \\r\\n      \\r\\n    </div>\\r\\n    <!-- //SNS -->\\r\\n    \\r\\n    <!-- 한빛 정보 -->\\r\\n    <div class=\"foot_about\">\\r\\n      <div class=\"foot_about_area\">\\r\\n        \\r\\n\\r\\n        <p><strong>한빛미디어㈜ &#149; 한빛아카데미㈜ &#149; 한빛비즈㈜</strong></p>\\r\\n        <p>(03785) 서울 서대문구 연희로2길 62</p>\\r\\n        <p>TEL : 02-325-0384 / FAX : 02-325-9697</p>\\r\\n        <p>EMAIL : support@hanbit.co.kr</p>\\r\\n        <p>대표이사 : 김태헌</p>\\r\\n        <p>사업자등록번호 : 220-81-05665 <a href=\"http://www.ftc.go.kr/bizCommPop.do?wrkr_no=2208105665\" target=\"_blank\">[확인]</a></p>\\r\\n        <p>통신판매업신고 : 2017-서울서대문-0671호</p>\\r\\n        <p>호스팅제공자 : (주)누리호스팅</p>\\r\\n        \\r\\n\\r\\n      </div>\\r\\n    </div>\\r\\n    <!-- //한빛 정보 -->\\r\\n  </div>\\r\\n  \\r\\n  <div class=\"copyright\">&copy;1993-2018 Hanbit Publishing Network, Inc. All rights reserved.</div>\\r\\n</footer>\\r\\n<!-- //푸터 -->\\r\\n<div class=\"foot_download_btn\"><a href=\"/support/supplement_list.html\">자료실</a></div>\\r\\n\\r\\n<!-- 공통 JS 호출 -->\\r\\n<script type=\"text/javascript\" src=\"/js/common.js\"></script>\\r\\n<!-- //공통 JS 호출 -->\\r\\n\\r\\n</body>\\r\\n</html>\\r\\n'"
      ]
     },
     "execution_count": 4,
     "metadata": {},
     "output_type": "execute_result"
    }
   ],
   "source": [
    "# 추출한 인코딩 방식으로 디코딩합니다.\n",
    "text = f.read().decode(encoding)\n",
    "# 웹 페이지의 내용을 표준 출력에 출력합니다.\n",
    "text"
   ]
  },
  {
   "cell_type": "markdown",
   "metadata": {},
   "source": [
    "### c2-10_urlopen_meta\n",
    "> meta 태그에서 인코딩 방식 추출 \n",
    "Content-Type 헤더의 값고 실제 사용되고 있는 인코딩 형식이 다를 수 있다. \n",
    "디코딩 처리때 UnicodeDecodeError가 발생 한다면 이러한 처리를 모방해서 구현하면 해결할 수 있다.\n",
    "\n",
    "> - \\< meta charset=\"utf-8\" >\n",
    "- \\< meta http-equiv=\"Content-Type\" content=\"text/html; charset=\"EUC-KR\" >\n",
    "\n",
    "\n",
    "cf. 연관함수 : HTTPMessage.info().get_content_charset()\n",
    "\n"
   ]
  },
  {
   "cell_type": "code",
   "execution_count": 5,
   "metadata": {},
   "outputs": [],
   "source": [
    "import re\n",
    "import sys\n",
    "from urllib.request import urlopen"
   ]
  },
  {
   "cell_type": "code",
   "execution_count": 6,
   "metadata": {},
   "outputs": [
    {
     "data": {
      "text/plain": [
       "(bytes,\n",
       " b'<!DOCTYPE html>\\r\\n<html lang=\"ko\">\\r\\n<head>\\r\\n<!--[if lte IE 8]>\\r\\n<script>\\r\\n  location.replace(\\'/support/explorer_upgrade.html\\');\\r\\n</script>\\r\\n<![endif]-->\\r\\n<!-- Google Tag Manager -->\\r\\n<script>(function(w,d,s,l,i){w[l]=w[l]||[];w[l].push({\\'gtm.start\\':\\r\\nnew Date().getTime(),event:\\'gtm.js\\'});var f=d.getElementsByTagName(s)[0],\\r\\nj=d.createElement(s),dl=l!=\\'dataLayer\\'?\\'&l=\\'+l:\\'\\';j.async=true;j.src=\\r\\n\\'https://www.googletagmanager.com/gtm.js?id=\\'+i+dl;f.parentNode.insertBefore(j,f);\\r\\n})(window,document,\\'script\\',\\'dataLayer\\',\\'GTM-W9D5PM3\\');</script>\\r\\n<!-- End Google Tag Manager -->\\r\\n<meta charset=\"utf-8\"/>\\r\\n<title>\\xed\\x95\\x9c\\xeb\\xb9\\x9b\\xec\\xb6\\x9c\\xed\\x8c\\x90\\xeb\\x84\\xa4\\xed\\x8a\\xb8\\xec\\x9b\\x8c\\xed\\x81\\xac</title>\\r\\n<link rel=\"shortcut icon\" href=\"http://www.hanbit.co.kr/images/common/hanbit.ico\"> \\r\\n<meta http-equiv=\"X-UA-Compatible\" content=\"IE=Edge\" />\\r\\n<meta property=\"og:type\" content=\"website\"/>\\r\\n<meta property=\"og:title\" content=\"\\xed\\x95\\x9c\\xeb\\xb9\\x9b\\xec\\xb6\\x9c\\xed\\x8c\\x90\\xeb\\x84\\xa4\\xed\\x8a\\xb8\\xec\\x9b\\x8c\\xed\\x81\\xac\"/>\\r\\n<meta property=\"og:description\" content=\"\\xec\\xb6\\x9c\\xed\\x8c\\x90\\xec\\x82\\xac, IT\\xec\\xa0\\x84\\xeb\\xac\\xb8\\xec\\x84\\x9c, \\xeb\\x8c\\x80\\xed\\x95\\x99\\xea\\xb5\\x90\\xec\\x9e\\xac, \\xea\\xb2\\xbd\\xec\\xa0\\x9c\\xea\\xb2\\xbd\\xec\\x98\\x81, \\xec\\x96\\xb4\\xeb\\xa6\\xb0\\xec\\x9d\\xb4/\\xec\\x9c\\xa0\\xec\\x95\\x84, MAKE, \\xec\\x8b\\xa4\\xec\\x9a\\xa9/\\xec\\x97\\xac')"
      ]
     },
     "execution_count": 6,
     "metadata": {},
     "output_type": "execute_result"
    }
   ],
   "source": [
    "f = urlopen('http://www.hanbit.co.kr/store/books/full_book_list.html')\n",
    "# bytes 자료형의 응답 본문을 일단 변수에 저장합니다.\n",
    "bytes_content = f.read()  \n",
    "\n",
    "type(bytes_content), bytes_content[:2**10]"
   ]
  },
  {
   "cell_type": "code",
   "execution_count": 7,
   "metadata": {},
   "outputs": [
    {
     "data": {
      "text/plain": [
       "(str,\n",
       " '<!DOCTYPE html>\\r\\n<html lang=\"ko\">\\r\\n<head>\\r\\n<!--[if lte IE 8]>\\r\\n<script>\\r\\n  location.replace(\\'/support/explorer_upgrade.html\\');\\r\\n</script>\\r\\n<![endif]-->\\r\\n<!-- Google Tag Manager -->\\r\\n<script>(function(w,d,s,l,i){w[l]=w[l]||[];w[l].push({\\'gtm.start\\':\\r\\nnew Date().getTime(),event:\\'gtm.js\\'});var f=d.getElementsByTagName(s)[0],\\r\\nj=d.createElement(s),dl=l!=\\'dataLayer\\'?\\'&l=\\'+l:\\'\\';j.async=true;j.src=\\r\\n\\'https://www.googletagmanager.com/gtm.js?id=\\'+i+dl;f.parentNode.insertBefore(j,f);\\r\\n})(window,document,\\'script\\',\\'dataLayer\\',\\'GTM-W9D5PM3\\');</script>\\r\\n<!-- End Google Tag Manager -->\\r\\n<meta charset=\"utf-8\"/>\\r\\n<title>������������������������</title>\\r\\n<link rel=\"shortcut icon\" href=\"http://www.hanbit.co.kr/images/common/hanbit.ico\"> \\r\\n<meta http-equiv=\"X-UA-Compatible\" content=\"IE=Edge\" />\\r\\n<meta property=\"og:type\" content=\"website\"/>\\r\\n<meta property=\"og:title\" content=\"������������������������\"/>\\r\\n<meta property=\"og:description\" content=\"���������, IT���������, ������������, ������������, ���������/������, MAKE, ������/���')"
      ]
     },
     "execution_count": 7,
     "metadata": {},
     "output_type": "execute_result"
    }
   ],
   "source": [
    "# charset은 HTML의 앞부분에 적혀 있는 경우가 많으므로\n",
    "# 응답 본문의 앞부분 1024바이트를 ASCII 문자로 디코딩해 둡니다.\n",
    "# ASCII 범위 이위의 문자는 U+FFFD(REPLACEMENT CHARACTER)로 변환되어 예외가 발생하지 않습니다.\n",
    "scanned_text = bytes_content[:2**10].decode('ascii', errors='replace')\n",
    "\n",
    "type(scanned_text), scanned_text"
   ]
  },
  {
   "cell_type": "code",
   "execution_count": 8,
   "metadata": {},
   "outputs": [
    {
     "data": {
      "text/plain": [
       "(str,\n",
       " '<!DOCTYPE html>\\r\\n<html lang=\"ko\">\\r\\n<head>\\r\\n<!--[if lte IE 8]>\\r\\n<script>\\r\\n  location.replace(\\'/support/explorer_upgrade.html\\');\\r\\n</script>\\r\\n<![endif]-->\\r\\n<!-- Google Tag Manager -->\\r\\n<script>(function(w,d,s,l,i){w[l]=w[l]||[];w[l].push({\\'gtm.start\\':\\r\\nnew Date().getTime(),event:\\'gtm.js\\'});var f=d.getElementsByTagName(s)[0],\\r\\nj=d.createElement(s),dl=l!=\\'dataLayer\\'?\\'&l=\\'+l:\\'\\';j.async=true;j.src=\\r\\n\\'https://www.googletagmanager.com/gtm.js?id=\\'+i+dl;f.parentNode.insertBefore(j,f);\\r\\n})(window,document,\\'script\\',\\'dataLayer\\',\\'GTM-W9D5PM3\\');</script>\\r\\n<!-- End Google Tag Manager -->\\r\\n<meta charset=\"utf-8\"/>\\r\\n<title>한빛출판네트워크</title>\\r\\n<link rel=\"shortcut icon\" href=\"http://www.hanbit.co.kr/images/common/hanbit.ico\"> \\r\\n<meta http-equiv=\"X-UA-Compatible\" content=\"IE=Edge\" />\\r\\n<meta property=\"og:type\" content=\"website\"/>\\r\\n<meta property=\"og:title\" content=\"한빛출판네트워크\"/>\\r\\n<meta property=\"og:description\" content=\"출판사, IT전문서, 대학교재, 경제경영, 어린이/유아, MAKE, 실용/여')"
      ]
     },
     "execution_count": 8,
     "metadata": {},
     "output_type": "execute_result"
    }
   ],
   "source": [
    "scanned_text = bytes_content[:2**10].decode('utf-8', errors='replace')\n",
    "\n",
    "type(scanned_text), scanned_text"
   ]
  },
  {
   "cell_type": "code",
   "execution_count": 9,
   "metadata": {},
   "outputs": [
    {
     "name": "stderr",
     "output_type": "stream",
     "text": [
      "encoding: utf-8\n"
     ]
    }
   ],
   "source": [
    "# 디코딩한 문자열에서 정규 표현식으로 charset 값을 추출합니다.\n",
    "match = re.search(r'charset=[\"\\']?([\\w-]+)', scanned_text)\n",
    "if match:\n",
    "    encoding = match.group(1)\n",
    "else:\n",
    "    # charset이 명시돼 있지 않으면 UTF-8을 사용합니다.\n",
    "    encoding = 'utf-8'\n",
    "\n",
    "# 추출한 인코딩을 표준 오류에 출력합니다.\n",
    "print('encoding:', encoding, file=sys.stderr)"
   ]
  },
  {
   "cell_type": "code",
   "execution_count": 10,
   "metadata": {},
   "outputs": [
    {
     "name": "stdout",
     "output_type": "stream",
     "text": [
      "<!DOCTYPE html>\r\n",
      "<html lang=\"ko\">\r\n",
      "<head>\r\n",
      "<!--[if lte IE 8]>\r\n",
      "<script>\r\n",
      "  location.replace('/support/explorer_upgrade.html');\r\n",
      "</script>\r\n",
      "<![endif]-->\r\n",
      "<!-- Google Tag Manager -->\r\n",
      "<script>(function(w,d,s,l,i){w[l]=w[l]||[];w[l].push({'gtm.start':\r\n",
      "new Date().getTime(),event:'gtm.js'});var f=d.getElementsByTagName(s)[0],\r\n",
      "j=d.createElement(s),dl=l!='dataLayer'?'&l='+l:'';j.async=true;j.src=\r\n",
      "'https://www.googletagmanager.com/gtm.js?id='+i+dl;f.parentNode.insertBefore(j,f);\r\n",
      "})(window,document,'script','dataLayer','GTM-W9D5PM3');</script>\r\n",
      "<!-- End Google Tag Manager -->\r\n",
      "<meta charset=\"utf-8\"/>\r\n",
      "<title>한빛출판네트워크</title>\r\n",
      "<link rel=\"shortcut icon\" href=\"http://www.hanbit.co.kr/images/common/hanbit.ico\"> \r\n",
      "<meta http-equiv=\"X-UA-Compatible\" content=\"IE=Edge\" />\r\n",
      "<meta property=\"og:type\" content=\"website\"/>\r\n",
      "<meta property=\"og:title\" content=\"한빛출판네트워크\"/>\r\n",
      "<meta property=\"og:description\" content=\"출판사, IT전문서, 대학교재, 경제경영, 어린이/유아, MAKE, 실용/여행, 전자책, 인터넷 강의\"/>\r\n",
      "<meta property=\"og:image\" content=\"http://www.hanbit.co.k\n"
     ]
    }
   ],
   "source": [
    "# 추출한 인코딩으로 다시 디코딩합니다.\n",
    "text = bytes_content.decode(encoding)\n",
    "\n",
    "# 응답 본문을 표준 출력에 출력합니다.\n",
    "print(text[:2**10])"
   ]
  },
  {
   "cell_type": "markdown",
   "metadata": {},
   "source": [
    "### 웹 페이지에서 데이터 추출\n",
    "> - Regular Expression\n",
    "- XML Parser"
   ]
  },
  {
   "cell_type": "markdown",
   "metadata": {},
   "source": [
    "### c2-11_scrape_re\n",
    "> 정규표현식으로 스크레이핑"
   ]
  },
  {
   "cell_type": "code",
   "execution_count": 11,
   "metadata": {},
   "outputs": [
    {
     "name": "stderr",
     "output_type": "stream",
     "text": [
      "--2018-11-13 13:12:02--  http://www.hanbit.co.kr/store/books/full_book_list.html\n",
      "Resolving www.hanbit.co.kr (www.hanbit.co.kr)... 218.38.58.195\n",
      "Connecting to www.hanbit.co.kr (www.hanbit.co.kr)|218.38.58.195|:80... connected.\n",
      "HTTP request sent, awaiting response... 200 OK\n",
      "Length: unspecified [text/html]\n",
      "Saving to: 'full_book_list.html'\n",
      "\n",
      "     0K .......... .......... .......... .......... .....      5.01M=0.009s\n",
      "\n",
      "2018-11-13 13:12:02 (5.01 MB/s) - 'full_book_list.html' saved [46441]\n",
      "\n"
     ]
    }
   ],
   "source": [
    "! wget http://www.hanbit.co.kr/store/books/full_book_list.html"
   ]
  },
  {
   "cell_type": "code",
   "execution_count": 12,
   "metadata": {},
   "outputs": [
    {
     "name": "stdout",
     "output_type": "stream",
     "text": [
      " C 드라이브의 볼륨에는 이름이 없습니다.\n",
      " 볼륨 일련 번호: 3EFF-82E2\n",
      "\n",
      " C:\\Users\\student\\Anaconda_src 디렉터리\n",
      "\n",
      "2018-11-13  오후 01:12            46,441 full_book_list.html\n",
      "               1개 파일              46,441 바이트\n",
      "               0개 디렉터리  404,704,563,200 바이트 남음\n"
     ]
    }
   ],
   "source": [
    "! dir *.html"
   ]
  },
  {
   "cell_type": "code",
   "execution_count": 13,
   "metadata": {},
   "outputs": [
    {
     "data": {
      "text/plain": [
       "'data 디렉토리가 이미 존재합니다!'"
      ]
     },
     "execution_count": 13,
     "metadata": {},
     "output_type": "execute_result"
    }
   ],
   "source": [
    "# ! mkdir data\n",
    "make_dir('data')"
   ]
  },
  {
   "cell_type": "code",
   "execution_count": 14,
   "metadata": {},
   "outputs": [
    {
     "name": "stdout",
     "output_type": "stream",
     "text": [
      " C 드라이브의 볼륨에는 이름이 없습니다.\n",
      " 볼륨 일련 번호: 3EFF-82E2\n",
      "\n",
      " C:\\Users\\student\\Anaconda_src\\data 디렉터리\n",
      "\n",
      "2018-11-12  오전 09:53    <DIR>          .\n",
      "2018-11-12  오전 09:53    <DIR>          ..\n",
      "2018-10-29  오후 04:32    <DIR>          .ipynb_checkpoints\n",
      "2018-11-07  오후 02:16             7,675 chicagomag_info.csv\n",
      "2018-11-07  오후 03:45            10,404 chicagomag_info_ver2.csv\n",
      "2018-10-29  오후 04:54               310 company.csv\n",
      "2018-11-01  오후 04:26                62 girlgroup.json\n",
      "2018-10-29  오후 04:33                27 hello.txt\n",
      "2018-11-01  오후 04:29               162 member.json\n",
      "2018-11-08  오후 07:24             4,201 movie_rank.csv\n",
      "2018-11-09  오전 11:17               852 movie_top10.csv\n",
      "2018-11-09  오전 11:20               852 movie_top10_v2.csv\n",
      "2018-11-09  오전 09:21             2,007 musicrank_top100.csv\n",
      "2018-11-09  오전 10:34             1,875 music_rank50.csv\n",
      "2018-11-06  오후 03:20             1,140 opengov_2018_seoul_cctv_status_by_year.csv\n",
      "2018-11-01  오후 04:31               193 person.json\n",
      "2018-11-05  오후 04:59               556 police_cctv.csv\n",
      "2018-11-06  오후 03:20            12,817 public_2016_crime_st.csv\n",
      "2018-11-06  오후 03:20               523 public_2017_seoul_cctv_st.csv\n",
      "2018-11-06  오후 03:20           178,284 public_old_buildings_20171016.csv\n",
      "2018-11-06  오후 03:20            15,360 Report_seoul_population_2018_1Q.xls\n",
      "2018-11-06  오후 03:20            15,360 Report_seoul_population_2018_3Q.xls\n",
      "2018-11-06  오후 04:25            15,360 seoul_electronic.xls\n",
      "2018-11-06  오후 03:17         2,248,644 seoul_free_wifi_zone_2017.csv\n",
      "2018-11-06  오후 03:17         6,894,569 seoul_free_wifi_zone_2017.json\n",
      "2018-11-06  오후 03:20             3,538 seoul_population_cctv.csv\n",
      "2018-11-06  오후 03:38             3,391 seoul_population_cctv2.csv\n",
      "2018-11-08  오전 11:32             4,064 seoul_population_mac-idx.csv\n",
      "2018-11-09  오후 05:17             4,084 seoul_population_sbucks-idx.csv\n",
      "2018-11-08  오후 04:44             2,225 seoul_population_starbucks.csv\n",
      "2018-11-06  오후 03:20           247,333 seoul_wifi_zone.csv\n",
      "2018-11-06  오후 03:20            13,840 skorea_municipalities_geo_simple.json\n",
      "2018-10-29  오후 04:45               148 students.csv\n",
      "2018-10-29  오후 04:36                31 subject.txt\n",
      "2018-11-03  오후 02:46            28,629 test.csv\n",
      "2018-11-06  오후 03:20            61,194 titanic_train.csv\n",
      "2018-11-03  오후 02:46            61,194 train.csv\n",
      "              34개 파일           9,840,904 바이트\n",
      "               3개 디렉터리  404,704,563,200 바이트 남음\n"
     ]
    }
   ],
   "source": [
    "! dir data"
   ]
  },
  {
   "cell_type": "code",
   "execution_count": 15,
   "metadata": {},
   "outputs": [
    {
     "name": "stdout",
     "output_type": "stream",
     "text": [
      "        1개 파일을 이동했습니다.\n"
     ]
    }
   ],
   "source": [
    "! ren full_book_list.html dp.html\n",
    "! move dp.html data"
   ]
  },
  {
   "cell_type": "code",
   "execution_count": 16,
   "metadata": {},
   "outputs": [
    {
     "name": "stdout",
     "output_type": "stream",
     "text": [
      " C 드라이브의 볼륨에는 이름이 없습니다.\n",
      " 볼륨 일련 번호: 3EFF-82E2\n",
      "\n",
      " C:\\Users\\student\\Anaconda_src\\data 디렉터리\n",
      "\n",
      "2018-11-13  오후 01:12            46,441 dp.html\n",
      "               1개 파일              46,441 바이트\n",
      "               0개 디렉터리  404,704,563,200 바이트 남음\n"
     ]
    }
   ],
   "source": [
    "! dir data\\*.html"
   ]
  },
  {
   "cell_type": "code",
   "execution_count": 17,
   "metadata": {},
   "outputs": [
    {
     "name": "stdout",
     "output_type": "stream",
     "text": [
      "check\n",
      "url: http://www.hanbit.co.kr/store/books/look.php?p_code=B6994299591\n",
      "title: 재미있고 빠른 한글 2권 : 기본 자음과 쌍자음\n",
      "---\n",
      "url: http://www.hanbit.co.kr/store/books/look.php?p_code=B8463831992\n",
      "title: 재미있고 빠른 한글 4권 : 복잡한 모음\n",
      "---\n",
      "url: http://www.hanbit.co.kr/store/books/look.php?p_code=B3283906872\n",
      "title: IT CookBook, 시스템 해킹과 보안(3판)\n",
      "---\n",
      "url: http://www.hanbit.co.kr/store/books/look.php?p_code=B8608817158\n",
      "title: IT 트렌드 스페셜 리포트 2019\n",
      "---\n",
      "url: http://www.hanbit.co.kr/store/books/look.php?p_code=B4851649517\n",
      "title: Accelerated C++\n",
      "---\n",
      "url: http://www.hanbit.co.kr/store/books/look.php?p_code=B1266184916\n",
      "title: 한 권으로 끝내는 딥러닝 텐서플로\n",
      "---\n",
      "url: http://www.hanbit.co.kr/store/books/look.php?p_code=B8718279503\n",
      "title: 파이썬으로 배우는 머신러닝의 교과서\n",
      "---\n",
      "url: http://www.hanbit.co.kr/store/books/look.php?p_code=B5331040931\n",
      "title: 좋은 사진을 만드는 ZAKO의 여행 사진 잘 찍는 법\n",
      "---\n",
      "url: http://www.hanbit.co.kr/store/books/look.php?p_code=B3696148245\n",
      "title: 2019 전기기사 필기 7개년 기출문제\n",
      "---\n",
      "url: http://www.hanbit.co.kr/store/books/look.php?p_code=B6727651495\n",
      "title: 2019 전기산업기사 필기 7개년 기출문제\n",
      "---\n",
      "url: http://www.hanbit.co.kr/store/books/look.php?p_code=B9796997266\n",
      "title: (무료동영상) 2019 전기산업기사 필기\n",
      "---\n",
      "url: http://www.hanbit.co.kr/store/books/look.php?p_code=B1401258166\n",
      "title: (무료동영상) 2019 전기기사 필기\n",
      "---\n",
      "url: http://www.hanbit.co.kr/store/books/look.php?p_code=B4559886540\n",
      "title: 리얼 블라디보스톡  PLUS 우수리스크 [2019~2020년 최신판]\n",
      "---\n",
      "url: http://www.hanbit.co.kr/store/books/look.php?p_code=B1052483362\n",
      "title: 프라이드\n",
      "---\n",
      "url: http://www.hanbit.co.kr/store/books/look.php?p_code=B3202466252\n",
      "title: 퇴근길 인문학 수업 : 전진\n",
      "---\n",
      "url: http://www.hanbit.co.kr/store/books/look.php?p_code=B7076585695\n",
      "title: 만화로 배우는 곤충의 진화\n",
      "---\n",
      "url: http://www.hanbit.co.kr/store/books/look.php?p_code=B7473583156\n",
      "title: 맥 쓰는 사람들의 macOS 모하비\n",
      "---\n",
      "url: http://www.hanbit.co.kr/store/books/look.php?p_code=B7883656935\n",
      "title: IT CookBook, 쉽게 배우는 JSP 웹 프로그래밍\n",
      "---\n",
      "url: http://www.hanbit.co.kr/store/books/look.php?p_code=B6952054209\n",
      "title: 처음 시작하는 R 데이터 분석\n",
      "---\n",
      "url: http://www.hanbit.co.kr/store/books/look.php?p_code=B4743554662\n",
      "title: NCS를 기반으로 한 직무 기초수학\n",
      "---\n",
      "url: http://www.hanbit.co.kr/store/books/look.php?p_code=B2845507407\n",
      "title: 데이터 과학을 위한 통계\n",
      "---\n",
      "url: http://www.hanbit.co.kr/store/books/look.php?p_code=B6910482773\n",
      "title: 오준석의 안드로이드 생존코딩(코틀린 편)\n",
      "---\n",
      "url: http://www.hanbit.co.kr/store/books/look.php?p_code=B4458049183\n",
      "title: 처음 배우는 스프링 부트 2\n",
      "---\n",
      "url: http://www.hanbit.co.kr/store/books/look.php?p_code=B3730970900\n",
      "title: 퇴근길 인문학 수업 : 전환\n",
      "---\n",
      "url: http://www.hanbit.co.kr/store/books/look.php?p_code=B2985687596\n",
      "title: 수치해석학 바이블\n",
      "---\n",
      "url: http://www.hanbit.co.kr/store/books/look.php?p_code=B3043718990\n",
      "title: 돈의 마법\n",
      "---\n",
      "url: http://www.hanbit.co.kr/store/books/look.php?p_code=B5099518814\n",
      "title: 퀴즈 그림 찾기\n",
      "---\n",
      "url: http://www.hanbit.co.kr/store/books/look.php?p_code=B3155316207\n",
      "title: 하나 다른 그림 찾기\n",
      "---\n",
      "url: http://www.hanbit.co.kr/store/books/look.php?p_code=B8338535067\n",
      "title: 다른 그림 찾기\n",
      "---\n",
      "url: http://www.hanbit.co.kr/store/books/look.php?p_code=B8533961758\n",
      "title: 퇴근길 인문학 수업 : 멈춤\n",
      "---\n",
      "url: http://www.hanbit.co.kr/store/books/look.php?p_code=B2578596304\n",
      "title: RxJS 프로그래밍: 75가지 핵심 문법과 예제로 익히는 RxJS 기초\n",
      "---\n",
      "url: http://www.hanbit.co.kr/store/books/look.php?p_code=B1984493876\n",
      "title: 리얼 후쿠오카 PLUS 벳푸 · 유후인 [2018~2019년 최신판]\n",
      "---\n",
      "url: http://www.hanbit.co.kr/store/books/look.php?p_code=B3859466837\n",
      "title: 스프링 5 레시피(4판)\n",
      "---\n",
      "url: http://www.hanbit.co.kr/store/books/look.php?p_code=B4774300045\n",
      "title: 자바를 활용한 딥러닝\n",
      "---\n",
      "url: http://www.hanbit.co.kr/store/books/look.php?p_code=B6320134176\n",
      "title: 회사에서 바로 통하는 엑셀 실무 강의\n",
      "---\n",
      "url: http://www.hanbit.co.kr/store/books/look.php?p_code=B4534892648\n",
      "title: 아마추어\n",
      "---\n",
      "url: http://www.hanbit.co.kr/store/books/look.php?p_code=B7534117022\n",
      "title: 우주에도 우리처럼\n",
      "---\n",
      "url: http://www.hanbit.co.kr/store/books/look.php?p_code=B6370742670\n",
      "title: “사랑해”를 쓰는 40가지 방법\n",
      "---\n",
      "url: http://www.hanbit.co.kr/store/books/look.php?p_code=B1211451725\n",
      "title: 모던 스타트업\n",
      "---\n",
      "url: http://www.hanbit.co.kr/store/books/look.php?p_code=B4329597070\n",
      "title: 파이썬 웹 프로그래밍(개정판)\n",
      "---\n",
      "url: http://www.hanbit.co.kr/store/books/look.php?p_code=B2680149100\n",
      "title: 이젠 내 시간표대로 살겠습니다\n",
      "---\n",
      "url: http://www.hanbit.co.kr/store/books/look.php?p_code=B3409534326\n",
      "title: 피, 땀, 픽셀 : 트리플 A 게임은 어떻게 만들어지는가\n",
      "---\n",
      "url: http://www.hanbit.co.kr/store/books/look.php?p_code=B6142075412\n",
      "title: 엔트리, 피지컬 컴퓨팅을 만나다\n",
      "---\n",
      "url: http://www.hanbit.co.kr/store/books/look.php?p_code=B8627769894\n",
      "title: 회사에서 바로 통하는 오토캐드 2019\n",
      "---\n",
      "url: http://www.hanbit.co.kr/store/books/look.php?p_code=B1184560899\n",
      "title: 맛있는 디자인 프리미어 프로&애프터 이펙트 CC 2018\n",
      "---\n",
      "url: http://www.hanbit.co.kr/store/books/look.php?p_code=B1131615065\n",
      "title: 맛있는 디자인 포토샵&인디자인 CC 2018\n",
      "---\n",
      "url: http://www.hanbit.co.kr/store/books/look.php?p_code=B5821607640\n",
      "title: 만들면서 배우는 워드프레스(개정판)\n",
      "---\n",
      "url: http://www.hanbit.co.kr/store/books/look.php?p_code=B3633028491\n",
      "title: 처음 배우는 암호화\n",
      "---\n",
      "url: http://www.hanbit.co.kr/store/books/look.php?p_code=B9631702376\n",
      "title: MATLAB으로 배우는 공학 수치해석(개정판)\n",
      "---\n"
     ]
    }
   ],
   "source": [
    "import re\n",
    "from html import unescape\n",
    "\n",
    "# 이전 절에서 다운로드한 파일을 열고 html이라는 변수에 저장합니다.\n",
    "with open('./data/dp.html', encoding='utf-8') as f:\n",
    "    html = f.read()\n",
    "\n",
    "# re.findall()을 사용해 도서 하나에 해당하는 HTML을 추출합니다.\n",
    "print('check')\n",
    "for partial_html in re.findall(r'<td class=\"left\"><a.*?</td>', html, re.DOTALL):\n",
    "    # 도서의 URL을 추출합니다.\n",
    "    url = re.search(r'<a href=\"(.*?)\">', partial_html).group(1)\n",
    "    url = 'http://www.hanbit.co.kr' + url\n",
    "    # 태그를 제거해서 도서의 제목을 추출합니다.\n",
    "    title = re.sub(r'<.*?>', '', partial_html)\n",
    "    title = unescape(title)\n",
    "    print('url:', url)\n",
    "    print('title:', title)\n",
    "    print('---')"
   ]
  },
  {
   "cell_type": "markdown",
   "metadata": {},
   "source": [
    "### c2-12 : rss.xml\n",
    "> RSS 파싱하기\n",
    "\n",
    "> - 서울/경기도 지역의 날씨 받기\n",
    "- http://www.weather.go.kr/weather/forecast/mid-term-rss3.jsp?stnId=109"
   ]
  },
  {
   "cell_type": "code",
   "execution_count": 18,
   "metadata": {},
   "outputs": [
    {
     "name": "stderr",
     "output_type": "stream",
     "text": [
      "--2018-11-13 13:12:03--  http://www.weather.go.kr/weather/forecast/mid-term-rss3.jsp?stnId=109\n",
      "Resolving www.weather.go.kr (www.weather.go.kr)... 182.161.120.118\n",
      "Connecting to www.weather.go.kr (www.weather.go.kr)|182.161.120.118|:80... connected.\n",
      "HTTP request sent, awaiting response... 200 OK\n",
      "Length: 96129 (94K) [text/xml]\n",
      "Saving to: 'mid-term-rss3.jsp@stnId=109'\n",
      "\n",
      "     0K .......... .......... .......... .......... .......... 53% 2.96M 0s\n",
      "    50K .......... .......... .......... .......... ...       100% 26.0M=0.02s\n",
      "\n",
      "2018-11-13 13:12:03 (5.05 MB/s) - 'mid-term-rss3.jsp@stnId=109' saved [96129/96129]\n",
      "\n"
     ]
    }
   ],
   "source": [
    "! wget http://www.weather.go.kr/weather/forecast/mid-term-rss3.jsp?stnId=109"
   ]
  },
  {
   "cell_type": "code",
   "execution_count": 19,
   "metadata": {},
   "outputs": [
    {
     "name": "stdout",
     "output_type": "stream",
     "text": [
      " C 드라이브의 볼륨에는 이름이 없습니다.\n",
      " 볼륨 일련 번호: 3EFF-82E2\n",
      "\n",
      " C:\\Users\\student\\Anaconda_src 디렉터리\n",
      "\n",
      "2018-11-13  오후 01:12    <DIR>          .\n",
      "2018-11-13  오후 01:12    <DIR>          ..\n",
      "2018-11-13  오전 11:34    <DIR>          .ipynb_checkpoints\n",
      "2018-11-13  오후 01:12    <DIR>          data\n",
      "2018-11-13  오전 09:38    <DIR>          download\n",
      "2018-11-08  오후 01:37    <DIR>          driver\n",
      "2018-11-07  오전 09:48    <DIR>          htmltest\n",
      "2018-10-31  오후 03:10             8,947 IITP_C반_유선우-Copy1.ipynb\n",
      "2018-10-31  오후 02:16             5,830 IITP_C반_유선우-Copy3.ipynb\n",
      "2018-11-03  오후 04:06            11,860 IITP_C반_유선우.ipynb\n",
      "2018-11-12  오전 11:32    <DIR>          images\n",
      "2018-11-12  오전 10:41    <DIR>          img\n",
      "2018-10-29  오후 01:13             6,084 Jupyter_Test.ipynb\n",
      "2018-11-13  오후 01:12            96,129 mid-term-rss3.jsp@stnId=109\n",
      "2018-10-30  오후 03:39    <DIR>          modules\n",
      "2018-10-30  오후 03:17                92 my_first_module.py\n",
      "2018-11-03  오후 06:01            33,308 naver_ranking_&_titanic-Copy2.ipynb\n",
      "2018-11-13  오후 01:11             3,555 packages.txt\n",
      "2018-10-29  오후 01:14            17,183 PB_DA_101_Review_DataType.ipynb\n",
      "2018-10-29  오후 01:33            12,737 PB_DA_102_Review_DataStructure.ipynb\n",
      "2018-10-29  오후 01:34             5,681 PB_DA_103_Review_Function1_Basic.ipynb\n",
      "2018-10-29  오후 01:57            12,586 PB_DA_103_Review_Function2_Extension.ipynb\n",
      "2018-10-30  오후 05:31            26,924 PB_DA_104_Lambda_Internal_Function.ipynb\n",
      "2018-10-29  오후 08:53            24,813 PB_DA_105_Review_Class2_OOP.ipynb\n",
      "2018-10-30  오후 01:15            13,307 PB_DA_107_FileIO_Basic.ipynb\n",
      "2018-10-31  오전 10:18           125,811 PB_DA_107_FileO_OS_CMD.ipynb\n",
      "2018-10-30  오후 05:50            13,693 PB_DA_108_Exceptions.ipynb\n",
      "2018-10-31  오후 02:56            38,594 PB_DA_109_Module_ver1.ipynb\n",
      "2018-10-31  오후 05:29            17,198 PB_DA_111_MFR_ver1.ipynb\n",
      "2018-11-01  오후 04:56            14,761 PB_DA_422_JSON.ipynb\n",
      "2018-11-03  오전 09:20            23,163 PB_DA_423_RegEx.ipynb\n",
      "2018-11-03  오후 05:44         1,005,590 PC_DA_210_Matplotlib.ipynb\n",
      "2018-11-01  오후 04:58            46,609 PC_DA_221_NumPy.ipynb\n",
      "2018-11-02  오후 03:10            61,929 PC_DA_230_Pandas.ipynb\n",
      "2018-11-02  오후 03:52           235,195 PC_DA_232_Pandas2.ipynb\n",
      "2018-11-05  오후 02:31           305,223 PD_DA_310_Kaggle_Stat_Visualize_Mission.ipynb\n",
      "2018-11-05  오후 03:45           299,185 PD_DA_321_DataGoKr_노화빌딩.ipynb\n",
      "2018-11-06  오전 10:00         1,614,941 PD_DA_323_DataGoKr_CCTV현황_in2017_Mission-강사님ver.ipynb\n",
      "2018-11-05  오후 06:16           648,722 PD_DA_323_DataGoKr_CCTV현황_in2017_Mission.ipynb\n",
      "2018-11-06  오후 03:48           351,905 PD_DA_331_OpenGov_Seoul_CCTV_in2018.ipynb\n",
      "2018-11-05  오후 04:34           314,088 PD_DA_332_DataGoKr_범죄발생.ipynb\n",
      "2018-11-06  오후 03:36           132,570 PD_DA_332_Folium_for_Map.ipynb\n",
      "2018-11-06  오후 04:02           889,341 PD_DA_333_Seoul_Population_18_3Q.ipynb\n",
      "2018-11-07  오후 01:38            28,020 PE_DA_410_Web_Scraping_미완.ipynb\n",
      "2018-11-07  오후 02:46            65,949 PE_DA_411_Web_Crawrling1.ipynb\n",
      "2018-11-07  오후 03:46            75,328 PE_DA_412_Web_Crawrling2.ipynb\n",
      "2018-11-09  오전 09:25            72,744 PE_DA_413_Web_Scraping_Quiz(미완).ipynb\n",
      "2018-11-13  오전 11:40            77,543 PE_DA_413_Web_Scraping_Quiz_Answer.ipynb\n",
      "2018-11-08  오후 12:41           498,498 PE_DA_420_Seoul_Mcdonals_idx.ipynb\n",
      "2018-11-08  오후 05:07         1,792,689 PE_DA_521_Selenium_Starbucks_idx.ipynb\n",
      "2018-11-09  오후 05:17         1,278,178 PE_DA_521_Selenium_Starbucks_idx_Answer.ipynb\n",
      "2018-11-09  오후 07:31           104,703 PE_DA_810_Datamining.ipynb\n",
      "2018-11-10  오후 01:35            80,770 PF_DA_713_NLP_kobill.ipynb\n",
      "2018-11-10  오전 11:05            21,772 PF_DA_730_KoNLPy_WordCloud_형태소분석.ipynb\n",
      "2018-11-10  오후 06:02           171,713 PF_DA_740_KoNLPy_WordCloud_동물보호법.ipynb\n",
      "2018-11-10  오후 06:02           213,987 PF_DA_750_KoNLPy_WordCloud_대통령연설문.ipynb\n",
      "2018-11-12  오전 10:48         1,059,182 PF_DA_760_NLP_WordCloud_Eng_Alice.ipynb\n",
      "2018-11-12  오전 10:47           720,707 PF_DA_760_NLP_WordCloud_Eng_Alice2.ipynb\n",
      "2018-11-12  오전 11:28         1,960,986 PF_DA_770_WordCloud_Kor_이미지마스킹.ipynb\n",
      "2018-11-09  오후 07:28             8,658 PF_DA_831_KoNLPy.ipynb\n",
      "2018-10-30  오후 08:40               902 Study_for_10_31.ipynb\n",
      "2018-11-13  오전 11:39            22,242 Team5_기사_크롤링하기.ipynb\n",
      "2018-11-05  오후 07:55            26,328 Untitled.ipynb\n",
      "2018-11-08  오후 02:29           783,960 Untitled1.ipynb\n",
      "2018-11-08  오후 02:33               555 Untitled2.ipynb\n",
      "2018-11-13  오후 01:11           196,882 WCS01_Wget_크롤링.ipynb\n",
      "2018-11-13  오후 01:12            89,542 WCS02_크롤링과_스크레이핑.ipynb\n",
      "2018-11-12  오전 09:53    <DIR>          wc_docu\n",
      "2018-11-12  오전 11:26    <DIR>          wc_result\n",
      "2018-11-10  오후 04:08    <DIR>          wordclouds\n",
      "2018-10-30  오후 03:17    <DIR>          __pycache__\n",
      "2018-11-06  오후 05:45           566,502 데이터분석해보기_Mission_11_06.ipynb\n",
      "2018-11-12  오전 10:47         1,185,412 워드클라우드 이미지마스킹 연습본.ipynb\n",
      "              59개 파일          17,521,306 바이트\n",
      "              14개 디렉터리  404,704,382,976 바이트 남음\n"
     ]
    }
   ],
   "source": [
    "! dir"
   ]
  },
  {
   "cell_type": "code",
   "execution_count": 20,
   "metadata": {},
   "outputs": [
    {
     "name": "stdout",
     "output_type": "stream",
     "text": [
      "GNU Wget 1.19.4, a non-interactive network retriever.\n",
      "Usage: wget [OPTION]... [URL]...\n",
      "\n",
      "Mandatory arguments to long options are mandatory for short options too.\n",
      "\n",
      "Startup:\n",
      "  -V,  --version                   display the version of Wget and exit\n",
      "  -h,  --help                      print this help\n",
      "  -b,  --background                go to background after startup\n",
      "  -e,  --execute=COMMAND           execute a `.wgetrc'-style command\n",
      "\n",
      "Logging and input file:\n",
      "  -o,  --output-file=FILE          log messages to FILE\n",
      "  -a,  --append-output=FILE        append messages to FILE\n",
      "  -d,  --debug                     print lots of debugging information\n",
      "  -q,  --quiet                     quiet (no output)\n",
      "  -v,  --verbose                   be verbose (this is the default)\n",
      "  -nv, --no-verbose                turn off verboseness, without being quiet\n",
      "       --report-speed=TYPE         output bandwidth as TYPE.  TYPE can be bits\n",
      "  -i,  --input-file=FILE           download URLs found in local or external FILE\n",
      "       --input-metalink=FILE       download files covered in local Metalink FILE\n",
      "  -F,  --force-html                treat input file as HTML\n",
      "  -B,  --base=URL                  resolves HTML input-file links (-i -F)\n",
      "                                     relative to URL\n",
      "       --config=FILE               specify config file to use\n",
      "       --no-config                 do not read any config file\n",
      "       --rejected-log=FILE         log reasons for URL rejection to FILE\n",
      "\n",
      "Download:\n",
      "  -t,  --tries=NUMBER              set number of retries to NUMBER (0 unlimits)\n",
      "       --retry-connrefused         retry even if connection is refused\n",
      "  -O,  --output-document=FILE      write documents to FILE\n",
      "  -nc, --no-clobber                skip downloads that would download to\n",
      "                                     existing files (overwriting them)\n",
      "       --no-netrc                  don't try to obtain credentials from .netrc\n",
      "  -c,  --continue                  resume getting a partially-downloaded file\n",
      "       --start-pos=OFFSET          start downloading from zero-based position OFFSET\n",
      "       --progress=TYPE             select progress gauge type\n",
      "       --show-progress             display the progress bar in any verbosity mode\n",
      "  -N,  --timestamping              don't re-retrieve files unless newer than\n",
      "                                     local\n",
      "       --no-if-modified-since      don't use conditional if-modified-since get\n",
      "                                     requests in timestamping mode\n",
      "       --no-use-server-timestamps  don't set the local file's timestamp by\n",
      "                                     the one on the server\n",
      "  -S,  --server-response           print server response\n",
      "       --spider                    don't download anything\n",
      "  -T,  --timeout=SECONDS           set all timeout values to SECONDS\n",
      "       --dns-timeout=SECS          set the DNS lookup timeout to SECS\n",
      "       --connect-timeout=SECS      set the connect timeout to SECS\n",
      "       --read-timeout=SECS         set the read timeout to SECS\n",
      "  -w,  --wait=SECONDS              wait SECONDS between retrievals\n",
      "       --waitretry=SECONDS         wait 1..SECONDS between retries of a retrieval\n",
      "       --random-wait               wait from 0.5*WAIT...1.5*WAIT secs between retrievals\n",
      "       --no-proxy                  explicitly turn off proxy\n",
      "  -Q,  --quota=NUMBER              set retrieval quota to NUMBER\n",
      "       --bind-address=ADDRESS      bind to ADDRESS (hostname or IP) on local host\n",
      "       --limit-rate=RATE           limit download rate to RATE\n",
      "       --no-dns-cache              disable caching DNS lookups\n",
      "       --restrict-file-names=OS    restrict chars in file names to ones OS allows\n",
      "       --ignore-case               ignore case when matching files/directories\n",
      "  -4,  --inet4-only                connect only to IPv4 addresses\n",
      "  -6,  --inet6-only                connect only to IPv6 addresses\n",
      "       --prefer-family=FAMILY      connect first to addresses of specified family,\n",
      "                                     one of IPv6, IPv4, or none\n",
      "       --user=USER                 set both ftp and http user to USER\n",
      "       --password=PASS             set both ftp and http password to PASS\n",
      "       --ask-password              prompt for passwords\n",
      "       --use-askpass=COMMAND       specify credential handler for requesting \n",
      "                                     username and password.  If no COMMAND is \n",
      "                                     specified the WGET_ASKPASS or the SSH_ASKPASS \n",
      "                                     environment variable is used.\n",
      "       --no-iri                    turn off IRI support\n",
      "       --local-encoding=ENC        use ENC as the local encoding for IRIs\n",
      "       --remote-encoding=ENC       use ENC as the default remote encoding\n",
      "       --unlink                    remove file before clobber\n",
      "       --keep-badhash              keep files with checksum mismatch (append .badhash)\n",
      "       --metalink-index=NUMBER     Metalink application/metalink4+xml metaurl ordinal NUMBER\n",
      "       --metalink-over-http        use Metalink metadata from HTTP response headers\n",
      "       --preferred-location        preferred location for Metalink resources\n",
      "\n",
      "Directories:\n",
      "  -nd, --no-directories            don't create directories\n",
      "  -x,  --force-directories         force creation of directories\n",
      "  -nH, --no-host-directories       don't create host directories\n",
      "       --protocol-directories      use protocol name in directories\n",
      "  -P,  --directory-prefix=PREFIX   save files to PREFIX/..\n",
      "       --cut-dirs=NUMBER           ignore NUMBER remote directory components\n",
      "\n",
      "HTTP options:\n",
      "       --http-user=USER            set http user to USER\n",
      "       --http-password=PASS        set http password to PASS\n",
      "       --no-cache                  disallow server-cached data\n",
      "       --default-page=NAME         change the default page name (normally\n",
      "                                     this is 'index.html'.)\n",
      "  -E,  --adjust-extension          save HTML/CSS documents with proper extensions\n",
      "       --ignore-length             ignore 'Content-Length' header field\n",
      "       --header=STRING             insert STRING among the headers\n",
      "       --compression=TYPE          choose compression, one of auto, gzip and none. (default: none)\n",
      "       --max-redirect              maximum redirections allowed per page\n",
      "       --proxy-user=USER           set USER as proxy username\n",
      "       --proxy-password=PASS       set PASS as proxy password\n",
      "       --referer=URL               include 'Referer: URL' header in HTTP request\n",
      "       --save-headers              save the HTTP headers to file\n",
      "  -U,  --user-agent=AGENT          identify as AGENT instead of Wget/VERSION\n",
      "       --no-http-keep-alive        disable HTTP keep-alive (persistent connections)\n",
      "       --no-cookies                don't use cookies\n",
      "       --load-cookies=FILE         load cookies from FILE before session\n",
      "       --save-cookies=FILE         save cookies to FILE after session\n",
      "       --keep-session-cookies      load and save session (non-permanent) cookies\n",
      "       --post-data=STRING          use the POST method; send STRING as the data\n",
      "       --post-file=FILE            use the POST method; send contents of FILE\n",
      "       --method=HTTPMethod         use method \"HTTPMethod\" in the request\n",
      "       --body-data=STRING          send STRING as data. --method MUST be set\n",
      "       --body-file=FILE            send contents of FILE. --method MUST be set\n",
      "       --content-disposition       honor the Content-Disposition header when\n",
      "                                     choosing local file names (EXPERIMENTAL)\n",
      "       --content-on-error          output the received content on server errors\n",
      "       --auth-no-challenge         send Basic HTTP authentication information\n",
      "                                     without first waiting for the server's\n",
      "                                     challenge\n",
      "\n",
      "HTTPS (SSL/TLS) options:\n",
      "       --secure-protocol=PR        choose secure protocol, one of auto, SSLv2,\n",
      "                                     SSLv3, TLSv1, TLSv1_1, TLSv1_2 and PFS\n",
      "       --https-only                only follow secure HTTPS links\n",
      "       --no-check-certificate      don't validate the server's certificate\n",
      "       --certificate=FILE          client certificate file\n",
      "       --certificate-type=TYPE     client certificate type, PEM or DER\n",
      "       --private-key=FILE          private key file\n",
      "       --private-key-type=TYPE     private key type, PEM or DER\n",
      "       --ca-certificate=FILE       file with the bundle of CAs\n",
      "       --ca-directory=DIR          directory where hash list of CAs is stored\n",
      "       --crl-file=FILE             file with bundle of CRLs\n",
      "       --pinnedpubkey=FILE/HASHES  Public key (PEM/DER) file, or any number\n",
      "                                   of base64 encoded sha256 hashes preceded by\n",
      "                                   'sha256//' and separated by ';', to verify\n",
      "                                   peer against\n",
      "       --random-file=FILE          file with random data for seeding the SSL PRNG\n",
      "\n",
      "HSTS options:\n",
      "       --no-hsts                   disable HSTS\n",
      "       --hsts-file                 path of HSTS database (will override default)\n",
      "\n",
      "FTP options:\n",
      "       --ftp-user=USER             set ftp user to USER\n",
      "       --ftp-password=PASS         set ftp password to PASS\n",
      "       --no-remove-listing         don't remove '.listing' files\n",
      "       --no-glob                   turn off FTP file name globbing\n",
      "       --no-passive-ftp            disable the \"passive\" transfer mode\n",
      "       --preserve-permissions      preserve remote file permissions\n",
      "       --retr-symlinks             when recursing, get linked-to files (not dir)\n",
      "\n",
      "FTPS options:\n",
      "       --ftps-implicit                 use implicit FTPS (default port is 990)\n",
      "       --ftps-resume-ssl               resume the SSL/TLS session started in the control connection when\n",
      "                                         opening a data connection\n",
      "       --ftps-clear-data-connection    cipher the control channel only; all the data will be in plaintext\n",
      "       --ftps-fallback-to-ftp          fall back to FTP if FTPS is not supported in the target server\n",
      "WARC options:\n",
      "       --warc-file=FILENAME        save request/response data to a .warc.gz file\n",
      "       --warc-header=STRING        insert STRING into the warcinfo record\n",
      "       --warc-max-size=NUMBER      set maximum size of WARC files to NUMBER\n",
      "       --warc-cdx                  write CDX index files\n",
      "       --warc-dedup=FILENAME       do not store records listed in this CDX file\n",
      "       --no-warc-compression       do not compress WARC files with GZIP\n",
      "       --no-warc-digests           do not calculate SHA1 digests\n",
      "       --no-warc-keep-log          do not store the log file in a WARC record\n",
      "       --warc-tempdir=DIRECTORY    location for temporary files created by the\n",
      "                                     WARC writer\n",
      "\n",
      "Recursive download:\n",
      "  -r,  --recursive                 specify recursive download\n",
      "  -l,  --level=NUMBER              maximum recursion depth (inf or 0 for infinite)\n",
      "       --delete-after              delete files locally after downloading them\n",
      "  -k,  --convert-links             make links in downloaded HTML or CSS point to\n",
      "                                     local files\n",
      "       --convert-file-only         convert the file part of the URLs only (usually known as the basename)\n",
      "       --backups=N                 before writing file X, rotate up to N backup files\n",
      "  -K,  --backup-converted          before converting file X, back up as X.orig\n",
      "  -m,  --mirror                    shortcut for -N -r -l inf --no-remove-listing\n",
      "  -p,  --page-requisites           get all images, etc. needed to display HTML page\n",
      "       --strict-comments           turn on strict (SGML) handling of HTML comments\n",
      "\n",
      "Recursive accept/reject:\n",
      "  -A,  --accept=LIST               comma-separated list of accepted extensions\n",
      "  -R,  --reject=LIST               comma-separated list of rejected extensions\n",
      "       --accept-regex=REGEX        regex matching accepted URLs\n",
      "       --reject-regex=REGEX        regex matching rejected URLs\n",
      "       --regex-type=TYPE           regex type (posix)\n",
      "  -D,  --domains=LIST              comma-separated list of accepted domains\n",
      "       --exclude-domains=LIST      comma-separated list of rejected domains\n",
      "       --follow-ftp                follow FTP links from HTML documents\n",
      "       --follow-tags=LIST          comma-separated list of followed HTML tags\n",
      "       --ignore-tags=LIST          comma-separated list of ignored HTML tags\n",
      "  -H,  --span-hosts                go to foreign hosts when recursive\n",
      "  -L,  --relative                  follow relative links only\n",
      "  -I,  --include-directories=LIST  list of allowed directories\n",
      "       --trust-server-names        use the name specified by the redirection\n",
      "                                     URL's last component\n",
      "  -X,  --exclude-directories=LIST  list of excluded directories\n",
      "  -np, --no-parent                 don't ascend to the parent directory\n",
      "\n",
      "Mail bug reports and suggestions to <bug-wget@gnu.org>\n"
     ]
    }
   ],
   "source": [
    "! wget --help"
   ]
  },
  {
   "cell_type": "code",
   "execution_count": 21,
   "metadata": {},
   "outputs": [
    {
     "name": "stderr",
     "output_type": "stream",
     "text": [
      "--2018-11-13 13:21:29--  http://rss.xml/\n",
      "Resolving rss.xml (rss.xml)... failed: 요청한 이름이 올바르나, 요청한 종류의 데이터를 찾지 못했습니다. .\n",
      "wget: unable to resolve host address 'rss.xml'\n",
      "--2018-11-13 13:21:31--  http://www.weather.go.kr/weather/forecast/mid-term-rss3.jsp?stnId=109\n",
      "Resolving www.weather.go.kr (www.weather.go.kr)... 121.78.77.90\n",
      "Connecting to www.weather.go.kr (www.weather.go.kr)|121.78.77.90|:80... connected.\n",
      "HTTP request sent, awaiting response... 200 OK\n",
      "Length: 96129 (94K) [text/xml]\n",
      "Saving to: './data/rss.xml'\n",
      "\n",
      "     0K .......... .......... .......... .......... .......... 53% 6.35M 0s\n",
      "    50K .......... .......... .......... .......... ...       100% 28.8M=0.009s\n",
      "\n",
      "2018-11-13 13:21:31 (10.0 MB/s) - './data/rss.xml' saved [96129/96129]\n",
      "\n",
      "FINISHED --2018-11-13 13:21:31--\n",
      "Total wall clock time: 2.4s\n",
      "Downloaded: 1 files, 94K in 0.009s (10.0 MB/s)\n"
     ]
    }
   ],
   "source": [
    "# rss 데이터 저장\n",
    "! wget rss.xml http://www.weather.go.kr/weather/forecast/mid-term-rss3.jsp?stnId=109 -O ./data/rss.xml"
   ]
  },
  {
   "cell_type": "code",
   "execution_count": 22,
   "metadata": {},
   "outputs": [
    {
     "name": "stdout",
     "output_type": "stream",
     "text": [
      " C 드라이브의 볼륨에는 이름이 없습니다.\n",
      " 볼륨 일련 번호: 3EFF-82E2\n",
      "\n",
      " C:\\Users\\student\\Anaconda_src\\data 디렉터리\n",
      "\n",
      "2018-11-13  오후 01:21            96,129 rss.xml\n",
      "               1개 파일              96,129 바이트\n",
      "               0개 디렉터리  404,705,144,832 바이트 남음\n"
     ]
    }
   ],
   "source": [
    "! dir data\\*.xml"
   ]
  },
  {
   "cell_type": "markdown",
   "metadata": {},
   "source": [
    "### c2-13_scrape_rss\n",
    "> ElementTree 모듈을 사용해 RSS 파싱"
   ]
  },
  {
   "cell_type": "code",
   "execution_count": 23,
   "metadata": {},
   "outputs": [],
   "source": [
    "# ElementTree 모듈을 읽어 들입니다.\n",
    "from xml.etree import ElementTree\n",
    "\n",
    "# parse() 함수로 파일을 읽어 들이고 ElementTree 객체를 만듭니다.\n",
    "tree = ElementTree.parse('./data/rss.xml')\n",
    "\n",
    "# getroot() 메서드로 XML의 루트 요소를 추출합니다.\n",
    "root = tree.getroot()\n"
   ]
  },
  {
   "cell_type": "code",
   "execution_count": 24,
   "metadata": {},
   "outputs": [
    {
     "name": "stdout",
     "output_type": "stream",
     "text": [
      " - tree : <xml.etree.ElementTree.ElementTree object at 0x0000000005199F98> \n",
      " - root : <Element 'rss' at 0x00000000051B5C78>\n"
     ]
    }
   ],
   "source": [
    "msg = \" - tree : {} \\n - root : {}\".format(tree, root)\n",
    "print(msg)"
   ]
  },
  {
   "cell_type": "code",
   "execution_count": 25,
   "metadata": {},
   "outputs": [
    {
     "data": {
      "text/plain": [
       "(455, <Element 'data' at 0x00000000051DF8B8>)"
      ]
     },
     "execution_count": 25,
     "metadata": {},
     "output_type": "execute_result"
    }
   ],
   "source": [
    "find_data = root.findall('channel/item/description/body/location/data')\n",
    "len(find_data), find_data[0]"
   ]
  },
  {
   "cell_type": "code",
   "execution_count": 26,
   "metadata": {},
   "outputs": [
    {
     "name": "stdout",
     "output_type": "stream",
     "text": [
      "2018-11-16 00:00 4 14 구름많음\n",
      "2018-11-16 12:00 4 14 구름많음\n",
      "2018-11-17 00:00 4 11 구름많음\n",
      "2018-11-17 12:00 4 11 구름많음\n",
      "2018-11-18 00:00 3 10 구름많음\n",
      "2018-11-18 12:00 3 10 구름많음\n",
      "2018-11-19 00:00 1 9 구름조금\n",
      "2018-11-19 12:00 1 9 구름조금\n",
      "2018-11-20 00:00 0 9 구름조금\n",
      "2018-11-20 12:00 0 9 구름조금\n",
      "2018-11-21 00:00 1 10 구름많음\n",
      "2018-11-22 00:00 0 9 구름조금\n",
      "2018-11-23 00:00 1 9 구름조금\n",
      "2018-11-16 00:00 6 13 구름많음\n",
      "2018-11-16 12:00 6 13 구름많음\n",
      "2018-11-17 00:00 5 11 구름많음\n",
      "2018-11-17 12:00 5 11 구름많음\n",
      "2018-11-18 00:00 3 10 구름많음\n",
      "2018-11-18 12:00 3 10 구름많음\n",
      "2018-11-19 00:00 3 8 구름조금\n",
      "2018-11-19 12:00 3 8 구름조금\n",
      "2018-11-20 00:00 1 8 구름조금\n",
      "2018-11-20 12:00 1 8 구름조금\n",
      "2018-11-21 00:00 2 8 구름많음\n",
      "2018-11-22 00:00 2 8 구름조금\n",
      "2018-11-23 00:00 3 9 구름조금\n",
      "2018-11-16 00:00 3 14 구름많음\n",
      "2018-11-16 12:00 3 14 구름많음\n",
      "2018-11-17 00:00 3 11 구름많음\n",
      "2018-11-17 12:00 3 11 구름많음\n",
      "2018-11-18 00:00 2 11 구름많음\n",
      "2018-11-18 12:00 2 11 구름많음\n",
      "2018-11-19 00:00 0 9 구름조금\n",
      "2018-11-19 12:00 0 9 구름조금\n",
      "2018-11-20 00:00 0 9 구름조금\n",
      "2018-11-20 12:00 0 9 구름조금\n",
      "2018-11-21 00:00 1 10 구름많음\n",
      "2018-11-22 00:00 0 9 구름조금\n",
      "2018-11-23 00:00 1 10 구름조금\n",
      "2018-11-16 00:00 0 13 구름많음\n",
      "2018-11-16 12:00 0 13 구름많음\n",
      "2018-11-17 00:00 0 11 구름많음\n",
      "2018-11-17 12:00 0 11 구름많음\n",
      "2018-11-18 00:00 -1 9 구름많음\n",
      "2018-11-18 12:00 -1 9 구름많음\n",
      "2018-11-19 00:00 -4 8 구름조금\n",
      "2018-11-19 12:00 -4 8 구름조금\n",
      "2018-11-20 00:00 -4 8 구름조금\n",
      "2018-11-20 12:00 -4 8 구름조금\n",
      "2018-11-21 00:00 -4 8 구름많음\n",
      "2018-11-22 00:00 -5 8 구름조금\n",
      "2018-11-23 00:00 -4 9 구름조금\n",
      "2018-11-16 00:00 1 14 구름많음\n",
      "2018-11-16 12:00 1 14 구름많음\n",
      "2018-11-17 00:00 1 11 구름많음\n",
      "2018-11-17 12:00 1 11 구름많음\n",
      "2018-11-18 00:00 0 11 구름많음\n",
      "2018-11-18 12:00 0 11 구름많음\n",
      "2018-11-19 00:00 -2 9 구름조금\n",
      "2018-11-19 12:00 -2 9 구름조금\n",
      "2018-11-20 00:00 -2 9 구름조금\n",
      "2018-11-20 12:00 -2 9 구름조금\n",
      "2018-11-21 00:00 -1 10 구름많음\n",
      "2018-11-22 00:00 -2 9 구름조금\n",
      "2018-11-23 00:00 -1 10 구름조금\n",
      "2018-11-16 00:00 3 14 구름많음\n",
      "2018-11-16 12:00 3 14 구름많음\n",
      "2018-11-17 00:00 3 11 구름많음\n",
      "2018-11-17 12:00 3 11 구름많음\n",
      "2018-11-18 00:00 2 10 구름많음\n",
      "2018-11-18 12:00 2 10 구름많음\n",
      "2018-11-19 00:00 0 9 구름조금\n",
      "2018-11-19 12:00 0 9 구름조금\n",
      "2018-11-20 00:00 0 9 구름조금\n",
      "2018-11-20 12:00 0 9 구름조금\n",
      "2018-11-21 00:00 1 10 구름많음\n",
      "2018-11-22 00:00 1 9 구름조금\n",
      "2018-11-23 00:00 1 10 구름조금\n",
      "2018-11-16 00:00 7 10 구름많음\n",
      "2018-11-16 12:00 7 10 구름많음\n",
      "2018-11-17 00:00 5 8 구름많음\n",
      "2018-11-17 12:00 5 8 구름많음\n",
      "2018-11-18 00:00 6 11 구름많음\n",
      "2018-11-18 12:00 6 11 구름많음\n",
      "2018-11-19 00:00 5 9 구름조금\n",
      "2018-11-19 12:00 5 9 구름조금\n",
      "2018-11-20 00:00 5 10 구름조금\n",
      "2018-11-20 12:00 5 10 구름조금\n",
      "2018-11-21 00:00 4 9 구름많음\n",
      "2018-11-22 00:00 6 10 구름조금\n",
      "2018-11-23 00:00 3 10 구름조금\n",
      "2018-11-16 00:00 4 14 구름많음\n",
      "2018-11-16 12:00 4 14 구름많음\n",
      "2018-11-17 00:00 2 10 구름많음\n",
      "2018-11-17 12:00 2 10 구름많음\n",
      "2018-11-18 00:00 0 10 구름많음\n",
      "2018-11-18 12:00 0 10 구름많음\n",
      "2018-11-19 00:00 2 10 구름조금\n",
      "2018-11-19 12:00 2 10 구름조금\n",
      "2018-11-20 00:00 -1 10 구름조금\n",
      "2018-11-20 12:00 -1 10 구름조금\n",
      "2018-11-21 00:00 0 11 구름많음\n",
      "2018-11-22 00:00 1 12 구름조금\n",
      "2018-11-23 00:00 1 11 구름조금\n",
      "2018-11-16 00:00 6 14 구름많음\n",
      "2018-11-16 12:00 6 14 구름많음\n",
      "2018-11-17 00:00 4 9 구름많음\n",
      "2018-11-17 12:00 4 9 구름많음\n",
      "2018-11-18 00:00 3 11 구름많음\n",
      "2018-11-18 12:00 3 11 구름많음\n",
      "2018-11-19 00:00 3 10 구름조금\n",
      "2018-11-19 12:00 3 10 구름조금\n",
      "2018-11-20 00:00 1 9 구름조금\n",
      "2018-11-20 12:00 1 9 구름조금\n",
      "2018-11-21 00:00 2 10 구름많음\n",
      "2018-11-22 00:00 3 12 구름조금\n",
      "2018-11-23 00:00 1 11 구름조금\n",
      "2018-11-16 00:00 3 13 구름많음\n",
      "2018-11-16 12:00 3 13 구름많음\n",
      "2018-11-17 00:00 1 9 구름많음\n",
      "2018-11-17 12:00 1 9 구름많음\n",
      "2018-11-18 00:00 0 9 구름많음\n",
      "2018-11-18 12:00 0 9 구름많음\n",
      "2018-11-19 00:00 1 10 구름조금\n",
      "2018-11-19 12:00 1 10 구름조금\n",
      "2018-11-20 00:00 -1 9 구름조금\n",
      "2018-11-20 12:00 -1 9 구름조금\n",
      "2018-11-21 00:00 0 9 구름많음\n",
      "2018-11-22 00:00 2 11 구름조금\n",
      "2018-11-23 00:00 2 11 구름조금\n",
      "2018-11-16 00:00 4 13 구름많음\n",
      "2018-11-16 12:00 4 13 구름많음\n",
      "2018-11-17 00:00 1 8 구름많음\n",
      "2018-11-17 12:00 1 8 구름많음\n",
      "2018-11-18 00:00 0 9 구름많음\n",
      "2018-11-18 12:00 0 9 구름많음\n",
      "2018-11-19 00:00 2 9 구름조금\n",
      "2018-11-19 12:00 2 9 구름조금\n",
      "2018-11-20 00:00 -1 8 구름조금\n",
      "2018-11-20 12:00 -1 8 구름조금\n",
      "2018-11-21 00:00 1 9 구름많음\n",
      "2018-11-22 00:00 2 11 구름조금\n",
      "2018-11-23 00:00 -1 10 구름조금\n",
      "2018-11-16 00:00 4 14 구름많음\n",
      "2018-11-16 12:00 4 14 구름많음\n",
      "2018-11-17 00:00 1 10 구름많음\n",
      "2018-11-17 12:00 1 10 구름많음\n",
      "2018-11-18 00:00 0 11 구름많음\n",
      "2018-11-18 12:00 0 11 구름많음\n",
      "2018-11-19 00:00 3 11 구름조금\n",
      "2018-11-19 12:00 3 11 구름조금\n",
      "2018-11-20 00:00 -1 10 구름조금\n",
      "2018-11-20 12:00 -1 10 구름조금\n",
      "2018-11-21 00:00 0 11 구름많음\n",
      "2018-11-22 00:00 2 13 구름조금\n",
      "2018-11-23 00:00 1 11 구름조금\n",
      "2018-11-16 00:00 3 14 구름많음\n",
      "2018-11-16 12:00 3 14 구름많음\n",
      "2018-11-17 00:00 2 10 구름많음\n",
      "2018-11-17 12:00 2 10 구름많음\n",
      "2018-11-18 00:00 1 11 구름많음\n",
      "2018-11-18 12:00 1 11 구름많음\n",
      "2018-11-19 00:00 2 10 구름조금\n",
      "2018-11-19 12:00 2 10 구름조금\n",
      "2018-11-20 00:00 -1 9 구름조금\n",
      "2018-11-20 12:00 -1 9 구름조금\n",
      "2018-11-21 00:00 0 11 구름많음\n",
      "2018-11-22 00:00 0 11 구름조금\n",
      "2018-11-23 00:00 0 11 구름조금\n",
      "2018-11-16 00:00 5 13 구름많음\n",
      "2018-11-16 12:00 5 13 구름많음\n",
      "2018-11-17 00:00 3 9 구름많음\n",
      "2018-11-17 12:00 3 9 구름많음\n",
      "2018-11-18 00:00 2 10 구름많음\n",
      "2018-11-18 12:00 2 10 구름많음\n",
      "2018-11-19 00:00 2 10 구름조금\n",
      "2018-11-19 12:00 2 10 구름조금\n",
      "2018-11-20 00:00 0 10 구름조금\n",
      "2018-11-20 12:00 0 10 구름조금\n",
      "2018-11-21 00:00 1 10 구름많음\n",
      "2018-11-22 00:00 3 10 구름조금\n",
      "2018-11-23 00:00 2 11 구름조금\n",
      "2018-11-16 00:00 4 13 구름많음\n",
      "2018-11-16 12:00 4 13 구름많음\n",
      "2018-11-17 00:00 0 10 구름많음\n",
      "2018-11-17 12:00 0 10 구름많음\n",
      "2018-11-18 00:00 -1 10 구름많음\n",
      "2018-11-18 12:00 -1 10 구름많음\n",
      "2018-11-19 00:00 1 9 구름조금\n",
      "2018-11-19 12:00 1 9 구름조금\n",
      "2018-11-20 00:00 -3 9 구름조금\n",
      "2018-11-20 12:00 -3 9 구름조금\n",
      "2018-11-21 00:00 -1 9 구름많음\n",
      "2018-11-22 00:00 1 11 구름조금\n",
      "2018-11-23 00:00 -1 11 구름조금\n",
      "2018-11-16 00:00 3 14 구름많음\n",
      "2018-11-16 12:00 3 14 구름많음\n",
      "2018-11-17 00:00 1 10 구름많음\n",
      "2018-11-17 12:00 1 10 구름많음\n",
      "2018-11-18 00:00 0 11 구름많음\n",
      "2018-11-18 12:00 0 11 구름많음\n",
      "2018-11-19 00:00 1 10 구름조금\n",
      "2018-11-19 12:00 1 10 구름조금\n",
      "2018-11-20 00:00 -2 10 구름조금\n",
      "2018-11-20 12:00 -2 10 구름조금\n",
      "2018-11-21 00:00 0 10 구름많음\n",
      "2018-11-22 00:00 1 11 구름조금\n",
      "2018-11-23 00:00 -2 11 구름조금\n",
      "2018-11-16 00:00 3 13 구름많음\n",
      "2018-11-16 12:00 3 13 구름많음\n",
      "2018-11-17 00:00 -2 9 구름많음\n",
      "2018-11-17 12:00 -2 9 구름많음\n",
      "2018-11-18 00:00 -3 10 구름많음\n",
      "2018-11-18 12:00 -3 10 구름많음\n",
      "2018-11-19 00:00 -1 9 구름조금\n",
      "2018-11-19 12:00 -1 9 구름조금\n",
      "2018-11-20 00:00 -4 8 구름조금\n",
      "2018-11-20 12:00 -4 8 구름조금\n",
      "2018-11-21 00:00 -2 9 구름많음\n",
      "2018-11-22 00:00 0 11 구름조금\n",
      "2018-11-23 00:00 -4 11 구름조금\n",
      "2018-11-16 00:00 3 13 구름많음\n",
      "2018-11-16 12:00 3 13 구름많음\n",
      "2018-11-17 00:00 0 10 구름많음\n",
      "2018-11-17 12:00 0 10 구름많음\n",
      "2018-11-18 00:00 -2 11 구름많음\n",
      "2018-11-18 12:00 -2 11 구름많음\n",
      "2018-11-19 00:00 0 10 구름조금\n",
      "2018-11-19 12:00 0 10 구름조금\n",
      "2018-11-20 00:00 -3 9 구름조금\n",
      "2018-11-20 12:00 -3 9 구름조금\n",
      "2018-11-21 00:00 -1 10 구름많음\n",
      "2018-11-22 00:00 1 12 구름조금\n",
      "2018-11-23 00:00 0 12 구름조금\n",
      "2018-11-16 00:00 1 12 구름많음\n",
      "2018-11-16 12:00 1 12 구름많음\n",
      "2018-11-17 00:00 -2 10 구름많음\n",
      "2018-11-17 12:00 -2 10 구름많음\n",
      "2018-11-18 00:00 -4 10 구름많음\n",
      "2018-11-18 12:00 -4 10 구름많음\n",
      "2018-11-19 00:00 -1 8 구름조금\n",
      "2018-11-19 12:00 -1 8 구름조금\n",
      "2018-11-20 00:00 -5 8 구름조금\n",
      "2018-11-20 12:00 -5 8 구름조금\n",
      "2018-11-21 00:00 -3 9 구름많음\n",
      "2018-11-22 00:00 1 13 구름조금\n",
      "2018-11-23 00:00 -3 10 구름조금\n",
      "2018-11-16 00:00 2 13 구름많음\n",
      "2018-11-16 12:00 2 13 구름많음\n",
      "2018-11-17 00:00 -2 11 구름많음\n",
      "2018-11-17 12:00 -2 11 구름많음\n",
      "2018-11-18 00:00 -2 10 구름많음\n",
      "2018-11-18 12:00 -2 10 구름많음\n",
      "2018-11-19 00:00 -1 10 구름조금\n",
      "2018-11-19 12:00 -1 10 구름조금\n",
      "2018-11-20 00:00 -4 9 구름조금\n",
      "2018-11-20 12:00 -4 9 구름조금\n",
      "2018-11-21 00:00 -2 9 구름많음\n",
      "2018-11-22 00:00 0 11 구름조금\n",
      "2018-11-23 00:00 -3 10 구름조금\n",
      "2018-11-16 00:00 1 13 구름많음\n",
      "2018-11-16 12:00 1 13 구름많음\n",
      "2018-11-17 00:00 -1 10 구름많음\n",
      "2018-11-17 12:00 -1 10 구름많음\n",
      "2018-11-18 00:00 -3 11 구름많음\n",
      "2018-11-18 12:00 -3 11 구름많음\n",
      "2018-11-19 00:00 -1 10 구름조금\n",
      "2018-11-19 12:00 -1 10 구름조금\n",
      "2018-11-20 00:00 -4 9 구름조금\n",
      "2018-11-20 12:00 -4 9 구름조금\n",
      "2018-11-21 00:00 -3 9 구름많음\n",
      "2018-11-22 00:00 -1 11 구름조금\n",
      "2018-11-23 00:00 -4 10 구름조금\n",
      "2018-11-16 00:00 4 14 구름많음\n",
      "2018-11-16 12:00 4 14 구름많음\n",
      "2018-11-17 00:00 2 10 구름많음\n",
      "2018-11-17 12:00 2 10 구름많음\n",
      "2018-11-18 00:00 0 11 구름많음\n",
      "2018-11-18 12:00 0 11 구름많음\n",
      "2018-11-19 00:00 2 10 구름조금\n",
      "2018-11-19 12:00 2 10 구름조금\n",
      "2018-11-20 00:00 -1 9 구름조금\n",
      "2018-11-20 12:00 -1 9 구름조금\n",
      "2018-11-21 00:00 0 10 구름많음\n",
      "2018-11-22 00:00 2 11 구름조금\n",
      "2018-11-23 00:00 0 11 구름조금\n",
      "2018-11-16 00:00 4 14 구름많음\n",
      "2018-11-16 12:00 4 14 구름많음\n",
      "2018-11-17 00:00 0 10 구름많음\n",
      "2018-11-17 12:00 0 10 구름많음\n",
      "2018-11-18 00:00 -1 11 구름많음\n",
      "2018-11-18 12:00 -1 11 구름많음\n",
      "2018-11-19 00:00 0 10 구름조금\n",
      "2018-11-19 12:00 0 10 구름조금\n",
      "2018-11-20 00:00 -2 9 구름조금\n",
      "2018-11-20 12:00 -2 9 구름조금\n",
      "2018-11-21 00:00 -2 10 구름많음\n",
      "2018-11-22 00:00 0 12 구름조금\n",
      "2018-11-23 00:00 -4 11 구름조금\n",
      "2018-11-16 00:00 3 13 구름많음\n",
      "2018-11-16 12:00 3 13 구름많음\n",
      "2018-11-17 00:00 1 10 구름많음\n",
      "2018-11-17 12:00 1 10 구름많음\n",
      "2018-11-18 00:00 -1 11 구름많음\n",
      "2018-11-18 12:00 -1 11 구름많음\n",
      "2018-11-19 00:00 0 11 구름조금\n",
      "2018-11-19 12:00 0 11 구름조금\n",
      "2018-11-20 00:00 -2 9 구름조금\n",
      "2018-11-20 12:00 -2 9 구름조금\n",
      "2018-11-21 00:00 -1 9 구름많음\n",
      "2018-11-22 00:00 -1 11 구름조금\n",
      "2018-11-23 00:00 0 11 구름조금\n",
      "2018-11-16 00:00 3 13 구름많음\n",
      "2018-11-16 12:00 3 13 구름많음\n",
      "2018-11-17 00:00 2 10 구름많음\n",
      "2018-11-17 12:00 2 10 구름많음\n",
      "2018-11-18 00:00 0 11 구름많음\n",
      "2018-11-18 12:00 0 11 구름많음\n",
      "2018-11-19 00:00 1 10 구름조금\n",
      "2018-11-19 12:00 1 10 구름조금\n",
      "2018-11-20 00:00 -1 9 구름조금\n",
      "2018-11-20 12:00 -1 9 구름조금\n",
      "2018-11-21 00:00 -1 10 구름많음\n",
      "2018-11-22 00:00 1 12 구름조금\n",
      "2018-11-23 00:00 0 10 구름조금\n",
      "2018-11-16 00:00 4 14 구름많음\n",
      "2018-11-16 12:00 4 14 구름많음\n"
     ]
    },
    {
     "name": "stdout",
     "output_type": "stream",
     "text": [
      "2018-11-17 00:00 1 10 구름많음\n",
      "2018-11-17 12:00 1 10 구름많음\n",
      "2018-11-18 00:00 0 11 구름많음\n",
      "2018-11-18 12:00 0 11 구름많음\n",
      "2018-11-19 00:00 1 10 구름조금\n",
      "2018-11-19 12:00 1 10 구름조금\n",
      "2018-11-20 00:00 -1 9 구름조금\n",
      "2018-11-20 12:00 -1 9 구름조금\n",
      "2018-11-21 00:00 0 11 구름많음\n",
      "2018-11-22 00:00 0 11 구름조금\n",
      "2018-11-23 00:00 1 11 구름조금\n",
      "2018-11-16 00:00 3 13 구름많음\n",
      "2018-11-16 12:00 3 13 구름많음\n",
      "2018-11-17 00:00 2 11 구름많음\n",
      "2018-11-17 12:00 2 11 구름많음\n",
      "2018-11-18 00:00 2 11 구름많음\n",
      "2018-11-18 12:00 2 11 구름많음\n",
      "2018-11-19 00:00 0 9 구름조금\n",
      "2018-11-19 12:00 0 9 구름조금\n",
      "2018-11-20 00:00 -1 8 구름조금\n",
      "2018-11-20 12:00 -1 8 구름조금\n",
      "2018-11-21 00:00 0 10 구름많음\n",
      "2018-11-22 00:00 -1 9 구름조금\n",
      "2018-11-23 00:00 1 10 구름조금\n",
      "2018-11-16 00:00 4 14 구름많음\n",
      "2018-11-16 12:00 4 14 구름많음\n",
      "2018-11-17 00:00 3 10 구름많음\n",
      "2018-11-17 12:00 3 10 구름많음\n",
      "2018-11-18 00:00 2 11 구름많음\n",
      "2018-11-18 12:00 2 11 구름많음\n",
      "2018-11-19 00:00 3 11 구름조금\n",
      "2018-11-19 12:00 3 11 구름조금\n",
      "2018-11-20 00:00 0 10 구름조금\n",
      "2018-11-20 12:00 0 10 구름조금\n",
      "2018-11-21 00:00 0 11 구름많음\n",
      "2018-11-22 00:00 2 12 구름조금\n",
      "2018-11-23 00:00 2 11 구름조금\n",
      "2018-11-16 00:00 4 14 구름많음\n",
      "2018-11-16 12:00 4 14 구름많음\n",
      "2018-11-17 00:00 3 10 구름많음\n",
      "2018-11-17 12:00 3 10 구름많음\n",
      "2018-11-18 00:00 1 11 구름많음\n",
      "2018-11-18 12:00 1 11 구름많음\n",
      "2018-11-19 00:00 2 11 구름조금\n",
      "2018-11-19 12:00 2 11 구름조금\n",
      "2018-11-20 00:00 -1 10 구름조금\n",
      "2018-11-20 12:00 -1 10 구름조금\n",
      "2018-11-21 00:00 0 10 구름많음\n",
      "2018-11-22 00:00 2 12 구름조금\n",
      "2018-11-23 00:00 2 12 구름조금\n",
      "2018-11-16 00:00 3 13 구름많음\n",
      "2018-11-16 12:00 3 13 구름많음\n",
      "2018-11-17 00:00 3 10 구름많음\n",
      "2018-11-17 12:00 3 10 구름많음\n",
      "2018-11-18 00:00 2 11 구름많음\n",
      "2018-11-18 12:00 2 11 구름많음\n",
      "2018-11-19 00:00 1 9 구름조금\n",
      "2018-11-19 12:00 1 9 구름조금\n",
      "2018-11-20 00:00 -1 9 구름조금\n",
      "2018-11-20 12:00 -1 9 구름조금\n",
      "2018-11-21 00:00 1 10 구름많음\n",
      "2018-11-22 00:00 1 11 구름조금\n",
      "2018-11-23 00:00 2 12 구름조금\n",
      "2018-11-16 00:00 3 13 구름많음\n",
      "2018-11-16 12:00 3 13 구름많음\n",
      "2018-11-17 00:00 2 10 구름많음\n",
      "2018-11-17 12:00 2 10 구름많음\n",
      "2018-11-18 00:00 1 11 구름많음\n",
      "2018-11-18 12:00 1 11 구름많음\n",
      "2018-11-19 00:00 2 9 구름조금\n",
      "2018-11-19 12:00 2 9 구름조금\n",
      "2018-11-20 00:00 -1 9 구름조금\n",
      "2018-11-20 12:00 -1 9 구름조금\n",
      "2018-11-21 00:00 1 10 구름많음\n",
      "2018-11-22 00:00 1 11 구름조금\n",
      "2018-11-23 00:00 1 11 구름조금\n",
      "2018-11-16 00:00 3 14 구름많음\n",
      "2018-11-16 12:00 3 14 구름많음\n",
      "2018-11-17 00:00 1 10 구름많음\n",
      "2018-11-17 12:00 1 10 구름많음\n",
      "2018-11-18 00:00 0 12 구름많음\n",
      "2018-11-18 12:00 0 12 구름많음\n",
      "2018-11-19 00:00 1 11 구름조금\n",
      "2018-11-19 12:00 1 11 구름조금\n",
      "2018-11-20 00:00 -2 10 구름조금\n",
      "2018-11-20 12:00 -2 10 구름조금\n",
      "2018-11-21 00:00 -1 11 구름많음\n",
      "2018-11-22 00:00 1 12 구름조금\n",
      "2018-11-23 00:00 1 12 구름조금\n",
      "2018-11-16 00:00 4 13 구름많음\n",
      "2018-11-16 12:00 4 13 구름많음\n",
      "2018-11-17 00:00 0 9 구름많음\n",
      "2018-11-17 12:00 0 9 구름많음\n",
      "2018-11-18 00:00 -1 11 구름많음\n",
      "2018-11-18 12:00 -1 11 구름많음\n",
      "2018-11-19 00:00 1 9 구름조금\n",
      "2018-11-19 12:00 1 9 구름조금\n",
      "2018-11-20 00:00 -2 10 구름조금\n",
      "2018-11-20 12:00 -2 10 구름조금\n",
      "2018-11-21 00:00 -1 10 구름많음\n",
      "2018-11-22 00:00 0 12 구름조금\n",
      "2018-11-23 00:00 0 11 구름조금\n",
      "2018-11-16 00:00 3 13 구름많음\n",
      "2018-11-16 12:00 3 13 구름많음\n",
      "2018-11-17 00:00 1 9 구름많음\n",
      "2018-11-17 12:00 1 9 구름많음\n",
      "2018-11-18 00:00 0 10 구름많음\n",
      "2018-11-18 12:00 0 10 구름많음\n",
      "2018-11-19 00:00 1 11 구름조금\n",
      "2018-11-19 12:00 1 11 구름조금\n",
      "2018-11-20 00:00 -3 9 구름조금\n",
      "2018-11-20 12:00 -3 9 구름조금\n",
      "2018-11-21 00:00 -1 9 구름많음\n",
      "2018-11-22 00:00 0 11 구름조금\n",
      "2018-11-23 00:00 -1 11 구름조금\n",
      "2018-11-16 00:00 2 12 구름많음\n",
      "2018-11-16 12:00 2 12 구름많음\n",
      "2018-11-17 00:00 2 9 구름많음\n",
      "2018-11-17 12:00 2 9 구름많음\n",
      "2018-11-18 00:00 0 10 구름많음\n",
      "2018-11-18 12:00 0 10 구름많음\n",
      "2018-11-19 00:00 0 10 구름조금\n",
      "2018-11-19 12:00 0 10 구름조금\n",
      "2018-11-20 00:00 -3 8 구름조금\n",
      "2018-11-20 12:00 -3 8 구름조금\n",
      "2018-11-21 00:00 -2 9 구름많음\n",
      "2018-11-22 00:00 -1 11 구름조금\n",
      "2018-11-23 00:00 -2 9 구름조금\n"
     ]
    }
   ],
   "source": [
    "# findall() 메서드로 요소 목록을 추출합니다.\n",
    "# 태그를 찾습니다(자세한 내용은 RSS를 열어 참고해주세요).\n",
    "for item in root.findall('channel/item/description/body/location/data'):\n",
    "    # find() 메서드로 요소를 찾고 text 속성으로 값을 추출합니다.\n",
    "    tm_ef = item.find('tmEf').text\n",
    "    tmn   = item.find('tmn').text\n",
    "    tmx   = item.find('tmx').text\n",
    "    wf    = item.find('wf').text\n",
    "    print(tm_ef, tmn, tmx, wf) # 출력합니다."
   ]
  },
  {
   "cell_type": "markdown",
   "metadata": {},
   "source": [
    "## 데이터 저장\n",
    "> - TEXT파일로 저장 : CSV/TSV 형식, JSON 형식\n",
    "- DataBase에 저장 : SQLite3, MySQL, Oracle, MongoDB"
   ]
  },
  {
   "cell_type": "markdown",
   "metadata": {},
   "source": [
    "### c2-14_save_csv_join\n",
    "> CSV(Comma-Seperated Values) 형식으로 저장\n",
    "\n",
    "> - str.join() 메소드 사용\n",
    "- (venb) $ python OOO.py > OOO.csv"
   ]
  },
  {
   "cell_type": "code",
   "execution_count": 27,
   "metadata": {},
   "outputs": [
    {
     "name": "stdout",
     "output_type": "stream",
     "text": [
      "rank,city,population\n"
     ]
    }
   ],
   "source": [
    "# 첫 번째 줄에 헤더를 작성합니다.\n",
    "print('rank,city,population')  "
   ]
  },
  {
   "cell_type": "code",
   "execution_count": 28,
   "metadata": {},
   "outputs": [
    {
     "name": "stdout",
     "output_type": "stream",
     "text": [
      "1,상하이,24150000\n",
      "2,카라치,23500000\n",
      "3,베이징,21516000\n",
      "4,텐진,14722100\n",
      "5,이스탄불,14160467\n"
     ]
    }
   ],
   "source": [
    "# join() 메서드의 매개변수로 전달한 list는 str이어야 하므로 주의해 주세요.\n",
    "print(','.join(['1', '상하이', '24150000']))\n",
    "print(','.join(['2', '카라치', '23500000']))\n",
    "print(','.join(['3', '베이징', '21516000']))\n",
    "print(','.join(['4', '텐진', '14722100']))\n",
    "print(','.join(['5', '이스탄불', '14160467']))"
   ]
  },
  {
   "cell_type": "markdown",
   "metadata": {},
   "source": [
    "### c2-15_save_csv\n",
    "> CSV(Comma-Seperated Values) 형식으로 저장"
   ]
  },
  {
   "cell_type": "code",
   "execution_count": 29,
   "metadata": {},
   "outputs": [],
   "source": [
    "import csv\n",
    "\n",
    "# 파일을 엽니다. newline=''으로 줄바꿈 코드의 자동 변환을 제어합니다.\n",
    "csv_file = './data/top_cities_1.csv'\n",
    "\n",
    "with open(csv_file, 'w', newline='') as f:\n",
    "    # csv.writer는 파일 객체를 매개변수로 지정합니다.\n",
    "    writer = csv.writer(f)  \n",
    "    # 첫 번째 줄에는 헤더를 작성합니다.\n",
    "    writer.writerow(['rank', 'city', 'population'])  \n",
    "    # writerows()에 리스트를 전달하면 여러 개의 값을 출력합니다.\n",
    "    writer.writerows([\n",
    "        [1, '상하이', 24150000],\n",
    "        [2, '카라치', 23500000],\n",
    "        [3, '베이징', 21516000],\n",
    "        [4, '텐진', 14722100],\n",
    "        [5, '이스탄불', 14160467],\n",
    "    ])"
   ]
  },
  {
   "cell_type": "code",
   "execution_count": 30,
   "metadata": {},
   "outputs": [
    {
     "name": "stdout",
     "output_type": "stream",
     "text": [
      "rank,city,population\n",
      "1,상하이,24150000\n",
      "2,카라치,23500000\n",
      "3,베이징,21516000\n",
      "4,텐진,14722100\n",
      "5,이스탄불,14160467\n",
      "\n"
     ]
    }
   ],
   "source": [
    "# 확인\n",
    "with open(csv_file, 'r') as f:\n",
    "    data = f.read()\n",
    "\n",
    "print(data)"
   ]
  },
  {
   "cell_type": "markdown",
   "metadata": {},
   "source": [
    "### c2-16_save_csv_dict\n",
    "> 딕셔너리 형식으로 저장"
   ]
  },
  {
   "cell_type": "code",
   "execution_count": 31,
   "metadata": {},
   "outputs": [],
   "source": [
    "import csv\n",
    "\n",
    "csv_file = './data/top_cities_2.csv'\n",
    "with open(csv_file, 'w', newline='') as f:\n",
    "    # 첫 번째 매개변수에 파일 객체\n",
    "    # 두 번째 매개변수에 필드 이름 리스트를 지정합니다.\n",
    "    writer = csv.DictWriter(f, ['rank', 'city', 'population'])\n",
    "      # 첫 번째 줄에 헤더를 입력합니다.\n",
    "    writer.writeheader()\n",
    "    # writerows()로 여러 개의 데이터를 딕셔너리 형태로 작성합니다.\n",
    "    writer.writerows([\n",
    "        {'rank': 1,  'city': '상하이',   'population': 24150000},\n",
    "        {'rank': 2,  'city': '카라치',   'population': 23500000},\n",
    "        {'rank': 3,  'city': '베이징',   'population': 21516000},\n",
    "        {'rank': 4,  'city': '텐진',     'population': 14722100},\n",
    "        {'rank': 5,  'city': '이스탄불', 'population': 14160467},\n",
    "    ])"
   ]
  },
  {
   "cell_type": "code",
   "execution_count": 32,
   "metadata": {},
   "outputs": [
    {
     "name": "stdout",
     "output_type": "stream",
     "text": [
      "rank,city,population\n",
      "--------------------\n",
      "1,상하이,24150000\n",
      "2,카라치,23500000\n",
      "3,베이징,21516000\n",
      "4,텐진,14722100\n",
      "5,이스탄불,14160467\n"
     ]
    }
   ],
   "source": [
    "# 확인\n",
    "with open(csv_file, 'r') as f:\n",
    "    data = f.readlines()\n",
    "    \n",
    "for idx in range(len(data)):    \n",
    "    print(data[idx], end='')\n",
    "    if idx==0:\n",
    "        print('-'*20)\n",
    "    "
   ]
  },
  {
   "cell_type": "markdown",
   "metadata": {},
   "source": [
    "### c2-17_save_json\n",
    "> JSON 형식으로 저장"
   ]
  },
  {
   "cell_type": "code",
   "execution_count": 33,
   "metadata": {},
   "outputs": [
    {
     "name": "stdout",
     "output_type": "stream",
     "text": [
      "[{\"rank\": 1, \"city\": \"\\uc0c1\\ud558\\uc774\", \"population\": 24150000}, {\"rank\": 2, \"city\": \"\\uce74\\ub77c\\uce58\", \"population\": 23500000}, {\"rank\": 3, \"city\": \"\\ubca0\\uc774\\uc9d5\", \"population\": 21516000}, {\"rank\": 4, \"city\": \"\\ud150\\uc9c4\", \"population\": 14722100}, {\"rank\": 5, \"city\": \"\\uc774\\uc2a4\\ud0c4\\ubd88\", \"population\": 14160467}]\n"
     ]
    }
   ],
   "source": [
    "import json\n",
    "\n",
    "cities = [\n",
    "    {'rank': 1,  'city': '상하이',   'population': 24150000},\n",
    "    {'rank': 2,  'city': '카라치',   'population': 23500000},\n",
    "    {'rank': 3,  'city': '베이징',   'population': 21516000},\n",
    "    {'rank': 4,  'city': '텐진',     'population': 14722100},\n",
    "    {'rank': 5,  'city': '이스탄불', 'population': 14160467},\n",
    "]\n",
    "\n",
    "print(json.dumps(cities))"
   ]
  },
  {
   "cell_type": "code",
   "execution_count": 36,
   "metadata": {},
   "outputs": [
    {
     "name": "stdout",
     "output_type": "stream",
     "text": [
      "[\n",
      "    {\n",
      "        \"rank\": 1,\n",
      "        \"city\": \"상하이\",\n",
      "        \"population\": 24150000\n",
      "    },\n",
      "    {\n",
      "        \"rank\": 2,\n",
      "        \"city\": \"카라치\",\n",
      "        \"population\": 23500000\n",
      "    },\n",
      "    {\n",
      "        \"rank\": 3,\n",
      "        \"city\": \"베이징\",\n",
      "        \"population\": 21516000\n",
      "    },\n",
      "    {\n",
      "        \"rank\": 4,\n",
      "        \"city\": \"텐진\",\n",
      "        \"population\": 14722100\n",
      "    },\n",
      "    {\n",
      "        \"rank\": 5,\n",
      "        \"city\": \"이스탄불\",\n",
      "        \"population\": 14160467\n",
      "    }\n",
      "]\n"
     ]
    }
   ],
   "source": [
    "print(json.dumps(cities, ensure_ascii=False, indent=4))\n",
    "\n",
    "# ensure_ascii 값을 True로 하면 한글로 된 글자들을 ascii코드로 변환해서 저장하게 된다."
   ]
  },
  {
   "cell_type": "markdown",
   "metadata": {},
   "source": [
    "### c2-18_save_sqlite3\n",
    "> 데이터베이스(SQLite3)에 저장\n",
    "\n",
    "> - SQLite3 는 파일기반의 간단한 관계형 데이터베이스\n",
    "- SQL 구문을 사용해 데이터를 읽고 쓰기"
   ]
  },
  {
   "cell_type": "raw",
   "metadata": {},
   "source": [
    "import sqlite3\n",
    "\n",
    "# top_cities.db 파일을 열고 연결을 변수에 저장합니다.\n",
    "conn = sqlite3.connect('./database/top_cities.db')   # 파이썬은 connect 다음에 db파일 연결 = > connection 객체를 만들어주는 것.\n",
    "\n",
    "# 커서를 추출합니다.\n",
    "c = conn.cursor()   # cursor는 명령문을 받을 수 있도록 해주는 것.\n",
    "\n",
    "# execute() 메서드로 SQL 구문을 실행합니다.\n",
    "# 스크립트를 여러 번 사용해도 같은 결과를 출력할 수 있게 cities 테이블이 존재하는 경우 제거합니다.\n",
    "c.execute('DROP TABLE IF EXISTS cities') # 대소문자 구별한 이유는 대문자로 된 것이 query문에 해당하는 것이기 때문.\n",
    "\n",
    "# cities 테이블을 생성합니다.\n",
    "c.execute('''\n",
    "    CREATE TABLE cities (\n",
    "        rank integer,\n",
    "        city text,\n",
    "        population integer\n",
    "    )\n",
    "''')  # 항상 구조화된 타입을 지정해 놓는다. 길이와 용량까지도 정해주는 일이 많다.\n",
    "\n",
    "# execute() 메서드의 두 번째 매개변수에는 파라미터를 지정할 수 있습니다.\n",
    "# SQL 내부에서 파라미터로 변경할 부분(플레이스홀더)은 ?로 지정합니다.\n",
    "c.execute('INSERT INTO cities VALUES (?, ?, ?)', (1, '상하이', 24150000))  # INSERT INTO 명령어를 사용.\n",
    "\n",
    "# 파라미터가 딕셔너리일 때는 플레이스홀더를 :<이름> 형태로 지정합니다.\n",
    "c.execute('INSERT INTO cities VALUES (:rank, :city, :population)',\n",
    "          {'rank': 2, 'city': '카라치', 'population': 23500000})\n",
    "\n",
    "# executemany() 메서드를 사용하면 여러 개의 파라미터를 리스트로 지정해서\n",
    "# 여러 개(현재 예제에서는 3개)의 SQL 구문을 실행할 수 있습니다.\n",
    "c.executemany('INSERT INTO cities VALUES (:rank, :city, :population)', [\n",
    "    {'rank': 3,  'city': '베이징',   'population': 21516000},\n",
    "    {'rank': 4,  'city': '텐진',     'population': 14722100},\n",
    "    {'rank': 5,  'city': '이스탄불', 'population': 14160467},\n",
    "])\n",
    "\n",
    "# 변경사항을 커밋(저장)합니다.\n",
    "conn.commit()   # connection을 커밋해줘야 한다.\n",
    "\n",
    "# 저장한 데이터를 추출합니다.\n",
    "c.execute('SELECT * FROM cities')\n",
    "\n",
    "# 쿼리의 결과는 fetchall() 메서드로 추출할 수 있습니다.\n",
    "for row in c.fetchall():\n",
    "    # 추출한 데이터를 출력합니다.\n",
    "    print(row)\n",
    "\n",
    "# 연결을 닫습니다.\n",
    "conn.close()  # 반드시 connetion 객체를 닫아주어야만 한다.\n"
   ]
  },
  {
   "cell_type": "code",
   "execution_count": 38,
   "metadata": {},
   "outputs": [
    {
     "data": {
      "text/plain": [
       "'database 디렉토리를 생성하였습니다!'"
      ]
     },
     "execution_count": 38,
     "metadata": {},
     "output_type": "execute_result"
    }
   ],
   "source": [
    "# ! mkdir database\n",
    "make_dir('database')\n",
    "\n",
    "\n",
    "# 맨 윗부분 dir 생성 관련 함수를 참고해야 하는 부분이다.\n",
    "# 원래라면 ! mkdir 명령어를 써야하지만 위에 함수를 통해서 make_dir 함수로 생성하게 된 것이다."
   ]
  },
  {
   "cell_type": "code",
   "execution_count": 39,
   "metadata": {},
   "outputs": [
    {
     "data": {
      "text/plain": [
       "<sqlite3.Cursor at 0x5162f10>"
      ]
     },
     "execution_count": 39,
     "metadata": {},
     "output_type": "execute_result"
    }
   ],
   "source": [
    "import sqlite3\n",
    "\n",
    "# top_cities.db 파일을 열고 연결을 변수에 저장합니다.\n",
    "db_path = './database/top_cities.db'\n",
    "conn = sqlite3.connect(db_path)\n",
    "\n",
    "# 커서를 추출합니다.\n",
    "c = conn.cursor()\n",
    "\n",
    "# execute() 메서드로 SQL 구문을 실행합니다.\n",
    "# 스크립트를 여러 번 사용해도 같은 결과를 출력할 수 있게 cities 테이블이 존재하는 경우 제거합니다.\n",
    "c.execute('DROP TABLE IF EXISTS cities')\n",
    "\n",
    "# cities 테이블을 생성합니다.\n",
    "c.execute('''\n",
    "    CREATE TABLE cities (\n",
    "        rank integer,\n",
    "        city text,\n",
    "        population integer\n",
    "    )\n",
    "''')"
   ]
  },
  {
   "cell_type": "code",
   "execution_count": 40,
   "metadata": {},
   "outputs": [
    {
     "data": {
      "text/plain": [
       "<sqlite3.Cursor at 0x5162f10>"
      ]
     },
     "execution_count": 40,
     "metadata": {},
     "output_type": "execute_result"
    }
   ],
   "source": [
    "# execute() 메서드의 두 번째 매개변수에는 파라미터를 지정할 수 있습니다.\n",
    "# SQL 내부에서 파라미터로 변경할 부분(플레이스홀더)은 ?로 지정합니다.\n",
    "c.execute('INSERT INTO cities VALUES (?, ?, ?)', (1, '상하이', 24150000))"
   ]
  },
  {
   "cell_type": "code",
   "execution_count": 41,
   "metadata": {},
   "outputs": [
    {
     "data": {
      "text/plain": [
       "<sqlite3.Cursor at 0x5162f10>"
      ]
     },
     "execution_count": 41,
     "metadata": {},
     "output_type": "execute_result"
    }
   ],
   "source": [
    "# 파라미터가 딕셔너리일 때는 플레이스홀더를 :<이름> 형태로 지정합니다.\n",
    "c.execute('INSERT INTO cities VALUES (:rank, :city, :population)',\n",
    "          {'rank': 2, 'city': '카라치', 'population': 23500000}) "
   ]
  },
  {
   "cell_type": "code",
   "execution_count": 42,
   "metadata": {},
   "outputs": [
    {
     "data": {
      "text/plain": [
       "<sqlite3.Cursor at 0x5162f10>"
      ]
     },
     "execution_count": 42,
     "metadata": {},
     "output_type": "execute_result"
    }
   ],
   "source": [
    "# executemany() 메서드를 사용하면 여러 개의 파라미터를 리스트로 지정해서\n",
    "# 여러 개(현재 예제에서는 3개)의 SQL 구문을 실행할 수 있습니다.\n",
    "c.executemany('INSERT INTO cities VALUES (:rank, :city, :population)', [\n",
    "    {'rank': 3, 'city': '베이징', 'population': 21516000},\n",
    "    {'rank': 4, 'city': '텐진', 'population': 14722100},\n",
    "    {'rank': 5, 'city': '이스탄불', 'population': 14160467},\n",
    "])"
   ]
  },
  {
   "cell_type": "code",
   "execution_count": 43,
   "metadata": {},
   "outputs": [],
   "source": [
    "# 변경사항을 커밋(저장)합니다.\n",
    "conn.commit()"
   ]
  },
  {
   "cell_type": "code",
   "execution_count": 44,
   "metadata": {},
   "outputs": [
    {
     "name": "stdout",
     "output_type": "stream",
     "text": [
      "(1, '상하이', 24150000)\n",
      "(2, '카라치', 23500000)\n",
      "(3, '베이징', 21516000)\n",
      "(4, '텐진', 14722100)\n",
      "(5, '이스탄불', 14160467)\n"
     ]
    }
   ],
   "source": [
    "# 저장한 데이터를 추출합니다.\n",
    "c.execute('SELECT * FROM cities')\n",
    "\n",
    "# 쿼리의 결과는 fetchall() 메서드로 추출할 수 있습니다.\n",
    "for row in c.fetchall():\n",
    "    # 추출한 데이터를 출력합니다.\n",
    "    print(row)\n",
    "\n",
    "# 연결을 닫습니다.\n",
    "conn.close()"
   ]
  },
  {
   "cell_type": "code",
   "execution_count": 47,
   "metadata": {},
   "outputs": [],
   "source": [
    "# 데이터를 데이타베이스로 만들어서 저장해 놓으면 나중을 위해서도 좋다.\n",
    "# 데이터베이스를 만들 때는 해당하는 값들을 잘 매치해서 만들어 주는 것이다."
   ]
  },
  {
   "cell_type": "markdown",
   "metadata": {},
   "source": [
    "### c2-19_python_scraper\n",
    "> 파이썬으로 스크레이핑하는 프로세스\n",
    "\n",
    "> - 웹 페이지를 추출\n",
    "- 스크레이핑\n",
    "- 데이터를 저장"
   ]
  },
  {
   "cell_type": "markdown",
   "metadata": {},
   "source": [
    "### main( ) 함수에서 차례대로 호출\n",
    "- fetch(url) : 매개변수로 url을 받고 지정한 URL의 웹 페이지를 추출\n",
    "- scrape(html) : 매개변수로 html을 받고, 정규표현식을 사용해 HTML에서 도서 정보를 추출\n",
    "- save(db_path, books) : 매개변수로 books라는 도서 목록을 받고, SQLite 데이터베이스에 저장"
   ]
  },
  {
   "cell_type": "raw",
   "metadata": {},
   "source": [
    "# python_scraper.py \n",
    "\n",
    "import re\n",
    "import sqlite3\n",
    "from urllib.request import urlopen\n",
    "from html import unescape\n",
    "\n",
    "def main():\n",
    "    \"\"\"\n",
    "    메인 처리입니다.\n",
    "    fetch(), scrape(), save() 함수를 호출합니다.\n",
    "    \"\"\"\n",
    "\n",
    "    url = 'http://www.hanbit.co.kr/store/books/full_book_list.html'\n",
    "    db_path = './database/books.db'\n",
    "\n",
    "    html = fetch(url)\n",
    "    books = scrape(html)\n",
    "    save(db_path, books)\n",
    "\n",
    "\n",
    "def fetch(url):\n",
    "    \"\"\"\n",
    "    매개변수로 전달받을 url을 기반으로 웹 페이지를 추출합니다.\n",
    "    웹 페이지의 인코딩 형식은 Content-Type 헤더를 기반으로 알아냅니다.\n",
    "    반환값: str 자료형의 HTML\n",
    "    \"\"\"\n",
    "    f = urlopen(url)\n",
    "\n",
    "    # HTTP 헤더를 기반으로 인코딩 형식을 추출합니다.\n",
    "    encoding = f.info().get_content_charset(failobj=\"utf-8\")\n",
    "\n",
    "    # 추출한 인코딩 형식을 기반으로 문자열을 디코딩합니다.\n",
    "    html = f.read().decode(encoding)\n",
    "    return html\n",
    "\n",
    "\n",
    "def scrape(html):\n",
    "    \"\"\"\n",
    "    매개변수 html로 받은 HTML을 기반으로 정규 표현식을 사용해 도서 정보를 추출합니다.\n",
    "    반환값: 도서(dict) 리스트\n",
    "    \"\"\"\n",
    "    books = []\n",
    "\n",
    "    # re.findall()을 사용해 도서 하나에 해당하는 HTML을 추출합니다.\n",
    "    for partial_html in re.findall(r'<td class=\"left\"><a.*?</td>', html, re.DOTALL):\n",
    "        # 도서의 URL을 추출합니다.\n",
    "        url = re.search(r'<a href=\"(.*?)\">', partial_html).group(1)\n",
    "        url = 'http://www.hanbit.co.kr' + url\n",
    "\n",
    "        # 태그를 제거해서 도서의 제목을 추출합니다.\n",
    "        title = re.sub(r'<.*?>', '', partial_html)\n",
    "        title = unescape(title)\n",
    "        books.append({'url': url, 'title': title})\n",
    "\n",
    "    return books\n",
    "\n",
    "\n",
    "def save(db_path, books):\n",
    "    \"\"\"\n",
    "    매개변수 books로 전달된 도서 목록을 SQLite 데이터베이스에 저장합니다.\n",
    "    데이터베이스의 경로는 매개변수 dp_path로 지정합니다.\n",
    "    반환값: None(없음)\n",
    "    \"\"\"\n",
    "    # 데이터베이스를 열고 연결을 확립합니다.\n",
    "    conn = sqlite3.connect(db_path)\n",
    "\n",
    "    # 커서를 추출합니다.\n",
    "    c = conn.cursor()\n",
    "\n",
    "    # execute() 메서드로 SQL을 실행합니다.\n",
    "    # 스크립트를 여러 번 실행할 수 있으므로 기존의 books 테이블을 제거합니다.\n",
    "    c.execute('DROP TABLE IF EXISTS books')\n",
    "\n",
    "    # books 테이블을 생성합니다.\n",
    "    c.execute('''\n",
    "        CREATE TABLE books (\n",
    "            title text,\n",
    "            url text\n",
    "        )\n",
    "    ''')\n",
    "\n",
    "    # executemany() 메서드를 사용하면 매개변수로 리스트를 지정할 수 있습니다.\n",
    "    c.executemany('INSERT INTO books VALUES (:title, :url)', books)\n",
    "\n",
    "    # 변경사항을 커밋(저장)합니다.\n",
    "    conn.commit()\n",
    "\n",
    "    # 연결을 종료합니다.\n",
    "    conn.close()\n",
    "\n",
    "\n",
    "# python 명령어로 실행한 경우 main() 함수를 호출합니다.\n",
    "# 이는 모듈로써 다른 파일에서 읽어 들였을 때 main() 함수가 호출되지 않게 하는 것입니다.\n",
    "# 파이썬 프로그램의 일반적인 작성 방식입니다.\n",
    "if __name__ == '__main__':\n",
    "    main()"
   ]
  },
  {
   "cell_type": "code",
   "execution_count": 49,
   "metadata": {},
   "outputs": [
    {
     "data": {
      "text/plain": [
       "'modules 디렉토리가 이미 존재합니다!'"
      ]
     },
     "execution_count": 49,
     "metadata": {},
     "output_type": "execute_result"
    }
   ],
   "source": [
    "# ! mkdir modules\n",
    "make_dir('modules')"
   ]
  },
  {
   "cell_type": "code",
   "execution_count": 50,
   "metadata": {},
   "outputs": [
    {
     "name": "stdout",
     "output_type": "stream",
     "text": [
      "Writing ./modules/python_scraper.py\n"
     ]
    }
   ],
   "source": [
    "%%writefile  ./modules/python_scraper.py \n",
    "\n",
    "import re\n",
    "import sqlite3\n",
    "from urllib.request import urlopen\n",
    "from html import unescape\n",
    "\n",
    "def main():\n",
    "    \"\"\"\n",
    "    메인 처리입니다.\n",
    "    fetch(), scrape(), save() 함수를 호출합니다.\n",
    "    \"\"\"\n",
    "    \n",
    "    url = 'http://www.hanbit.co.kr/store/books/full_book_list.html'\n",
    "    db_path = './database/books.db'\n",
    "    \n",
    "    html = fetch(url)\n",
    "    books = scrape(html)\n",
    "    save(db_path, books)\n",
    "\n",
    "\n",
    "def fetch(url):\n",
    "    \"\"\"\n",
    "    매개변수로 전달받을 url을 기반으로 웹 페이지를 추출합니다.\n",
    "    웹 페이지의 인코딩 형식은 Content-Type 헤더를 기반으로 알아냅니다.\n",
    "    반환값: str 자료형의 HTML\n",
    "    \"\"\"\n",
    "    f = urlopen(url)\n",
    "    # HTTP 헤더를 기반으로 인코딩 형식을 추출합니다.\n",
    "    encoding = f.info().get_content_charset(failobj=\"utf-8\")\n",
    "    # 추출한 인코딩 형식을 기반으로 문자열을 디코딩합니다.\n",
    "    html = f.read().decode(encoding)\n",
    "    return html\n",
    "\n",
    "\n",
    "def scrape(html):\n",
    "    \"\"\"\n",
    "    매개변수 html로 받은 HTML을 기반으로 정규 표현식을 사용해 도서 정보를 추출합니다.\n",
    "    반환값: 도서(dict) 리스트\n",
    "    \"\"\"\n",
    "    books = []\n",
    "    # re.findall()을 사용해 도서 하나에 해당하는 HTML을 추출합니다.\n",
    "    for partial_html in re.findall(r'<td class=\"left\"><a.*?</td>', html, re.DOTALL):\n",
    "        # 도서의 URL을 추출합니다.\n",
    "        url = re.search(r'<a href=\"(.*?)\">', partial_html).group(1)\n",
    "        url = 'http://www.hanbit.co.kr' + url\n",
    "        # 태그를 제거해서 도서의 제목을 추출합니다.\n",
    "        title = re.sub(r'<.*?>', '', partial_html)\n",
    "        title = unescape(title)\n",
    "        books.append({'url': url, 'title': title})\n",
    "    \n",
    "    return books\n",
    "\n",
    "\n",
    "def save(db_path, books):\n",
    "    \"\"\"\n",
    "    매개변수 books로 전달된 도서 목록을 SQLite 데이터베이스에 저장합니다.\n",
    "    데이터베이스의 경로는 매개변수 dp_path로 지정합니다.\n",
    "    반환값: None(없음)\n",
    "    \"\"\"\n",
    "    # 데이터베이스를 열고 연결을 확립합니다.\n",
    "    conn = sqlite3.connect(db_path)\n",
    "    \n",
    "    # 커서를 추출합니다.\n",
    "    c = conn.cursor()\n",
    "    \n",
    "    # execute() 메서드로 SQL을 실행합니다.\n",
    "    # 스크립트를 여러 번 실행할 수 있으므로 기존의 books 테이블을 제거합니다.\n",
    "    c.execute('DROP TABLE IF EXISTS books')\n",
    "    \n",
    "    # books 테이블을 생성합니다.\n",
    "    c.execute('''\n",
    "        CREATE TABLE books (\n",
    "            title text,\n",
    "            url text\n",
    "        )\n",
    "    ''')\n",
    "    \n",
    "    # executemany() 메서드를 사용하면 매개변수로 리스트를 지정할 수 있습니다.\n",
    "    c.executemany('INSERT INTO books VALUES (:title, :url)', books)\n",
    "    \n",
    "    # 변경사항을 커밋(저장)합니다.\n",
    "    conn.commit()\n",
    "    \n",
    "    # 연결을 종료합니다.\n",
    "    conn.close()\n",
    "\n",
    "# python 명령어로 실행한 경우 main() 함수를 호출합니다.\n",
    "# 이는 모듈로써 다른 파일에서 읽어 들였을 때 main() 함수가 호출되지 않게 하는 것입니다.\n",
    "# 파이썬 프로그램의 일반적인 작성 방식입니다.\n",
    "if __name__ == '__main__':\n",
    "    main()\n",
    "    "
   ]
  },
  {
   "cell_type": "code",
   "execution_count": 51,
   "metadata": {},
   "outputs": [
    {
     "name": "stdout",
     "output_type": "stream",
     "text": [
      " C 드라이브의 볼륨에는 이름이 없습니다.\n",
      " 볼륨 일련 번호: 3EFF-82E2\n",
      "\n",
      " C:\\Users\\student\\Anaconda_src\\modules 디렉터리\n",
      "\n",
      "my_area.py           my_module.py         my_module1.py\n",
      "my_module2.py        my_module_test1.py   my_module_test2.py\n",
      "my_module_test3.py   python_scraper.py    \n",
      "               8개 파일               4,222 바이트\n",
      "               0개 디렉터리  404,703,809,536 바이트 남음\n"
     ]
    }
   ],
   "source": [
    "! dir/w modules\\*.py"
   ]
  },
  {
   "cell_type": "code",
   "execution_count": 53,
   "metadata": {},
   "outputs": [],
   "source": [
    "# 파이썬 실행1\n",
    "% run modules/python_scraper.py "
   ]
  },
  {
   "cell_type": "code",
   "execution_count": 54,
   "metadata": {},
   "outputs": [],
   "source": [
    "# # 파이썬 실행2\n",
    "! python modules/python_scraper.py "
   ]
  },
  {
   "cell_type": "code",
   "execution_count": 55,
   "metadata": {},
   "outputs": [
    {
     "name": "stdout",
     "output_type": "stream",
     "text": [
      " C 드라이브의 볼륨에는 이름이 없습니다.\n",
      " 볼륨 일련 번호: 3EFF-82E2\n",
      "\n",
      " C:\\Users\\student\\Anaconda_src\\database 디렉터리\n",
      "\n",
      "2018-11-13  오후 02:05    <DIR>          .\n",
      "2018-11-13  오후 02:05    <DIR>          ..\n",
      "2018-11-13  오후 02:05            16,384 books.db\n",
      "2018-11-13  오후 01:43             8,192 top_cities.db\n",
      "               2개 파일              24,576 바이트\n",
      "               2개 디렉터리  404,703,870,976 바이트 남음\n"
     ]
    }
   ],
   "source": [
    "! dir database"
   ]
  },
  {
   "cell_type": "code",
   "execution_count": 56,
   "metadata": {},
   "outputs": [],
   "source": [
    "# ! sqlite3 ./database/books.db"
   ]
  },
  {
   "cell_type": "markdown",
   "metadata": {},
   "source": [
    "## 중요점!!!\n",
    "### 메인 함수에서 다른 함수들을 불러오는 모듈화하는 과정을 잘 이해해서 활용해야 한다!!!!\n",
    "### 클래스와 같은 의미인 것임. 각각의 단계들을 모듈화해서 정리해 놓으면 엄청 편리하다는 것을 알아야 한다!!!\n"
   ]
  },
  {
   "cell_type": "code",
   "execution_count": null,
   "metadata": {},
   "outputs": [],
   "source": []
  }
 ],
 "metadata": {
  "kernelspec": {
   "display_name": "Python 3",
   "language": "python",
   "name": "python3"
  },
  "language_info": {
   "codemirror_mode": {
    "name": "ipython",
    "version": 3
   },
   "file_extension": ".py",
   "mimetype": "text/x-python",
   "name": "python",
   "nbconvert_exporter": "python",
   "pygments_lexer": "ipython3",
   "version": "3.6.5"
  }
 },
 "nbformat": 4,
 "nbformat_minor": 2
}
