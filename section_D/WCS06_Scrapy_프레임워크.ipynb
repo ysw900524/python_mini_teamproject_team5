{
 "cells": [
  {
   "cell_type": "markdown",
   "metadata": {},
   "source": [
    "# Scrapy 프레임워크 \n",
    "\n",
    "> - Scrapy 개요\n",
    "- Spider 만들고 실행하기\n",
    "- 실전적인 크롤링\n",
    "- 추출한 데이터 처리하기\n",
    "- Scrapy 설정\n",
    "- Scrapy 확장하기\n",
    "- 크롤링으로 데이터 수집하고 활용하기\n",
    "- 이미지 수집과 활용"
   ]
  },
  {
   "cell_type": "markdown",
   "metadata": {},
   "source": [
    "## Scrapy 개요 \n",
    "- 파이썬에서 제공하는 크롤링/스크레이핑 프레임워크\n",
    "- Scrapy는 파이썬2에만 지원되었지만, 2016년 5월 배포된 1.1버전부터 파이썬3에도 지원 시작"
   ]
  },
  {
   "cell_type": "code",
   "execution_count": null,
   "metadata": {},
   "outputs": [],
   "source": [
    "! pip install scrapy"
   ]
  },
  {
   "cell_type": "code",
   "execution_count": null,
   "metadata": {},
   "outputs": [],
   "source": [
    "! scrapy version\n"
   ]
  },
  {
   "cell_type": "markdown",
   "metadata": {},
   "source": [
    "**c6-01_myspider.py** \n",
    "> Scrapinghub 블로그에서 글의 타이틀을 추출하는 Spider\n",
    "\n",
    "> - 아래 myspider.py 코드는 Scrapy 사이트에서 제공하는 공식 예제 코드에 주석을 붙인 것이다.\n",
    "- 실행 : scrapy runspider myspider.py -o items.j1"
   ]
  },
  {
   "cell_type": "raw",
   "metadata": {},
   "source": [
    "%%writefile  ./modules/myspider.py\n",
    "import scrapy\n",
    "\n",
    "class BlogSpider(scrapy.Spider):\n",
    "    # spider의 이름\n",
    "    name = 'blogspider'\n",
    "\n",
    "    # 크롤링을 시작할 URL 리스트\n",
    "    start_urls = ['https://blog.scrapinghub.com']\n",
    "\n",
    "    def parse(self, response):\n",
    "        \"\"\"\n",
    "        최상위 페이지에서 카테고리 페이지의 링크를 추출합니다.\n",
    "        \"\"\"\n",
    "        for url in response.css('ul li a::attr(\"href\")').re('.*/category/.*'):\n",
    "            yield scrapy.Request(response.urljoin(url), self.parse_titles)\n",
    "\n",
    "    def parse_titles(self, response):\n",
    "        \"\"\"\n",
    "        카페고리 페이지에서 카테고리 타이틀을 모두 추출합니다.\n",
    "        \"\"\"\n",
    "        for post_title in response.css('div.entries > ul > li a::text').extract():\n",
    "            yield {'title': post_title}"
   ]
  },
  {
   "cell_type": "code",
   "execution_count": null,
   "metadata": {},
   "outputs": [],
   "source": [
    "%%writefile  ./modules/myspider.py\n",
    "import scrapy\n",
    "\n",
    "class BlogSpider(scrapy.Spider):\n",
    "    # spider의 이름\n",
    "    name = 'blogspider'\n",
    "\n",
    "    # 크롤링을 시작할 URL 리스트\n",
    "    start_urls = ['https://blog.scrapinghub.com']\n",
    "\n",
    "    def parse(self, response):\n",
    "        \"\"\"\n",
    "        최상위 페이지에서 카테고리 페이지의 링크를 추출합니다.\n",
    "        \"\"\"\n",
    "        for url in response.css('ul li a::attr(\"href\")').re('.*/category/.*'):\n",
    "            yield scrapy.Request(response.urljoin(url), self.parse_titles)\n",
    "\n",
    "    def parse_titles(self, response):\n",
    "        \"\"\"\n",
    "        카페고리 페이지에서 카테고리 타이틀을 모두 추출합니다.\n",
    "        \"\"\"\n",
    "        for post_title in response.css('div.entries > ul > li a::text').extract():\n",
    "            yield {'title': post_title}\n",
    "            \n",
    "            "
   ]
  },
  {
   "cell_type": "code",
   "execution_count": null,
   "metadata": {},
   "outputs": [],
   "source": [
    "! scrapy runspider ./modules/myspider.py -o ./modules/data/items.jl"
   ]
  },
  {
   "cell_type": "code",
   "execution_count": null,
   "metadata": {},
   "outputs": [],
   "source": [
    "! type .\\modules\\data\\items.jl"
   ]
  },
  {
   "cell_type": "markdown",
   "metadata": {},
   "source": [
    "### yield generator test source"
   ]
  },
  {
   "cell_type": "code",
   "execution_count": null,
   "metadata": {},
   "outputs": [],
   "source": [
    "#python 3 version source\n",
    "#yield generator test source\n",
    "#yield_Basic_Test.py\n",
    " \n",
    "def number_generator(n):\n",
    "    print(\"Function Start\")\n",
    "    while n < 6:\n",
    "        yield  {\"n\" : n}\n",
    "        n += 1\n",
    "    print(\"Function End\")\n",
    "     \n",
    "if __name__ == \"__main__\":\n",
    "    for i in number_generator(0):\n",
    "        print(i)\n",
    "         "
   ]
  },
  {
   "cell_type": "markdown",
   "metadata": {},
   "source": [
    "## Spider 만들고 실행하기 \n",
    "- 타겟사이트 : https://www.engadget.com\n",
    "- 명령어실행 : (base) C:\\ > scrapy startproject myproject\n",
    "- Item만들기"
   ]
  },
  {
   "cell_type": "raw",
   "metadata": {},
   "source": [
    "C:\\> scrapy --help\n",
    "Scrapy 1.5.1 - project: myproject\n",
    "\n",
    "Usage:\n",
    "  scrapy <command> [options] [args]\n",
    "\n",
    "Available commands:\n",
    "  bench         Run quick benchmark test\n",
    "  check         Check spider contracts\n",
    "  crawl         Run a spider\n",
    "  edit          Edit spider\n",
    "  fetch         Fetch a URL using the Scrapy downloader\n",
    "  genspider     Generate new spider using pre-defined templates\n",
    "  list          List available spiders\n",
    "  parse         Parse URL (using its spider) and print the results\n",
    "  runspider     Run a self-contained spider (without creating a project)\n",
    "  settings      Get settings values\n",
    "  shell         Interactive scraping console\n",
    "  startproject  Create new project\n",
    "  version       Print Scrapy version\n",
    "  view          Open URL in browser, as seen by Scrapy\n",
    "\n",
    "Use \"scrapy <command> -h\" to see more info about a command\n",
    "# spider 만들기\n",
    "C:\\> mkdir webcrawler\n",
    "C:\\> cd webcralwer\n",
    "C:\\webcralwer> scrapy startproject myproject\n",
    "C:\\webcralwer> cd myproject\n",
    "C:\\webcralwer\\myproject> tree\n",
    "\n",
    "# pycharm or spyder 로 작업하는게 낫다"
   ]
  },
  {
   "cell_type": "code",
   "execution_count": null,
   "metadata": {},
   "outputs": [],
   "source": [
    "# scrapy.cfg\n",
    "\n",
    "# 페이지 다운로드 간격을 1초로 지정\n",
    "DOWNLOAD_DELAY = 1"
   ]
  },
  {
   "cell_type": "code",
   "execution_count": null,
   "metadata": {},
   "outputs": [],
   "source": [
    "# myproject/items.py\n",
    "import scrapy\n",
    "\n",
    "class Headline(scrapy.Item):\n",
    "    \"\"\"\n",
    "    뉴스 헤드라인을 나타내는 Item 객체\n",
    "    \"\"\"\n",
    "    title = scrapy.Field()\n",
    "    body = scrapy.Field()"
   ]
  },
  {
   "cell_type": "code",
   "execution_count": null,
   "metadata": {},
   "outputs": [],
   "source": [
    "# myproject/spiders/news.py\n",
    "import scrapy\n",
    "\n",
    "class NewsSpider(scrapy.Spider):\n",
    "    name = 'news'\n",
    "    allowed_domains = ['engadget.com']\n",
    "    start_urls = ['http://engadget.com/']\n",
    "\n",
    "    def parse(self, response):\n",
    "        \"\"\"\n",
    "        메인 페이지의 토픽 목록에서 링크를 추출하고 출력합니다.\n",
    "        \"\"\"\n",
    "        link = response.css('a.o-hit__link::attr(\"href\")').extract()\n",
    "        link = filter(lambda x : x != \"#\", link)\n",
    "        link = list(link)\n",
    "        print(link)"
   ]
  },
  {
   "cell_type": "code",
   "execution_count": null,
   "metadata": {},
   "outputs": [],
   "source": [
    "# myproject/spiders/news.py\n",
    "import scrapy\n",
    "\n",
    "\n",
    "class NewsSpider(scrapy.Spider):\n",
    "    name = 'news'\n",
    "    allowed_domains = ['engadget.com']\n",
    "    start_urls = ['http://engadget.com/']\n",
    "\n",
    "    def parse(self, response):\n",
    "        \"\"\"\n",
    "        메인 페이지의 토픽 목록에서 링크를 추출하고 출력합니다.\n",
    "        \"\"\"\n",
    "        link = response.css('a.o-hit__link::attr(\"href\")').extract()\n",
    "        # link = filter(lambda x : x != \"#\", link)\n",
    "        # link = list(link)\n",
    "        # print(link)\n",
    "\n",
    "        for url in link:\n",
    "            # 광고 페이지 제외\n",
    "            if url.find(\"products\") == 1:\n",
    "                continue\n",
    "            # 의미 없는 페이지 제외\n",
    "            if url == \"#\":\n",
    "                continue\n",
    "            # 기사 페이지\n",
    "            yield scrapy.Request(response.urljoin(url), self.parse_topics)\n",
    "\n",
    "    def parse_topics(self, response):\n",
    "        pass"
   ]
  },
  {
   "cell_type": "code",
   "execution_count": null,
   "metadata": {},
   "outputs": [],
   "source": [
    "# -*- coding: utf-8 -*-\n",
    "import scrapy\n",
    "from webcrawler.wc06_2.myproject.items import Headline\n",
    "\n",
    "class NewsSpider(scrapy.Spider):\n",
    "    name = 'news'\n",
    "    allowed_domains = ['engadget.com']\n",
    "    start_urls = ['http://engadget.com/']\n",
    "\n",
    "    def parse(self, response):\n",
    "        \"\"\"\n",
    "        메인 페이지의 토픽 목록에서 링크를 추출하고 출력합니다.\n",
    "        \"\"\"\n",
    "        link = response.css('a.o-hit__link::attr(\"href\")').extract()\n",
    "        # link = filter(lambda x : x != \"#\", link)\n",
    "        # link = list(link)\n",
    "        # print(link)\n",
    "\n",
    "        for url in link:\n",
    "            # 광고 페이지 제외\n",
    "            if url.find(\"products\") == 1:\n",
    "                continue\n",
    "            # 의미 없는 페이지 제외\n",
    "            if url == \"#\":\n",
    "                continue\n",
    "            # 기사 페이지\n",
    "            yield scrapy.Request(response.urljoin(url), self.parse_topics)\n",
    "\n",
    "    def parse_topics(self, response):\n",
    "        pass\n",
    "        item = Headline()\n",
    "        item['title'] = response.css('head title::text').extract_first()\n",
    "        item['body'] = \" \".join(response.css('.o-article_block p')\\\n",
    "            .xpath('string()')\\\n",
    "            .extract())\n",
    "        yield item"
   ]
  },
  {
   "cell_type": "markdown",
   "metadata": {},
   "source": [
    "C:\\webcralwer\\myproject> scrapy shell https://www.engadget.com/2017/08/17/hyundai-shifts-focus-from-fuel-cell-cars-to-evs/"
   ]
  },
  {
   "cell_type": "code",
   "execution_count": null,
   "metadata": {},
   "outputs": [],
   "source": []
  }
 ],
 "metadata": {
  "kernelspec": {
   "display_name": "Python 3",
   "language": "python",
   "name": "python3"
  },
  "language_info": {
   "codemirror_mode": {
    "name": "ipython",
    "version": 3
   },
   "file_extension": ".py",
   "mimetype": "text/x-python",
   "name": "python",
   "nbconvert_exporter": "python",
   "pygments_lexer": "ipython3",
   "version": "3.6.5"
  }
 },
 "nbformat": 4,
 "nbformat_minor": 2
}
